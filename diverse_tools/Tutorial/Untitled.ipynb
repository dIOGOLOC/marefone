{
 "cells": [
  {
   "cell_type": "code",
   "execution_count": 1,
   "id": "b24eaa1c",
   "metadata": {},
   "outputs": [],
   "source": [
    "import pandas as pd "
   ]
  },
  {
   "cell_type": "code",
   "execution_count": 2,
   "id": "e4ff101f",
   "metadata": {},
   "outputs": [],
   "source": [
    "a = pd.read_feather('/run/media/dIOGOLOC/8d2362fc-3b46-49a7-a864-19b2a6ad097b/diogoloc/dados_posdoc/gliders_project/OUTPUT/FEATHER/2019/2019-02-10/pa0002bu_015_190210_222844.feather')\n"
   ]
  },
  {
   "cell_type": "code",
   "execution_count": 3,
   "id": "00f2b84b",
   "metadata": {},
   "outputs": [
    {
     "data": {
      "text/html": [
       "<div>\n",
       "<style scoped>\n",
       "    .dataframe tbody tr th:only-of-type {\n",
       "        vertical-align: middle;\n",
       "    }\n",
       "\n",
       "    .dataframe tbody tr th {\n",
       "        vertical-align: top;\n",
       "    }\n",
       "\n",
       "    .dataframe thead th {\n",
       "        text-align: right;\n",
       "    }\n",
       "</style>\n",
       "<table border=\"1\" class=\"dataframe\">\n",
       "  <thead>\n",
       "    <tr style=\"text-align: right;\">\n",
       "      <th></th>\n",
       "      <th>filename_mseed</th>\n",
       "      <th>Time_interp</th>\n",
       "      <th>depth_interp</th>\n",
       "      <th>latitude_interp</th>\n",
       "      <th>longitude_interp</th>\n",
       "    </tr>\n",
       "  </thead>\n",
       "  <tbody>\n",
       "    <tr>\n",
       "      <th>0</th>\n",
       "      <td>pa0002bu_015_190210_222844.mseed</td>\n",
       "      <td>2019-02-10 22:28:44.000</td>\n",
       "      <td>8.238312</td>\n",
       "      <td>-24.479433</td>\n",
       "      <td>-42.519062</td>\n",
       "    </tr>\n",
       "    <tr>\n",
       "      <th>1</th>\n",
       "      <td>pa0002bu_015_190210_222844.mseed</td>\n",
       "      <td>2019-02-10 22:28:44.010</td>\n",
       "      <td>8.237751</td>\n",
       "      <td>-24.479433</td>\n",
       "      <td>-42.519062</td>\n",
       "    </tr>\n",
       "    <tr>\n",
       "      <th>2</th>\n",
       "      <td>pa0002bu_015_190210_222844.mseed</td>\n",
       "      <td>2019-02-10 22:28:44.020</td>\n",
       "      <td>8.237190</td>\n",
       "      <td>-24.479433</td>\n",
       "      <td>-42.519062</td>\n",
       "    </tr>\n",
       "    <tr>\n",
       "      <th>3</th>\n",
       "      <td>pa0002bu_015_190210_222844.mseed</td>\n",
       "      <td>2019-02-10 22:28:44.030</td>\n",
       "      <td>8.236629</td>\n",
       "      <td>-24.479433</td>\n",
       "      <td>-42.519062</td>\n",
       "    </tr>\n",
       "    <tr>\n",
       "      <th>4</th>\n",
       "      <td>pa0002bu_015_190210_222844.mseed</td>\n",
       "      <td>2019-02-10 22:28:44.040</td>\n",
       "      <td>8.236068</td>\n",
       "      <td>-24.479433</td>\n",
       "      <td>-42.519062</td>\n",
       "    </tr>\n",
       "    <tr>\n",
       "      <th>...</th>\n",
       "      <td>...</td>\n",
       "      <td>...</td>\n",
       "      <td>...</td>\n",
       "      <td>...</td>\n",
       "      <td>...</td>\n",
       "    </tr>\n",
       "    <tr>\n",
       "      <th>15781</th>\n",
       "      <td>pa0002bu_015_190210_222844.mseed</td>\n",
       "      <td>2019-02-10 22:31:21.810</td>\n",
       "      <td>1.464202</td>\n",
       "      <td>-24.479662</td>\n",
       "      <td>-42.519610</td>\n",
       "    </tr>\n",
       "    <tr>\n",
       "      <th>15782</th>\n",
       "      <td>pa0002bu_015_190210_222844.mseed</td>\n",
       "      <td>2019-02-10 22:31:21.820</td>\n",
       "      <td>1.464202</td>\n",
       "      <td>-24.479662</td>\n",
       "      <td>-42.519610</td>\n",
       "    </tr>\n",
       "    <tr>\n",
       "      <th>15783</th>\n",
       "      <td>pa0002bu_015_190210_222844.mseed</td>\n",
       "      <td>2019-02-10 22:31:21.830</td>\n",
       "      <td>1.464202</td>\n",
       "      <td>-24.479662</td>\n",
       "      <td>-42.519610</td>\n",
       "    </tr>\n",
       "    <tr>\n",
       "      <th>15784</th>\n",
       "      <td>pa0002bu_015_190210_222844.mseed</td>\n",
       "      <td>2019-02-10 22:31:21.840</td>\n",
       "      <td>1.464202</td>\n",
       "      <td>-24.479662</td>\n",
       "      <td>-42.519610</td>\n",
       "    </tr>\n",
       "    <tr>\n",
       "      <th>15785</th>\n",
       "      <td>pa0002bu_015_190210_222844.mseed</td>\n",
       "      <td>2019-02-10 22:31:21.850</td>\n",
       "      <td>1.464202</td>\n",
       "      <td>-24.479662</td>\n",
       "      <td>-42.519610</td>\n",
       "    </tr>\n",
       "  </tbody>\n",
       "</table>\n",
       "<p>15786 rows × 5 columns</p>\n",
       "</div>"
      ],
      "text/plain": [
       "                         filename_mseed             Time_interp  depth_interp  \\\n",
       "0      pa0002bu_015_190210_222844.mseed 2019-02-10 22:28:44.000      8.238312   \n",
       "1      pa0002bu_015_190210_222844.mseed 2019-02-10 22:28:44.010      8.237751   \n",
       "2      pa0002bu_015_190210_222844.mseed 2019-02-10 22:28:44.020      8.237190   \n",
       "3      pa0002bu_015_190210_222844.mseed 2019-02-10 22:28:44.030      8.236629   \n",
       "4      pa0002bu_015_190210_222844.mseed 2019-02-10 22:28:44.040      8.236068   \n",
       "...                                 ...                     ...           ...   \n",
       "15781  pa0002bu_015_190210_222844.mseed 2019-02-10 22:31:21.810      1.464202   \n",
       "15782  pa0002bu_015_190210_222844.mseed 2019-02-10 22:31:21.820      1.464202   \n",
       "15783  pa0002bu_015_190210_222844.mseed 2019-02-10 22:31:21.830      1.464202   \n",
       "15784  pa0002bu_015_190210_222844.mseed 2019-02-10 22:31:21.840      1.464202   \n",
       "15785  pa0002bu_015_190210_222844.mseed 2019-02-10 22:31:21.850      1.464202   \n",
       "\n",
       "       latitude_interp  longitude_interp  \n",
       "0           -24.479433        -42.519062  \n",
       "1           -24.479433        -42.519062  \n",
       "2           -24.479433        -42.519062  \n",
       "3           -24.479433        -42.519062  \n",
       "4           -24.479433        -42.519062  \n",
       "...                ...               ...  \n",
       "15781       -24.479662        -42.519610  \n",
       "15782       -24.479662        -42.519610  \n",
       "15783       -24.479662        -42.519610  \n",
       "15784       -24.479662        -42.519610  \n",
       "15785       -24.479662        -42.519610  \n",
       "\n",
       "[15786 rows x 5 columns]"
      ]
     },
     "execution_count": 3,
     "metadata": {},
     "output_type": "execute_result"
    }
   ],
   "source": [
    "a"
   ]
  },
  {
   "cell_type": "code",
   "execution_count": 5,
   "id": "c91e7c82",
   "metadata": {},
   "outputs": [
    {
     "data": {
      "text/plain": [
       "(4.047229182077107, 2.238812878695421)"
      ]
     },
     "execution_count": 5,
     "metadata": {},
     "output_type": "execute_result"
    }
   ],
   "source": [
    "a['depth_interp'].mean(),a['depth_interp'].std()"
   ]
  },
  {
   "cell_type": "code",
   "execution_count": 6,
   "id": "54194815",
   "metadata": {},
   "outputs": [
    {
     "data": {
      "text/plain": [
       "(-24.479575143641757, 7.551499975748941e-05)"
      ]
     },
     "execution_count": 6,
     "metadata": {},
     "output_type": "execute_result"
    }
   ],
   "source": [
    "a['latitude_interp'].mean(),a['latitude_interp'].std()"
   ]
  },
  {
   "cell_type": "code",
   "execution_count": 7,
   "id": "d36aa1e4",
   "metadata": {},
   "outputs": [
    {
     "data": {
      "text/plain": [
       "(-42.51940207690794, 0.0001807354065792052)"
      ]
     },
     "execution_count": 7,
     "metadata": {},
     "output_type": "execute_result"
    }
   ],
   "source": [
    "a['longitude_interp'].mean(),a['longitude_interp'].std()"
   ]
  },
  {
   "cell_type": "code",
   "execution_count": null,
   "id": "dbd79425",
   "metadata": {},
   "outputs": [],
   "source": []
  }
 ],
 "metadata": {
  "kernelspec": {
   "display_name": "Python 3 (ipykernel)",
   "language": "python",
   "name": "python3"
  },
  "language_info": {
   "codemirror_mode": {
    "name": "ipython",
    "version": 3
   },
   "file_extension": ".py",
   "mimetype": "text/x-python",
   "name": "python",
   "nbconvert_exporter": "python",
   "pygments_lexer": "ipython3",
   "version": "3.10.11"
  }
 },
 "nbformat": 4,
 "nbformat_minor": 5
}
