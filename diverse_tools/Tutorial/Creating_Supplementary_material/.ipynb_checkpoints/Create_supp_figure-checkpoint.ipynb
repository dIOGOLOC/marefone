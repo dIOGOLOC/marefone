{
 "cells": [
  {
   "cell_type": "markdown",
   "id": "893f249d-76f3-4367-9762-13e12082d863",
   "metadata": {},
   "source": [
    "# Importing modules:"
   ]
  },
  {
   "cell_type": "code",
   "execution_count": 9,
   "id": "af00ec46-090d-49a0-a9f2-f916126b5282",
   "metadata": {},
   "outputs": [],
   "source": [
    "import obspy\n",
    "import os\n",
    "import glob\n",
    "import numpy as np\n",
    "import pandas as pd\n",
    "import subprocess\n",
    "\n",
    "\n",
    "import time\n",
    "from reportlab.lib.enums import TA_JUSTIFY\n",
    "from reportlab.lib.pagesizes import letter\n",
    "from reportlab.platypus import SimpleDocTemplate, Paragraph, Spacer, Image\n",
    "from reportlab.lib.styles import getSampleStyleSheet, ParagraphStyle\n",
    "from reportlab.lib.units import inch"
   ]
  },
  {
   "cell_type": "markdown",
   "id": "17327795-574b-494c-9711-b83bc0b2a46d",
   "metadata": {},
   "source": [
    "# Importing pandas dataframe and images (results):"
   ]
  },
  {
   "cell_type": "code",
   "execution_count": 10,
   "id": "22b1abed-d5a1-45ef-b608-f7a92f2efa8f",
   "metadata": {},
   "outputs": [],
   "source": [
    "FOLDER_OUTPUT = '/home/sysop/dados_posdoc/GLIDER_PETROBRAS/OUTPUT/'"
   ]
  },
  {
   "cell_type": "code",
   "execution_count": 11,
   "id": "42756e90-6875-41a7-ad5d-89ada60f9b83",
   "metadata": {},
   "outputs": [],
   "source": [
    "images_folder = '/home/sysop/dados_posdoc/GLIDER_PETROBRAS/OUTPUT/FIGURAS/EVENT_MSEED_TELESEISMIC_DETECTION_SELECTED_FINAL/'\n",
    "images_to_plot = glob.glob(images_folder+'*/*/*.png')"
   ]
  },
  {
   "cell_type": "code",
   "execution_count": 12,
   "id": "88b4d6cd-c327-4c6e-b7d4-f2597c1b2516",
   "metadata": {},
   "outputs": [
    {
     "data": {
      "text/plain": [
       "['/home/sysop/dados_posdoc/GLIDER_PETROBRAS/OUTPUT/FIGURAS/EVENT_MSEED_TELESEISMIC_DETECTION_SELECTED_FINAL/ak135/P/event_mseed_detection_ak135_P_2017_06_14_07_29_07_G170E_201706140729A_mag_6.95mw.png',\n",
       " '/home/sysop/dados_posdoc/GLIDER_PETROBRAS/OUTPUT/FIGURAS/EVENT_MSEED_TELESEISMIC_DETECTION_SELECTED_FINAL/ak135/P/event_mseed_detection_ak135_P_2017_04_15_08_19_48_G170B_201704150819A_mag_6.27mw.png',\n",
       " '/home/sysop/dados_posdoc/GLIDER_PETROBRAS/OUTPUT/FIGURAS/EVENT_MSEED_TELESEISMIC_DETECTION_SELECTED_FINAL/ak135/P/event_mseed_detection_ak135_P_2016_11_04_16_20_49_G1607_201611041620A_mag_6.33mw.png',\n",
       " '/home/sysop/dados_posdoc/GLIDER_PETROBRAS/OUTPUT/FIGURAS/EVENT_MSEED_TELESEISMIC_DETECTION_SELECTED_FINAL/ak135/PKP/event_mseed_detection_ak135_PKP_2018_10_13_11_10_26_G180R_201810131110A_mag_6.69mw.png',\n",
       " '/home/sysop/dados_posdoc/GLIDER_PETROBRAS/OUTPUT/FIGURAS/EVENT_MSEED_TELESEISMIC_DETECTION_SELECTED_FINAL/ak135/PKP/event_mseed_detection_ak135_PKP_2019_07_14_09_11_04_G190X_201907140910A_mag_7.19mw.png',\n",
       " '/home/sysop/dados_posdoc/GLIDER_PETROBRAS/OUTPUT/FIGURAS/EVENT_MSEED_TELESEISMIC_DETECTION_SELECTED_FINAL/ak135/PKP/event_mseed_detection_ak135_PKP_2019_07_11_17_08_38_G190X_201907111708A_mag_6.0mw.png',\n",
       " '/home/sysop/dados_posdoc/GLIDER_PETROBRAS/OUTPUT/FIGURAS/EVENT_MSEED_TELESEISMIC_DETECTION_SELECTED_FINAL/ak135/PKP/event_mseed_detection_ak135_PKP_2018_02_25_17_45_08_G180L_201802251744A_mag_7.47mw.png',\n",
       " '/home/sysop/dados_posdoc/GLIDER_PETROBRAS/OUTPUT/FIGURAS/EVENT_MSEED_TELESEISMIC_DETECTION_SELECTED_FINAL/ak135/PKP/event_mseed_detection_ak135_PKP_2020_03_25_02_49_32_G2014_202003250249A_mag_7.48mw.png',\n",
       " '/home/sysop/dados_posdoc/GLIDER_PETROBRAS/OUTPUT/FIGURAS/EVENT_MSEED_TELESEISMIC_DETECTION_SELECTED_FINAL/ak135/PKP/event_mseed_detection_ak135_PKP_2017_01_10_06_13_55_G1608_201701100613A_mag_7.27mw.png',\n",
       " '/home/sysop/dados_posdoc/GLIDER_PETROBRAS/OUTPUT/FIGURAS/EVENT_MSEED_TELESEISMIC_DETECTION_SELECTED_FINAL/ak135/PKP/event_mseed_detection_ak135_PKP_2019_02_17_14_35_58_G190U_201902171435A_mag_6.38mw.png',\n",
       " '/home/sysop/dados_posdoc/GLIDER_PETROBRAS/OUTPUT/FIGURAS/EVENT_MSEED_TELESEISMIC_DETECTION_SELECTED_FINAL/ak135/PKIKP/event_mseed_detection_ak135_PKIKP_2018_02_25_17_45_08_G180L_201802251744A_mag_7.47mw.png',\n",
       " '/home/sysop/dados_posdoc/GLIDER_PETROBRAS/OUTPUT/FIGURAS/EVENT_MSEED_TELESEISMIC_DETECTION_SELECTED_FINAL/ak135/PKIKP/event_mseed_detection_ak135_PKIKP_2020_03_25_02_49_32_G2014_202003250249A_mag_7.48mw.png',\n",
       " '/home/sysop/dados_posdoc/GLIDER_PETROBRAS/OUTPUT/FIGURAS/EVENT_MSEED_TELESEISMIC_DETECTION_SELECTED_FINAL/ak135/PKIKP/event_mseed_detection_ak135_PKIKP_2019_02_17_14_35_58_G190U_201902171435A_mag_6.38mw.png',\n",
       " '/home/sysop/dados_posdoc/GLIDER_PETROBRAS/OUTPUT/FIGURAS/EVENT_MSEED_TELESEISMIC_DETECTION_SELECTED_FINAL/ak135/PKIKP/event_mseed_detection_ak135_PKIKP_2019_07_11_17_08_38_G190X_201907111708A_mag_6.0mw.png',\n",
       " '/home/sysop/dados_posdoc/GLIDER_PETROBRAS/OUTPUT/FIGURAS/EVENT_MSEED_TELESEISMIC_DETECTION_SELECTED_FINAL/ak135/PKIKP/event_mseed_detection_ak135_PKIKP_2019_07_14_09_11_04_G190X_201907140910A_mag_7.19mw.png',\n",
       " '/home/sysop/dados_posdoc/GLIDER_PETROBRAS/OUTPUT/FIGURAS/EVENT_MSEED_TELESEISMIC_DETECTION_SELECTED_FINAL/ak135/PKIKP/event_mseed_detection_ak135_PKIKP_2016_12_08_17_39_00_G1608_201612081738A_mag_7.8mw.png']"
      ]
     },
     "execution_count": 12,
     "metadata": {},
     "output_type": "execute_result"
    }
   ],
   "source": [
    "images_to_plot"
   ]
  },
  {
   "cell_type": "code",
   "execution_count": 13,
   "id": "61c6ce8a-e9f9-4ce3-aeaa-1d81aaf0f170",
   "metadata": {},
   "outputs": [],
   "source": [
    "dataframe_file = '/home/sysop/dados_posdoc/GLIDER_PETROBRAS/OUTPUT/FIGURAS/STATISTICS/table_events_selected.csv'\n",
    "df_events = pd.read_csv(dataframe_file)"
   ]
  },
  {
   "cell_type": "code",
   "execution_count": 14,
   "id": "cacd8ba1-9fa0-448a-8873-3618a991e58b",
   "metadata": {},
   "outputs": [
    {
     "data": {
      "text/plain": [
       "Index(['Unnamed: 0', 'filename_mseed', 'name_glider', 'Phase', 'ev_ID',\n",
       "       'ev_time', 'ev_lat', 'ev_long', 'ev_depth', 'distance', 'magnitude',\n",
       "       'magnitude_type', 'region', 'moment_tensor', 'phases_time',\n",
       "       'time_glider', 'lat_glider', 'lon_glider', 'dep_glider',\n",
       "       'time_dive_info', 'lat_dive_info', 'lon_dive_info', 'depth_dive_info',\n",
       "       'srn_per_band', 'sta_lta_max_per_band', 'noise_per_band',\n",
       "       'automatic_event_detection', 'automatic_time_residual', 'year',\n",
       "       'ev_depth_round'],\n",
       "      dtype='object')"
      ]
     },
     "execution_count": 14,
     "metadata": {},
     "output_type": "execute_result"
    }
   ],
   "source": [
    "df_events.columns"
   ]
  },
  {
   "cell_type": "markdown",
   "id": "db47aa48-cd98-4b7d-b891-cae22bb7c1d1",
   "metadata": {},
   "source": [
    "# Creating PDF files from mosaic results:"
   ]
  },
  {
   "cell_type": "code",
   "execution_count": 17,
   "id": "f5103b49-a9f5-437b-9a97-6c0cffe70111",
   "metadata": {},
   "outputs": [],
   "source": [
    "def create_pdf_figure_mosaic(fig_location,P_label,name_glider,ev_ID,fig_number,event_Date,magnitude, magnitude_type,region):\n",
    "                                                                         \n",
    "    os.makedirs(FOLDER_OUTPUT+'FIGURAS/SUPP_MATERIAL/'+P_label+'/',exist_ok=True)\n",
    "    fig_name_output = FOLDER_OUTPUT+'FIGURAS/SUPP_MATERIAL/'+P_label+'/event_mseed_detection_'+P_label+'_'+event_Date.strftime('%Y_%m_%d_%H_%M_%S')+'_'+name_glider+'_'+ev_ID+'_mag_'+str(magnitude)+magnitude_type+'_S'+str(fig_number)+'.pdf'\n",
    "    print(fig_name_output)                   \n",
    "    doc = SimpleDocTemplate(fig_name_output,pagesize=letter,rightMargin=72,leftMargin=72,topMargin=72,bottomMargin=18)\n",
    "    Story=[]\n",
    "   \n",
    "    im = Image(fig_location, 6*inch, 5*inch)\n",
    "    Story.append(im)\n",
    "    \n",
    "    styles=getSampleStyleSheet()\n",
    "    styles.add(ParagraphStyle(name='Justify', alignment=TA_JUSTIFY))\n",
    "        \n",
    "    Story.append(Spacer(1, 24))\n",
    "    ptext = 'Figure S%s: <b>Waveforms, spectrograms, time series windows centered on the theoretical arrival times, and STA/LTA ratio curves.</b> \\\n",
    "    Mosaic showing the analysis of the magnitude %s %s earthquake (id: %s) that occurred on %s at %s.  \\\n",
    "    Upper panel: Global map showing station-event locations, ray path of the seismic phase, and focal mechanism (colors indicate event depth).  \\\n",
    "    Trajectories of the ocean glider and zoomed-in views at the moment of the record in latitude-longitude and depth-longitude plots.  \\\n",
    "    Lower panel: wide-window waveform filtered (black and grey lines are waveforms filtered below and above 3 Hz, respectively, and the amplitude is presented in digital units) and its spectrogram.  \\\n",
    "    Vertical dashed lines (red/white) and the letter indicate the theoretical arrival time estimated using the ak135f model.  \\\n",
    "    Spectral analysis using five frequency bands centered on the theoretical wave arrival (between -30 and 30 seconds), waveforms, and STA/LTA ratio curves for each band and the raw data.  \\\n",
    "    The red dot indicates the estimated phase arrival based on SNR > 1.5 and STA/LTA ratio > 3 in the last two frequency bands.  \\\n",
    "    The dashed oranges horizontal lines represent the preset lower (1.5) and upper (3) limits for the STA/LTA ratio trigger, and the orange dot is the maximum value.' % (fig_number,magnitude,magnitude_type,ev_ID,event_Date.strftime(\"%B %d, %Y, at %H:%M:%S\"),region.title())\n",
    "    \n",
    "    Story.append(Paragraph(ptext, styles[\"Justify\"]))\n",
    "    Story.append(Spacer(1, 12))\n",
    "    \n",
    "    doc.build(Story)"
   ]
  },
  {
   "cell_type": "code",
   "execution_count": 18,
   "id": "03619bed-134e-4327-a5ab-e367773f4fd9",
   "metadata": {},
   "outputs": [
    {
     "name": "stdout",
     "output_type": "stream",
     "text": [
      "/home/sysop/dados_posdoc/GLIDER_PETROBRAS/OUTPUT/FIGURAS/SUPP_MATERIAL/P/event_mseed_detection_P_2017_06_14_07_29_07_G170E_201706140729A_mag_6.95mw_S9.pdf\n",
      "/home/sysop/dados_posdoc/GLIDER_PETROBRAS/OUTPUT/FIGURAS/SUPP_MATERIAL/P/event_mseed_detection_P_2017_04_15_08_19_48_G170B_201704150819A_mag_6.27mw_S10.pdf\n",
      "/home/sysop/dados_posdoc/GLIDER_PETROBRAS/OUTPUT/FIGURAS/SUPP_MATERIAL/P/event_mseed_detection_P_2016_11_04_16_20_49_G1607_201611041620A_mag_6.33mw_S11.pdf\n",
      "/home/sysop/dados_posdoc/GLIDER_PETROBRAS/OUTPUT/FIGURAS/SUPP_MATERIAL/PKP/event_mseed_detection_PKP_2018_10_13_11_10_26_G180R_201810131110A_mag_6.69mw_S12.pdf\n",
      "/home/sysop/dados_posdoc/GLIDER_PETROBRAS/OUTPUT/FIGURAS/SUPP_MATERIAL/PKP/event_mseed_detection_PKP_2019_07_14_09_11_04_G190X_201907140910A_mag_7.19mw_S13.pdf\n",
      "/home/sysop/dados_posdoc/GLIDER_PETROBRAS/OUTPUT/FIGURAS/SUPP_MATERIAL/PKP/event_mseed_detection_PKP_2019_07_11_17_08_38_G190X_201907111708A_mag_6.0mw_S14.pdf\n",
      "/home/sysop/dados_posdoc/GLIDER_PETROBRAS/OUTPUT/FIGURAS/SUPP_MATERIAL/PKP/event_mseed_detection_PKP_2018_02_25_17_45_08_G180L_201802251744A_mag_7.47mw_S15.pdf\n",
      "/home/sysop/dados_posdoc/GLIDER_PETROBRAS/OUTPUT/FIGURAS/SUPP_MATERIAL/PKP/event_mseed_detection_PKP_2020_03_25_02_49_32_G2014_202003250249A_mag_7.48mw_S16.pdf\n",
      "/home/sysop/dados_posdoc/GLIDER_PETROBRAS/OUTPUT/FIGURAS/SUPP_MATERIAL/PKP/event_mseed_detection_PKP_2017_01_10_06_13_55_G1608_201701100613A_mag_7.27mw_S17.pdf\n",
      "/home/sysop/dados_posdoc/GLIDER_PETROBRAS/OUTPUT/FIGURAS/SUPP_MATERIAL/PKP/event_mseed_detection_PKP_2019_02_17_14_35_58_G190U_201902171435A_mag_6.38mw_S18.pdf\n",
      "/home/sysop/dados_posdoc/GLIDER_PETROBRAS/OUTPUT/FIGURAS/SUPP_MATERIAL/PKIKP/event_mseed_detection_PKIKP_2018_02_25_17_45_08_G180L_201802251744A_mag_7.47mw_S19.pdf\n",
      "/home/sysop/dados_posdoc/GLIDER_PETROBRAS/OUTPUT/FIGURAS/SUPP_MATERIAL/PKIKP/event_mseed_detection_PKIKP_2020_03_25_02_49_32_G2014_202003250249A_mag_7.48mw_S20.pdf\n",
      "/home/sysop/dados_posdoc/GLIDER_PETROBRAS/OUTPUT/FIGURAS/SUPP_MATERIAL/PKIKP/event_mseed_detection_PKIKP_2019_02_17_14_35_58_G190U_201902171435A_mag_6.38mw_S21.pdf\n",
      "/home/sysop/dados_posdoc/GLIDER_PETROBRAS/OUTPUT/FIGURAS/SUPP_MATERIAL/PKIKP/event_mseed_detection_PKIKP_2019_07_11_17_08_38_G190X_201907111708A_mag_6.0mw_S22.pdf\n",
      "/home/sysop/dados_posdoc/GLIDER_PETROBRAS/OUTPUT/FIGURAS/SUPP_MATERIAL/PKIKP/event_mseed_detection_PKIKP_2019_07_14_09_11_04_G190X_201907140910A_mag_7.19mw_S23.pdf\n",
      "/home/sysop/dados_posdoc/GLIDER_PETROBRAS/OUTPUT/FIGURAS/SUPP_MATERIAL/PKIKP/event_mseed_detection_PKIKP_2016_12_08_17_39_00_G1608_201612081738A_mag_7.8mw_S24.pdf\n"
     ]
    }
   ],
   "source": [
    "for id,ev in enumerate(df_events.iterrows()):\n",
    "    \n",
    "    fig_location = glob.glob(images_folder+'*/*/*'+ev[1]['ev_ID']+'*')[0]\n",
    "\n",
    "    create_pdf_figure_mosaic(fig_location,ev[1]['Phase'],ev[1]['name_glider'],ev[1]['ev_ID'],id+9,obspy.UTCDateTime(ev[1]['ev_time']),ev[1]['magnitude'],ev[1]['magnitude_type'],ev[1]['region'])"
   ]
  },
  {
   "cell_type": "markdown",
   "id": "4f08ca22-852b-42c3-9511-484a254936cd",
   "metadata": {},
   "source": [
    "# Creating PDF files from comparison results:"
   ]
  },
  {
   "cell_type": "code",
   "execution_count": 20,
   "id": "e101e56f-8e3e-4ac3-a426-2443aee80d69",
   "metadata": {},
   "outputs": [],
   "source": [
    "images_comparison_folder = '/home/sysop/dados_posdoc/GLIDER_PETROBRAS/OUTPUT/EVENTS/FIGURES/REGIONAL/'\n",
    "images_to_plot = glob.glob(images_comparison_folder+'*.png')"
   ]
  },
  {
   "cell_type": "code",
   "execution_count": 21,
   "id": "c6346980-7ef1-4c8c-a25c-808f864c0d61",
   "metadata": {},
   "outputs": [],
   "source": [
    "def create_pdf_figure_comparison(fig_location,P_label,name_glider,ev_ID,fig_number,event_Date,magnitude, magnitude_type,region):\n",
    "                                                                         \n",
    "    os.makedirs(FOLDER_OUTPUT+'FIGURAS/SUPP_MATERIAL_COMPARISON/'+P_label+'/',exist_ok=True)\n",
    "    fig_name_output = FOLDER_OUTPUT+'FIGURAS/SUPP_MATERIAL_COMPARISON/'+P_label+'/event_mseed_comparison_'+P_label+'_'+event_Date.strftime('%Y_%m_%d_%H_%M_%S')+'_'+name_glider+'_'+ev_ID+'_mag_'+str(magnitude)+magnitude_type+'_S'+str(fig_number)+'.pdf'\n",
    "    doc = SimpleDocTemplate(fig_name_output,pagesize=letter,rightMargin=72,leftMargin=72,topMargin=72,bottomMargin=18)\n",
    "    Story=[]\n",
    "   \n",
    "    im = Image(fig_location, 4*inch, 8*inch)\n",
    "    Story.append(im)\n",
    "    \n",
    "    styles=getSampleStyleSheet()\n",
    "    styles.add(ParagraphStyle(name='Justify', alignment=TA_JUSTIFY))\n",
    "        \n",
    "    #Story.append(Spacer(1, 12))\n",
    "    if P_label == 'P':\n",
    "        ptext = 'Figure S%s: <b>Comparison of waveforms between ocean gliders and RSBR inland stations.</b> \\\n",
    "                Comparison of waveforms from the glider (black line) and the Brazilian Seismographic Network stations (grey lines) \\\n",
    "                for the magnitude %s %s earthquake (id: %s) on %s UTC  at %s. The waveforms were filtered using a bandpass filter between 0.7 and 2 Hz. \\\n",
    "                Theoretical travel times of P waves according to the ak135f model (land station) and modified ak135f model (glider) are indicated by \\\n",
    "                red circles.' % (fig_number,magnitude,magnitude_type,ev_ID,event_Date.strftime(\"%B %d, %Y, at %H:%M:%S\"),region.title())\n",
    "\n",
    "    else:\n",
    "        ptext = 'Figure S%s: <b>Comparison of waveforms between ocean gliders and RSBR inland stations.</b> \\\n",
    "                Comparison of waveforms from the glider (black line) and the Brazilian Seismographic Network stations (grey lines) \\                for the magnitude %s %s earthquake (id: %s) on %s UTC  at %s. The waveforms were filtered using a bandpass filter between 0.7 and 2 Hz. \\\n",
    "                Theoretical travel times of P waves according to the ak135f model (land station) and modified ak135f model (glider) are indicated by \\\n",
    "                red circles (PKIKP) and orange circles (PKP).' % (fig_number,magnitude,magnitude_type,ev_ID,event_Date.strftime(\"%B %d, %Y, at %H:%M:%S\"),region.title())\n",
    "\n",
    "    Story.append(Paragraph(ptext, styles[\"Justify\"]))\n",
    "    Story.append(Spacer(1, 12))\n",
    "    \n",
    "    doc.build(Story)"
   ]
  },
  {
   "cell_type": "code",
   "execution_count": 22,
   "id": "49146897-505c-479d-ab66-62da50404917",
   "metadata": {},
   "outputs": [
    {
     "name": "stdout",
     "output_type": "stream",
     "text": [
      "/home/sysop/dados_posdoc/GLIDER_PETROBRAS/OUTPUT/EVENTS/FIGURES/REGIONAL/event_mseed_2017-06-14T07:29:04_201706140729A.png\n",
      "/home/sysop/dados_posdoc/GLIDER_PETROBRAS/OUTPUT/FIGURAS/SUPP_MATERIAL_COMPARISON/P/event_mseed_comparison_P_2017_06_14_07_29_07_G170E_201706140729A_mag_6.95mw_S25.pdf\n",
      "/home/sysop/dados_posdoc/GLIDER_PETROBRAS/OUTPUT/EVENTS/FIGURES/REGIONAL/event_mseed_2017-04-15T08:19:43_201704150819A.png\n",
      "/home/sysop/dados_posdoc/GLIDER_PETROBRAS/OUTPUT/FIGURAS/SUPP_MATERIAL_COMPARISON/P/event_mseed_comparison_P_2017_04_15_08_19_48_G170B_201704150819A_mag_6.27mw_S26.pdf\n",
      "/home/sysop/dados_posdoc/GLIDER_PETROBRAS/OUTPUT/EVENTS/FIGURES/REGIONAL/event_mseed_2016-12-08T17:39:00_201611041620A.png\n",
      "/home/sysop/dados_posdoc/GLIDER_PETROBRAS/OUTPUT/FIGURAS/SUPP_MATERIAL_COMPARISON/P/event_mseed_comparison_P_2016_11_04_16_20_49_G1607_201611041620A_mag_6.33mw_S27.pdf\n",
      "/home/sysop/dados_posdoc/GLIDER_PETROBRAS/OUTPUT/EVENTS/FIGURES/REGIONAL/event_mseed_2018-10-13T11:10:26_201810131110A.png\n",
      "/home/sysop/dados_posdoc/GLIDER_PETROBRAS/OUTPUT/FIGURAS/SUPP_MATERIAL_COMPARISON/PKP/event_mseed_comparison_PKP_2018_10_13_11_10_26_G180R_201810131110A_mag_6.69mw_S28.pdf\n",
      "/home/sysop/dados_posdoc/GLIDER_PETROBRAS/OUTPUT/EVENTS/FIGURES/REGIONAL/event_mseed_2019-07-14T09:11:04_201907140910A.png\n",
      "/home/sysop/dados_posdoc/GLIDER_PETROBRAS/OUTPUT/FIGURAS/SUPP_MATERIAL_COMPARISON/PKP/event_mseed_comparison_PKP_2019_07_14_09_11_04_G190X_201907140910A_mag_7.19mw_S29.pdf\n",
      "/home/sysop/dados_posdoc/GLIDER_PETROBRAS/OUTPUT/EVENTS/FIGURES/REGIONAL/event_mseed_2016-12-08T17:39:00_201907111708A.png\n",
      "/home/sysop/dados_posdoc/GLIDER_PETROBRAS/OUTPUT/FIGURAS/SUPP_MATERIAL_COMPARISON/PKP/event_mseed_comparison_PKP_2019_07_11_17_08_38_G190X_201907111708A_mag_6.0mw_S30.pdf\n",
      "/home/sysop/dados_posdoc/GLIDER_PETROBRAS/OUTPUT/EVENTS/FIGURES/REGIONAL/event_mseed_2016-12-08T17:39:00_201802251744A.png\n",
      "/home/sysop/dados_posdoc/GLIDER_PETROBRAS/OUTPUT/FIGURAS/SUPP_MATERIAL_COMPARISON/PKP/event_mseed_comparison_PKP_2018_02_25_17_45_08_G180L_201802251744A_mag_7.47mw_S31.pdf\n",
      "/home/sysop/dados_posdoc/GLIDER_PETROBRAS/OUTPUT/EVENTS/FIGURES/REGIONAL/event_mseed_2020-03-25T02:49:21_202003250249A.png\n",
      "/home/sysop/dados_posdoc/GLIDER_PETROBRAS/OUTPUT/FIGURAS/SUPP_MATERIAL_COMPARISON/PKP/event_mseed_comparison_PKP_2020_03_25_02_49_32_G2014_202003250249A_mag_7.48mw_S32.pdf\n",
      "/home/sysop/dados_posdoc/GLIDER_PETROBRAS/OUTPUT/EVENTS/FIGURES/REGIONAL/event_mseed_2017-01-10T06:13:55_201701100613A.png\n",
      "/home/sysop/dados_posdoc/GLIDER_PETROBRAS/OUTPUT/FIGURAS/SUPP_MATERIAL_COMPARISON/PKP/event_mseed_comparison_PKP_2017_01_10_06_13_55_G1608_201701100613A_mag_7.27mw_S33.pdf\n",
      "/home/sysop/dados_posdoc/GLIDER_PETROBRAS/OUTPUT/EVENTS/FIGURES/REGIONAL/event_mseed_2019-02-17T14:35:58_201902171435A.png\n",
      "/home/sysop/dados_posdoc/GLIDER_PETROBRAS/OUTPUT/FIGURAS/SUPP_MATERIAL_COMPARISON/PKP/event_mseed_comparison_PKP_2019_02_17_14_35_58_G190U_201902171435A_mag_6.38mw_S34.pdf\n",
      "/home/sysop/dados_posdoc/GLIDER_PETROBRAS/OUTPUT/EVENTS/FIGURES/REGIONAL/event_mseed_2016-12-08T17:39:00_201802251744A.png\n",
      "/home/sysop/dados_posdoc/GLIDER_PETROBRAS/OUTPUT/FIGURAS/SUPP_MATERIAL_COMPARISON/PKIKP/event_mseed_comparison_PKIKP_2018_02_25_17_45_08_G180L_201802251744A_mag_7.47mw_S35.pdf\n",
      "/home/sysop/dados_posdoc/GLIDER_PETROBRAS/OUTPUT/EVENTS/FIGURES/REGIONAL/event_mseed_2020-03-25T02:49:21_202003250249A.png\n",
      "/home/sysop/dados_posdoc/GLIDER_PETROBRAS/OUTPUT/FIGURAS/SUPP_MATERIAL_COMPARISON/PKIKP/event_mseed_comparison_PKIKP_2020_03_25_02_49_32_G2014_202003250249A_mag_7.48mw_S36.pdf\n",
      "/home/sysop/dados_posdoc/GLIDER_PETROBRAS/OUTPUT/EVENTS/FIGURES/REGIONAL/event_mseed_2019-02-17T14:35:58_201902171435A.png\n",
      "/home/sysop/dados_posdoc/GLIDER_PETROBRAS/OUTPUT/FIGURAS/SUPP_MATERIAL_COMPARISON/PKIKP/event_mseed_comparison_PKIKP_2019_02_17_14_35_58_G190U_201902171435A_mag_6.38mw_S37.pdf\n",
      "/home/sysop/dados_posdoc/GLIDER_PETROBRAS/OUTPUT/EVENTS/FIGURES/REGIONAL/event_mseed_2016-12-08T17:39:00_201907111708A.png\n",
      "/home/sysop/dados_posdoc/GLIDER_PETROBRAS/OUTPUT/FIGURAS/SUPP_MATERIAL_COMPARISON/PKIKP/event_mseed_comparison_PKIKP_2019_07_11_17_08_38_G190X_201907111708A_mag_6.0mw_S38.pdf\n",
      "/home/sysop/dados_posdoc/GLIDER_PETROBRAS/OUTPUT/EVENTS/FIGURES/REGIONAL/event_mseed_2019-07-14T09:11:04_201907140910A.png\n",
      "/home/sysop/dados_posdoc/GLIDER_PETROBRAS/OUTPUT/FIGURAS/SUPP_MATERIAL_COMPARISON/PKIKP/event_mseed_comparison_PKIKP_2019_07_14_09_11_04_G190X_201907140910A_mag_7.19mw_S39.pdf\n",
      "/home/sysop/dados_posdoc/GLIDER_PETROBRAS/OUTPUT/EVENTS/FIGURES/REGIONAL/event_mseed_2016-12-08T17:38:46_201612081738A.png\n",
      "/home/sysop/dados_posdoc/GLIDER_PETROBRAS/OUTPUT/FIGURAS/SUPP_MATERIAL_COMPARISON/PKIKP/event_mseed_comparison_PKIKP_2016_12_08_17_39_00_G1608_201612081738A_mag_7.8mw_S40.pdf\n"
     ]
    }
   ],
   "source": [
    "for id,ev in enumerate(df_events.iterrows()):\n",
    "    \n",
    "    fig_location = glob.glob('/home/sysop/dados_posdoc/GLIDER_PETROBRAS/OUTPUT/EVENTS/FIGURES/REGIONAL/'+'*'+ev[1]['ev_ID']+'*')[0]\n",
    "    print(fig_location)\n",
    "    create_pdf_figure_comparison(fig_location,ev[1]['Phase'],ev[1]['name_glider'],ev[1]['ev_ID'],id+25,obspy.UTCDateTime(ev[1]['ev_time']),ev[1]['magnitude'],ev[1]['magnitude_type'],ev[1]['region'])"
   ]
  },
  {
   "cell_type": "code",
   "execution_count": null,
   "id": "b5e3e52c-2c9b-4e48-8c2e-2ee2fdef8a35",
   "metadata": {},
   "outputs": [],
   "source": []
  }
 ],
 "metadata": {
  "kernelspec": {
   "display_name": "Python 3 (ipykernel)",
   "language": "python",
   "name": "python3"
  },
  "language_info": {
   "codemirror_mode": {
    "name": "ipython",
    "version": 3
   },
   "file_extension": ".py",
   "mimetype": "text/x-python",
   "name": "python",
   "nbconvert_exporter": "python",
   "pygments_lexer": "ipython3",
   "version": "3.11.6"
  }
 },
 "nbformat": 4,
 "nbformat_minor": 5
}
