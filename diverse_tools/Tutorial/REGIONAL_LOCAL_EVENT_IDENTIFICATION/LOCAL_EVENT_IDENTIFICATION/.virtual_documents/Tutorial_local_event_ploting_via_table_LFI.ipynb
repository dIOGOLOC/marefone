


import obspy
from obspy.taup import TauPyModel

from multiprocessing import Pool
from obspy import read,UTCDateTime,Trace,read_inventory,read_events
from obspy.io.sac.sactrace import SACTrace
from obspy.imaging.beachball import beachball,beach
from obspy.clients.fdsn import Client
from obspy.signal.trigger import recursive_sta_lta

import os
import glob
import numpy as np
from collections import defaultdict
import pandas as pd
from scipy import signal
import subprocess
from sklearn import preprocessing
import geopy.distance


#para plotar as figuras
import matplotlib as mpl
import matplotlib.pyplot as plt
from matplotlib.transforms import offset_copy
import matplotlib.ticker as ticker
from mpl_toolkits.axes_grid1 import make_axes_locatable
from matplotlib.colors import ListedColormap
import matplotlib.dates as mdates
from mpl_toolkits.axes_grid1.inset_locator import inset_axes
import matplotlib.cm as cm
from matplotlib.dates import YearLocator, MonthLocator, DayLocator, HourLocator, MinuteLocator, SecondLocator, DateFormatter
from matplotlib.ticker import MultipleLocator, FormatStrFormatter,FixedLocator,StrMethodFormatter
import matplotlib.patches as mpatches
import matplotlib.colors as mcolors
import matplotlib.gridspec as gridspec

from datetime import datetime,timedelta,date
from tqdm import tqdm

from shapely.geometry.polygon import LinearRing
from matplotlib.patches import Rectangle

import cartopy.io.shapereader as shpreader
import cartopy.crs as ccrs
import cartopy.feature as cfeature
from cartopy.mpl.ticker import LongitudeFormatter,LatitudeFormatter
import requests
import csv
import xml.etree.ElementTree as ET





FOLDER_OUTPUT = '/media/sysop/14f7ead0-5dcb-4557-a139-55dbb404d11a/diogoloc/dados_posdoc/Gliders_DATA/OUTPUT/LFI/'
MSEED_INPUT = "/media/sysop/14f7ead0-5dcb-4557-a139-55dbb404d11a/diogoloc/dados_posdoc/Gliders_DATA/DATA_GLIDER_2024/"
LOCAL_EVENTS_TABLE = "/media/sysop/14f7ead0-5dcb-4557-a139-55dbb404d11a/diogoloc/dados_posdoc/Gliders_DATA/event_files/terremotos_costa_SE.csv"
XML_FILE = '/media/sysop/14f7ead0-5dcb-4557-a139-55dbb404d11a/diogoloc/dados_posdoc/Gliders_DATA/XML/glider_nettab_per_dive.xml'
QUAKEXML_FOLDER = '/media/sysop/14f7ead0-5dcb-4557-a139-55dbb404d11a/diogoloc/dados_posdoc/Gliders_DATA/OUTPUT/EVENTS/'
METADATA_FILE_MSEED = '/media/sysop/14f7ead0-5dcb-4557-a139-55dbb404d11a/diogoloc/dados_posdoc/Gliders_DATA/METADATA/df_LFI_dataframe_mseed_final.feather'
METADATA_FILE = '/media/sysop/14f7ead0-5dcb-4557-a139-55dbb404d11a/diogoloc/dados_posdoc/Gliders_DATA/NETTAB/df_LFI_nettab_adj.txt'
MODEL_CAKE = '/media/sysop/14f7ead0-5dcb-4557-a139-55dbb404d11a/diogoloc/dados_posdoc/Gliders_DATA/EARTH_MODEL_AREA/model_ak135f_SOFAR.nd'
RSBR_STATIONS = '/media/sysop/14f7ead0-5dcb-4557-a139-55dbb404d11a/diogoloc/dados_posdoc/Gliders_DATA/STA_COORD/estacoes_RSBR_costa.txt'

#FOLDER_OUTPUT = '/home/sysop/dados_posdoc/GLIDER_PETROBRAS/OUTPUT/'
#MSEED_INPUT = "/home/sysop/dados_posdoc/GLIDER_PETROBRAS/DATA/"
#METADATA_FILE = '/home/sysop/dados_posdoc/GLIDER_PETROBRAS/data_glider_information_csv/metadados_glider_acustico_pmpas-bs.csv'
#QUAKEXML_FOLDER = '/home/sysop/dados_posdoc/GLIDER_PETROBRAS/OUTPUT/EVENTS/'
#MODEL_CAKE = '/home/sysop/dados_posdoc/GLIDER_PETROBRAS/EARTH_MODEL_AREA/model_ak135_SOFAR.nd'
#SBR_STATIONS = '/home/sysop/dados_posdoc/GLIDER_PETROBRAS/STA_COORD/estacoes_RSBR_costa.txt'
#LOCAL_EVENTS_TABLE = "/home/sysop/dados_posdoc/GLIDER_PETROBRAS/TERREMOTOS_SISBRA_2022/sisbra_costa.csv"





filenames_MSEED = sorted(glob.glob(MSEED_INPUT+'*/*/*/*/LF.*'))


len(filenames_MSEED)


def mseed_data_2_dataframe(i):
    subdir, filename_wav = os.path.split(i)
    filename = filename_wav.split('.mseed')[0]

    st = read(i,headonly=True)   
    #----------------------------
    #Starting Dataframe

    starttime = st[0].stats.starttime.datetime
    endtime = st[-1].stats.endtime.datetime
    
    df = pd.DataFrame([[filename],[starttime],[endtime]], index=['filename','starttime','endtime']).T
    
    #Ending Dataframe
    #----------------------------
    return df


pandas_mseed_lst = []

with Pool(processes=4) as p:
    max_ = len(filenames_MSEED)
    with tqdm(total=max_) as pbar:
        for result in p.imap_unordered(mseed_data_2_dataframe,filenames_MSEED):
            pbar.update()
            pandas_mseed_lst.append(result)


dataframe_mseed_final = pd.concat(pandas_mseed_lst, ignore_index=True)


dataframe_mseed_final['starttime'] = pd.to_datetime(dataframe_mseed_final.starttime)
dataframe_mseed_final['endtime'] = pd.to_datetime(dataframe_mseed_final.endtime)
dataframe_mseed_final['date'] = pd.to_datetime(dataframe_mseed_final.starttime).dt.date
dataframe_mseed_final.sort_values('date')


dataframe_mseed_final = pd.read_feather(METADATA_FILE_MSEED)


dataframe_mseed_final





dataframe_LFI = pd.read_csv(METADATA_FILE, sep=" ", header=None, names=['Sl','Code','Notes','Datalogger','Senso','Channels','Orientation','Latitude','Longitude','Elevation','Depth','Start','End'])


dataframe_LFI


dataframe_LFI['Start'] = pd.to_datetime(dataframe_LFI.Start, format='%Y/%j')
dataframe_LFI['End'] = pd.to_datetime(dataframe_LFI.End, format='%Y/%j')
dataframe_LFI['time'] = pd.to_datetime(dataframe_LFI['Start']).dt.date
dataframe_LFI['name_LFI'] = dataframe_LFI['Code'].str[:2]


dataframe_LFI = dataframe_LFI.rename(columns={"Code": "station","Latitude": "lat", "Longitude": "lon", "Depth": "dep"})





events = pd.read_csv(LOCAL_EVENTS_TABLE,sep=',')

print("Found %s event(s)" % len(events))


events


# Use isna() and loc[] for filtering
#filtered_data = events.loc[(events['year'].notna()) & (events['mm'].notna()) & (events['dd'].notna()) & (events['hh'].notna()) & (events['min'].notna()) & (events['ss.s'].notna())]
filtered_data = events.loc[(events['year'].notna()) & (events['mm'].notna()) & (events['dd'].notna()) & (events['hh'].notna()) & (events['min'].notna()) & (events['ss.s'].notna()) & (events['latit'].notna()) & (events['longit'].notna())]


filtered_data['time'] = filtered_data.apply(lambda row: UTCDateTime(row['year'],row['mm'],row['dd'],row['hh'],row['min'],row['ss.s']), axis=1)


events = filtered_data





RSBR_LOC = np.genfromtxt(RSBR_STATIONS,skip_header=1,delimiter=';',dtype='str')
kstnm = np.genfromtxt(RSBR_STATIONS,skip_header=1,delimiter=';',dtype='str',usecols=1)
stla = np.genfromtxt(RSBR_STATIONS,skip_header=1,delimiter=';',dtype='float',usecols=2)
stlo = np.genfromtxt(RSBR_STATIONS,skip_header=1,delimiter=';',dtype='float',usecols=3)
stel = np.genfromtxt(RSBR_STATIONS,skip_header=1,delimiter=';',dtype='float',usecols=4)


# Create a figure
# set up the plot and create a GeoAxes:
proj = ccrs.PlateCarree()
fig, ax = plt.subplots(1, 1,figsize=(20,10), subplot_kw=dict(projection=proj))

# ----------------------------------------------------------------------------------------------------------
# Limit the extent of the map to a small longitude/latitude range.
latmin=-30
latmax=-20
lonmin=-50
lonmax=-40

ax.set_extent([lonmin,lonmax, latmin, latmax], crs=ccrs.Geodetic())

# ----------------------------------------------------------------------------------------------------------
# Ploting lat/lon values

h = ax.scatter(dataframe_LFI['lon'],dataframe_LFI['lat'],c=np.array([mdates.date2num(i) for i in dataframe_LFI['time']]),marker='.',alpha=0.5,cmap='plasma',s=200,transform=proj)
ax.scatter(dataframe_LFI['lon'],dataframe_LFI['lat'],c='none',marker='.',ec='k',s=200,transform=proj)
ax.scatter(stlo,stla,c='k',marker='^',ec='w',s=70,transform=proj)

# Use the cartopy interface to create a matplotlib transform object
# for the Geodetic coordinate system. We will use this along with
# matplotlib's offset_copy function to define a coordinate system which
# translates the text by 25 pixels to the left.
geodetic_transform = ccrs.Geodetic()._as_mpl_transform(ax)
text_transform = offset_copy(geodetic_transform, units='dots', x=0,y=10)

for lo,la,name in zip(dataframe_LFI['lon'],dataframe_LFI['lat'],dataframe_LFI['name_LFI']):
    if lo < lonmax and lo > lonmin and la > latmin and la < latmax:
        ax.text(lo,la,s=name, verticalalignment='center', horizontalalignment='center',alpha=0.5,transform=text_transform)

for lo,la,name in zip(stlo,stla,kstnm):
    if lo < lonmax and lo > lonmin and la > latmin and la < latmax:
        ax.text(lo,la,s=name, verticalalignment='center', horizontalalignment='center',alpha=0.5,transform=text_transform)
  



# Ploting lat/lon glider events
e = ax.scatter(events['longit'],events['latit'],c=np.array([mdates.date2num(obspy.UTCDateTime(i).datetime) for i in events['time']]),marker='*',alpha=0.75,cmap='plasma',edgecolor='k',s=events['mag']**4,transform=proj)
# ----------------------------------------------------------------------------------------------------------
# produce a legend with a cross-section of sizes from the scatter
kw_s = dict(prop="sizes", num=6, fmt="{x:.1f}",
          func=lambda s: s**(1/4))
legend1 = ax.legend(*e.legend_elements(**kw_s),
                    loc="lower right", title="Magnitude")

# ----------------------------------------------------------------------------------------------------------
# Adding background map 
ax.add_feature(cfeature.LAND)
ax.add_feature(cfeature.OCEAN)
ax.add_feature(cfeature.COASTLINE,linewidth=0.3)
ax.add_feature(cfeature.BORDERS, linestyle=':',linewidth=0.3)
ax.gridlines(crs=ccrs.PlateCarree(), draw_labels=True,linewidth=1, color='gray', alpha=0.5, linestyle='--')

# ----------------------------------------------------------------------------------------------------------
# Adding colorbar
divider = make_axes_locatable(ax)
ax_cb = divider.new_horizontal(size="1%", pad=0.6, axes_class=plt.Axes)

fig.add_axes(ax_cb)
cb = plt.colorbar(h, cax=ax_cb)
cb.ax.yaxis.set_major_formatter(mdates.DateFormatter('%d/%m/%y'))

#####################################################
# Adding inset axes LEFT
#####################################################

# ----------------------------------------------------------------------------------------------------------
# Adding global location map
# Adding Geoaxes
ax_map = plt.axes([0.2, 0.8, 0.2, 0.2], projection=ccrs.Orthographic(central_latitude=(latmin + latmax)/2,central_longitude=(lonmin + lonmax) / 2))
ax_map.set_global()

# Adding background map 
ax_map.add_feature(cfeature.LAND)
ax_map.add_feature(cfeature.OCEAN)
ax_map.add_feature(cfeature.COASTLINE)

# Adding red rectangle position
nvert = 100
lons = np.r_[np.linspace(lonmin, lonmin, nvert),
             np.linspace(lonmin, lonmax, nvert),
             np.linspace(lonmax, lonmax, nvert)].tolist()
lats = np.r_[np.linspace(latmin, latmax, nvert),
             np.linspace(latmax, latmax, nvert),
             np.linspace(latmax, latmin, nvert)].tolist()

ring = LinearRing(list(zip(lons, lats)))
ax_map.add_geometries([ring], ccrs.PlateCarree(),
                   facecolor='none', edgecolor='red', linewidth=0.75)






def nearest_date(collum,pivot):
    '''
    To find a closest date
    '''
    min_id = (collum - pivot).abs().idxmin()

    return min_id


# Função de filtro para a condição especificada
def condition(lst):
    valid_last_elements = [True, False]
    return (lst[0] == False and 
            lst[1] == False and 
            lst[2] == False and 
            (lst[3] in valid_last_elements and lst[4] == True or lst[3] == True and lst[4] in valid_last_elements))


def event_search(inpt,CUT_BEFORE=-120,CUT_AFTER=300,FREQ_CFT=3,STA_short=2,LTA_short=30,THRON=3,THROFF=1.5,SNR_MIN=1.5,event_cut_sta_lta_band=30,nl_start=8,nl_end=22,sl_start=7,sl_end=7,time_sta_lta_ls=10,model_earth='ak135'):
    try:
        '''
        Function to search and plot events
        
        CUT_BEFORE:
        CUT_AFTER:,
        FREQ_CFT:,
        STA_short:,
        LTA_short,
        THRON:,
        event_cut_sta_lta_band:,
        nl_start:, 
        nl_end:,
        sl_start:,
        sl_end:,
        model_earth:
        ''' 

        ev_file = inpt[0]
        seismic_phase = inpt[1]
        station_name = inpt[2] 

        df_LFI = dataframe_LFI[dataframe_LFI['station'] == station_name]
        df_LFI_mseed = dataframe_mseed_final[dataframe_mseed_final['station'] == station_name]
        
        # =========================================
        # CODE
        
        # Setting: Global font size
        mpl.rcParams.update({'font.size': 12})

        # -------------------------------------------------------------------------------------
        # Event catalog (https://docs.obspy.org/packages/autogen/obspy.core.event.Catalog.html)
        # -------------------------------------------------------------------------------------

        ev = ev_file
        
        ev_time = ev_file['time']
        ev_lat = ev_file.latit
        ev_long = ev_file.longit
        ev_depth = ev_file.depth

        if ev_depth == 0:
            ev_depth = 10
            ev_mag =  ev_file.mag
            
        # #####################################################################   
        # Initial stage: Is there an mseed file available for event time window 
        # #####################################################################   
        
        ev_time_d = ev_time.date # To ensure that a value is a datetime object in pandas

        # ++++++++++++++++++++++++++++++++++++++++++++++++++++++++++++++++++++++++++++++++++++++++++++++++++++++++++++++++++++++++++++++
        # Location information: Is there location data for the glider on the selected event time window (until 1 hour after event time)?
        # ++++++++++++++++++++++++++++++++++++++++++++++++++++++++++++++++++++++++++++++++++++++++++++++++++++++++++++++++++++++++++++++

        inv_LFI_day = df_LFI[(df_LFI['Start'].dt.date < ev_time_d) & (df_LFI['End'].dt.date > ev_time_d)]
        
        if len(inv_LFI_day) > 0:

                #yes
                lat_LFI = inv_LFI_day.lat.values[0]
                lon_LFI = inv_LFI_day.lon.values[0]
                dep_LFI = inv_LFI_day.Elevation.values[0]/1000

                # -----------------------------------------------------------------
                # Estimation: distance, azimuth and backazimuth (https://docs.obspy.org/packages/autogen/obspy.geodetics.base.gps2dist_azimuth.html)

                dist,az,baz = obspy.geodetics.gps2dist_azimuth(ev_lat,ev_long,lat_LFI,lon_LFI)
                gcarc = obspy.geodetics.kilometer2degrees(dist/1000)

                # -----------------------------------------------------------------
                # Estimation: arrival time by CAKE (https://pyrocko.org/docs/current/apps/cake/index.html)
                # Cake is a command line tool contained in Pyrocko, which can solve some classical seismic ray theory problems for 1D layered earth models (layer cake models).
                    
                command = 'cake arrivals --model='+MODEL_CAKE+' --sdepth='+str(ev_depth)+' --rdepth='+str(np.abs(dep_glider)/1000)+' --distances='+str(dist/1000)+" --phases='p(seafloor)p,s(seafloor)p,s(seafloor)p^Pv(seafloor)p^Pv(seafloor)p^Pv(seafloor)p^Pv(seafloor)p^Pv(seafloor)p^Pv(seafloor)p^Pv(seafloor)p^Pv(seafloor)p^Pv(seafloor)p^Pv(seafloor)p^Pv(seafloor)p^Pv(seafloor)p^P\\'"
                
                proc = subprocess.Popen(command, stdout=subprocess.PIPE, shell=True,text=True)
                (out, err) = proc.communicate()
                results = out.splitlines()

                dep_LFI = -dep_LFI*1000    
            
                # ############################################################################ #
                # Cake: expected result for first arrival (P, PKIKP, PKP):
                    
                # slow    dist  time   take inci effi spre phase             used
                # s/km    km    s      deg  deg  %    %
                # ----------------------------------------------------------------------------
                # 0.09711 10.00 2.3147  128 10.6 58.7  103 p                 (p)
                # ############################################################################ #

                # Is there an arrival time for this specific seismic phase?
                if len(results) > 3:
                    # yes

                    event = ev_time+float(results[3].split(' ')[2])
                    time_LFI = event
                    P_label = seismic_phase

                    file_mseed_event = df_LFI_mseed[(df_LFI_mseed.date == event.date)]
                
                    if len(file_mseed_event) > 0:
                            
                        ev_file_mseed = file_mseed_event['filename'].tolist()[0]
                        file_mseed_ev = sorted(glob.glob(MSEED_INPUT+'*/*/*/*/'+ev_file_mseed+'*'))[0]

                        # Cut all traces of this Stream object to given start (event date+CUT_BEFORE) and end time (event date+CUT_AFTER).
                        stream_mseed = read(file_mseed_ev,starttime=event+CUT_BEFORE,endtime=event+CUT_AFTER)
                        stream_mseed.merge(method=1,fill_value='interpolate')
                        stream_mseed.filter('highpass', freq=1)

                        # +++++++++++++++ #
                        # +++++++++++++++ #
                        # Event detection #
                        # +++++++++++++++ #
                        # +++++++++++++++ #
                        
                        # Cut all traces of this Stream object around first wave arrival (event date-event_cut_sta_lta_band) and end time (event date+event_cut_sta_lta_band).
                        stream_mseed_around_P_wave_arrival = stream_mseed.copy()

                        if len(stream_mseed_around_P_wave_arrival.trim(event-event_cut_sta_lta_band,event+event_cut_sta_lta_band)) > 0:
                             # yes
                                
                            # +++++++++++++++++++++++++++++++++++++++++++++++++++++++++++++++++++++++++++++++++++++++++++++++++++++++++++++++++++++++++++++++++++++++++++++++++++++++++++++++++++++++++++++++++++++++++++++++++++++++++++++++++++++++++++++++++++++++++++++++++++++++++++++++++++++++++++++++++++++++++++++++++++++++++++++++++++++++++++++++++++++++++++++++++++++++++++++++++++++
                            # Saving: sac file trace (starttime: event+CUT_BEFORE & endtime: event+CUT_AFTER)
                                    
                            headerHHH = {
                                        'kstnm': station_name, 'kcmpnm': 'HHH','knetwk':'LF',
                                        'stla': float(lat_LFI), 'stlo': float(lon_LFI),'stel': float(dep_LFI),
                                        'evdp': float(ev_depth), 'evla': float(ev_lat), 'evlo': float(ev_long), 'mag': float(ev_mag),
                                        'nzhour': int(stream_mseed[0].stats.starttime.hour),'nzjday': int(stream_mseed[0].stats.starttime.julday), 'nzmin': int(stream_mseed[0].stats.starttime.minute), 'nzmsec': int('{:03}'.format(stream_mseed[0].stats.starttime.microsecond)[:3]),'nzsec': int(stream_mseed[0].stats.starttime.second),'nzyear': int(stream_mseed[0].stats.starttime.year),
                                        'cmpaz': 0.0, 'cmpinc': 0.0, 'dist': float(dist/1000), 'gcarc': float(gcarc), 'az': float(az), 'baz': float(baz),
                                        'o':float(results[3].split(' ')[2]),'delta':stream_mseed[0].stats.delta
                                        }
                                    
                            sacHHH = SACTrace(data=stream_mseed[0].data, **headerHHH)
        
                            # Creating glider output directory:
                            output_sac_data = FOLDER_OUTPUT+'EVENTS_LFI/'+'LF'+'/'+station_name+'/'+'{:04}'.format(ev_time.year)+'/'+'{:03}'.format(ev_time.julday)+'/'+'{:04}'.format(ev_time.year)+'.'+'{:03}'.format(ev_time.julday)+'.'+'{:02}'.format(ev_time.hour)+'.'+'{:02}'.format(ev_time.minute)+'.'+'{:02}'.format(ev_time.second)+'.'+'{:02}'.format(ev_time.microsecond)[:3]+'/'
                            os.makedirs(output_sac_data,exist_ok=True)
                            sacHHH.write(output_sac_data+'LF'+'.'+station_name+'.'+'{:04}'.format(ev_time.year)+'.'+'{:03}'.format(ev_time.julday)+'.'+'{:02}'.format(ev_time.hour)+'.'+'{:02}'.format(ev_time.minute)+'.'+'{:02}'.format(ev_time.second)+'.'+'{:02}'.format(ev_time.microsecond)[:3]+'.H')
                                    
                            # +++++++++++++++++++++++++++++++++++++++++++++++++++++++++++++++++++++++++++++++++++++++++++++++++++++++++++++++++++++++++++++++++++++++++++++++++++++++++++++++++++++++++++++++++++++++++++++++++++++++++++++++++++++++++++++++++++++++++++++++++++++++++++++++++++++++++++++++++++++++++++++++++++++++++++++++++++++++++++++++++++++++++++++++++++++++++++++++++++++

                            # Analysing the event (plotting and estimating parameters) 
                                    
                            # ----------------------------------------------------------------------------------------------------------
                            # set up the plot and create a GeoAxes:
                            # ----------------------------------------------------------------------------------------------------------
  
                            proj = ccrs.PlateCarree()
        
                            fig = plt.figure(constrained_layout=True,figsize=(20,15))
                                    
                            spec2 = gridspec.GridSpec(ncols=3, nrows=9, figure=fig)
                            ax = fig.add_subplot(spec2[0:3,:], projection=proj)
                            ax1 = fig.add_subplot(spec2[3:6,0])
                            ax2 = fig.add_subplot(spec2[6:9,0],sharex=ax1)
        
                            # ----------------------------------------------------------------------------------------------------------
                            # Limit the extent of the map to a small longitude/latitude range (Southeast Brazil region)
                            # ----------------------------------------------------------------------------------------------------------
        
                            latmin=-28.5
                            latmax=-22.5
                            lonmin=-50
                            lonmax=-40
        
                            ax.set_extent([lonmin,lonmax, latmin, latmax], crs=ccrs.Geodetic())
                            
         
                            h = ax.scatter(dataframe_LFI['lon'],dataframe_LFI['lat'],c=np.array([mdates.date2num(i) for i in dataframe_LFI['time']]),marker='o',alpha=0.75,cmap='plasma',s=25,transform=proj)
                            ax.scatter(lon_LFI, lat_LFI, color='r',marker='o',s=100,ec='k',transform=proj)
        
                            ax.scatter(stlo,stla,c='k',marker='^',ec='w',s=70,transform=proj)
                                    
                            # Use the Cartopy interface to create a Matplotlib transform object
                            # for the Geodetic coordinate system. We will use this along with
                            # Matplotlib's offset_copy function to define a coordinate system
                            # that translates the text 10 pixels upward.
                                    
                            geodetic_transform = ccrs.Geodetic()._as_mpl_transform(ax)
                            text_transform = offset_copy(geodetic_transform, units='dots', x=0,y=10)


                            # LFI stations:
                            for lo,la,name in zip(dataframe_LFI['lon'],dataframe_LFI['lat'],dataframe_LFI['name_LFI']):
                                if lo < lonmax and lo > lonmin and la > latmin and la < latmax:
                                    ax.text(lo,la,s=name, verticalalignment='center', horizontalalignment='center',alpha=0.5,transform=text_transform)
                            
                            # inland stations:
                            for lo,la,name in zip(stlo,stla,kstnm):
                                if lo < lonmax and lo > lonmin and la > latmin and la < latmax:
                                    ax.text(lo,la,s=name, verticalalignment='center', horizontalalignment='center',alpha=0.5,transform=text_transform)
                                    
                            # ---------------------
                            # Adding background map 
                                    
                            ax.add_feature(cfeature.LAND)
                            ax.add_feature(cfeature.OCEAN)
                            ax.add_feature(cfeature.COASTLINE,linewidth=0.3)
                            ax.add_feature(cfeature.BORDERS, linestyle=':',linewidth=0.3)
                            ax.gridlines(crs=ccrs.PlateCarree(), draw_labels=True,linewidth=1, color='gray', alpha=0.5, linestyle='--')
        
                            # Title
                            ax.set_title(ev_time.strftime('%Y-%m-%dT%H:%M:%S')+'\n Dist: '+str(round(dist/1000))+' km'+' Dep: '+str(round(ev_depth))+' km'+'\n Mag: '+str(ev_mag)+' mR'+'\n ',y=1.02,fontsize=20)
        
                            # ----------------
                            # Adding colorbar
        
                            divider = make_axes_locatable(ax)
                            ax_cb = divider.new_horizontal(size="1%", pad=0.6, axes_class=plt.Axes)
        
                            fig.add_axes(ax_cb)
                            cb = plt.colorbar(h, cax=ax_cb)
                            cb.ax.yaxis.set_major_formatter(mdates.DateFormatter('%b-%Y'))
        
                            # ================================
                            # Adding inset: LATITUDE-LONGITUDE
                            # ================================
        
                            axins = plt.axes([0.8, 0.70, 0.15, 0.15],projection=proj)
                            axins.scatter(lon_LFI, lat_LFI, c=np.array(mdates.date2num(time_LFI)),marker='o',vmax=max([mdates.date2num(i) for i in df_LFI_mseed['starttime']]),vmin=min([mdates.date2num(i) for i in df_LFI_mseed['starttime']]),alpha=0.75,cmap='plasma',s=100,transform=proj)
                            axins.scatter(lon_LFI, lat_LFI, c="none",marker='o',s=100,ec='k',lw=2,transform=proj)
                            axins.set_title("Lat: "+str(round(lat_LFI,2))+'$^\circ$ | '+"Lon: "+str(round(lon_LFI,2))+'$^\circ$',fontsize=13)

                            # ---------------------
                            # Adding background map 
                                    
                            axins.add_feature(cfeature.LAND)
                            axins.add_feature(cfeature.OCEAN)
                            axins.add_feature(cfeature.COASTLINE,linewidth=0.3)
                            axins.add_feature(cfeature.BORDERS, linestyle=':',linewidth=0.3)
        
                            # ----------------------------------------------------------------------------------------------------------
                            # Adding grid
        
                            axins.gridlines(crs=ccrs.PlateCarree(), draw_labels=["bottom", "left", "right"],linewidth=0.5, color='gray', alpha=0.5, linestyle='--')
                            axins.tick_params(axis='both',which="both",bottom=True, top=True, left=True, right=True,labelbottom=True, labeltop=False, labelleft=True, labelright=True)

                            # --------------------------------
                            # subregion of the original image 
                                    
                            x1 = lon_LFI-abs(lon_LFI/25)
                            x2 = lon_LFI+abs(lon_LFI/25)
                            y1 = lat_LFI-abs(lat_LFI/25)
                            y2 = lat_LFI+abs(lat_LFI/25)
                            axins.set_xlim(x1, x2)
                            axins.set_ylim(y1, y2)
                            ax.indicate_inset_zoom(axins, edgecolor="black")
        
                            # =============================
                            # Adding inset: DEPTH-LONGITUDE
                            # =============================
        
                            ax_histx = plt.axes([0.8, 0.86, 0.15, 0.05],sharex=axins,facecolor='lightsteelblue')
                            ax_histx.scatter(lon_LFI,dep_LFI, c=np.array(mdates.date2num(time_LFI)),marker='o',vmax=max([mdates.date2num(i) for i in df_LFI_mseed['starttime']]),vmin=min([mdates.date2num(i) for i in df_LFI_mseed['starttime']]),alpha=0.5,cmap='plasma',s=100)
                            ax_histx.scatter(lon_LFI,dep_LFI, c="none",marker='o',ec='k',lw=2,s=100)
                            ax_histx.grid(linewidth=0.5, color='gray', alpha=0.5, linestyle='--')
                            ax_histx.set_title("Depth: "+str(round(dep_LFI))+' m',fontsize=13)
                            ax_histx.tick_params(axis='both',which="both",bottom=True, top=True, left=True, right=True,labelbottom=False, labeltop=False, labelleft=True, labelright=True)
                            ax_histx.set_ylim(-1000,0)
                            ax_histx.yaxis.set_major_formatter('{x} m')
                            ax_histx.yaxis.set_major_locator(MultipleLocator(500))
                            ax_histx.yaxis.set_minor_locator(MultipleLocator(100))
        
                            # ==========================
                            # Adding global location map
                            # ==========================
                                    
                            # --------------
                            # Adding Geoaxes
                                    
                            ax_map = plt.axes([0.25, 0.85, 0.13, 0.13], projection=ccrs.Orthographic(central_latitude=(latmin + latmax)/2,central_longitude=(lonmin + lonmax) / 2))
                            ax_map.set_global()

                            # ---------------------
                            # Adding background map 

                            ax_map.add_feature(cfeature.LAND)
                            ax_map.add_feature(cfeature.OCEAN)
                            ax_map.add_feature(cfeature.COASTLINE)

                            # -----------------------------
                            # Adding red rectangle position
                                    
                            nvert = 100
                            lons = np.r_[np.linspace(lonmin, lonmin, nvert),np.linspace(lonmin, lonmax, nvert),np.linspace(lonmax, lonmax, nvert)].tolist()
                            lats = np.r_[np.linspace(latmin, latmax, nvert),np.linspace(latmax, latmax, nvert),np.linspace(latmax, latmin, nvert)].tolist()
        
                            ring = LinearRing(list(zip(lons, lats)))
                                    
                            # ------------------------------------------------------------------
                            # Plotting: rectangle position and event-station (path and location)
                                    
                            ax_map.add_geometries([ring], ccrs.PlateCarree(),facecolor='none', edgecolor='red', linewidth=0.75)
                            ax_map.scatter(ev_long,ev_lat,color="y",marker='*',s=200,ec='k',transform=ccrs.PlateCarree())
                            ax_map.scatter(lon_LFI,lat_LFI,color="r",marker='^',s=50,transform=ccrs.PlateCarree())
                            ax_map.plot([lon_LFI, ev_long], [lat_LFI, ev_lat], c='gray',ls='-',lw=2, transform=ccrs.Geodetic())
        
                            # ===========================================================================================
                            # Adding a trace plot (high (st_HF) and low (st_LF) frequency filtered data in the same axes)
                            # ===========================================================================================

                            # -----------------
                            # Duplicating axes:
                                    
                            ax1_HF = ax1.twinx()

                            # ---------------------
                            # Retrieving trace data
                            
                            st_LF = stream_mseed.copy()
                            st_HF = stream_mseed.copy()

                            # ---------------------------------------------------
                            # Computing & Plotting: High frequency lowpassed data
                                    
                            for tr in st_HF:
                                        tr.detrend("linear")
                                        tr.taper(max_percentage=0.1, type='cosine')
                                        tr.filter('highpass', freq=FREQ_CFT, corners=4, zerophase=True)
                                        line_HF, = ax1_HF.plot(tr.times('matplotlib'), tr.data,'grey', lw=2,alpha=0.5,label='> '+str(FREQ_CFT)+' Hz')
                            ax1_HF.legend(handles=[line_HF],loc='lower right', fontsize=10, edgecolor='grey', labelcolor='grey')   

                            # --------------------------------------------------
                            # Computing & Plotting: Low frequency lowpassed data
                                    
                            for tr in st_LF:
                                        tr.detrend("linear")
                                        tr.taper(max_percentage=0.1, type='cosine')
                                        tr.filter('lowpass', freq=FREQ_CFT, corners=4, zerophase=True)
                                        #tr.detrend("polynomial",order=2)
                                        line_LF, = ax1.plot(tr.times('matplotlib'), tr.data,'k', lw=1, label='< '+str(FREQ_CFT)+' Hz')
                            ax1.legend(handles=[line_LF],loc='lower left', fontsize=10, edgecolor='k', labelcolor='k')

                            # ---------------------------------------------
                            # Plotting: First wave arrival (line and label)
                                    
                            ax1.text(x=event.matplotlib_date,y=np.max(st_LF[0].data)+abs(np.max(st_LF[0].data)/50),s=P_label,ha="center", va="center",bbox=dict(boxstyle="round",ec=(1., 0.5, 0.5),fc=(1., 0.8, 0.8)))
                            ax1.axvline(x=event.matplotlib_date,ymin=0, ymax=1, color='r',linestyle='--')

                            # -------------------------
                            # Plotting: axes parameters 
                                    
                            ax1.set_ylabel('Amplitude [units]')
                            ax1.set_ylim(-1.5*abs(np.max(st_LF[0].data)),1.5*abs(np.max(st_LF[0].data)))
                            ax1.set_xlim(st_LF[0].times('matplotlib')[0],st_LF[0].times('matplotlib')[-1])
                                    
                            # DateLocator: interval 30 sec
                            locator = mdates.SecondLocator(interval=30)
                            ax1.xaxis.set_major_locator(locator)
                            locatormin = mdates.SecondLocator(interval=10)
                            ax1.xaxis.set_minor_locator(locatormin)
                                    
                            # DateFormatter: interval 30 sec
                            formatter = mdates.DateFormatter('%H:%M:%S')
                            ax1.xaxis.set_major_formatter(formatter)
                            
                            ax1.set_title('Station: '+station_name)
        
                            ax1_HF.set_ylim(-1.5*abs(np.max(st_HF[0].data)),1.5*abs(np.max(st_HF[0].data)))
                            ax1_HF.set_xlim(st_HF[0].times('matplotlib')[0],st_HF[0].times('matplotlib')[-1])
                            
                            ax1.tick_params(axis='both',which="both",bottom=True, top=True, left=True, right=False,labelbottom=False, labeltop=False, labelleft=True, labelright=False)
                            ax1_HF.tick_params(axis='both',which="both",bottom=False, top=False, left=False, right=True,labelbottom=False, labeltop=False, labelleft=False, labelright=True,labelcolor='grey')
     
                            ax1.spines['top'].set_linewidth(2)
                            ax1.spines['right'].set_linewidth(2)
                            ax1.spines['bottom'].set_linewidth(2)
                            ax1.spines['left'].set_linewidth(2)
                            ax1.xaxis.set_tick_params(width=2)
                            ax1.yaxis.set_tick_params(width=2)      
                                    
                            # ============================================================================================================================================
                            # Adding spectrogram plot [Power spectral density] (https://docs.scipy.org/doc/scipy-1.13.1/reference/generated/scipy.signal.spectrogram.html)
                            # ============================================================================================================================================

                            # -----------------------------------------------------------
                            # Computing: Spectrogram with consecutive Fourier transforms 

                            fs = stream_mseed[0].stats.sampling_rate  # Sampling rate (samples per second)
                            signal_data = stream_mseed[0].data

                            # ---------------------------------------------------------------------
                            # Spectrogram (Power spectral ‘density’ where Sxx has units of V**2/Hz)
                                    
                            frequencies, times, Sxx = signal.spectrogram(x=signal_data, fs=fs,nperseg=128,scaling='density')

                            # -------------------------------------------------------------------------------------------------------------------
                            # Plotting: Spectrogram (https://matplotlib.org/stable/gallery/images_contours_and_fields/interpolation_methods.html)
                                    
                            im = ax2.imshow(10 * np.log10(Sxx),extent=[st_HF[0].times('matplotlib')[0],st_HF[0].times('matplotlib')[-1], 1, fs/2],aspect='auto',origin='lower',cmap='magma',interpolation='kaiser',vmin=50,vmax=150)

                            # -------------------------
                            # Plotting: axes parameters 

                            ax2.tick_params(axis='both',which="both",bottom=True, top=True, left=True, right=True,labelbottom=True, labeltop=False, labelleft=True, labelright=True)
                            ax2.xaxis.set_major_locator(locator)
                            ax2.xaxis.set_minor_locator(locatormin)
                            ax2.xaxis.set_major_formatter(formatter)
                            ax2.spines['top'].set_linewidth(2)
                            ax2.spines['right'].set_linewidth(2)
                            ax2.spines['bottom'].set_linewidth(2)
                            ax2.spines['left'].set_linewidth(2)
                            ax2.xaxis.set_tick_params(width=2)
                            ax2.yaxis.set_tick_params(width=2)  
                            ax2.set_ylabel('Frequency [Hz]')

                            # ---------------------------------------------
                            # Plotting: First wave arrival (line and label)
                                                                        
                            ax2.text(x=event.matplotlib_date,y=45,s=P_label,ha="center", va="center",bbox=dict(boxstyle="round",ec=(1., 0.5, 0.5),fc=(1., 0.8, 0.8)))
                            ax2.axvline(x=event.matplotlib_date,ymin=0, ymax=1, color='w',linestyle='--')
        
                            # ----------------------------------------------------------------------------------------------
                            # Plotting: Colorbar (https://matplotlib.org/stable/api/_as_gen/matplotlib.pyplot.colorbar.html)
        
                            ax_cbar = inset_axes(ax2,
                                                                width="20%",  # width = 15% of parent_bbox width
                                                                height="3%",  # height : 3%
                                                                loc='upper right',
                                                                bbox_to_anchor=(-0.1, -0.1, 1, 1),
                                                                bbox_transform=ax2.transAxes,
                                                                borderpad=0.1
                                                                )

                            cbar = fig.colorbar(im, cax=ax_cbar, orientation="horizontal")
                            cbar.ax.xaxis.set_ticks_position('top')
                            cbar.ax.xaxis.set_label_position('bottom')
                            cbar.set_label('PSD (dB unit²/Hz)')
                            cbar.outline.set_linewidth(2)
             
                            # ===========================================================
                            # Figure
                            # ===========================================================
    
                            filter_class = [['Raw Data'],[25,50],[10,25],[5,10],[2,5],[1,2]]
        
                            mins2 = MultipleLocator(10)
                            mins1 = MultipleLocator(5)
        
                            check_SNR_STA_LTA = []                             
                            srn_per_band_lst = []                             
                            sta_lta_max_per_band_lst = []                             
                            noise_per_band_lst = []
    
                            for idx,freqs in enumerate(filter_class):
        
                                axs1 = fig.add_subplot(spec2[3+idx,1]) 
                                
                                axs2 = fig.add_subplot(spec2[3+idx,2])
                                        
                                st_full = stream_mseed.copy()
                                st_full.trim(event-event_cut_sta_lta_band,event+event_cut_sta_lta_band)
                                        
                                time_x_axis = st_full[0].times() - event_cut_sta_lta_band
                                st_full[0].data = preprocessing.normalize([st_full[0].data])[0]
                                        
                                # --------------
                                # first axes
                                        
                                if idx == 0:
                                            
                                    st_full.detrend("linear")
                                    st_full.taper(max_percentage=0.1, type='cosine')
                                            
                                    line_full, = axs1.plot(time_x_axis, st_full[0].data,'k', lw=0.5,label=freqs[0])
                                    axs1.legend(handles=[line_full],loc='upper left', fontsize=10, edgecolor='k', labelcolor='k')   
                                    axs1.axvline(x=0,ymin=0, ymax=1, color='k',lw=0.5,linestyle='--')
                                    axs1.set_xlim(-event_cut_sta_lta_band,event_cut_sta_lta_band)
                                    axs1.xaxis.set_major_locator(mins2)
                                    axs1.xaxis.set_minor_locator(mins1)
                                    axs1.set_title('Time relative to theoretical arrival (s)')
        
                                    # ----------------------------------------------------------------------------------------------------------
                                    # SNR P-wave
                                    # ----------------------------------------------------------------------------------------------------------

                                    # --------------------------------------------------------------------
                                    # Retrieving the P-wave normalized amplitude between -x and +x seconds

                                    amp_P = st_full[0].data[(event_cut_sta_lta_band-sl_start)*100:(event_cut_sta_lta_band+sl_end)*100]
                                    amp_P_time = st_full[0].times()[(event_cut_sta_lta_band-sl_start)*100:(event_cut_sta_lta_band+sl_end)*100] - event_cut_sta_lta_band
                                            
                                    # --------------------------------------------------------------------
                                    # Retrieving the noise normalized amplitude between -x and +x seconds
              
                                    noise_amp = st_full[0].data[(event_cut_sta_lta_band-nl_end)*100:(event_cut_sta_lta_band-nl_start)*100]
                                    noise_time = st_full[0].times()[(event_cut_sta_lta_band-nl_end)*100:(event_cut_sta_lta_band-nl_start)*100] - event_cut_sta_lta_band
        
                                    # ---------------
                                    # Evaluating: SNR
                                            
                                    powS = np.mean(np.abs(amp_P))
                                    powN = np.mean(np.abs(noise_amp))
                                            
                                    snr = powS/powN
                                    snr = round(snr,1)

                                    # -----------------------------
                                    # Evaluating: noise energy mean
                                            
                                    potencia_ruido = np.mean(noise_amp**2)
                                            
                                    # ----------------------------
                                    # Evaluating: Noise level (dB)
                                            
                                    nivel_ruido_db = 10 * np.log10(potencia_ruido)
   
                                    # -------------------------------------
                                    # Plotting: SNR, noise & signal windows

                                    axs1.text(x=0.99,y=0.95,s='SRN: '+str(snr),ha="right", va="top", transform=axs1.transAxes,bbox=dict(boxstyle="square",ec='k',fc='w'))
                                    axs1.plot(amp_P_time, amp_P,'darkred', alpha=0.85,lw=1)
                                    axs1.plot(noise_time, noise_amp,'darkblue', alpha=0.85,lw=1)                                       
                                    axs1.text(x=0.01,y=0.05,s='Noise: '+str(round(nivel_ruido_db))+' dB',ha="left", va="bottom",transform=axs1.transAxes,bbox=dict(boxstyle="square",ec='k',fc='w'))
    
                                    # -------------------------
                                    # Plotting: axes parameters 
                                            
                                    axs1.spines['top'].set_linewidth(2)
                                    axs1.spines['right'].set_linewidth(2)
                                    axs1.spines['bottom'].set_linewidth(2)
                                    axs1.spines['left'].set_linewidth(2)
                                    axs1.xaxis.set_tick_params(width=2)
                                    axs1.yaxis.set_tick_params(width=2)                                
                                            
                                    # ----------------------------------------------------------------------------------------------------------                                   
                                    # STA/LTA curve
                                    # ----------------------------------------------------------------------------------------------------------
        
                                    st_cft = st_full.copy()
                    
                                    for tr in st_cft:
                                                tr.detrend("linear")
                                                tr.taper(max_percentage=0.1, type='cosine')
                                                tr.filter('lowpass', freq=FREQ_CFT, corners=4, zerophase=True)
                                            
                                    # --------------------------------------------------------------------------------------------------------------------------------------------------------------------------------                                           
                                    # Evaluating: Time & amplitude of the STA/LTA curve (https://docs.obspy.org/packages/autogen/obspy.signal.trigger.classic_sta_lta_py.html#obspy.signal.trigger.classic_sta_lta_py)
                                            
                                    cft = recursive_sta_lta(st_full[0].data, int((STA_short/2)*st_full[0].stats.sampling_rate), int((LTA_short/2)*st_full[0].stats.sampling_rate))
                                    
                                    # -----------------------------------------------------
                                    # Evaluating: Time & amplitude of the STA/LTA curve max

                                    # mask to desired boolean interval
                                    mask = (time_x_axis >= -time_sta_lta_ls) & (time_x_axis <= time_sta_lta_ls)
                                                                                        
                                    sta_lta_max_amp = cft[np.where(mask)[0][np.argmax(cft[mask])]]
                                    
                                    sta_lta_max_time = time_x_axis[np.where(mask)[0][np.argmax(cft[mask])]]
                                            
                                    # -----------------------------------------------------
                                    # Plotting: Time & amplitude of the STA/LTA curve max

                                    axs2.scatter(sta_lta_max_time,sta_lta_max_amp, edgecolors='orange',facecolors='None',marker='o',linewidths=1)
                                            
                                    # -------------------------------------------------
                                    # Evaluating: Time & amplitude of the First P-wave
     
                                    if sta_lta_max_amp >= THRON and snr >= SNR_MIN:
                                        for cl_index in range(np.where(mask)[0][np.argmax(cft[mask])] - 1, -1, -1):
                                            if  THROFF > cft[cl_index]:
                                                break
                                      
                                        index_first_THROFF = cl_index
                                        sta_lta_P_wave_time = time_x_axis[index_first_THROFF]
                                        sta_lta_P_wave_amp = st_full[0].data[index_first_THROFF]
                                        sta_lta_P_wave_amp_sta_lta = cft[index_first_THROFF]
                                        
                                        # ------------------------------------------------
                                        # Evaluating: Time & amplitude of the First P-wave
                                                
                                        axs1.scatter(sta_lta_P_wave_time,sta_lta_P_wave_amp, edgecolors='r',facecolors='None',marker='o',linewidths=2,s=50,label='first arrival')
                                        axs2.scatter(sta_lta_P_wave_time,sta_lta_P_wave_amp_sta_lta, edgecolors='r',facecolors='None',marker='o',linewidths=2,s=50,label='first arrival')
                                        axs1.text(x=0.99,y=0.05,s='$t_r$:'+str(round(sta_lta_P_wave_time,1))+' s',ha="right", va="bottom", transform=axs1.transAxes,bbox=dict(boxstyle="square",ec='k',fc='w'))

                                    # -----------------------------
                                    # Plotting: STA/LTA parameters

                                    axs2.text(x=0.99,y=0.95,s='max: '+str(round(sta_lta_max_amp,1)),ha="right", va="top",transform=axs2.transAxes,bbox=dict(boxstyle="square",ec='k',fc='w'))
                                    axs2.text(x=0.99,y=0.05,s='THRON: '+str(THRON)+'\n'+'THROFF: '+str(THROFF),ha="right", va="bottom",transform=axs2.transAxes,bbox=dict(boxstyle="square",ec='k',fc='w'))
                                    axs2.text(x=0.01,y=0.05,s='STA: '+str(STA_short)+'\n'+'LTA: '+str(LTA_short),ha="left", va="bottom",transform=axs2.transAxes,bbox=dict(boxstyle="square",ec='k',fc='w'))

                                    # ----------------------------
                                    # Plotting: STA/LTA curve

                                    line_full, = axs2.plot(time_x_axis,cft, 'k',label=freqs[0])
                                    axs2.legend(handles=[line_full],loc='upper left', fontsize=10, edgecolor='k', labelcolor='k')   
                                    axs2.axvline(x=0,ymin=0, ymax=1, color='k',lw=0.5,linestyle='--')
                                    axs2.axhline(xmin=0,xmax=1, y=THROFF, color='orange',lw=0.5,linestyle='--')
                                    axs2.axhline(xmin=0,xmax=1, y=THRON, color='darkorange',lw=0.5,linestyle='--')
                                            
                                    # -------------------------
                                    # Plotting: axes parameters 
    
                                    axs2.set_xlim(-event_cut_sta_lta_band,event_cut_sta_lta_band)
                                    axs2.xaxis.set_major_locator(mins2)
                                    axs2.xaxis.set_minor_locator(mins1)
                                    axs2.set_title('Time relative to theoretical arrival (s)')
                                    axs2.set_ylim(0, 10)
                                    axs2.spines['top'].set_linewidth(2)
                                    axs2.spines['right'].set_linewidth(2)
                                    axs2.spines['bottom'].set_linewidth(2)
                                    axs2.spines['left'].set_linewidth(2)
                                    axs2.xaxis.set_tick_params(width=2)
                                    axs2.yaxis.set_tick_params(width=2)  


                                    axs1.tick_params(axis='both',which="both",bottom=True, top=True, left=True, right=True,labelbottom=False, labeltop=False, labelleft=True, labelright=False)
                                    axs2.tick_params(axis='both',which="both",bottom=True, top=True, left=True, right=True,labelbottom=False, labeltop=False, labelleft=True, labelright=False)

                                # --------------
                                # following axes
    
                                if idx > 0:
                                                
                                    st_full.filter('bandpass', freqmin=freqs[0],freqmax=freqs[1], corners=4, zerophase=False)
                                    st_full.taper(max_percentage=0.1, type='cosine')                                    
                                        
                                    line_full, = axs1.plot(time_x_axis,st_full[0].data,'k', lw=0.5,label=str(freqs[0])+'-'+str(freqs[1])+' Hz')
                                    axs1.legend(handles=[line_full],loc='upper left', fontsize=10, edgecolor='k', labelcolor='k')   
                                    axs1.axvline(x=0,ymin=0, ymax=1, color='k',lw=0.5,linestyle='--')
                                    axs1.set_xlim(-event_cut_sta_lta_band,event_cut_sta_lta_band)
                                    axs1.xaxis.set_major_locator(mins2)
                                    axs1.xaxis.set_minor_locator(mins1)
        
                                    # ----------------------------------------------------------------------------------------------------------
                                    # SNR P-wave
                                    # ----------------------------------------------------------------------------------------------------------
                
                                    # --------------------------------------------------------------------
                                    # Retrieving the P-wave normalized amplitude between -x and +x seconds

                                    amp_P = st_full[0].data[(event_cut_sta_lta_band-sl_start)*100:(event_cut_sta_lta_band+sl_end)*100]
                                    amp_P_time = st_full[0].times()[(event_cut_sta_lta_band-sl_start)*100:(event_cut_sta_lta_band+sl_end)*100] - event_cut_sta_lta_band
               
                                    # -------------------------------------------------------------------
                                    # Retrieving the noise normalized amplitude between -x and +x seconds

                                    noise_amp = st_full[0].data[(event_cut_sta_lta_band-nl_end)*100:(event_cut_sta_lta_band-nl_start)*100]
                                    noise_time = st_full[0].times()[(event_cut_sta_lta_band-nl_end)*100:(event_cut_sta_lta_band-nl_start)*100] - event_cut_sta_lta_band
        
                                    # ---------------
                                    # Evaluating: SNR
                                            
                                    powS = np.mean(np.abs(amp_P))
                                    powN = np.mean(np.abs(noise_amp))
                                            
                                    snr = powS/powN
                                    snr = round(snr,1)
                                    
                                    # -----------------------------
                                    # Evaluating: noise energy mean
                                            
                                    potencia_ruido = np.mean(noise_amp**2)
                                    
                                    # ----------------------------
                                    # Evaluating: Noise level (dB)
                                            
                                    nivel_ruido_db = 10 * np.log10(potencia_ruido)
   
                                    # -------------------------------------
                                    # Plotting: SNR, noise & signal windows
                                            
                                    axs1.text(x=0.99,y=0.95,s='SRN: '+str(snr),ha="right", va="top", transform=axs1.transAxes,bbox=dict(boxstyle="square",ec='k',fc='w'))
                                    axs1.plot(amp_P_time, amp_P,'darkred', alpha=0.85,lw=1)
                                    axs1.plot(noise_time, noise_amp,'darkblue', alpha=0.85, lw=1)                                 
                                    axs1.text(x=0.01,y=0.05,s='Noise: '+str(round(nivel_ruido_db))+' dB',ha="left", va="bottom",transform=axs1.transAxes,bbox=dict(boxstyle="square",ec='k',fc='w'))
                                            
                                    axs1.spines['top'].set_linewidth(2)
                                    axs1.spines['right'].set_linewidth(2)
                                    axs1.spines['bottom'].set_linewidth(2)
                                    axs1.spines['left'].set_linewidth(2)
                                    axs1.xaxis.set_tick_params(width=2)
                                    axs1.yaxis.set_tick_params(width=2)  
        
                                    # ----------------------------------------------------------------------------------------------------------                                   
                                    # STA/LTA curve
                                    # ----------------------------------------------------------------------------------------------------------
              
                                    st_cft = st_full.copy()
                    
                                    for tr in st_cft:
                                        tr.detrend("linear")
                                        tr.taper(max_percentage=0.1, type='cosine')
                                        tr.filter('lowpass', freq=FREQ_CFT, corners=4, zerophase=True)
                                            
                                    # --------------------------------------------------------------------------------------------------------------------------------------------------------------------------------                                           
                                    # Evaluating: Time & amplitude of the STA/LTA curve (https://docs.obspy.org/packages/autogen/obspy.signal.trigger.classic_sta_lta_py.html#obspy.signal.trigger.classic_sta_lta_py)
                                            
                                    cft = recursive_sta_lta(st_full[0].data, int((STA_short/2)*st_full[0].stats.sampling_rate), int((LTA_short/2)*st_full[0].stats.sampling_rate))

                                    # -----------------------------------------------------
                                    # Evaluating: Time & amplitude of the STA/LTA curve max
                                    
                                    # mask to desired boolean interval
                                    mask = (time_x_axis >= -time_sta_lta_ls) & (time_x_axis <= time_sta_lta_ls)
                                                                                        
                                    sta_lta_max_amp = cft[np.where(mask)[0][np.argmax(cft[mask])]]
                                            
                                    sta_lta_max_time = time_x_axis[np.where(mask)[0][np.argmax(cft[mask])]]
                                            
                                    # -----------------------------------------------------
                                    # Plotting: Time & amplitude of the STA/LTA curve max

                                    axs2.scatter(sta_lta_max_time,sta_lta_max_amp, edgecolors='orange',facecolors='None',marker='o',linewidths=1)
                                            
                                    # -------------------------------------------------
                                    # Evaluating: Time & amplitude of the First P-wave
                                       
                                    if sta_lta_max_amp >= THRON and snr >= SNR_MIN:
                                                for cl_index in range(np.where(mask)[0][np.argmax(cft[mask])] - 1, -1, -1):
                                                        if  THROFF > cft[cl_index]:
                                                            break      
                                                            
                                                index_first_THROFF = cl_index
                                                sta_lta_P_wave_time = time_x_axis[index_first_THROFF]
                                                sta_lta_P_wave_amp = st_full[0].data[index_first_THROFF]
                                                sta_lta_P_wave_amp_sta_lta = cft[index_first_THROFF]
                                                       
                                                # ------------------------------------------------
                                                # Evaluating: Time & amplitude of the First P-wave
                                                
                                                axs1.scatter(sta_lta_P_wave_time,sta_lta_P_wave_amp, edgecolors='r',facecolors='None',marker='o',linewidths=2,s=50,label='first arrival')
                                                axs2.scatter(sta_lta_P_wave_time,sta_lta_P_wave_amp_sta_lta, edgecolors='r',facecolors='None',marker='o',linewidths=2,s=50,label='first arrival')
                                                axs1.text(x=0.99,y=0.05,s='$t_r$:'+str(round(sta_lta_P_wave_time,1))+' s',ha="right", va="bottom", transform=axs1.transAxes,bbox=dict(boxstyle="square",ec='k',fc='w'))

                                    # -----------------------------
                                    # Plotting: STA/LTA parameters
                                            
                                    axs2.text(x=0.99,y=0.95,s='max: '+str(round(sta_lta_max_amp,1)),ha="right", va="top",transform=axs2.transAxes,bbox=dict(boxstyle="square",ec='k',fc='w'))
                                    axs2.text(x=0.99,y=0.05,s='THRON: '+str(THRON)+'\n'+'THROFF: '+str(THROFF),ha="right", va="bottom",transform=axs2.transAxes,bbox=dict(boxstyle="square",ec='k',fc='w'))
                                    axs2.text(x=0.01,y=0.05,s='STA: '+str(STA_short)+'\n'+'LTA: '+str(LTA_short),ha="left", va="bottom",transform=axs2.transAxes,bbox=dict(boxstyle="square",ec='k',fc='w'))
                                    
                                    # ----------------------------
                                    # Plotting: STA/LTA curve

                                    line_full, = axs2.plot(time_x_axis,cft, 'k',label=str(freqs[0])+'-'+str(freqs[1])+' Hz')
                                    axs2.legend(handles=[line_full],loc='upper left', fontsize=10, edgecolor='k', labelcolor='k')  
                                    axs2.axhline(xmin=0,xmax=1, y=THRON, color='darkorange',lw=0.5,linestyle='--')
                                    axs2.axhline(xmin=0,xmax=1, y=THROFF, color='orange',lw=0.5,linestyle='--')
                                    axs2.axvline(x=0,ymin=0, ymax=1, color='k',lw=0.5,linestyle='--')
                                            
                                    # -------------------------
                                    # Plotting: axes parameters 
                                            
                                    axs2.set_xlim(-event_cut_sta_lta_band,event_cut_sta_lta_band)
                                    axs2.xaxis.set_major_locator(mins2)
                                    axs2.xaxis.set_minor_locator(mins1)
                                    axs2.set_ylim(0, 10)
                                    axs2.spines['top'].set_linewidth(2)
                                    axs2.spines['right'].set_linewidth(2)
                                    axs2.spines['bottom'].set_linewidth(2)
                                    axs2.spines['left'].set_linewidth(2)
                                    axs2.xaxis.set_tick_params(width=2)
                                    axs2.yaxis.set_tick_params(width=2)  
                                            
                                    axs1.tick_params(axis='both',which="both",bottom=True, top=True, left=True, right=True,labelbottom=False, labeltop=False, labelleft=True, labelright=False)
                                    axs2.tick_params(axis='both',which="both",bottom=True, top=True, left=True, right=True,labelbottom=False, labeltop=False, labelleft=True, labelright=False)

                                # --------------
                                # last axes
        
                                if idx == 5:
                                    axs1.tick_params(axis='both',which="both",bottom=True, top=True, left=True, right=True,labelbottom=True, labeltop=False, labelleft=True, labelright=False)
                                    axs2.tick_params(axis='both',which="both",bottom=True, top=True, left=True, right=True,labelbottom=True, labeltop=False, labelleft=True, labelright=False)
                                                                                       
                                # --------------------------------------------------------------------------------
                                # Evaluating: automatic event detection according to SNR and STA/LTA amplitude values                                  

                                if sta_lta_max_amp >= THRON and snr >= SNR_MIN:
                                    check_SNR_STA_LTA.append(True)                                             
                                                
                                else:
                                    check_SNR_STA_LTA.append(False)
                                            
                                         
                            srn_per_band_lst.append(snr)                             
                            sta_lta_max_per_band_lst.append(sta_lta_max_amp)                            
                            noise_per_band_lst.append(nivel_ruido_db)
                                    
                            # -------------
                            # Saving figure
                            # -------------
                              
                            os.makedirs(FOLDER_OUTPUT+'FIGURAS/EVENT_MSEED_LOCAL_SE/'+model_earth+'/'+P_label+'/',exist_ok=True)
                            fig.savefig(FOLDER_OUTPUT+'FIGURAS/EVENT_MSEED_LOCAL_SE/'+model_earth+'/'+P_label+'/event_mseed_detection_'+model_earth+'_'+P_label+'_'+ev_time.strftime('%Y_%m_%d_%H_%M_%S')+'_'+station_name+'_mag_'+str(ev_mag)+'mR.png',pad_inches=0.02,dpi=100)
                             
                                   
                            # ----------------
                            # Saving dataframe
                                        
                            df = pd.DataFrame([[ev_file_mseed],[station_name],['P'],[ev_file['Localities']],[ev_time],[ev_lat],[ev_long],[ev_depth],[gcarc],[ev_mag],['mb'],[event],[time_LFI],[lat_LFI],[lon_LFI],[dep_LFI],[srn_per_band_lst],[sta_lta_max_per_band_lst],[noise_per_band_lst],[True],[sta_lta_P_wave_time]], index=['filename_mseed','name_LFI','Phase','ev_ID','ev_time','ev_lat','ev_long','ev_depth','distance','magnitude','magnitude_type','phases_time','time_LFI','lat_LFI','lon_LFI','dep_LFI','srn_per_band','sta_lta_max_per_band','noise_per_band','automatic_event_detection','automatic_time_residual']).T
                                 
                            # ----------------------------------------------------------------------------------------------------------
                            # Close the figure after savig 
                            # ----------------------------------------------------------------------------------------------------------                             
                                    
                            plt.close('all')
    except:
        pass



station_lst = sorted(dataframe_mseed_final['station'].unique().tolist())


fases_sismicas = ["P"]
input_data = []

for sta in tqdm(station_lst,total=len(station_lst),desc='Creating input list'):
    for fs in fases_sismicas:
        for ev in events.iterrows():
    
            ev_file = ev[1]
            seismic_phase = fs
            station_name = sta 

            input_data.append([ev_file,seismic_phase,station_name])


df_results = []
with Pool(processes=6) as p:
    max_ = len(input_data)
    with tqdm(total=max_) as pbar:
        for result in p.imap_unordered(event_search,input_data):
            df_results.append(result)           
            pbar.update()






