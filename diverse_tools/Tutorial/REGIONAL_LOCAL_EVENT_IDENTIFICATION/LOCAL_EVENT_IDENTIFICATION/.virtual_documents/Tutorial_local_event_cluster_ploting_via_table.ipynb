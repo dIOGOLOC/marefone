


import obspy
from obspy.taup import TauPyModel
from obspy.io.sac.sactrace import SACTrace

from multiprocessing import Pool
from obspy import read,UTCDateTime,Trace,read_inventory,read_events
from obspy.imaging.beachball import beachball,beach
from obspy.clients.fdsn import Client
import os
import glob
import numpy as np
from collections import defaultdict
import pandas as pd
from scipy import signal
import subprocess


#para plotar as figuras
import matplotlib as mpl
import matplotlib.pyplot as plt
from matplotlib.transforms import offset_copy
import matplotlib.ticker as ticker
from mpl_toolkits.axes_grid1 import make_axes_locatable
from matplotlib.colors import ListedColormap
import matplotlib.dates as mdates
from mpl_toolkits.axes_grid1.inset_locator import InsetPosition,inset_axes
import matplotlib.cm as cm
from matplotlib.dates import YearLocator, MonthLocator, DayLocator, HourLocator, MinuteLocator, SecondLocator, DateFormatter
from matplotlib.ticker import MultipleLocator, FormatStrFormatter,FixedLocator,StrMethodFormatter

import matplotlib.colors as mcolors

from datetime import datetime,timedelta,date
from tqdm import tqdm

from shapely.geometry.polygon import LinearRing
from shapely.geometry import MultiPoint

import cartopy.io.shapereader as shpreader
import cartopy.crs as ccrs
import cartopy.feature as cfeature
from cartopy.mpl.ticker import LongitudeFormatter,LatitudeFormatter
import requests
import csv
import xml.etree.ElementTree as ET

import pandas as pd, numpy as np, matplotlib.pyplot as plt
from sklearn.cluster import DBSCAN
from geopy.distance import great_circle






FOLDER_OUTPUT = '/media/sysop/14f7ead0-5dcb-4557-a139-55dbb404d11a/diogoloc/dados_posdoc/Gliders_DATA/OUTPUT/'
MSEED_INPUT = "/media/sysop/14f7ead0-5dcb-4557-a139-55dbb404d11a/diogoloc/dados_posdoc/Gliders_DATA/DATA_GLIDER_2024/"
LOCAL_EVENTS_TABLE = "/media/sysop/14f7ead0-5dcb-4557-a139-55dbb404d11a/diogoloc/dados_posdoc/Gliders_DATA/event_files/terremotos_costa_SE.csv"
XML_FILE = '/media/sysop/14f7ead0-5dcb-4557-a139-55dbb404d11a/diogoloc/dados_posdoc/Gliders_DATA/XML/glider_nettab_per_dive.xml'
QUAKEXML_FOLDER = '/media/sysop/14f7ead0-5dcb-4557-a139-55dbb404d11a/diogoloc/dados_posdoc/Gliders_DATA/OUTPUT/EVENTS/'
METADATA_FILE = '/media/sysop/14f7ead0-5dcb-4557-a139-55dbb404d11a/diogoloc/dados_posdoc/Gliders_DATA/METADATA/df_campanha_glider.feather'
MODEL_CAKE = '/media/sysop/14f7ead0-5dcb-4557-a139-55dbb404d11a/diogoloc/dados_posdoc/Gliders_DATA/EARTH_MODEL_AREA/model_ak135f_SOFAR.nd'
RSBR_STATIONS = '/media/sysop/14f7ead0-5dcb-4557-a139-55dbb404d11a/diogoloc/dados_posdoc/Gliders_DATA/STA_COORD/estacoes_RSBR_costa.txt'


#FOLDER_OUTPUT = '/home/sysop/dados_posdoc/GLIDER_PETROBRAS/OUTPUT/'
#MSEED_INPUT = "/home/sysop/dados_posdoc/GLIDER_PETROBRAS/DATA/"
#LOCAL_EVENTS_TABLE = "/home/sysop/dados_posdoc/GLIDER_PETROBRAS/TERREMOTOS_SISBRA_2022/terremotos_costa_SE.csv"
#XML_FILE = '/home/sysop/dados_posdoc/GLIDER_PETROBRAS/XML/glider_nettab_per_dive.xml'
#QUAKEXML_FOLDER = '/home/sysop/dados_posdoc/GLIDER_PETROBRAS/OUTPUT/EVENTS/'
#METADATA_FILE = '/home/sysop/dados_posdoc/GLIDER_PETROBRAS/METADATA/df_campanha_glider.feather'
#MODEL_CAKE = '/home/sysop/dados_posdoc/GLIDER_PETROBRAS/EARTH_MODEL_AREA/model_ak135f_SOFAR.nd'
#RSBR_STATIONS = '/home/sysop/dados_posdoc/GLIDER_PETROBRAS/STA_COORD/estacoes_RSBR_costa.txt'





filenames_MSEED = sorted(glob.glob(MSEED_INPUT+'*/*/*/*/GL.*'))


len(filenames_MSEED)


def mseed_data_2_dataframe(i):
    subdir, filename_wav = os.path.split(i)
    filename = filename_wav.split('.mseed')[0]

    st = read(i,headonly=True)   
    #----------------------------
    #Starting Dataframe

    starttime = st[0].stats.starttime.datetime
    endtime = st[-1].stats.endtime.datetime
    
    df = pd.DataFrame([[filename],[starttime],[endtime]], index=['filename','starttime','endtime']).T
    
    #Ending Dataframe
    #----------------------------
    return df


pandas_mseed_lst = []

with Pool(processes=12) as p:
    max_ = len(filenames_MSEED)
    with tqdm(total=max_) as pbar:
        for result in p.imap_unordered(mseed_data_2_dataframe,filenames_MSEED):
            pbar.update()
            pandas_mseed_lst.append(result)


dataframe_mseed_final = pd.concat(pandas_mseed_lst, ignore_index=True)



dataframe_mseed_final['starttime'] = pd.to_datetime(dataframe_mseed_final.starttime)
dataframe_mseed_final['endtime'] = pd.to_datetime(dataframe_mseed_final.endtime)


dataframe_mseed_final





inv_glider = read_inventory(XML_FILE)


inv_glider


df_glider_xml_lst = []
for sta in inv_glider[0]:
    for cha in sta:
        station = sta.code
        latitude = cha.latitude
        longitude = cha.longitude
        depth = cha.depth*(-1)
        starttime = cha.start_date
        endtime = cha.end_date
        df_cha = pd.DataFrame([[station],[latitude],[longitude],[depth],[starttime],[endtime]], index=['station','latitude','longitude','depth','starttime','endtime']).T
        df_glider_xml_lst.append(df_cha)


dataframe_glider_xml = pd.concat(df_glider_xml_lst, ignore_index=True)


dataframe_glider_xml


events = pd.read_csv(LOCAL_EVENTS_TABLE,sep=',')

print("Found %s event(s)" % len(events))


events


# Use isna() and loc[] for filtering
#filtered_data = events.loc[(events['year'].notna()) & (events['mm'].notna()) & (events['dd'].notna()) & (events['hh'].notna()) & (events['min'].notna()) & (events['ss.s'].notna())]
filtered_data = events.loc[(events['year'].notna()) & (events['mm'].notna()) & (events['dd'].notna()) & (events['hh'].notna()) & (events['min'].notna()) & (events['ss.s'].notna()) & (events['latit'].notna()) & (events['longit'].notna())]


filtered_data


events['time'] = events.apply(lambda row: UTCDateTime(row['year'],row['mm'],row['dd'],row['hh'],row['min']).datetime, axis=1)
#events['time'] = events.apply(lambda row: UTCDateTime(row['year'],row['mm'],row['dd'],row['hh'],row['min'],row['ss.s']).datetime, axis=1)


events['time'] = pd.to_datetime(events.time)


events.sort_values('time')





RSBR_LOC = np.genfromtxt(RSBR_STATIONS,skip_header=1,delimiter=';',dtype='str')
kstnm = np.genfromtxt(RSBR_STATIONS,skip_header=1,delimiter=';',dtype='str',usecols=1)
stla = np.genfromtxt(RSBR_STATIONS,skip_header=1,delimiter=';',dtype='float',usecols=2)
stlo = np.genfromtxt(RSBR_STATIONS,skip_header=1,delimiter=';',dtype='float',usecols=3)
stel = np.genfromtxt(RSBR_STATIONS,skip_header=1,delimiter=';',dtype='float',usecols=4)


# Create a figure
# set up the plot and create a GeoAxes:
proj = ccrs.PlateCarree()
fig, ax = plt.subplots(1, 1,figsize=(20,10), subplot_kw=dict(projection=proj))

# ----------------------------------------------------------------------------------------------------------
# Limit the extent of the map to a small longitude/latitude range.
latmin=-30
latmax=-20
lonmin=-50
lonmax=-38

ax.set_extent([lonmin,lonmax, latmin, latmax], crs=ccrs.Geodetic())

# ----------------------------------------------------------------------------------------------------------
# Ploting lat/lon glider values

h = ax.scatter(dataframe_glider_xml['longitude'],dataframe_glider_xml['latitude'],c=np.array([mdates.date2num(obspy.UTCDateTime(i).datetime) for i in dataframe_glider_xml['starttime']]),marker='.',alpha=0.5,cmap='plasma',s=20,transform=proj,label='Year')
# ----------------------------------------------------------------------------------------------------------
ax.scatter(stlo,stla,c='k',marker='^',ec='w',s=70,transform=proj)

# Use the cartopy interface to create a matplotlib transform object
# for the Geodetic coordinate system. We will use this along with
# matplotlib's offset_copy function to define a coordinate system which
# translates the text by 25 pixels to the left.
geodetic_transform = ccrs.Geodetic()._as_mpl_transform(ax)
text_transform = offset_copy(geodetic_transform, units='dots', x=0,y=10)

for lo,la,name in zip(stlo,stla,kstnm):
    if lo < lonmax and lo > lonmin and la > latmin and la < latmax:
        ax.text(lo,la,s=name, verticalalignment='center', horizontalalignment='center',alpha=0.5,transform=text_transform)
  
# ----------------------------------------------------------------------------------------------------------

# Ploting lat/lon glider events
e = ax.scatter(events['longit'],events['latit'],c=np.array([mdates.date2num(obspy.UTCDateTime(i).datetime) for i in events['time']]),marker='*',alpha=0.75,cmap='plasma',edgecolor='k',s=events['mag']**4,transform=proj)
# ----------------------------------------------------------------------------------------------------------

# Adding background map 
ax.add_feature(cfeature.LAND)
ax.add_feature(cfeature.OCEAN)
ax.add_feature(cfeature.COASTLINE,linewidth=0.3)
ax.add_feature(cfeature.BORDERS, linestyle=':',linewidth=0.3)
ax.gridlines(crs=ccrs.PlateCarree(), draw_labels=True,linewidth=1, color='gray', alpha=0.5, linestyle='--')

# produce a legend with a cross-section of sizes from the scatter
kw_s = dict(prop="sizes", num=6, fmt="{x:.1f}",
          func=lambda s: s**(1/4))
legend1 = ax.legend(*e.legend_elements(**kw_s),
                    loc="lower right", title="Magnitude")

# ----------------------------------------------------------------------------------------------------------
# Adding colorbar
divider = make_axes_locatable(ax)
ax_cb = divider.new_horizontal(size="1%", pad=0.6, axes_class=plt.Axes)

fig.add_axes(ax_cb)
cb = plt.colorbar(h, cax=ax_cb)
cb.ax.yaxis.set_major_formatter(mdates.DateFormatter('%b-%Y'))

#####################################################
# Adding inset axes LEFT
#####################################################

# ----------------------------------------------------------------------------------------------------------
# Adding global location map
# inset location relative to main plot (ax) in normalized units
inset_x = 0
inset_y = 1
inset_size = 0.3
# Adding Geoaxes
ax_map = plt.axes([0, 0, 1, 1], projection=ccrs.Orthographic(central_latitude=(latmin + latmax)/2,central_longitude=(lonmin + lonmax) / 2))
ax_map.set_global()

# Adding background map 
ax_map.add_feature(cfeature.LAND)
ax_map.add_feature(cfeature.OCEAN)
ax_map.add_feature(cfeature.COASTLINE)

# Adding inset geoaxes position
ip = InsetPosition(ax, [inset_x - inset_size / 2,
                        inset_y - inset_size / 2,
                        inset_size,
                        inset_size])
ax_map.set_axes_locator(ip)


# Adding red rectangle position
nvert = 100
lons = np.r_[np.linspace(lonmin, lonmin, nvert),
             np.linspace(lonmin, lonmax, nvert),
             np.linspace(lonmax, lonmax, nvert)].tolist()
lats = np.r_[np.linspace(latmin, latmax, nvert),
             np.linspace(latmax, latmax, nvert),
             np.linspace(latmax, latmin, nvert)].tolist()

ring = LinearRing(list(zip(lons, lats)))
ax_map.add_geometries([ring], ccrs.PlateCarree(),
                   facecolor='none', edgecolor='red', linewidth=0.75)





coords = events[['latit', 'longit']].to_numpy()


kms_per_radian = 6371.0088
epsilon = 10 / kms_per_radian
db = DBSCAN(eps=epsilon, min_samples=1, algorithm='ball_tree', metric='haversine').fit(np.radians(coords))
cluster_labels = db.labels_
num_clusters = len(set(cluster_labels))
clusters = pd.Series([coords[cluster_labels == n] for n in range(num_clusters)])
print('Number of clusters: {}'.format(num_clusters))



def get_centermost_point(cluster):
    centroid = (MultiPoint(cluster).centroid.x, MultiPoint(cluster).centroid.y)
    centermost_point = min(cluster, key=lambda point: great_circle(point, centroid).m)
    return tuple(centermost_point)
centermost_points = clusters.map(get_centermost_point)



lats, lons = zip(*centermost_points)
rep_points = pd.DataFrame({'lon':lons, 'lat':lats})



rs = rep_points.apply(lambda row: events[(events['latit']==row['lat']) & (events['longit']==row['lon'])].iloc[0], axis=1)


rs = events


# Create a figure
# set up the plot and create a GeoAxes:
proj = ccrs.PlateCarree()
fig, ax = plt.subplots(1, 1,figsize=(20,10), subplot_kw=dict(projection=proj))

# ----------------------------------------------------------------------------------------------------------
# Limit the extent of the map to a small longitude/latitude range.
latmin=-30
latmax=-20
lonmin=-50
lonmax=-38

ax.set_extent([lonmin,lonmax, latmin, latmax], crs=ccrs.Geodetic())

# ----------------------------------------------------------------------------------------------------------
# Ploting lat/lon glider values

h = ax.scatter(dataframe_glider_xml['longitude'],dataframe_glider_xml['latitude'],c=np.array([mdates.date2num(obspy.UTCDateTime(i).datetime) for i in dataframe_glider_xml['starttime']]),marker='.',alpha=0.5,cmap='plasma',s=20,transform=proj,label='Year')
# ----------------------------------------------------------------------------------------------------------
ax.scatter(stlo,stla,c='k',marker='^',ec='w',s=70,transform=proj)

# Use the cartopy interface to create a matplotlib transform object
# for the Geodetic coordinate system. We will use this along with
# matplotlib's offset_copy function to define a coordinate system which
# translates the text by 25 pixels to the left.
geodetic_transform = ccrs.Geodetic()._as_mpl_transform(ax)
text_transform = offset_copy(geodetic_transform, units='dots', x=0,y=10)

for lo,la,name in zip(stlo,stla,kstnm):
    if lo < lonmax and lo > lonmin and la > latmin and la < latmax:
        ax.text(lo,la,s=name, verticalalignment='center', horizontalalignment='center',alpha=0.5,transform=text_transform)
  
# ----------------------------------------------------------------------------------------------------------

# Ploting lat/lon glider events
e = ax.scatter(rs['longit'],rs['latit'],c=np.array([mdates.date2num(obspy.UTCDateTime(i).datetime) for i in rs['time']]),marker='*',alpha=0.75,cmap='plasma',edgecolor='k',s=rs['mag']**4,transform=proj)
# ----------------------------------------------------------------------------------------------------------

# Adding background map 
ax.add_feature(cfeature.LAND)
ax.add_feature(cfeature.OCEAN)
ax.add_feature(cfeature.COASTLINE,linewidth=0.3)
ax.add_feature(cfeature.BORDERS, linestyle=':',linewidth=0.3)
ax.gridlines(crs=ccrs.PlateCarree(), draw_labels=True,linewidth=1, color='gray', alpha=0.5, linestyle='--')

# produce a legend with a cross-section of sizes from the scatter
kw_s = dict(prop="sizes", num=6, fmt="{x:.1f}",
          func=lambda s: s**(1/4))
legend1 = ax.legend(*e.legend_elements(**kw_s),
                    loc="lower right", title="Magnitude")

# ----------------------------------------------------------------------------------------------------------
# Adding colorbar
divider = make_axes_locatable(ax)
ax_cb = divider.new_horizontal(size="1%", pad=0.6, axes_class=plt.Axes)

fig.add_axes(ax_cb)
cb = plt.colorbar(h, cax=ax_cb)
cb.ax.yaxis.set_major_formatter(mdates.DateFormatter('%b-%Y'))

#####################################################
# Adding inset axes LEFT
#####################################################

# ----------------------------------------------------------------------------------------------------------
# Adding global location map
# inset location relative to main plot (ax) in normalized units
inset_x = 0
inset_y = 1
inset_size = 0.3
# Adding Geoaxes
ax_map = plt.axes([0, 0, 1, 1], projection=ccrs.Orthographic(central_latitude=(latmin + latmax)/2,central_longitude=(lonmin + lonmax) / 2))
ax_map.set_global()

# Adding background map 
ax_map.add_feature(cfeature.LAND)
ax_map.add_feature(cfeature.OCEAN)
ax_map.add_feature(cfeature.COASTLINE)

# Adding inset geoaxes position
ip = InsetPosition(ax, [inset_x - inset_size / 2,
                        inset_y - inset_size / 2,
                        inset_size,
                        inset_size])
ax_map.set_axes_locator(ip)


# Adding red rectangle position
nvert = 100
lons = np.r_[np.linspace(lonmin, lonmin, nvert),
             np.linspace(lonmin, lonmax, nvert),
             np.linspace(lonmax, lonmax, nvert)].tolist()
lats = np.r_[np.linspace(latmin, latmax, nvert),
             np.linspace(latmax, latmax, nvert),
             np.linspace(latmax, latmin, nvert)].tolist()

ring = LinearRing(list(zip(lons, lats)))
ax_map.add_geometries([ring], ccrs.PlateCarree(),
                   facecolor='none', edgecolor='red', linewidth=0.75)





ev_time_sel = UTCDateTime('2016-09-05T15:44:02')


file_mseed_info = dataframe_mseed_final[(dataframe_mseed_final.starttime <= ev_time_sel.datetime) & (dataframe_mseed_final.endtime >= ev_time_sel.datetime)]



ev_file_mseed = file_mseed_info['filename'].values[0]

file_mseed_ev = sorted(glob.glob(MSEED_INPUT+'*/*/*/*/'+ev_file_mseed+'*'))[0]



stream_mseed = obspy.read(file_mseed_ev)
stream_mseed.trim(ev_time_sel-30,ev_time_sel+180)


stream_mseed.plot()


P_arrival = []
S_arrival = []
T_arrival = []
dist_lst = []

for ev in tqdm(rs.iterrows(),total=len(rs)):
    ev_file = ev[1]
    # =========================================
    # CODE
    
    # Definindo globalmente o tamanho da fonte
    mpl.rcParams.update({'font.size': 12})
  
    #ev_time = ev_file['time']
    ev_time = ev_file.time
    ev_lat = ev_file.latit
    ev_long = ev_file.longit
    ev_depth = ev_file.depth
    if ev_depth == 0:
        ev_depth = 10
    ev_mag =  ev_file.mag
    
    
    file_mseed_info = dataframe_mseed_final[(dataframe_mseed_final.starttime <= ev_time_sel.datetime) & (dataframe_mseed_final.endtime >= ev_time_sel.datetime)]
    if len(file_mseed_info['filename'].tolist()) > 0:

        name_glider = file_mseed_info['filename'].tolist()[0].split('.')[1]

        # Selecionando no inventório dos glider a localização da estação via ARQUIVO XML:
        inv_sel = inv_glider.select(channel="*H", station=name_glider)
        sta_sel = inv_sel[0][0]
        for cha in sta_sel:
            if (cha.start_date.datetime <= ev_time_sel) & (cha.end_date.datetime >= ev_time_sel):
                #Approximation 
                lat_glider = cha.latitude
                lon_glider = cha.longitude
                dep_glider = cha.depth*-1
                time_glider = cha.start_date
       
                #Calculating distance, azimuth and backazimuth
                dist,az,baz = obspy.geodetics.gps2dist_azimuth(ev_lat,ev_long,lat_glider,lon_glider)
                dist = round(dist/1000,2)
                gcarc = obspy.geodetics.kilometer2degrees(dist)

                #Calculating arrival times
                command = 'cake arrivals --model='+MODEL_CAKE+' --sdepth='+str(ev_depth)+' --rdepth='+str((-1)*round(dep_glider/1000,2))+' --distances='+str(dist)+" --phases='p(seafloor)p,s(seafloor)p,s(seafloor)p^Pv(seafloor)p^Pv(seafloor)p^Pv(seafloor)p^Pv(seafloor)p^Pv(seafloor)p^Pv(seafloor)p^Pv(seafloor)p^Pv(seafloor)p^Pv(seafloor)p^Pv(seafloor)p^Pv(seafloor)p^Pv(seafloor)p^P\\'"
                proc = subprocess.Popen(command, stdout=subprocess.PIPE, shell=True,text=True)
                (out, err) = proc.communicate()
                results = out.splitlines()

                if len(results) > 5:
                    dist_lst.append(dist)

                    event = float(results[3].split(' ')[2])
                    eventS = float(results[4].split(' ')[2])
                    eventT = float(results[5].split(' ')[2])
                    P_arrival.append(event)
                    S_arrival.append(eventS)
                    T_arrival.append(eventT)


fig = plt.figure(figsize=(10,5))
ax1 = fig.add_subplot(2, 1, 1)

FREQ_CFT = 20
cmap = mpl.colormaps.get_cmap('Spectral')

                           
ax1_HF = ax1.twinx()

st_LF = stream_mseed.copy()
st_HF = stream_mseed.copy()

for tr in st_HF:
    tr.detrend("linear")
    tr.taper(max_percentage=0.05, type='cosine')
    tr.filter('highpass', freq=FREQ_CFT, corners=4, zerophase=True)
    line_HF, = ax1_HF.plot(tr.times('matplotlib'), tr.data,'grey', lw=2,alpha=0.5,label='> '+str(FREQ_CFT)+' Hz')
ax1_HF.legend(handles=[line_HF],loc='lower right', fontsize=10, edgecolor='grey', labelcolor='grey')   

for tr in st_LF:
    tr.detrend("linear")
    tr.taper(max_percentage=0.05, type='cosine')
    tr.filter('lowpass', freq=FREQ_CFT, corners=4, zerophase=True)
    line_LF, = ax1.plot(tr.times('matplotlib'), tr.data,'k', lw=1, label='< '+str(FREQ_CFT)+' Hz')
ax1.legend(handles=[line_LF],loc='lower left', fontsize=10, edgecolor='k', labelcolor='k')

ax1.text(x=ev_time_sel.matplotlib_date,y=np.max(st_LF[0].data)+abs(np.max(st_LF[0].data)/50),s='P',ha="center", va="center",bbox=dict(boxstyle="round",ec=(1., 0.5, 0.5),fc=(1., 0.8, 0.8)))
ax1.axvline(x=ev_time_sel.matplotlib_date,ymin=0, ymax=1,linestyle='--',c='r')

for i,j in enumerate(dist_lst):
    ax1.axvline(x=(ev_time_sel+(T_arrival[i]-P_arrival[i])).matplotlib_date,ymin=0, ymax=1,c=cmap(round(dist_lst[i])),linestyle='-',alpha=0.5)

ax1.set_ylabel('Amplitude [counts]')
ax1.set_ylim(-1.5*abs(np.max(st_LF[0].data)),1.5*abs(np.max(st_LF[0].data)))
ax1.set_xlim(st_LF[0].times('matplotlib')[0],st_LF[0].times('matplotlib')[-1])
locator = mdates.AutoDateLocator(minticks=9, maxticks=14)
formatter = mdates.ConciseDateFormatter(locator)
ax1.xaxis.set_major_locator(locator)
ax1.xaxis.set_major_formatter(formatter)
mins2 = SecondLocator(interval=60)
mins1 = SecondLocator(interval=10)
ax1.xaxis.set_major_locator(mins2)
ax1.xaxis.set_minor_locator(mins1)
ax1.set_title('Station: '+name_glider)
ax1.tick_params(axis='x',labelbottom=False)

ax1_HF.set_ylim(-1.5*abs(np.max(st_HF[0].data)),1.5*abs(np.max(st_HF[0].data)))
ax1_HF.set_xlim(st_HF[0].times('matplotlib')[0],st_HF[0].times('matplotlib')[-1])      
    
# ----------------------------------------------------------------------------------------------------------
# Adding spectrogram plot
ax2 = fig.add_subplot(2, 1, 2,sharex=ax1)

fs = stream_mseed[0].stats.sampling_rate  # Frequência de amostragem (100 amostras por segundo)
signal_data = stream_mseed[0].data

# Spectrogram
frequencies, times, Sxx = signal.spectrogram(x=signal_data, fs=fs,nperseg=128)

# Plot spectrogram
im = ax2.imshow(10 * np.log10(Sxx),extent=[st_HF[0].times('matplotlib')[0],st_HF[0].times('matplotlib')[-1], 0, fs/2],aspect='auto',origin='lower',cmap='magma',interpolation='kaiser')

ax2.text(x=ev_time_sel.matplotlib_date,y=45,s='P',ha="center", va="center",bbox=dict(boxstyle="round",ec=(1., 0.5, 0.5),fc=(1., 0.8, 0.8)))
ax2.axvline(x=ev_time_sel.matplotlib_date,ymin=0, ymax=1,linestyle='--',c='w')

ax2.xaxis.set_major_locator(locator)
ax2.xaxis.set_major_formatter(formatter)
ax2.xaxis.set_major_locator(mins2)
ax2.xaxis.set_minor_locator(mins1)
ax2.set_ylabel('Frequency [Hz]')

# ----------------------------------------------------------------------------------------------------------
# Adding colorbar
norm = mpl.colors.Normalize(vmin=0, vmax=300)
cmap = mpl.cm.ScalarMappable(norm=norm, cmap=mpl.cm.Spectral)
cmap.set_array([])

cbar_ax = fig.add_axes([0.65, 0.88, 0.2, 0.025])
cbar = fig.colorbar(cmap, cax=cbar_ax,label='Epicentral distance (km)',orientation='horizontal')
cbar.set_ticks([0,100,200,300])
# ----------------------------------------------------------------------------------------------------------

# ----------------------------------------------------------------------------------------------------------
# Saving figure
os.makedirs(FOLDER_OUTPUT+'FIGURAS/EVENT_MSEED_LOCAL_NOT_CATALOG/',exist_ok=True)
fig.savefig(FOLDER_OUTPUT+'FIGURAS/EVENT_MSEED_LOCAL_NOT_CATALOG/event_mseed_SE_'+ev_time.strftime('%Y_%m_%d_%H_%M_%S')+name_glider+'.png',pad_inches=0.02,dpi=200)







