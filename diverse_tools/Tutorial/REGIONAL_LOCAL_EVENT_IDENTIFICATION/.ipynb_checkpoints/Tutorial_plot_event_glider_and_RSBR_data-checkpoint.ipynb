{
 "cells": [
  {
   "cell_type": "markdown",
   "id": "e0fddd9e-46ff-4cb2-9309-dfd538b266de",
   "metadata": {},
   "source": [
    "# Importando módulos "
   ]
  },
  {
   "cell_type": "code",
   "execution_count": 1,
   "id": "f83f06ed-ae77-4916-bb82-bbfc52002402",
   "metadata": {},
   "outputs": [],
   "source": [
    "import obspy\n",
    "from obspy.taup import TauPyModel\n",
    "\n",
    "from multiprocessing import Pool\n",
    "from obspy import read,UTCDateTime,Trace,read_inventory,read_events\n",
    "from obspy.imaging.beachball import beachball,beach\n",
    "from obspy.clients.fdsn import Client\n",
    "import os\n",
    "import glob\n",
    "import numpy as np\n",
    "from collections import defaultdict\n",
    "import pandas as pd\n",
    "from scipy import signal\n",
    "import subprocess\n",
    "\n",
    "\n",
    "#para plotar as figuras\n",
    "import matplotlib as mpl\n",
    "import matplotlib.pyplot as plt\n",
    "from matplotlib.transforms import offset_copy\n",
    "import matplotlib.ticker as ticker\n",
    "from mpl_toolkits.axes_grid1 import make_axes_locatable\n",
    "from matplotlib.colors import ListedColormap\n",
    "import matplotlib.dates as mdates\n",
    "from mpl_toolkits.axes_grid1.inset_locator import InsetPosition,inset_axes\n",
    "import matplotlib.cm as cm\n",
    "from matplotlib.dates import YearLocator, MonthLocator, DayLocator, HourLocator, MinuteLocator, SecondLocator, DateFormatter\n",
    "from matplotlib.ticker import MultipleLocator, FormatStrFormatter,FixedLocator,StrMethodFormatter\n",
    "\n",
    "import matplotlib.colors as mcolors\n",
    "\n",
    "from datetime import datetime,timedelta,date\n",
    "from tqdm import tqdm\n",
    "\n",
    "from shapely.geometry.polygon import LinearRing\n",
    "\n",
    "import cartopy.io.shapereader as shpreader\n",
    "import cartopy.crs as ccrs\n",
    "import cartopy.feature as cfeature\n",
    "from cartopy.mpl.ticker import LongitudeFormatter,LatitudeFormatter\n",
    "import requests\n",
    "import csv\n",
    "import xml.etree.ElementTree as ET"
   ]
  },
  {
   "cell_type": "markdown",
   "id": "c1d54cc3-b406-49ec-9415-01223ff31c45",
   "metadata": {},
   "source": [
    "# Inputs e Outputs Directories"
   ]
  },
  {
   "cell_type": "code",
   "execution_count": 2,
   "id": "dcf6c056-6e23-48ce-b05d-dda5a0b4b2d2",
   "metadata": {},
   "outputs": [],
   "source": [
    "FOLDER_OUTPUT = '/home/sysop/dados_posdoc/GLIDER_PETROBRAS/OUTPUT/'\n",
    "MSEED_INPUT = \"/home/sysop/dados_posdoc/GLIDER_PETROBRAS/DATA/\"\n",
    "LOCAL_EVENTS_TABLE = \"/home/sysop/dados_posdoc/GLIDER_PETROBRAS/TERREMOTOS_SISBRA_2022/iag_catalogo_costa.csv\"\n",
    "XML_FILE = '/home/sysop/dados_posdoc/GLIDER_PETROBRAS/XML/glider_nettab_per_dive.xml'\n",
    "METADATA_FILE = '/home/sysop/dados_posdoc/GLIDER_PETROBRAS/METADATA/df_campanha_glider.feather'\n",
    "MODEL_CAKE = '/home/sysop/dados_posdoc/GLIDER_PETROBRAS/EARTH_MODEL_AREA/model_ak135_SOFAR.nd'"
   ]
  },
  {
   "cell_type": "code",
   "execution_count": 3,
   "id": "eab56267-f606-4d89-b091-d8ea0da3df91",
   "metadata": {},
   "outputs": [],
   "source": [
    "selected_events = glob.glob(FOLDER_OUTPUT+'FIGURAS/EVENT_SELECTED_TELESEISMIC/*/*')"
   ]
  },
  {
   "cell_type": "code",
   "execution_count": 5,
   "id": "2661cda9-bac5-4076-a964-b686a2e06514",
   "metadata": {},
   "outputs": [],
   "source": [
    "selected_events_lst = []\n",
    "selected_events_lst_phase = [] \n",
    "for img in selected_events:\n",
    "    selected_events_lst.append(img.split('/')[-1].split('.')[0].split('_')[-1])\n",
    "    selected_events_lst_phase.append([img.split('/')[-1].split('.')[0].split('_')[3],img.split('/')[-1].split('.')[0].split('_')[-1]])"
   ]
  },
  {
   "cell_type": "code",
   "execution_count": 6,
   "id": "61e71e80-ed90-4229-9eeb-3082983f31cb",
   "metadata": {},
   "outputs": [],
   "source": [
    "selected_events_lst = list(set(selected_events_lst))"
   ]
  },
  {
   "cell_type": "code",
   "execution_count": 7,
   "id": "06c1483d-f978-41d6-89d9-2e08e8b3b3bd",
   "metadata": {},
   "outputs": [
    {
     "data": {
      "text/plain": [
       "['201810290654A',\n",
       " '201802251744A',\n",
       " '201707180205A',\n",
       " '201706221231A',\n",
       " '202001200651A',\n",
       " '201611041620A',\n",
       " '202003250249A',\n",
       " '201704150819A',\n",
       " '201701100613A',\n",
       " '201706140729A',\n",
       " '201810131110A',\n",
       " '201907111708A',\n",
       " '201902171435A']"
      ]
     },
     "execution_count": 7,
     "metadata": {},
     "output_type": "execute_result"
    }
   ],
   "source": [
    "selected_events_lst"
   ]
  },
  {
   "cell_type": "code",
   "execution_count": 8,
   "id": "c520ce1f-e7ad-4324-9f07-4cbf647d326f",
   "metadata": {},
   "outputs": [],
   "source": [
    "selected_events_pdf = glob.glob(FOLDER_OUTPUT+'FIGURAS/EVENT_MSEED_TELESEISMIC/*/*/*.pdf')"
   ]
  },
  {
   "cell_type": "code",
   "execution_count": 14,
   "id": "fbf95db7-c92d-4ad1-9a9a-731ddcb7c2c1",
   "metadata": {},
   "outputs": [],
   "source": [
    "lst_final_pdf = []\n",
    "for i in sorted(selected_events_lst):\n",
    "    for k in sorted(selected_events_pdf):\n",
    "        if i in k:\n",
    "            lst_final_pdf.append(k)"
   ]
  },
  {
   "cell_type": "code",
   "execution_count": 16,
   "id": "cd8c8a0b-3de0-4106-be6c-5bbfeca8eb6a",
   "metadata": {},
   "outputs": [],
   "source": [
    "for i in lst_final_pdf:\n",
    "    os.system('cp '+i+' /home/sysop/dados_posdoc/GLIDER_PETROBRAS/OUTPUT/FIGURAS/EVENT_SELECTED_TELESEISMIC_PDF/'+i.split('/')[-1])"
   ]
  },
  {
   "cell_type": "code",
   "execution_count": null,
   "id": "2d01fabf-f6d6-4360-b634-3d785b1d9749",
   "metadata": {},
   "outputs": [],
   "source": []
  }
 ],
 "metadata": {
  "kernelspec": {
   "display_name": "Python 3 (ipykernel)",
   "language": "python",
   "name": "python3"
  },
  "language_info": {
   "codemirror_mode": {
    "name": "ipython",
    "version": 3
   },
   "file_extension": ".py",
   "mimetype": "text/x-python",
   "name": "python",
   "nbconvert_exporter": "python",
   "pygments_lexer": "ipython3",
   "version": "3.11.6"
  }
 },
 "nbformat": 4,
 "nbformat_minor": 5
}
