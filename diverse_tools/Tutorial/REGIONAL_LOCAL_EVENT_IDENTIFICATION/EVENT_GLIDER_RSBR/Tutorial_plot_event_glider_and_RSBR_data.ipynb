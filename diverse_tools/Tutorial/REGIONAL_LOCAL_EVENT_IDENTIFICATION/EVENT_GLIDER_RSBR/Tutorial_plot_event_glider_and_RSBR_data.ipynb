{
 "cells": [
  {
   "cell_type": "markdown",
   "id": "e0fddd9e-46ff-4cb2-9309-dfd538b266de",
   "metadata": {},
   "source": [
    "# Importando módulos "
   ]
  },
  {
   "cell_type": "code",
   "execution_count": 3,
   "id": "f83f06ed-ae77-4916-bb82-bbfc52002402",
   "metadata": {
    "tags": []
   },
   "outputs": [],
   "source": [
    "import obspy\n",
    "from obspy.taup import TauPyModel\n",
    "\n",
    "from multiprocessing import Pool\n",
    "from obspy import read,UTCDateTime,Trace,read_inventory,read_events\n",
    "from obspy.imaging.beachball import beachball,beach\n",
    "from obspy.clients.fdsn import Client\n",
    "import os\n",
    "import glob\n",
    "import numpy as np\n",
    "from collections import defaultdict\n",
    "import pandas as pd\n",
    "from scipy import signal\n",
    "import subprocess\n",
    "from sklearn import preprocessing\n",
    "\n",
    "\n",
    "#para plotar as figuras\n",
    "import matplotlib as mpl\n",
    "import matplotlib.pyplot as plt\n",
    "from matplotlib.transforms import offset_copy\n",
    "import matplotlib.ticker as ticker\n",
    "from mpl_toolkits.axes_grid1 import make_axes_locatable\n",
    "from matplotlib.colors import ListedColormap\n",
    "import matplotlib.dates as mdates\n",
    "from mpl_toolkits.axes_grid1.inset_locator import InsetPosition,inset_axes\n",
    "import matplotlib.cm as cm\n",
    "from matplotlib.dates import YearLocator, MonthLocator, DayLocator, HourLocator, MinuteLocator, SecondLocator, DateFormatter\n",
    "from matplotlib.ticker import MultipleLocator, FormatStrFormatter,FixedLocator,StrMethodFormatter\n",
    "\n",
    "import matplotlib.colors as mcolors\n",
    "\n",
    "from datetime import datetime,timedelta,date\n",
    "from tqdm import tqdm\n",
    "\n",
    "from shapely.geometry.polygon import LinearRing\n",
    "\n",
    "import cartopy.io.shapereader as shpreader\n",
    "import cartopy.crs as ccrs\n",
    "import cartopy.feature as cfeature\n",
    "from cartopy.mpl.ticker import LongitudeFormatter,LatitudeFormatter\n",
    "import requests\n",
    "import csv\n",
    "import xml.etree.ElementTree as ET"
   ]
  },
  {
   "cell_type": "markdown",
   "id": "c1d54cc3-b406-49ec-9415-01223ff31c45",
   "metadata": {},
   "source": [
    "# Inputs e Outputs Directories"
   ]
  },
  {
   "cell_type": "code",
   "execution_count": 4,
   "id": "dcf6c056-6e23-48ce-b05d-dda5a0b4b2d2",
   "metadata": {
    "tags": []
   },
   "outputs": [],
   "source": [
    "#FOLDER_OUTPUT = '/home/sysop/dados_posdoc/GLIDER_PETROBRAS/OUTPUT/'\n",
    "#MSEED_INPUT = \"/home/sysop/dados_posdoc/GLIDER_PETROBRAS/DATA/\"\n",
    "#EVENTS_FILES = \"/home/sysop/dados_posdoc/GLIDER_PETROBRAS/DATA_EVENTS/\"\n",
    "#EVENTS_GLIDER_FILES = \"/home/sysop/dados_posdoc/GLIDER_PETROBRAS/OUTPUT/EVENTS_GLIDERS/\"\n",
    "#QUAKEXML_FOLDER = '/home/sysop/dados_posdoc/GLIDER_PETROBRAS/OUTPUT/EVENTS/'\n",
    "#METADATA_FILE = '/home/sysop/dados_posdoc/GLIDER_PETROBRAS/METADATA/df_campanha_glider.feather'\n",
    "#MODEL_CAKE = '/home/sysop/dados_posdoc/GLIDER_PETROBRAS/EARTH_MODEL_AREA/model_ak135_SOFAR.nd'\n",
    "#LOCAL_EVENTS_TABLE = \"/home/sysop/dados_posdoc/GLIDER_PETROBRAS/TERREMOTOS_SISBRA_2022/iag_catalogo_costa.csv\"\n",
    "\n",
    "# --------------------------------------------------------------------------------------------\n",
    "FOLDER_OUTPUT = '/media/sysop/14f7ead0-5dcb-4557-a139-55dbb404d11a/diogoloc/dados_posdoc/Gliders_DATA/OUTPUT/'\n",
    "MSEED_INPUT = \"/media/sysop/14f7ead0-5dcb-4557-a139-55dbb404d11a/diogoloc/dados_posdoc/Gliders_DATA/DATA/\"\n",
    "EVENTS_FILES = \"/media/sysop/14f7ead0-5dcb-4557-a139-55dbb404d11a/diogoloc/dados_posdoc/Gliders_DATA/OUTPUT/DATA_EVENTS/\"\n",
    "EVENTS_GLIDER_FILES = \"/media/sysop/14f7ead0-5dcb-4557-a139-55dbb404d11a/diogoloc/dados_posdoc/Gliders_DATA/OUTPUT/EVENTS_GLIDERS/\"\n",
    "QUAKEXML_FOLDER = '/media/sysop/14f7ead0-5dcb-4557-a139-55dbb404d11a/diogoloc/dados_posdoc/Gliders_DATA/OUTPUT/EVENTS/'\n",
    "METADATA_FILE = '/media/sysop/14f7ead0-5dcb-4557-a139-55dbb404d11a/diogoloc/dados_posdoc/Gliders_DATA/METADATA/df_campanha_glider.feather'\n",
    "MODEL_CAKE = '/media/sysop/14f7ead0-5dcb-4557-a139-55dbb404d11a/diogoloc/dados_posdoc/Gliders_DATA/EARTH_MODEL_AREA/model_ak135_SOFAR.nd'\n",
    "LOCAL_EVENTS_TABLE = \"/media/sysop/14f7ead0-5dcb-4557-a139-55dbb404d11a/diogoloc/dados_posdoc/Gliders_DATA/event_files/iag_catalogo_costa.csv\"\n"
   ]
  },
  {
   "cell_type": "markdown",
   "id": "5ac4d863-fde1-4b5f-a9b2-9680b4bb7173",
   "metadata": {},
   "source": [
    "# Looking for stations files:"
   ]
  },
  {
   "cell_type": "code",
   "execution_count": 5,
   "id": "eab56267-f606-4d89-b091-d8ea0da3df91",
   "metadata": {
    "tags": []
   },
   "outputs": [],
   "source": [
    "selected_events = glob.glob(EVENTS_FILES+'*/*/*/*/*')"
   ]
  },
  {
   "cell_type": "code",
   "execution_count": 7,
   "id": "06641c0a-1375-42d0-b858-549b6fbd6ad7",
   "metadata": {
    "tags": []
   },
   "outputs": [],
   "source": [
    "ev_lst = []\n",
    "for ev_time_path in selected_events:\n",
    "    ev_lst.append(ev_time_path.split('/')[-1])"
   ]
  },
  {
   "cell_type": "code",
   "execution_count": 8,
   "id": "ece8aa75-a878-4f54-ae3a-ae7a75affc08",
   "metadata": {
    "tags": []
   },
   "outputs": [],
   "source": [
    "ev_time_lst = sorted(list(set(ev_lst)))"
   ]
  },
  {
   "cell_type": "code",
   "execution_count": 9,
   "id": "2661cda9-bac5-4076-a964-b686a2e06514",
   "metadata": {
    "tags": []
   },
   "outputs": [],
   "source": [
    "selected_ev_folder_lst = []\n",
    "for ev in ev_time_lst:\n",
    "    temp = []\n",
    "    for ev_path in selected_events:\n",
    "        if ev in ev_path:\n",
    "            temp.append(ev_path)\n",
    "    selected_ev_folder_lst.append(temp)"
   ]
  },
  {
   "cell_type": "code",
   "execution_count": 10,
   "id": "61e71e80-ed90-4229-9eeb-3082983f31cb",
   "metadata": {
    "tags": []
   },
   "outputs": [],
   "source": [
    "st_ev_lst = []*len(selected_ev_folder_lst)\n",
    "ev_coord_lst = []\n",
    "for k in selected_ev_folder_lst:\n",
    "    st = obspy.Stream()\n",
    "    for i in k:\n",
    "        ev_Z_file = glob.glob(i+'/*.Z')\n",
    "        if len(ev_Z_file) > 0:\n",
    "            trace = obspy.read(ev_Z_file[0])[0]\n",
    "            trace.stats.distance = trace.stats.sac.dist \n",
    "            # Set the latitude and longitude \n",
    "            trace.stats.coordinates = {'latitude':trace.stats.sac.stla, 'longitude':trace.stats.sac.stlo}\n",
    "            ev_coord = (trace.stats.sac.evla,trace.stats.sac.evlo)\n",
    "            st += trace\n",
    "    ev_coord_lst.append(ev_coord)\n",
    "    st_ev_lst.append(st)"
   ]
  },
  {
   "cell_type": "markdown",
   "id": "07f57f36-5d32-41b6-bb99-6247bab9eb4a",
   "metadata": {},
   "source": [
    "# Looking for gliders files:"
   ]
  },
  {
   "cell_type": "code",
   "execution_count": 11,
   "id": "c2afeff2-0fea-44cb-ab5d-d564488d3dce",
   "metadata": {
    "tags": []
   },
   "outputs": [],
   "source": [
    "selected_glider_events = glob.glob(EVENTS_GLIDER_FILES+'*/*/*/*/*')"
   ]
  },
  {
   "cell_type": "code",
   "execution_count": 12,
   "id": "afae80d0-bb9c-40b5-ab9b-cf9f42a9a05f",
   "metadata": {
    "tags": []
   },
   "outputs": [],
   "source": [
    "selected_glider_ev_folder_lst = []\n",
    "for ev in ev_time_lst:\n",
    "    temp = []\n",
    "    for ev_path in selected_glider_events:\n",
    "        if ev in ev_path:\n",
    "            temp.append(ev_path)\n",
    "    selected_glider_ev_folder_lst.append(temp)"
   ]
  },
  {
   "cell_type": "code",
   "execution_count": 14,
   "id": "343b5b17-8079-4a98-971f-f19cebe1da44",
   "metadata": {
    "tags": []
   },
   "outputs": [],
   "source": [
    "st_glider_ev_lst = []*len(selected_glider_ev_folder_lst)\n",
    "ev_coord_lst = []\n",
    "for k in selected_glider_ev_folder_lst:\n",
    "    st = obspy.Stream()\n",
    "    for i in k:\n",
    "        ev_Z_file = glob.glob(i+'/*.H')\n",
    "        if len(ev_Z_file) > 0:\n",
    "            trace = obspy.read(ev_Z_file[0])[0]\n",
    "            trace.stats.distance = trace.stats.sac.dist \n",
    "            # Set the latitude and longitude \n",
    "            trace.stats.coordinates = {'latitude':trace.stats.sac.stla, 'longitude':trace.stats.sac.stlo}\n",
    "            ev_coord = (trace.stats.sac.evla,trace.stats.sac.evlo)\n",
    "            st += trace\n",
    "    ev_coord_lst.append(ev_coord)\n",
    "    st_glider_ev_lst.append(st)"
   ]
  },
  {
   "cell_type": "code",
   "execution_count": 15,
   "id": "8de86f5c-0c43-4d87-8d20-7a8b80015eb5",
   "metadata": {
    "tags": []
   },
   "outputs": [],
   "source": [
    "ev_time_UTC_lst = []\n",
    "for i in ev_time_lst:      \n",
    "        ev_time_UTC_lst.append(UTCDateTime.strptime(i[:17],format='%Y.%j.%H.%M.%S'))"
   ]
  },
  {
   "cell_type": "markdown",
   "id": "ac6fada8-1155-40ea-bf8e-209d24e837b0",
   "metadata": {},
   "source": [
    "# Figure REGIONAL\n"
   ]
  },
  {
   "cell_type": "code",
   "execution_count": 19,
   "id": "6fde5c4d-aba6-43ad-9d62-87647f86ebd3",
   "metadata": {},
   "outputs": [
    {
     "data": {
      "text/plain": [
       "['/media/sysop/14f7ead0-5dcb-4557-a139-55dbb404d11a/diogoloc/dados_posdoc/Gliders_DATA/OUTPUT/EVENTS/event_2020_03_25_brazil.xml',\n",
       " '/media/sysop/14f7ead0-5dcb-4557-a139-55dbb404d11a/diogoloc/dados_posdoc/Gliders_DATA/OUTPUT/EVENTS/CMTSOLUTIONS.xml',\n",
       " '/media/sysop/14f7ead0-5dcb-4557-a139-55dbb404d11a/diogoloc/dados_posdoc/Gliders_DATA/OUTPUT/EVENTS/FIGURES']"
      ]
     },
     "execution_count": 19,
     "metadata": {},
     "output_type": "execute_result"
    }
   ],
   "source": [
    "glob.glob(QUAKEXML_FOLDER+'*')"
   ]
  },
  {
   "cell_type": "code",
   "execution_count": null,
   "id": "06c1483d-f978-41d6-89d9-2e08e8b3b3bd",
   "metadata": {
    "tags": []
   },
   "outputs": [],
   "source": [
    "#########################################################################################################################################################\n",
    "#Figure REGIONAL\n",
    "\n",
    "# Matching the events files with the catalog:\n",
    "cat = obspy.read_events(QUAKEXML_FOLDER+'CMTSOLUTIONS.xml')\n",
    "model = TauPyModel(model=\"iasp91\")\n",
    "\n",
    "for id,st_p in enumerate(st_ev_lst):\n",
    "    cat2 = cat.filter(\"time >= \"+UTCDateTime.strftime(ev_time_UTC_lst[id]-60,format='%Y-%m-%dT%H:%M:%S'),\"time <= \"+UTCDateTime.strftime(ev_time_UTC_lst[id]+60,format='%Y-%m-%dT%H:%M:%S'))\n",
    "    if len(cat2) > 0 and len(st_glider_ev_lst[id]) > 0:\n",
    "        ev = cat2[0]\n",
    "        event = ev.origins[-1].time\n",
    "        ev_lat = ev.origins[-1].latitude\n",
    "        ev_long = ev.origins[-1].longitude\n",
    "        ev_depth = ev.origins[-1].depth/1000\n",
    "   \n",
    "        # set up the plot and create a GeoAxes:\n",
    "        fig = plt.figure(figsize=(10,5))\n",
    "        ax = fig.add_subplot()\n",
    "        \n",
    "        for st_plot in st_p:\n",
    "            st_plot.filter('lowpass',freq=3,corners=4,zerophase=True)\n",
    "            st_plot.taper(type='cosine',max_percentage=0.1)\n",
    "            st_plot.detrend('linear')\n",
    "            st_plot.detrend('demean')\n",
    "            \n",
    "            #Event time at each station\n",
    "            #Calculating distance, azimuth and backazimuth\n",
    "            dist,az,baz = obspy.geodetics.gps2dist_azimuth(ev_lat,ev_long,st_plot.stats.sac.stla,st_plot.stats.sac.stlo)\n",
    "            gcarc = obspy.geodetics.kilometer2degrees(dist/1000)\n",
    "            arrival = model.get_travel_times(source_depth_in_km=ev_depth,distance_in_degree=gcarc,phase_list=[\"P\"])\n",
    "            if len(arrival) > 0:\n",
    "                event_time = event+arrival[0].time\n",
    "          \n",
    "                times = [mdates.date2num((event+arrival[0].time)+(i-30)) for i in st_plot.times()]\n",
    "    \n",
    "                ax.plot(times[1000:20000],gcarc+preprocessing.normalize([st_plot.data[1000:20000]])[0]*10,c='grey',ls='-',lw=0.5)\n",
    "                ax.plot(mdates.date2num(event_time),gcarc,'or',alpha=0.3)\n",
    "                ax.text(x=times[1000],y=st_plot.stats.sac.gcarc,s=st_plot.stats.station+'.'+st_plot.stats.channel,ha=\"center\",va=\"center\",bbox=dict(boxstyle=\"round\",ec='k',fc='w',alpha=0.5))\n",
    "            \n",
    "        for st_glider_plot in st_glider_ev_lst[id]:\n",
    "            st_glider_plot.filter('lowpass',freq=3,corners=4,zerophase=True)\n",
    "            st_glider_plot.taper(type='cosine',max_percentage=0.1)\n",
    "            st_glider_plot.detrend('linear')\n",
    "            st_glider_plot.detrend('demean')\n",
    "\n",
    "            #Event time at each station\n",
    "            #Calculating distance, azimuth and backazimuth\n",
    "            dist,az,baz = obspy.geodetics.gps2dist_azimuth(ev_lat,ev_long,st_glider_plot.stats.sac.stla,st_glider_plot.stats.sac.stlo)\n",
    "            gcarc = obspy.geodetics.kilometer2degrees(dist/1000)\n",
    "            arrival = model.get_travel_times(source_depth_in_km=ev_depth,distance_in_degree=gcarc,phase_list=[\"P\",\"pP\"])\n",
    "            if len(arrival) > 0:\n",
    "    \n",
    "                event_time = event+arrival[0].time\n",
    "                \n",
    "                times_glider = [mdates.date2num((event+arrival[0].time)+(i-30)) for i in st_glider_plot.times()]\n",
    "    \n",
    "                ax.plot(times_glider[1000:20000],gcarc+preprocessing.normalize([st_glider_plot.data[1000:20000]])[0]*15,c='k',ls='-',lw=0.5,label='Lowpassed 3 Hz')\n",
    "                ax.plot(mdates.date2num(event_time),gcarc,'or',alpha=0.3,label='P-wave arrival')\n",
    "                ax.text(x=times_glider[1000],y=gcarc,s=st_glider_plot.stats.station+'.'+st_glider_plot.stats.channel,ha=\"right\",va=\"center\",bbox=dict(boxstyle=\"round\",ec='k',fc='r',alpha=0.75))\n",
    "                \n",
    "        ax.set_title(ev.origins[0].time.strftime('%Y-%m-%dT%H:%M:%S')+'\\n Mag: '+str(ev.magnitudes[0].mag)+' '+ev.magnitudes[0].magnitude_type+' / Dep: '+str(round(ev_depth))+' km',fontsize=15)\n",
    "        ax.set_ylabel('Epicentral distance ($^\\circ$)')\n",
    "        ax.legend(loc='lower left')\n",
    "        ax.xaxis.set_major_locator(mdates.SecondLocator(interval=60))\n",
    "        ax.xaxis.set_minor_locator(mdates.SecondLocator(interval=10))\n",
    "        ax.xaxis.set_major_formatter(mdates.DateFormatter('%H:%M'))\n",
    "\n",
    "        # ----------------------------------------------------------------------------------------------------------\n",
    "        # focal mechanisms\n",
    "        # ----------------------------------------------------------------------------------------------------------\n",
    "\n",
    "        newax = fig.add_axes([0.6, 0.0, 0.4,  0.4])\n",
    "\n",
    "        moment_tensor = ev.focal_mechanisms[0].moment_tensor\n",
    "        mrr = moment_tensor.tensor.m_rr\n",
    "        mtt = moment_tensor.tensor.m_tt\n",
    "        mpp = moment_tensor.tensor.m_pp\n",
    "        mrt = moment_tensor.tensor.m_rt\n",
    "        mrp = moment_tensor.tensor.m_rp\n",
    "        mtp = moment_tensor.tensor.m_tp\n",
    "        mt = [mrr, mtt, mpp, mrt, mrp, mtp]\n",
    "\n",
    "        bball = beach(fm=mt, xy=(0.5, 0.5),size=500, width=1, facecolor='b')\n",
    "        \n",
    "        # Configura os eixos e adiciona a coleção\n",
    "        newax.add_collection(bball)\n",
    "        newax.set_xlim(-1, 1)\n",
    "        newax.set_ylim(-1, 1)\n",
    "        newax.set_aspect('equal')\n",
    "        newax.axis('off')\n",
    "        \n",
    "        # ----------------------------------------------------------------------------------------------------------\n",
    "        # Adding global location map\n",
    "        # ----------------------------------------------------------------------------------------------------------\n",
    "        # Limit the extent of the map to a small longitude/latitude range.\n",
    "        latmin=-27\n",
    "        latmax=-22\n",
    "        lonmin=-50\n",
    "        lonmax=-40\n",
    "        \n",
    "        # inset location relative to main plot (ax) in normalized units\n",
    "        inset_x = 0\n",
    "        inset_y = 1\n",
    "        inset_size = 0.4\n",
    "\n",
    "        # Adding Geoaxes\n",
    "        ax_map = plt.axes([0.05, 0.5, 0.3, 0.3], projection=ccrs.Orthographic(central_latitude=(latmin + latmax)/2,central_longitude=(lonmin + lonmax) / 2))\n",
    "        ax_map.set_global()\n",
    "\n",
    "        # Adding background map \n",
    "        ax_map.add_feature(cfeature.LAND)\n",
    "        ax_map.add_feature(cfeature.OCEAN)\n",
    "        ax_map.add_feature(cfeature.COASTLINE)\n",
    "\n",
    "        ax_map.scatter(ev_long,ev_lat,color=\"y\",marker='*',s=200,ec='k',transform=ccrs.PlateCarree())\n",
    "        ax_map.scatter(st_glider_plot.stats.sac.stlo,st_glider_plot.stats.sac.stla,color=\"r\",marker='^',s=50,transform=ccrs.PlateCarree())\n",
    "        ax_map.plot([st_glider_plot.stats.sac.stlo, ev_long], [st_glider_plot.stats.sac.stla, ev_lat], c='gray',ls='-',lw=2, transform=ccrs.Geodetic())\n",
    "      \n",
    "        # ----------------------------------------------------------------------------------------------------------\n",
    "        # Saving figure\n",
    "        os.makedirs(FOLDER_OUTPUT+'EVENTS/FIGURES/REGIONAL/',exist_ok=True)\n",
    "        fig.savefig(FOLDER_OUTPUT+'EVENTS/FIGURES/REGIONAL/'+'event_mseed_'+ev.origins[0].time.strftime('%Y_%m_%d_%H_%M_%S')+'_'+ev.event_descriptions[0].text+'.png',pad_inches=0.01,dpi=100)\n",
    "        plt.close()"
   ]
  },
  {
   "cell_type": "markdown",
   "id": "619af1cf-ea4c-4111-8775-7f1fab24e0d1",
   "metadata": {},
   "source": [
    "# Figure LOCAL\n"
   ]
  },
  {
   "cell_type": "code",
   "execution_count": 38,
   "id": "703f4876-ed95-40b0-a574-692087fa7053",
   "metadata": {},
   "outputs": [],
   "source": [
    "def cake_arrival_times(model,event_depth_km,sensor_depth_km,distance_km,ocean):\n",
    "    '''\n",
    "    Input:\n",
    "    \n",
    "    model = path to the cake model (.nd)\n",
    "    event_depth = depth of the earthquake/seismic event (km)\n",
    "    sensor_depth = depth of the sensor (km)\n",
    "    distance = epicentral distance (km)\n",
    "    ocean =  Is this station in the ocean?  ('True' or 'False')\n",
    "    \n",
    "    Output:\n",
    "    Dataframe (slow/dist/time/take/inci/effi/spre/phase/used)\n",
    "    '''\n",
    "    \n",
    "    if ocean == True and distance_km < 150:\n",
    "        '''\n",
    "        Seismic waves arriving at stations at local distances of up to about 150 km have traveled exclusively or dominatingly through the crust or the sub-crustal uppermost mantle.\n",
    "        Source: https://earthquake.tmd.go.th/file_downloads/wave_interpret/PartChapter%202.pdf\n",
    "        '''\n",
    "        command = 'cake arrivals --model='+model+' --sdepth='+str(event_depth_km)+' --rdepth='+str(sensor_depth_km)+' --distances='+str(distance_km)+\" --phases='p(seafloor)p,s(seafloor)p,s(seafloor)p^Pv(seafloor)p^Pv(seafloor)p^Pv(seafloor)p^Pv(seafloor)p^Pv(seafloor)p^Pv(seafloor)p^Pv(seafloor)p^Pv(seafloor)p^Pv(seafloor)p^Pv(seafloor)p^Pv(seafloor)p^Pv(seafloor)p'\"\n",
    "        proc = subprocess.Popen(command, stdout=subprocess.PIPE, shell=True,text=True)\n",
    "        (out, err) = proc.communicate()\n",
    "        results = out.splitlines()\n",
    "    \n",
    "        # creating the dataframe with the results\n",
    "        keys = results[0].split()\n",
    "        lst_cake_results = []\n",
    "        for i in results[3:]:\n",
    "            values = i.split()\n",
    "            lst_cake_results.append(dict(zip(keys, values)))\n",
    "    \n",
    "        df_cake = pd.DataFrame(lst_cake_results)\n",
    "        if len(df_cake) > 0:\n",
    "\n",
    "            # getting arrival time\n",
    "            P_time = df_cake['time'][df_cake['used'] == '(p(seafloor)p)'].values[0]            \n",
    "            return P_time    \n",
    "        \n",
    "    if ocean == False and distance_km < 150:\n",
    "        command = 'cake arrivals --model='+model+' --sdepth='+str(event_depth_km)+' --rdepth='+str(sensor_depth_km)+' --distances='+str(distance_km)+\" --phases='p,s'\"\n",
    "        proc = subprocess.Popen(command, stdout=subprocess.PIPE, shell=True,text=True)\n",
    "        (out, err) = proc.communicate()\n",
    "        results = out.splitlines()\n",
    "    \n",
    "        # creating the dataframe with the results\n",
    "        keys = results[0].split()\n",
    "        lst_cake_results = []\n",
    "        for i in results[3:]:\n",
    "            values = i.split()\n",
    "            lst_cake_results.append(dict(zip(keys, values)))\n",
    "    \n",
    "        df_cake = pd.DataFrame(lst_cake_results)\n",
    "        if len(df_cake) > 0:\n",
    "            \n",
    "            # getting arrival time\n",
    "            P_time = df_cake['time'][df_cake['used'] == '(p)'].values[0]\n",
    "            return P_time          \n",
    "    \n",
    "    if ocean == False and distance_km > 150:  \n",
    "        gcarc = obspy.geodetics.kilometer2degrees(distance_km)\n",
    "        command = 'cake arrivals --model='+model+' --sdepth='+str(event_depth_km)+' --rdepth='+str(sensor_depth_km)+' --distances='+str(gcarc)+\" --degrees --phases='P,S'\"\n",
    "        proc = subprocess.Popen(command, stdout=subprocess.PIPE, shell=True,text=True)\n",
    "        (out, err) = proc.communicate()\n",
    "        results = out.splitlines()\n",
    "    \n",
    "        # creating the dataframe with the results\n",
    "        keys = results[0].split()\n",
    "        lst_cake_results = []\n",
    "        for i in results[3:]:\n",
    "            values = i.split()\n",
    "            lst_cake_results.append(dict(zip(keys, values)))\n",
    "    \n",
    "        df_cake = pd.DataFrame(lst_cake_results)\n",
    "        if len(df_cake) > 0:\n",
    "        \n",
    "            # getting arrival time\n",
    "            P_time = df_cake['time'][df_cake['used'] == '(P)'].values[0]\n",
    "            return P_time  \n",
    "\n",
    "        \n",
    "    if ocean == True and distance_km > 150:  \n",
    "        gcarc = obspy.geodetics.kilometer2degrees(distance_km)\n",
    "        command = 'cake arrivals --model='+model+' --sdepth='+str(event_depth_km)+' --rdepth='+str(sensor_depth_km)+' --distances='+str(gcarc)+\" --degrees --phases='P,S,S(seafloor)p,s(seafloor)p^Pv(seafloor)p^Pv(seafloor)p^Pv(seafloor)p^Pv(seafloor)p^Pv(seafloor)p^Pv(seafloor)p^Pv(seafloor)p^Pv(seafloor)p^Pv(seafloor)p^Pv(seafloor)p^Pv(seafloor)p^Pv(seafloor)p'\"\n",
    "        proc = subprocess.Popen(command, stdout=subprocess.PIPE, shell=True,text=True)\n",
    "        (out, err) = proc.communicate()\n",
    "        results = out.splitlines()\n",
    "    \n",
    "        # creating the dataframe with the results\n",
    "        keys = results[0].split()\n",
    "        lst_cake_results = []\n",
    "        for i in results[3:]:\n",
    "            values = i.split()\n",
    "            lst_cake_results.append(dict(zip(keys, values)))\n",
    "    \n",
    "        df_cake = pd.DataFrame(lst_cake_results)\n",
    "        if len(df_cake) > 0:\n",
    "            \n",
    "            # getting arrival time\n",
    "            P_time = df_cake['time'].values[0]\n",
    "            return P_time  "
   ]
  },
  {
   "cell_type": "code",
   "execution_count": 39,
   "id": "0ebd9042-c72a-4c28-83e5-51b3a4e8e3c0",
   "metadata": {
    "tags": []
   },
   "outputs": [
    {
     "name": "stderr",
     "output_type": "stream",
     "text": [
      "Traceback (most recent call last):\n",
      "  File \"/home/sysop/Programs/anaconda3/bin/cake\", line 11, in <module>\n",
      "    sys.exit(main())\n",
      "             ^^^^^^\n",
      "  File \"/home/sysop/Programs/anaconda3/lib/python3.11/site-packages/pyrocko/apps/cake.py\", line 724, in main\n",
      "    c = optparse(\n",
      "        ^^^^^^^^^\n",
      "  File \"/home/sysop/Programs/anaconda3/lib/python3.11/site-packages/pyrocko/apps/cake.py\", line 355, in optparse\n",
      "    d['model'] = cake.load_model(\n",
      "                 ^^^^^^^^^^^^^^^^\n",
      "  File \"/home/sysop/Programs/anaconda3/lib/python3.11/site-packages/pyrocko/cake.py\", line 4243, in load_model\n",
      "    mod = LayeredModel.from_scanlines(reader)\n",
      "          ^^^^^^^^^^^^^^^^^^^^^^^^^^^^^^^^^^^\n",
      "  File \"/home/sysop/Programs/anaconda3/lib/python3.11/site-packages/pyrocko/cake.py\", line 3612, in from_scanlines\n",
      "    for z, material, name in producer:\n",
      "  File \"/home/sysop/Programs/anaconda3/lib/python3.11/site-packages/pyrocko/cake.py\", line 4070, in read_nd_model\n",
      "    with open(fn, 'r') as f:\n",
      "         ^^^^^^^^^^^^^\n",
      "FileNotFoundError: [Errno 2] No such file or directory: '/media/sysop/14f7ead0-5dcb-4557-a139-55dbb404d11a/diogoloc/dados_posdoc/Gliders_DATA/EARTH_MODEL_AREA/model_ak135_SOFAR.nd'\n"
     ]
    },
    {
     "ename": "IndexError",
     "evalue": "list index out of range",
     "output_type": "error",
     "traceback": [
      "\u001b[0;31m---------------------------------------------------------------------------\u001b[0m",
      "\u001b[0;31mIndexError\u001b[0m                                Traceback (most recent call last)",
      "Cell \u001b[0;32mIn[39], line 43\u001b[0m\n\u001b[1;32m     38\u001b[0m dist_local \u001b[38;5;241m=\u001b[39m \u001b[38;5;28mround\u001b[39m(dist_local\u001b[38;5;241m/\u001b[39m\u001b[38;5;241m1000\u001b[39m,\u001b[38;5;241m2\u001b[39m)\n\u001b[1;32m     40\u001b[0m \u001b[38;5;28;01mif\u001b[39;00m dist_local \u001b[38;5;241m<\u001b[39m \u001b[38;5;241m500\u001b[39m:\n\u001b[1;32m     41\u001b[0m     \u001b[38;5;66;03m# --------------------------\u001b[39;00m\n\u001b[1;32m     42\u001b[0m     \u001b[38;5;66;03m#Calculating arrival times\u001b[39;00m\n\u001b[0;32m---> 43\u001b[0m     time_cake \u001b[38;5;241m=\u001b[39m cake_arrival_times(MODEL_CAKE,ev_depth_local,\u001b[38;5;241m1\u001b[39m,dist_local,ocean\u001b[38;5;241m=\u001b[39m\u001b[38;5;28;01mFalse\u001b[39;00m)\n\u001b[1;32m     44\u001b[0m     \u001b[38;5;28;01mif\u001b[39;00m time_cake \u001b[38;5;129;01mis\u001b[39;00m \u001b[38;5;129;01mnot\u001b[39;00m \u001b[38;5;28;01mNone\u001b[39;00m:\n\u001b[1;32m     45\u001b[0m         \u001b[38;5;66;03m# estimating the time\u001b[39;00m\n\u001b[1;32m     46\u001b[0m         event_time_local \u001b[38;5;241m=\u001b[39m event_local\u001b[38;5;241m+\u001b[39m\u001b[38;5;28mfloat\u001b[39m(time_cake)\n",
      "Cell \u001b[0;32mIn[38], line 67\u001b[0m, in \u001b[0;36mcake_arrival_times\u001b[0;34m(model, event_depth_km, sensor_depth_km, distance_km, ocean)\u001b[0m\n\u001b[1;32m     64\u001b[0m results \u001b[38;5;241m=\u001b[39m out\u001b[38;5;241m.\u001b[39msplitlines()\n\u001b[1;32m     66\u001b[0m \u001b[38;5;66;03m# creating the dataframe with the results\u001b[39;00m\n\u001b[0;32m---> 67\u001b[0m keys \u001b[38;5;241m=\u001b[39m results[\u001b[38;5;241m0\u001b[39m]\u001b[38;5;241m.\u001b[39msplit()\n\u001b[1;32m     68\u001b[0m lst_cake_results \u001b[38;5;241m=\u001b[39m []\n\u001b[1;32m     69\u001b[0m \u001b[38;5;28;01mfor\u001b[39;00m i \u001b[38;5;129;01min\u001b[39;00m results[\u001b[38;5;241m3\u001b[39m:]:\n",
      "\u001b[0;31mIndexError\u001b[0m: list index out of range"
     ]
    },
    {
     "data": {
      "image/png": "[encoded data removed]",
      "text/plain": [
       "<Figure size 1500x500 with 1 Axes>"
      ]
     },
     "metadata": {},
     "output_type": "display_data"
    }
   ],
   "source": [
    "#########################################################################################################################################################\n",
    "#Figure LOCAL\n",
    "\n",
    "# Matching the events files with the catalog:\n",
    "model = TauPyModel(model=\"iasp91\")\n",
    "\n",
    "events = pd.read_csv(LOCAL_EVENTS_TABLE,sep=',')\n",
    "events['time'] = events.apply(lambda row: UTCDateTime(row.origin), axis=1)\n",
    "events['date'] = events.apply(lambda row: UTCDateTime(row.origin).date, axis=1)\n",
    "\n",
    "for id,st_p_local in enumerate(st_ev_lst):\n",
    "    ev_file = events[(events['date'] == ev_time_UTC_lst[id].date)]\n",
    "    if ev_file.empty:\n",
    "        pass\n",
    "    else:\n",
    "        if len(st_glider_ev_lst[id]) > 0:\n",
    "\n",
    "            event_local = ev_file['time'].values[0]\n",
    "            ev_lat_local = ev_file.latitude.values[0]\n",
    "            ev_long_local = ev_file.longitude.values[0]\n",
    "            ev_depth_local = ev_file.depth.values[0]\n",
    "            if ev_depth_local == 0:\n",
    "                ev_depth_local = 10\n",
    "            ev_mag_local =  ev_file.magnitude.values[0]\n",
    "    \n",
    "            # set up the plot and create a GeoAxes:\n",
    "            fig_local = plt.figure(figsize=(15,5))\n",
    "            ax_local = fig_local.add_subplot()\n",
    "            for st_plot_local in st_p_local:\n",
    "                st_plot_local.filter('bandpass',freqmin=0.1,freqmax=10,corners=4,zerophase=True)\n",
    "                st_plot_local.taper(type='cosine',max_percentage=0.02)\n",
    "                st_plot_local.detrend('linear')\n",
    "                st_plot_local.detrend('demean')\n",
    "                \n",
    "                #Event time at each station\n",
    "                #Calculating distance, azimuth and backazimuth\n",
    "                dist_local,_,_ = obspy.geodetics.gps2dist_azimuth(ev_lat_local,ev_long_local,st_plot_local.stats.sac.stla,st_plot_local.stats.sac.stlo) \n",
    "                dist_local = round(dist_local/1000,2)\n",
    "                \n",
    "                if dist_local < 500:\n",
    "                    # --------------------------\n",
    "                    #Calculating arrival times\n",
    "                    time_cake = cake_arrival_times(MODEL_CAKE,ev_depth_local,1,dist_local,ocean=False)\n",
    "                    if time_cake is not None:\n",
    "                        # estimating the time\n",
    "                        event_time_local = event_local+float(time_cake)\n",
    "                        # --------------------------\n",
    "            \n",
    "                        times_local = [mdates.date2num(event_time_local+(i-60)) for i in st_plot_local.times()]\n",
    "                        \n",
    "                        ax_local.plot(times_local[1000:20000],dist_local+preprocessing.normalize([st_plot_local.data[1000:20000]])[0]*500,c='grey',ls='-',lw=0.5)\n",
    "                        ax_local.plot(mdates.date2num(event_time_local),dist_local,'or',alpha=0.3)\n",
    "                        ax_local.text(x=times_local[-1],y=st_plot_local.stats.sac.dist,s=st_plot_local.stats.station+'.'+st_plot_local.stats.channel,ha=\"center\",va=\"center\",bbox=dict(boxstyle=\"round\",ec='k',fc='w',alpha=0.5))\n",
    "                    else:\n",
    "                        pass\n",
    "                    \n",
    "            for st_glider_plot_local in st_glider_ev_lst[id]:\n",
    "                st_glider_plot_local.filter('bandpass',freqmin=1,freqmax=10,corners=4,zerophase=True)\n",
    "                st_glider_plot_local.taper(type='cosine',max_percentage=0.02)\n",
    "                st_glider_plot_local.detrend('linear')\n",
    "                st_glider_plot_local.detrend('demean')\n",
    "    \n",
    "                #Event time at each station\n",
    "                #Calculating distance, azimuth and backazimuth\n",
    "                dist_local_glider,_,_ = obspy.geodetics.gps2dist_azimuth(ev_lat_local,ev_long_local,st_glider_plot_local.stats.sac.stla,st_glider_plot_local.stats.sac.stlo)\n",
    "                dist_local_glider = round(dist_local_glider/1000,2)\n",
    "                # --------------------------\n",
    "                #Calculating arrival times\n",
    "                df_cake_glider = cake_arrival_times(MODEL_CAKE,(-1)*round(st_glider_plot_local.stats.sac.stel/1000,2),1,dist_local_glider,ocean=True)\n",
    "                if time_cake is not None:\n",
    "\n",
    "                    # estimating the time\n",
    "                    event_time_local = event_local+float(time_cake)\n",
    "                    # --------------------------\n",
    "                    \n",
    "                    times_glider_local = [mdates.date2num(event_time_local_glider+(i-30)) for i in st_glider_plot_local.times()]\n",
    "                    \n",
    "                    ax_local.plot(times_glider_local[1000:20000],dist_local_glider+preprocessing.normalize([st_glider_plot_local.data[1000:20000]])[0]*500,c='k',ls='-',lw=0.5,label='Lowpassed 3 Hz')\n",
    "                    ax_local.plot(mdates.date2num(event_time_local_glider),dist_local_glider,'or',alpha=0.3,label='P-wave arrival')\n",
    "                    ax_local.text(x=times_glider_local[1000],y=dist_local_glider,s=st_glider_plot_local.stats.station+'.'+st_glider_plot_local.stats.channel,ha=\"right\",va=\"center\",bbox=dict(boxstyle=\"round\",ec='k',fc='r',alpha=0.75))\n",
    "                else:\n",
    "                    pass\n",
    "            \n",
    "            ax_local.set_title(event_local.strftime('%Y-%m-%dT%H:%M:%S')+'\\n Mag: '+str(ev_mag_local)+' '+events['magnitudet'].values[0]+' / Dep: '+str(round(ev_depth_local))+' km',fontsize=15)\n",
    "            ax_local.set_ylabel('Distance (km)')\n",
    "            ax_local.legend(loc='lower right')\n",
    "            ax_local.xaxis.set_major_locator(mdates.SecondLocator(interval=60))\n",
    "            ax_local.xaxis.set_minor_locator(mdates.SecondLocator(interval=10))\n",
    "            ax_local.xaxis.set_major_formatter(mdates.DateFormatter('%H:%M'))\n",
    "            \n",
    "            # ----------------------------------------------------------------------------------------------------------\n",
    "            # Saving figure\n",
    "            os.makedirs(FOLDER_OUTPUT+'EVENTS/FIGURES/LOCAL/',exist_ok=True)\n",
    "            fig_local.savefig(FOLDER_OUTPUT+'EVENTS/FIGURES/LOCAL/'+'event_mseed_'+ev_time_UTC_lst[id].strftime('%Y_%m_%d_%H_%M_%S')+'_'+events['evid'].values[0]+'.png',pad_inches=0.01,dpi=100)\n",
    "            plt.close()"
   ]
  },
  {
   "cell_type": "markdown",
   "id": "23b344a7-7771-40b3-84d6-937934642259",
   "metadata": {},
   "source": [
    "## "
   ]
  },
  {
   "cell_type": "code",
   "execution_count": null,
   "id": "4ceeb151-b07b-4202-85cd-f0f3a76ab8a1",
   "metadata": {},
   "outputs": [],
   "source": []
  }
 ],
 "metadata": {
  "kernelspec": {
   "display_name": "Python 3 (ipykernel)",
   "language": "python",
   "name": "python3"
  },
  "language_info": {
   "codemirror_mode": {
    "name": "ipython",
    "version": 3
   },
   "file_extension": ".py",
   "mimetype": "text/x-python",
   "name": "python",
   "nbconvert_exporter": "python",
   "pygments_lexer": "ipython3",
   "version": "3.11.9"
  }
 },
 "nbformat": 4,
 "nbformat_minor": 5
}
