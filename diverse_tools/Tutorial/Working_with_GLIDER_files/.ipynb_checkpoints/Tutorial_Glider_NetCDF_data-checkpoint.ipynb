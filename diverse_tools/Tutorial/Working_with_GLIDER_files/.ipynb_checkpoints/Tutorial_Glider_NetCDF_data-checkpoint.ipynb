{
 "cells": [
  {
   "cell_type": "code",
   "execution_count": 12,
   "metadata": {},
   "outputs": [],
   "source": [
    "import obspy\n",
    "import glidertools as gt\n",
    "import os\n",
    "import glob\n"
   ]
  },
  {
   "cell_type": "markdown",
   "metadata": {},
   "source": []
  },
  {
   "cell_type": "code",
   "execution_count": 9,
   "metadata": {},
   "outputs": [],
   "source": [
    "os.chdir('/home/diogoloc/dados_posdoc/gliders_project/gliders_data/NetCDF_data/campanha_10/pa0006au/')"
   ]
  },
  {
   "cell_type": "code",
   "execution_count": 13,
   "metadata": {},
   "outputs": [],
   "source": [
    "filenames = glob.glob('*.nc')"
   ]
  },
  {
   "cell_type": "code",
   "execution_count": 14,
   "metadata": {},
   "outputs": [
    {
     "data": {
      "text/plain": [
       "['pa0006au_011_190802_042833.nc',\n",
       " 'pa0006au_010_190802_041833.nc',\n",
       " 'pa0006au_014_190802_045833.nc',\n",
       " 'pa0006au_001_190802_024833.nc',\n",
       " 'pa0006au_019_190802_054834.nc',\n",
       " 'pa0006au_015_190802_050833.nc',\n",
       " 'pa0006au_020_190802_055834.nc',\n",
       " 'pa0006au_002_190802_025833.nc',\n",
       " 'pa0006au_018_190802_053833.nc',\n",
       " 'pa0006au_005_190802_032833.nc',\n",
       " 'pa0006au_003_190802_030833.nc',\n",
       " 'pa0006au_004_190802_031833.nc',\n",
       " 'pa0006au_013_190802_044833.nc',\n",
       " 'pa0006au_006_190802_033833.nc',\n",
       " 'pa0006au_008_190802_035833.nc',\n",
       " 'pa0006au_016_190802_051833.nc',\n",
       " 'pa0006au_007_190802_034833.nc',\n",
       " 'pa0006au_017_190802_052833.nc',\n",
       " 'pa0006au_012_190802_043833.nc',\n",
       " 'pa0006au_021_190802_060834.nc',\n",
       " 'pa0006au_009_190802_040833.nc']"
      ]
     },
     "execution_count": 14,
     "metadata": {},
     "output_type": "execute_result"
    }
   ],
   "source": [
    "filenames"
   ]
  },
  {
   "cell_type": "code",
   "execution_count": 15,
   "metadata": {},
   "outputs": [
    {
     "name": "stdout",
     "output_type": "stream",
     "text": [
      "pa0006au_001_190802_024833.nc  pa0006au_012_190802_043833.nc\r\n",
      "pa0006au_002_190802_025833.nc  pa0006au_013_190802_044833.nc\r\n",
      "pa0006au_003_190802_030833.nc  pa0006au_014_190802_045833.nc\r\n",
      "pa0006au_004_190802_031833.nc  pa0006au_015_190802_050833.nc\r\n",
      "pa0006au_005_190802_032833.nc  pa0006au_016_190802_051833.nc\r\n",
      "pa0006au_006_190802_033833.nc  pa0006au_017_190802_052833.nc\r\n",
      "pa0006au_007_190802_034833.nc  pa0006au_018_190802_053833.nc\r\n",
      "pa0006au_008_190802_035833.nc  pa0006au_019_190802_054834.nc\r\n",
      "pa0006au_009_190802_040833.nc  pa0006au_020_190802_055834.nc\r\n",
      "pa0006au_010_190802_041833.nc  pa0006au_021_190802_060834.nc\r\n",
      "pa0006au_011_190802_042833.nc\r\n"
     ]
    }
   ],
   "source": [
    "!ls"
   ]
  },
  {
   "cell_type": "code",
   "execution_count": 38,
   "metadata": {},
   "outputs": [
    {
     "name": "stdout",
     "output_type": "stream",
     "text": [
      "information is based on file: pa0006au_002_190802_025833.nc\n"
     ]
    },
    {
     "data": {
      "text/html": [
       "<style type=\"text/css\">\n",
       "</style>\n",
       "<table id=\"T_11558\">\n",
       "  <thead>\n",
       "    <tr>\n",
       "      <th class=\"blank level0\" >&nbsp;</th>\n",
       "      <th id=\"T_11558_level0_col0\" class=\"col_heading level0 col0\" >dims</th>\n",
       "      <th id=\"T_11558_level0_col1\" class=\"col_heading level0 col1\" >units</th>\n",
       "      <th id=\"T_11558_level0_col2\" class=\"col_heading level0 col2\" >comment</th>\n",
       "    </tr>\n",
       "    <tr>\n",
       "      <th class=\"index_name level0\" >name</th>\n",
       "      <th class=\"blank col0\" >&nbsp;</th>\n",
       "      <th class=\"blank col1\" >&nbsp;</th>\n",
       "      <th class=\"blank col2\" >&nbsp;</th>\n",
       "    </tr>\n",
       "  </thead>\n",
       "  <tbody>\n",
       "    <tr>\n",
       "      <th id=\"T_11558_level0_row0\" class=\"row_heading level0 row0\" >audioflag</th>\n",
       "      <td id=\"T_11558_row0_col0\" class=\"data row0 col0\" >audioflag</td>\n",
       "      <td id=\"T_11558_row0_col1\" class=\"data row0 col1\" >units / 0 sem ruido, 1 pitch, 2 roll, 3 pitch + roll, 4 vbd, 5 vbd + pitch, 6 vbd + roll, 7 vbd + pitch + roll, 8 altimetro, 9 altimetro + pitch, 10 altimetro + roll, 11 altimetro + pitch + roll, 12 altimetro + vbd, 13 altimetro + vbd + pitch, 14 altimetro + vbd + roll, 15 all [vbd+pitch+roll+altimetro], 16 manual</td>\n",
       "      <td id=\"T_11558_row0_col2\" class=\"data row0 col2\" ></td>\n",
       "    </tr>\n",
       "    <tr>\n",
       "      <th id=\"T_11558_level0_row1\" class=\"row_heading level0 row1\" >audiolat</th>\n",
       "      <td id=\"T_11558_row1_col0\" class=\"data row1 col0\" >audiolat</td>\n",
       "      <td id=\"T_11558_row1_col1\" class=\"data row1 col1\" >graus decimais - Norte</td>\n",
       "      <td id=\"T_11558_row1_col2\" class=\"data row1 col2\" ></td>\n",
       "    </tr>\n",
       "    <tr>\n",
       "      <th id=\"T_11558_level0_row2\" class=\"row_heading level0 row2\" >audiolon</th>\n",
       "      <td id=\"T_11558_row2_col0\" class=\"data row2 col0\" >audiolon</td>\n",
       "      <td id=\"T_11558_row2_col1\" class=\"data row2 col1\" >graus decimais - Leste</td>\n",
       "      <td id=\"T_11558_row2_col2\" class=\"data row2 col2\" ></td>\n",
       "    </tr>\n",
       "    <tr>\n",
       "      <th id=\"T_11558_level0_row3\" class=\"row_heading level0 row3\" >depth</th>\n",
       "      <td id=\"T_11558_row3_col0\" class=\"data row3 col0\" >depth</td>\n",
       "      <td id=\"T_11558_row3_col1\" class=\"data row3 col1\" >m (negativo para o fundo)</td>\n",
       "      <td id=\"T_11558_row3_col2\" class=\"data row3 col2\" ></td>\n",
       "    </tr>\n",
       "    <tr>\n",
       "      <th id=\"T_11558_level0_row4\" class=\"row_heading level0 row4\" >time</th>\n",
       "      <td id=\"T_11558_row4_col0\" class=\"data row4 col0\" >time</td>\n",
       "      <td id=\"T_11558_row4_col1\" class=\"data row4 col1\" >segundos desde 01/01/1970 00:00:00</td>\n",
       "      <td id=\"T_11558_row4_col2\" class=\"data row4 col2\" ></td>\n",
       "    </tr>\n",
       "  </tbody>\n",
       "</table>\n"
      ],
      "text/plain": [
       "<pandas.io.formats.style.Styler at 0x7fca1fdabfd0>"
      ]
     },
     "execution_count": 38,
     "metadata": {},
     "output_type": "execute_result"
    }
   ],
   "source": [
    "gt.load.seaglider_show_variables('pa0006au_002_190802_025833.nc')"
   ]
  },
  {
   "cell_type": "code",
   "execution_count": 42,
   "metadata": {},
   "outputs": [],
   "source": [
    "names = [\n",
    "    'audiolat',\n",
    "    'audiolon',\n",
    "    'depth'\n",
    "]"
   ]
  },
  {
   "cell_type": "code",
   "execution_count": 43,
   "metadata": {},
   "outputs": [
    {
     "name": "stdout",
     "output_type": "stream",
     "text": [
      "\n",
      "DIMENSION: audiolat\n",
      "{time, audiolat}\n"
     ]
    },
    {
     "name": "stderr",
     "output_type": "stream",
     "text": [
      "100%|████████████████████████████████████████████| 1/1 [00:00<00:00, 159.99it/s]\n"
     ]
    },
    {
     "name": "stdout",
     "output_type": "stream",
     "text": [
      "\n",
      "DIMENSION: audiolon\n",
      "{time, audiolon}\n"
     ]
    },
    {
     "name": "stderr",
     "output_type": "stream",
     "text": [
      "100%|████████████████████████████████████████████| 1/1 [00:00<00:00, 122.82it/s]\n"
     ]
    },
    {
     "name": "stdout",
     "output_type": "stream",
     "text": [
      "\n",
      "DIMENSION: depth\n",
      "{time, depth}\n"
     ]
    },
    {
     "name": "stderr",
     "output_type": "stream",
     "text": [
      "100%|████████████████████████████████████████████| 1/1 [00:00<00:00, 136.89it/s]\n"
     ]
    },
    {
     "ename": "ValueError",
     "evalue": "those coordinates don't exist: {None}",
     "output_type": "error",
     "traceback": [
      "\u001b[0;31m---------------------------------------------------------------------------\u001b[0m",
      "\u001b[0;31mValueError\u001b[0m                                Traceback (most recent call last)",
      "Cell \u001b[0;32mIn[43], line 1\u001b[0m\n\u001b[0;32m----> 1\u001b[0m ds_dict \u001b[38;5;241m=\u001b[39m \u001b[43mgt\u001b[49m\u001b[38;5;241;43m.\u001b[39;49m\u001b[43mload\u001b[49m\u001b[38;5;241;43m.\u001b[39;49m\u001b[43mseaglider_basestation_netCDFs\u001b[49m\u001b[43m(\u001b[49m\u001b[38;5;124;43m'\u001b[39;49m\u001b[38;5;124;43mpa0006au_002_190802_025833.nc\u001b[39;49m\u001b[38;5;124;43m'\u001b[39;49m\u001b[43m,\u001b[49m\u001b[43m \u001b[49m\u001b[43mnames\u001b[49m\u001b[43m,\u001b[49m\u001b[43mverbose\u001b[49m\u001b[38;5;241;43m=\u001b[39;49m\u001b[38;5;28;43;01mTrue\u001b[39;49;00m\u001b[43m)\u001b[49m\n",
      "File \u001b[0;32m~/programs/anaconda3/lib/python3.9/site-packages/glidertools/load/seaglider.py:512\u001b[0m, in \u001b[0;36mload_multiple_vars\u001b[0;34m(files, variable_names, return_merged, verbose, keep_global_attrs, netcdf_attrs, keep_variable_attrs)\u001b[0m\n\u001b[1;32m    510\u001b[0m \u001b[38;5;66;03m# MAKING NETCDFS\u001b[39;00m\n\u001b[1;32m    511\u001b[0m \u001b[38;5;28;01mfor\u001b[39;00m key \u001b[38;5;129;01min\u001b[39;00m data:\n\u001b[0;32m--> 512\u001b[0m     data[key] \u001b[38;5;241m=\u001b[39m \u001b[43mmake_xr_dataset\u001b[49m\u001b[43m(\u001b[49m\n\u001b[1;32m    513\u001b[0m \u001b[43m        \u001b[49m\u001b[43mdata\u001b[49m\u001b[43m[\u001b[49m\u001b[43mkey\u001b[49m\u001b[43m]\u001b[49m\u001b[43m,\u001b[49m\n\u001b[1;32m    514\u001b[0m \u001b[43m        \u001b[49m\u001b[43mfiles\u001b[49m\u001b[43m,\u001b[49m\n\u001b[1;32m    515\u001b[0m \u001b[43m        \u001b[49m\u001b[43mkeep_global_attrs\u001b[49m\u001b[38;5;241;43m=\u001b[39;49m\u001b[43mkeep_global_attrs\u001b[49m\u001b[43m,\u001b[49m\n\u001b[1;32m    516\u001b[0m \u001b[43m        \u001b[49m\u001b[43mkeep_variable_attrs\u001b[49m\u001b[38;5;241;43m=\u001b[39;49m\u001b[43mkeep_variable_attrs\u001b[49m\u001b[43m,\u001b[49m\n\u001b[1;32m    517\u001b[0m \u001b[43m        \u001b[49m\u001b[43mindex_name\u001b[49m\u001b[38;5;241;43m=\u001b[39;49m\u001b[43mkey\u001b[49m\u001b[43m,\u001b[49m\n\u001b[1;32m    518\u001b[0m \u001b[43m        \u001b[49m\u001b[43mattrs\u001b[49m\u001b[38;5;241;43m=\u001b[39;49m\u001b[43mnetcdf_attrs\u001b[49m\u001b[43m,\u001b[49m\n\u001b[1;32m    519\u001b[0m \u001b[43m    \u001b[49m\u001b[43m)\u001b[49m\n\u001b[1;32m    520\u001b[0m     \u001b[38;5;28;01mif\u001b[39;00m \u001b[38;5;124m\"\u001b[39m\u001b[38;5;124mdives\u001b[39m\u001b[38;5;124m\"\u001b[39m \u001b[38;5;129;01min\u001b[39;00m data:\n\u001b[1;32m    521\u001b[0m         data \u001b[38;5;241m=\u001b[39m data\u001b[38;5;241m.\u001b[39mset_coords(\u001b[38;5;124m\"\u001b[39m\u001b[38;5;124mdives\u001b[39m\u001b[38;5;124m\"\u001b[39m)\n",
      "File \u001b[0;32m~/programs/anaconda3/lib/python3.9/site-packages/glidertools/load/seaglider.py:587\u001b[0m, in \u001b[0;36mmake_xr_dataset\u001b[0;34m(df, files, index_name, attrs, keep_variable_attrs, keep_global_attrs)\u001b[0m\n\u001b[1;32m    583\u001b[0m     \u001b[38;5;28;01mif\u001b[39;00m \u001b[38;5;124m\"\u001b[39m\u001b[38;5;124mtime\u001b[39m\u001b[38;5;124m\"\u001b[39m \u001b[38;5;129;01min\u001b[39;00m coord:\n\u001b[1;32m    584\u001b[0m         coords[i] \u001b[38;5;241m=\u001b[39m coord \u001b[38;5;241m+\u001b[39m \u001b[38;5;124m\"\u001b[39m\u001b[38;5;124m_dt64\u001b[39m\u001b[38;5;124m\"\u001b[39m\n\u001b[1;32m    586\u001b[0m xds \u001b[38;5;241m=\u001b[39m (\n\u001b[0;32m--> 587\u001b[0m     \u001b[43mdf\u001b[49m\u001b[38;5;241;43m.\u001b[39;49m\u001b[43mto_xarray\u001b[49m\u001b[43m(\u001b[49m\u001b[43m)\u001b[49m\n\u001b[1;32m    588\u001b[0m \u001b[43m    \u001b[49m\u001b[38;5;241;43m.\u001b[39;49m\u001b[43mdrop_indexes\u001b[49m\u001b[43m(\u001b[49m\u001b[43mdf\u001b[49m\u001b[38;5;241;43m.\u001b[39;49m\u001b[43mindex\u001b[49m\u001b[38;5;241;43m.\u001b[39;49m\u001b[43mname\u001b[49m\u001b[43m)\u001b[49m\n\u001b[1;32m    589\u001b[0m     \u001b[38;5;241m.\u001b[39mreset_coords()\n\u001b[1;32m    590\u001b[0m     \u001b[38;5;241m.\u001b[39mset_coords(coords)\n\u001b[1;32m    591\u001b[0m     \u001b[38;5;241m.\u001b[39mrename_dims({df\u001b[38;5;241m.\u001b[39mindex\u001b[38;5;241m.\u001b[39mname: index_name})\n\u001b[1;32m    592\u001b[0m     \u001b[38;5;241m.\u001b[39massign_attrs(global_attrs)\n\u001b[1;32m    593\u001b[0m )\n\u001b[1;32m    595\u001b[0m \u001b[38;5;28;01mif\u001b[39;00m keep_variable_attrs:\n\u001b[1;32m    596\u001b[0m     mid \u001b[38;5;241m=\u001b[39m \u001b[38;5;28mlen\u001b[39m(files) \u001b[38;5;241m/\u001b[39m\u001b[38;5;241m/\u001b[39m \u001b[38;5;241m2\u001b[39m\n",
      "File \u001b[0;32m~/programs/anaconda3/lib/python3.9/site-packages/xarray/core/dataset.py:5147\u001b[0m, in \u001b[0;36mDataset.drop_indexes\u001b[0;34m(self, coord_names, errors)\u001b[0m\n\u001b[1;32m   5145\u001b[0m invalid_coords \u001b[38;5;241m=\u001b[39m coord_names \u001b[38;5;241m-\u001b[39m \u001b[38;5;28mself\u001b[39m\u001b[38;5;241m.\u001b[39m_coord_names\n\u001b[1;32m   5146\u001b[0m \u001b[38;5;28;01mif\u001b[39;00m invalid_coords:\n\u001b[0;32m-> 5147\u001b[0m     \u001b[38;5;28;01mraise\u001b[39;00m \u001b[38;5;167;01mValueError\u001b[39;00m(\u001b[38;5;124mf\u001b[39m\u001b[38;5;124m\"\u001b[39m\u001b[38;5;124mthose coordinates don\u001b[39m\u001b[38;5;124m'\u001b[39m\u001b[38;5;124mt exist: \u001b[39m\u001b[38;5;132;01m{\u001b[39;00minvalid_coords\u001b[38;5;132;01m}\u001b[39;00m\u001b[38;5;124m\"\u001b[39m)\n\u001b[1;32m   5149\u001b[0m unindexed_coords \u001b[38;5;241m=\u001b[39m \u001b[38;5;28mset\u001b[39m(coord_names) \u001b[38;5;241m-\u001b[39m \u001b[38;5;28mset\u001b[39m(\u001b[38;5;28mself\u001b[39m\u001b[38;5;241m.\u001b[39m_indexes)\n\u001b[1;32m   5150\u001b[0m \u001b[38;5;28;01mif\u001b[39;00m unindexed_coords:\n",
      "\u001b[0;31mValueError\u001b[0m: those coordinates don't exist: {None}"
     ]
    }
   ],
   "source": [
    "ds_dict = gt.load.seaglider_basestation_netCDFs('pa0006au_002_190802_025833.nc', names,verbose=True)\n"
   ]
  },
  {
   "cell_type": "code",
   "execution_count": 36,
   "metadata": {},
   "outputs": [
    {
     "ename": "NameError",
     "evalue": "name 'ds_dict' is not defined",
     "output_type": "error",
     "traceback": [
      "\u001b[0;31m---------------------------------------------------------------------------\u001b[0m",
      "\u001b[0;31mNameError\u001b[0m                                 Traceback (most recent call last)",
      "Cell \u001b[0;32mIn[36], line 1\u001b[0m\n\u001b[0;32m----> 1\u001b[0m \u001b[43mds_dict\u001b[49m\n",
      "\u001b[0;31mNameError\u001b[0m: name 'ds_dict' is not defined"
     ]
    }
   ],
   "source": [
    "ds_dict"
   ]
  },
  {
   "cell_type": "code",
   "execution_count": 33,
   "metadata": {},
   "outputs": [
    {
     "name": "stdout",
     "output_type": "stream",
     "text": [
      "\n",
      "DIMENSION: audiolat\n",
      "{time, audiolat}\n",
      "\n",
      "DIMENSION: audiolon\n",
      "{time, audiolon}\n",
      "\n",
      "DIMENSION: depth\n",
      "{time, depth}\n",
      "\n",
      "DIMENSION: time\n",
      "{time}\n"
     ]
    },
    {
     "ename": "ValueError",
     "evalue": "those coordinates don't exist: {None}",
     "output_type": "error",
     "traceback": [
      "\u001b[0;31m---------------------------------------------------------------------------\u001b[0m",
      "\u001b[0;31mValueError\u001b[0m                                Traceback (most recent call last)",
      "Cell \u001b[0;32mIn[33], line 9\u001b[0m\n\u001b[1;32m      7\u001b[0m lst \u001b[38;5;241m=\u001b[39m []\n\u001b[1;32m      8\u001b[0m \u001b[38;5;28;01mfor\u001b[39;00m f \u001b[38;5;129;01min\u001b[39;00m filenames:\n\u001b[0;32m----> 9\u001b[0m     ds_dict \u001b[38;5;241m=\u001b[39m \u001b[43mgt\u001b[49m\u001b[38;5;241;43m.\u001b[39;49m\u001b[43mload\u001b[49m\u001b[38;5;241;43m.\u001b[39;49m\u001b[43mseaglider_basestation_netCDFs\u001b[49m\u001b[43m(\u001b[49m\u001b[43mf\u001b[49m\u001b[43m,\u001b[49m\u001b[43m \u001b[49m\u001b[43mnames\u001b[49m\u001b[43m,\u001b[49m\u001b[43mverbose\u001b[49m\u001b[38;5;241;43m=\u001b[39;49m\u001b[38;5;28;43;01mFalse\u001b[39;49;00m\u001b[43m,\u001b[49m\u001b[43mkeep_global_attrs\u001b[49m\u001b[38;5;241;43m=\u001b[39;49m\u001b[38;5;28;43;01mTrue\u001b[39;49;00m\u001b[43m)\u001b[49m\n\u001b[1;32m     10\u001b[0m     lst\u001b[38;5;241m.\u001b[39mappend(ds_dict)\n",
      "File \u001b[0;32m~/programs/anaconda3/lib/python3.9/site-packages/glidertools/load/seaglider.py:512\u001b[0m, in \u001b[0;36mload_multiple_vars\u001b[0;34m(files, variable_names, return_merged, verbose, keep_global_attrs, netcdf_attrs, keep_variable_attrs)\u001b[0m\n\u001b[1;32m    510\u001b[0m \u001b[38;5;66;03m# MAKING NETCDFS\u001b[39;00m\n\u001b[1;32m    511\u001b[0m \u001b[38;5;28;01mfor\u001b[39;00m key \u001b[38;5;129;01min\u001b[39;00m data:\n\u001b[0;32m--> 512\u001b[0m     data[key] \u001b[38;5;241m=\u001b[39m \u001b[43mmake_xr_dataset\u001b[49m\u001b[43m(\u001b[49m\n\u001b[1;32m    513\u001b[0m \u001b[43m        \u001b[49m\u001b[43mdata\u001b[49m\u001b[43m[\u001b[49m\u001b[43mkey\u001b[49m\u001b[43m]\u001b[49m\u001b[43m,\u001b[49m\n\u001b[1;32m    514\u001b[0m \u001b[43m        \u001b[49m\u001b[43mfiles\u001b[49m\u001b[43m,\u001b[49m\n\u001b[1;32m    515\u001b[0m \u001b[43m        \u001b[49m\u001b[43mkeep_global_attrs\u001b[49m\u001b[38;5;241;43m=\u001b[39;49m\u001b[43mkeep_global_attrs\u001b[49m\u001b[43m,\u001b[49m\n\u001b[1;32m    516\u001b[0m \u001b[43m        \u001b[49m\u001b[43mkeep_variable_attrs\u001b[49m\u001b[38;5;241;43m=\u001b[39;49m\u001b[43mkeep_variable_attrs\u001b[49m\u001b[43m,\u001b[49m\n\u001b[1;32m    517\u001b[0m \u001b[43m        \u001b[49m\u001b[43mindex_name\u001b[49m\u001b[38;5;241;43m=\u001b[39;49m\u001b[43mkey\u001b[49m\u001b[43m,\u001b[49m\n\u001b[1;32m    518\u001b[0m \u001b[43m        \u001b[49m\u001b[43mattrs\u001b[49m\u001b[38;5;241;43m=\u001b[39;49m\u001b[43mnetcdf_attrs\u001b[49m\u001b[43m,\u001b[49m\n\u001b[1;32m    519\u001b[0m \u001b[43m    \u001b[49m\u001b[43m)\u001b[49m\n\u001b[1;32m    520\u001b[0m     \u001b[38;5;28;01mif\u001b[39;00m \u001b[38;5;124m\"\u001b[39m\u001b[38;5;124mdives\u001b[39m\u001b[38;5;124m\"\u001b[39m \u001b[38;5;129;01min\u001b[39;00m data:\n\u001b[1;32m    521\u001b[0m         data \u001b[38;5;241m=\u001b[39m data\u001b[38;5;241m.\u001b[39mset_coords(\u001b[38;5;124m\"\u001b[39m\u001b[38;5;124mdives\u001b[39m\u001b[38;5;124m\"\u001b[39m)\n",
      "File \u001b[0;32m~/programs/anaconda3/lib/python3.9/site-packages/glidertools/load/seaglider.py:587\u001b[0m, in \u001b[0;36mmake_xr_dataset\u001b[0;34m(df, files, index_name, attrs, keep_variable_attrs, keep_global_attrs)\u001b[0m\n\u001b[1;32m    583\u001b[0m     \u001b[38;5;28;01mif\u001b[39;00m \u001b[38;5;124m\"\u001b[39m\u001b[38;5;124mtime\u001b[39m\u001b[38;5;124m\"\u001b[39m \u001b[38;5;129;01min\u001b[39;00m coord:\n\u001b[1;32m    584\u001b[0m         coords[i] \u001b[38;5;241m=\u001b[39m coord \u001b[38;5;241m+\u001b[39m \u001b[38;5;124m\"\u001b[39m\u001b[38;5;124m_dt64\u001b[39m\u001b[38;5;124m\"\u001b[39m\n\u001b[1;32m    586\u001b[0m xds \u001b[38;5;241m=\u001b[39m (\n\u001b[0;32m--> 587\u001b[0m     \u001b[43mdf\u001b[49m\u001b[38;5;241;43m.\u001b[39;49m\u001b[43mto_xarray\u001b[49m\u001b[43m(\u001b[49m\u001b[43m)\u001b[49m\n\u001b[1;32m    588\u001b[0m \u001b[43m    \u001b[49m\u001b[38;5;241;43m.\u001b[39;49m\u001b[43mdrop_indexes\u001b[49m\u001b[43m(\u001b[49m\u001b[43mdf\u001b[49m\u001b[38;5;241;43m.\u001b[39;49m\u001b[43mindex\u001b[49m\u001b[38;5;241;43m.\u001b[39;49m\u001b[43mname\u001b[49m\u001b[43m)\u001b[49m\n\u001b[1;32m    589\u001b[0m     \u001b[38;5;241m.\u001b[39mreset_coords()\n\u001b[1;32m    590\u001b[0m     \u001b[38;5;241m.\u001b[39mset_coords(coords)\n\u001b[1;32m    591\u001b[0m     \u001b[38;5;241m.\u001b[39mrename_dims({df\u001b[38;5;241m.\u001b[39mindex\u001b[38;5;241m.\u001b[39mname: index_name})\n\u001b[1;32m    592\u001b[0m     \u001b[38;5;241m.\u001b[39massign_attrs(global_attrs)\n\u001b[1;32m    593\u001b[0m )\n\u001b[1;32m    595\u001b[0m \u001b[38;5;28;01mif\u001b[39;00m keep_variable_attrs:\n\u001b[1;32m    596\u001b[0m     mid \u001b[38;5;241m=\u001b[39m \u001b[38;5;28mlen\u001b[39m(files) \u001b[38;5;241m/\u001b[39m\u001b[38;5;241m/\u001b[39m \u001b[38;5;241m2\u001b[39m\n",
      "File \u001b[0;32m~/programs/anaconda3/lib/python3.9/site-packages/xarray/core/dataset.py:5147\u001b[0m, in \u001b[0;36mDataset.drop_indexes\u001b[0;34m(self, coord_names, errors)\u001b[0m\n\u001b[1;32m   5145\u001b[0m invalid_coords \u001b[38;5;241m=\u001b[39m coord_names \u001b[38;5;241m-\u001b[39m \u001b[38;5;28mself\u001b[39m\u001b[38;5;241m.\u001b[39m_coord_names\n\u001b[1;32m   5146\u001b[0m \u001b[38;5;28;01mif\u001b[39;00m invalid_coords:\n\u001b[0;32m-> 5147\u001b[0m     \u001b[38;5;28;01mraise\u001b[39;00m \u001b[38;5;167;01mValueError\u001b[39;00m(\u001b[38;5;124mf\u001b[39m\u001b[38;5;124m\"\u001b[39m\u001b[38;5;124mthose coordinates don\u001b[39m\u001b[38;5;124m'\u001b[39m\u001b[38;5;124mt exist: \u001b[39m\u001b[38;5;132;01m{\u001b[39;00minvalid_coords\u001b[38;5;132;01m}\u001b[39;00m\u001b[38;5;124m\"\u001b[39m)\n\u001b[1;32m   5149\u001b[0m unindexed_coords \u001b[38;5;241m=\u001b[39m \u001b[38;5;28mset\u001b[39m(coord_names) \u001b[38;5;241m-\u001b[39m \u001b[38;5;28mset\u001b[39m(\u001b[38;5;28mself\u001b[39m\u001b[38;5;241m.\u001b[39m_indexes)\n\u001b[1;32m   5150\u001b[0m \u001b[38;5;28;01mif\u001b[39;00m unindexed_coords:\n",
      "\u001b[0;31mValueError\u001b[0m: those coordinates don't exist: {None}"
     ]
    }
   ],
   "source": [
    "names = [\n",
    "    'audiolat',\n",
    "    'audiolon',\n",
    "    'depth',\n",
    "    'time'\n",
    "]\n",
    "lst = []\n",
    "for f in filenames:\n",
    "    ds_dict = gt.load.seaglider_basestation_netCDFs(f, names,verbose=False,keep_global_attrs=True)\n",
    "    lst.append(ds_dict)"
   ]
  },
  {
   "cell_type": "code",
   "execution_count": 32,
   "metadata": {},
   "outputs": [
    {
     "data": {
      "text/plain": [
       "[]"
      ]
     },
     "execution_count": 32,
     "metadata": {},
     "output_type": "execute_result"
    }
   ],
   "source": [
    "lst"
   ]
  },
  {
   "cell_type": "code",
   "execution_count": null,
   "metadata": {},
   "outputs": [],
   "source": []
  }
 ],
 "metadata": {
  "kernelspec": {
   "display_name": "Python 3 (ipykernel)",
   "language": "python",
   "name": "python3"
  },
  "language_info": {
   "codemirror_mode": {
    "name": "ipython",
    "version": 3
   },
   "file_extension": ".py",
   "mimetype": "text/x-python",
   "name": "python",
   "nbconvert_exporter": "python",
   "pygments_lexer": "ipython3",
   "version": "3.9.15"
  },
  "vscode": {
   "interpreter": {
    "hash": "916dbcbb3f70747c44a77c7bcd40155683ae19c65e1c03b4aa3499c5328201f1"
   }
  }
 },
 "nbformat": 4,
 "nbformat_minor": 2
}
