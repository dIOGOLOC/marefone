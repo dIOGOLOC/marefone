{
 "cells": [
  {
   "cell_type": "markdown",
   "id": "0288b9de",
   "metadata": {},
   "source": [
    "# Importando módulos "
   ]
  },
  {
   "cell_type": "code",
   "execution_count": 1,
   "id": "36e98d84",
   "metadata": {},
   "outputs": [],
   "source": [
    "import obspy\n",
    "import os\n",
    "import glob\n",
    "import numpy as np\n",
    "from collections import defaultdict\n",
    "import pandas as pd\n",
    "import glidertools as gt\n",
    "\n",
    "\n",
    "#para plotar as figuras\n",
    "import matplotlib.pyplot as plt\n",
    "from matplotlib.transforms import offset_copy\n",
    "import matplotlib.ticker as ticker\n",
    "from mpl_toolkits.axes_grid1 import make_axes_locatable\n",
    "from matplotlib.colors import ListedColormap\n",
    "import matplotlib.dates as mdates\n",
    "from mpl_toolkits.axes_grid1.inset_locator import InsetPosition,inset_axes\n",
    "import matplotlib.colors as colors\n",
    "import matplotlib.cm as cm\n",
    "from matplotlib.dates import YearLocator, MonthLocator, DayLocator, HourLocator, MinuteLocator, SecondLocator, DateFormatter\n",
    "from matplotlib.ticker import MultipleLocator, FormatStrFormatter\n",
    "\n",
    "from datetime import datetime,timedelta,date\n",
    "from tqdm import tqdm\n",
    "\n",
    "from shapely.geometry.polygon import LinearRing\n",
    "\n",
    "import cartopy.io.shapereader as shpreader\n",
    "import cartopy.crs as ccrs\n",
    "import cartopy.feature as cfeature"
   ]
  },
  {
   "cell_type": "markdown",
   "id": "5b4f9f8f",
   "metadata": {},
   "source": [
    "# Inputs e Outputs"
   ]
  },
  {
   "cell_type": "code",
   "execution_count": 3,
   "id": "38736b57",
   "metadata": {},
   "outputs": [],
   "source": [
    "FOLDER_OUTPUT = '/home/dIOGOLOC/dados_posdoc/gliders_project/OUTPUT/'"
   ]
  },
  {
   "cell_type": "markdown",
   "id": "0bccb0c9",
   "metadata": {},
   "source": [
    "# Extraindo informações dos arquivos \".nc\""
   ]
  },
  {
   "cell_type": "code",
   "execution_count": 4,
   "id": "bd7e70e1",
   "metadata": {},
   "outputs": [],
   "source": [
    "os.chdir('/run/media/dIOGOLOC/8d2362fc-3b46-49a7-a864-19b2a6ad097b/diogoloc/dados_posdoc/gliders_project/gliders_data/NetCDF_data/')"
   ]
  },
  {
   "cell_type": "code",
   "execution_count": 5,
   "id": "e0377fcb",
   "metadata": {},
   "outputs": [],
   "source": [
    "filenames = sorted(glob.glob('*/*.nc'))"
   ]
  },
  {
   "cell_type": "code",
   "execution_count": 6,
   "id": "e3743961",
   "metadata": {},
   "outputs": [
    {
     "name": "stdout",
     "output_type": "stream",
     "text": [
      "1467\n"
     ]
    }
   ],
   "source": [
    "print(len(filenames))"
   ]
  },
  {
   "cell_type": "code",
   "execution_count": 9,
   "id": "aa226236",
   "metadata": {},
   "outputs": [
    {
     "name": "stderr",
     "output_type": "stream",
     "text": [
      "  0%|                                                  | 0/1467 [00:00<?, ?it/s]/home/dIOGOLOC/programs/anaconda3/lib/python3.10/site-packages/glidertools/load/seaglider.py:227: GliderToolsWarning: dives was not found in the files\n",
      "  warnings.warn(msg, GliderToolsWarning)\n"
     ]
    },
    {
     "name": "stdout",
     "output_type": "stream",
     "text": [
      "\n",
      "DIMENSION: sg_data_point\n",
      "{latitude, longitude, time, depth}\n"
     ]
    },
    {
     "name": "stderr",
     "output_type": "stream",
     "text": [
      "  0%|                                          | 1/1467 [00:00<14:04,  1.74it/s]/home/dIOGOLOC/programs/anaconda3/lib/python3.10/site-packages/glidertools/load/seaglider.py:227: GliderToolsWarning: dives was not found in the files\n",
      "  warnings.warn(msg, GliderToolsWarning)\n"
     ]
    },
    {
     "name": "stdout",
     "output_type": "stream",
     "text": [
      "\n",
      "DIMENSION: sg_data_point\n",
      "{latitude, longitude, time, depth}\n"
     ]
    },
    {
     "name": "stderr",
     "output_type": "stream",
     "text": [
      "  0%|                                          | 2/1467 [00:00<11:50,  2.06it/s]/home/dIOGOLOC/programs/anaconda3/lib/python3.10/site-packages/glidertools/load/seaglider.py:227: GliderToolsWarning: dives was not found in the files\n",
      "  warnings.warn(msg, GliderToolsWarning)\n"
     ]
    },
    {
     "name": "stdout",
     "output_type": "stream",
     "text": [
      "\n",
      "DIMENSION: sg_data_point\n",
      "{latitude, longitude, time, depth}\n"
     ]
    },
    {
     "name": "stderr",
     "output_type": "stream",
     "text": [
      "  0%|                                          | 3/1467 [00:01<11:10,  2.18it/s]/home/dIOGOLOC/programs/anaconda3/lib/python3.10/site-packages/glidertools/load/seaglider.py:227: GliderToolsWarning: dives was not found in the files\n",
      "  warnings.warn(msg, GliderToolsWarning)\n"
     ]
    },
    {
     "name": "stdout",
     "output_type": "stream",
     "text": [
      "\n",
      "DIMENSION: sg_data_point\n",
      "{latitude, longitude, time, depth}\n"
     ]
    },
    {
     "name": "stderr",
     "output_type": "stream",
     "text": [
      "  0%|                                          | 4/1467 [00:01<10:52,  2.24it/s]/home/dIOGOLOC/programs/anaconda3/lib/python3.10/site-packages/glidertools/load/seaglider.py:227: GliderToolsWarning: dives was not found in the files\n",
      "  warnings.warn(msg, GliderToolsWarning)\n"
     ]
    },
    {
     "name": "stdout",
     "output_type": "stream",
     "text": [
      "\n",
      "DIMENSION: sg_data_point\n",
      "{latitude, longitude, time, depth}\n"
     ]
    },
    {
     "name": "stderr",
     "output_type": "stream",
     "text": [
      "  0%|▏                                         | 5/1467 [00:02<10:42,  2.27it/s]/home/dIOGOLOC/programs/anaconda3/lib/python3.10/site-packages/glidertools/load/seaglider.py:227: GliderToolsWarning: dives was not found in the files\n",
      "  warnings.warn(msg, GliderToolsWarning)\n"
     ]
    },
    {
     "name": "stdout",
     "output_type": "stream",
     "text": [
      "\n",
      "DIMENSION: sg_data_point\n",
      "{latitude, longitude, time, depth}\n"
     ]
    },
    {
     "name": "stderr",
     "output_type": "stream",
     "text": [
      "  0%|▏                                         | 6/1467 [00:02<10:30,  2.32it/s]/home/dIOGOLOC/programs/anaconda3/lib/python3.10/site-packages/glidertools/load/seaglider.py:227: GliderToolsWarning: dives was not found in the files\n",
      "  warnings.warn(msg, GliderToolsWarning)\n"
     ]
    },
    {
     "name": "stdout",
     "output_type": "stream",
     "text": [
      "\n",
      "DIMENSION: sg_data_point\n",
      "{latitude, longitude, time, depth}\n"
     ]
    },
    {
     "name": "stderr",
     "output_type": "stream",
     "text": [
      "  0%|▏                                         | 7/1467 [00:03<10:21,  2.35it/s]/home/dIOGOLOC/programs/anaconda3/lib/python3.10/site-packages/glidertools/load/seaglider.py:227: GliderToolsWarning: dives was not found in the files\n",
      "  warnings.warn(msg, GliderToolsWarning)\n"
     ]
    },
    {
     "name": "stdout",
     "output_type": "stream",
     "text": [
      "\n",
      "DIMENSION: sg_data_point\n",
      "{latitude, longitude, time, depth}\n"
     ]
    },
    {
     "name": "stderr",
     "output_type": "stream",
     "text": [
      "  1%|▏                                         | 8/1467 [00:03<10:16,  2.37it/s]/home/dIOGOLOC/programs/anaconda3/lib/python3.10/site-packages/glidertools/load/seaglider.py:227: GliderToolsWarning: dives was not found in the files\n",
      "  warnings.warn(msg, GliderToolsWarning)\n"
     ]
    },
    {
     "name": "stdout",
     "output_type": "stream",
     "text": [
      "\n",
      "DIMENSION: sg_data_point\n",
      "{latitude, longitude, time, depth}\n"
     ]
    },
    {
     "name": "stderr",
     "output_type": "stream",
     "text": [
      "  1%|▎                                         | 9/1467 [00:03<10:10,  2.39it/s]/home/dIOGOLOC/programs/anaconda3/lib/python3.10/site-packages/glidertools/load/seaglider.py:227: GliderToolsWarning: dives was not found in the files\n",
      "  warnings.warn(msg, GliderToolsWarning)\n"
     ]
    },
    {
     "name": "stdout",
     "output_type": "stream",
     "text": [
      "\n",
      "DIMENSION: sg_data_point\n",
      "{latitude, longitude, time, depth}\n"
     ]
    },
    {
     "name": "stderr",
     "output_type": "stream",
     "text": [
      "  1%|▎                                        | 10/1467 [00:04<11:08,  2.18it/s]/home/dIOGOLOC/programs/anaconda3/lib/python3.10/site-packages/glidertools/load/seaglider.py:227: GliderToolsWarning: dives was not found in the files\n",
      "  warnings.warn(msg, GliderToolsWarning)\n"
     ]
    },
    {
     "name": "stdout",
     "output_type": "stream",
     "text": [
      "\n",
      "DIMENSION: sg_data_point\n",
      "{latitude, longitude, time, depth}\n"
     ]
    },
    {
     "name": "stderr",
     "output_type": "stream",
     "text": [
      "  1%|▎                                        | 11/1467 [00:04<10:50,  2.24it/s]/home/dIOGOLOC/programs/anaconda3/lib/python3.10/site-packages/glidertools/load/seaglider.py:227: GliderToolsWarning: dives was not found in the files\n",
      "  warnings.warn(msg, GliderToolsWarning)\n"
     ]
    },
    {
     "name": "stdout",
     "output_type": "stream",
     "text": [
      "\n",
      "DIMENSION: sg_data_point\n",
      "{latitude, longitude, time, depth}\n"
     ]
    },
    {
     "name": "stderr",
     "output_type": "stream",
     "text": [
      "  1%|▎                                        | 12/1467 [00:05<10:38,  2.28it/s]/home/dIOGOLOC/programs/anaconda3/lib/python3.10/site-packages/glidertools/load/seaglider.py:227: GliderToolsWarning: dives was not found in the files\n",
      "  warnings.warn(msg, GliderToolsWarning)\n"
     ]
    },
    {
     "name": "stdout",
     "output_type": "stream",
     "text": [
      "\n",
      "DIMENSION: sg_data_point\n",
      "{latitude, longitude, time, depth}\n"
     ]
    },
    {
     "name": "stderr",
     "output_type": "stream",
     "text": [
      "  1%|▎                                        | 13/1467 [00:05<10:42,  2.26it/s]/home/dIOGOLOC/programs/anaconda3/lib/python3.10/site-packages/glidertools/load/seaglider.py:227: GliderToolsWarning: dives was not found in the files\n",
      "  warnings.warn(msg, GliderToolsWarning)\n"
     ]
    },
    {
     "name": "stdout",
     "output_type": "stream",
     "text": [
      "\n",
      "DIMENSION: sg_data_point\n",
      "{latitude, longitude, time, depth}\n"
     ]
    },
    {
     "name": "stderr",
     "output_type": "stream",
     "text": [
      "  1%|▍                                        | 14/1467 [00:06<10:39,  2.27it/s]/home/dIOGOLOC/programs/anaconda3/lib/python3.10/site-packages/glidertools/load/seaglider.py:227: GliderToolsWarning: dives was not found in the files\n",
      "  warnings.warn(msg, GliderToolsWarning)\n"
     ]
    },
    {
     "name": "stdout",
     "output_type": "stream",
     "text": [
      "\n",
      "DIMENSION: sg_data_point\n",
      "{latitude, longitude, time, depth}\n"
     ]
    },
    {
     "name": "stderr",
     "output_type": "stream",
     "text": [
      "  1%|▍                                        | 15/1467 [00:06<10:27,  2.31it/s]/home/dIOGOLOC/programs/anaconda3/lib/python3.10/site-packages/glidertools/load/seaglider.py:227: GliderToolsWarning: dives was not found in the files\n",
      "  warnings.warn(msg, GliderToolsWarning)\n"
     ]
    },
    {
     "name": "stdout",
     "output_type": "stream",
     "text": [
      "\n",
      "DIMENSION: sg_data_point\n",
      "{latitude, longitude, time, depth}\n"
     ]
    },
    {
     "name": "stderr",
     "output_type": "stream",
     "text": [
      "  1%|▍                                        | 16/1467 [00:07<10:25,  2.32it/s]/home/dIOGOLOC/programs/anaconda3/lib/python3.10/site-packages/glidertools/load/seaglider.py:227: GliderToolsWarning: dives was not found in the files\n",
      "  warnings.warn(msg, GliderToolsWarning)\n"
     ]
    },
    {
     "name": "stdout",
     "output_type": "stream",
     "text": [
      "\n",
      "DIMENSION: sg_data_point\n",
      "{latitude, longitude, time, depth}\n"
     ]
    },
    {
     "name": "stderr",
     "output_type": "stream",
     "text": [
      "  1%|▍                                        | 17/1467 [00:07<10:18,  2.35it/s]/home/dIOGOLOC/programs/anaconda3/lib/python3.10/site-packages/glidertools/load/seaglider.py:227: GliderToolsWarning: dives was not found in the files\n",
      "  warnings.warn(msg, GliderToolsWarning)\n"
     ]
    },
    {
     "name": "stdout",
     "output_type": "stream",
     "text": [
      "\n",
      "DIMENSION: sg_data_point\n",
      "{latitude, longitude, time, depth}\n"
     ]
    },
    {
     "name": "stderr",
     "output_type": "stream",
     "text": [
      "  1%|▌                                        | 18/1467 [00:07<10:13,  2.36it/s]/home/dIOGOLOC/programs/anaconda3/lib/python3.10/site-packages/glidertools/load/seaglider.py:227: GliderToolsWarning: dives was not found in the files\n",
      "  warnings.warn(msg, GliderToolsWarning)\n"
     ]
    },
    {
     "name": "stdout",
     "output_type": "stream",
     "text": [
      "\n",
      "DIMENSION: sg_data_point\n",
      "{latitude, longitude, time, depth}\n"
     ]
    },
    {
     "name": "stderr",
     "output_type": "stream",
     "text": [
      "  1%|▌                                        | 19/1467 [00:08<10:10,  2.37it/s]/home/dIOGOLOC/programs/anaconda3/lib/python3.10/site-packages/glidertools/load/seaglider.py:227: GliderToolsWarning: dives was not found in the files\n",
      "  warnings.warn(msg, GliderToolsWarning)\n"
     ]
    },
    {
     "name": "stdout",
     "output_type": "stream",
     "text": [
      "\n",
      "DIMENSION: sg_data_point\n",
      "{latitude, longitude, time, depth}\n"
     ]
    },
    {
     "name": "stderr",
     "output_type": "stream",
     "text": [
      "  1%|▌                                        | 20/1467 [00:08<10:16,  2.35it/s]/home/dIOGOLOC/programs/anaconda3/lib/python3.10/site-packages/glidertools/load/seaglider.py:227: GliderToolsWarning: dives was not found in the files\n",
      "  warnings.warn(msg, GliderToolsWarning)\n"
     ]
    },
    {
     "name": "stdout",
     "output_type": "stream",
     "text": [
      "\n",
      "DIMENSION: sg_data_point\n",
      "{latitude, longitude, time, depth}\n"
     ]
    },
    {
     "name": "stderr",
     "output_type": "stream",
     "text": [
      "  1%|▌                                        | 21/1467 [00:09<10:49,  2.23it/s]/home/dIOGOLOC/programs/anaconda3/lib/python3.10/site-packages/glidertools/load/seaglider.py:227: GliderToolsWarning: dives was not found in the files\n",
      "  warnings.warn(msg, GliderToolsWarning)\n"
     ]
    },
    {
     "name": "stdout",
     "output_type": "stream",
     "text": [
      "\n",
      "DIMENSION: sg_data_point\n",
      "{latitude, longitude, time, depth}\n"
     ]
    },
    {
     "name": "stderr",
     "output_type": "stream",
     "text": [
      "  1%|▌                                        | 22/1467 [00:09<10:37,  2.27it/s]/home/dIOGOLOC/programs/anaconda3/lib/python3.10/site-packages/glidertools/load/seaglider.py:227: GliderToolsWarning: dives was not found in the files\n",
      "  warnings.warn(msg, GliderToolsWarning)\n"
     ]
    },
    {
     "name": "stdout",
     "output_type": "stream",
     "text": [
      "\n",
      "DIMENSION: sg_data_point\n",
      "{latitude, longitude, time, depth}\n"
     ]
    },
    {
     "name": "stderr",
     "output_type": "stream",
     "text": [
      "  2%|▋                                        | 23/1467 [00:10<10:30,  2.29it/s]/home/dIOGOLOC/programs/anaconda3/lib/python3.10/site-packages/glidertools/load/seaglider.py:227: GliderToolsWarning: dives was not found in the files\n",
      "  warnings.warn(msg, GliderToolsWarning)\n"
     ]
    },
    {
     "name": "stdout",
     "output_type": "stream",
     "text": [
      "\n",
      "DIMENSION: sg_data_point\n",
      "{latitude, longitude, time, depth}\n"
     ]
    },
    {
     "name": "stderr",
     "output_type": "stream",
     "text": [
      "  2%|▋                                        | 24/1467 [00:10<10:25,  2.31it/s]/home/dIOGOLOC/programs/anaconda3/lib/python3.10/site-packages/glidertools/load/seaglider.py:227: GliderToolsWarning: dives was not found in the files\n",
      "  warnings.warn(msg, GliderToolsWarning)\n"
     ]
    },
    {
     "name": "stdout",
     "output_type": "stream",
     "text": [
      "\n",
      "DIMENSION: sg_data_point\n",
      "{latitude, longitude, time, depth}\n"
     ]
    },
    {
     "name": "stderr",
     "output_type": "stream",
     "text": [
      "  2%|▋                                        | 25/1467 [00:10<10:23,  2.31it/s]/home/dIOGOLOC/programs/anaconda3/lib/python3.10/site-packages/glidertools/load/seaglider.py:227: GliderToolsWarning: dives was not found in the files\n",
      "  warnings.warn(msg, GliderToolsWarning)\n"
     ]
    },
    {
     "name": "stdout",
     "output_type": "stream",
     "text": [
      "\n",
      "DIMENSION: sg_data_point\n",
      "{latitude, longitude, time, depth}\n"
     ]
    },
    {
     "name": "stderr",
     "output_type": "stream",
     "text": [
      "  2%|▋                                        | 26/1467 [00:11<10:17,  2.33it/s]/home/dIOGOLOC/programs/anaconda3/lib/python3.10/site-packages/glidertools/load/seaglider.py:227: GliderToolsWarning: dives was not found in the files\n",
      "  warnings.warn(msg, GliderToolsWarning)\n"
     ]
    },
    {
     "name": "stdout",
     "output_type": "stream",
     "text": [
      "\n",
      "DIMENSION: sg_data_point\n",
      "{latitude, longitude, time, depth}\n"
     ]
    },
    {
     "name": "stderr",
     "output_type": "stream",
     "text": [
      "  2%|▊                                        | 27/1467 [00:11<10:24,  2.30it/s]/home/dIOGOLOC/programs/anaconda3/lib/python3.10/site-packages/glidertools/load/seaglider.py:227: GliderToolsWarning: dives was not found in the files\n",
      "  warnings.warn(msg, GliderToolsWarning)\n"
     ]
    },
    {
     "name": "stdout",
     "output_type": "stream",
     "text": [
      "\n",
      "DIMENSION: sg_data_point\n",
      "{latitude, longitude, time, depth}\n"
     ]
    },
    {
     "name": "stderr",
     "output_type": "stream",
     "text": [
      "  2%|▊                                        | 28/1467 [00:12<10:28,  2.29it/s]/home/dIOGOLOC/programs/anaconda3/lib/python3.10/site-packages/glidertools/load/seaglider.py:227: GliderToolsWarning: dives was not found in the files\n",
      "  warnings.warn(msg, GliderToolsWarning)\n"
     ]
    },
    {
     "name": "stdout",
     "output_type": "stream",
     "text": [
      "\n",
      "DIMENSION: sg_data_point\n",
      "{latitude, longitude, time, depth}\n"
     ]
    },
    {
     "name": "stderr",
     "output_type": "stream",
     "text": [
      "  2%|▊                                        | 29/1467 [00:12<10:23,  2.31it/s]/home/dIOGOLOC/programs/anaconda3/lib/python3.10/site-packages/glidertools/load/seaglider.py:227: GliderToolsWarning: dives was not found in the files\n",
      "  warnings.warn(msg, GliderToolsWarning)\n"
     ]
    },
    {
     "name": "stdout",
     "output_type": "stream",
     "text": [
      "\n",
      "DIMENSION: sg_data_point\n",
      "{latitude, longitude, time, depth}\n"
     ]
    },
    {
     "name": "stderr",
     "output_type": "stream",
     "text": [
      "  2%|▊                                        | 30/1467 [00:13<10:32,  2.27it/s]/home/dIOGOLOC/programs/anaconda3/lib/python3.10/site-packages/glidertools/load/seaglider.py:227: GliderToolsWarning: dives was not found in the files\n",
      "  warnings.warn(msg, GliderToolsWarning)\n"
     ]
    },
    {
     "name": "stdout",
     "output_type": "stream",
     "text": [
      "\n",
      "DIMENSION: sg_data_point\n",
      "{latitude, longitude, time, depth}\n"
     ]
    },
    {
     "name": "stderr",
     "output_type": "stream",
     "text": [
      "  2%|▊                                        | 31/1467 [00:13<11:12,  2.14it/s]/home/dIOGOLOC/programs/anaconda3/lib/python3.10/site-packages/glidertools/load/seaglider.py:227: GliderToolsWarning: dives was not found in the files\n",
      "  warnings.warn(msg, GliderToolsWarning)\n"
     ]
    },
    {
     "name": "stdout",
     "output_type": "stream",
     "text": [
      "\n",
      "DIMENSION: sg_data_point\n",
      "{latitude, longitude, time, depth}\n"
     ]
    },
    {
     "name": "stderr",
     "output_type": "stream",
     "text": [
      "  2%|▉                                        | 32/1467 [00:14<11:00,  2.17it/s]/home/dIOGOLOC/programs/anaconda3/lib/python3.10/site-packages/glidertools/load/seaglider.py:227: GliderToolsWarning: dives was not found in the files\n",
      "  warnings.warn(msg, GliderToolsWarning)\n"
     ]
    },
    {
     "name": "stdout",
     "output_type": "stream",
     "text": [
      "\n",
      "DIMENSION: sg_data_point\n",
      "{latitude, longitude, time, depth}\n"
     ]
    },
    {
     "name": "stderr",
     "output_type": "stream",
     "text": [
      "  2%|▉                                        | 33/1467 [00:14<10:49,  2.21it/s]/home/dIOGOLOC/programs/anaconda3/lib/python3.10/site-packages/glidertools/load/seaglider.py:227: GliderToolsWarning: dives was not found in the files\n",
      "  warnings.warn(msg, GliderToolsWarning)\n"
     ]
    },
    {
     "name": "stdout",
     "output_type": "stream",
     "text": [
      "\n",
      "DIMENSION: sg_data_point\n",
      "{latitude, longitude, time, depth}\n"
     ]
    },
    {
     "name": "stderr",
     "output_type": "stream",
     "text": [
      "  2%|▉                                        | 34/1467 [00:14<10:45,  2.22it/s]/home/dIOGOLOC/programs/anaconda3/lib/python3.10/site-packages/glidertools/load/seaglider.py:227: GliderToolsWarning: dives was not found in the files\n",
      "  warnings.warn(msg, GliderToolsWarning)\n"
     ]
    },
    {
     "name": "stdout",
     "output_type": "stream",
     "text": [
      "\n",
      "DIMENSION: sg_data_point\n",
      "{latitude, longitude, time, depth}\n"
     ]
    },
    {
     "name": "stderr",
     "output_type": "stream",
     "text": [
      "  2%|▉                                        | 35/1467 [00:15<10:41,  2.23it/s]/home/dIOGOLOC/programs/anaconda3/lib/python3.10/site-packages/glidertools/load/seaglider.py:227: GliderToolsWarning: dives was not found in the files\n",
      "  warnings.warn(msg, GliderToolsWarning)\n"
     ]
    },
    {
     "name": "stdout",
     "output_type": "stream",
     "text": [
      "\n",
      "DIMENSION: sg_data_point\n",
      "{latitude, longitude, time, depth}\n"
     ]
    },
    {
     "name": "stderr",
     "output_type": "stream",
     "text": [
      "  2%|█                                        | 36/1467 [00:15<10:39,  2.24it/s]/home/dIOGOLOC/programs/anaconda3/lib/python3.10/site-packages/glidertools/load/seaglider.py:227: GliderToolsWarning: dives was not found in the files\n",
      "  warnings.warn(msg, GliderToolsWarning)\n"
     ]
    },
    {
     "name": "stdout",
     "output_type": "stream",
     "text": [
      "\n",
      "DIMENSION: sg_data_point\n",
      "{latitude, longitude, time, depth}\n"
     ]
    },
    {
     "name": "stderr",
     "output_type": "stream",
     "text": [
      "  3%|█                                        | 37/1467 [00:16<10:38,  2.24it/s]/home/dIOGOLOC/programs/anaconda3/lib/python3.10/site-packages/glidertools/load/seaglider.py:227: GliderToolsWarning: dives was not found in the files\n",
      "  warnings.warn(msg, GliderToolsWarning)\n"
     ]
    },
    {
     "name": "stdout",
     "output_type": "stream",
     "text": [
      "\n",
      "DIMENSION: sg_data_point\n",
      "{latitude, longitude, time, depth}\n"
     ]
    },
    {
     "name": "stderr",
     "output_type": "stream",
     "text": [
      "  3%|█                                        | 38/1467 [00:16<10:42,  2.22it/s]/home/dIOGOLOC/programs/anaconda3/lib/python3.10/site-packages/glidertools/load/seaglider.py:227: GliderToolsWarning: dives was not found in the files\n",
      "  warnings.warn(msg, GliderToolsWarning)\n"
     ]
    },
    {
     "name": "stdout",
     "output_type": "stream",
     "text": [
      "\n",
      "DIMENSION: sg_data_point\n",
      "{latitude, longitude, time, depth}\n"
     ]
    },
    {
     "name": "stderr",
     "output_type": "stream",
     "text": [
      "  3%|█                                        | 39/1467 [00:17<10:42,  2.22it/s]/home/dIOGOLOC/programs/anaconda3/lib/python3.10/site-packages/glidertools/load/seaglider.py:227: GliderToolsWarning: dives was not found in the files\n",
      "  warnings.warn(msg, GliderToolsWarning)\n"
     ]
    },
    {
     "name": "stdout",
     "output_type": "stream",
     "text": [
      "\n",
      "DIMENSION: sg_data_point\n",
      "{latitude, longitude, time, depth}\n"
     ]
    },
    {
     "name": "stderr",
     "output_type": "stream",
     "text": [
      "  3%|█                                        | 40/1467 [00:17<11:19,  2.10it/s]/home/dIOGOLOC/programs/anaconda3/lib/python3.10/site-packages/glidertools/load/seaglider.py:227: GliderToolsWarning: dives was not found in the files\n",
      "  warnings.warn(msg, GliderToolsWarning)\n"
     ]
    },
    {
     "name": "stdout",
     "output_type": "stream",
     "text": [
      "\n",
      "DIMENSION: sg_data_point\n",
      "{latitude, longitude, time, depth}\n"
     ]
    },
    {
     "name": "stderr",
     "output_type": "stream",
     "text": [
      "  3%|█▏                                       | 41/1467 [00:18<11:14,  2.11it/s]/home/dIOGOLOC/programs/anaconda3/lib/python3.10/site-packages/glidertools/load/seaglider.py:227: GliderToolsWarning: dives was not found in the files\n",
      "  warnings.warn(msg, GliderToolsWarning)\n"
     ]
    },
    {
     "name": "stdout",
     "output_type": "stream",
     "text": [
      "\n",
      "DIMENSION: sg_data_point\n",
      "{latitude, longitude, time, depth}\n"
     ]
    },
    {
     "name": "stderr",
     "output_type": "stream",
     "text": [
      "  3%|█▏                                       | 42/1467 [00:18<11:09,  2.13it/s]/home/dIOGOLOC/programs/anaconda3/lib/python3.10/site-packages/glidertools/load/seaglider.py:227: GliderToolsWarning: dives was not found in the files\n",
      "  warnings.warn(msg, GliderToolsWarning)\n"
     ]
    },
    {
     "name": "stdout",
     "output_type": "stream",
     "text": [
      "\n",
      "DIMENSION: sg_data_point\n",
      "{latitude, longitude, time, depth}\n"
     ]
    },
    {
     "name": "stderr",
     "output_type": "stream",
     "text": [
      "  3%|█▏                                       | 43/1467 [00:19<11:02,  2.15it/s]/home/dIOGOLOC/programs/anaconda3/lib/python3.10/site-packages/glidertools/load/seaglider.py:227: GliderToolsWarning: dives was not found in the files\n",
      "  warnings.warn(msg, GliderToolsWarning)\n"
     ]
    },
    {
     "name": "stdout",
     "output_type": "stream",
     "text": [
      "\n",
      "DIMENSION: sg_data_point\n",
      "{latitude, longitude, time, depth}\n"
     ]
    },
    {
     "name": "stderr",
     "output_type": "stream",
     "text": [
      "  3%|█▏                                       | 44/1467 [00:19<10:58,  2.16it/s]/home/dIOGOLOC/programs/anaconda3/lib/python3.10/site-packages/glidertools/load/seaglider.py:227: GliderToolsWarning: dives was not found in the files\n",
      "  warnings.warn(msg, GliderToolsWarning)\n"
     ]
    },
    {
     "name": "stdout",
     "output_type": "stream",
     "text": [
      "\n",
      "DIMENSION: sg_data_point\n",
      "{latitude, longitude, time, depth}\n"
     ]
    },
    {
     "name": "stderr",
     "output_type": "stream",
     "text": [
      "  3%|█▎                                       | 45/1467 [00:20<10:56,  2.17it/s]/home/dIOGOLOC/programs/anaconda3/lib/python3.10/site-packages/glidertools/load/seaglider.py:227: GliderToolsWarning: dives was not found in the files\n",
      "  warnings.warn(msg, GliderToolsWarning)\n"
     ]
    },
    {
     "name": "stdout",
     "output_type": "stream",
     "text": [
      "\n",
      "DIMENSION: sg_data_point\n",
      "{latitude, longitude, time, depth}\n"
     ]
    },
    {
     "name": "stderr",
     "output_type": "stream",
     "text": [
      "  3%|█▎                                       | 46/1467 [00:20<10:33,  2.24it/s]/home/dIOGOLOC/programs/anaconda3/lib/python3.10/site-packages/glidertools/load/seaglider.py:227: GliderToolsWarning: dives was not found in the files\n",
      "  warnings.warn(msg, GliderToolsWarning)\n"
     ]
    },
    {
     "name": "stdout",
     "output_type": "stream",
     "text": [
      "\n",
      "DIMENSION: sg_data_point\n",
      "{latitude, longitude, time, depth}\n"
     ]
    },
    {
     "name": "stderr",
     "output_type": "stream",
     "text": [
      "  3%|█▎                                       | 47/1467 [00:20<10:31,  2.25it/s]/home/dIOGOLOC/programs/anaconda3/lib/python3.10/site-packages/glidertools/load/seaglider.py:227: GliderToolsWarning: dives was not found in the files\n",
      "  warnings.warn(msg, GliderToolsWarning)\n"
     ]
    },
    {
     "name": "stdout",
     "output_type": "stream",
     "text": [
      "\n",
      "DIMENSION: sg_data_point\n",
      "{latitude, longitude, time, depth}\n"
     ]
    },
    {
     "name": "stderr",
     "output_type": "stream",
     "text": [
      "  3%|█▎                                       | 48/1467 [00:21<10:23,  2.27it/s]/home/dIOGOLOC/programs/anaconda3/lib/python3.10/site-packages/glidertools/load/seaglider.py:227: GliderToolsWarning: dives was not found in the files\n",
      "  warnings.warn(msg, GliderToolsWarning)\n"
     ]
    },
    {
     "name": "stdout",
     "output_type": "stream",
     "text": [
      "\n",
      "DIMENSION: sg_data_point\n",
      "{latitude, longitude, time, depth}\n"
     ]
    },
    {
     "name": "stderr",
     "output_type": "stream",
     "text": [
      "  3%|█▎                                       | 49/1467 [00:21<10:11,  2.32it/s]/home/dIOGOLOC/programs/anaconda3/lib/python3.10/site-packages/glidertools/load/seaglider.py:227: GliderToolsWarning: dives was not found in the files\n",
      "  warnings.warn(msg, GliderToolsWarning)\n"
     ]
    },
    {
     "name": "stdout",
     "output_type": "stream",
     "text": [
      "\n",
      "DIMENSION: sg_data_point\n",
      "{latitude, longitude, time, depth}\n"
     ]
    },
    {
     "name": "stderr",
     "output_type": "stream",
     "text": [
      "  3%|█▍                                       | 50/1467 [00:22<10:49,  2.18it/s]/home/dIOGOLOC/programs/anaconda3/lib/python3.10/site-packages/glidertools/load/seaglider.py:227: GliderToolsWarning: dives was not found in the files\n",
      "  warnings.warn(msg, GliderToolsWarning)\n"
     ]
    },
    {
     "name": "stdout",
     "output_type": "stream",
     "text": [
      "\n",
      "DIMENSION: sg_data_point\n",
      "{latitude, longitude, time, depth}\n"
     ]
    },
    {
     "name": "stderr",
     "output_type": "stream",
     "text": [
      "  3%|█▍                                       | 51/1467 [00:22<10:38,  2.22it/s]/home/dIOGOLOC/programs/anaconda3/lib/python3.10/site-packages/glidertools/load/seaglider.py:227: GliderToolsWarning: dives was not found in the files\n",
      "  warnings.warn(msg, GliderToolsWarning)\n"
     ]
    },
    {
     "name": "stdout",
     "output_type": "stream",
     "text": [
      "\n",
      "DIMENSION: sg_data_point\n",
      "{latitude, longitude, time, depth}\n"
     ]
    },
    {
     "name": "stderr",
     "output_type": "stream",
     "text": [
      "  4%|█▍                                       | 52/1467 [00:23<11:37,  2.03it/s]/home/dIOGOLOC/programs/anaconda3/lib/python3.10/site-packages/glidertools/load/seaglider.py:227: GliderToolsWarning: dives was not found in the files\n",
      "  warnings.warn(msg, GliderToolsWarning)\n"
     ]
    },
    {
     "name": "stdout",
     "output_type": "stream",
     "text": [
      "\n",
      "DIMENSION: sg_data_point\n",
      "{latitude, longitude, time, depth}\n"
     ]
    },
    {
     "name": "stderr",
     "output_type": "stream",
     "text": [
      "  4%|█▍                                       | 53/1467 [00:23<12:06,  1.95it/s]/home/dIOGOLOC/programs/anaconda3/lib/python3.10/site-packages/glidertools/load/seaglider.py:227: GliderToolsWarning: dives was not found in the files\n",
      "  warnings.warn(msg, GliderToolsWarning)\n"
     ]
    },
    {
     "name": "stdout",
     "output_type": "stream",
     "text": [
      "\n",
      "DIMENSION: sg_data_point\n",
      "{latitude, longitude, time, depth}\n"
     ]
    },
    {
     "name": "stderr",
     "output_type": "stream",
     "text": [
      "  4%|█▌                                       | 54/1467 [00:24<11:36,  2.03it/s]/home/dIOGOLOC/programs/anaconda3/lib/python3.10/site-packages/glidertools/load/seaglider.py:227: GliderToolsWarning: dives was not found in the files\n",
      "  warnings.warn(msg, GliderToolsWarning)\n"
     ]
    },
    {
     "name": "stdout",
     "output_type": "stream",
     "text": [
      "\n",
      "DIMENSION: sg_data_point\n",
      "{latitude, longitude, time, depth}\n"
     ]
    },
    {
     "name": "stderr",
     "output_type": "stream",
     "text": [
      "  4%|█▌                                       | 55/1467 [00:24<11:00,  2.14it/s]/home/dIOGOLOC/programs/anaconda3/lib/python3.10/site-packages/glidertools/load/seaglider.py:227: GliderToolsWarning: dives was not found in the files\n",
      "  warnings.warn(msg, GliderToolsWarning)\n"
     ]
    },
    {
     "name": "stdout",
     "output_type": "stream",
     "text": [
      "\n",
      "DIMENSION: sg_data_point\n",
      "{latitude, longitude, time, depth}\n"
     ]
    },
    {
     "name": "stderr",
     "output_type": "stream",
     "text": [
      "  4%|█▌                                       | 56/1467 [00:25<10:36,  2.22it/s]/home/dIOGOLOC/programs/anaconda3/lib/python3.10/site-packages/glidertools/load/seaglider.py:227: GliderToolsWarning: dives was not found in the files\n",
      "  warnings.warn(msg, GliderToolsWarning)\n"
     ]
    },
    {
     "name": "stdout",
     "output_type": "stream",
     "text": [
      "\n",
      "DIMENSION: sg_data_point\n",
      "{latitude, longitude, time, depth}\n"
     ]
    },
    {
     "name": "stderr",
     "output_type": "stream",
     "text": [
      "  4%|█▌                                       | 57/1467 [00:25<10:19,  2.28it/s]/home/dIOGOLOC/programs/anaconda3/lib/python3.10/site-packages/glidertools/load/seaglider.py:227: GliderToolsWarning: dives was not found in the files\n",
      "  warnings.warn(msg, GliderToolsWarning)\n"
     ]
    },
    {
     "name": "stdout",
     "output_type": "stream",
     "text": [
      "\n",
      "DIMENSION: sg_data_point\n",
      "{latitude, longitude, time, depth}\n"
     ]
    },
    {
     "name": "stderr",
     "output_type": "stream",
     "text": [
      "  4%|█▌                                       | 58/1467 [00:25<10:07,  2.32it/s]/home/dIOGOLOC/programs/anaconda3/lib/python3.10/site-packages/glidertools/load/seaglider.py:227: GliderToolsWarning: dives was not found in the files\n",
      "  warnings.warn(msg, GliderToolsWarning)\n"
     ]
    },
    {
     "name": "stdout",
     "output_type": "stream",
     "text": [
      "\n",
      "DIMENSION: sg_data_point\n",
      "{latitude, longitude, time, depth}\n"
     ]
    },
    {
     "name": "stderr",
     "output_type": "stream",
     "text": [
      "  4%|█▋                                       | 59/1467 [00:26<09:58,  2.35it/s]/home/dIOGOLOC/programs/anaconda3/lib/python3.10/site-packages/glidertools/load/seaglider.py:227: GliderToolsWarning: dives was not found in the files\n",
      "  warnings.warn(msg, GliderToolsWarning)\n"
     ]
    },
    {
     "name": "stdout",
     "output_type": "stream",
     "text": [
      "\n",
      "DIMENSION: sg_data_point\n",
      "{latitude, longitude, time, depth}\n"
     ]
    },
    {
     "name": "stderr",
     "output_type": "stream",
     "text": [
      "  4%|█▋                                       | 60/1467 [00:26<09:55,  2.36it/s]/home/dIOGOLOC/programs/anaconda3/lib/python3.10/site-packages/glidertools/load/seaglider.py:227: GliderToolsWarning: dives was not found in the files\n",
      "  warnings.warn(msg, GliderToolsWarning)\n"
     ]
    },
    {
     "name": "stdout",
     "output_type": "stream",
     "text": [
      "\n",
      "DIMENSION: sg_data_point\n",
      "{latitude, longitude, time, depth}\n"
     ]
    },
    {
     "name": "stderr",
     "output_type": "stream",
     "text": [
      "  4%|█▋                                       | 61/1467 [00:27<10:37,  2.21it/s]/home/dIOGOLOC/programs/anaconda3/lib/python3.10/site-packages/glidertools/load/seaglider.py:227: GliderToolsWarning: dives was not found in the files\n",
      "  warnings.warn(msg, GliderToolsWarning)\n"
     ]
    },
    {
     "name": "stdout",
     "output_type": "stream",
     "text": [
      "\n",
      "DIMENSION: sg_data_point\n",
      "{latitude, longitude, time, depth}\n"
     ]
    },
    {
     "name": "stderr",
     "output_type": "stream",
     "text": [
      "  4%|█▋                                       | 62/1467 [00:27<10:50,  2.16it/s]/home/dIOGOLOC/programs/anaconda3/lib/python3.10/site-packages/glidertools/load/seaglider.py:227: GliderToolsWarning: dives was not found in the files\n",
      "  warnings.warn(msg, GliderToolsWarning)\n"
     ]
    },
    {
     "name": "stdout",
     "output_type": "stream",
     "text": [
      "\n",
      "DIMENSION: sg_data_point\n",
      "{latitude, longitude, time, depth}\n"
     ]
    },
    {
     "name": "stderr",
     "output_type": "stream",
     "text": [
      "  4%|█▊                                       | 63/1467 [00:28<10:44,  2.18it/s]/home/dIOGOLOC/programs/anaconda3/lib/python3.10/site-packages/glidertools/load/seaglider.py:227: GliderToolsWarning: dives was not found in the files\n",
      "  warnings.warn(msg, GliderToolsWarning)\n"
     ]
    },
    {
     "name": "stdout",
     "output_type": "stream",
     "text": [
      "\n",
      "DIMENSION: sg_data_point\n",
      "{latitude, longitude, time, depth}\n"
     ]
    },
    {
     "name": "stderr",
     "output_type": "stream",
     "text": [
      "  4%|█▊                                       | 64/1467 [00:28<10:34,  2.21it/s]/home/dIOGOLOC/programs/anaconda3/lib/python3.10/site-packages/glidertools/load/seaglider.py:227: GliderToolsWarning: dives was not found in the files\n",
      "  warnings.warn(msg, GliderToolsWarning)\n"
     ]
    },
    {
     "name": "stdout",
     "output_type": "stream",
     "text": [
      "\n",
      "DIMENSION: sg_data_point\n",
      "{latitude, longitude, time, depth}\n"
     ]
    },
    {
     "name": "stderr",
     "output_type": "stream",
     "text": [
      "  4%|█▊                                       | 65/1467 [00:29<10:18,  2.27it/s]/home/dIOGOLOC/programs/anaconda3/lib/python3.10/site-packages/glidertools/load/seaglider.py:227: GliderToolsWarning: dives was not found in the files\n",
      "  warnings.warn(msg, GliderToolsWarning)\n"
     ]
    },
    {
     "name": "stdout",
     "output_type": "stream",
     "text": [
      "\n",
      "DIMENSION: sg_data_point\n",
      "{latitude, longitude, time, depth}\n"
     ]
    },
    {
     "name": "stderr",
     "output_type": "stream",
     "text": [
      "  4%|█▊                                       | 66/1467 [00:29<10:04,  2.32it/s]/home/dIOGOLOC/programs/anaconda3/lib/python3.10/site-packages/glidertools/load/seaglider.py:227: GliderToolsWarning: dives was not found in the files\n",
      "  warnings.warn(msg, GliderToolsWarning)\n"
     ]
    },
    {
     "name": "stdout",
     "output_type": "stream",
     "text": [
      "\n",
      "DIMENSION: sg_data_point\n",
      "{latitude, longitude, time, depth}\n"
     ]
    },
    {
     "name": "stderr",
     "output_type": "stream",
     "text": [
      "  5%|█▊                                       | 67/1467 [00:29<09:58,  2.34it/s]/home/dIOGOLOC/programs/anaconda3/lib/python3.10/site-packages/glidertools/load/seaglider.py:227: GliderToolsWarning: dives was not found in the files\n",
      "  warnings.warn(msg, GliderToolsWarning)\n"
     ]
    },
    {
     "name": "stdout",
     "output_type": "stream",
     "text": [
      "\n",
      "DIMENSION: sg_data_point\n",
      "{latitude, longitude, time, depth}\n"
     ]
    },
    {
     "name": "stderr",
     "output_type": "stream",
     "text": [
      "  5%|█▉                                       | 68/1467 [00:30<09:50,  2.37it/s]/home/dIOGOLOC/programs/anaconda3/lib/python3.10/site-packages/glidertools/load/seaglider.py:227: GliderToolsWarning: dives was not found in the files\n",
      "  warnings.warn(msg, GliderToolsWarning)\n"
     ]
    },
    {
     "name": "stdout",
     "output_type": "stream",
     "text": [
      "\n",
      "DIMENSION: sg_data_point\n",
      "{latitude, longitude, time, depth}\n"
     ]
    },
    {
     "name": "stderr",
     "output_type": "stream",
     "text": [
      "  5%|█▉                                       | 69/1467 [00:30<10:01,  2.32it/s]/home/dIOGOLOC/programs/anaconda3/lib/python3.10/site-packages/glidertools/load/seaglider.py:227: GliderToolsWarning: dives was not found in the files\n",
      "  warnings.warn(msg, GliderToolsWarning)\n"
     ]
    },
    {
     "name": "stdout",
     "output_type": "stream",
     "text": [
      "\n",
      "DIMENSION: sg_data_point\n",
      "{latitude, longitude, time, depth}\n"
     ]
    },
    {
     "name": "stderr",
     "output_type": "stream",
     "text": [
      "  5%|█▉                                       | 70/1467 [00:31<09:54,  2.35it/s]/home/dIOGOLOC/programs/anaconda3/lib/python3.10/site-packages/glidertools/load/seaglider.py:227: GliderToolsWarning: dives was not found in the files\n",
      "  warnings.warn(msg, GliderToolsWarning)\n"
     ]
    },
    {
     "name": "stdout",
     "output_type": "stream",
     "text": [
      "\n",
      "DIMENSION: sg_data_point\n",
      "{latitude, longitude, time, depth}\n"
     ]
    },
    {
     "name": "stderr",
     "output_type": "stream",
     "text": [
      "  5%|█▉                                       | 71/1467 [00:31<10:26,  2.23it/s]/home/dIOGOLOC/programs/anaconda3/lib/python3.10/site-packages/glidertools/load/seaglider.py:227: GliderToolsWarning: dives was not found in the files\n",
      "  warnings.warn(msg, GliderToolsWarning)\n"
     ]
    },
    {
     "name": "stdout",
     "output_type": "stream",
     "text": [
      "\n",
      "DIMENSION: sg_data_point\n",
      "{latitude, longitude, time, depth}\n"
     ]
    },
    {
     "name": "stderr",
     "output_type": "stream",
     "text": [
      "  5%|██                                       | 72/1467 [00:32<10:10,  2.28it/s]/home/dIOGOLOC/programs/anaconda3/lib/python3.10/site-packages/glidertools/load/seaglider.py:227: GliderToolsWarning: dives was not found in the files\n",
      "  warnings.warn(msg, GliderToolsWarning)\n"
     ]
    },
    {
     "name": "stdout",
     "output_type": "stream",
     "text": [
      "\n",
      "DIMENSION: sg_data_point\n",
      "{latitude, longitude, time, depth}\n"
     ]
    },
    {
     "name": "stderr",
     "output_type": "stream",
     "text": [
      "  5%|██                                       | 73/1467 [00:32<10:24,  2.23it/s]/home/dIOGOLOC/programs/anaconda3/lib/python3.10/site-packages/glidertools/load/seaglider.py:227: GliderToolsWarning: dives was not found in the files\n",
      "  warnings.warn(msg, GliderToolsWarning)\n"
     ]
    },
    {
     "name": "stdout",
     "output_type": "stream",
     "text": [
      "\n",
      "DIMENSION: sg_data_point\n",
      "{latitude, longitude, time, depth}\n"
     ]
    },
    {
     "name": "stderr",
     "output_type": "stream",
     "text": [
      "  5%|██                                       | 74/1467 [00:33<10:42,  2.17it/s]/home/dIOGOLOC/programs/anaconda3/lib/python3.10/site-packages/glidertools/load/seaglider.py:227: GliderToolsWarning: dives was not found in the files\n",
      "  warnings.warn(msg, GliderToolsWarning)\n"
     ]
    },
    {
     "name": "stdout",
     "output_type": "stream",
     "text": [
      "\n",
      "DIMENSION: sg_data_point\n",
      "{latitude, longitude, time, depth}\n"
     ]
    },
    {
     "name": "stderr",
     "output_type": "stream",
     "text": [
      "  5%|██                                       | 75/1467 [00:33<10:41,  2.17it/s]/home/dIOGOLOC/programs/anaconda3/lib/python3.10/site-packages/glidertools/load/seaglider.py:227: GliderToolsWarning: dives was not found in the files\n",
      "  warnings.warn(msg, GliderToolsWarning)\n"
     ]
    },
    {
     "name": "stdout",
     "output_type": "stream",
     "text": [
      "\n",
      "DIMENSION: sg_data_point\n",
      "{latitude, longitude, time, depth}\n"
     ]
    },
    {
     "name": "stderr",
     "output_type": "stream",
     "text": [
      "  5%|██                                       | 76/1467 [00:33<10:38,  2.18it/s]/home/dIOGOLOC/programs/anaconda3/lib/python3.10/site-packages/glidertools/load/seaglider.py:227: GliderToolsWarning: dives was not found in the files\n",
      "  warnings.warn(msg, GliderToolsWarning)\n"
     ]
    },
    {
     "name": "stdout",
     "output_type": "stream",
     "text": [
      "\n",
      "DIMENSION: sg_data_point\n",
      "{latitude, longitude, time, depth}\n"
     ]
    },
    {
     "name": "stderr",
     "output_type": "stream",
     "text": [
      "  5%|██▏                                      | 77/1467 [00:34<10:22,  2.23it/s]/home/dIOGOLOC/programs/anaconda3/lib/python3.10/site-packages/glidertools/load/seaglider.py:227: GliderToolsWarning: dives was not found in the files\n",
      "  warnings.warn(msg, GliderToolsWarning)\n"
     ]
    },
    {
     "name": "stdout",
     "output_type": "stream",
     "text": [
      "\n",
      "DIMENSION: sg_data_point\n",
      "{latitude, longitude, time, depth}\n"
     ]
    },
    {
     "name": "stderr",
     "output_type": "stream",
     "text": [
      "  5%|██▏                                      | 78/1467 [00:34<10:11,  2.27it/s]/home/dIOGOLOC/programs/anaconda3/lib/python3.10/site-packages/glidertools/load/seaglider.py:227: GliderToolsWarning: dives was not found in the files\n",
      "  warnings.warn(msg, GliderToolsWarning)\n"
     ]
    },
    {
     "name": "stdout",
     "output_type": "stream",
     "text": [
      "\n",
      "DIMENSION: sg_data_point\n",
      "{latitude, longitude, time, depth}\n"
     ]
    },
    {
     "name": "stderr",
     "output_type": "stream",
     "text": [
      "  5%|██▏                                      | 79/1467 [00:35<10:09,  2.28it/s]/home/dIOGOLOC/programs/anaconda3/lib/python3.10/site-packages/glidertools/load/seaglider.py:227: GliderToolsWarning: dives was not found in the files\n",
      "  warnings.warn(msg, GliderToolsWarning)\n"
     ]
    },
    {
     "name": "stdout",
     "output_type": "stream",
     "text": [
      "\n",
      "DIMENSION: sg_data_point\n",
      "{latitude, longitude, time, depth}\n"
     ]
    },
    {
     "name": "stderr",
     "output_type": "stream",
     "text": [
      "  5%|██▏                                      | 80/1467 [00:35<10:52,  2.13it/s]/home/dIOGOLOC/programs/anaconda3/lib/python3.10/site-packages/glidertools/load/seaglider.py:227: GliderToolsWarning: dives was not found in the files\n",
      "  warnings.warn(msg, GliderToolsWarning)\n"
     ]
    },
    {
     "name": "stdout",
     "output_type": "stream",
     "text": [
      "\n",
      "DIMENSION: sg_data_point\n",
      "{latitude, longitude, time, depth}\n"
     ]
    },
    {
     "name": "stderr",
     "output_type": "stream",
     "text": [
      "  6%|██▎                                      | 81/1467 [00:36<10:39,  2.17it/s]/home/dIOGOLOC/programs/anaconda3/lib/python3.10/site-packages/glidertools/load/seaglider.py:227: GliderToolsWarning: dives was not found in the files\n",
      "  warnings.warn(msg, GliderToolsWarning)\n"
     ]
    },
    {
     "name": "stdout",
     "output_type": "stream",
     "text": [
      "\n",
      "DIMENSION: sg_data_point\n",
      "{latitude, longitude, time, depth}\n"
     ]
    },
    {
     "name": "stderr",
     "output_type": "stream",
     "text": [
      "  6%|██▎                                      | 82/1467 [00:36<10:36,  2.17it/s]/home/dIOGOLOC/programs/anaconda3/lib/python3.10/site-packages/glidertools/load/seaglider.py:227: GliderToolsWarning: dives was not found in the files\n",
      "  warnings.warn(msg, GliderToolsWarning)\n"
     ]
    },
    {
     "name": "stdout",
     "output_type": "stream",
     "text": [
      "\n",
      "DIMENSION: sg_data_point\n",
      "{latitude, longitude, time, depth}\n"
     ]
    },
    {
     "name": "stderr",
     "output_type": "stream",
     "text": [
      "  6%|██▎                                      | 83/1467 [00:37<10:30,  2.19it/s]/home/dIOGOLOC/programs/anaconda3/lib/python3.10/site-packages/glidertools/load/seaglider.py:227: GliderToolsWarning: dives was not found in the files\n",
      "  warnings.warn(msg, GliderToolsWarning)\n"
     ]
    },
    {
     "name": "stdout",
     "output_type": "stream",
     "text": [
      "\n",
      "DIMENSION: sg_data_point\n",
      "{latitude, longitude, time, depth}\n"
     ]
    },
    {
     "name": "stderr",
     "output_type": "stream",
     "text": [
      "  6%|██▎                                      | 84/1467 [00:37<10:22,  2.22it/s]/home/dIOGOLOC/programs/anaconda3/lib/python3.10/site-packages/glidertools/load/seaglider.py:227: GliderToolsWarning: dives was not found in the files\n",
      "  warnings.warn(msg, GliderToolsWarning)\n"
     ]
    },
    {
     "name": "stdout",
     "output_type": "stream",
     "text": [
      "\n",
      "DIMENSION: sg_data_point\n",
      "{latitude, longitude, time, depth}\n"
     ]
    },
    {
     "name": "stderr",
     "output_type": "stream",
     "text": [
      "  6%|██▍                                      | 85/1467 [00:38<10:20,  2.23it/s]/home/dIOGOLOC/programs/anaconda3/lib/python3.10/site-packages/glidertools/load/seaglider.py:227: GliderToolsWarning: dives was not found in the files\n",
      "  warnings.warn(msg, GliderToolsWarning)\n"
     ]
    },
    {
     "name": "stdout",
     "output_type": "stream",
     "text": [
      "\n",
      "DIMENSION: sg_data_point\n",
      "{latitude, longitude, time, depth}\n"
     ]
    },
    {
     "name": "stderr",
     "output_type": "stream",
     "text": [
      "  6%|██▍                                      | 86/1467 [00:38<10:15,  2.25it/s]/home/dIOGOLOC/programs/anaconda3/lib/python3.10/site-packages/glidertools/load/seaglider.py:227: GliderToolsWarning: dives was not found in the files\n",
      "  warnings.warn(msg, GliderToolsWarning)\n"
     ]
    },
    {
     "name": "stdout",
     "output_type": "stream",
     "text": [
      "\n",
      "DIMENSION: sg_data_point\n",
      "{latitude, longitude, time, depth}\n"
     ]
    },
    {
     "name": "stderr",
     "output_type": "stream",
     "text": [
      "  6%|██▍                                      | 87/1467 [00:38<10:03,  2.29it/s]/home/dIOGOLOC/programs/anaconda3/lib/python3.10/site-packages/glidertools/load/seaglider.py:227: GliderToolsWarning: dives was not found in the files\n",
      "  warnings.warn(msg, GliderToolsWarning)\n"
     ]
    },
    {
     "name": "stdout",
     "output_type": "stream",
     "text": [
      "\n",
      "DIMENSION: sg_data_point\n",
      "{latitude, longitude, time, depth}\n"
     ]
    },
    {
     "name": "stderr",
     "output_type": "stream",
     "text": [
      "  6%|██▍                                      | 88/1467 [00:39<09:50,  2.33it/s]/home/dIOGOLOC/programs/anaconda3/lib/python3.10/site-packages/glidertools/load/seaglider.py:227: GliderToolsWarning: dives was not found in the files\n",
      "  warnings.warn(msg, GliderToolsWarning)\n"
     ]
    },
    {
     "name": "stdout",
     "output_type": "stream",
     "text": [
      "\n",
      "DIMENSION: sg_data_point\n",
      "{latitude, longitude, time, depth}\n"
     ]
    },
    {
     "name": "stderr",
     "output_type": "stream",
     "text": [
      "  6%|██▍                                      | 89/1467 [00:39<10:20,  2.22it/s]/home/dIOGOLOC/programs/anaconda3/lib/python3.10/site-packages/glidertools/load/seaglider.py:227: GliderToolsWarning: dives was not found in the files\n",
      "  warnings.warn(msg, GliderToolsWarning)\n"
     ]
    },
    {
     "name": "stdout",
     "output_type": "stream",
     "text": [
      "\n",
      "DIMENSION: sg_data_point\n",
      "{latitude, longitude, time, depth}\n"
     ]
    },
    {
     "name": "stderr",
     "output_type": "stream",
     "text": [
      "  6%|██▌                                      | 90/1467 [00:40<10:03,  2.28it/s]/home/dIOGOLOC/programs/anaconda3/lib/python3.10/site-packages/glidertools/load/seaglider.py:227: GliderToolsWarning: dives was not found in the files\n",
      "  warnings.warn(msg, GliderToolsWarning)\n"
     ]
    },
    {
     "name": "stdout",
     "output_type": "stream",
     "text": [
      "\n",
      "DIMENSION: sg_data_point\n",
      "{latitude, longitude, time, depth}\n"
     ]
    },
    {
     "name": "stderr",
     "output_type": "stream",
     "text": [
      "  6%|██▌                                      | 91/1467 [00:40<09:57,  2.30it/s]/home/dIOGOLOC/programs/anaconda3/lib/python3.10/site-packages/glidertools/load/seaglider.py:227: GliderToolsWarning: dives was not found in the files\n",
      "  warnings.warn(msg, GliderToolsWarning)\n"
     ]
    },
    {
     "name": "stdout",
     "output_type": "stream",
     "text": [
      "\n",
      "DIMENSION: sg_data_point\n",
      "{latitude, longitude, time, depth}\n"
     ]
    },
    {
     "name": "stderr",
     "output_type": "stream",
     "text": [
      "  6%|██▌                                      | 92/1467 [00:41<09:54,  2.31it/s]/home/dIOGOLOC/programs/anaconda3/lib/python3.10/site-packages/glidertools/load/seaglider.py:227: GliderToolsWarning: dives was not found in the files\n",
      "  warnings.warn(msg, GliderToolsWarning)\n"
     ]
    },
    {
     "name": "stdout",
     "output_type": "stream",
     "text": [
      "\n",
      "DIMENSION: sg_data_point\n",
      "{latitude, longitude, time, depth}\n"
     ]
    },
    {
     "name": "stderr",
     "output_type": "stream",
     "text": [
      "  6%|██▌                                      | 93/1467 [00:41<09:47,  2.34it/s]/home/dIOGOLOC/programs/anaconda3/lib/python3.10/site-packages/glidertools/load/seaglider.py:227: GliderToolsWarning: dives was not found in the files\n",
      "  warnings.warn(msg, GliderToolsWarning)\n"
     ]
    },
    {
     "name": "stdout",
     "output_type": "stream",
     "text": [
      "\n",
      "DIMENSION: sg_data_point\n",
      "{latitude, longitude, time, depth}\n"
     ]
    },
    {
     "name": "stderr",
     "output_type": "stream",
     "text": [
      "  6%|██▋                                      | 94/1467 [00:41<09:39,  2.37it/s]/home/dIOGOLOC/programs/anaconda3/lib/python3.10/site-packages/glidertools/load/seaglider.py:227: GliderToolsWarning: dives was not found in the files\n",
      "  warnings.warn(msg, GliderToolsWarning)\n"
     ]
    },
    {
     "name": "stdout",
     "output_type": "stream",
     "text": [
      "\n",
      "DIMENSION: sg_data_point\n",
      "{latitude, longitude, time, depth}\n"
     ]
    },
    {
     "name": "stderr",
     "output_type": "stream",
     "text": [
      "  6%|██▋                                      | 95/1467 [00:42<09:35,  2.38it/s]/home/dIOGOLOC/programs/anaconda3/lib/python3.10/site-packages/glidertools/load/seaglider.py:227: GliderToolsWarning: dives was not found in the files\n",
      "  warnings.warn(msg, GliderToolsWarning)\n"
     ]
    },
    {
     "name": "stdout",
     "output_type": "stream",
     "text": [
      "\n",
      "DIMENSION: sg_data_point\n",
      "{latitude, longitude, time, depth}\n"
     ]
    },
    {
     "name": "stderr",
     "output_type": "stream",
     "text": [
      "  7%|██▋                                      | 96/1467 [00:42<09:44,  2.34it/s]/home/dIOGOLOC/programs/anaconda3/lib/python3.10/site-packages/glidertools/load/seaglider.py:227: GliderToolsWarning: dives was not found in the files\n",
      "  warnings.warn(msg, GliderToolsWarning)\n"
     ]
    },
    {
     "name": "stdout",
     "output_type": "stream",
     "text": [
      "\n",
      "DIMENSION: sg_data_point\n",
      "{latitude, longitude, time, depth}\n"
     ]
    },
    {
     "name": "stderr",
     "output_type": "stream",
     "text": [
      "  7%|██▋                                      | 97/1467 [00:43<11:01,  2.07it/s]/home/dIOGOLOC/programs/anaconda3/lib/python3.10/site-packages/glidertools/load/seaglider.py:227: GliderToolsWarning: dives was not found in the files\n",
      "  warnings.warn(msg, GliderToolsWarning)\n"
     ]
    },
    {
     "name": "stdout",
     "output_type": "stream",
     "text": [
      "\n",
      "DIMENSION: sg_data_point\n",
      "{latitude, longitude, time, depth}\n"
     ]
    },
    {
     "name": "stderr",
     "output_type": "stream",
     "text": [
      "  7%|██▋                                      | 98/1467 [00:43<11:59,  1.90it/s]/home/dIOGOLOC/programs/anaconda3/lib/python3.10/site-packages/glidertools/load/seaglider.py:227: GliderToolsWarning: dives was not found in the files\n",
      "  warnings.warn(msg, GliderToolsWarning)\n"
     ]
    },
    {
     "name": "stdout",
     "output_type": "stream",
     "text": [
      "\n",
      "DIMENSION: sg_data_point\n",
      "{latitude, longitude, time, depth}\n"
     ]
    },
    {
     "name": "stderr",
     "output_type": "stream",
     "text": [
      "  7%|██▊                                      | 99/1467 [00:44<12:51,  1.77it/s]/home/dIOGOLOC/programs/anaconda3/lib/python3.10/site-packages/glidertools/load/seaglider.py:227: GliderToolsWarning: dives was not found in the files\n",
      "  warnings.warn(msg, GliderToolsWarning)\n"
     ]
    },
    {
     "name": "stdout",
     "output_type": "stream",
     "text": [
      "\n",
      "DIMENSION: sg_data_point\n",
      "{latitude, longitude, time, depth}\n"
     ]
    },
    {
     "name": "stderr",
     "output_type": "stream",
     "text": [
      "  7%|██▋                                     | 100/1467 [00:45<12:33,  1.82it/s]/home/dIOGOLOC/programs/anaconda3/lib/python3.10/site-packages/glidertools/load/seaglider.py:227: GliderToolsWarning: dives was not found in the files\n",
      "  warnings.warn(msg, GliderToolsWarning)\n"
     ]
    },
    {
     "name": "stdout",
     "output_type": "stream",
     "text": [
      "\n",
      "DIMENSION: sg_data_point\n",
      "{latitude, longitude, time, depth}\n"
     ]
    },
    {
     "name": "stderr",
     "output_type": "stream",
     "text": [
      "  7%|██▊                                     | 101/1467 [00:45<11:51,  1.92it/s]/home/dIOGOLOC/programs/anaconda3/lib/python3.10/site-packages/glidertools/load/seaglider.py:227: GliderToolsWarning: dives was not found in the files\n",
      "  warnings.warn(msg, GliderToolsWarning)\n"
     ]
    },
    {
     "name": "stdout",
     "output_type": "stream",
     "text": [
      "\n",
      "DIMENSION: sg_data_point\n",
      "{latitude, longitude, time, depth}\n"
     ]
    },
    {
     "name": "stderr",
     "output_type": "stream",
     "text": [
      "  7%|██▊                                     | 102/1467 [00:46<11:19,  2.01it/s]/home/dIOGOLOC/programs/anaconda3/lib/python3.10/site-packages/glidertools/load/seaglider.py:227: GliderToolsWarning: dives was not found in the files\n",
      "  warnings.warn(msg, GliderToolsWarning)\n"
     ]
    },
    {
     "name": "stdout",
     "output_type": "stream",
     "text": [
      "\n",
      "DIMENSION: sg_data_point\n",
      "{latitude, longitude, time, depth}\n"
     ]
    },
    {
     "name": "stderr",
     "output_type": "stream",
     "text": [
      "  7%|██▊                                     | 103/1467 [00:46<10:46,  2.11it/s]/home/dIOGOLOC/programs/anaconda3/lib/python3.10/site-packages/glidertools/load/seaglider.py:227: GliderToolsWarning: dives was not found in the files\n",
      "  warnings.warn(msg, GliderToolsWarning)\n"
     ]
    },
    {
     "name": "stdout",
     "output_type": "stream",
     "text": [
      "\n",
      "DIMENSION: sg_data_point\n",
      "{latitude, longitude, time, depth}\n"
     ]
    },
    {
     "name": "stderr",
     "output_type": "stream",
     "text": [
      "  7%|██▊                                     | 104/1467 [00:46<10:26,  2.18it/s]/home/dIOGOLOC/programs/anaconda3/lib/python3.10/site-packages/glidertools/load/seaglider.py:227: GliderToolsWarning: dives was not found in the files\n",
      "  warnings.warn(msg, GliderToolsWarning)\n"
     ]
    },
    {
     "name": "stdout",
     "output_type": "stream",
     "text": [
      "\n",
      "DIMENSION: sg_data_point\n",
      "{latitude, longitude, time, depth}\n"
     ]
    },
    {
     "name": "stderr",
     "output_type": "stream",
     "text": [
      "  7%|██▊                                     | 105/1467 [00:47<10:09,  2.24it/s]/home/dIOGOLOC/programs/anaconda3/lib/python3.10/site-packages/glidertools/load/seaglider.py:227: GliderToolsWarning: dives was not found in the files\n",
      "  warnings.warn(msg, GliderToolsWarning)\n"
     ]
    },
    {
     "name": "stdout",
     "output_type": "stream",
     "text": [
      "\n",
      "DIMENSION: sg_data_point\n",
      "{latitude, longitude, time, depth}\n"
     ]
    },
    {
     "name": "stderr",
     "output_type": "stream",
     "text": [
      "  7%|██▉                                     | 106/1467 [00:47<10:05,  2.25it/s]/home/dIOGOLOC/programs/anaconda3/lib/python3.10/site-packages/glidertools/load/seaglider.py:227: GliderToolsWarning: dives was not found in the files\n",
      "  warnings.warn(msg, GliderToolsWarning)\n"
     ]
    },
    {
     "name": "stdout",
     "output_type": "stream",
     "text": [
      "\n",
      "DIMENSION: sg_data_point\n",
      "{latitude, longitude, time, depth}\n"
     ]
    },
    {
     "name": "stderr",
     "output_type": "stream",
     "text": [
      "  7%|██▉                                     | 107/1467 [00:48<10:06,  2.24it/s]/home/dIOGOLOC/programs/anaconda3/lib/python3.10/site-packages/glidertools/load/seaglider.py:227: GliderToolsWarning: dives was not found in the files\n",
      "  warnings.warn(msg, GliderToolsWarning)\n"
     ]
    },
    {
     "name": "stdout",
     "output_type": "stream",
     "text": [
      "\n",
      "DIMENSION: sg_data_point\n",
      "{latitude, longitude, time, depth}\n"
     ]
    },
    {
     "name": "stderr",
     "output_type": "stream",
     "text": [
      "  7%|██▉                                     | 108/1467 [00:48<10:44,  2.11it/s]/home/dIOGOLOC/programs/anaconda3/lib/python3.10/site-packages/glidertools/load/seaglider.py:227: GliderToolsWarning: dives was not found in the files\n",
      "  warnings.warn(msg, GliderToolsWarning)\n"
     ]
    },
    {
     "name": "stdout",
     "output_type": "stream",
     "text": [
      "\n",
      "DIMENSION: sg_data_point\n",
      "{latitude, longitude, time, depth}\n"
     ]
    },
    {
     "name": "stderr",
     "output_type": "stream",
     "text": [
      "  7%|██▉                                     | 109/1467 [00:49<10:30,  2.16it/s]/home/dIOGOLOC/programs/anaconda3/lib/python3.10/site-packages/glidertools/load/seaglider.py:227: GliderToolsWarning: dives was not found in the files\n",
      "  warnings.warn(msg, GliderToolsWarning)\n"
     ]
    },
    {
     "name": "stdout",
     "output_type": "stream",
     "text": [
      "\n",
      "DIMENSION: sg_data_point\n",
      "{latitude, longitude, time, depth}\n"
     ]
    },
    {
     "name": "stderr",
     "output_type": "stream",
     "text": [
      "  7%|██▉                                     | 110/1467 [00:49<10:24,  2.17it/s]/home/dIOGOLOC/programs/anaconda3/lib/python3.10/site-packages/glidertools/load/seaglider.py:227: GliderToolsWarning: dives was not found in the files\n",
      "  warnings.warn(msg, GliderToolsWarning)\n"
     ]
    },
    {
     "name": "stdout",
     "output_type": "stream",
     "text": [
      "\n",
      "DIMENSION: sg_data_point\n",
      "{latitude, longitude, time, depth}\n"
     ]
    },
    {
     "name": "stderr",
     "output_type": "stream",
     "text": [
      "  8%|███                                     | 111/1467 [00:50<10:16,  2.20it/s]/home/dIOGOLOC/programs/anaconda3/lib/python3.10/site-packages/glidertools/load/seaglider.py:227: GliderToolsWarning: dives was not found in the files\n",
      "  warnings.warn(msg, GliderToolsWarning)\n"
     ]
    },
    {
     "name": "stdout",
     "output_type": "stream",
     "text": [
      "\n",
      "DIMENSION: sg_data_point\n",
      "{latitude, longitude, time, depth}\n"
     ]
    },
    {
     "name": "stderr",
     "output_type": "stream",
     "text": [
      "  8%|███                                     | 112/1467 [00:50<10:12,  2.21it/s]/home/dIOGOLOC/programs/anaconda3/lib/python3.10/site-packages/glidertools/load/seaglider.py:227: GliderToolsWarning: dives was not found in the files\n",
      "  warnings.warn(msg, GliderToolsWarning)\n"
     ]
    },
    {
     "name": "stdout",
     "output_type": "stream",
     "text": [
      "\n",
      "DIMENSION: sg_data_point\n",
      "{latitude, longitude, time, depth}\n"
     ]
    },
    {
     "name": "stderr",
     "output_type": "stream",
     "text": [
      "  8%|███                                     | 113/1467 [00:50<10:06,  2.23it/s]/home/dIOGOLOC/programs/anaconda3/lib/python3.10/site-packages/glidertools/load/seaglider.py:227: GliderToolsWarning: dives was not found in the files\n",
      "  warnings.warn(msg, GliderToolsWarning)\n"
     ]
    },
    {
     "name": "stdout",
     "output_type": "stream",
     "text": [
      "\n",
      "DIMENSION: sg_data_point\n",
      "{latitude, longitude, time, depth}\n"
     ]
    },
    {
     "name": "stderr",
     "output_type": "stream",
     "text": [
      "  8%|███                                     | 114/1467 [00:51<10:04,  2.24it/s]/home/dIOGOLOC/programs/anaconda3/lib/python3.10/site-packages/glidertools/load/seaglider.py:227: GliderToolsWarning: dives was not found in the files\n",
      "  warnings.warn(msg, GliderToolsWarning)\n"
     ]
    },
    {
     "name": "stdout",
     "output_type": "stream",
     "text": [
      "\n",
      "DIMENSION: sg_data_point\n",
      "{latitude, longitude, time, depth}\n"
     ]
    },
    {
     "name": "stderr",
     "output_type": "stream",
     "text": [
      "  8%|███▏                                    | 115/1467 [00:51<10:03,  2.24it/s]/home/dIOGOLOC/programs/anaconda3/lib/python3.10/site-packages/glidertools/load/seaglider.py:227: GliderToolsWarning: dives was not found in the files\n",
      "  warnings.warn(msg, GliderToolsWarning)\n"
     ]
    },
    {
     "name": "stdout",
     "output_type": "stream",
     "text": [
      "\n",
      "DIMENSION: sg_data_point\n",
      "{latitude, longitude, time, depth}\n"
     ]
    },
    {
     "name": "stderr",
     "output_type": "stream",
     "text": [
      "  8%|███▏                                    | 116/1467 [00:52<10:01,  2.24it/s]/home/dIOGOLOC/programs/anaconda3/lib/python3.10/site-packages/glidertools/load/seaglider.py:227: GliderToolsWarning: dives was not found in the files\n",
      "  warnings.warn(msg, GliderToolsWarning)\n"
     ]
    },
    {
     "name": "stdout",
     "output_type": "stream",
     "text": [
      "\n",
      "DIMENSION: sg_data_point\n",
      "{latitude, longitude, time, depth}\n"
     ]
    },
    {
     "name": "stderr",
     "output_type": "stream",
     "text": [
      "  8%|███▏                                    | 117/1467 [00:52<10:40,  2.11it/s]/home/dIOGOLOC/programs/anaconda3/lib/python3.10/site-packages/glidertools/load/seaglider.py:227: GliderToolsWarning: dives was not found in the files\n",
      "  warnings.warn(msg, GliderToolsWarning)\n"
     ]
    },
    {
     "name": "stdout",
     "output_type": "stream",
     "text": [
      "\n",
      "DIMENSION: sg_data_point\n",
      "{latitude, longitude, time, depth}\n"
     ]
    },
    {
     "name": "stderr",
     "output_type": "stream",
     "text": [
      "  8%|███▏                                    | 118/1467 [00:53<10:25,  2.16it/s]/home/dIOGOLOC/programs/anaconda3/lib/python3.10/site-packages/glidertools/load/seaglider.py:227: GliderToolsWarning: dives was not found in the files\n",
      "  warnings.warn(msg, GliderToolsWarning)\n"
     ]
    },
    {
     "name": "stdout",
     "output_type": "stream",
     "text": [
      "\n",
      "DIMENSION: sg_data_point\n",
      "{latitude, longitude, time, depth}\n"
     ]
    },
    {
     "name": "stderr",
     "output_type": "stream",
     "text": [
      "  8%|███▏                                    | 119/1467 [00:53<10:19,  2.18it/s]/home/dIOGOLOC/programs/anaconda3/lib/python3.10/site-packages/glidertools/load/seaglider.py:227: GliderToolsWarning: dives was not found in the files\n",
      "  warnings.warn(msg, GliderToolsWarning)\n"
     ]
    },
    {
     "name": "stdout",
     "output_type": "stream",
     "text": [
      "\n",
      "DIMENSION: sg_data_point\n",
      "{latitude, longitude, time, depth}\n"
     ]
    },
    {
     "name": "stderr",
     "output_type": "stream",
     "text": [
      "  8%|███▎                                    | 120/1467 [00:54<10:11,  2.20it/s]/home/dIOGOLOC/programs/anaconda3/lib/python3.10/site-packages/glidertools/load/seaglider.py:227: GliderToolsWarning: dives was not found in the files\n",
      "  warnings.warn(msg, GliderToolsWarning)\n"
     ]
    },
    {
     "name": "stdout",
     "output_type": "stream",
     "text": [
      "\n",
      "DIMENSION: sg_data_point\n",
      "{latitude, longitude, time, depth}\n"
     ]
    },
    {
     "name": "stderr",
     "output_type": "stream",
     "text": [
      "  8%|███▎                                    | 121/1467 [00:54<10:04,  2.23it/s]/home/dIOGOLOC/programs/anaconda3/lib/python3.10/site-packages/glidertools/load/seaglider.py:227: GliderToolsWarning: dives was not found in the files\n",
      "  warnings.warn(msg, GliderToolsWarning)\n"
     ]
    },
    {
     "name": "stdout",
     "output_type": "stream",
     "text": [
      "\n",
      "DIMENSION: sg_data_point\n",
      "{latitude, longitude, time, depth}\n"
     ]
    },
    {
     "name": "stderr",
     "output_type": "stream",
     "text": [
      "  8%|███▎                                    | 122/1467 [00:55<10:01,  2.24it/s]/home/dIOGOLOC/programs/anaconda3/lib/python3.10/site-packages/glidertools/load/seaglider.py:227: GliderToolsWarning: dives was not found in the files\n",
      "  warnings.warn(msg, GliderToolsWarning)\n"
     ]
    },
    {
     "name": "stdout",
     "output_type": "stream",
     "text": [
      "\n",
      "DIMENSION: sg_data_point\n",
      "{latitude, longitude, time, depth}\n"
     ]
    },
    {
     "name": "stderr",
     "output_type": "stream",
     "text": [
      "  8%|███▎                                    | 123/1467 [00:55<09:57,  2.25it/s]/home/dIOGOLOC/programs/anaconda3/lib/python3.10/site-packages/glidertools/load/seaglider.py:227: GliderToolsWarning: dives was not found in the files\n",
      "  warnings.warn(msg, GliderToolsWarning)\n"
     ]
    },
    {
     "name": "stdout",
     "output_type": "stream",
     "text": [
      "\n",
      "DIMENSION: sg_data_point\n",
      "{latitude, longitude, time, depth}\n"
     ]
    },
    {
     "name": "stderr",
     "output_type": "stream",
     "text": [
      "  8%|███▍                                    | 124/1467 [00:55<09:59,  2.24it/s]/home/dIOGOLOC/programs/anaconda3/lib/python3.10/site-packages/glidertools/load/seaglider.py:227: GliderToolsWarning: dives was not found in the files\n",
      "  warnings.warn(msg, GliderToolsWarning)\n"
     ]
    },
    {
     "name": "stdout",
     "output_type": "stream",
     "text": [
      "\n",
      "DIMENSION: sg_data_point\n",
      "{latitude, longitude, time, depth}\n"
     ]
    },
    {
     "name": "stderr",
     "output_type": "stream",
     "text": [
      "  9%|███▍                                    | 125/1467 [00:56<10:34,  2.11it/s]/home/dIOGOLOC/programs/anaconda3/lib/python3.10/site-packages/glidertools/load/seaglider.py:227: GliderToolsWarning: dives was not found in the files\n",
      "  warnings.warn(msg, GliderToolsWarning)\n"
     ]
    },
    {
     "name": "stdout",
     "output_type": "stream",
     "text": [
      "\n",
      "DIMENSION: sg_data_point\n",
      "{latitude, longitude, time, depth}\n"
     ]
    },
    {
     "name": "stderr",
     "output_type": "stream",
     "text": [
      "  9%|███▍                                    | 126/1467 [00:56<10:25,  2.14it/s]/home/dIOGOLOC/programs/anaconda3/lib/python3.10/site-packages/glidertools/load/seaglider.py:227: GliderToolsWarning: dives was not found in the files\n",
      "  warnings.warn(msg, GliderToolsWarning)\n"
     ]
    },
    {
     "name": "stdout",
     "output_type": "stream",
     "text": [
      "\n",
      "DIMENSION: sg_data_point\n",
      "{latitude, longitude, time, depth}\n"
     ]
    },
    {
     "name": "stderr",
     "output_type": "stream",
     "text": [
      "  9%|███▍                                    | 127/1467 [00:57<10:05,  2.21it/s]/home/dIOGOLOC/programs/anaconda3/lib/python3.10/site-packages/glidertools/load/seaglider.py:227: GliderToolsWarning: dives was not found in the files\n",
      "  warnings.warn(msg, GliderToolsWarning)\n"
     ]
    },
    {
     "name": "stdout",
     "output_type": "stream",
     "text": [
      "\n",
      "DIMENSION: sg_data_point\n",
      "{latitude, longitude, time, depth}\n"
     ]
    },
    {
     "name": "stderr",
     "output_type": "stream",
     "text": [
      "  9%|███▍                                    | 128/1467 [00:57<09:48,  2.27it/s]/home/dIOGOLOC/programs/anaconda3/lib/python3.10/site-packages/glidertools/load/seaglider.py:227: GliderToolsWarning: dives was not found in the files\n",
      "  warnings.warn(msg, GliderToolsWarning)\n"
     ]
    },
    {
     "name": "stdout",
     "output_type": "stream",
     "text": [
      "\n",
      "DIMENSION: sg_data_point\n",
      "{latitude, longitude, time, depth}\n"
     ]
    },
    {
     "name": "stderr",
     "output_type": "stream",
     "text": [
      "  9%|███▌                                    | 129/1467 [00:58<09:38,  2.31it/s]/home/dIOGOLOC/programs/anaconda3/lib/python3.10/site-packages/glidertools/load/seaglider.py:227: GliderToolsWarning: dives was not found in the files\n",
      "  warnings.warn(msg, GliderToolsWarning)\n"
     ]
    },
    {
     "name": "stdout",
     "output_type": "stream",
     "text": [
      "\n",
      "DIMENSION: sg_data_point\n",
      "{latitude, longitude, time, depth}\n"
     ]
    },
    {
     "name": "stderr",
     "output_type": "stream",
     "text": [
      "  9%|███▌                                    | 130/1467 [00:58<09:28,  2.35it/s]/home/dIOGOLOC/programs/anaconda3/lib/python3.10/site-packages/glidertools/load/seaglider.py:227: GliderToolsWarning: dives was not found in the files\n",
      "  warnings.warn(msg, GliderToolsWarning)\n"
     ]
    },
    {
     "name": "stdout",
     "output_type": "stream",
     "text": [
      "\n",
      "DIMENSION: sg_data_point\n",
      "{latitude, longitude, time, depth}\n"
     ]
    },
    {
     "name": "stderr",
     "output_type": "stream",
     "text": [
      "  9%|███▌                                    | 131/1467 [00:58<09:20,  2.38it/s]/home/dIOGOLOC/programs/anaconda3/lib/python3.10/site-packages/glidertools/load/seaglider.py:227: GliderToolsWarning: dives was not found in the files\n",
      "  warnings.warn(msg, GliderToolsWarning)\n"
     ]
    },
    {
     "name": "stdout",
     "output_type": "stream",
     "text": [
      "\n",
      "DIMENSION: sg_data_point\n",
      "{latitude, longitude, time, depth}\n"
     ]
    },
    {
     "name": "stderr",
     "output_type": "stream",
     "text": [
      "  9%|███▌                                    | 132/1467 [00:59<09:17,  2.40it/s]/home/dIOGOLOC/programs/anaconda3/lib/python3.10/site-packages/glidertools/load/seaglider.py:227: GliderToolsWarning: dives was not found in the files\n",
      "  warnings.warn(msg, GliderToolsWarning)\n"
     ]
    },
    {
     "name": "stdout",
     "output_type": "stream",
     "text": [
      "\n",
      "DIMENSION: sg_data_point\n",
      "{latitude, longitude, time, depth}\n"
     ]
    },
    {
     "name": "stderr",
     "output_type": "stream",
     "text": [
      "  9%|███▋                                    | 133/1467 [00:59<09:12,  2.42it/s]/home/dIOGOLOC/programs/anaconda3/lib/python3.10/site-packages/glidertools/load/seaglider.py:227: GliderToolsWarning: dives was not found in the files\n",
      "  warnings.warn(msg, GliderToolsWarning)\n"
     ]
    },
    {
     "name": "stdout",
     "output_type": "stream",
     "text": [
      "\n",
      "DIMENSION: sg_data_point\n",
      "{latitude, longitude, time, depth}\n"
     ]
    },
    {
     "name": "stderr",
     "output_type": "stream",
     "text": [
      "  9%|███▋                                    | 134/1467 [01:00<09:11,  2.42it/s]/home/dIOGOLOC/programs/anaconda3/lib/python3.10/site-packages/glidertools/load/seaglider.py:227: GliderToolsWarning: dives was not found in the files\n",
      "  warnings.warn(msg, GliderToolsWarning)\n"
     ]
    },
    {
     "name": "stdout",
     "output_type": "stream",
     "text": [
      "\n",
      "DIMENSION: sg_data_point\n",
      "{latitude, longitude, time, depth}\n"
     ]
    },
    {
     "name": "stderr",
     "output_type": "stream",
     "text": [
      "  9%|███▋                                    | 135/1467 [01:00<09:51,  2.25it/s]/home/dIOGOLOC/programs/anaconda3/lib/python3.10/site-packages/glidertools/load/seaglider.py:227: GliderToolsWarning: dives was not found in the files\n",
      "  warnings.warn(msg, GliderToolsWarning)\n"
     ]
    },
    {
     "name": "stdout",
     "output_type": "stream",
     "text": [
      "\n",
      "DIMENSION: sg_data_point\n",
      "{latitude, longitude, time, depth}\n"
     ]
    },
    {
     "name": "stderr",
     "output_type": "stream",
     "text": [
      "  9%|███▋                                    | 136/1467 [01:01<09:39,  2.30it/s]/home/dIOGOLOC/programs/anaconda3/lib/python3.10/site-packages/glidertools/load/seaglider.py:227: GliderToolsWarning: dives was not found in the files\n",
      "  warnings.warn(msg, GliderToolsWarning)\n"
     ]
    },
    {
     "name": "stdout",
     "output_type": "stream",
     "text": [
      "\n",
      "DIMENSION: sg_data_point\n",
      "{latitude, longitude, time, depth}\n"
     ]
    },
    {
     "name": "stderr",
     "output_type": "stream",
     "text": [
      "  9%|███▋                                    | 137/1467 [01:01<09:30,  2.33it/s]/home/dIOGOLOC/programs/anaconda3/lib/python3.10/site-packages/glidertools/load/seaglider.py:227: GliderToolsWarning: dives was not found in the files\n",
      "  warnings.warn(msg, GliderToolsWarning)\n"
     ]
    },
    {
     "name": "stdout",
     "output_type": "stream",
     "text": [
      "\n",
      "DIMENSION: sg_data_point\n",
      "{latitude, longitude, time, depth}\n"
     ]
    },
    {
     "name": "stderr",
     "output_type": "stream",
     "text": [
      "  9%|███▊                                    | 138/1467 [01:01<09:22,  2.36it/s]/home/dIOGOLOC/programs/anaconda3/lib/python3.10/site-packages/glidertools/load/seaglider.py:227: GliderToolsWarning: dives was not found in the files\n",
      "  warnings.warn(msg, GliderToolsWarning)\n"
     ]
    },
    {
     "name": "stdout",
     "output_type": "stream",
     "text": [
      "\n",
      "DIMENSION: sg_data_point\n",
      "{latitude, longitude, time, depth}\n"
     ]
    },
    {
     "name": "stderr",
     "output_type": "stream",
     "text": [
      "  9%|███▊                                    | 139/1467 [01:02<09:16,  2.39it/s]/home/dIOGOLOC/programs/anaconda3/lib/python3.10/site-packages/glidertools/load/seaglider.py:227: GliderToolsWarning: dives was not found in the files\n",
      "  warnings.warn(msg, GliderToolsWarning)\n"
     ]
    },
    {
     "name": "stdout",
     "output_type": "stream",
     "text": [
      "\n",
      "DIMENSION: sg_data_point\n",
      "{latitude, longitude, time, depth}\n"
     ]
    },
    {
     "name": "stderr",
     "output_type": "stream",
     "text": [
      " 10%|███▊                                    | 140/1467 [01:02<09:16,  2.39it/s]/home/dIOGOLOC/programs/anaconda3/lib/python3.10/site-packages/glidertools/load/seaglider.py:227: GliderToolsWarning: dives was not found in the files\n",
      "  warnings.warn(msg, GliderToolsWarning)\n"
     ]
    },
    {
     "name": "stdout",
     "output_type": "stream",
     "text": [
      "\n",
      "DIMENSION: sg_data_point\n",
      "{latitude, longitude, time, depth}\n"
     ]
    },
    {
     "name": "stderr",
     "output_type": "stream",
     "text": [
      " 10%|███▊                                    | 141/1467 [01:03<09:10,  2.41it/s]/home/dIOGOLOC/programs/anaconda3/lib/python3.10/site-packages/glidertools/load/seaglider.py:227: GliderToolsWarning: dives was not found in the files\n",
      "  warnings.warn(msg, GliderToolsWarning)\n"
     ]
    },
    {
     "name": "stdout",
     "output_type": "stream",
     "text": [
      "\n",
      "DIMENSION: sg_data_point\n",
      "{latitude, longitude, time, depth}\n"
     ]
    },
    {
     "name": "stderr",
     "output_type": "stream",
     "text": [
      " 10%|███▊                                    | 142/1467 [01:03<09:11,  2.40it/s]/home/dIOGOLOC/programs/anaconda3/lib/python3.10/site-packages/glidertools/load/seaglider.py:227: GliderToolsWarning: dives was not found in the files\n",
      "  warnings.warn(msg, GliderToolsWarning)\n"
     ]
    },
    {
     "name": "stdout",
     "output_type": "stream",
     "text": [
      "\n",
      "DIMENSION: sg_data_point\n",
      "{latitude, longitude, time, depth}\n"
     ]
    },
    {
     "name": "stderr",
     "output_type": "stream",
     "text": [
      " 10%|███▉                                    | 143/1467 [01:04<09:06,  2.42it/s]/home/dIOGOLOC/programs/anaconda3/lib/python3.10/site-packages/glidertools/load/seaglider.py:227: GliderToolsWarning: dives was not found in the files\n",
      "  warnings.warn(msg, GliderToolsWarning)\n"
     ]
    },
    {
     "name": "stdout",
     "output_type": "stream",
     "text": [
      "\n",
      "DIMENSION: sg_data_point\n",
      "{latitude, longitude, time, depth}\n"
     ]
    },
    {
     "name": "stderr",
     "output_type": "stream",
     "text": [
      " 10%|███▉                                    | 144/1467 [01:04<09:06,  2.42it/s]/home/dIOGOLOC/programs/anaconda3/lib/python3.10/site-packages/glidertools/load/seaglider.py:227: GliderToolsWarning: dives was not found in the files\n",
      "  warnings.warn(msg, GliderToolsWarning)\n"
     ]
    },
    {
     "name": "stdout",
     "output_type": "stream",
     "text": [
      "\n",
      "DIMENSION: sg_data_point\n",
      "{latitude, longitude, time, depth}\n"
     ]
    },
    {
     "name": "stderr",
     "output_type": "stream",
     "text": [
      " 10%|███▉                                    | 145/1467 [01:04<09:04,  2.43it/s]/home/dIOGOLOC/programs/anaconda3/lib/python3.10/site-packages/glidertools/load/seaglider.py:227: GliderToolsWarning: dives was not found in the files\n",
      "  warnings.warn(msg, GliderToolsWarning)\n"
     ]
    },
    {
     "name": "stdout",
     "output_type": "stream",
     "text": [
      "\n",
      "DIMENSION: sg_data_point\n",
      "{latitude, longitude, time, depth}\n"
     ]
    },
    {
     "name": "stderr",
     "output_type": "stream",
     "text": [
      " 10%|███▉                                    | 146/1467 [01:05<09:38,  2.28it/s]/home/dIOGOLOC/programs/anaconda3/lib/python3.10/site-packages/glidertools/load/seaglider.py:227: GliderToolsWarning: dives was not found in the files\n",
      "  warnings.warn(msg, GliderToolsWarning)\n"
     ]
    },
    {
     "name": "stdout",
     "output_type": "stream",
     "text": [
      "\n",
      "DIMENSION: sg_data_point\n",
      "{latitude, longitude, time, depth}\n"
     ]
    },
    {
     "name": "stderr",
     "output_type": "stream",
     "text": [
      " 10%|████                                    | 147/1467 [01:05<09:28,  2.32it/s]/home/dIOGOLOC/programs/anaconda3/lib/python3.10/site-packages/glidertools/load/seaglider.py:227: GliderToolsWarning: dives was not found in the files\n",
      "  warnings.warn(msg, GliderToolsWarning)\n"
     ]
    },
    {
     "name": "stdout",
     "output_type": "stream",
     "text": [
      "\n",
      "DIMENSION: sg_data_point\n",
      "{latitude, longitude, time, depth}\n"
     ]
    },
    {
     "name": "stderr",
     "output_type": "stream",
     "text": [
      " 10%|████                                    | 148/1467 [01:06<09:22,  2.34it/s]/home/dIOGOLOC/programs/anaconda3/lib/python3.10/site-packages/glidertools/load/seaglider.py:227: GliderToolsWarning: dives was not found in the files\n",
      "  warnings.warn(msg, GliderToolsWarning)\n"
     ]
    },
    {
     "name": "stdout",
     "output_type": "stream",
     "text": [
      "\n",
      "DIMENSION: sg_data_point\n",
      "{latitude, longitude, time, depth}\n"
     ]
    },
    {
     "name": "stderr",
     "output_type": "stream",
     "text": [
      " 10%|████                                    | 149/1467 [01:06<09:15,  2.37it/s]/home/dIOGOLOC/programs/anaconda3/lib/python3.10/site-packages/glidertools/load/seaglider.py:227: GliderToolsWarning: dives was not found in the files\n",
      "  warnings.warn(msg, GliderToolsWarning)\n"
     ]
    },
    {
     "name": "stdout",
     "output_type": "stream",
     "text": [
      "\n",
      "DIMENSION: sg_data_point\n",
      "{latitude, longitude, time, depth}\n"
     ]
    },
    {
     "name": "stderr",
     "output_type": "stream",
     "text": [
      " 10%|████                                    | 150/1467 [01:06<09:08,  2.40it/s]/home/dIOGOLOC/programs/anaconda3/lib/python3.10/site-packages/glidertools/load/seaglider.py:227: GliderToolsWarning: dives was not found in the files\n",
      "  warnings.warn(msg, GliderToolsWarning)\n"
     ]
    },
    {
     "name": "stdout",
     "output_type": "stream",
     "text": [
      "\n",
      "DIMENSION: sg_data_point\n",
      "{latitude, longitude, time, depth}\n"
     ]
    },
    {
     "name": "stderr",
     "output_type": "stream",
     "text": [
      " 10%|████                                    | 151/1467 [01:07<09:09,  2.39it/s]/home/dIOGOLOC/programs/anaconda3/lib/python3.10/site-packages/glidertools/load/seaglider.py:227: GliderToolsWarning: dives was not found in the files\n",
      "  warnings.warn(msg, GliderToolsWarning)\n"
     ]
    },
    {
     "name": "stdout",
     "output_type": "stream",
     "text": [
      "\n",
      "DIMENSION: sg_data_point\n",
      "{latitude, longitude, time, depth}\n"
     ]
    },
    {
     "name": "stderr",
     "output_type": "stream",
     "text": [
      " 10%|████▏                                   | 152/1467 [01:07<09:09,  2.39it/s]/home/dIOGOLOC/programs/anaconda3/lib/python3.10/site-packages/glidertools/load/seaglider.py:227: GliderToolsWarning: dives was not found in the files\n",
      "  warnings.warn(msg, GliderToolsWarning)\n"
     ]
    },
    {
     "name": "stdout",
     "output_type": "stream",
     "text": [
      "\n",
      "DIMENSION: sg_data_point\n",
      "{latitude, longitude, time, depth}\n"
     ]
    },
    {
     "name": "stderr",
     "output_type": "stream",
     "text": [
      " 10%|████▏                                   | 153/1467 [01:08<09:18,  2.35it/s]/home/dIOGOLOC/programs/anaconda3/lib/python3.10/site-packages/glidertools/load/seaglider.py:227: GliderToolsWarning: dives was not found in the files\n",
      "  warnings.warn(msg, GliderToolsWarning)\n"
     ]
    },
    {
     "name": "stdout",
     "output_type": "stream",
     "text": [
      "\n",
      "DIMENSION: sg_data_point\n",
      "{latitude, longitude, time, depth}\n"
     ]
    },
    {
     "name": "stderr",
     "output_type": "stream",
     "text": [
      " 10%|████▏                                   | 154/1467 [01:08<09:27,  2.31it/s]/home/dIOGOLOC/programs/anaconda3/lib/python3.10/site-packages/glidertools/load/seaglider.py:227: GliderToolsWarning: dives was not found in the files\n",
      "  warnings.warn(msg, GliderToolsWarning)\n"
     ]
    },
    {
     "name": "stdout",
     "output_type": "stream",
     "text": [
      "\n",
      "DIMENSION: sg_data_point\n",
      "{latitude, longitude, time, depth}\n"
     ]
    },
    {
     "name": "stderr",
     "output_type": "stream",
     "text": [
      " 11%|████▏                                   | 155/1467 [01:09<09:33,  2.29it/s]/home/dIOGOLOC/programs/anaconda3/lib/python3.10/site-packages/glidertools/load/seaglider.py:227: GliderToolsWarning: dives was not found in the files\n",
      "  warnings.warn(msg, GliderToolsWarning)\n"
     ]
    },
    {
     "name": "stdout",
     "output_type": "stream",
     "text": [
      "\n",
      "DIMENSION: sg_data_point\n",
      "{latitude, longitude, time, depth}\n"
     ]
    },
    {
     "name": "stderr",
     "output_type": "stream",
     "text": [
      " 11%|████▎                                   | 156/1467 [01:09<10:46,  2.03it/s]/home/dIOGOLOC/programs/anaconda3/lib/python3.10/site-packages/glidertools/load/seaglider.py:227: GliderToolsWarning: dives was not found in the files\n",
      "  warnings.warn(msg, GliderToolsWarning)\n"
     ]
    },
    {
     "name": "stdout",
     "output_type": "stream",
     "text": [
      "\n",
      "DIMENSION: sg_data_point\n",
      "{latitude, longitude, time, depth}\n"
     ]
    },
    {
     "name": "stderr",
     "output_type": "stream",
     "text": [
      " 11%|████▎                                   | 157/1467 [01:10<12:27,  1.75it/s]/home/dIOGOLOC/programs/anaconda3/lib/python3.10/site-packages/glidertools/load/seaglider.py:227: GliderToolsWarning: dives was not found in the files\n",
      "  warnings.warn(msg, GliderToolsWarning)\n"
     ]
    },
    {
     "name": "stdout",
     "output_type": "stream",
     "text": [
      "\n",
      "DIMENSION: sg_data_point\n",
      "{latitude, longitude, time, depth}\n"
     ]
    },
    {
     "name": "stderr",
     "output_type": "stream",
     "text": [
      " 11%|████▎                                   | 158/1467 [01:11<11:56,  1.83it/s]/home/dIOGOLOC/programs/anaconda3/lib/python3.10/site-packages/glidertools/load/seaglider.py:227: GliderToolsWarning: dives was not found in the files\n",
      "  warnings.warn(msg, GliderToolsWarning)\n"
     ]
    },
    {
     "name": "stdout",
     "output_type": "stream",
     "text": [
      "\n",
      "DIMENSION: sg_data_point\n",
      "{latitude, longitude, time, depth}\n"
     ]
    },
    {
     "name": "stderr",
     "output_type": "stream",
     "text": [
      " 11%|████▎                                   | 159/1467 [01:11<11:23,  1.91it/s]/home/dIOGOLOC/programs/anaconda3/lib/python3.10/site-packages/glidertools/load/seaglider.py:227: GliderToolsWarning: dives was not found in the files\n",
      "  warnings.warn(msg, GliderToolsWarning)\n"
     ]
    },
    {
     "name": "stdout",
     "output_type": "stream",
     "text": [
      "\n",
      "DIMENSION: sg_data_point\n",
      "{latitude, longitude, time, depth}\n"
     ]
    },
    {
     "name": "stderr",
     "output_type": "stream",
     "text": [
      " 11%|████▎                                   | 160/1467 [01:12<11:21,  1.92it/s]/home/dIOGOLOC/programs/anaconda3/lib/python3.10/site-packages/glidertools/load/seaglider.py:227: GliderToolsWarning: dives was not found in the files\n",
      "  warnings.warn(msg, GliderToolsWarning)\n"
     ]
    },
    {
     "name": "stdout",
     "output_type": "stream",
     "text": [
      "\n",
      "DIMENSION: sg_data_point\n",
      "{latitude, longitude, time, depth}\n"
     ]
    },
    {
     "name": "stderr",
     "output_type": "stream",
     "text": [
      " 11%|████▍                                   | 161/1467 [01:12<11:01,  1.97it/s]/home/dIOGOLOC/programs/anaconda3/lib/python3.10/site-packages/glidertools/load/seaglider.py:227: GliderToolsWarning: dives was not found in the files\n",
      "  warnings.warn(msg, GliderToolsWarning)\n"
     ]
    },
    {
     "name": "stdout",
     "output_type": "stream",
     "text": [
      "\n",
      "DIMENSION: sg_data_point\n",
      "{latitude, longitude, time, depth}\n"
     ]
    },
    {
     "name": "stderr",
     "output_type": "stream",
     "text": [
      " 11%|████▍                                   | 162/1467 [01:12<10:47,  2.02it/s]/home/dIOGOLOC/programs/anaconda3/lib/python3.10/site-packages/glidertools/load/seaglider.py:227: GliderToolsWarning: dives was not found in the files\n",
      "  warnings.warn(msg, GliderToolsWarning)\n"
     ]
    },
    {
     "name": "stdout",
     "output_type": "stream",
     "text": [
      "\n",
      "DIMENSION: sg_data_point\n",
      "{latitude, longitude, time, depth}\n"
     ]
    },
    {
     "name": "stderr",
     "output_type": "stream",
     "text": [
      " 11%|████▍                                   | 163/1467 [01:13<11:10,  1.95it/s]/home/dIOGOLOC/programs/anaconda3/lib/python3.10/site-packages/glidertools/load/seaglider.py:227: GliderToolsWarning: dives was not found in the files\n",
      "  warnings.warn(msg, GliderToolsWarning)\n"
     ]
    },
    {
     "name": "stdout",
     "output_type": "stream",
     "text": [
      "\n",
      "DIMENSION: sg_data_point\n",
      "{latitude, longitude, time, depth}\n"
     ]
    },
    {
     "name": "stderr",
     "output_type": "stream",
     "text": [
      " 11%|████▍                                   | 164/1467 [01:14<11:07,  1.95it/s]/home/dIOGOLOC/programs/anaconda3/lib/python3.10/site-packages/glidertools/load/seaglider.py:227: GliderToolsWarning: dives was not found in the files\n",
      "  warnings.warn(msg, GliderToolsWarning)\n"
     ]
    },
    {
     "name": "stdout",
     "output_type": "stream",
     "text": [
      "\n",
      "DIMENSION: sg_data_point\n",
      "{latitude, longitude, time, depth}\n"
     ]
    },
    {
     "name": "stderr",
     "output_type": "stream",
     "text": [
      " 11%|████▍                                   | 165/1467 [01:14<11:18,  1.92it/s]/home/dIOGOLOC/programs/anaconda3/lib/python3.10/site-packages/glidertools/load/seaglider.py:227: GliderToolsWarning: dives was not found in the files\n",
      "  warnings.warn(msg, GliderToolsWarning)\n"
     ]
    },
    {
     "name": "stdout",
     "output_type": "stream",
     "text": [
      "\n",
      "DIMENSION: sg_data_point\n",
      "{latitude, longitude, time, depth}\n"
     ]
    },
    {
     "name": "stderr",
     "output_type": "stream",
     "text": [
      " 11%|████▌                                   | 166/1467 [01:15<10:55,  1.99it/s]/home/dIOGOLOC/programs/anaconda3/lib/python3.10/site-packages/glidertools/load/seaglider.py:227: GliderToolsWarning: dives was not found in the files\n",
      "  warnings.warn(msg, GliderToolsWarning)\n"
     ]
    },
    {
     "name": "stdout",
     "output_type": "stream",
     "text": [
      "\n",
      "DIMENSION: sg_data_point\n",
      "{latitude, longitude, time, depth}\n"
     ]
    },
    {
     "name": "stderr",
     "output_type": "stream",
     "text": [
      " 11%|████▌                                   | 167/1467 [01:15<10:29,  2.07it/s]/home/dIOGOLOC/programs/anaconda3/lib/python3.10/site-packages/glidertools/load/seaglider.py:227: GliderToolsWarning: dives was not found in the files\n",
      "  warnings.warn(msg, GliderToolsWarning)\n"
     ]
    },
    {
     "name": "stdout",
     "output_type": "stream",
     "text": [
      "\n",
      "DIMENSION: sg_data_point\n",
      "{latitude, longitude, time, depth}\n"
     ]
    },
    {
     "name": "stderr",
     "output_type": "stream",
     "text": [
      " 11%|████▌                                   | 168/1467 [01:15<10:04,  2.15it/s]/home/dIOGOLOC/programs/anaconda3/lib/python3.10/site-packages/glidertools/load/seaglider.py:227: GliderToolsWarning: dives was not found in the files\n",
      "  warnings.warn(msg, GliderToolsWarning)\n"
     ]
    },
    {
     "name": "stdout",
     "output_type": "stream",
     "text": [
      "\n",
      "DIMENSION: sg_data_point\n",
      "{latitude, longitude, time, depth}\n"
     ]
    },
    {
     "name": "stderr",
     "output_type": "stream",
     "text": [
      " 12%|████▌                                   | 169/1467 [01:16<09:43,  2.22it/s]/home/dIOGOLOC/programs/anaconda3/lib/python3.10/site-packages/glidertools/load/seaglider.py:227: GliderToolsWarning: dives was not found in the files\n",
      "  warnings.warn(msg, GliderToolsWarning)\n"
     ]
    },
    {
     "name": "stdout",
     "output_type": "stream",
     "text": [
      "\n",
      "DIMENSION: sg_data_point\n",
      "{latitude, longitude, time, depth}\n"
     ]
    },
    {
     "name": "stderr",
     "output_type": "stream",
     "text": [
      " 12%|████▋                                   | 170/1467 [01:16<09:35,  2.25it/s]/home/dIOGOLOC/programs/anaconda3/lib/python3.10/site-packages/glidertools/load/seaglider.py:227: GliderToolsWarning: dives was not found in the files\n",
      "  warnings.warn(msg, GliderToolsWarning)\n"
     ]
    },
    {
     "name": "stdout",
     "output_type": "stream",
     "text": [
      "\n",
      "DIMENSION: sg_data_point\n",
      "{latitude, longitude, time, depth}\n"
     ]
    },
    {
     "name": "stderr",
     "output_type": "stream",
     "text": [
      " 12%|████▋                                   | 171/1467 [01:17<09:42,  2.23it/s]/home/dIOGOLOC/programs/anaconda3/lib/python3.10/site-packages/glidertools/load/seaglider.py:227: GliderToolsWarning: dives was not found in the files\n",
      "  warnings.warn(msg, GliderToolsWarning)\n"
     ]
    },
    {
     "name": "stdout",
     "output_type": "stream",
     "text": [
      "\n",
      "DIMENSION: sg_data_point\n",
      "{latitude, longitude, time, depth}\n"
     ]
    },
    {
     "name": "stderr",
     "output_type": "stream",
     "text": [
      " 12%|████▋                                   | 172/1467 [01:17<09:40,  2.23it/s]/home/dIOGOLOC/programs/anaconda3/lib/python3.10/site-packages/glidertools/load/seaglider.py:227: GliderToolsWarning: dives was not found in the files\n",
      "  warnings.warn(msg, GliderToolsWarning)\n"
     ]
    },
    {
     "name": "stdout",
     "output_type": "stream",
     "text": [
      "\n",
      "DIMENSION: sg_data_point\n",
      "{latitude, longitude, time, depth}\n"
     ]
    },
    {
     "name": "stderr",
     "output_type": "stream",
     "text": [
      " 12%|████▋                                   | 173/1467 [01:18<09:24,  2.29it/s]/home/dIOGOLOC/programs/anaconda3/lib/python3.10/site-packages/glidertools/load/seaglider.py:227: GliderToolsWarning: dives was not found in the files\n",
      "  warnings.warn(msg, GliderToolsWarning)\n"
     ]
    },
    {
     "name": "stdout",
     "output_type": "stream",
     "text": [
      "\n",
      "DIMENSION: sg_data_point\n",
      "{latitude, longitude, time, depth}\n"
     ]
    },
    {
     "name": "stderr",
     "output_type": "stream",
     "text": [
      " 12%|████▋                                   | 174/1467 [01:18<09:14,  2.33it/s]/home/dIOGOLOC/programs/anaconda3/lib/python3.10/site-packages/glidertools/load/seaglider.py:227: GliderToolsWarning: dives was not found in the files\n",
      "  warnings.warn(msg, GliderToolsWarning)\n"
     ]
    },
    {
     "name": "stdout",
     "output_type": "stream",
     "text": [
      "\n",
      "DIMENSION: sg_data_point\n",
      "{latitude, longitude, time, depth}\n"
     ]
    },
    {
     "name": "stderr",
     "output_type": "stream",
     "text": [
      " 12%|████▊                                   | 175/1467 [01:18<09:16,  2.32it/s]/home/dIOGOLOC/programs/anaconda3/lib/python3.10/site-packages/glidertools/load/seaglider.py:227: GliderToolsWarning: dives was not found in the files\n",
      "  warnings.warn(msg, GliderToolsWarning)\n"
     ]
    },
    {
     "name": "stdout",
     "output_type": "stream",
     "text": [
      "\n",
      "DIMENSION: sg_data_point\n",
      "{latitude, longitude, time, depth}\n"
     ]
    },
    {
     "name": "stderr",
     "output_type": "stream",
     "text": [
      " 12%|████▊                                   | 176/1467 [01:19<10:01,  2.15it/s]/home/dIOGOLOC/programs/anaconda3/lib/python3.10/site-packages/glidertools/load/seaglider.py:227: GliderToolsWarning: dives was not found in the files\n",
      "  warnings.warn(msg, GliderToolsWarning)\n"
     ]
    },
    {
     "name": "stdout",
     "output_type": "stream",
     "text": [
      "\n",
      "DIMENSION: sg_data_point\n",
      "{latitude, longitude, time, depth}\n"
     ]
    },
    {
     "name": "stderr",
     "output_type": "stream",
     "text": [
      " 12%|████▊                                   | 177/1467 [01:19<10:11,  2.11it/s]/home/dIOGOLOC/programs/anaconda3/lib/python3.10/site-packages/glidertools/load/seaglider.py:227: GliderToolsWarning: dives was not found in the files\n",
      "  warnings.warn(msg, GliderToolsWarning)\n"
     ]
    },
    {
     "name": "stdout",
     "output_type": "stream",
     "text": [
      "\n",
      "DIMENSION: sg_data_point\n",
      "{latitude, longitude, time, depth}\n"
     ]
    },
    {
     "name": "stderr",
     "output_type": "stream",
     "text": [
      " 12%|████▊                                   | 178/1467 [01:20<09:54,  2.17it/s]/home/dIOGOLOC/programs/anaconda3/lib/python3.10/site-packages/glidertools/load/seaglider.py:227: GliderToolsWarning: dives was not found in the files\n",
      "  warnings.warn(msg, GliderToolsWarning)\n"
     ]
    },
    {
     "name": "stdout",
     "output_type": "stream",
     "text": [
      "\n",
      "DIMENSION: sg_data_point\n",
      "{latitude, longitude, time, depth}\n"
     ]
    },
    {
     "name": "stderr",
     "output_type": "stream",
     "text": [
      " 12%|████▉                                   | 179/1467 [01:20<10:03,  2.13it/s]/home/dIOGOLOC/programs/anaconda3/lib/python3.10/site-packages/glidertools/load/seaglider.py:227: GliderToolsWarning: dives was not found in the files\n",
      "  warnings.warn(msg, GliderToolsWarning)\n"
     ]
    },
    {
     "name": "stdout",
     "output_type": "stream",
     "text": [
      "\n",
      "DIMENSION: sg_data_point\n",
      "{latitude, longitude, time, depth}\n"
     ]
    },
    {
     "name": "stderr",
     "output_type": "stream",
     "text": [
      " 12%|████▉                                   | 180/1467 [01:21<10:29,  2.04it/s]/home/dIOGOLOC/programs/anaconda3/lib/python3.10/site-packages/glidertools/load/seaglider.py:227: GliderToolsWarning: dives was not found in the files\n",
      "  warnings.warn(msg, GliderToolsWarning)\n"
     ]
    },
    {
     "name": "stdout",
     "output_type": "stream",
     "text": [
      "\n",
      "DIMENSION: sg_data_point\n",
      "{latitude, longitude, time, depth}\n"
     ]
    },
    {
     "name": "stderr",
     "output_type": "stream",
     "text": [
      " 12%|████▉                                   | 181/1467 [01:21<11:02,  1.94it/s]/home/dIOGOLOC/programs/anaconda3/lib/python3.10/site-packages/glidertools/load/seaglider.py:227: GliderToolsWarning: dives was not found in the files\n",
      "  warnings.warn(msg, GliderToolsWarning)\n"
     ]
    },
    {
     "name": "stdout",
     "output_type": "stream",
     "text": [
      "\n",
      "DIMENSION: sg_data_point\n",
      "{latitude, longitude, time, depth}\n"
     ]
    },
    {
     "name": "stderr",
     "output_type": "stream",
     "text": [
      " 12%|████▉                                   | 182/1467 [01:22<10:55,  1.96it/s]/home/dIOGOLOC/programs/anaconda3/lib/python3.10/site-packages/glidertools/load/seaglider.py:227: GliderToolsWarning: dives was not found in the files\n",
      "  warnings.warn(msg, GliderToolsWarning)\n"
     ]
    },
    {
     "name": "stdout",
     "output_type": "stream",
     "text": [
      "\n",
      "DIMENSION: sg_data_point\n",
      "{latitude, longitude, time, depth}\n"
     ]
    },
    {
     "name": "stderr",
     "output_type": "stream",
     "text": [
      " 12%|████▉                                   | 183/1467 [01:23<11:07,  1.92it/s]/home/dIOGOLOC/programs/anaconda3/lib/python3.10/site-packages/glidertools/load/seaglider.py:227: GliderToolsWarning: dives was not found in the files\n",
      "  warnings.warn(msg, GliderToolsWarning)\n"
     ]
    },
    {
     "name": "stdout",
     "output_type": "stream",
     "text": [
      "\n",
      "DIMENSION: sg_data_point\n",
      "{latitude, longitude, time, depth}\n"
     ]
    },
    {
     "name": "stderr",
     "output_type": "stream",
     "text": [
      " 13%|█████                                   | 184/1467 [01:23<11:48,  1.81it/s]/home/dIOGOLOC/programs/anaconda3/lib/python3.10/site-packages/glidertools/load/seaglider.py:227: GliderToolsWarning: dives was not found in the files\n",
      "  warnings.warn(msg, GliderToolsWarning)\n"
     ]
    },
    {
     "name": "stdout",
     "output_type": "stream",
     "text": [
      "\n",
      "DIMENSION: sg_data_point\n",
      "{latitude, longitude, time, depth}\n"
     ]
    },
    {
     "name": "stderr",
     "output_type": "stream",
     "text": [
      " 13%|█████                                   | 185/1467 [01:24<12:03,  1.77it/s]/home/dIOGOLOC/programs/anaconda3/lib/python3.10/site-packages/glidertools/load/seaglider.py:227: GliderToolsWarning: dives was not found in the files\n",
      "  warnings.warn(msg, GliderToolsWarning)\n"
     ]
    },
    {
     "name": "stdout",
     "output_type": "stream",
     "text": [
      "\n",
      "DIMENSION: sg_data_point\n",
      "{latitude, longitude, time, depth}\n"
     ]
    },
    {
     "name": "stderr",
     "output_type": "stream",
     "text": [
      " 13%|█████                                   | 186/1467 [01:24<12:13,  1.75it/s]/home/dIOGOLOC/programs/anaconda3/lib/python3.10/site-packages/glidertools/load/seaglider.py:227: GliderToolsWarning: dives was not found in the files\n",
      "  warnings.warn(msg, GliderToolsWarning)\n"
     ]
    },
    {
     "name": "stdout",
     "output_type": "stream",
     "text": [
      "\n",
      "DIMENSION: sg_data_point\n",
      "{latitude, longitude, time, depth}\n"
     ]
    },
    {
     "name": "stderr",
     "output_type": "stream",
     "text": [
      " 13%|█████                                   | 187/1467 [01:25<13:50,  1.54it/s]/home/dIOGOLOC/programs/anaconda3/lib/python3.10/site-packages/glidertools/load/seaglider.py:227: GliderToolsWarning: dives was not found in the files\n",
      "  warnings.warn(msg, GliderToolsWarning)\n"
     ]
    },
    {
     "name": "stdout",
     "output_type": "stream",
     "text": [
      "\n",
      "DIMENSION: sg_data_point\n",
      "{latitude, longitude, time, depth}\n"
     ]
    },
    {
     "name": "stderr",
     "output_type": "stream",
     "text": [
      " 13%|█████▏                                  | 188/1467 [01:26<13:47,  1.55it/s]/home/dIOGOLOC/programs/anaconda3/lib/python3.10/site-packages/glidertools/load/seaglider.py:227: GliderToolsWarning: dives was not found in the files\n",
      "  warnings.warn(msg, GliderToolsWarning)\n"
     ]
    },
    {
     "name": "stdout",
     "output_type": "stream",
     "text": [
      "\n",
      "DIMENSION: sg_data_point\n",
      "{latitude, longitude, time, depth}\n"
     ]
    },
    {
     "name": "stderr",
     "output_type": "stream",
     "text": [
      " 13%|█████▏                                  | 189/1467 [01:26<13:50,  1.54it/s]/home/dIOGOLOC/programs/anaconda3/lib/python3.10/site-packages/glidertools/load/seaglider.py:227: GliderToolsWarning: dives was not found in the files\n",
      "  warnings.warn(msg, GliderToolsWarning)\n"
     ]
    },
    {
     "name": "stdout",
     "output_type": "stream",
     "text": [
      "\n",
      "DIMENSION: sg_data_point\n",
      "{latitude, longitude, time, depth}\n"
     ]
    },
    {
     "name": "stderr",
     "output_type": "stream",
     "text": [
      " 13%|█████▏                                  | 190/1467 [01:27<13:19,  1.60it/s]/home/dIOGOLOC/programs/anaconda3/lib/python3.10/site-packages/glidertools/load/seaglider.py:227: GliderToolsWarning: dives was not found in the files\n",
      "  warnings.warn(msg, GliderToolsWarning)\n"
     ]
    },
    {
     "name": "stdout",
     "output_type": "stream",
     "text": [
      "\n",
      "DIMENSION: sg_data_point\n",
      "{latitude, longitude, time, depth}\n"
     ]
    },
    {
     "name": "stderr",
     "output_type": "stream",
     "text": [
      " 13%|█████▏                                  | 191/1467 [01:28<12:57,  1.64it/s]/home/dIOGOLOC/programs/anaconda3/lib/python3.10/site-packages/glidertools/load/seaglider.py:227: GliderToolsWarning: dives was not found in the files\n",
      "  warnings.warn(msg, GliderToolsWarning)\n"
     ]
    },
    {
     "name": "stdout",
     "output_type": "stream",
     "text": [
      "\n",
      "DIMENSION: sg_data_point\n",
      "{latitude, longitude, time, depth}\n"
     ]
    },
    {
     "name": "stderr",
     "output_type": "stream",
     "text": [
      " 13%|█████▏                                  | 192/1467 [01:28<12:49,  1.66it/s]/home/dIOGOLOC/programs/anaconda3/lib/python3.10/site-packages/glidertools/load/seaglider.py:227: GliderToolsWarning: dives was not found in the files\n",
      "  warnings.warn(msg, GliderToolsWarning)\n"
     ]
    },
    {
     "name": "stdout",
     "output_type": "stream",
     "text": [
      "\n",
      "DIMENSION: sg_data_point\n",
      "{latitude, longitude, time, depth}\n"
     ]
    },
    {
     "name": "stderr",
     "output_type": "stream",
     "text": [
      " 13%|█████▎                                  | 193/1467 [01:29<12:45,  1.66it/s]/home/dIOGOLOC/programs/anaconda3/lib/python3.10/site-packages/glidertools/load/seaglider.py:227: GliderToolsWarning: dives was not found in the files\n",
      "  warnings.warn(msg, GliderToolsWarning)\n"
     ]
    },
    {
     "name": "stdout",
     "output_type": "stream",
     "text": [
      "\n",
      "DIMENSION: sg_data_point\n",
      "{latitude, longitude, time, depth}\n"
     ]
    },
    {
     "name": "stderr",
     "output_type": "stream",
     "text": [
      " 13%|█████▎                                  | 194/1467 [01:29<12:56,  1.64it/s]/home/dIOGOLOC/programs/anaconda3/lib/python3.10/site-packages/glidertools/load/seaglider.py:227: GliderToolsWarning: dives was not found in the files\n",
      "  warnings.warn(msg, GliderToolsWarning)\n"
     ]
    },
    {
     "name": "stdout",
     "output_type": "stream",
     "text": [
      "\n",
      "DIMENSION: sg_data_point\n",
      "{latitude, longitude, time, depth}\n"
     ]
    },
    {
     "name": "stderr",
     "output_type": "stream",
     "text": [
      " 13%|█████▎                                  | 195/1467 [01:30<12:55,  1.64it/s]/home/dIOGOLOC/programs/anaconda3/lib/python3.10/site-packages/glidertools/load/seaglider.py:227: GliderToolsWarning: dives was not found in the files\n",
      "  warnings.warn(msg, GliderToolsWarning)\n"
     ]
    },
    {
     "name": "stdout",
     "output_type": "stream",
     "text": [
      "\n",
      "DIMENSION: sg_data_point\n",
      "{latitude, longitude, time, depth}\n"
     ]
    },
    {
     "name": "stderr",
     "output_type": "stream",
     "text": [
      " 13%|█████▎                                  | 196/1467 [01:31<13:05,  1.62it/s]/home/dIOGOLOC/programs/anaconda3/lib/python3.10/site-packages/glidertools/load/seaglider.py:227: GliderToolsWarning: dives was not found in the files\n",
      "  warnings.warn(msg, GliderToolsWarning)\n"
     ]
    },
    {
     "name": "stdout",
     "output_type": "stream",
     "text": [
      "\n",
      "DIMENSION: sg_data_point\n",
      "{latitude, longitude, time, depth}\n"
     ]
    },
    {
     "name": "stderr",
     "output_type": "stream",
     "text": [
      " 13%|█████▎                                  | 197/1467 [01:31<14:20,  1.48it/s]/home/dIOGOLOC/programs/anaconda3/lib/python3.10/site-packages/glidertools/load/seaglider.py:227: GliderToolsWarning: dives was not found in the files\n",
      "  warnings.warn(msg, GliderToolsWarning)\n"
     ]
    },
    {
     "name": "stdout",
     "output_type": "stream",
     "text": [
      "\n",
      "DIMENSION: sg_data_point\n",
      "{latitude, longitude, time, depth}\n"
     ]
    },
    {
     "name": "stderr",
     "output_type": "stream",
     "text": [
      " 13%|█████▍                                  | 198/1467 [01:32<14:13,  1.49it/s]/home/dIOGOLOC/programs/anaconda3/lib/python3.10/site-packages/glidertools/load/seaglider.py:227: GliderToolsWarning: dives was not found in the files\n",
      "  warnings.warn(msg, GliderToolsWarning)\n"
     ]
    },
    {
     "name": "stdout",
     "output_type": "stream",
     "text": [
      "\n",
      "DIMENSION: sg_data_point\n",
      "{latitude, longitude, time, depth}\n"
     ]
    },
    {
     "name": "stderr",
     "output_type": "stream",
     "text": [
      " 14%|█████▍                                  | 199/1467 [01:33<14:00,  1.51it/s]/home/dIOGOLOC/programs/anaconda3/lib/python3.10/site-packages/glidertools/load/seaglider.py:227: GliderToolsWarning: dives was not found in the files\n",
      "  warnings.warn(msg, GliderToolsWarning)\n"
     ]
    },
    {
     "name": "stdout",
     "output_type": "stream",
     "text": [
      "\n",
      "DIMENSION: sg_data_point\n",
      "{latitude, longitude, time, depth}\n"
     ]
    },
    {
     "name": "stderr",
     "output_type": "stream",
     "text": [
      " 14%|█████▍                                  | 200/1467 [01:33<13:39,  1.55it/s]/home/dIOGOLOC/programs/anaconda3/lib/python3.10/site-packages/glidertools/load/seaglider.py:227: GliderToolsWarning: dives was not found in the files\n",
      "  warnings.warn(msg, GliderToolsWarning)\n"
     ]
    },
    {
     "name": "stdout",
     "output_type": "stream",
     "text": [
      "\n",
      "DIMENSION: sg_data_point\n",
      "{latitude, longitude, time, depth}\n"
     ]
    },
    {
     "name": "stderr",
     "output_type": "stream",
     "text": [
      " 14%|█████▍                                  | 201/1467 [01:34<13:15,  1.59it/s]/home/dIOGOLOC/programs/anaconda3/lib/python3.10/site-packages/glidertools/load/seaglider.py:227: GliderToolsWarning: dives was not found in the files\n",
      "  warnings.warn(msg, GliderToolsWarning)\n"
     ]
    },
    {
     "name": "stdout",
     "output_type": "stream",
     "text": [
      "\n",
      "DIMENSION: sg_data_point\n",
      "{latitude, longitude, time, depth}\n"
     ]
    },
    {
     "name": "stderr",
     "output_type": "stream",
     "text": [
      " 14%|█████▌                                  | 202/1467 [01:35<12:47,  1.65it/s]/home/dIOGOLOC/programs/anaconda3/lib/python3.10/site-packages/glidertools/load/seaglider.py:227: GliderToolsWarning: dives was not found in the files\n",
      "  warnings.warn(msg, GliderToolsWarning)\n"
     ]
    },
    {
     "name": "stdout",
     "output_type": "stream",
     "text": [
      "\n",
      "DIMENSION: sg_data_point\n",
      "{latitude, longitude, time, depth}\n"
     ]
    },
    {
     "name": "stderr",
     "output_type": "stream",
     "text": [
      " 14%|█████▌                                  | 203/1467 [01:35<13:03,  1.61it/s]/home/dIOGOLOC/programs/anaconda3/lib/python3.10/site-packages/glidertools/load/seaglider.py:227: GliderToolsWarning: dives was not found in the files\n",
      "  warnings.warn(msg, GliderToolsWarning)\n"
     ]
    },
    {
     "name": "stdout",
     "output_type": "stream",
     "text": [
      "\n",
      "DIMENSION: sg_data_point\n",
      "{latitude, longitude, time, depth}\n"
     ]
    },
    {
     "name": "stderr",
     "output_type": "stream",
     "text": [
      " 14%|█████▌                                  | 204/1467 [01:36<12:58,  1.62it/s]/home/dIOGOLOC/programs/anaconda3/lib/python3.10/site-packages/glidertools/load/seaglider.py:227: GliderToolsWarning: dives was not found in the files\n",
      "  warnings.warn(msg, GliderToolsWarning)\n"
     ]
    },
    {
     "name": "stdout",
     "output_type": "stream",
     "text": [
      "\n",
      "DIMENSION: sg_data_point\n",
      "{latitude, longitude, time, depth}\n"
     ]
    },
    {
     "name": "stderr",
     "output_type": "stream",
     "text": [
      " 14%|█████▌                                  | 205/1467 [01:36<12:53,  1.63it/s]/home/dIOGOLOC/programs/anaconda3/lib/python3.10/site-packages/glidertools/load/seaglider.py:227: GliderToolsWarning: dives was not found in the files\n",
      "  warnings.warn(msg, GliderToolsWarning)\n"
     ]
    },
    {
     "name": "stdout",
     "output_type": "stream",
     "text": [
      "\n",
      "DIMENSION: sg_data_point\n",
      "{latitude, longitude, time, depth}\n"
     ]
    },
    {
     "name": "stderr",
     "output_type": "stream",
     "text": [
      " 14%|█████▌                                  | 206/1467 [01:37<13:04,  1.61it/s]/home/dIOGOLOC/programs/anaconda3/lib/python3.10/site-packages/glidertools/load/seaglider.py:227: GliderToolsWarning: dives was not found in the files\n",
      "  warnings.warn(msg, GliderToolsWarning)\n"
     ]
    },
    {
     "name": "stdout",
     "output_type": "stream",
     "text": [
      "\n",
      "DIMENSION: sg_data_point\n",
      "{latitude, longitude, time, depth}\n"
     ]
    },
    {
     "name": "stderr",
     "output_type": "stream",
     "text": [
      " 14%|█████▋                                  | 207/1467 [01:38<13:14,  1.59it/s]/home/dIOGOLOC/programs/anaconda3/lib/python3.10/site-packages/glidertools/load/seaglider.py:227: GliderToolsWarning: dives was not found in the files\n",
      "  warnings.warn(msg, GliderToolsWarning)\n"
     ]
    },
    {
     "name": "stdout",
     "output_type": "stream",
     "text": [
      "\n",
      "DIMENSION: sg_data_point\n",
      "{latitude, longitude, time, depth}\n"
     ]
    },
    {
     "name": "stderr",
     "output_type": "stream",
     "text": [
      " 14%|█████▋                                  | 208/1467 [01:38<14:07,  1.49it/s]/home/dIOGOLOC/programs/anaconda3/lib/python3.10/site-packages/glidertools/load/seaglider.py:227: GliderToolsWarning: dives was not found in the files\n",
      "  warnings.warn(msg, GliderToolsWarning)\n"
     ]
    },
    {
     "name": "stdout",
     "output_type": "stream",
     "text": [
      "\n",
      "DIMENSION: sg_data_point\n",
      "{latitude, longitude, time, depth}\n"
     ]
    },
    {
     "name": "stderr",
     "output_type": "stream",
     "text": [
      " 14%|█████▋                                  | 209/1467 [01:39<13:56,  1.50it/s]/home/dIOGOLOC/programs/anaconda3/lib/python3.10/site-packages/glidertools/load/seaglider.py:227: GliderToolsWarning: dives was not found in the files\n",
      "  warnings.warn(msg, GliderToolsWarning)\n"
     ]
    },
    {
     "name": "stdout",
     "output_type": "stream",
     "text": [
      "\n",
      "DIMENSION: sg_data_point\n",
      "{latitude, longitude, time, depth}\n"
     ]
    },
    {
     "name": "stderr",
     "output_type": "stream",
     "text": [
      " 14%|█████▋                                  | 210/1467 [01:40<13:21,  1.57it/s]/home/dIOGOLOC/programs/anaconda3/lib/python3.10/site-packages/glidertools/load/seaglider.py:227: GliderToolsWarning: dives was not found in the files\n",
      "  warnings.warn(msg, GliderToolsWarning)\n"
     ]
    },
    {
     "name": "stdout",
     "output_type": "stream",
     "text": [
      "\n",
      "DIMENSION: sg_data_point\n",
      "{latitude, longitude, time, depth}\n"
     ]
    },
    {
     "name": "stderr",
     "output_type": "stream",
     "text": [
      " 14%|█████▊                                  | 211/1467 [01:40<13:16,  1.58it/s]/home/dIOGOLOC/programs/anaconda3/lib/python3.10/site-packages/glidertools/load/seaglider.py:227: GliderToolsWarning: dives was not found in the files\n",
      "  warnings.warn(msg, GliderToolsWarning)\n"
     ]
    },
    {
     "name": "stdout",
     "output_type": "stream",
     "text": [
      "\n",
      "DIMENSION: sg_data_point\n",
      "{latitude, longitude, time, depth}\n"
     ]
    },
    {
     "name": "stderr",
     "output_type": "stream",
     "text": [
      " 14%|█████▊                                  | 212/1467 [01:41<13:28,  1.55it/s]/home/dIOGOLOC/programs/anaconda3/lib/python3.10/site-packages/glidertools/load/seaglider.py:227: GliderToolsWarning: dives was not found in the files\n",
      "  warnings.warn(msg, GliderToolsWarning)\n"
     ]
    },
    {
     "name": "stdout",
     "output_type": "stream",
     "text": [
      "\n",
      "DIMENSION: sg_data_point\n",
      "{latitude, longitude, time, depth}\n"
     ]
    },
    {
     "name": "stderr",
     "output_type": "stream",
     "text": [
      " 15%|█████▊                                  | 213/1467 [01:42<13:23,  1.56it/s]/home/dIOGOLOC/programs/anaconda3/lib/python3.10/site-packages/glidertools/load/seaglider.py:227: GliderToolsWarning: dives was not found in the files\n",
      "  warnings.warn(msg, GliderToolsWarning)\n"
     ]
    },
    {
     "name": "stdout",
     "output_type": "stream",
     "text": [
      "\n",
      "DIMENSION: sg_data_point\n",
      "{latitude, longitude, time, depth}\n"
     ]
    },
    {
     "name": "stderr",
     "output_type": "stream",
     "text": [
      " 15%|█████▊                                  | 214/1467 [01:42<13:32,  1.54it/s]/home/dIOGOLOC/programs/anaconda3/lib/python3.10/site-packages/glidertools/load/seaglider.py:227: GliderToolsWarning: dives was not found in the files\n",
      "  warnings.warn(msg, GliderToolsWarning)\n"
     ]
    },
    {
     "name": "stdout",
     "output_type": "stream",
     "text": [
      "\n",
      "DIMENSION: sg_data_point\n",
      "{latitude, longitude, time, depth}\n"
     ]
    },
    {
     "name": "stderr",
     "output_type": "stream",
     "text": [
      " 15%|█████▊                                  | 215/1467 [01:43<13:05,  1.59it/s]/home/dIOGOLOC/programs/anaconda3/lib/python3.10/site-packages/glidertools/load/seaglider.py:227: GliderToolsWarning: dives was not found in the files\n",
      "  warnings.warn(msg, GliderToolsWarning)\n"
     ]
    },
    {
     "name": "stdout",
     "output_type": "stream",
     "text": [
      "\n",
      "DIMENSION: sg_data_point\n",
      "{latitude, longitude, time, depth}\n"
     ]
    },
    {
     "name": "stderr",
     "output_type": "stream",
     "text": [
      " 15%|█████▉                                  | 216/1467 [01:43<12:47,  1.63it/s]/home/dIOGOLOC/programs/anaconda3/lib/python3.10/site-packages/glidertools/load/seaglider.py:227: GliderToolsWarning: dives was not found in the files\n",
      "  warnings.warn(msg, GliderToolsWarning)\n"
     ]
    },
    {
     "name": "stdout",
     "output_type": "stream",
     "text": [
      "\n",
      "DIMENSION: sg_data_point\n",
      "{latitude, longitude, time, depth}\n"
     ]
    },
    {
     "name": "stderr",
     "output_type": "stream",
     "text": [
      " 15%|█████▉                                  | 217/1467 [01:44<12:28,  1.67it/s]/home/dIOGOLOC/programs/anaconda3/lib/python3.10/site-packages/glidertools/load/seaglider.py:227: GliderToolsWarning: dives was not found in the files\n",
      "  warnings.warn(msg, GliderToolsWarning)\n"
     ]
    },
    {
     "name": "stdout",
     "output_type": "stream",
     "text": [
      "\n",
      "DIMENSION: sg_data_point\n",
      "{latitude, longitude, time, depth}\n"
     ]
    },
    {
     "name": "stderr",
     "output_type": "stream",
     "text": [
      " 15%|█████▉                                  | 218/1467 [01:45<13:24,  1.55it/s]/home/dIOGOLOC/programs/anaconda3/lib/python3.10/site-packages/glidertools/load/seaglider.py:227: GliderToolsWarning: dives was not found in the files\n",
      "  warnings.warn(msg, GliderToolsWarning)\n"
     ]
    },
    {
     "name": "stdout",
     "output_type": "stream",
     "text": [
      "\n",
      "DIMENSION: sg_data_point\n",
      "{latitude, longitude, time, depth}\n"
     ]
    },
    {
     "name": "stderr",
     "output_type": "stream",
     "text": [
      " 15%|█████▉                                  | 219/1467 [01:45<13:05,  1.59it/s]/home/dIOGOLOC/programs/anaconda3/lib/python3.10/site-packages/glidertools/load/seaglider.py:227: GliderToolsWarning: dives was not found in the files\n",
      "  warnings.warn(msg, GliderToolsWarning)\n"
     ]
    },
    {
     "name": "stdout",
     "output_type": "stream",
     "text": [
      "\n",
      "DIMENSION: sg_data_point\n",
      "{latitude, longitude, time, depth}\n"
     ]
    },
    {
     "name": "stderr",
     "output_type": "stream",
     "text": [
      " 15%|█████▉                                  | 220/1467 [01:46<13:04,  1.59it/s]/home/dIOGOLOC/programs/anaconda3/lib/python3.10/site-packages/glidertools/load/seaglider.py:227: GliderToolsWarning: dives was not found in the files\n",
      "  warnings.warn(msg, GliderToolsWarning)\n"
     ]
    },
    {
     "name": "stdout",
     "output_type": "stream",
     "text": [
      "\n",
      "DIMENSION: sg_data_point\n",
      "{latitude, longitude, time, depth}\n"
     ]
    },
    {
     "name": "stderr",
     "output_type": "stream",
     "text": [
      " 15%|██████                                  | 221/1467 [01:47<12:34,  1.65it/s]/home/dIOGOLOC/programs/anaconda3/lib/python3.10/site-packages/glidertools/load/seaglider.py:227: GliderToolsWarning: dives was not found in the files\n",
      "  warnings.warn(msg, GliderToolsWarning)\n"
     ]
    },
    {
     "name": "stdout",
     "output_type": "stream",
     "text": [
      "\n",
      "DIMENSION: sg_data_point\n",
      "{latitude, longitude, time, depth}\n"
     ]
    },
    {
     "name": "stderr",
     "output_type": "stream",
     "text": [
      " 15%|██████                                  | 222/1467 [01:47<12:51,  1.61it/s]/home/dIOGOLOC/programs/anaconda3/lib/python3.10/site-packages/glidertools/load/seaglider.py:227: GliderToolsWarning: dives was not found in the files\n",
      "  warnings.warn(msg, GliderToolsWarning)\n"
     ]
    },
    {
     "name": "stdout",
     "output_type": "stream",
     "text": [
      "\n",
      "DIMENSION: sg_data_point\n",
      "{latitude, longitude, time, depth}\n"
     ]
    },
    {
     "name": "stderr",
     "output_type": "stream",
     "text": [
      " 15%|██████                                  | 223/1467 [01:48<12:52,  1.61it/s]/home/dIOGOLOC/programs/anaconda3/lib/python3.10/site-packages/glidertools/load/seaglider.py:227: GliderToolsWarning: dives was not found in the files\n",
      "  warnings.warn(msg, GliderToolsWarning)\n"
     ]
    },
    {
     "name": "stdout",
     "output_type": "stream",
     "text": [
      "\n",
      "DIMENSION: sg_data_point\n",
      "{latitude, longitude, time, depth}\n"
     ]
    },
    {
     "name": "stderr",
     "output_type": "stream",
     "text": [
      " 15%|██████                                  | 224/1467 [01:48<12:42,  1.63it/s]/home/dIOGOLOC/programs/anaconda3/lib/python3.10/site-packages/glidertools/load/seaglider.py:227: GliderToolsWarning: dives was not found in the files\n",
      "  warnings.warn(msg, GliderToolsWarning)\n"
     ]
    },
    {
     "name": "stdout",
     "output_type": "stream",
     "text": [
      "\n",
      "DIMENSION: sg_data_point\n",
      "{latitude, longitude, time, depth}\n"
     ]
    },
    {
     "name": "stderr",
     "output_type": "stream",
     "text": [
      " 15%|██████▏                                 | 225/1467 [01:49<12:33,  1.65it/s]/home/dIOGOLOC/programs/anaconda3/lib/python3.10/site-packages/glidertools/load/seaglider.py:227: GliderToolsWarning: dives was not found in the files\n",
      "  warnings.warn(msg, GliderToolsWarning)\n"
     ]
    },
    {
     "name": "stdout",
     "output_type": "stream",
     "text": [
      "\n",
      "DIMENSION: sg_data_point\n",
      "{latitude, longitude, time, depth}\n"
     ]
    },
    {
     "name": "stderr",
     "output_type": "stream",
     "text": [
      " 15%|██████▏                                 | 226/1467 [01:50<13:00,  1.59it/s]/home/dIOGOLOC/programs/anaconda3/lib/python3.10/site-packages/glidertools/load/seaglider.py:227: GliderToolsWarning: dives was not found in the files\n",
      "  warnings.warn(msg, GliderToolsWarning)\n"
     ]
    },
    {
     "name": "stdout",
     "output_type": "stream",
     "text": [
      "\n",
      "DIMENSION: sg_data_point\n",
      "{latitude, longitude, time, depth}\n"
     ]
    },
    {
     "name": "stderr",
     "output_type": "stream",
     "text": [
      " 15%|██████▏                                 | 227/1467 [01:50<14:02,  1.47it/s]/home/dIOGOLOC/programs/anaconda3/lib/python3.10/site-packages/glidertools/load/seaglider.py:227: GliderToolsWarning: dives was not found in the files\n",
      "  warnings.warn(msg, GliderToolsWarning)\n"
     ]
    },
    {
     "name": "stdout",
     "output_type": "stream",
     "text": [
      "\n",
      "DIMENSION: sg_data_point\n",
      "{latitude, longitude, time, depth}\n"
     ]
    },
    {
     "name": "stderr",
     "output_type": "stream",
     "text": [
      " 16%|██████▏                                 | 228/1467 [01:51<13:33,  1.52it/s]/home/dIOGOLOC/programs/anaconda3/lib/python3.10/site-packages/glidertools/load/seaglider.py:227: GliderToolsWarning: dives was not found in the files\n",
      "  warnings.warn(msg, GliderToolsWarning)\n"
     ]
    },
    {
     "name": "stdout",
     "output_type": "stream",
     "text": [
      "\n",
      "DIMENSION: sg_data_point\n",
      "{latitude, longitude, time, depth}\n"
     ]
    },
    {
     "name": "stderr",
     "output_type": "stream",
     "text": [
      " 16%|██████▏                                 | 229/1467 [01:52<12:57,  1.59it/s]/home/dIOGOLOC/programs/anaconda3/lib/python3.10/site-packages/glidertools/load/seaglider.py:227: GliderToolsWarning: dives was not found in the files\n",
      "  warnings.warn(msg, GliderToolsWarning)\n"
     ]
    },
    {
     "name": "stdout",
     "output_type": "stream",
     "text": [
      "\n",
      "DIMENSION: sg_data_point\n",
      "{latitude, longitude, time, depth}\n"
     ]
    },
    {
     "name": "stderr",
     "output_type": "stream",
     "text": [
      " 16%|██████▎                                 | 230/1467 [01:52<12:40,  1.63it/s]/home/dIOGOLOC/programs/anaconda3/lib/python3.10/site-packages/glidertools/load/seaglider.py:227: GliderToolsWarning: dives was not found in the files\n",
      "  warnings.warn(msg, GliderToolsWarning)\n"
     ]
    },
    {
     "name": "stdout",
     "output_type": "stream",
     "text": [
      "\n",
      "DIMENSION: sg_data_point\n",
      "{latitude, longitude, time, depth}\n"
     ]
    },
    {
     "name": "stderr",
     "output_type": "stream",
     "text": [
      " 16%|██████▎                                 | 231/1467 [01:53<12:33,  1.64it/s]/home/dIOGOLOC/programs/anaconda3/lib/python3.10/site-packages/glidertools/load/seaglider.py:227: GliderToolsWarning: dives was not found in the files\n",
      "  warnings.warn(msg, GliderToolsWarning)\n"
     ]
    },
    {
     "name": "stdout",
     "output_type": "stream",
     "text": [
      "\n",
      "DIMENSION: sg_data_point\n",
      "{latitude, longitude, time, depth}\n"
     ]
    },
    {
     "name": "stderr",
     "output_type": "stream",
     "text": [
      " 16%|██████▎                                 | 232/1467 [01:53<12:06,  1.70it/s]/home/dIOGOLOC/programs/anaconda3/lib/python3.10/site-packages/glidertools/load/seaglider.py:227: GliderToolsWarning: dives was not found in the files\n",
      "  warnings.warn(msg, GliderToolsWarning)\n"
     ]
    },
    {
     "name": "stdout",
     "output_type": "stream",
     "text": [
      "\n",
      "DIMENSION: sg_data_point\n",
      "{latitude, longitude, time, depth}\n"
     ]
    },
    {
     "name": "stderr",
     "output_type": "stream",
     "text": [
      " 16%|██████▎                                 | 233/1467 [01:54<12:04,  1.70it/s]/home/dIOGOLOC/programs/anaconda3/lib/python3.10/site-packages/glidertools/load/seaglider.py:227: GliderToolsWarning: dives was not found in the files\n",
      "  warnings.warn(msg, GliderToolsWarning)\n"
     ]
    },
    {
     "name": "stdout",
     "output_type": "stream",
     "text": [
      "\n",
      "DIMENSION: sg_data_point\n",
      "{latitude, longitude, time, depth}\n"
     ]
    },
    {
     "name": "stderr",
     "output_type": "stream",
     "text": [
      " 16%|██████▍                                 | 234/1467 [01:54<11:50,  1.73it/s]/home/dIOGOLOC/programs/anaconda3/lib/python3.10/site-packages/glidertools/load/seaglider.py:227: GliderToolsWarning: dives was not found in the files\n",
      "  warnings.warn(msg, GliderToolsWarning)\n"
     ]
    },
    {
     "name": "stdout",
     "output_type": "stream",
     "text": [
      "\n",
      "DIMENSION: sg_data_point\n",
      "{latitude, longitude, time, depth}\n"
     ]
    },
    {
     "name": "stderr",
     "output_type": "stream",
     "text": [
      " 16%|██████▍                                 | 235/1467 [01:55<11:49,  1.74it/s]/home/dIOGOLOC/programs/anaconda3/lib/python3.10/site-packages/glidertools/load/seaglider.py:227: GliderToolsWarning: dives was not found in the files\n",
      "  warnings.warn(msg, GliderToolsWarning)\n"
     ]
    },
    {
     "name": "stdout",
     "output_type": "stream",
     "text": [
      "\n",
      "DIMENSION: sg_data_point\n",
      "{latitude, longitude, time, depth}\n"
     ]
    },
    {
     "name": "stderr",
     "output_type": "stream",
     "text": [
      " 16%|██████▍                                 | 236/1467 [01:56<11:24,  1.80it/s]/home/dIOGOLOC/programs/anaconda3/lib/python3.10/site-packages/glidertools/load/seaglider.py:227: GliderToolsWarning: dives was not found in the files\n",
      "  warnings.warn(msg, GliderToolsWarning)\n"
     ]
    },
    {
     "name": "stdout",
     "output_type": "stream",
     "text": [
      "\n",
      "DIMENSION: sg_data_point\n",
      "{latitude, longitude, time, depth}\n"
     ]
    },
    {
     "name": "stderr",
     "output_type": "stream",
     "text": [
      " 16%|██████▍                                 | 237/1467 [01:56<11:32,  1.78it/s]/home/dIOGOLOC/programs/anaconda3/lib/python3.10/site-packages/glidertools/load/seaglider.py:227: GliderToolsWarning: dives was not found in the files\n",
      "  warnings.warn(msg, GliderToolsWarning)\n"
     ]
    },
    {
     "name": "stdout",
     "output_type": "stream",
     "text": [
      "\n",
      "DIMENSION: sg_data_point\n",
      "{latitude, longitude, time, depth}\n"
     ]
    },
    {
     "name": "stderr",
     "output_type": "stream",
     "text": [
      " 16%|██████▍                                 | 238/1467 [01:57<12:13,  1.67it/s]/home/dIOGOLOC/programs/anaconda3/lib/python3.10/site-packages/glidertools/load/seaglider.py:227: GliderToolsWarning: dives was not found in the files\n",
      "  warnings.warn(msg, GliderToolsWarning)\n"
     ]
    },
    {
     "name": "stdout",
     "output_type": "stream",
     "text": [
      "\n",
      "DIMENSION: sg_data_point\n",
      "{latitude, longitude, time, depth}\n"
     ]
    },
    {
     "name": "stderr",
     "output_type": "stream",
     "text": [
      " 16%|██████▌                                 | 239/1467 [01:57<11:50,  1.73it/s]/home/dIOGOLOC/programs/anaconda3/lib/python3.10/site-packages/glidertools/load/seaglider.py:227: GliderToolsWarning: dives was not found in the files\n",
      "  warnings.warn(msg, GliderToolsWarning)\n"
     ]
    },
    {
     "name": "stdout",
     "output_type": "stream",
     "text": [
      "\n",
      "DIMENSION: sg_data_point\n",
      "{latitude, longitude, time, depth}\n"
     ]
    },
    {
     "name": "stderr",
     "output_type": "stream",
     "text": [
      " 16%|██████▌                                 | 240/1467 [01:58<11:40,  1.75it/s]/home/dIOGOLOC/programs/anaconda3/lib/python3.10/site-packages/glidertools/load/seaglider.py:227: GliderToolsWarning: dives was not found in the files\n",
      "  warnings.warn(msg, GliderToolsWarning)\n"
     ]
    },
    {
     "name": "stdout",
     "output_type": "stream",
     "text": [
      "\n",
      "DIMENSION: sg_data_point\n",
      "{latitude, longitude, time, depth}\n"
     ]
    },
    {
     "name": "stderr",
     "output_type": "stream",
     "text": [
      " 16%|██████▌                                 | 241/1467 [01:59<12:55,  1.58it/s]/home/dIOGOLOC/programs/anaconda3/lib/python3.10/site-packages/glidertools/load/seaglider.py:227: GliderToolsWarning: dives was not found in the files\n",
      "  warnings.warn(msg, GliderToolsWarning)\n"
     ]
    },
    {
     "name": "stdout",
     "output_type": "stream",
     "text": [
      "\n",
      "DIMENSION: sg_data_point\n",
      "{latitude, longitude, time, depth}\n"
     ]
    },
    {
     "name": "stderr",
     "output_type": "stream",
     "text": [
      " 16%|██████▌                                 | 242/1467 [01:59<13:45,  1.48it/s]/home/dIOGOLOC/programs/anaconda3/lib/python3.10/site-packages/glidertools/load/seaglider.py:227: GliderToolsWarning: dives was not found in the files\n",
      "  warnings.warn(msg, GliderToolsWarning)\n"
     ]
    },
    {
     "name": "stdout",
     "output_type": "stream",
     "text": [
      "\n",
      "DIMENSION: sg_data_point\n",
      "{latitude, longitude, time, depth}\n"
     ]
    },
    {
     "name": "stderr",
     "output_type": "stream",
     "text": [
      " 17%|██████▋                                 | 243/1467 [02:00<13:30,  1.51it/s]/home/dIOGOLOC/programs/anaconda3/lib/python3.10/site-packages/glidertools/load/seaglider.py:227: GliderToolsWarning: dives was not found in the files\n",
      "  warnings.warn(msg, GliderToolsWarning)\n"
     ]
    },
    {
     "name": "stdout",
     "output_type": "stream",
     "text": [
      "\n",
      "DIMENSION: sg_data_point\n",
      "{latitude, longitude, time, depth}\n"
     ]
    },
    {
     "name": "stderr",
     "output_type": "stream",
     "text": [
      " 17%|██████▋                                 | 244/1467 [02:01<13:19,  1.53it/s]/home/dIOGOLOC/programs/anaconda3/lib/python3.10/site-packages/glidertools/load/seaglider.py:227: GliderToolsWarning: dives was not found in the files\n",
      "  warnings.warn(msg, GliderToolsWarning)\n"
     ]
    },
    {
     "name": "stdout",
     "output_type": "stream",
     "text": [
      "\n",
      "DIMENSION: sg_data_point\n",
      "{latitude, longitude, time, depth}\n"
     ]
    },
    {
     "name": "stderr",
     "output_type": "stream",
     "text": [
      " 17%|██████▋                                 | 245/1467 [02:01<13:16,  1.53it/s]/home/dIOGOLOC/programs/anaconda3/lib/python3.10/site-packages/glidertools/load/seaglider.py:227: GliderToolsWarning: dives was not found in the files\n",
      "  warnings.warn(msg, GliderToolsWarning)\n"
     ]
    },
    {
     "name": "stdout",
     "output_type": "stream",
     "text": [
      "\n",
      "DIMENSION: sg_data_point\n",
      "{latitude, longitude, time, depth}\n"
     ]
    },
    {
     "name": "stderr",
     "output_type": "stream",
     "text": [
      " 17%|██████▋                                 | 246/1467 [02:02<12:55,  1.58it/s]/home/dIOGOLOC/programs/anaconda3/lib/python3.10/site-packages/glidertools/load/seaglider.py:227: GliderToolsWarning: dives was not found in the files\n",
      "  warnings.warn(msg, GliderToolsWarning)\n"
     ]
    },
    {
     "name": "stdout",
     "output_type": "stream",
     "text": [
      "\n",
      "DIMENSION: sg_data_point\n",
      "{latitude, longitude, time, depth}\n"
     ]
    },
    {
     "name": "stderr",
     "output_type": "stream",
     "text": [
      " 17%|██████▋                                 | 247/1467 [02:03<12:34,  1.62it/s]/home/dIOGOLOC/programs/anaconda3/lib/python3.10/site-packages/glidertools/load/seaglider.py:227: GliderToolsWarning: dives was not found in the files\n",
      "  warnings.warn(msg, GliderToolsWarning)\n"
     ]
    },
    {
     "name": "stdout",
     "output_type": "stream",
     "text": [
      "\n",
      "DIMENSION: sg_data_point\n",
      "{latitude, longitude, time, depth}\n"
     ]
    },
    {
     "name": "stderr",
     "output_type": "stream",
     "text": [
      " 17%|██████▊                                 | 248/1467 [02:03<13:08,  1.55it/s]/home/dIOGOLOC/programs/anaconda3/lib/python3.10/site-packages/glidertools/load/seaglider.py:227: GliderToolsWarning: dives was not found in the files\n",
      "  warnings.warn(msg, GliderToolsWarning)\n"
     ]
    },
    {
     "name": "stdout",
     "output_type": "stream",
     "text": [
      "\n",
      "DIMENSION: sg_data_point\n",
      "{latitude, longitude, time, depth}\n"
     ]
    },
    {
     "name": "stderr",
     "output_type": "stream",
     "text": [
      " 17%|██████▊                                 | 249/1467 [02:04<12:38,  1.61it/s]/home/dIOGOLOC/programs/anaconda3/lib/python3.10/site-packages/glidertools/load/seaglider.py:227: GliderToolsWarning: dives was not found in the files\n",
      "  warnings.warn(msg, GliderToolsWarning)\n"
     ]
    },
    {
     "name": "stdout",
     "output_type": "stream",
     "text": [
      "\n",
      "DIMENSION: sg_data_point\n",
      "{latitude, longitude, time, depth}\n"
     ]
    },
    {
     "name": "stderr",
     "output_type": "stream",
     "text": [
      " 17%|██████▊                                 | 250/1467 [02:04<12:13,  1.66it/s]/home/dIOGOLOC/programs/anaconda3/lib/python3.10/site-packages/glidertools/load/seaglider.py:227: GliderToolsWarning: dives was not found in the files\n",
      "  warnings.warn(msg, GliderToolsWarning)\n"
     ]
    },
    {
     "name": "stdout",
     "output_type": "stream",
     "text": [
      "\n",
      "DIMENSION: sg_data_point\n",
      "{latitude, longitude, time, depth}\n"
     ]
    },
    {
     "name": "stderr",
     "output_type": "stream",
     "text": [
      " 17%|██████▊                                 | 251/1467 [02:05<12:06,  1.67it/s]/home/dIOGOLOC/programs/anaconda3/lib/python3.10/site-packages/glidertools/load/seaglider.py:227: GliderToolsWarning: dives was not found in the files\n",
      "  warnings.warn(msg, GliderToolsWarning)\n"
     ]
    },
    {
     "name": "stdout",
     "output_type": "stream",
     "text": [
      "\n",
      "DIMENSION: sg_data_point\n",
      "{latitude, longitude, time, depth}\n"
     ]
    },
    {
     "name": "stderr",
     "output_type": "stream",
     "text": [
      " 17%|██████▊                                 | 252/1467 [02:06<12:06,  1.67it/s]/home/dIOGOLOC/programs/anaconda3/lib/python3.10/site-packages/glidertools/load/seaglider.py:227: GliderToolsWarning: dives was not found in the files\n",
      "  warnings.warn(msg, GliderToolsWarning)\n"
     ]
    },
    {
     "name": "stdout",
     "output_type": "stream",
     "text": [
      "\n",
      "DIMENSION: sg_data_point\n",
      "{latitude, longitude, time, depth}\n"
     ]
    },
    {
     "name": "stderr",
     "output_type": "stream",
     "text": [
      " 17%|██████▉                                 | 253/1467 [02:06<12:22,  1.63it/s]/home/dIOGOLOC/programs/anaconda3/lib/python3.10/site-packages/glidertools/load/seaglider.py:227: GliderToolsWarning: dives was not found in the files\n",
      "  warnings.warn(msg, GliderToolsWarning)\n"
     ]
    },
    {
     "name": "stdout",
     "output_type": "stream",
     "text": [
      "\n",
      "DIMENSION: sg_data_point\n",
      "{latitude, longitude, time, depth}\n"
     ]
    },
    {
     "name": "stderr",
     "output_type": "stream",
     "text": [
      " 17%|██████▉                                 | 254/1467 [02:07<12:33,  1.61it/s]/home/dIOGOLOC/programs/anaconda3/lib/python3.10/site-packages/glidertools/load/seaglider.py:227: GliderToolsWarning: dives was not found in the files\n",
      "  warnings.warn(msg, GliderToolsWarning)\n"
     ]
    },
    {
     "name": "stdout",
     "output_type": "stream",
     "text": [
      "\n",
      "DIMENSION: sg_data_point\n",
      "{latitude, longitude, time, depth}\n"
     ]
    },
    {
     "name": "stderr",
     "output_type": "stream",
     "text": [
      " 17%|██████▉                                 | 255/1467 [02:07<12:34,  1.61it/s]/home/dIOGOLOC/programs/anaconda3/lib/python3.10/site-packages/glidertools/load/seaglider.py:227: GliderToolsWarning: dives was not found in the files\n",
      "  warnings.warn(msg, GliderToolsWarning)\n"
     ]
    },
    {
     "name": "stdout",
     "output_type": "stream",
     "text": [
      "\n",
      "DIMENSION: sg_data_point\n",
      "{latitude, longitude, time, depth}\n"
     ]
    },
    {
     "name": "stderr",
     "output_type": "stream",
     "text": [
      " 17%|██████▉                                 | 256/1467 [02:08<12:34,  1.60it/s]/home/dIOGOLOC/programs/anaconda3/lib/python3.10/site-packages/glidertools/load/seaglider.py:227: GliderToolsWarning: dives was not found in the files\n",
      "  warnings.warn(msg, GliderToolsWarning)\n"
     ]
    },
    {
     "name": "stdout",
     "output_type": "stream",
     "text": [
      "\n",
      "DIMENSION: sg_data_point\n",
      "{latitude, longitude, time, depth}\n"
     ]
    },
    {
     "name": "stderr",
     "output_type": "stream",
     "text": [
      " 18%|███████                                 | 257/1467 [02:09<13:00,  1.55it/s]/home/dIOGOLOC/programs/anaconda3/lib/python3.10/site-packages/glidertools/load/seaglider.py:227: GliderToolsWarning: dives was not found in the files\n",
      "  warnings.warn(msg, GliderToolsWarning)\n",
      "/home/dIOGOLOC/programs/anaconda3/lib/python3.10/site-packages/glidertools/load/seaglider.py:227: GliderToolsWarning: latitude was not found in the files\n",
      "  warnings.warn(msg, GliderToolsWarning)\n",
      "/home/dIOGOLOC/programs/anaconda3/lib/python3.10/site-packages/glidertools/load/seaglider.py:227: GliderToolsWarning: longitude was not found in the files\n",
      "  warnings.warn(msg, GliderToolsWarning)\n"
     ]
    },
    {
     "name": "stdout",
     "output_type": "stream",
     "text": [
      "\n",
      "DIMENSION: sg_data_point\n",
      "{time, depth}\n"
     ]
    },
    {
     "name": "stderr",
     "output_type": "stream",
     "text": [
      " 18%|███████                                 | 258/1467 [02:09<11:38,  1.73it/s]/home/dIOGOLOC/programs/anaconda3/lib/python3.10/site-packages/glidertools/load/seaglider.py:227: GliderToolsWarning: dives was not found in the files\n",
      "  warnings.warn(msg, GliderToolsWarning)\n",
      "/home/dIOGOLOC/programs/anaconda3/lib/python3.10/site-packages/glidertools/load/seaglider.py:227: GliderToolsWarning: latitude was not found in the files\n",
      "  warnings.warn(msg, GliderToolsWarning)\n",
      "/home/dIOGOLOC/programs/anaconda3/lib/python3.10/site-packages/glidertools/load/seaglider.py:227: GliderToolsWarning: longitude was not found in the files\n",
      "  warnings.warn(msg, GliderToolsWarning)\n"
     ]
    },
    {
     "name": "stdout",
     "output_type": "stream",
     "text": [
      "\n",
      "DIMENSION: sg_data_point\n",
      "{time, depth}\n"
     ]
    },
    {
     "name": "stderr",
     "output_type": "stream",
     "text": [
      " 18%|███████                                 | 259/1467 [02:10<11:02,  1.82it/s]/home/dIOGOLOC/programs/anaconda3/lib/python3.10/site-packages/glidertools/load/seaglider.py:227: GliderToolsWarning: dives was not found in the files\n",
      "  warnings.warn(msg, GliderToolsWarning)\n",
      "/home/dIOGOLOC/programs/anaconda3/lib/python3.10/site-packages/glidertools/load/seaglider.py:227: GliderToolsWarning: latitude was not found in the files\n",
      "  warnings.warn(msg, GliderToolsWarning)\n",
      "/home/dIOGOLOC/programs/anaconda3/lib/python3.10/site-packages/glidertools/load/seaglider.py:227: GliderToolsWarning: longitude was not found in the files\n",
      "  warnings.warn(msg, GliderToolsWarning)\n"
     ]
    },
    {
     "name": "stdout",
     "output_type": "stream",
     "text": [
      "\n",
      "DIMENSION: sg_data_point\n",
      "{time, depth}\n"
     ]
    },
    {
     "name": "stderr",
     "output_type": "stream",
     "text": [
      " 18%|███████                                 | 260/1467 [02:10<10:17,  1.95it/s]/home/dIOGOLOC/programs/anaconda3/lib/python3.10/site-packages/glidertools/load/seaglider.py:227: GliderToolsWarning: dives was not found in the files\n",
      "  warnings.warn(msg, GliderToolsWarning)\n",
      "/home/dIOGOLOC/programs/anaconda3/lib/python3.10/site-packages/glidertools/load/seaglider.py:227: GliderToolsWarning: latitude was not found in the files\n",
      "  warnings.warn(msg, GliderToolsWarning)\n",
      "/home/dIOGOLOC/programs/anaconda3/lib/python3.10/site-packages/glidertools/load/seaglider.py:227: GliderToolsWarning: longitude was not found in the files\n",
      "  warnings.warn(msg, GliderToolsWarning)\n"
     ]
    },
    {
     "name": "stdout",
     "output_type": "stream",
     "text": [
      "\n",
      "DIMENSION: sg_data_point\n",
      "{time, depth}\n"
     ]
    },
    {
     "name": "stderr",
     "output_type": "stream",
     "text": [
      " 18%|███████                                 | 261/1467 [02:11<09:50,  2.04it/s]/home/dIOGOLOC/programs/anaconda3/lib/python3.10/site-packages/glidertools/load/seaglider.py:227: GliderToolsWarning: dives was not found in the files\n",
      "  warnings.warn(msg, GliderToolsWarning)\n",
      "/home/dIOGOLOC/programs/anaconda3/lib/python3.10/site-packages/glidertools/load/seaglider.py:227: GliderToolsWarning: latitude was not found in the files\n",
      "  warnings.warn(msg, GliderToolsWarning)\n",
      "/home/dIOGOLOC/programs/anaconda3/lib/python3.10/site-packages/glidertools/load/seaglider.py:227: GliderToolsWarning: longitude was not found in the files\n",
      "  warnings.warn(msg, GliderToolsWarning)\n"
     ]
    },
    {
     "name": "stdout",
     "output_type": "stream",
     "text": [
      "\n",
      "DIMENSION: sg_data_point\n",
      "{time, depth}\n"
     ]
    },
    {
     "name": "stderr",
     "output_type": "stream",
     "text": [
      " 18%|███████▏                                | 262/1467 [02:11<09:25,  2.13it/s]/home/dIOGOLOC/programs/anaconda3/lib/python3.10/site-packages/glidertools/load/seaglider.py:227: GliderToolsWarning: dives was not found in the files\n",
      "  warnings.warn(msg, GliderToolsWarning)\n",
      "/home/dIOGOLOC/programs/anaconda3/lib/python3.10/site-packages/glidertools/load/seaglider.py:227: GliderToolsWarning: latitude was not found in the files\n",
      "  warnings.warn(msg, GliderToolsWarning)\n",
      "/home/dIOGOLOC/programs/anaconda3/lib/python3.10/site-packages/glidertools/load/seaglider.py:227: GliderToolsWarning: longitude was not found in the files\n",
      "  warnings.warn(msg, GliderToolsWarning)\n"
     ]
    },
    {
     "name": "stdout",
     "output_type": "stream",
     "text": [
      "\n",
      "DIMENSION: sg_data_point\n",
      "{time, depth}\n"
     ]
    },
    {
     "name": "stderr",
     "output_type": "stream",
     "text": [
      " 18%|███████▏                                | 263/1467 [02:11<09:05,  2.21it/s]/home/dIOGOLOC/programs/anaconda3/lib/python3.10/site-packages/glidertools/load/seaglider.py:227: GliderToolsWarning: dives was not found in the files\n",
      "  warnings.warn(msg, GliderToolsWarning)\n",
      "/home/dIOGOLOC/programs/anaconda3/lib/python3.10/site-packages/glidertools/load/seaglider.py:227: GliderToolsWarning: latitude was not found in the files\n",
      "  warnings.warn(msg, GliderToolsWarning)\n",
      "/home/dIOGOLOC/programs/anaconda3/lib/python3.10/site-packages/glidertools/load/seaglider.py:227: GliderToolsWarning: longitude was not found in the files\n",
      "  warnings.warn(msg, GliderToolsWarning)\n"
     ]
    },
    {
     "name": "stdout",
     "output_type": "stream",
     "text": [
      "\n",
      "DIMENSION: sg_data_point\n",
      "{time, depth}\n"
     ]
    },
    {
     "name": "stderr",
     "output_type": "stream",
     "text": [
      " 18%|███████▏                                | 264/1467 [02:12<08:51,  2.27it/s]/home/dIOGOLOC/programs/anaconda3/lib/python3.10/site-packages/glidertools/load/seaglider.py:227: GliderToolsWarning: dives was not found in the files\n",
      "  warnings.warn(msg, GliderToolsWarning)\n",
      "/home/dIOGOLOC/programs/anaconda3/lib/python3.10/site-packages/glidertools/load/seaglider.py:227: GliderToolsWarning: latitude was not found in the files\n",
      "  warnings.warn(msg, GliderToolsWarning)\n",
      "/home/dIOGOLOC/programs/anaconda3/lib/python3.10/site-packages/glidertools/load/seaglider.py:227: GliderToolsWarning: longitude was not found in the files\n",
      "  warnings.warn(msg, GliderToolsWarning)\n"
     ]
    },
    {
     "name": "stdout",
     "output_type": "stream",
     "text": [
      "\n",
      "DIMENSION: sg_data_point\n",
      "{time, depth}\n"
     ]
    },
    {
     "name": "stderr",
     "output_type": "stream",
     "text": [
      " 18%|███████▏                                | 265/1467 [02:12<08:34,  2.34it/s]/home/dIOGOLOC/programs/anaconda3/lib/python3.10/site-packages/glidertools/load/seaglider.py:227: GliderToolsWarning: dives was not found in the files\n",
      "  warnings.warn(msg, GliderToolsWarning)\n",
      "/home/dIOGOLOC/programs/anaconda3/lib/python3.10/site-packages/glidertools/load/seaglider.py:227: GliderToolsWarning: latitude was not found in the files\n",
      "  warnings.warn(msg, GliderToolsWarning)\n",
      "/home/dIOGOLOC/programs/anaconda3/lib/python3.10/site-packages/glidertools/load/seaglider.py:227: GliderToolsWarning: longitude was not found in the files\n",
      "  warnings.warn(msg, GliderToolsWarning)\n"
     ]
    },
    {
     "name": "stdout",
     "output_type": "stream",
     "text": [
      "\n",
      "DIMENSION: sg_data_point\n",
      "{time, depth}\n"
     ]
    },
    {
     "name": "stderr",
     "output_type": "stream",
     "text": [
      " 18%|███████▎                                | 266/1467 [02:13<08:30,  2.35it/s]/home/dIOGOLOC/programs/anaconda3/lib/python3.10/site-packages/glidertools/load/seaglider.py:227: GliderToolsWarning: dives was not found in the files\n",
      "  warnings.warn(msg, GliderToolsWarning)\n",
      "/home/dIOGOLOC/programs/anaconda3/lib/python3.10/site-packages/glidertools/load/seaglider.py:227: GliderToolsWarning: latitude was not found in the files\n",
      "  warnings.warn(msg, GliderToolsWarning)\n",
      "/home/dIOGOLOC/programs/anaconda3/lib/python3.10/site-packages/glidertools/load/seaglider.py:227: GliderToolsWarning: longitude was not found in the files\n",
      "  warnings.warn(msg, GliderToolsWarning)\n"
     ]
    },
    {
     "name": "stdout",
     "output_type": "stream",
     "text": [
      "\n",
      "DIMENSION: sg_data_point\n",
      "{time, depth}\n"
     ]
    },
    {
     "name": "stderr",
     "output_type": "stream",
     "text": [
      " 18%|███████▎                                | 267/1467 [02:13<08:20,  2.40it/s]/home/dIOGOLOC/programs/anaconda3/lib/python3.10/site-packages/glidertools/load/seaglider.py:227: GliderToolsWarning: dives was not found in the files\n",
      "  warnings.warn(msg, GliderToolsWarning)\n",
      "/home/dIOGOLOC/programs/anaconda3/lib/python3.10/site-packages/glidertools/load/seaglider.py:227: GliderToolsWarning: latitude was not found in the files\n",
      "  warnings.warn(msg, GliderToolsWarning)\n",
      "/home/dIOGOLOC/programs/anaconda3/lib/python3.10/site-packages/glidertools/load/seaglider.py:227: GliderToolsWarning: longitude was not found in the files\n",
      "  warnings.warn(msg, GliderToolsWarning)\n"
     ]
    },
    {
     "name": "stdout",
     "output_type": "stream",
     "text": [
      "\n",
      "DIMENSION: sg_data_point\n",
      "{time, depth}\n"
     ]
    },
    {
     "name": "stderr",
     "output_type": "stream",
     "text": [
      " 18%|███████▎                                | 268/1467 [02:13<08:27,  2.36it/s]/home/dIOGOLOC/programs/anaconda3/lib/python3.10/site-packages/glidertools/load/seaglider.py:227: GliderToolsWarning: dives was not found in the files\n",
      "  warnings.warn(msg, GliderToolsWarning)\n",
      "/home/dIOGOLOC/programs/anaconda3/lib/python3.10/site-packages/glidertools/load/seaglider.py:227: GliderToolsWarning: latitude was not found in the files\n",
      "  warnings.warn(msg, GliderToolsWarning)\n",
      "/home/dIOGOLOC/programs/anaconda3/lib/python3.10/site-packages/glidertools/load/seaglider.py:227: GliderToolsWarning: longitude was not found in the files\n",
      "  warnings.warn(msg, GliderToolsWarning)\n"
     ]
    },
    {
     "name": "stdout",
     "output_type": "stream",
     "text": [
      "\n",
      "DIMENSION: sg_data_point\n",
      "{time, depth}\n"
     ]
    },
    {
     "name": "stderr",
     "output_type": "stream",
     "text": [
      " 18%|███████▎                                | 269/1467 [02:14<08:31,  2.34it/s]/home/dIOGOLOC/programs/anaconda3/lib/python3.10/site-packages/glidertools/load/seaglider.py:227: GliderToolsWarning: dives was not found in the files\n",
      "  warnings.warn(msg, GliderToolsWarning)\n"
     ]
    },
    {
     "name": "stdout",
     "output_type": "stream",
     "text": [
      "\n",
      "DIMENSION: sg_data_point\n",
      "{latitude, longitude, time, depth}\n"
     ]
    },
    {
     "name": "stderr",
     "output_type": "stream",
     "text": [
      " 18%|███████▎                                | 270/1467 [02:14<09:32,  2.09it/s]/home/dIOGOLOC/programs/anaconda3/lib/python3.10/site-packages/glidertools/load/seaglider.py:227: GliderToolsWarning: dives was not found in the files\n",
      "  warnings.warn(msg, GliderToolsWarning)\n"
     ]
    },
    {
     "name": "stdout",
     "output_type": "stream",
     "text": [
      "\n",
      "DIMENSION: sg_data_point\n",
      "{latitude, longitude, time, depth}\n"
     ]
    },
    {
     "name": "stderr",
     "output_type": "stream",
     "text": [
      " 18%|███████▍                                | 271/1467 [02:15<10:06,  1.97it/s]/home/dIOGOLOC/programs/anaconda3/lib/python3.10/site-packages/glidertools/load/seaglider.py:227: GliderToolsWarning: dives was not found in the files\n",
      "  warnings.warn(msg, GliderToolsWarning)\n"
     ]
    },
    {
     "name": "stdout",
     "output_type": "stream",
     "text": [
      "\n",
      "DIMENSION: sg_data_point\n",
      "{latitude, longitude, time, depth}\n"
     ]
    },
    {
     "name": "stderr",
     "output_type": "stream",
     "text": [
      " 19%|███████▍                                | 272/1467 [02:16<10:35,  1.88it/s]/home/dIOGOLOC/programs/anaconda3/lib/python3.10/site-packages/glidertools/load/seaglider.py:227: GliderToolsWarning: dives was not found in the files\n",
      "  warnings.warn(msg, GliderToolsWarning)\n"
     ]
    },
    {
     "name": "stdout",
     "output_type": "stream",
     "text": [
      "\n",
      "DIMENSION: sg_data_point\n",
      "{latitude, longitude, time, depth}\n"
     ]
    },
    {
     "name": "stderr",
     "output_type": "stream",
     "text": [
      " 19%|███████▍                                | 273/1467 [02:16<12:05,  1.65it/s]/home/dIOGOLOC/programs/anaconda3/lib/python3.10/site-packages/glidertools/load/seaglider.py:227: GliderToolsWarning: dives was not found in the files\n",
      "  warnings.warn(msg, GliderToolsWarning)\n"
     ]
    },
    {
     "name": "stdout",
     "output_type": "stream",
     "text": [
      "\n",
      "DIMENSION: sg_data_point\n",
      "{latitude, longitude, time, depth}\n"
     ]
    },
    {
     "name": "stderr",
     "output_type": "stream",
     "text": [
      " 19%|███████▍                                | 274/1467 [02:17<12:20,  1.61it/s]/home/dIOGOLOC/programs/anaconda3/lib/python3.10/site-packages/glidertools/load/seaglider.py:227: GliderToolsWarning: dives was not found in the files\n",
      "  warnings.warn(msg, GliderToolsWarning)\n"
     ]
    },
    {
     "name": "stdout",
     "output_type": "stream",
     "text": [
      "\n",
      "DIMENSION: sg_data_point\n",
      "{latitude, longitude, time, depth}\n"
     ]
    },
    {
     "name": "stderr",
     "output_type": "stream",
     "text": [
      " 19%|███████▍                                | 275/1467 [02:18<12:34,  1.58it/s]/home/dIOGOLOC/programs/anaconda3/lib/python3.10/site-packages/glidertools/load/seaglider.py:227: GliderToolsWarning: dives was not found in the files\n",
      "  warnings.warn(msg, GliderToolsWarning)\n"
     ]
    },
    {
     "name": "stdout",
     "output_type": "stream",
     "text": [
      "\n",
      "DIMENSION: sg_data_point\n",
      "{latitude, longitude, time, depth}\n"
     ]
    },
    {
     "name": "stderr",
     "output_type": "stream",
     "text": [
      " 19%|███████▌                                | 276/1467 [02:18<12:04,  1.64it/s]/home/dIOGOLOC/programs/anaconda3/lib/python3.10/site-packages/glidertools/load/seaglider.py:227: GliderToolsWarning: dives was not found in the files\n",
      "  warnings.warn(msg, GliderToolsWarning)\n"
     ]
    },
    {
     "name": "stdout",
     "output_type": "stream",
     "text": [
      "\n",
      "DIMENSION: sg_data_point\n",
      "{latitude, longitude, time, depth}\n"
     ]
    },
    {
     "name": "stderr",
     "output_type": "stream",
     "text": [
      " 19%|███████▌                                | 277/1467 [02:19<11:54,  1.67it/s]/home/dIOGOLOC/programs/anaconda3/lib/python3.10/site-packages/glidertools/load/seaglider.py:227: GliderToolsWarning: dives was not found in the files\n",
      "  warnings.warn(msg, GliderToolsWarning)\n"
     ]
    },
    {
     "name": "stdout",
     "output_type": "stream",
     "text": [
      "\n",
      "DIMENSION: sg_data_point\n",
      "{latitude, longitude, time, depth}\n"
     ]
    },
    {
     "name": "stderr",
     "output_type": "stream",
     "text": [
      " 19%|███████▌                                | 278/1467 [02:19<11:35,  1.71it/s]/home/dIOGOLOC/programs/anaconda3/lib/python3.10/site-packages/glidertools/load/seaglider.py:227: GliderToolsWarning: dives was not found in the files\n",
      "  warnings.warn(msg, GliderToolsWarning)\n"
     ]
    },
    {
     "name": "stdout",
     "output_type": "stream",
     "text": [
      "\n",
      "DIMENSION: sg_data_point\n",
      "{latitude, longitude, time, depth}\n"
     ]
    },
    {
     "name": "stderr",
     "output_type": "stream",
     "text": [
      " 19%|███████▌                                | 279/1467 [02:20<11:20,  1.75it/s]/home/dIOGOLOC/programs/anaconda3/lib/python3.10/site-packages/glidertools/load/seaglider.py:227: GliderToolsWarning: dives was not found in the files\n",
      "  warnings.warn(msg, GliderToolsWarning)\n"
     ]
    },
    {
     "name": "stdout",
     "output_type": "stream",
     "text": [
      "\n",
      "DIMENSION: sg_data_point\n",
      "{latitude, longitude, time, depth}\n"
     ]
    },
    {
     "name": "stderr",
     "output_type": "stream",
     "text": [
      " 19%|███████▋                                | 280/1467 [02:21<11:10,  1.77it/s]/home/dIOGOLOC/programs/anaconda3/lib/python3.10/site-packages/glidertools/load/seaglider.py:227: GliderToolsWarning: dives was not found in the files\n",
      "  warnings.warn(msg, GliderToolsWarning)\n"
     ]
    },
    {
     "name": "stdout",
     "output_type": "stream",
     "text": [
      "\n",
      "DIMENSION: sg_data_point\n",
      "{latitude, longitude, time, depth}\n"
     ]
    },
    {
     "name": "stderr",
     "output_type": "stream",
     "text": [
      " 19%|███████▋                                | 281/1467 [02:21<11:03,  1.79it/s]/home/dIOGOLOC/programs/anaconda3/lib/python3.10/site-packages/glidertools/load/seaglider.py:227: GliderToolsWarning: dives was not found in the files\n",
      "  warnings.warn(msg, GliderToolsWarning)\n"
     ]
    },
    {
     "name": "stdout",
     "output_type": "stream",
     "text": [
      "\n",
      "DIMENSION: sg_data_point\n",
      "{latitude, longitude, time, depth}\n"
     ]
    },
    {
     "name": "stderr",
     "output_type": "stream",
     "text": [
      " 19%|███████▋                                | 282/1467 [02:22<10:48,  1.83it/s]/home/dIOGOLOC/programs/anaconda3/lib/python3.10/site-packages/glidertools/load/seaglider.py:227: GliderToolsWarning: dives was not found in the files\n",
      "  warnings.warn(msg, GliderToolsWarning)\n"
     ]
    },
    {
     "name": "stdout",
     "output_type": "stream",
     "text": [
      "\n",
      "DIMENSION: sg_data_point\n",
      "{latitude, longitude, time, depth}\n"
     ]
    },
    {
     "name": "stderr",
     "output_type": "stream",
     "text": [
      " 19%|███████▋                                | 283/1467 [02:22<11:30,  1.72it/s]/home/dIOGOLOC/programs/anaconda3/lib/python3.10/site-packages/glidertools/load/seaglider.py:227: GliderToolsWarning: dives was not found in the files\n",
      "  warnings.warn(msg, GliderToolsWarning)\n"
     ]
    },
    {
     "name": "stdout",
     "output_type": "stream",
     "text": [
      "\n",
      "DIMENSION: sg_data_point\n",
      "{latitude, longitude, time, depth}\n"
     ]
    },
    {
     "name": "stderr",
     "output_type": "stream",
     "text": [
      " 19%|███████▋                                | 284/1467 [02:23<11:07,  1.77it/s]/home/dIOGOLOC/programs/anaconda3/lib/python3.10/site-packages/glidertools/load/seaglider.py:227: GliderToolsWarning: dives was not found in the files\n",
      "  warnings.warn(msg, GliderToolsWarning)\n"
     ]
    },
    {
     "name": "stdout",
     "output_type": "stream",
     "text": [
      "\n",
      "DIMENSION: sg_data_point\n",
      "{latitude, longitude, time, depth}\n"
     ]
    },
    {
     "name": "stderr",
     "output_type": "stream",
     "text": [
      " 19%|███████▊                                | 285/1467 [02:23<10:46,  1.83it/s]/home/dIOGOLOC/programs/anaconda3/lib/python3.10/site-packages/glidertools/load/seaglider.py:227: GliderToolsWarning: dives was not found in the files\n",
      "  warnings.warn(msg, GliderToolsWarning)\n"
     ]
    },
    {
     "name": "stdout",
     "output_type": "stream",
     "text": [
      "\n",
      "DIMENSION: sg_data_point\n",
      "{latitude, longitude, time, depth}\n"
     ]
    },
    {
     "name": "stderr",
     "output_type": "stream",
     "text": [
      " 19%|███████▊                                | 286/1467 [02:24<10:38,  1.85it/s]/home/dIOGOLOC/programs/anaconda3/lib/python3.10/site-packages/glidertools/load/seaglider.py:227: GliderToolsWarning: dives was not found in the files\n",
      "  warnings.warn(msg, GliderToolsWarning)\n"
     ]
    },
    {
     "name": "stdout",
     "output_type": "stream",
     "text": [
      "\n",
      "DIMENSION: sg_data_point\n",
      "{latitude, longitude, time, depth}\n"
     ]
    },
    {
     "name": "stderr",
     "output_type": "stream",
     "text": [
      " 20%|███████▊                                | 287/1467 [02:24<10:46,  1.83it/s]/home/dIOGOLOC/programs/anaconda3/lib/python3.10/site-packages/glidertools/load/seaglider.py:227: GliderToolsWarning: dives was not found in the files\n",
      "  warnings.warn(msg, GliderToolsWarning)\n"
     ]
    },
    {
     "name": "stdout",
     "output_type": "stream",
     "text": [
      "\n",
      "DIMENSION: sg_data_point\n",
      "{latitude, longitude, time, depth}\n"
     ]
    },
    {
     "name": "stderr",
     "output_type": "stream",
     "text": [
      " 20%|███████▊                                | 288/1467 [02:25<10:41,  1.84it/s]/home/dIOGOLOC/programs/anaconda3/lib/python3.10/site-packages/glidertools/load/seaglider.py:227: GliderToolsWarning: dives was not found in the files\n",
      "  warnings.warn(msg, GliderToolsWarning)\n"
     ]
    },
    {
     "name": "stdout",
     "output_type": "stream",
     "text": [
      "\n",
      "DIMENSION: sg_data_point\n",
      "{latitude, longitude, time, depth}\n"
     ]
    },
    {
     "name": "stderr",
     "output_type": "stream",
     "text": [
      " 20%|███████▉                                | 289/1467 [02:25<10:33,  1.86it/s]/home/dIOGOLOC/programs/anaconda3/lib/python3.10/site-packages/glidertools/load/seaglider.py:227: GliderToolsWarning: dives was not found in the files\n",
      "  warnings.warn(msg, GliderToolsWarning)\n"
     ]
    },
    {
     "name": "stdout",
     "output_type": "stream",
     "text": [
      "\n",
      "DIMENSION: sg_data_point\n",
      "{latitude, longitude, time, depth}\n"
     ]
    },
    {
     "name": "stderr",
     "output_type": "stream",
     "text": [
      " 20%|███████▉                                | 290/1467 [02:26<10:16,  1.91it/s]/home/dIOGOLOC/programs/anaconda3/lib/python3.10/site-packages/glidertools/load/seaglider.py:227: GliderToolsWarning: dives was not found in the files\n",
      "  warnings.warn(msg, GliderToolsWarning)\n"
     ]
    },
    {
     "name": "stdout",
     "output_type": "stream",
     "text": [
      "\n",
      "DIMENSION: sg_data_point\n",
      "{latitude, longitude, time, depth}\n"
     ]
    },
    {
     "name": "stderr",
     "output_type": "stream",
     "text": [
      " 20%|███████▉                                | 291/1467 [02:26<10:29,  1.87it/s]/home/dIOGOLOC/programs/anaconda3/lib/python3.10/site-packages/glidertools/load/seaglider.py:227: GliderToolsWarning: dives was not found in the files\n",
      "  warnings.warn(msg, GliderToolsWarning)\n"
     ]
    },
    {
     "name": "stdout",
     "output_type": "stream",
     "text": [
      "\n",
      "DIMENSION: sg_data_point\n",
      "{latitude, longitude, time, depth}\n"
     ]
    },
    {
     "name": "stderr",
     "output_type": "stream",
     "text": [
      " 20%|███████▉                                | 292/1467 [02:27<10:36,  1.85it/s]/home/dIOGOLOC/programs/anaconda3/lib/python3.10/site-packages/glidertools/load/seaglider.py:227: GliderToolsWarning: dives was not found in the files\n",
      "  warnings.warn(msg, GliderToolsWarning)\n"
     ]
    },
    {
     "name": "stdout",
     "output_type": "stream",
     "text": [
      "\n",
      "DIMENSION: sg_data_point\n",
      "{latitude, longitude, time, depth}\n"
     ]
    },
    {
     "name": "stderr",
     "output_type": "stream",
     "text": [
      " 20%|███████▉                                | 293/1467 [02:28<10:33,  1.85it/s]/home/dIOGOLOC/programs/anaconda3/lib/python3.10/site-packages/glidertools/load/seaglider.py:227: GliderToolsWarning: dives was not found in the files\n",
      "  warnings.warn(msg, GliderToolsWarning)\n"
     ]
    },
    {
     "name": "stdout",
     "output_type": "stream",
     "text": [
      "\n",
      "DIMENSION: sg_data_point\n",
      "{latitude, longitude, time, depth}\n"
     ]
    },
    {
     "name": "stderr",
     "output_type": "stream",
     "text": [
      " 20%|████████                                | 294/1467 [02:28<10:55,  1.79it/s]/home/dIOGOLOC/programs/anaconda3/lib/python3.10/site-packages/glidertools/load/seaglider.py:227: GliderToolsWarning: dives was not found in the files\n",
      "  warnings.warn(msg, GliderToolsWarning)\n"
     ]
    },
    {
     "name": "stdout",
     "output_type": "stream",
     "text": [
      "\n",
      "DIMENSION: sg_data_point\n",
      "{latitude, longitude, time, depth}\n"
     ]
    },
    {
     "name": "stderr",
     "output_type": "stream",
     "text": [
      " 20%|████████                                | 295/1467 [02:29<11:16,  1.73it/s]/home/dIOGOLOC/programs/anaconda3/lib/python3.10/site-packages/glidertools/load/seaglider.py:227: GliderToolsWarning: dives was not found in the files\n",
      "  warnings.warn(msg, GliderToolsWarning)\n"
     ]
    },
    {
     "name": "stdout",
     "output_type": "stream",
     "text": [
      "\n",
      "DIMENSION: sg_data_point\n",
      "{latitude, longitude, time, depth}\n"
     ]
    },
    {
     "name": "stderr",
     "output_type": "stream",
     "text": [
      " 20%|████████                                | 296/1467 [02:29<10:41,  1.82it/s]/home/dIOGOLOC/programs/anaconda3/lib/python3.10/site-packages/glidertools/load/seaglider.py:227: GliderToolsWarning: dives was not found in the files\n",
      "  warnings.warn(msg, GliderToolsWarning)\n"
     ]
    },
    {
     "name": "stdout",
     "output_type": "stream",
     "text": [
      "\n",
      "DIMENSION: sg_data_point\n",
      "{latitude, longitude, time, depth}\n"
     ]
    },
    {
     "name": "stderr",
     "output_type": "stream",
     "text": [
      " 20%|████████                                | 297/1467 [02:30<10:52,  1.79it/s]/home/dIOGOLOC/programs/anaconda3/lib/python3.10/site-packages/glidertools/load/seaglider.py:227: GliderToolsWarning: dives was not found in the files\n",
      "  warnings.warn(msg, GliderToolsWarning)\n"
     ]
    },
    {
     "name": "stdout",
     "output_type": "stream",
     "text": [
      "\n",
      "DIMENSION: sg_data_point\n",
      "{latitude, longitude, time, depth}\n"
     ]
    },
    {
     "name": "stderr",
     "output_type": "stream",
     "text": [
      " 20%|████████▏                               | 298/1467 [02:30<10:41,  1.82it/s]/home/dIOGOLOC/programs/anaconda3/lib/python3.10/site-packages/glidertools/load/seaglider.py:227: GliderToolsWarning: dives was not found in the files\n",
      "  warnings.warn(msg, GliderToolsWarning)\n"
     ]
    },
    {
     "name": "stdout",
     "output_type": "stream",
     "text": [
      "\n",
      "DIMENSION: sg_data_point\n",
      "{latitude, longitude, time, depth}\n"
     ]
    },
    {
     "name": "stderr",
     "output_type": "stream",
     "text": [
      " 20%|████████▏                               | 299/1467 [02:31<10:30,  1.85it/s]/home/dIOGOLOC/programs/anaconda3/lib/python3.10/site-packages/glidertools/load/seaglider.py:227: GliderToolsWarning: dives was not found in the files\n",
      "  warnings.warn(msg, GliderToolsWarning)\n"
     ]
    },
    {
     "name": "stdout",
     "output_type": "stream",
     "text": [
      "\n",
      "DIMENSION: sg_data_point\n",
      "{latitude, longitude, time, depth}\n"
     ]
    },
    {
     "name": "stderr",
     "output_type": "stream",
     "text": [
      " 20%|████████▏                               | 300/1467 [02:31<10:19,  1.88it/s]/home/dIOGOLOC/programs/anaconda3/lib/python3.10/site-packages/glidertools/load/seaglider.py:227: GliderToolsWarning: dives was not found in the files\n",
      "  warnings.warn(msg, GliderToolsWarning)\n"
     ]
    },
    {
     "name": "stdout",
     "output_type": "stream",
     "text": [
      "\n",
      "DIMENSION: sg_data_point\n",
      "{latitude, longitude, time, depth}\n"
     ]
    },
    {
     "name": "stderr",
     "output_type": "stream",
     "text": [
      " 21%|████████▏                               | 301/1467 [02:32<10:17,  1.89it/s]/home/dIOGOLOC/programs/anaconda3/lib/python3.10/site-packages/glidertools/load/seaglider.py:227: GliderToolsWarning: dives was not found in the files\n",
      "  warnings.warn(msg, GliderToolsWarning)\n"
     ]
    },
    {
     "name": "stdout",
     "output_type": "stream",
     "text": [
      "\n",
      "DIMENSION: sg_data_point\n",
      "{latitude, longitude, time, depth}\n"
     ]
    },
    {
     "name": "stderr",
     "output_type": "stream",
     "text": [
      " 21%|████████▏                               | 302/1467 [02:32<10:16,  1.89it/s]/home/dIOGOLOC/programs/anaconda3/lib/python3.10/site-packages/glidertools/load/seaglider.py:227: GliderToolsWarning: dives was not found in the files\n",
      "  warnings.warn(msg, GliderToolsWarning)\n"
     ]
    },
    {
     "name": "stdout",
     "output_type": "stream",
     "text": [
      "\n",
      "DIMENSION: sg_data_point\n",
      "{latitude, longitude, time, depth}\n"
     ]
    },
    {
     "name": "stderr",
     "output_type": "stream",
     "text": [
      " 21%|████████▎                               | 303/1467 [02:33<10:19,  1.88it/s]/home/dIOGOLOC/programs/anaconda3/lib/python3.10/site-packages/glidertools/load/seaglider.py:227: GliderToolsWarning: dives was not found in the files\n",
      "  warnings.warn(msg, GliderToolsWarning)\n"
     ]
    },
    {
     "name": "stdout",
     "output_type": "stream",
     "text": [
      "\n",
      "DIMENSION: sg_data_point\n",
      "{latitude, longitude, time, depth}\n"
     ]
    },
    {
     "name": "stderr",
     "output_type": "stream",
     "text": [
      " 21%|████████▎                               | 304/1467 [02:34<10:50,  1.79it/s]/home/dIOGOLOC/programs/anaconda3/lib/python3.10/site-packages/glidertools/load/seaglider.py:227: GliderToolsWarning: dives was not found in the files\n",
      "  warnings.warn(msg, GliderToolsWarning)\n"
     ]
    },
    {
     "name": "stdout",
     "output_type": "stream",
     "text": [
      "\n",
      "DIMENSION: sg_data_point\n",
      "{latitude, longitude, time, depth}\n"
     ]
    },
    {
     "name": "stderr",
     "output_type": "stream",
     "text": [
      " 21%|████████▎                               | 305/1467 [02:34<10:51,  1.78it/s]/home/dIOGOLOC/programs/anaconda3/lib/python3.10/site-packages/glidertools/load/seaglider.py:227: GliderToolsWarning: dives was not found in the files\n",
      "  warnings.warn(msg, GliderToolsWarning)\n"
     ]
    },
    {
     "name": "stdout",
     "output_type": "stream",
     "text": [
      "\n",
      "DIMENSION: sg_data_point\n",
      "{latitude, longitude, time, depth}\n"
     ]
    },
    {
     "name": "stderr",
     "output_type": "stream",
     "text": [
      " 21%|████████▎                               | 306/1467 [02:35<11:15,  1.72it/s]/home/dIOGOLOC/programs/anaconda3/lib/python3.10/site-packages/glidertools/load/seaglider.py:227: GliderToolsWarning: dives was not found in the files\n",
      "  warnings.warn(msg, GliderToolsWarning)\n"
     ]
    },
    {
     "name": "stdout",
     "output_type": "stream",
     "text": [
      "\n",
      "DIMENSION: sg_data_point\n",
      "{latitude, longitude, time, depth}\n"
     ]
    },
    {
     "name": "stderr",
     "output_type": "stream",
     "text": [
      " 21%|████████▎                               | 307/1467 [02:35<11:05,  1.74it/s]/home/dIOGOLOC/programs/anaconda3/lib/python3.10/site-packages/glidertools/load/seaglider.py:227: GliderToolsWarning: dives was not found in the files\n",
      "  warnings.warn(msg, GliderToolsWarning)\n"
     ]
    },
    {
     "name": "stdout",
     "output_type": "stream",
     "text": [
      "\n",
      "DIMENSION: sg_data_point\n",
      "{latitude, longitude, time, depth}\n"
     ]
    },
    {
     "name": "stderr",
     "output_type": "stream",
     "text": [
      " 21%|████████▍                               | 308/1467 [02:36<10:59,  1.76it/s]/home/dIOGOLOC/programs/anaconda3/lib/python3.10/site-packages/glidertools/load/seaglider.py:227: GliderToolsWarning: dives was not found in the files\n",
      "  warnings.warn(msg, GliderToolsWarning)\n"
     ]
    },
    {
     "name": "stdout",
     "output_type": "stream",
     "text": [
      "\n",
      "DIMENSION: sg_data_point\n",
      "{latitude, longitude, time, depth}\n"
     ]
    },
    {
     "name": "stderr",
     "output_type": "stream",
     "text": [
      " 21%|████████▍                               | 309/1467 [02:37<11:00,  1.75it/s]/home/dIOGOLOC/programs/anaconda3/lib/python3.10/site-packages/glidertools/load/seaglider.py:227: GliderToolsWarning: dives was not found in the files\n",
      "  warnings.warn(msg, GliderToolsWarning)\n"
     ]
    },
    {
     "name": "stdout",
     "output_type": "stream",
     "text": [
      "\n",
      "DIMENSION: sg_data_point\n",
      "{latitude, longitude, time, depth}\n"
     ]
    },
    {
     "name": "stderr",
     "output_type": "stream",
     "text": [
      " 21%|████████▍                               | 310/1467 [02:37<10:45,  1.79it/s]/home/dIOGOLOC/programs/anaconda3/lib/python3.10/site-packages/glidertools/load/seaglider.py:227: GliderToolsWarning: dives was not found in the files\n",
      "  warnings.warn(msg, GliderToolsWarning)\n"
     ]
    },
    {
     "name": "stdout",
     "output_type": "stream",
     "text": [
      "\n",
      "DIMENSION: sg_data_point\n",
      "{latitude, longitude, time, depth}\n"
     ]
    },
    {
     "name": "stderr",
     "output_type": "stream",
     "text": [
      " 21%|████████▍                               | 311/1467 [02:38<11:02,  1.74it/s]/home/dIOGOLOC/programs/anaconda3/lib/python3.10/site-packages/glidertools/load/seaglider.py:227: GliderToolsWarning: dives was not found in the files\n",
      "  warnings.warn(msg, GliderToolsWarning)\n"
     ]
    },
    {
     "name": "stdout",
     "output_type": "stream",
     "text": [
      "\n",
      "DIMENSION: sg_data_point\n",
      "{latitude, longitude, time, depth}\n"
     ]
    },
    {
     "name": "stderr",
     "output_type": "stream",
     "text": [
      " 21%|████████▌                               | 312/1467 [02:38<10:52,  1.77it/s]/home/dIOGOLOC/programs/anaconda3/lib/python3.10/site-packages/glidertools/load/seaglider.py:227: GliderToolsWarning: dives was not found in the files\n",
      "  warnings.warn(msg, GliderToolsWarning)\n"
     ]
    },
    {
     "name": "stdout",
     "output_type": "stream",
     "text": [
      "\n",
      "DIMENSION: sg_data_point\n",
      "{latitude, longitude, time, depth}\n"
     ]
    },
    {
     "name": "stderr",
     "output_type": "stream",
     "text": [
      " 21%|████████▌                               | 313/1467 [02:39<10:39,  1.80it/s]/home/dIOGOLOC/programs/anaconda3/lib/python3.10/site-packages/glidertools/load/seaglider.py:227: GliderToolsWarning: dives was not found in the files\n",
      "  warnings.warn(msg, GliderToolsWarning)\n"
     ]
    },
    {
     "name": "stdout",
     "output_type": "stream",
     "text": [
      "\n",
      "DIMENSION: sg_data_point\n",
      "{latitude, longitude, time, depth}\n"
     ]
    },
    {
     "name": "stderr",
     "output_type": "stream",
     "text": [
      " 21%|████████▌                               | 314/1467 [02:39<11:25,  1.68it/s]/home/dIOGOLOC/programs/anaconda3/lib/python3.10/site-packages/glidertools/load/seaglider.py:227: GliderToolsWarning: dives was not found in the files\n",
      "  warnings.warn(msg, GliderToolsWarning)\n"
     ]
    },
    {
     "name": "stdout",
     "output_type": "stream",
     "text": [
      "\n",
      "DIMENSION: sg_data_point\n",
      "{latitude, longitude, time, depth}\n"
     ]
    },
    {
     "name": "stderr",
     "output_type": "stream",
     "text": [
      " 21%|████████▌                               | 315/1467 [02:40<11:08,  1.72it/s]/home/dIOGOLOC/programs/anaconda3/lib/python3.10/site-packages/glidertools/load/seaglider.py:227: GliderToolsWarning: dives was not found in the files\n",
      "  warnings.warn(msg, GliderToolsWarning)\n"
     ]
    },
    {
     "name": "stdout",
     "output_type": "stream",
     "text": [
      "\n",
      "DIMENSION: sg_data_point\n",
      "{latitude, longitude, time, depth}\n"
     ]
    },
    {
     "name": "stderr",
     "output_type": "stream",
     "text": [
      " 22%|████████▌                               | 316/1467 [02:41<11:00,  1.74it/s]/home/dIOGOLOC/programs/anaconda3/lib/python3.10/site-packages/glidertools/load/seaglider.py:227: GliderToolsWarning: dives was not found in the files\n",
      "  warnings.warn(msg, GliderToolsWarning)\n"
     ]
    },
    {
     "name": "stdout",
     "output_type": "stream",
     "text": [
      "\n",
      "DIMENSION: sg_data_point\n",
      "{latitude, longitude, time, depth}\n"
     ]
    },
    {
     "name": "stderr",
     "output_type": "stream",
     "text": [
      " 22%|████████▋                               | 317/1467 [02:41<10:57,  1.75it/s]/home/dIOGOLOC/programs/anaconda3/lib/python3.10/site-packages/glidertools/load/seaglider.py:227: GliderToolsWarning: dives was not found in the files\n",
      "  warnings.warn(msg, GliderToolsWarning)\n"
     ]
    },
    {
     "name": "stdout",
     "output_type": "stream",
     "text": [
      "\n",
      "DIMENSION: sg_data_point\n",
      "{latitude, longitude, time, depth}\n"
     ]
    },
    {
     "name": "stderr",
     "output_type": "stream",
     "text": [
      " 22%|████████▋                               | 318/1467 [02:42<11:09,  1.71it/s]/home/dIOGOLOC/programs/anaconda3/lib/python3.10/site-packages/glidertools/load/seaglider.py:227: GliderToolsWarning: dives was not found in the files\n",
      "  warnings.warn(msg, GliderToolsWarning)\n"
     ]
    },
    {
     "name": "stdout",
     "output_type": "stream",
     "text": [
      "\n",
      "DIMENSION: sg_data_point\n",
      "{latitude, longitude, time, depth}\n"
     ]
    },
    {
     "name": "stderr",
     "output_type": "stream",
     "text": [
      " 22%|████████▋                               | 319/1467 [02:42<11:00,  1.74it/s]/home/dIOGOLOC/programs/anaconda3/lib/python3.10/site-packages/glidertools/load/seaglider.py:227: GliderToolsWarning: dives was not found in the files\n",
      "  warnings.warn(msg, GliderToolsWarning)\n"
     ]
    },
    {
     "name": "stdout",
     "output_type": "stream",
     "text": [
      "\n",
      "DIMENSION: sg_data_point\n",
      "{latitude, longitude, time, depth}\n"
     ]
    },
    {
     "name": "stderr",
     "output_type": "stream",
     "text": [
      " 22%|████████▋                               | 320/1467 [02:43<11:11,  1.71it/s]/home/dIOGOLOC/programs/anaconda3/lib/python3.10/site-packages/glidertools/load/seaglider.py:227: GliderToolsWarning: dives was not found in the files\n",
      "  warnings.warn(msg, GliderToolsWarning)\n"
     ]
    },
    {
     "name": "stdout",
     "output_type": "stream",
     "text": [
      "\n",
      "DIMENSION: sg_data_point\n",
      "{latitude, longitude, time, depth}\n"
     ]
    },
    {
     "name": "stderr",
     "output_type": "stream",
     "text": [
      " 22%|████████▊                               | 321/1467 [02:43<11:14,  1.70it/s]/home/dIOGOLOC/programs/anaconda3/lib/python3.10/site-packages/glidertools/load/seaglider.py:227: GliderToolsWarning: dives was not found in the files\n",
      "  warnings.warn(msg, GliderToolsWarning)\n"
     ]
    },
    {
     "name": "stdout",
     "output_type": "stream",
     "text": [
      "\n",
      "DIMENSION: sg_data_point\n",
      "{latitude, longitude, time, depth}\n"
     ]
    },
    {
     "name": "stderr",
     "output_type": "stream",
     "text": [
      " 22%|████████▊                               | 322/1467 [02:44<11:46,  1.62it/s]/home/dIOGOLOC/programs/anaconda3/lib/python3.10/site-packages/glidertools/load/seaglider.py:227: GliderToolsWarning: dives was not found in the files\n",
      "  warnings.warn(msg, GliderToolsWarning)\n"
     ]
    },
    {
     "name": "stdout",
     "output_type": "stream",
     "text": [
      "\n",
      "DIMENSION: sg_data_point\n",
      "{latitude, longitude, time, depth}\n"
     ]
    },
    {
     "name": "stderr",
     "output_type": "stream",
     "text": [
      " 22%|████████▊                               | 323/1467 [02:45<11:35,  1.64it/s]/home/dIOGOLOC/programs/anaconda3/lib/python3.10/site-packages/glidertools/load/seaglider.py:227: GliderToolsWarning: dives was not found in the files\n",
      "  warnings.warn(msg, GliderToolsWarning)\n"
     ]
    },
    {
     "name": "stdout",
     "output_type": "stream",
     "text": [
      "\n",
      "DIMENSION: sg_data_point\n",
      "{latitude, longitude, time, depth}\n"
     ]
    },
    {
     "name": "stderr",
     "output_type": "stream",
     "text": [
      " 22%|████████▊                               | 324/1467 [02:45<11:26,  1.67it/s]/home/dIOGOLOC/programs/anaconda3/lib/python3.10/site-packages/glidertools/load/seaglider.py:227: GliderToolsWarning: dives was not found in the files\n",
      "  warnings.warn(msg, GliderToolsWarning)\n"
     ]
    },
    {
     "name": "stdout",
     "output_type": "stream",
     "text": [
      "\n",
      "DIMENSION: sg_data_point\n",
      "{latitude, longitude, time, depth}\n"
     ]
    },
    {
     "name": "stderr",
     "output_type": "stream",
     "text": [
      " 22%|████████▊                               | 325/1467 [02:46<11:01,  1.73it/s]/home/dIOGOLOC/programs/anaconda3/lib/python3.10/site-packages/glidertools/load/seaglider.py:227: GliderToolsWarning: dives was not found in the files\n",
      "  warnings.warn(msg, GliderToolsWarning)\n"
     ]
    },
    {
     "name": "stdout",
     "output_type": "stream",
     "text": [
      "\n",
      "DIMENSION: sg_data_point\n",
      "{latitude, longitude, time, depth}\n"
     ]
    },
    {
     "name": "stderr",
     "output_type": "stream",
     "text": [
      " 22%|████████▉                               | 326/1467 [02:46<11:05,  1.71it/s]/home/dIOGOLOC/programs/anaconda3/lib/python3.10/site-packages/glidertools/load/seaglider.py:227: GliderToolsWarning: dives was not found in the files\n",
      "  warnings.warn(msg, GliderToolsWarning)\n"
     ]
    },
    {
     "name": "stdout",
     "output_type": "stream",
     "text": [
      "\n",
      "DIMENSION: sg_data_point\n",
      "{latitude, longitude, time, depth}\n"
     ]
    },
    {
     "name": "stderr",
     "output_type": "stream",
     "text": [
      " 22%|████████▉                               | 327/1467 [02:47<10:45,  1.77it/s]/home/dIOGOLOC/programs/anaconda3/lib/python3.10/site-packages/glidertools/load/seaglider.py:227: GliderToolsWarning: dives was not found in the files\n",
      "  warnings.warn(msg, GliderToolsWarning)\n"
     ]
    },
    {
     "name": "stdout",
     "output_type": "stream",
     "text": [
      "\n",
      "DIMENSION: sg_data_point\n",
      "{latitude, longitude, time, depth}\n"
     ]
    },
    {
     "name": "stderr",
     "output_type": "stream",
     "text": [
      " 22%|████████▉                               | 328/1467 [02:48<10:31,  1.80it/s]/home/dIOGOLOC/programs/anaconda3/lib/python3.10/site-packages/glidertools/load/seaglider.py:227: GliderToolsWarning: dives was not found in the files\n",
      "  warnings.warn(msg, GliderToolsWarning)\n"
     ]
    },
    {
     "name": "stdout",
     "output_type": "stream",
     "text": [
      "\n",
      "DIMENSION: sg_data_point\n",
      "{latitude, longitude, time, depth}\n"
     ]
    },
    {
     "name": "stderr",
     "output_type": "stream",
     "text": [
      " 22%|████████▉                               | 329/1467 [02:48<11:28,  1.65it/s]/home/dIOGOLOC/programs/anaconda3/lib/python3.10/site-packages/glidertools/load/seaglider.py:227: GliderToolsWarning: dives was not found in the files\n",
      "  warnings.warn(msg, GliderToolsWarning)\n"
     ]
    },
    {
     "name": "stdout",
     "output_type": "stream",
     "text": [
      "\n",
      "DIMENSION: sg_data_point\n",
      "{latitude, longitude, time, depth}\n"
     ]
    },
    {
     "name": "stderr",
     "output_type": "stream",
     "text": [
      " 22%|████████▉                               | 330/1467 [02:49<12:34,  1.51it/s]/home/dIOGOLOC/programs/anaconda3/lib/python3.10/site-packages/glidertools/load/seaglider.py:227: GliderToolsWarning: dives was not found in the files\n",
      "  warnings.warn(msg, GliderToolsWarning)\n"
     ]
    },
    {
     "name": "stdout",
     "output_type": "stream",
     "text": [
      "\n",
      "DIMENSION: sg_data_point\n",
      "{latitude, longitude, time, depth}\n"
     ]
    },
    {
     "name": "stderr",
     "output_type": "stream",
     "text": [
      " 23%|█████████                               | 331/1467 [02:50<12:07,  1.56it/s]/home/dIOGOLOC/programs/anaconda3/lib/python3.10/site-packages/glidertools/load/seaglider.py:227: GliderToolsWarning: dives was not found in the files\n",
      "  warnings.warn(msg, GliderToolsWarning)\n"
     ]
    },
    {
     "name": "stdout",
     "output_type": "stream",
     "text": [
      "\n",
      "DIMENSION: sg_data_point\n",
      "{latitude, longitude, time, depth}\n"
     ]
    },
    {
     "name": "stderr",
     "output_type": "stream",
     "text": [
      " 23%|█████████                               | 332/1467 [02:50<12:17,  1.54it/s]/home/dIOGOLOC/programs/anaconda3/lib/python3.10/site-packages/glidertools/load/seaglider.py:227: GliderToolsWarning: dives was not found in the files\n",
      "  warnings.warn(msg, GliderToolsWarning)\n"
     ]
    },
    {
     "name": "stdout",
     "output_type": "stream",
     "text": [
      "\n",
      "DIMENSION: sg_data_point\n",
      "{latitude, longitude, time, depth}\n"
     ]
    },
    {
     "name": "stderr",
     "output_type": "stream",
     "text": [
      " 23%|█████████                               | 333/1467 [02:51<11:48,  1.60it/s]/home/dIOGOLOC/programs/anaconda3/lib/python3.10/site-packages/glidertools/load/seaglider.py:227: GliderToolsWarning: dives was not found in the files\n",
      "  warnings.warn(msg, GliderToolsWarning)\n"
     ]
    },
    {
     "name": "stdout",
     "output_type": "stream",
     "text": [
      "\n",
      "DIMENSION: sg_data_point\n",
      "{latitude, longitude, time, depth}\n"
     ]
    },
    {
     "name": "stderr",
     "output_type": "stream",
     "text": [
      " 23%|█████████                               | 334/1467 [02:51<11:06,  1.70it/s]/home/dIOGOLOC/programs/anaconda3/lib/python3.10/site-packages/glidertools/load/seaglider.py:227: GliderToolsWarning: dives was not found in the files\n",
      "  warnings.warn(msg, GliderToolsWarning)\n"
     ]
    },
    {
     "name": "stdout",
     "output_type": "stream",
     "text": [
      "\n",
      "DIMENSION: sg_data_point\n",
      "{latitude, longitude, time, depth}\n"
     ]
    },
    {
     "name": "stderr",
     "output_type": "stream",
     "text": [
      " 23%|█████████▏                              | 335/1467 [02:52<10:56,  1.73it/s]/home/dIOGOLOC/programs/anaconda3/lib/python3.10/site-packages/glidertools/load/seaglider.py:227: GliderToolsWarning: dives was not found in the files\n",
      "  warnings.warn(msg, GliderToolsWarning)\n"
     ]
    },
    {
     "name": "stdout",
     "output_type": "stream",
     "text": [
      "\n",
      "DIMENSION: sg_data_point\n",
      "{latitude, longitude, time, depth}\n"
     ]
    },
    {
     "name": "stderr",
     "output_type": "stream",
     "text": [
      " 23%|█████████▏                              | 336/1467 [02:52<10:23,  1.81it/s]/home/dIOGOLOC/programs/anaconda3/lib/python3.10/site-packages/glidertools/load/seaglider.py:227: GliderToolsWarning: dives was not found in the files\n",
      "  warnings.warn(msg, GliderToolsWarning)\n"
     ]
    },
    {
     "name": "stdout",
     "output_type": "stream",
     "text": [
      "\n",
      "DIMENSION: sg_data_point\n",
      "{latitude, longitude, time, depth}\n"
     ]
    },
    {
     "name": "stderr",
     "output_type": "stream",
     "text": [
      " 23%|█████████▏                              | 337/1467 [02:53<10:38,  1.77it/s]/home/dIOGOLOC/programs/anaconda3/lib/python3.10/site-packages/glidertools/load/seaglider.py:227: GliderToolsWarning: dives was not found in the files\n",
      "  warnings.warn(msg, GliderToolsWarning)\n"
     ]
    },
    {
     "name": "stdout",
     "output_type": "stream",
     "text": [
      "\n",
      "DIMENSION: sg_data_point\n",
      "{latitude, longitude, time, depth}\n"
     ]
    },
    {
     "name": "stderr",
     "output_type": "stream",
     "text": [
      " 23%|█████████▏                              | 338/1467 [02:54<10:22,  1.81it/s]/home/dIOGOLOC/programs/anaconda3/lib/python3.10/site-packages/glidertools/load/seaglider.py:227: GliderToolsWarning: dives was not found in the files\n",
      "  warnings.warn(msg, GliderToolsWarning)\n"
     ]
    },
    {
     "name": "stdout",
     "output_type": "stream",
     "text": [
      "\n",
      "DIMENSION: sg_data_point\n",
      "{latitude, longitude, time, depth}\n"
     ]
    },
    {
     "name": "stderr",
     "output_type": "stream",
     "text": [
      " 23%|█████████▏                              | 339/1467 [02:54<10:19,  1.82it/s]/home/dIOGOLOC/programs/anaconda3/lib/python3.10/site-packages/glidertools/load/seaglider.py:227: GliderToolsWarning: dives was not found in the files\n",
      "  warnings.warn(msg, GliderToolsWarning)\n"
     ]
    },
    {
     "name": "stdout",
     "output_type": "stream",
     "text": [
      "\n",
      "DIMENSION: sg_data_point\n",
      "{latitude, longitude, time, depth}\n"
     ]
    },
    {
     "name": "stderr",
     "output_type": "stream",
     "text": [
      " 23%|█████████▎                              | 340/1467 [02:55<10:07,  1.85it/s]/home/dIOGOLOC/programs/anaconda3/lib/python3.10/site-packages/glidertools/load/seaglider.py:227: GliderToolsWarning: dives was not found in the files\n",
      "  warnings.warn(msg, GliderToolsWarning)\n"
     ]
    },
    {
     "name": "stdout",
     "output_type": "stream",
     "text": [
      "\n",
      "DIMENSION: sg_data_point\n",
      "{latitude, longitude, time, depth}\n"
     ]
    },
    {
     "name": "stderr",
     "output_type": "stream",
     "text": [
      " 23%|█████████▎                              | 341/1467 [02:55<10:29,  1.79it/s]/home/dIOGOLOC/programs/anaconda3/lib/python3.10/site-packages/glidertools/load/seaglider.py:227: GliderToolsWarning: dives was not found in the files\n",
      "  warnings.warn(msg, GliderToolsWarning)\n"
     ]
    },
    {
     "name": "stdout",
     "output_type": "stream",
     "text": [
      "\n",
      "DIMENSION: sg_data_point\n",
      "{latitude, longitude, time, depth}\n"
     ]
    },
    {
     "name": "stderr",
     "output_type": "stream",
     "text": [
      " 23%|█████████▎                              | 342/1467 [02:56<10:16,  1.82it/s]/home/dIOGOLOC/programs/anaconda3/lib/python3.10/site-packages/glidertools/load/seaglider.py:227: GliderToolsWarning: dives was not found in the files\n",
      "  warnings.warn(msg, GliderToolsWarning)\n"
     ]
    },
    {
     "name": "stdout",
     "output_type": "stream",
     "text": [
      "\n",
      "DIMENSION: sg_data_point\n",
      "{latitude, longitude, time, depth}\n"
     ]
    },
    {
     "name": "stderr",
     "output_type": "stream",
     "text": [
      " 23%|█████████▎                              | 343/1467 [02:56<10:56,  1.71it/s]/home/dIOGOLOC/programs/anaconda3/lib/python3.10/site-packages/glidertools/load/seaglider.py:227: GliderToolsWarning: dives was not found in the files\n",
      "  warnings.warn(msg, GliderToolsWarning)\n"
     ]
    },
    {
     "name": "stdout",
     "output_type": "stream",
     "text": [
      "\n",
      "DIMENSION: sg_data_point\n",
      "{latitude, longitude, time, depth}\n"
     ]
    },
    {
     "name": "stderr",
     "output_type": "stream",
     "text": [
      " 23%|█████████▍                              | 344/1467 [02:57<10:48,  1.73it/s]/home/dIOGOLOC/programs/anaconda3/lib/python3.10/site-packages/glidertools/load/seaglider.py:227: GliderToolsWarning: dives was not found in the files\n",
      "  warnings.warn(msg, GliderToolsWarning)\n"
     ]
    },
    {
     "name": "stdout",
     "output_type": "stream",
     "text": [
      "\n",
      "DIMENSION: sg_data_point\n",
      "{latitude, longitude, time, depth}\n"
     ]
    },
    {
     "name": "stderr",
     "output_type": "stream",
     "text": [
      " 24%|█████████▍                              | 345/1467 [02:57<10:37,  1.76it/s]/home/dIOGOLOC/programs/anaconda3/lib/python3.10/site-packages/glidertools/load/seaglider.py:227: GliderToolsWarning: dives was not found in the files\n",
      "  warnings.warn(msg, GliderToolsWarning)\n"
     ]
    },
    {
     "name": "stdout",
     "output_type": "stream",
     "text": [
      "\n",
      "DIMENSION: sg_data_point\n",
      "{latitude, longitude, time, depth}\n"
     ]
    },
    {
     "name": "stderr",
     "output_type": "stream",
     "text": [
      " 24%|█████████▍                              | 346/1467 [02:58<10:29,  1.78it/s]/home/dIOGOLOC/programs/anaconda3/lib/python3.10/site-packages/glidertools/load/seaglider.py:227: GliderToolsWarning: dives was not found in the files\n",
      "  warnings.warn(msg, GliderToolsWarning)\n"
     ]
    },
    {
     "name": "stdout",
     "output_type": "stream",
     "text": [
      "\n",
      "DIMENSION: sg_data_point\n",
      "{latitude, longitude, time, depth}\n"
     ]
    },
    {
     "name": "stderr",
     "output_type": "stream",
     "text": [
      " 24%|█████████▍                              | 347/1467 [02:59<10:23,  1.80it/s]/home/dIOGOLOC/programs/anaconda3/lib/python3.10/site-packages/glidertools/load/seaglider.py:227: GliderToolsWarning: dives was not found in the files\n",
      "  warnings.warn(msg, GliderToolsWarning)\n"
     ]
    },
    {
     "name": "stdout",
     "output_type": "stream",
     "text": [
      "\n",
      "DIMENSION: sg_data_point\n",
      "{latitude, longitude, time, depth}\n"
     ]
    },
    {
     "name": "stderr",
     "output_type": "stream",
     "text": [
      " 24%|█████████▍                              | 348/1467 [02:59<10:24,  1.79it/s]/home/dIOGOLOC/programs/anaconda3/lib/python3.10/site-packages/glidertools/load/seaglider.py:227: GliderToolsWarning: dives was not found in the files\n",
      "  warnings.warn(msg, GliderToolsWarning)\n"
     ]
    },
    {
     "name": "stdout",
     "output_type": "stream",
     "text": [
      "\n",
      "DIMENSION: sg_data_point\n",
      "{latitude, longitude, time, depth}\n"
     ]
    },
    {
     "name": "stderr",
     "output_type": "stream",
     "text": [
      " 24%|█████████▌                              | 349/1467 [03:00<10:01,  1.86it/s]/home/dIOGOLOC/programs/anaconda3/lib/python3.10/site-packages/glidertools/load/seaglider.py:227: GliderToolsWarning: dives was not found in the files\n",
      "  warnings.warn(msg, GliderToolsWarning)\n"
     ]
    },
    {
     "name": "stdout",
     "output_type": "stream",
     "text": [
      "\n",
      "DIMENSION: sg_data_point\n",
      "{latitude, longitude, time, depth}\n"
     ]
    },
    {
     "name": "stderr",
     "output_type": "stream",
     "text": [
      " 24%|█████████▌                              | 350/1467 [03:00<09:59,  1.86it/s]/home/dIOGOLOC/programs/anaconda3/lib/python3.10/site-packages/glidertools/load/seaglider.py:227: GliderToolsWarning: dives was not found in the files\n",
      "  warnings.warn(msg, GliderToolsWarning)\n"
     ]
    },
    {
     "name": "stdout",
     "output_type": "stream",
     "text": [
      "\n",
      "DIMENSION: sg_data_point\n",
      "{latitude, longitude, time, depth}\n"
     ]
    },
    {
     "name": "stderr",
     "output_type": "stream",
     "text": [
      " 24%|█████████▌                              | 351/1467 [03:01<09:35,  1.94it/s]/home/dIOGOLOC/programs/anaconda3/lib/python3.10/site-packages/glidertools/load/seaglider.py:227: GliderToolsWarning: dives was not found in the files\n",
      "  warnings.warn(msg, GliderToolsWarning)\n"
     ]
    },
    {
     "name": "stdout",
     "output_type": "stream",
     "text": [
      "\n",
      "DIMENSION: sg_data_point\n",
      "{latitude, longitude, time, depth}\n"
     ]
    },
    {
     "name": "stderr",
     "output_type": "stream",
     "text": [
      " 24%|█████████▌                              | 352/1467 [03:01<09:42,  1.91it/s]/home/dIOGOLOC/programs/anaconda3/lib/python3.10/site-packages/glidertools/load/seaglider.py:227: GliderToolsWarning: dives was not found in the files\n",
      "  warnings.warn(msg, GliderToolsWarning)\n"
     ]
    },
    {
     "name": "stdout",
     "output_type": "stream",
     "text": [
      "\n",
      "DIMENSION: sg_data_point\n",
      "{latitude, longitude, time, depth}\n"
     ]
    },
    {
     "name": "stderr",
     "output_type": "stream",
     "text": [
      " 24%|█████████▋                              | 353/1467 [03:02<09:18,  2.00it/s]/home/dIOGOLOC/programs/anaconda3/lib/python3.10/site-packages/glidertools/load/seaglider.py:227: GliderToolsWarning: dives was not found in the files\n",
      "  warnings.warn(msg, GliderToolsWarning)\n"
     ]
    },
    {
     "name": "stdout",
     "output_type": "stream",
     "text": [
      "\n",
      "DIMENSION: sg_data_point\n",
      "{latitude, longitude, time, depth}\n"
     ]
    },
    {
     "name": "stderr",
     "output_type": "stream",
     "text": [
      " 24%|█████████▋                              | 354/1467 [03:02<10:16,  1.81it/s]/home/dIOGOLOC/programs/anaconda3/lib/python3.10/site-packages/glidertools/load/seaglider.py:227: GliderToolsWarning: dives was not found in the files\n",
      "  warnings.warn(msg, GliderToolsWarning)\n"
     ]
    },
    {
     "name": "stdout",
     "output_type": "stream",
     "text": [
      "\n",
      "DIMENSION: sg_data_point\n",
      "{latitude, longitude, time, depth}\n"
     ]
    },
    {
     "name": "stderr",
     "output_type": "stream",
     "text": [
      " 24%|█████████▋                              | 355/1467 [03:03<09:45,  1.90it/s]/home/dIOGOLOC/programs/anaconda3/lib/python3.10/site-packages/glidertools/load/seaglider.py:227: GliderToolsWarning: dives was not found in the files\n",
      "  warnings.warn(msg, GliderToolsWarning)\n"
     ]
    },
    {
     "name": "stdout",
     "output_type": "stream",
     "text": [
      "\n",
      "DIMENSION: sg_data_point\n",
      "{latitude, longitude, time, depth}\n"
     ]
    },
    {
     "name": "stderr",
     "output_type": "stream",
     "text": [
      " 24%|█████████▋                              | 356/1467 [03:03<09:49,  1.88it/s]/home/dIOGOLOC/programs/anaconda3/lib/python3.10/site-packages/glidertools/load/seaglider.py:227: GliderToolsWarning: dives was not found in the files\n",
      "  warnings.warn(msg, GliderToolsWarning)\n"
     ]
    },
    {
     "name": "stdout",
     "output_type": "stream",
     "text": [
      "\n",
      "DIMENSION: sg_data_point\n",
      "{latitude, longitude, time, depth}\n"
     ]
    },
    {
     "name": "stderr",
     "output_type": "stream",
     "text": [
      " 24%|█████████▋                              | 357/1467 [03:04<09:36,  1.92it/s]/home/dIOGOLOC/programs/anaconda3/lib/python3.10/site-packages/glidertools/load/seaglider.py:227: GliderToolsWarning: dives was not found in the files\n",
      "  warnings.warn(msg, GliderToolsWarning)\n"
     ]
    },
    {
     "name": "stdout",
     "output_type": "stream",
     "text": [
      "\n",
      "DIMENSION: sg_data_point\n",
      "{latitude, longitude, time, depth}\n"
     ]
    },
    {
     "name": "stderr",
     "output_type": "stream",
     "text": [
      " 24%|█████████▊                              | 358/1467 [03:04<09:38,  1.92it/s]/home/dIOGOLOC/programs/anaconda3/lib/python3.10/site-packages/glidertools/load/seaglider.py:227: GliderToolsWarning: dives was not found in the files\n",
      "  warnings.warn(msg, GliderToolsWarning)\n"
     ]
    },
    {
     "name": "stdout",
     "output_type": "stream",
     "text": [
      "\n",
      "DIMENSION: sg_data_point\n",
      "{latitude, longitude, time, depth}\n"
     ]
    },
    {
     "name": "stderr",
     "output_type": "stream",
     "text": [
      " 24%|█████████▊                              | 359/1467 [03:05<09:22,  1.97it/s]/home/dIOGOLOC/programs/anaconda3/lib/python3.10/site-packages/glidertools/load/seaglider.py:227: GliderToolsWarning: dives was not found in the files\n",
      "  warnings.warn(msg, GliderToolsWarning)\n"
     ]
    },
    {
     "name": "stdout",
     "output_type": "stream",
     "text": [
      "\n",
      "DIMENSION: sg_data_point\n",
      "{latitude, longitude, time, depth}\n"
     ]
    },
    {
     "name": "stderr",
     "output_type": "stream",
     "text": [
      " 25%|█████████▊                              | 360/1467 [03:05<09:33,  1.93it/s]/home/dIOGOLOC/programs/anaconda3/lib/python3.10/site-packages/glidertools/load/seaglider.py:227: GliderToolsWarning: dives was not found in the files\n",
      "  warnings.warn(msg, GliderToolsWarning)\n"
     ]
    },
    {
     "name": "stdout",
     "output_type": "stream",
     "text": [
      "\n",
      "DIMENSION: sg_data_point\n",
      "{latitude, longitude, time, depth}\n"
     ]
    },
    {
     "name": "stderr",
     "output_type": "stream",
     "text": [
      " 25%|█████████▊                              | 361/1467 [03:06<09:26,  1.95it/s]/home/dIOGOLOC/programs/anaconda3/lib/python3.10/site-packages/glidertools/load/seaglider.py:227: GliderToolsWarning: dives was not found in the files\n",
      "  warnings.warn(msg, GliderToolsWarning)\n"
     ]
    },
    {
     "name": "stdout",
     "output_type": "stream",
     "text": [
      "\n",
      "DIMENSION: sg_data_point\n",
      "{latitude, longitude, time, depth}\n"
     ]
    },
    {
     "name": "stderr",
     "output_type": "stream",
     "text": [
      " 25%|█████████▊                              | 362/1467 [03:06<09:20,  1.97it/s]/home/dIOGOLOC/programs/anaconda3/lib/python3.10/site-packages/glidertools/load/seaglider.py:227: GliderToolsWarning: dives was not found in the files\n",
      "  warnings.warn(msg, GliderToolsWarning)\n"
     ]
    },
    {
     "name": "stdout",
     "output_type": "stream",
     "text": [
      "\n",
      "DIMENSION: sg_data_point\n",
      "{latitude, longitude, time, depth}\n"
     ]
    },
    {
     "name": "stderr",
     "output_type": "stream",
     "text": [
      " 25%|█████████▉                              | 363/1467 [03:07<09:40,  1.90it/s]/home/dIOGOLOC/programs/anaconda3/lib/python3.10/site-packages/glidertools/load/seaglider.py:227: GliderToolsWarning: dives was not found in the files\n",
      "  warnings.warn(msg, GliderToolsWarning)\n"
     ]
    },
    {
     "name": "stdout",
     "output_type": "stream",
     "text": [
      "\n",
      "DIMENSION: sg_data_point\n",
      "{latitude, longitude, time, depth}\n"
     ]
    },
    {
     "name": "stderr",
     "output_type": "stream",
     "text": [
      " 25%|█████████▉                              | 364/1467 [03:08<10:22,  1.77it/s]/home/dIOGOLOC/programs/anaconda3/lib/python3.10/site-packages/glidertools/load/seaglider.py:227: GliderToolsWarning: dives was not found in the files\n",
      "  warnings.warn(msg, GliderToolsWarning)\n"
     ]
    },
    {
     "name": "stdout",
     "output_type": "stream",
     "text": [
      "\n",
      "DIMENSION: sg_data_point\n",
      "{latitude, longitude, time, depth}\n"
     ]
    },
    {
     "name": "stderr",
     "output_type": "stream",
     "text": [
      " 25%|█████████▉                              | 365/1467 [03:08<09:53,  1.86it/s]/home/dIOGOLOC/programs/anaconda3/lib/python3.10/site-packages/glidertools/load/seaglider.py:227: GliderToolsWarning: dives was not found in the files\n",
      "  warnings.warn(msg, GliderToolsWarning)\n"
     ]
    },
    {
     "name": "stdout",
     "output_type": "stream",
     "text": [
      "\n",
      "DIMENSION: sg_data_point\n",
      "{latitude, longitude, time, depth}\n"
     ]
    },
    {
     "name": "stderr",
     "output_type": "stream",
     "text": [
      " 25%|█████████▉                              | 366/1467 [03:09<10:12,  1.80it/s]/home/dIOGOLOC/programs/anaconda3/lib/python3.10/site-packages/glidertools/load/seaglider.py:227: GliderToolsWarning: dives was not found in the files\n",
      "  warnings.warn(msg, GliderToolsWarning)\n"
     ]
    },
    {
     "name": "stdout",
     "output_type": "stream",
     "text": [
      "\n",
      "DIMENSION: sg_data_point\n",
      "{latitude, longitude, time, depth}\n"
     ]
    },
    {
     "name": "stderr",
     "output_type": "stream",
     "text": [
      " 25%|██████████                              | 367/1467 [03:09<09:59,  1.83it/s]/home/dIOGOLOC/programs/anaconda3/lib/python3.10/site-packages/glidertools/load/seaglider.py:227: GliderToolsWarning: dives was not found in the files\n",
      "  warnings.warn(msg, GliderToolsWarning)\n"
     ]
    },
    {
     "name": "stdout",
     "output_type": "stream",
     "text": [
      "\n",
      "DIMENSION: sg_data_point\n",
      "{latitude, longitude, time, depth}\n"
     ]
    },
    {
     "name": "stderr",
     "output_type": "stream",
     "text": [
      " 25%|██████████                              | 368/1467 [03:10<10:13,  1.79it/s]/home/dIOGOLOC/programs/anaconda3/lib/python3.10/site-packages/glidertools/load/seaglider.py:227: GliderToolsWarning: dives was not found in the files\n",
      "  warnings.warn(msg, GliderToolsWarning)\n"
     ]
    },
    {
     "name": "stdout",
     "output_type": "stream",
     "text": [
      "\n",
      "DIMENSION: sg_data_point\n",
      "{latitude, longitude, time, depth}\n"
     ]
    },
    {
     "name": "stderr",
     "output_type": "stream",
     "text": [
      " 25%|██████████                              | 369/1467 [03:10<09:47,  1.87it/s]/home/dIOGOLOC/programs/anaconda3/lib/python3.10/site-packages/glidertools/load/seaglider.py:227: GliderToolsWarning: dives was not found in the files\n",
      "  warnings.warn(msg, GliderToolsWarning)\n"
     ]
    },
    {
     "name": "stdout",
     "output_type": "stream",
     "text": [
      "\n",
      "DIMENSION: sg_data_point\n",
      "{latitude, longitude, time, depth}\n"
     ]
    },
    {
     "name": "stderr",
     "output_type": "stream",
     "text": [
      " 25%|██████████                              | 370/1467 [03:11<09:49,  1.86it/s]/home/dIOGOLOC/programs/anaconda3/lib/python3.10/site-packages/glidertools/load/seaglider.py:227: GliderToolsWarning: dives was not found in the files\n",
      "  warnings.warn(msg, GliderToolsWarning)\n"
     ]
    },
    {
     "name": "stdout",
     "output_type": "stream",
     "text": [
      "\n",
      "DIMENSION: sg_data_point\n",
      "{latitude, longitude, time, depth}\n"
     ]
    },
    {
     "name": "stderr",
     "output_type": "stream",
     "text": [
      " 25%|██████████                              | 371/1467 [03:11<09:54,  1.84it/s]/home/dIOGOLOC/programs/anaconda3/lib/python3.10/site-packages/glidertools/load/seaglider.py:227: GliderToolsWarning: dives was not found in the files\n",
      "  warnings.warn(msg, GliderToolsWarning)\n"
     ]
    },
    {
     "name": "stdout",
     "output_type": "stream",
     "text": [
      "\n",
      "DIMENSION: sg_data_point\n",
      "{latitude, longitude, time, depth}\n"
     ]
    },
    {
     "name": "stderr",
     "output_type": "stream",
     "text": [
      " 25%|██████████▏                             | 372/1467 [03:12<09:46,  1.87it/s]/home/dIOGOLOC/programs/anaconda3/lib/python3.10/site-packages/glidertools/load/seaglider.py:227: GliderToolsWarning: dives was not found in the files\n",
      "  warnings.warn(msg, GliderToolsWarning)\n"
     ]
    },
    {
     "name": "stdout",
     "output_type": "stream",
     "text": [
      "\n",
      "DIMENSION: sg_data_point\n",
      "{latitude, longitude, time, depth}\n"
     ]
    },
    {
     "name": "stderr",
     "output_type": "stream",
     "text": [
      " 25%|██████████▏                             | 373/1467 [03:12<09:55,  1.84it/s]/home/dIOGOLOC/programs/anaconda3/lib/python3.10/site-packages/glidertools/load/seaglider.py:227: GliderToolsWarning: dives was not found in the files\n",
      "  warnings.warn(msg, GliderToolsWarning)\n"
     ]
    },
    {
     "name": "stdout",
     "output_type": "stream",
     "text": [
      "\n",
      "DIMENSION: sg_data_point\n",
      "{latitude, longitude, time, depth}\n"
     ]
    },
    {
     "name": "stderr",
     "output_type": "stream",
     "text": [
      " 25%|██████████▏                             | 374/1467 [03:13<10:03,  1.81it/s]/home/dIOGOLOC/programs/anaconda3/lib/python3.10/site-packages/glidertools/load/seaglider.py:227: GliderToolsWarning: dives was not found in the files\n",
      "  warnings.warn(msg, GliderToolsWarning)\n"
     ]
    },
    {
     "name": "stdout",
     "output_type": "stream",
     "text": [
      "\n",
      "DIMENSION: sg_data_point\n",
      "{latitude, longitude, time, depth}\n"
     ]
    },
    {
     "name": "stderr",
     "output_type": "stream",
     "text": [
      " 26%|██████████▏                             | 375/1467 [03:14<10:12,  1.78it/s]/home/dIOGOLOC/programs/anaconda3/lib/python3.10/site-packages/glidertools/load/seaglider.py:227: GliderToolsWarning: dives was not found in the files\n",
      "  warnings.warn(msg, GliderToolsWarning)\n"
     ]
    },
    {
     "name": "stdout",
     "output_type": "stream",
     "text": [
      "\n",
      "DIMENSION: sg_data_point\n",
      "{latitude, longitude, time, depth}\n"
     ]
    },
    {
     "name": "stderr",
     "output_type": "stream",
     "text": [
      " 26%|██████████▎                             | 376/1467 [03:14<10:05,  1.80it/s]/home/dIOGOLOC/programs/anaconda3/lib/python3.10/site-packages/glidertools/load/seaglider.py:227: GliderToolsWarning: dives was not found in the files\n",
      "  warnings.warn(msg, GliderToolsWarning)\n"
     ]
    },
    {
     "name": "stdout",
     "output_type": "stream",
     "text": [
      "\n",
      "DIMENSION: sg_data_point\n",
      "{latitude, longitude, time, depth}\n"
     ]
    },
    {
     "name": "stderr",
     "output_type": "stream",
     "text": [
      " 26%|██████████▎                             | 377/1467 [03:15<09:52,  1.84it/s]/home/dIOGOLOC/programs/anaconda3/lib/python3.10/site-packages/glidertools/load/seaglider.py:227: GliderToolsWarning: dives was not found in the files\n",
      "  warnings.warn(msg, GliderToolsWarning)\n"
     ]
    },
    {
     "name": "stdout",
     "output_type": "stream",
     "text": [
      "\n",
      "DIMENSION: sg_data_point\n",
      "{latitude, longitude, time, depth}\n"
     ]
    },
    {
     "name": "stderr",
     "output_type": "stream",
     "text": [
      " 26%|██████████▎                             | 378/1467 [03:15<09:45,  1.86it/s]/home/dIOGOLOC/programs/anaconda3/lib/python3.10/site-packages/glidertools/load/seaglider.py:227: GliderToolsWarning: dives was not found in the files\n",
      "  warnings.warn(msg, GliderToolsWarning)\n"
     ]
    },
    {
     "name": "stdout",
     "output_type": "stream",
     "text": [
      "\n",
      "DIMENSION: sg_data_point\n",
      "{latitude, longitude, time, depth}\n"
     ]
    },
    {
     "name": "stderr",
     "output_type": "stream",
     "text": [
      " 26%|██████████▎                             | 379/1467 [03:16<09:36,  1.89it/s]/home/dIOGOLOC/programs/anaconda3/lib/python3.10/site-packages/glidertools/load/seaglider.py:227: GliderToolsWarning: dives was not found in the files\n",
      "  warnings.warn(msg, GliderToolsWarning)\n"
     ]
    },
    {
     "name": "stdout",
     "output_type": "stream",
     "text": [
      "\n",
      "DIMENSION: sg_data_point\n",
      "{latitude, longitude, time, depth}\n"
     ]
    },
    {
     "name": "stderr",
     "output_type": "stream",
     "text": [
      " 26%|██████████▎                             | 380/1467 [03:16<09:50,  1.84it/s]/home/dIOGOLOC/programs/anaconda3/lib/python3.10/site-packages/glidertools/load/seaglider.py:227: GliderToolsWarning: dives was not found in the files\n",
      "  warnings.warn(msg, GliderToolsWarning)\n"
     ]
    },
    {
     "name": "stdout",
     "output_type": "stream",
     "text": [
      "\n",
      "DIMENSION: sg_data_point\n",
      "{latitude, longitude, time, depth}\n"
     ]
    },
    {
     "name": "stderr",
     "output_type": "stream",
     "text": [
      " 26%|██████████▍                             | 381/1467 [03:17<09:56,  1.82it/s]/home/dIOGOLOC/programs/anaconda3/lib/python3.10/site-packages/glidertools/load/seaglider.py:227: GliderToolsWarning: dives was not found in the files\n",
      "  warnings.warn(msg, GliderToolsWarning)\n"
     ]
    },
    {
     "name": "stdout",
     "output_type": "stream",
     "text": [
      "\n",
      "DIMENSION: sg_data_point\n",
      "{latitude, longitude, time, depth}\n"
     ]
    },
    {
     "name": "stderr",
     "output_type": "stream",
     "text": [
      " 26%|██████████▍                             | 382/1467 [03:17<10:04,  1.80it/s]/home/dIOGOLOC/programs/anaconda3/lib/python3.10/site-packages/glidertools/load/seaglider.py:227: GliderToolsWarning: dives was not found in the files\n",
      "  warnings.warn(msg, GliderToolsWarning)\n"
     ]
    },
    {
     "name": "stdout",
     "output_type": "stream",
     "text": [
      "\n",
      "DIMENSION: sg_data_point\n",
      "{latitude, longitude, time, depth}\n"
     ]
    },
    {
     "name": "stderr",
     "output_type": "stream",
     "text": [
      " 26%|██████████▍                             | 383/1467 [03:18<10:12,  1.77it/s]/home/dIOGOLOC/programs/anaconda3/lib/python3.10/site-packages/glidertools/load/seaglider.py:227: GliderToolsWarning: dives was not found in the files\n",
      "  warnings.warn(msg, GliderToolsWarning)\n"
     ]
    },
    {
     "name": "stdout",
     "output_type": "stream",
     "text": [
      "\n",
      "DIMENSION: sg_data_point\n",
      "{latitude, longitude, time, depth}\n"
     ]
    },
    {
     "name": "stderr",
     "output_type": "stream",
     "text": [
      " 26%|██████████▍                             | 384/1467 [03:19<10:38,  1.70it/s]/home/dIOGOLOC/programs/anaconda3/lib/python3.10/site-packages/glidertools/load/seaglider.py:227: GliderToolsWarning: dives was not found in the files\n",
      "  warnings.warn(msg, GliderToolsWarning)\n"
     ]
    },
    {
     "name": "stdout",
     "output_type": "stream",
     "text": [
      "\n",
      "DIMENSION: sg_data_point\n",
      "{latitude, longitude, time, depth}\n"
     ]
    },
    {
     "name": "stderr",
     "output_type": "stream",
     "text": [
      " 26%|██████████▍                             | 385/1467 [03:19<10:11,  1.77it/s]/home/dIOGOLOC/programs/anaconda3/lib/python3.10/site-packages/glidertools/load/seaglider.py:227: GliderToolsWarning: dives was not found in the files\n",
      "  warnings.warn(msg, GliderToolsWarning)\n"
     ]
    },
    {
     "name": "stdout",
     "output_type": "stream",
     "text": [
      "\n",
      "DIMENSION: sg_data_point\n",
      "{latitude, longitude, time, depth}\n"
     ]
    },
    {
     "name": "stderr",
     "output_type": "stream",
     "text": [
      " 26%|██████████▌                             | 386/1467 [03:20<10:20,  1.74it/s]/home/dIOGOLOC/programs/anaconda3/lib/python3.10/site-packages/glidertools/load/seaglider.py:227: GliderToolsWarning: dives was not found in the files\n",
      "  warnings.warn(msg, GliderToolsWarning)\n"
     ]
    },
    {
     "name": "stdout",
     "output_type": "stream",
     "text": [
      "\n",
      "DIMENSION: sg_data_point\n",
      "{latitude, longitude, time, depth}\n"
     ]
    },
    {
     "name": "stderr",
     "output_type": "stream",
     "text": [
      " 26%|██████████▌                             | 387/1467 [03:20<10:01,  1.80it/s]/home/dIOGOLOC/programs/anaconda3/lib/python3.10/site-packages/glidertools/load/seaglider.py:227: GliderToolsWarning: dives was not found in the files\n",
      "  warnings.warn(msg, GliderToolsWarning)\n"
     ]
    },
    {
     "name": "stdout",
     "output_type": "stream",
     "text": [
      "\n",
      "DIMENSION: sg_data_point\n",
      "{latitude, longitude, time, depth}\n"
     ]
    },
    {
     "name": "stderr",
     "output_type": "stream",
     "text": [
      " 26%|██████████▌                             | 388/1467 [03:21<09:26,  1.91it/s]/home/dIOGOLOC/programs/anaconda3/lib/python3.10/site-packages/glidertools/load/seaglider.py:227: GliderToolsWarning: dives was not found in the files\n",
      "  warnings.warn(msg, GliderToolsWarning)\n"
     ]
    },
    {
     "name": "stdout",
     "output_type": "stream",
     "text": [
      "\n",
      "DIMENSION: sg_data_point\n",
      "{latitude, longitude, time, depth}\n"
     ]
    },
    {
     "name": "stderr",
     "output_type": "stream",
     "text": [
      " 27%|██████████▌                             | 389/1467 [03:21<09:23,  1.91it/s]/home/dIOGOLOC/programs/anaconda3/lib/python3.10/site-packages/glidertools/load/seaglider.py:227: GliderToolsWarning: dives was not found in the files\n",
      "  warnings.warn(msg, GliderToolsWarning)\n"
     ]
    },
    {
     "name": "stdout",
     "output_type": "stream",
     "text": [
      "\n",
      "DIMENSION: sg_data_point\n",
      "{latitude, longitude, time, depth}\n"
     ]
    },
    {
     "name": "stderr",
     "output_type": "stream",
     "text": [
      " 27%|██████████▋                             | 390/1467 [03:22<09:33,  1.88it/s]/home/dIOGOLOC/programs/anaconda3/lib/python3.10/site-packages/glidertools/load/seaglider.py:227: GliderToolsWarning: dives was not found in the files\n",
      "  warnings.warn(msg, GliderToolsWarning)\n"
     ]
    },
    {
     "name": "stdout",
     "output_type": "stream",
     "text": [
      "\n",
      "DIMENSION: sg_data_point\n",
      "{latitude, longitude, time, depth}\n"
     ]
    },
    {
     "name": "stderr",
     "output_type": "stream",
     "text": [
      " 27%|██████████▋                             | 391/1467 [03:22<09:28,  1.89it/s]/home/dIOGOLOC/programs/anaconda3/lib/python3.10/site-packages/glidertools/load/seaglider.py:227: GliderToolsWarning: dives was not found in the files\n",
      "  warnings.warn(msg, GliderToolsWarning)\n"
     ]
    },
    {
     "name": "stdout",
     "output_type": "stream",
     "text": [
      "\n",
      "DIMENSION: sg_data_point\n",
      "{latitude, longitude, time, depth}\n"
     ]
    },
    {
     "name": "stderr",
     "output_type": "stream",
     "text": [
      " 27%|██████████▋                             | 392/1467 [03:23<09:27,  1.89it/s]/home/dIOGOLOC/programs/anaconda3/lib/python3.10/site-packages/glidertools/load/seaglider.py:227: GliderToolsWarning: dives was not found in the files\n",
      "  warnings.warn(msg, GliderToolsWarning)\n"
     ]
    },
    {
     "name": "stdout",
     "output_type": "stream",
     "text": [
      "\n",
      "DIMENSION: sg_data_point\n",
      "{latitude, longitude, time, depth}\n"
     ]
    },
    {
     "name": "stderr",
     "output_type": "stream",
     "text": [
      " 27%|██████████▋                             | 393/1467 [03:23<09:28,  1.89it/s]/home/dIOGOLOC/programs/anaconda3/lib/python3.10/site-packages/glidertools/load/seaglider.py:227: GliderToolsWarning: dives was not found in the files\n",
      "  warnings.warn(msg, GliderToolsWarning)\n"
     ]
    },
    {
     "name": "stdout",
     "output_type": "stream",
     "text": [
      "\n",
      "DIMENSION: sg_data_point\n",
      "{latitude, longitude, time, depth}\n"
     ]
    },
    {
     "name": "stderr",
     "output_type": "stream",
     "text": [
      " 27%|██████████▋                             | 394/1467 [03:24<09:41,  1.85it/s]/home/dIOGOLOC/programs/anaconda3/lib/python3.10/site-packages/glidertools/load/seaglider.py:227: GliderToolsWarning: dives was not found in the files\n",
      "  warnings.warn(msg, GliderToolsWarning)\n"
     ]
    },
    {
     "name": "stdout",
     "output_type": "stream",
     "text": [
      "\n",
      "DIMENSION: sg_data_point\n",
      "{latitude, longitude, time, depth}\n"
     ]
    },
    {
     "name": "stderr",
     "output_type": "stream",
     "text": [
      " 27%|██████████▊                             | 395/1467 [03:25<10:28,  1.71it/s]/home/dIOGOLOC/programs/anaconda3/lib/python3.10/site-packages/glidertools/load/seaglider.py:227: GliderToolsWarning: dives was not found in the files\n",
      "  warnings.warn(msg, GliderToolsWarning)\n"
     ]
    },
    {
     "name": "stdout",
     "output_type": "stream",
     "text": [
      "\n",
      "DIMENSION: sg_data_point\n",
      "{latitude, longitude, time, depth}\n"
     ]
    },
    {
     "name": "stderr",
     "output_type": "stream",
     "text": [
      " 27%|██████████▊                             | 396/1467 [03:25<10:31,  1.70it/s]/home/dIOGOLOC/programs/anaconda3/lib/python3.10/site-packages/glidertools/load/seaglider.py:227: GliderToolsWarning: dives was not found in the files\n",
      "  warnings.warn(msg, GliderToolsWarning)\n"
     ]
    },
    {
     "name": "stdout",
     "output_type": "stream",
     "text": [
      "\n",
      "DIMENSION: sg_data_point\n",
      "{latitude, longitude, time, depth}\n"
     ]
    },
    {
     "name": "stderr",
     "output_type": "stream",
     "text": [
      " 27%|██████████▊                             | 397/1467 [03:26<10:15,  1.74it/s]/home/dIOGOLOC/programs/anaconda3/lib/python3.10/site-packages/glidertools/load/seaglider.py:227: GliderToolsWarning: dives was not found in the files\n",
      "  warnings.warn(msg, GliderToolsWarning)\n"
     ]
    },
    {
     "name": "stdout",
     "output_type": "stream",
     "text": [
      "\n",
      "DIMENSION: sg_data_point\n",
      "{latitude, longitude, time, depth}\n"
     ]
    },
    {
     "name": "stderr",
     "output_type": "stream",
     "text": [
      " 27%|██████████▊                             | 398/1467 [03:26<10:10,  1.75it/s]/home/dIOGOLOC/programs/anaconda3/lib/python3.10/site-packages/glidertools/load/seaglider.py:227: GliderToolsWarning: dives was not found in the files\n",
      "  warnings.warn(msg, GliderToolsWarning)\n"
     ]
    },
    {
     "name": "stdout",
     "output_type": "stream",
     "text": [
      "\n",
      "DIMENSION: sg_data_point\n",
      "{latitude, longitude, time, depth}\n"
     ]
    },
    {
     "name": "stderr",
     "output_type": "stream",
     "text": [
      " 27%|██████████▉                             | 399/1467 [03:27<10:02,  1.77it/s]/home/dIOGOLOC/programs/anaconda3/lib/python3.10/site-packages/glidertools/load/seaglider.py:227: GliderToolsWarning: dives was not found in the files\n",
      "  warnings.warn(msg, GliderToolsWarning)\n"
     ]
    },
    {
     "name": "stdout",
     "output_type": "stream",
     "text": [
      "\n",
      "DIMENSION: sg_data_point\n",
      "{latitude, longitude, time, depth}\n"
     ]
    },
    {
     "name": "stderr",
     "output_type": "stream",
     "text": [
      " 27%|██████████▉                             | 400/1467 [03:27<10:00,  1.78it/s]/home/dIOGOLOC/programs/anaconda3/lib/python3.10/site-packages/glidertools/load/seaglider.py:227: GliderToolsWarning: dives was not found in the files\n",
      "  warnings.warn(msg, GliderToolsWarning)\n"
     ]
    },
    {
     "name": "stdout",
     "output_type": "stream",
     "text": [
      "\n",
      "DIMENSION: sg_data_point\n",
      "{latitude, longitude, time, depth}\n"
     ]
    },
    {
     "name": "stderr",
     "output_type": "stream",
     "text": [
      " 27%|██████████▉                             | 401/1467 [03:28<09:43,  1.83it/s]/home/dIOGOLOC/programs/anaconda3/lib/python3.10/site-packages/glidertools/load/seaglider.py:227: GliderToolsWarning: dives was not found in the files\n",
      "  warnings.warn(msg, GliderToolsWarning)\n"
     ]
    },
    {
     "name": "stdout",
     "output_type": "stream",
     "text": [
      "\n",
      "DIMENSION: sg_data_point\n",
      "{latitude, longitude, time, depth}\n"
     ]
    },
    {
     "name": "stderr",
     "output_type": "stream",
     "text": [
      " 27%|██████████▉                             | 402/1467 [03:28<09:07,  1.94it/s]/home/dIOGOLOC/programs/anaconda3/lib/python3.10/site-packages/glidertools/load/seaglider.py:227: GliderToolsWarning: dives was not found in the files\n",
      "  warnings.warn(msg, GliderToolsWarning)\n"
     ]
    },
    {
     "name": "stdout",
     "output_type": "stream",
     "text": [
      "\n",
      "DIMENSION: sg_data_point\n",
      "{latitude, longitude, time, depth}\n"
     ]
    },
    {
     "name": "stderr",
     "output_type": "stream",
     "text": [
      " 27%|██████████▉                             | 403/1467 [03:29<08:45,  2.02it/s]/home/dIOGOLOC/programs/anaconda3/lib/python3.10/site-packages/glidertools/load/seaglider.py:227: GliderToolsWarning: dives was not found in the files\n",
      "  warnings.warn(msg, GliderToolsWarning)\n"
     ]
    },
    {
     "name": "stdout",
     "output_type": "stream",
     "text": [
      "\n",
      "DIMENSION: sg_data_point\n",
      "{latitude, longitude, time, depth}\n"
     ]
    },
    {
     "name": "stderr",
     "output_type": "stream",
     "text": [
      " 28%|███████████                             | 404/1467 [03:29<08:57,  1.98it/s]/home/dIOGOLOC/programs/anaconda3/lib/python3.10/site-packages/glidertools/load/seaglider.py:227: GliderToolsWarning: dives was not found in the files\n",
      "  warnings.warn(msg, GliderToolsWarning)\n"
     ]
    },
    {
     "name": "stdout",
     "output_type": "stream",
     "text": [
      "\n",
      "DIMENSION: sg_data_point\n",
      "{latitude, longitude, time, depth}\n"
     ]
    },
    {
     "name": "stderr",
     "output_type": "stream",
     "text": [
      " 28%|███████████                             | 405/1467 [03:30<09:47,  1.81it/s]/home/dIOGOLOC/programs/anaconda3/lib/python3.10/site-packages/glidertools/load/seaglider.py:227: GliderToolsWarning: dives was not found in the files\n",
      "  warnings.warn(msg, GliderToolsWarning)\n"
     ]
    },
    {
     "name": "stdout",
     "output_type": "stream",
     "text": [
      "\n",
      "DIMENSION: sg_data_point\n",
      "{latitude, longitude, time, depth}\n"
     ]
    },
    {
     "name": "stderr",
     "output_type": "stream",
     "text": [
      " 28%|███████████                             | 406/1467 [03:30<09:29,  1.86it/s]/home/dIOGOLOC/programs/anaconda3/lib/python3.10/site-packages/glidertools/load/seaglider.py:227: GliderToolsWarning: dives was not found in the files\n",
      "  warnings.warn(msg, GliderToolsWarning)\n"
     ]
    },
    {
     "name": "stdout",
     "output_type": "stream",
     "text": [
      "\n",
      "DIMENSION: sg_data_point\n",
      "{latitude, longitude, time, depth}\n"
     ]
    },
    {
     "name": "stderr",
     "output_type": "stream",
     "text": [
      " 28%|███████████                             | 407/1467 [03:31<09:30,  1.86it/s]/home/dIOGOLOC/programs/anaconda3/lib/python3.10/site-packages/glidertools/load/seaglider.py:227: GliderToolsWarning: dives was not found in the files\n",
      "  warnings.warn(msg, GliderToolsWarning)\n"
     ]
    },
    {
     "name": "stdout",
     "output_type": "stream",
     "text": [
      "\n",
      "DIMENSION: sg_data_point\n",
      "{latitude, longitude, time, depth}\n"
     ]
    },
    {
     "name": "stderr",
     "output_type": "stream",
     "text": [
      " 28%|███████████                             | 408/1467 [03:32<09:18,  1.90it/s]/home/dIOGOLOC/programs/anaconda3/lib/python3.10/site-packages/glidertools/load/seaglider.py:227: GliderToolsWarning: dives was not found in the files\n",
      "  warnings.warn(msg, GliderToolsWarning)\n"
     ]
    },
    {
     "name": "stdout",
     "output_type": "stream",
     "text": [
      "\n",
      "DIMENSION: sg_data_point\n",
      "{latitude, longitude, time, depth}\n"
     ]
    },
    {
     "name": "stderr",
     "output_type": "stream",
     "text": [
      " 28%|███████████▏                            | 409/1467 [03:32<08:51,  1.99it/s]/home/dIOGOLOC/programs/anaconda3/lib/python3.10/site-packages/glidertools/load/seaglider.py:227: GliderToolsWarning: dives was not found in the files\n",
      "  warnings.warn(msg, GliderToolsWarning)\n"
     ]
    },
    {
     "name": "stdout",
     "output_type": "stream",
     "text": [
      "\n",
      "DIMENSION: sg_data_point\n",
      "{latitude, longitude, time, depth}\n"
     ]
    },
    {
     "name": "stderr",
     "output_type": "stream",
     "text": [
      " 28%|███████████▏                            | 410/1467 [03:32<08:47,  2.00it/s]/home/dIOGOLOC/programs/anaconda3/lib/python3.10/site-packages/glidertools/load/seaglider.py:227: GliderToolsWarning: dives was not found in the files\n",
      "  warnings.warn(msg, GliderToolsWarning)\n"
     ]
    },
    {
     "name": "stdout",
     "output_type": "stream",
     "text": [
      "\n",
      "DIMENSION: sg_data_point\n",
      "{latitude, longitude, time, depth}\n"
     ]
    },
    {
     "name": "stderr",
     "output_type": "stream",
     "text": [
      " 28%|███████████▏                            | 411/1467 [03:33<08:33,  2.06it/s]/home/dIOGOLOC/programs/anaconda3/lib/python3.10/site-packages/glidertools/load/seaglider.py:227: GliderToolsWarning: dives was not found in the files\n",
      "  warnings.warn(msg, GliderToolsWarning)\n"
     ]
    },
    {
     "name": "stdout",
     "output_type": "stream",
     "text": [
      "\n",
      "DIMENSION: sg_data_point\n",
      "{latitude, longitude, time, depth}\n"
     ]
    },
    {
     "name": "stderr",
     "output_type": "stream",
     "text": [
      " 28%|███████████▏                            | 412/1467 [03:33<08:20,  2.11it/s]/home/dIOGOLOC/programs/anaconda3/lib/python3.10/site-packages/glidertools/load/seaglider.py:227: GliderToolsWarning: dives was not found in the files\n",
      "  warnings.warn(msg, GliderToolsWarning)\n"
     ]
    },
    {
     "name": "stdout",
     "output_type": "stream",
     "text": [
      "\n",
      "DIMENSION: sg_data_point\n",
      "{latitude, longitude, time, depth}\n"
     ]
    },
    {
     "name": "stderr",
     "output_type": "stream",
     "text": [
      " 28%|███████████▎                            | 413/1467 [03:34<08:14,  2.13it/s]/home/dIOGOLOC/programs/anaconda3/lib/python3.10/site-packages/glidertools/load/seaglider.py:227: GliderToolsWarning: dives was not found in the files\n",
      "  warnings.warn(msg, GliderToolsWarning)\n"
     ]
    },
    {
     "name": "stdout",
     "output_type": "stream",
     "text": [
      "\n",
      "DIMENSION: sg_data_point\n",
      "{latitude, longitude, time, depth}\n"
     ]
    },
    {
     "name": "stderr",
     "output_type": "stream",
     "text": [
      " 28%|███████████▎                            | 414/1467 [03:34<08:35,  2.04it/s]/home/dIOGOLOC/programs/anaconda3/lib/python3.10/site-packages/glidertools/load/seaglider.py:227: GliderToolsWarning: dives was not found in the files\n",
      "  warnings.warn(msg, GliderToolsWarning)\n"
     ]
    },
    {
     "name": "stdout",
     "output_type": "stream",
     "text": [
      "\n",
      "DIMENSION: sg_data_point\n",
      "{latitude, longitude, time, depth}\n"
     ]
    },
    {
     "name": "stderr",
     "output_type": "stream",
     "text": [
      " 28%|███████████▎                            | 415/1467 [03:35<08:17,  2.11it/s]/home/dIOGOLOC/programs/anaconda3/lib/python3.10/site-packages/glidertools/load/seaglider.py:227: GliderToolsWarning: dives was not found in the files\n",
      "  warnings.warn(msg, GliderToolsWarning)\n"
     ]
    },
    {
     "name": "stdout",
     "output_type": "stream",
     "text": [
      "\n",
      "DIMENSION: sg_data_point\n",
      "{latitude, longitude, time, depth}\n"
     ]
    },
    {
     "name": "stderr",
     "output_type": "stream",
     "text": [
      " 28%|███████████▎                            | 416/1467 [03:35<08:11,  2.14it/s]/home/dIOGOLOC/programs/anaconda3/lib/python3.10/site-packages/glidertools/load/seaglider.py:227: GliderToolsWarning: dives was not found in the files\n",
      "  warnings.warn(msg, GliderToolsWarning)\n"
     ]
    },
    {
     "name": "stdout",
     "output_type": "stream",
     "text": [
      "\n",
      "DIMENSION: sg_data_point\n",
      "{latitude, longitude, time, depth}\n"
     ]
    },
    {
     "name": "stderr",
     "output_type": "stream",
     "text": [
      " 28%|███████████▎                            | 417/1467 [03:36<08:08,  2.15it/s]/home/dIOGOLOC/programs/anaconda3/lib/python3.10/site-packages/glidertools/load/seaglider.py:227: GliderToolsWarning: dives was not found in the files\n",
      "  warnings.warn(msg, GliderToolsWarning)\n"
     ]
    },
    {
     "name": "stdout",
     "output_type": "stream",
     "text": [
      "\n",
      "DIMENSION: sg_data_point\n",
      "{latitude, longitude, time, depth}\n"
     ]
    },
    {
     "name": "stderr",
     "output_type": "stream",
     "text": [
      " 28%|███████████▍                            | 418/1467 [03:36<08:06,  2.16it/s]/home/dIOGOLOC/programs/anaconda3/lib/python3.10/site-packages/glidertools/load/seaglider.py:227: GliderToolsWarning: dives was not found in the files\n",
      "  warnings.warn(msg, GliderToolsWarning)\n"
     ]
    },
    {
     "name": "stdout",
     "output_type": "stream",
     "text": [
      "\n",
      "DIMENSION: sg_data_point\n",
      "{latitude, longitude, time, depth}\n"
     ]
    },
    {
     "name": "stderr",
     "output_type": "stream",
     "text": [
      " 29%|███████████▍                            | 419/1467 [03:37<08:08,  2.15it/s]/home/dIOGOLOC/programs/anaconda3/lib/python3.10/site-packages/glidertools/load/seaglider.py:227: GliderToolsWarning: dives was not found in the files\n",
      "  warnings.warn(msg, GliderToolsWarning)\n"
     ]
    },
    {
     "name": "stdout",
     "output_type": "stream",
     "text": [
      "\n",
      "DIMENSION: sg_data_point\n",
      "{latitude, longitude, time, depth}\n"
     ]
    },
    {
     "name": "stderr",
     "output_type": "stream",
     "text": [
      " 29%|███████████▍                            | 420/1467 [03:37<08:03,  2.17it/s]/home/dIOGOLOC/programs/anaconda3/lib/python3.10/site-packages/glidertools/load/seaglider.py:227: GliderToolsWarning: dives was not found in the files\n",
      "  warnings.warn(msg, GliderToolsWarning)\n"
     ]
    },
    {
     "name": "stdout",
     "output_type": "stream",
     "text": [
      "\n",
      "DIMENSION: sg_data_point\n",
      "{latitude, longitude, time, depth}\n"
     ]
    },
    {
     "name": "stderr",
     "output_type": "stream",
     "text": [
      " 29%|███████████▍                            | 421/1467 [03:38<08:28,  2.06it/s]/home/dIOGOLOC/programs/anaconda3/lib/python3.10/site-packages/glidertools/load/seaglider.py:227: GliderToolsWarning: dives was not found in the files\n",
      "  warnings.warn(msg, GliderToolsWarning)\n"
     ]
    },
    {
     "name": "stdout",
     "output_type": "stream",
     "text": [
      "\n",
      "DIMENSION: sg_data_point\n",
      "{latitude, longitude, time, depth}\n"
     ]
    },
    {
     "name": "stderr",
     "output_type": "stream",
     "text": [
      " 29%|███████████▌                            | 422/1467 [03:38<08:26,  2.06it/s]/home/dIOGOLOC/programs/anaconda3/lib/python3.10/site-packages/glidertools/load/seaglider.py:227: GliderToolsWarning: dives was not found in the files\n",
      "  warnings.warn(msg, GliderToolsWarning)\n"
     ]
    },
    {
     "name": "stdout",
     "output_type": "stream",
     "text": [
      "\n",
      "DIMENSION: sg_data_point\n",
      "{latitude, longitude, time, depth}\n"
     ]
    },
    {
     "name": "stderr",
     "output_type": "stream",
     "text": [
      " 29%|███████████▌                            | 423/1467 [03:39<09:17,  1.87it/s]/home/dIOGOLOC/programs/anaconda3/lib/python3.10/site-packages/glidertools/load/seaglider.py:227: GliderToolsWarning: dives was not found in the files\n",
      "  warnings.warn(msg, GliderToolsWarning)\n"
     ]
    },
    {
     "name": "stdout",
     "output_type": "stream",
     "text": [
      "\n",
      "DIMENSION: sg_data_point\n",
      "{latitude, longitude, time, depth}\n"
     ]
    },
    {
     "name": "stderr",
     "output_type": "stream",
     "text": [
      " 29%|███████████▌                            | 424/1467 [03:39<09:49,  1.77it/s]/home/dIOGOLOC/programs/anaconda3/lib/python3.10/site-packages/glidertools/load/seaglider.py:227: GliderToolsWarning: dives was not found in the files\n",
      "  warnings.warn(msg, GliderToolsWarning)\n"
     ]
    },
    {
     "name": "stdout",
     "output_type": "stream",
     "text": [
      "\n",
      "DIMENSION: sg_data_point\n",
      "{latitude, longitude, time, depth}\n"
     ]
    },
    {
     "name": "stderr",
     "output_type": "stream",
     "text": [
      " 29%|███████████▌                            | 425/1467 [03:40<10:55,  1.59it/s]/home/dIOGOLOC/programs/anaconda3/lib/python3.10/site-packages/glidertools/load/seaglider.py:227: GliderToolsWarning: dives was not found in the files\n",
      "  warnings.warn(msg, GliderToolsWarning)\n"
     ]
    },
    {
     "name": "stdout",
     "output_type": "stream",
     "text": [
      "\n",
      "DIMENSION: sg_data_point\n",
      "{latitude, longitude, time, depth}\n"
     ]
    },
    {
     "name": "stderr",
     "output_type": "stream",
     "text": [
      " 29%|███████████▌                            | 426/1467 [03:41<10:13,  1.70it/s]/home/dIOGOLOC/programs/anaconda3/lib/python3.10/site-packages/glidertools/load/seaglider.py:227: GliderToolsWarning: dives was not found in the files\n",
      "  warnings.warn(msg, GliderToolsWarning)\n"
     ]
    },
    {
     "name": "stdout",
     "output_type": "stream",
     "text": [
      "\n",
      "DIMENSION: sg_data_point\n",
      "{latitude, longitude, time, depth}\n"
     ]
    },
    {
     "name": "stderr",
     "output_type": "stream",
     "text": [
      " 29%|███████████▋                            | 427/1467 [03:41<09:44,  1.78it/s]/home/dIOGOLOC/programs/anaconda3/lib/python3.10/site-packages/glidertools/load/seaglider.py:227: GliderToolsWarning: dives was not found in the files\n",
      "  warnings.warn(msg, GliderToolsWarning)\n"
     ]
    },
    {
     "name": "stdout",
     "output_type": "stream",
     "text": [
      "\n",
      "DIMENSION: sg_data_point\n",
      "{latitude, longitude, time, depth}\n"
     ]
    },
    {
     "name": "stderr",
     "output_type": "stream",
     "text": [
      " 29%|███████████▋                            | 428/1467 [03:42<09:15,  1.87it/s]/home/dIOGOLOC/programs/anaconda3/lib/python3.10/site-packages/glidertools/load/seaglider.py:227: GliderToolsWarning: dives was not found in the files\n",
      "  warnings.warn(msg, GliderToolsWarning)\n"
     ]
    },
    {
     "name": "stdout",
     "output_type": "stream",
     "text": [
      "\n",
      "DIMENSION: sg_data_point\n",
      "{latitude, longitude, time, depth}\n"
     ]
    },
    {
     "name": "stderr",
     "output_type": "stream",
     "text": [
      " 29%|███████████▋                            | 429/1467 [03:42<09:29,  1.82it/s]/home/dIOGOLOC/programs/anaconda3/lib/python3.10/site-packages/glidertools/load/seaglider.py:227: GliderToolsWarning: dives was not found in the files\n",
      "  warnings.warn(msg, GliderToolsWarning)\n"
     ]
    },
    {
     "name": "stdout",
     "output_type": "stream",
     "text": [
      "\n",
      "DIMENSION: sg_data_point\n",
      "{latitude, longitude, time, depth}\n"
     ]
    },
    {
     "name": "stderr",
     "output_type": "stream",
     "text": [
      " 29%|███████████▋                            | 430/1467 [03:43<09:05,  1.90it/s]/home/dIOGOLOC/programs/anaconda3/lib/python3.10/site-packages/glidertools/load/seaglider.py:227: GliderToolsWarning: dives was not found in the files\n",
      "  warnings.warn(msg, GliderToolsWarning)\n"
     ]
    },
    {
     "name": "stdout",
     "output_type": "stream",
     "text": [
      "\n",
      "DIMENSION: sg_data_point\n",
      "{latitude, longitude, time, depth}\n"
     ]
    },
    {
     "name": "stderr",
     "output_type": "stream",
     "text": [
      " 29%|███████████▊                            | 431/1467 [03:43<09:16,  1.86it/s]/home/dIOGOLOC/programs/anaconda3/lib/python3.10/site-packages/glidertools/load/seaglider.py:227: GliderToolsWarning: dives was not found in the files\n",
      "  warnings.warn(msg, GliderToolsWarning)\n"
     ]
    },
    {
     "name": "stdout",
     "output_type": "stream",
     "text": [
      "\n",
      "DIMENSION: sg_data_point\n",
      "{latitude, longitude, time, depth}\n"
     ]
    },
    {
     "name": "stderr",
     "output_type": "stream",
     "text": [
      " 29%|███████████▊                            | 432/1467 [03:44<08:52,  1.94it/s]/home/dIOGOLOC/programs/anaconda3/lib/python3.10/site-packages/glidertools/load/seaglider.py:227: GliderToolsWarning: dives was not found in the files\n",
      "  warnings.warn(msg, GliderToolsWarning)\n"
     ]
    },
    {
     "name": "stdout",
     "output_type": "stream",
     "text": [
      "\n",
      "DIMENSION: sg_data_point\n",
      "{latitude, longitude, time, depth}\n"
     ]
    },
    {
     "name": "stderr",
     "output_type": "stream",
     "text": [
      " 30%|███████████▊                            | 433/1467 [03:44<08:40,  1.99it/s]/home/dIOGOLOC/programs/anaconda3/lib/python3.10/site-packages/glidertools/load/seaglider.py:227: GliderToolsWarning: dives was not found in the files\n",
      "  warnings.warn(msg, GliderToolsWarning)\n"
     ]
    },
    {
     "name": "stdout",
     "output_type": "stream",
     "text": [
      "\n",
      "DIMENSION: sg_data_point\n",
      "{latitude, longitude, time, depth}\n"
     ]
    },
    {
     "name": "stderr",
     "output_type": "stream",
     "text": [
      " 30%|███████████▊                            | 434/1467 [03:45<08:36,  2.00it/s]/home/dIOGOLOC/programs/anaconda3/lib/python3.10/site-packages/glidertools/load/seaglider.py:227: GliderToolsWarning: dives was not found in the files\n",
      "  warnings.warn(msg, GliderToolsWarning)\n"
     ]
    },
    {
     "name": "stdout",
     "output_type": "stream",
     "text": [
      "\n",
      "DIMENSION: sg_data_point\n",
      "{latitude, longitude, time, depth}\n"
     ]
    },
    {
     "name": "stderr",
     "output_type": "stream",
     "text": [
      " 30%|███████████▊                            | 435/1467 [03:45<08:26,  2.04it/s]/home/dIOGOLOC/programs/anaconda3/lib/python3.10/site-packages/glidertools/load/seaglider.py:227: GliderToolsWarning: dives was not found in the files\n",
      "  warnings.warn(msg, GliderToolsWarning)\n"
     ]
    },
    {
     "name": "stdout",
     "output_type": "stream",
     "text": [
      "\n",
      "DIMENSION: sg_data_point\n",
      "{latitude, longitude, time, depth}\n"
     ]
    },
    {
     "name": "stderr",
     "output_type": "stream",
     "text": [
      " 30%|███████████▉                            | 436/1467 [03:46<08:49,  1.95it/s]/home/dIOGOLOC/programs/anaconda3/lib/python3.10/site-packages/glidertools/load/seaglider.py:227: GliderToolsWarning: dives was not found in the files\n",
      "  warnings.warn(msg, GliderToolsWarning)\n"
     ]
    },
    {
     "name": "stdout",
     "output_type": "stream",
     "text": [
      "\n",
      "DIMENSION: sg_data_point\n",
      "{latitude, longitude, time, depth}\n"
     ]
    },
    {
     "name": "stderr",
     "output_type": "stream",
     "text": [
      " 30%|███████████▉                            | 437/1467 [03:46<08:31,  2.01it/s]/home/dIOGOLOC/programs/anaconda3/lib/python3.10/site-packages/glidertools/load/seaglider.py:227: GliderToolsWarning: dives was not found in the files\n",
      "  warnings.warn(msg, GliderToolsWarning)\n"
     ]
    },
    {
     "name": "stdout",
     "output_type": "stream",
     "text": [
      "\n",
      "DIMENSION: sg_data_point\n",
      "{latitude, longitude, time, depth}\n"
     ]
    },
    {
     "name": "stderr",
     "output_type": "stream",
     "text": [
      " 30%|███████████▉                            | 438/1467 [03:47<08:23,  2.04it/s]/home/dIOGOLOC/programs/anaconda3/lib/python3.10/site-packages/glidertools/load/seaglider.py:227: GliderToolsWarning: dives was not found in the files\n",
      "  warnings.warn(msg, GliderToolsWarning)\n"
     ]
    },
    {
     "name": "stdout",
     "output_type": "stream",
     "text": [
      "\n",
      "DIMENSION: sg_data_point\n",
      "{latitude, longitude, time, depth}\n"
     ]
    },
    {
     "name": "stderr",
     "output_type": "stream",
     "text": [
      " 30%|███████████▉                            | 439/1467 [03:47<08:29,  2.02it/s]/home/dIOGOLOC/programs/anaconda3/lib/python3.10/site-packages/glidertools/load/seaglider.py:227: GliderToolsWarning: dives was not found in the files\n",
      "  warnings.warn(msg, GliderToolsWarning)\n"
     ]
    },
    {
     "name": "stdout",
     "output_type": "stream",
     "text": [
      "\n",
      "DIMENSION: sg_data_point\n",
      "{latitude, longitude, time, depth}\n"
     ]
    },
    {
     "name": "stderr",
     "output_type": "stream",
     "text": [
      " 30%|███████████▉                            | 440/1467 [03:48<08:10,  2.09it/s]/home/dIOGOLOC/programs/anaconda3/lib/python3.10/site-packages/glidertools/load/seaglider.py:227: GliderToolsWarning: dives was not found in the files\n",
      "  warnings.warn(msg, GliderToolsWarning)\n"
     ]
    },
    {
     "name": "stdout",
     "output_type": "stream",
     "text": [
      "\n",
      "DIMENSION: sg_data_point\n",
      "{latitude, longitude, time, depth}\n"
     ]
    },
    {
     "name": "stderr",
     "output_type": "stream",
     "text": [
      " 30%|████████████                            | 441/1467 [03:48<07:59,  2.14it/s]/home/dIOGOLOC/programs/anaconda3/lib/python3.10/site-packages/glidertools/load/seaglider.py:227: GliderToolsWarning: dives was not found in the files\n",
      "  warnings.warn(msg, GliderToolsWarning)\n"
     ]
    },
    {
     "name": "stdout",
     "output_type": "stream",
     "text": [
      "\n",
      "DIMENSION: sg_data_point\n",
      "{latitude, longitude, time, depth}\n"
     ]
    },
    {
     "name": "stderr",
     "output_type": "stream",
     "text": [
      " 30%|████████████                            | 442/1467 [03:48<07:49,  2.18it/s]/home/dIOGOLOC/programs/anaconda3/lib/python3.10/site-packages/glidertools/load/seaglider.py:227: GliderToolsWarning: dives was not found in the files\n",
      "  warnings.warn(msg, GliderToolsWarning)\n"
     ]
    },
    {
     "name": "stdout",
     "output_type": "stream",
     "text": [
      "\n",
      "DIMENSION: sg_data_point\n",
      "{latitude, longitude, time, depth}\n"
     ]
    },
    {
     "name": "stderr",
     "output_type": "stream",
     "text": [
      " 30%|████████████                            | 443/1467 [03:49<08:15,  2.07it/s]/home/dIOGOLOC/programs/anaconda3/lib/python3.10/site-packages/glidertools/load/seaglider.py:227: GliderToolsWarning: dives was not found in the files\n",
      "  warnings.warn(msg, GliderToolsWarning)\n"
     ]
    },
    {
     "name": "stdout",
     "output_type": "stream",
     "text": [
      "\n",
      "DIMENSION: sg_data_point\n",
      "{latitude, longitude, time, depth}\n"
     ]
    },
    {
     "name": "stderr",
     "output_type": "stream",
     "text": [
      " 30%|████████████                            | 444/1467 [03:49<08:11,  2.08it/s]/home/dIOGOLOC/programs/anaconda3/lib/python3.10/site-packages/glidertools/load/seaglider.py:227: GliderToolsWarning: dives was not found in the files\n",
      "  warnings.warn(msg, GliderToolsWarning)\n"
     ]
    },
    {
     "name": "stdout",
     "output_type": "stream",
     "text": [
      "\n",
      "DIMENSION: sg_data_point\n",
      "{latitude, longitude, time, depth}\n"
     ]
    },
    {
     "name": "stderr",
     "output_type": "stream",
     "text": [
      " 30%|████████████▏                           | 445/1467 [03:50<08:01,  2.12it/s]/home/dIOGOLOC/programs/anaconda3/lib/python3.10/site-packages/glidertools/load/seaglider.py:227: GliderToolsWarning: dives was not found in the files\n",
      "  warnings.warn(msg, GliderToolsWarning)\n"
     ]
    },
    {
     "name": "stdout",
     "output_type": "stream",
     "text": [
      "\n",
      "DIMENSION: sg_data_point\n",
      "{latitude, longitude, time, depth}\n"
     ]
    },
    {
     "name": "stderr",
     "output_type": "stream",
     "text": [
      " 30%|████████████▏                           | 446/1467 [03:50<08:18,  2.05it/s]/home/dIOGOLOC/programs/anaconda3/lib/python3.10/site-packages/glidertools/load/seaglider.py:227: GliderToolsWarning: dives was not found in the files\n",
      "  warnings.warn(msg, GliderToolsWarning)\n"
     ]
    },
    {
     "name": "stdout",
     "output_type": "stream",
     "text": [
      "\n",
      "DIMENSION: sg_data_point\n",
      "{latitude, longitude, time, depth}\n"
     ]
    },
    {
     "name": "stderr",
     "output_type": "stream",
     "text": [
      " 30%|████████████▏                           | 447/1467 [03:51<08:10,  2.08it/s]/home/dIOGOLOC/programs/anaconda3/lib/python3.10/site-packages/glidertools/load/seaglider.py:227: GliderToolsWarning: dives was not found in the files\n",
      "  warnings.warn(msg, GliderToolsWarning)\n"
     ]
    },
    {
     "name": "stdout",
     "output_type": "stream",
     "text": [
      "\n",
      "DIMENSION: sg_data_point\n",
      "{latitude, longitude, time, depth}\n"
     ]
    },
    {
     "name": "stderr",
     "output_type": "stream",
     "text": [
      " 31%|████████████▏                           | 448/1467 [03:52<08:57,  1.90it/s]/home/dIOGOLOC/programs/anaconda3/lib/python3.10/site-packages/glidertools/load/seaglider.py:227: GliderToolsWarning: dives was not found in the files\n",
      "  warnings.warn(msg, GliderToolsWarning)\n"
     ]
    },
    {
     "name": "stdout",
     "output_type": "stream",
     "text": [
      "\n",
      "DIMENSION: sg_data_point\n",
      "{latitude, longitude, time, depth}\n"
     ]
    },
    {
     "name": "stderr",
     "output_type": "stream",
     "text": [
      " 31%|████████████▏                           | 449/1467 [03:52<08:34,  1.98it/s]/home/dIOGOLOC/programs/anaconda3/lib/python3.10/site-packages/glidertools/load/seaglider.py:227: GliderToolsWarning: dives was not found in the files\n",
      "  warnings.warn(msg, GliderToolsWarning)\n"
     ]
    },
    {
     "name": "stdout",
     "output_type": "stream",
     "text": [
      "\n",
      "DIMENSION: sg_data_point\n",
      "{latitude, longitude, time, depth}\n"
     ]
    },
    {
     "name": "stderr",
     "output_type": "stream",
     "text": [
      " 31%|████████████▎                           | 450/1467 [03:52<08:24,  2.02it/s]/home/dIOGOLOC/programs/anaconda3/lib/python3.10/site-packages/glidertools/load/seaglider.py:227: GliderToolsWarning: dives was not found in the files\n",
      "  warnings.warn(msg, GliderToolsWarning)\n"
     ]
    },
    {
     "name": "stdout",
     "output_type": "stream",
     "text": [
      "\n",
      "DIMENSION: sg_data_point\n",
      "{latitude, longitude, time, depth}\n"
     ]
    },
    {
     "name": "stderr",
     "output_type": "stream",
     "text": [
      " 31%|████████████▎                           | 451/1467 [03:53<08:33,  1.98it/s]/home/dIOGOLOC/programs/anaconda3/lib/python3.10/site-packages/glidertools/load/seaglider.py:227: GliderToolsWarning: dives was not found in the files\n",
      "  warnings.warn(msg, GliderToolsWarning)\n"
     ]
    },
    {
     "name": "stdout",
     "output_type": "stream",
     "text": [
      "\n",
      "DIMENSION: sg_data_point\n",
      "{latitude, longitude, time, depth}\n"
     ]
    },
    {
     "name": "stderr",
     "output_type": "stream",
     "text": [
      " 31%|████████████▎                           | 452/1467 [03:53<08:23,  2.02it/s]/home/dIOGOLOC/programs/anaconda3/lib/python3.10/site-packages/glidertools/load/seaglider.py:227: GliderToolsWarning: dives was not found in the files\n",
      "  warnings.warn(msg, GliderToolsWarning)\n"
     ]
    },
    {
     "name": "stdout",
     "output_type": "stream",
     "text": [
      "\n",
      "DIMENSION: sg_data_point\n",
      "{latitude, longitude, time, depth}\n"
     ]
    },
    {
     "name": "stderr",
     "output_type": "stream",
     "text": [
      " 31%|████████████▎                           | 453/1467 [03:54<08:32,  1.98it/s]/home/dIOGOLOC/programs/anaconda3/lib/python3.10/site-packages/glidertools/load/seaglider.py:227: GliderToolsWarning: dives was not found in the files\n",
      "  warnings.warn(msg, GliderToolsWarning)\n"
     ]
    },
    {
     "name": "stdout",
     "output_type": "stream",
     "text": [
      "\n",
      "DIMENSION: sg_data_point\n",
      "{latitude, longitude, time, depth}\n"
     ]
    },
    {
     "name": "stderr",
     "output_type": "stream",
     "text": [
      " 31%|████████████▍                           | 454/1467 [03:54<08:23,  2.01it/s]/home/dIOGOLOC/programs/anaconda3/lib/python3.10/site-packages/glidertools/load/seaglider.py:227: GliderToolsWarning: dives was not found in the files\n",
      "  warnings.warn(msg, GliderToolsWarning)\n"
     ]
    },
    {
     "name": "stdout",
     "output_type": "stream",
     "text": [
      "\n",
      "DIMENSION: sg_data_point\n",
      "{latitude, longitude, time, depth}\n"
     ]
    },
    {
     "name": "stderr",
     "output_type": "stream",
     "text": [
      " 31%|████████████▍                           | 455/1467 [03:55<08:15,  2.04it/s]/home/dIOGOLOC/programs/anaconda3/lib/python3.10/site-packages/glidertools/load/seaglider.py:227: GliderToolsWarning: dives was not found in the files\n",
      "  warnings.warn(msg, GliderToolsWarning)\n"
     ]
    },
    {
     "name": "stdout",
     "output_type": "stream",
     "text": [
      "\n",
      "DIMENSION: sg_data_point\n",
      "{latitude, longitude, time, depth}\n"
     ]
    },
    {
     "name": "stderr",
     "output_type": "stream",
     "text": [
      " 31%|████████████▍                           | 456/1467 [03:56<08:29,  1.99it/s]/home/dIOGOLOC/programs/anaconda3/lib/python3.10/site-packages/glidertools/load/seaglider.py:227: GliderToolsWarning: dives was not found in the files\n",
      "  warnings.warn(msg, GliderToolsWarning)\n"
     ]
    },
    {
     "name": "stdout",
     "output_type": "stream",
     "text": [
      "\n",
      "DIMENSION: sg_data_point\n",
      "{latitude, longitude, time, depth}\n"
     ]
    },
    {
     "name": "stderr",
     "output_type": "stream",
     "text": [
      " 31%|████████████▍                           | 457/1467 [03:56<08:20,  2.02it/s]/home/dIOGOLOC/programs/anaconda3/lib/python3.10/site-packages/glidertools/load/seaglider.py:227: GliderToolsWarning: dives was not found in the files\n",
      "  warnings.warn(msg, GliderToolsWarning)\n"
     ]
    },
    {
     "name": "stdout",
     "output_type": "stream",
     "text": [
      "\n",
      "DIMENSION: sg_data_point\n",
      "{latitude, longitude, time, depth}\n"
     ]
    },
    {
     "name": "stderr",
     "output_type": "stream",
     "text": [
      " 31%|████████████▍                           | 458/1467 [03:57<08:39,  1.94it/s]/home/dIOGOLOC/programs/anaconda3/lib/python3.10/site-packages/glidertools/load/seaglider.py:227: GliderToolsWarning: dives was not found in the files\n",
      "  warnings.warn(msg, GliderToolsWarning)\n"
     ]
    },
    {
     "name": "stdout",
     "output_type": "stream",
     "text": [
      "\n",
      "DIMENSION: sg_data_point\n",
      "{latitude, longitude, time, depth}\n"
     ]
    },
    {
     "name": "stderr",
     "output_type": "stream",
     "text": [
      " 31%|████████████▌                           | 459/1467 [03:57<08:20,  2.02it/s]/home/dIOGOLOC/programs/anaconda3/lib/python3.10/site-packages/glidertools/load/seaglider.py:227: GliderToolsWarning: dives was not found in the files\n",
      "  warnings.warn(msg, GliderToolsWarning)\n"
     ]
    },
    {
     "name": "stdout",
     "output_type": "stream",
     "text": [
      "\n",
      "DIMENSION: sg_data_point\n",
      "{latitude, longitude, time, depth}\n"
     ]
    },
    {
     "name": "stderr",
     "output_type": "stream",
     "text": [
      " 31%|████████████▌                           | 460/1467 [03:58<08:34,  1.96it/s]/home/dIOGOLOC/programs/anaconda3/lib/python3.10/site-packages/glidertools/load/seaglider.py:227: GliderToolsWarning: dives was not found in the files\n",
      "  warnings.warn(msg, GliderToolsWarning)\n"
     ]
    },
    {
     "name": "stdout",
     "output_type": "stream",
     "text": [
      "\n",
      "DIMENSION: sg_data_point\n",
      "{latitude, longitude, time, depth}\n"
     ]
    },
    {
     "name": "stderr",
     "output_type": "stream",
     "text": [
      " 31%|████████████▌                           | 461/1467 [03:58<08:25,  1.99it/s]/home/dIOGOLOC/programs/anaconda3/lib/python3.10/site-packages/glidertools/load/seaglider.py:227: GliderToolsWarning: dives was not found in the files\n",
      "  warnings.warn(msg, GliderToolsWarning)\n"
     ]
    },
    {
     "name": "stdout",
     "output_type": "stream",
     "text": [
      "\n",
      "DIMENSION: sg_data_point\n",
      "{latitude, longitude, time, depth}\n"
     ]
    },
    {
     "name": "stderr",
     "output_type": "stream",
     "text": [
      " 31%|████████████▌                           | 462/1467 [03:59<09:05,  1.84it/s]/home/dIOGOLOC/programs/anaconda3/lib/python3.10/site-packages/glidertools/load/seaglider.py:227: GliderToolsWarning: dives was not found in the files\n",
      "  warnings.warn(msg, GliderToolsWarning)\n"
     ]
    },
    {
     "name": "stdout",
     "output_type": "stream",
     "text": [
      "\n",
      "DIMENSION: sg_data_point\n",
      "{latitude, longitude, time, depth}\n"
     ]
    },
    {
     "name": "stderr",
     "output_type": "stream",
     "text": [
      " 32%|████████████▌                           | 463/1467 [03:59<09:28,  1.77it/s]/home/dIOGOLOC/programs/anaconda3/lib/python3.10/site-packages/glidertools/load/seaglider.py:227: GliderToolsWarning: dives was not found in the files\n",
      "  warnings.warn(msg, GliderToolsWarning)\n"
     ]
    },
    {
     "name": "stdout",
     "output_type": "stream",
     "text": [
      "\n",
      "DIMENSION: sg_data_point\n",
      "{latitude, longitude, time, depth}\n"
     ]
    },
    {
     "name": "stderr",
     "output_type": "stream",
     "text": [
      " 32%|████████████▋                           | 464/1467 [04:00<09:09,  1.83it/s]/home/dIOGOLOC/programs/anaconda3/lib/python3.10/site-packages/glidertools/load/seaglider.py:227: GliderToolsWarning: dives was not found in the files\n",
      "  warnings.warn(msg, GliderToolsWarning)\n"
     ]
    },
    {
     "name": "stdout",
     "output_type": "stream",
     "text": [
      "\n",
      "DIMENSION: sg_data_point\n",
      "{latitude, longitude, time, depth}\n"
     ]
    },
    {
     "name": "stderr",
     "output_type": "stream",
     "text": [
      " 32%|████████████▋                           | 465/1467 [04:00<08:57,  1.86it/s]/home/dIOGOLOC/programs/anaconda3/lib/python3.10/site-packages/glidertools/load/seaglider.py:227: GliderToolsWarning: dives was not found in the files\n",
      "  warnings.warn(msg, GliderToolsWarning)\n"
     ]
    },
    {
     "name": "stdout",
     "output_type": "stream",
     "text": [
      "\n",
      "DIMENSION: sg_data_point\n",
      "{latitude, longitude, time, depth}\n"
     ]
    },
    {
     "name": "stderr",
     "output_type": "stream",
     "text": [
      " 32%|████████████▋                           | 466/1467 [04:01<08:38,  1.93it/s]/home/dIOGOLOC/programs/anaconda3/lib/python3.10/site-packages/glidertools/load/seaglider.py:227: GliderToolsWarning: dives was not found in the files\n",
      "  warnings.warn(msg, GliderToolsWarning)\n"
     ]
    },
    {
     "name": "stdout",
     "output_type": "stream",
     "text": [
      "\n",
      "DIMENSION: sg_data_point\n",
      "{latitude, longitude, time, depth}\n"
     ]
    },
    {
     "name": "stderr",
     "output_type": "stream",
     "text": [
      " 32%|████████████▋                           | 467/1467 [04:01<08:26,  1.97it/s]/home/dIOGOLOC/programs/anaconda3/lib/python3.10/site-packages/glidertools/load/seaglider.py:227: GliderToolsWarning: dives was not found in the files\n",
      "  warnings.warn(msg, GliderToolsWarning)\n"
     ]
    },
    {
     "name": "stdout",
     "output_type": "stream",
     "text": [
      "\n",
      "DIMENSION: sg_data_point\n",
      "{latitude, longitude, time, depth}\n"
     ]
    },
    {
     "name": "stderr",
     "output_type": "stream",
     "text": [
      " 32%|████████████▊                           | 468/1467 [04:02<08:15,  2.01it/s]/home/dIOGOLOC/programs/anaconda3/lib/python3.10/site-packages/glidertools/load/seaglider.py:227: GliderToolsWarning: dives was not found in the files\n",
      "  warnings.warn(msg, GliderToolsWarning)\n"
     ]
    },
    {
     "name": "stdout",
     "output_type": "stream",
     "text": [
      "\n",
      "DIMENSION: sg_data_point\n",
      "{latitude, longitude, time, depth}\n"
     ]
    },
    {
     "name": "stderr",
     "output_type": "stream",
     "text": [
      " 32%|████████████▊                           | 469/1467 [04:02<09:07,  1.82it/s]/home/dIOGOLOC/programs/anaconda3/lib/python3.10/site-packages/glidertools/load/seaglider.py:227: GliderToolsWarning: dives was not found in the files\n",
      "  warnings.warn(msg, GliderToolsWarning)\n"
     ]
    },
    {
     "name": "stdout",
     "output_type": "stream",
     "text": [
      "\n",
      "DIMENSION: sg_data_point\n",
      "{latitude, longitude, time, depth}\n"
     ]
    },
    {
     "name": "stderr",
     "output_type": "stream",
     "text": [
      " 32%|████████████▊                           | 470/1467 [04:03<08:43,  1.90it/s]/home/dIOGOLOC/programs/anaconda3/lib/python3.10/site-packages/glidertools/load/seaglider.py:227: GliderToolsWarning: dives was not found in the files\n",
      "  warnings.warn(msg, GliderToolsWarning)\n"
     ]
    },
    {
     "name": "stdout",
     "output_type": "stream",
     "text": [
      "\n",
      "DIMENSION: sg_data_point\n",
      "{latitude, longitude, time, depth}\n"
     ]
    },
    {
     "name": "stderr",
     "output_type": "stream",
     "text": [
      " 32%|████████████▊                           | 471/1467 [04:03<08:30,  1.95it/s]/home/dIOGOLOC/programs/anaconda3/lib/python3.10/site-packages/glidertools/load/seaglider.py:227: GliderToolsWarning: dives was not found in the files\n",
      "  warnings.warn(msg, GliderToolsWarning)\n"
     ]
    },
    {
     "name": "stdout",
     "output_type": "stream",
     "text": [
      "\n",
      "DIMENSION: sg_data_point\n",
      "{latitude, longitude, time, depth}\n"
     ]
    },
    {
     "name": "stderr",
     "output_type": "stream",
     "text": [
      " 32%|████████████▊                           | 472/1467 [04:04<08:34,  1.93it/s]/home/dIOGOLOC/programs/anaconda3/lib/python3.10/site-packages/glidertools/load/seaglider.py:227: GliderToolsWarning: dives was not found in the files\n",
      "  warnings.warn(msg, GliderToolsWarning)\n"
     ]
    },
    {
     "name": "stdout",
     "output_type": "stream",
     "text": [
      "\n",
      "DIMENSION: sg_data_point\n",
      "{latitude, longitude, time, depth}\n"
     ]
    },
    {
     "name": "stderr",
     "output_type": "stream",
     "text": [
      " 32%|████████████▉                           | 473/1467 [04:04<08:21,  1.98it/s]/home/dIOGOLOC/programs/anaconda3/lib/python3.10/site-packages/glidertools/load/seaglider.py:227: GliderToolsWarning: dives was not found in the files\n",
      "  warnings.warn(msg, GliderToolsWarning)\n"
     ]
    },
    {
     "name": "stdout",
     "output_type": "stream",
     "text": [
      "\n",
      "DIMENSION: sg_data_point\n",
      "{latitude, longitude, time, depth}\n"
     ]
    },
    {
     "name": "stderr",
     "output_type": "stream",
     "text": [
      " 32%|████████████▉                           | 474/1467 [04:05<08:17,  2.00it/s]/home/dIOGOLOC/programs/anaconda3/lib/python3.10/site-packages/glidertools/load/seaglider.py:227: GliderToolsWarning: dives was not found in the files\n",
      "  warnings.warn(msg, GliderToolsWarning)\n"
     ]
    },
    {
     "name": "stdout",
     "output_type": "stream",
     "text": [
      "\n",
      "DIMENSION: sg_data_point\n",
      "{latitude, longitude, time, depth}\n"
     ]
    },
    {
     "name": "stderr",
     "output_type": "stream",
     "text": [
      " 32%|████████████▉                           | 475/1467 [04:05<08:10,  2.02it/s]/home/dIOGOLOC/programs/anaconda3/lib/python3.10/site-packages/glidertools/load/seaglider.py:227: GliderToolsWarning: dives was not found in the files\n",
      "  warnings.warn(msg, GliderToolsWarning)\n"
     ]
    },
    {
     "name": "stdout",
     "output_type": "stream",
     "text": [
      "\n",
      "DIMENSION: sg_data_point\n",
      "{latitude, longitude, time, depth}\n"
     ]
    },
    {
     "name": "stderr",
     "output_type": "stream",
     "text": [
      " 32%|████████████▉                           | 476/1467 [04:06<08:24,  1.96it/s]/home/dIOGOLOC/programs/anaconda3/lib/python3.10/site-packages/glidertools/load/seaglider.py:227: GliderToolsWarning: dives was not found in the files\n",
      "  warnings.warn(msg, GliderToolsWarning)\n"
     ]
    },
    {
     "name": "stdout",
     "output_type": "stream",
     "text": [
      "\n",
      "DIMENSION: sg_data_point\n",
      "{latitude, longitude, time, depth}\n"
     ]
    },
    {
     "name": "stderr",
     "output_type": "stream",
     "text": [
      " 33%|█████████████                           | 477/1467 [04:06<08:23,  1.97it/s]/home/dIOGOLOC/programs/anaconda3/lib/python3.10/site-packages/glidertools/load/seaglider.py:227: GliderToolsWarning: dives was not found in the files\n",
      "  warnings.warn(msg, GliderToolsWarning)\n"
     ]
    },
    {
     "name": "stdout",
     "output_type": "stream",
     "text": [
      "\n",
      "DIMENSION: sg_data_point\n",
      "{latitude, longitude, time, depth}\n"
     ]
    },
    {
     "name": "stderr",
     "output_type": "stream",
     "text": [
      " 33%|█████████████                           | 478/1467 [04:07<08:14,  2.00it/s]/home/dIOGOLOC/programs/anaconda3/lib/python3.10/site-packages/glidertools/load/seaglider.py:227: GliderToolsWarning: dives was not found in the files\n",
      "  warnings.warn(msg, GliderToolsWarning)\n"
     ]
    },
    {
     "name": "stdout",
     "output_type": "stream",
     "text": [
      "\n",
      "DIMENSION: sg_data_point\n",
      "{latitude, longitude, time, depth}\n"
     ]
    },
    {
     "name": "stderr",
     "output_type": "stream",
     "text": [
      " 33%|█████████████                           | 479/1467 [04:07<08:07,  2.02it/s]/home/dIOGOLOC/programs/anaconda3/lib/python3.10/site-packages/glidertools/load/seaglider.py:227: GliderToolsWarning: dives was not found in the files\n",
      "  warnings.warn(msg, GliderToolsWarning)\n"
     ]
    },
    {
     "name": "stdout",
     "output_type": "stream",
     "text": [
      "\n",
      "DIMENSION: sg_data_point\n",
      "{latitude, longitude, time, depth}\n"
     ]
    },
    {
     "name": "stderr",
     "output_type": "stream",
     "text": [
      " 33%|█████████████                           | 480/1467 [04:08<08:33,  1.92it/s]/home/dIOGOLOC/programs/anaconda3/lib/python3.10/site-packages/glidertools/load/seaglider.py:227: GliderToolsWarning: dives was not found in the files\n",
      "  warnings.warn(msg, GliderToolsWarning)\n"
     ]
    },
    {
     "name": "stdout",
     "output_type": "stream",
     "text": [
      "\n",
      "DIMENSION: sg_data_point\n",
      "{latitude, longitude, time, depth}\n"
     ]
    },
    {
     "name": "stderr",
     "output_type": "stream",
     "text": [
      " 33%|█████████████                           | 481/1467 [04:08<08:24,  1.95it/s]/home/dIOGOLOC/programs/anaconda3/lib/python3.10/site-packages/glidertools/load/seaglider.py:227: GliderToolsWarning: dives was not found in the files\n",
      "  warnings.warn(msg, GliderToolsWarning)\n"
     ]
    },
    {
     "name": "stdout",
     "output_type": "stream",
     "text": [
      "\n",
      "DIMENSION: sg_data_point\n",
      "{latitude, longitude, time, depth}\n"
     ]
    },
    {
     "name": "stderr",
     "output_type": "stream",
     "text": [
      " 33%|█████████████▏                          | 482/1467 [04:09<08:08,  2.01it/s]/home/dIOGOLOC/programs/anaconda3/lib/python3.10/site-packages/glidertools/load/seaglider.py:227: GliderToolsWarning: dives was not found in the files\n",
      "  warnings.warn(msg, GliderToolsWarning)\n"
     ]
    },
    {
     "name": "stdout",
     "output_type": "stream",
     "text": [
      "\n",
      "DIMENSION: sg_data_point\n",
      "{latitude, longitude, time, depth}\n"
     ]
    },
    {
     "name": "stderr",
     "output_type": "stream",
     "text": [
      " 33%|█████████████▏                          | 483/1467 [04:09<08:01,  2.04it/s]/home/dIOGOLOC/programs/anaconda3/lib/python3.10/site-packages/glidertools/load/seaglider.py:227: GliderToolsWarning: dives was not found in the files\n",
      "  warnings.warn(msg, GliderToolsWarning)\n"
     ]
    },
    {
     "name": "stdout",
     "output_type": "stream",
     "text": [
      "\n",
      "DIMENSION: sg_data_point\n",
      "{latitude, longitude, time, depth}\n"
     ]
    },
    {
     "name": "stderr",
     "output_type": "stream",
     "text": [
      " 33%|█████████████▏                          | 484/1467 [04:10<07:53,  2.08it/s]/home/dIOGOLOC/programs/anaconda3/lib/python3.10/site-packages/glidertools/load/seaglider.py:227: GliderToolsWarning: dives was not found in the files\n",
      "  warnings.warn(msg, GliderToolsWarning)\n"
     ]
    },
    {
     "name": "stdout",
     "output_type": "stream",
     "text": [
      "\n",
      "DIMENSION: sg_data_point\n",
      "{latitude, longitude, time, depth}\n"
     ]
    },
    {
     "name": "stderr",
     "output_type": "stream",
     "text": [
      " 33%|█████████████▏                          | 485/1467 [04:10<08:14,  1.99it/s]/home/dIOGOLOC/programs/anaconda3/lib/python3.10/site-packages/glidertools/load/seaglider.py:227: GliderToolsWarning: dives was not found in the files\n",
      "  warnings.warn(msg, GliderToolsWarning)\n"
     ]
    },
    {
     "name": "stdout",
     "output_type": "stream",
     "text": [
      "\n",
      "DIMENSION: sg_data_point\n",
      "{latitude, longitude, time, depth}\n"
     ]
    },
    {
     "name": "stderr",
     "output_type": "stream",
     "text": [
      " 33%|█████████████▎                          | 486/1467 [04:11<08:03,  2.03it/s]/home/dIOGOLOC/programs/anaconda3/lib/python3.10/site-packages/glidertools/load/seaglider.py:227: GliderToolsWarning: dives was not found in the files\n",
      "  warnings.warn(msg, GliderToolsWarning)\n"
     ]
    },
    {
     "name": "stdout",
     "output_type": "stream",
     "text": [
      "\n",
      "DIMENSION: sg_data_point\n",
      "{latitude, longitude, time, depth}\n"
     ]
    },
    {
     "name": "stderr",
     "output_type": "stream",
     "text": [
      " 33%|█████████████▎                          | 487/1467 [04:11<07:47,  2.09it/s]/home/dIOGOLOC/programs/anaconda3/lib/python3.10/site-packages/glidertools/load/seaglider.py:227: GliderToolsWarning: dives was not found in the files\n",
      "  warnings.warn(msg, GliderToolsWarning)\n"
     ]
    },
    {
     "name": "stdout",
     "output_type": "stream",
     "text": [
      "\n",
      "DIMENSION: sg_data_point\n",
      "{latitude, longitude, time, depth}\n"
     ]
    },
    {
     "name": "stderr",
     "output_type": "stream",
     "text": [
      " 33%|█████████████▎                          | 488/1467 [04:12<07:38,  2.13it/s]/home/dIOGOLOC/programs/anaconda3/lib/python3.10/site-packages/glidertools/load/seaglider.py:227: GliderToolsWarning: dives was not found in the files\n",
      "  warnings.warn(msg, GliderToolsWarning)\n"
     ]
    },
    {
     "name": "stdout",
     "output_type": "stream",
     "text": [
      "\n",
      "DIMENSION: sg_data_point\n",
      "{latitude, longitude, time, depth}\n"
     ]
    },
    {
     "name": "stderr",
     "output_type": "stream",
     "text": [
      " 33%|█████████████▎                          | 489/1467 [04:12<07:31,  2.17it/s]/home/dIOGOLOC/programs/anaconda3/lib/python3.10/site-packages/glidertools/load/seaglider.py:227: GliderToolsWarning: dives was not found in the files\n",
      "  warnings.warn(msg, GliderToolsWarning)\n"
     ]
    },
    {
     "name": "stdout",
     "output_type": "stream",
     "text": [
      "\n",
      "DIMENSION: sg_data_point\n",
      "{latitude, longitude, time, depth}\n"
     ]
    },
    {
     "name": "stderr",
     "output_type": "stream",
     "text": [
      " 33%|█████████████▎                          | 490/1467 [04:13<07:53,  2.06it/s]/home/dIOGOLOC/programs/anaconda3/lib/python3.10/site-packages/glidertools/load/seaglider.py:227: GliderToolsWarning: dives was not found in the files\n",
      "  warnings.warn(msg, GliderToolsWarning)\n"
     ]
    },
    {
     "name": "stdout",
     "output_type": "stream",
     "text": [
      "\n",
      "DIMENSION: sg_data_point\n",
      "{latitude, longitude, time, depth}\n"
     ]
    },
    {
     "name": "stderr",
     "output_type": "stream",
     "text": [
      " 33%|█████████████▍                          | 491/1467 [04:13<08:14,  1.97it/s]/home/dIOGOLOC/programs/anaconda3/lib/python3.10/site-packages/glidertools/load/seaglider.py:227: GliderToolsWarning: dives was not found in the files\n",
      "  warnings.warn(msg, GliderToolsWarning)\n"
     ]
    },
    {
     "name": "stdout",
     "output_type": "stream",
     "text": [
      "\n",
      "DIMENSION: sg_data_point\n",
      "{latitude, longitude, time, depth}\n"
     ]
    },
    {
     "name": "stderr",
     "output_type": "stream",
     "text": [
      " 34%|█████████████▍                          | 492/1467 [04:14<08:02,  2.02it/s]/home/dIOGOLOC/programs/anaconda3/lib/python3.10/site-packages/glidertools/load/seaglider.py:227: GliderToolsWarning: dives was not found in the files\n",
      "  warnings.warn(msg, GliderToolsWarning)\n"
     ]
    },
    {
     "name": "stdout",
     "output_type": "stream",
     "text": [
      "\n",
      "DIMENSION: sg_data_point\n",
      "{latitude, longitude, time, depth}\n"
     ]
    },
    {
     "name": "stderr",
     "output_type": "stream",
     "text": [
      " 34%|█████████████▍                          | 493/1467 [04:14<07:50,  2.07it/s]/home/dIOGOLOC/programs/anaconda3/lib/python3.10/site-packages/glidertools/load/seaglider.py:227: GliderToolsWarning: dives was not found in the files\n",
      "  warnings.warn(msg, GliderToolsWarning)\n"
     ]
    },
    {
     "name": "stdout",
     "output_type": "stream",
     "text": [
      "\n",
      "DIMENSION: sg_data_point\n",
      "{latitude, longitude, time, depth}\n"
     ]
    },
    {
     "name": "stderr",
     "output_type": "stream",
     "text": [
      " 34%|█████████████▍                          | 494/1467 [04:15<07:41,  2.11it/s]/home/dIOGOLOC/programs/anaconda3/lib/python3.10/site-packages/glidertools/load/seaglider.py:227: GliderToolsWarning: dives was not found in the files\n",
      "  warnings.warn(msg, GliderToolsWarning)\n"
     ]
    },
    {
     "name": "stdout",
     "output_type": "stream",
     "text": [
      "\n",
      "DIMENSION: sg_data_point\n",
      "{latitude, longitude, time, depth}\n"
     ]
    },
    {
     "name": "stderr",
     "output_type": "stream",
     "text": [
      " 34%|█████████████▍                          | 495/1467 [04:15<07:54,  2.05it/s]/home/dIOGOLOC/programs/anaconda3/lib/python3.10/site-packages/glidertools/load/seaglider.py:227: GliderToolsWarning: dives was not found in the files\n",
      "  warnings.warn(msg, GliderToolsWarning)\n"
     ]
    },
    {
     "name": "stdout",
     "output_type": "stream",
     "text": [
      "\n",
      "DIMENSION: sg_data_point\n",
      "{latitude, longitude, time, depth}\n"
     ]
    },
    {
     "name": "stderr",
     "output_type": "stream",
     "text": [
      " 34%|█████████████▌                          | 496/1467 [04:16<07:41,  2.11it/s]/home/dIOGOLOC/programs/anaconda3/lib/python3.10/site-packages/glidertools/load/seaglider.py:227: GliderToolsWarning: dives was not found in the files\n",
      "  warnings.warn(msg, GliderToolsWarning)\n"
     ]
    },
    {
     "name": "stdout",
     "output_type": "stream",
     "text": [
      "\n",
      "DIMENSION: sg_data_point\n",
      "{latitude, longitude, time, depth}\n"
     ]
    },
    {
     "name": "stderr",
     "output_type": "stream",
     "text": [
      " 34%|█████████████▌                          | 497/1467 [04:16<07:32,  2.14it/s]/home/dIOGOLOC/programs/anaconda3/lib/python3.10/site-packages/glidertools/load/seaglider.py:227: GliderToolsWarning: dives was not found in the files\n",
      "  warnings.warn(msg, GliderToolsWarning)\n"
     ]
    },
    {
     "name": "stdout",
     "output_type": "stream",
     "text": [
      "\n",
      "DIMENSION: sg_data_point\n",
      "{latitude, longitude, time, depth}\n"
     ]
    },
    {
     "name": "stderr",
     "output_type": "stream",
     "text": [
      " 34%|█████████████▌                          | 498/1467 [04:17<07:33,  2.14it/s]/home/dIOGOLOC/programs/anaconda3/lib/python3.10/site-packages/glidertools/load/seaglider.py:227: GliderToolsWarning: dives was not found in the files\n",
      "  warnings.warn(msg, GliderToolsWarning)\n"
     ]
    },
    {
     "name": "stdout",
     "output_type": "stream",
     "text": [
      "\n",
      "DIMENSION: sg_data_point\n",
      "{latitude, longitude, time, depth}\n"
     ]
    },
    {
     "name": "stderr",
     "output_type": "stream",
     "text": [
      " 34%|█████████████▌                          | 499/1467 [04:17<07:25,  2.17it/s]/home/dIOGOLOC/programs/anaconda3/lib/python3.10/site-packages/glidertools/load/seaglider.py:227: GliderToolsWarning: dives was not found in the files\n",
      "  warnings.warn(msg, GliderToolsWarning)\n"
     ]
    },
    {
     "name": "stdout",
     "output_type": "stream",
     "text": [
      "\n",
      "DIMENSION: sg_data_point\n",
      "{latitude, longitude, time, depth}\n"
     ]
    },
    {
     "name": "stderr",
     "output_type": "stream",
     "text": [
      " 34%|█████████████▋                          | 500/1467 [04:17<07:42,  2.09it/s]/home/dIOGOLOC/programs/anaconda3/lib/python3.10/site-packages/glidertools/load/seaglider.py:227: GliderToolsWarning: dives was not found in the files\n",
      "  warnings.warn(msg, GliderToolsWarning)\n"
     ]
    },
    {
     "name": "stdout",
     "output_type": "stream",
     "text": [
      "\n",
      "DIMENSION: sg_data_point\n",
      "{latitude, longitude, time, depth}\n"
     ]
    },
    {
     "name": "stderr",
     "output_type": "stream",
     "text": [
      " 34%|█████████████▋                          | 501/1467 [04:18<08:06,  1.99it/s]/home/dIOGOLOC/programs/anaconda3/lib/python3.10/site-packages/glidertools/load/seaglider.py:227: GliderToolsWarning: dives was not found in the files\n",
      "  warnings.warn(msg, GliderToolsWarning)\n"
     ]
    },
    {
     "name": "stdout",
     "output_type": "stream",
     "text": [
      "\n",
      "DIMENSION: sg_data_point\n",
      "{latitude, longitude, time, depth}\n"
     ]
    },
    {
     "name": "stderr",
     "output_type": "stream",
     "text": [
      " 34%|█████████████▋                          | 502/1467 [04:18<07:47,  2.07it/s]/home/dIOGOLOC/programs/anaconda3/lib/python3.10/site-packages/glidertools/load/seaglider.py:227: GliderToolsWarning: dives was not found in the files\n",
      "  warnings.warn(msg, GliderToolsWarning)\n"
     ]
    },
    {
     "name": "stdout",
     "output_type": "stream",
     "text": [
      "\n",
      "DIMENSION: sg_data_point\n",
      "{latitude, longitude, time, depth}\n"
     ]
    },
    {
     "name": "stderr",
     "output_type": "stream",
     "text": [
      " 34%|█████████████▋                          | 503/1467 [04:19<07:53,  2.04it/s]/home/dIOGOLOC/programs/anaconda3/lib/python3.10/site-packages/glidertools/load/seaglider.py:227: GliderToolsWarning: dives was not found in the files\n",
      "  warnings.warn(msg, GliderToolsWarning)\n"
     ]
    },
    {
     "name": "stdout",
     "output_type": "stream",
     "text": [
      "\n",
      "DIMENSION: sg_data_point\n",
      "{latitude, longitude, time, depth}\n"
     ]
    },
    {
     "name": "stderr",
     "output_type": "stream",
     "text": [
      " 34%|█████████████▋                          | 504/1467 [04:19<07:39,  2.09it/s]/home/dIOGOLOC/programs/anaconda3/lib/python3.10/site-packages/glidertools/load/seaglider.py:227: GliderToolsWarning: dives was not found in the files\n",
      "  warnings.warn(msg, GliderToolsWarning)\n"
     ]
    },
    {
     "name": "stdout",
     "output_type": "stream",
     "text": [
      "\n",
      "DIMENSION: sg_data_point\n",
      "{latitude, longitude, time, depth}\n"
     ]
    },
    {
     "name": "stderr",
     "output_type": "stream",
     "text": [
      " 34%|█████████████▊                          | 505/1467 [04:20<07:32,  2.12it/s]/home/dIOGOLOC/programs/anaconda3/lib/python3.10/site-packages/glidertools/load/seaglider.py:227: GliderToolsWarning: dives was not found in the files\n",
      "  warnings.warn(msg, GliderToolsWarning)\n"
     ]
    },
    {
     "name": "stdout",
     "output_type": "stream",
     "text": [
      "\n",
      "DIMENSION: sg_data_point\n",
      "{latitude, longitude, time, depth}\n"
     ]
    },
    {
     "name": "stderr",
     "output_type": "stream",
     "text": [
      " 34%|█████████████▊                          | 506/1467 [04:20<07:29,  2.14it/s]/home/dIOGOLOC/programs/anaconda3/lib/python3.10/site-packages/glidertools/load/seaglider.py:227: GliderToolsWarning: dives was not found in the files\n",
      "  warnings.warn(msg, GliderToolsWarning)\n"
     ]
    },
    {
     "name": "stdout",
     "output_type": "stream",
     "text": [
      "\n",
      "DIMENSION: sg_data_point\n",
      "{latitude, longitude, time, depth}\n"
     ]
    },
    {
     "name": "stderr",
     "output_type": "stream",
     "text": [
      " 35%|█████████████▊                          | 507/1467 [04:21<08:22,  1.91it/s]/home/dIOGOLOC/programs/anaconda3/lib/python3.10/site-packages/glidertools/load/seaglider.py:227: GliderToolsWarning: dives was not found in the files\n",
      "  warnings.warn(msg, GliderToolsWarning)\n"
     ]
    },
    {
     "name": "stdout",
     "output_type": "stream",
     "text": [
      "\n",
      "DIMENSION: sg_data_point\n",
      "{latitude, longitude, time, depth}\n"
     ]
    },
    {
     "name": "stderr",
     "output_type": "stream",
     "text": [
      " 35%|█████████████▊                          | 508/1467 [04:21<08:05,  1.97it/s]/home/dIOGOLOC/programs/anaconda3/lib/python3.10/site-packages/glidertools/load/seaglider.py:227: GliderToolsWarning: dives was not found in the files\n",
      "  warnings.warn(msg, GliderToolsWarning)\n"
     ]
    },
    {
     "name": "stdout",
     "output_type": "stream",
     "text": [
      "\n",
      "DIMENSION: sg_data_point\n",
      "{latitude, longitude, time, depth}\n"
     ]
    },
    {
     "name": "stderr",
     "output_type": "stream",
     "text": [
      " 35%|█████████████▉                          | 509/1467 [04:22<08:52,  1.80it/s]/home/dIOGOLOC/programs/anaconda3/lib/python3.10/site-packages/glidertools/load/seaglider.py:227: GliderToolsWarning: dives was not found in the files\n",
      "  warnings.warn(msg, GliderToolsWarning)\n"
     ]
    },
    {
     "name": "stdout",
     "output_type": "stream",
     "text": [
      "\n",
      "DIMENSION: sg_data_point\n",
      "{latitude, longitude, time, depth}\n"
     ]
    },
    {
     "name": "stderr",
     "output_type": "stream",
     "text": [
      " 35%|█████████████▉                          | 510/1467 [04:23<09:31,  1.68it/s]/home/dIOGOLOC/programs/anaconda3/lib/python3.10/site-packages/glidertools/load/seaglider.py:227: GliderToolsWarning: dives was not found in the files\n",
      "  warnings.warn(msg, GliderToolsWarning)\n"
     ]
    },
    {
     "name": "stdout",
     "output_type": "stream",
     "text": [
      "\n",
      "DIMENSION: sg_data_point\n",
      "{latitude, longitude, time, depth}\n"
     ]
    },
    {
     "name": "stderr",
     "output_type": "stream",
     "text": [
      " 35%|█████████████▉                          | 511/1467 [04:23<09:17,  1.71it/s]/home/dIOGOLOC/programs/anaconda3/lib/python3.10/site-packages/glidertools/load/seaglider.py:227: GliderToolsWarning: dives was not found in the files\n",
      "  warnings.warn(msg, GliderToolsWarning)\n"
     ]
    },
    {
     "name": "stdout",
     "output_type": "stream",
     "text": [
      "\n",
      "DIMENSION: sg_data_point\n",
      "{latitude, longitude, time, depth}\n"
     ]
    },
    {
     "name": "stderr",
     "output_type": "stream",
     "text": [
      " 35%|█████████████▉                          | 512/1467 [04:24<09:20,  1.70it/s]/home/dIOGOLOC/programs/anaconda3/lib/python3.10/site-packages/glidertools/load/seaglider.py:227: GliderToolsWarning: dives was not found in the files\n",
      "  warnings.warn(msg, GliderToolsWarning)\n"
     ]
    },
    {
     "name": "stdout",
     "output_type": "stream",
     "text": [
      "\n",
      "DIMENSION: sg_data_point\n",
      "{latitude, longitude, time, depth}\n"
     ]
    },
    {
     "name": "stderr",
     "output_type": "stream",
     "text": [
      " 35%|█████████████▉                          | 513/1467 [04:24<08:37,  1.84it/s]/home/dIOGOLOC/programs/anaconda3/lib/python3.10/site-packages/glidertools/load/seaglider.py:227: GliderToolsWarning: dives was not found in the files\n",
      "  warnings.warn(msg, GliderToolsWarning)\n"
     ]
    },
    {
     "name": "stdout",
     "output_type": "stream",
     "text": [
      "\n",
      "DIMENSION: sg_data_point\n",
      "{latitude, longitude, time, depth}\n"
     ]
    },
    {
     "name": "stderr",
     "output_type": "stream",
     "text": [
      " 35%|██████████████                          | 514/1467 [04:25<08:07,  1.95it/s]/home/dIOGOLOC/programs/anaconda3/lib/python3.10/site-packages/glidertools/load/seaglider.py:227: GliderToolsWarning: dives was not found in the files\n",
      "  warnings.warn(msg, GliderToolsWarning)\n"
     ]
    },
    {
     "name": "stdout",
     "output_type": "stream",
     "text": [
      "\n",
      "DIMENSION: sg_data_point\n",
      "{latitude, longitude, time, depth}\n"
     ]
    },
    {
     "name": "stderr",
     "output_type": "stream",
     "text": [
      " 35%|██████████████                          | 515/1467 [04:25<07:50,  2.02it/s]/home/dIOGOLOC/programs/anaconda3/lib/python3.10/site-packages/glidertools/load/seaglider.py:227: GliderToolsWarning: dives was not found in the files\n",
      "  warnings.warn(msg, GliderToolsWarning)\n"
     ]
    },
    {
     "name": "stdout",
     "output_type": "stream",
     "text": [
      "\n",
      "DIMENSION: sg_data_point\n",
      "{latitude, longitude, time, depth}\n"
     ]
    },
    {
     "name": "stderr",
     "output_type": "stream",
     "text": [
      " 35%|██████████████                          | 516/1467 [04:26<07:37,  2.08it/s]/home/dIOGOLOC/programs/anaconda3/lib/python3.10/site-packages/glidertools/load/seaglider.py:227: GliderToolsWarning: dives was not found in the files\n",
      "  warnings.warn(msg, GliderToolsWarning)\n"
     ]
    },
    {
     "name": "stdout",
     "output_type": "stream",
     "text": [
      "\n",
      "DIMENSION: sg_data_point\n",
      "{latitude, longitude, time, depth}\n"
     ]
    },
    {
     "name": "stderr",
     "output_type": "stream",
     "text": [
      " 35%|██████████████                          | 517/1467 [04:26<08:18,  1.90it/s]/home/dIOGOLOC/programs/anaconda3/lib/python3.10/site-packages/glidertools/load/seaglider.py:227: GliderToolsWarning: dives was not found in the files\n",
      "  warnings.warn(msg, GliderToolsWarning)\n"
     ]
    },
    {
     "name": "stdout",
     "output_type": "stream",
     "text": [
      "\n",
      "DIMENSION: sg_data_point\n",
      "{latitude, longitude, time, depth}\n"
     ]
    },
    {
     "name": "stderr",
     "output_type": "stream",
     "text": [
      " 35%|██████████████                          | 518/1467 [04:27<08:01,  1.97it/s]/home/dIOGOLOC/programs/anaconda3/lib/python3.10/site-packages/glidertools/load/seaglider.py:227: GliderToolsWarning: dives was not found in the files\n",
      "  warnings.warn(msg, GliderToolsWarning)\n"
     ]
    },
    {
     "name": "stdout",
     "output_type": "stream",
     "text": [
      "\n",
      "DIMENSION: sg_data_point\n",
      "{latitude, longitude, time, depth}\n"
     ]
    },
    {
     "name": "stderr",
     "output_type": "stream",
     "text": [
      " 35%|██████████████▏                         | 519/1467 [04:27<07:42,  2.05it/s]/home/dIOGOLOC/programs/anaconda3/lib/python3.10/site-packages/glidertools/load/seaglider.py:227: GliderToolsWarning: dives was not found in the files\n",
      "  warnings.warn(msg, GliderToolsWarning)\n"
     ]
    },
    {
     "name": "stdout",
     "output_type": "stream",
     "text": [
      "\n",
      "DIMENSION: sg_data_point\n",
      "{latitude, longitude, time, depth}\n"
     ]
    },
    {
     "name": "stderr",
     "output_type": "stream",
     "text": [
      " 35%|██████████████▏                         | 520/1467 [04:28<07:26,  2.12it/s]/home/dIOGOLOC/programs/anaconda3/lib/python3.10/site-packages/glidertools/load/seaglider.py:227: GliderToolsWarning: dives was not found in the files\n",
      "  warnings.warn(msg, GliderToolsWarning)\n"
     ]
    },
    {
     "name": "stdout",
     "output_type": "stream",
     "text": [
      "\n",
      "DIMENSION: sg_data_point\n",
      "{latitude, longitude, time, depth}\n"
     ]
    },
    {
     "name": "stderr",
     "output_type": "stream",
     "text": [
      " 36%|██████████████▏                         | 521/1467 [04:28<07:15,  2.17it/s]/home/dIOGOLOC/programs/anaconda3/lib/python3.10/site-packages/glidertools/load/seaglider.py:227: GliderToolsWarning: dives was not found in the files\n",
      "  warnings.warn(msg, GliderToolsWarning)\n"
     ]
    },
    {
     "name": "stdout",
     "output_type": "stream",
     "text": [
      "\n",
      "DIMENSION: sg_data_point\n",
      "{latitude, longitude, time, depth}\n"
     ]
    },
    {
     "name": "stderr",
     "output_type": "stream",
     "text": [
      " 36%|██████████████▏                         | 522/1467 [04:29<07:18,  2.16it/s]/home/dIOGOLOC/programs/anaconda3/lib/python3.10/site-packages/glidertools/load/seaglider.py:227: GliderToolsWarning: dives was not found in the files\n",
      "  warnings.warn(msg, GliderToolsWarning)\n"
     ]
    },
    {
     "name": "stdout",
     "output_type": "stream",
     "text": [
      "\n",
      "DIMENSION: sg_data_point\n",
      "{latitude, longitude, time, depth}\n"
     ]
    },
    {
     "name": "stderr",
     "output_type": "stream",
     "text": [
      " 36%|██████████████▎                         | 523/1467 [04:29<07:50,  2.01it/s]/home/dIOGOLOC/programs/anaconda3/lib/python3.10/site-packages/glidertools/load/seaglider.py:227: GliderToolsWarning: dives was not found in the files\n",
      "  warnings.warn(msg, GliderToolsWarning)\n"
     ]
    },
    {
     "name": "stdout",
     "output_type": "stream",
     "text": [
      "\n",
      "DIMENSION: sg_data_point\n",
      "{latitude, longitude, time, depth}\n"
     ]
    },
    {
     "name": "stderr",
     "output_type": "stream",
     "text": [
      " 36%|██████████████▎                         | 524/1467 [04:30<07:32,  2.08it/s]/home/dIOGOLOC/programs/anaconda3/lib/python3.10/site-packages/glidertools/load/seaglider.py:227: GliderToolsWarning: dives was not found in the files\n",
      "  warnings.warn(msg, GliderToolsWarning)\n"
     ]
    },
    {
     "name": "stdout",
     "output_type": "stream",
     "text": [
      "\n",
      "DIMENSION: sg_data_point\n",
      "{latitude, longitude, time, depth}\n"
     ]
    },
    {
     "name": "stderr",
     "output_type": "stream",
     "text": [
      " 36%|██████████████▎                         | 525/1467 [04:30<07:18,  2.15it/s]/home/dIOGOLOC/programs/anaconda3/lib/python3.10/site-packages/glidertools/load/seaglider.py:227: GliderToolsWarning: dives was not found in the files\n",
      "  warnings.warn(msg, GliderToolsWarning)\n"
     ]
    },
    {
     "name": "stdout",
     "output_type": "stream",
     "text": [
      "\n",
      "DIMENSION: sg_data_point\n",
      "{latitude, longitude, time, depth}\n"
     ]
    },
    {
     "name": "stderr",
     "output_type": "stream",
     "text": [
      " 36%|██████████████▎                         | 526/1467 [04:31<07:12,  2.18it/s]/home/dIOGOLOC/programs/anaconda3/lib/python3.10/site-packages/glidertools/load/seaglider.py:227: GliderToolsWarning: dives was not found in the files\n",
      "  warnings.warn(msg, GliderToolsWarning)\n"
     ]
    },
    {
     "name": "stdout",
     "output_type": "stream",
     "text": [
      "\n",
      "DIMENSION: sg_data_point\n",
      "{latitude, longitude, time, depth}\n"
     ]
    },
    {
     "name": "stderr",
     "output_type": "stream",
     "text": [
      " 36%|██████████████▎                         | 527/1467 [04:31<07:09,  2.19it/s]/home/dIOGOLOC/programs/anaconda3/lib/python3.10/site-packages/glidertools/load/seaglider.py:227: GliderToolsWarning: dives was not found in the files\n",
      "  warnings.warn(msg, GliderToolsWarning)\n"
     ]
    },
    {
     "name": "stdout",
     "output_type": "stream",
     "text": [
      "\n",
      "DIMENSION: sg_data_point\n",
      "{latitude, longitude, time, depth}\n"
     ]
    },
    {
     "name": "stderr",
     "output_type": "stream",
     "text": [
      " 36%|██████████████▍                         | 528/1467 [04:31<07:23,  2.12it/s]/home/dIOGOLOC/programs/anaconda3/lib/python3.10/site-packages/glidertools/load/seaglider.py:227: GliderToolsWarning: dives was not found in the files\n",
      "  warnings.warn(msg, GliderToolsWarning)\n"
     ]
    },
    {
     "name": "stdout",
     "output_type": "stream",
     "text": [
      "\n",
      "DIMENSION: sg_data_point\n",
      "{latitude, longitude, time, depth}\n"
     ]
    },
    {
     "name": "stderr",
     "output_type": "stream",
     "text": [
      " 36%|██████████████▍                         | 529/1467 [04:32<07:27,  2.10it/s]/home/dIOGOLOC/programs/anaconda3/lib/python3.10/site-packages/glidertools/load/seaglider.py:227: GliderToolsWarning: dives was not found in the files\n",
      "  warnings.warn(msg, GliderToolsWarning)\n"
     ]
    },
    {
     "name": "stdout",
     "output_type": "stream",
     "text": [
      "\n",
      "DIMENSION: sg_data_point\n",
      "{latitude, longitude, time, depth}\n"
     ]
    },
    {
     "name": "stderr",
     "output_type": "stream",
     "text": [
      " 36%|██████████████▍                         | 530/1467 [04:32<07:15,  2.15it/s]/home/dIOGOLOC/programs/anaconda3/lib/python3.10/site-packages/glidertools/load/seaglider.py:227: GliderToolsWarning: dives was not found in the files\n",
      "  warnings.warn(msg, GliderToolsWarning)\n"
     ]
    },
    {
     "name": "stdout",
     "output_type": "stream",
     "text": [
      "\n",
      "DIMENSION: sg_data_point\n",
      "{latitude, longitude, time, depth}\n"
     ]
    },
    {
     "name": "stderr",
     "output_type": "stream",
     "text": [
      " 36%|██████████████▍                         | 531/1467 [04:33<07:10,  2.17it/s]/home/dIOGOLOC/programs/anaconda3/lib/python3.10/site-packages/glidertools/load/seaglider.py:227: GliderToolsWarning: dives was not found in the files\n",
      "  warnings.warn(msg, GliderToolsWarning)\n"
     ]
    },
    {
     "name": "stdout",
     "output_type": "stream",
     "text": [
      "\n",
      "DIMENSION: sg_data_point\n",
      "{latitude, longitude, time, depth}\n"
     ]
    },
    {
     "name": "stderr",
     "output_type": "stream",
     "text": [
      " 36%|██████████████▌                         | 532/1467 [04:33<06:59,  2.23it/s]/home/dIOGOLOC/programs/anaconda3/lib/python3.10/site-packages/glidertools/load/seaglider.py:227: GliderToolsWarning: dives was not found in the files\n",
      "  warnings.warn(msg, GliderToolsWarning)\n"
     ]
    },
    {
     "name": "stdout",
     "output_type": "stream",
     "text": [
      "\n",
      "DIMENSION: sg_data_point\n",
      "{latitude, longitude, time, depth}\n"
     ]
    },
    {
     "name": "stderr",
     "output_type": "stream",
     "text": [
      " 36%|██████████████▌                         | 533/1467 [04:34<07:16,  2.14it/s]/home/dIOGOLOC/programs/anaconda3/lib/python3.10/site-packages/glidertools/load/seaglider.py:227: GliderToolsWarning: dives was not found in the files\n",
      "  warnings.warn(msg, GliderToolsWarning)\n"
     ]
    },
    {
     "name": "stdout",
     "output_type": "stream",
     "text": [
      "\n",
      "DIMENSION: sg_data_point\n",
      "{latitude, longitude, time, depth}\n"
     ]
    },
    {
     "name": "stderr",
     "output_type": "stream",
     "text": [
      " 36%|██████████████▌                         | 534/1467 [04:34<07:10,  2.17it/s]/home/dIOGOLOC/programs/anaconda3/lib/python3.10/site-packages/glidertools/load/seaglider.py:227: GliderToolsWarning: dives was not found in the files\n",
      "  warnings.warn(msg, GliderToolsWarning)\n"
     ]
    },
    {
     "name": "stdout",
     "output_type": "stream",
     "text": [
      "\n",
      "DIMENSION: sg_data_point\n",
      "{latitude, longitude, time, depth}\n"
     ]
    },
    {
     "name": "stderr",
     "output_type": "stream",
     "text": [
      " 36%|██████████████▌                         | 535/1467 [04:35<07:38,  2.03it/s]/home/dIOGOLOC/programs/anaconda3/lib/python3.10/site-packages/glidertools/load/seaglider.py:227: GliderToolsWarning: dives was not found in the files\n",
      "  warnings.warn(msg, GliderToolsWarning)\n"
     ]
    },
    {
     "name": "stdout",
     "output_type": "stream",
     "text": [
      "\n",
      "DIMENSION: sg_data_point\n",
      "{latitude, longitude, time, depth}\n"
     ]
    },
    {
     "name": "stderr",
     "output_type": "stream",
     "text": [
      " 37%|██████████████▌                         | 536/1467 [04:35<07:23,  2.10it/s]/home/dIOGOLOC/programs/anaconda3/lib/python3.10/site-packages/glidertools/load/seaglider.py:227: GliderToolsWarning: dives was not found in the files\n",
      "  warnings.warn(msg, GliderToolsWarning)\n"
     ]
    },
    {
     "name": "stdout",
     "output_type": "stream",
     "text": [
      "\n",
      "DIMENSION: sg_data_point\n",
      "{latitude, longitude, time, depth}\n"
     ]
    },
    {
     "name": "stderr",
     "output_type": "stream",
     "text": [
      " 37%|██████████████▋                         | 537/1467 [04:36<07:16,  2.13it/s]/home/dIOGOLOC/programs/anaconda3/lib/python3.10/site-packages/glidertools/load/seaglider.py:227: GliderToolsWarning: dives was not found in the files\n",
      "  warnings.warn(msg, GliderToolsWarning)\n"
     ]
    },
    {
     "name": "stdout",
     "output_type": "stream",
     "text": [
      "\n",
      "DIMENSION: sg_data_point\n",
      "{latitude, longitude, time, depth}\n"
     ]
    },
    {
     "name": "stderr",
     "output_type": "stream",
     "text": [
      " 37%|██████████████▋                         | 538/1467 [04:36<07:30,  2.06it/s]/home/dIOGOLOC/programs/anaconda3/lib/python3.10/site-packages/glidertools/load/seaglider.py:227: GliderToolsWarning: dives was not found in the files\n",
      "  warnings.warn(msg, GliderToolsWarning)\n"
     ]
    },
    {
     "name": "stdout",
     "output_type": "stream",
     "text": [
      "\n",
      "DIMENSION: sg_data_point\n",
      "{latitude, longitude, time, depth}\n"
     ]
    },
    {
     "name": "stderr",
     "output_type": "stream",
     "text": [
      " 37%|██████████████▋                         | 539/1467 [04:37<07:36,  2.03it/s]/home/dIOGOLOC/programs/anaconda3/lib/python3.10/site-packages/glidertools/load/seaglider.py:227: GliderToolsWarning: dives was not found in the files\n",
      "  warnings.warn(msg, GliderToolsWarning)\n"
     ]
    },
    {
     "name": "stdout",
     "output_type": "stream",
     "text": [
      "\n",
      "DIMENSION: sg_data_point\n",
      "{latitude, longitude, time, depth}\n"
     ]
    },
    {
     "name": "stderr",
     "output_type": "stream",
     "text": [
      " 37%|██████████████▋                         | 540/1467 [04:37<07:16,  2.12it/s]/home/dIOGOLOC/programs/anaconda3/lib/python3.10/site-packages/glidertools/load/seaglider.py:227: GliderToolsWarning: dives was not found in the files\n",
      "  warnings.warn(msg, GliderToolsWarning)\n"
     ]
    },
    {
     "name": "stdout",
     "output_type": "stream",
     "text": [
      "\n",
      "DIMENSION: sg_data_point\n",
      "{latitude, longitude, time, depth}\n"
     ]
    },
    {
     "name": "stderr",
     "output_type": "stream",
     "text": [
      " 37%|██████████████▊                         | 541/1467 [04:38<07:04,  2.18it/s]/home/dIOGOLOC/programs/anaconda3/lib/python3.10/site-packages/glidertools/load/seaglider.py:227: GliderToolsWarning: dives was not found in the files\n",
      "  warnings.warn(msg, GliderToolsWarning)\n"
     ]
    },
    {
     "name": "stdout",
     "output_type": "stream",
     "text": [
      "\n",
      "DIMENSION: sg_data_point\n",
      "{latitude, longitude, time, depth}\n"
     ]
    },
    {
     "name": "stderr",
     "output_type": "stream",
     "text": [
      " 37%|██████████████▊                         | 542/1467 [04:38<06:54,  2.23it/s]/home/dIOGOLOC/programs/anaconda3/lib/python3.10/site-packages/glidertools/load/seaglider.py:227: GliderToolsWarning: dives was not found in the files\n",
      "  warnings.warn(msg, GliderToolsWarning)\n"
     ]
    },
    {
     "name": "stdout",
     "output_type": "stream",
     "text": [
      "\n",
      "DIMENSION: sg_data_point\n",
      "{latitude, longitude, time, depth}\n"
     ]
    },
    {
     "name": "stderr",
     "output_type": "stream",
     "text": [
      " 37%|██████████████▊                         | 543/1467 [04:38<07:04,  2.18it/s]/home/dIOGOLOC/programs/anaconda3/lib/python3.10/site-packages/glidertools/load/seaglider.py:227: GliderToolsWarning: dives was not found in the files\n",
      "  warnings.warn(msg, GliderToolsWarning)\n"
     ]
    },
    {
     "name": "stdout",
     "output_type": "stream",
     "text": [
      "\n",
      "DIMENSION: sg_data_point\n",
      "{latitude, longitude, time, depth}\n"
     ]
    },
    {
     "name": "stderr",
     "output_type": "stream",
     "text": [
      " 37%|██████████████▊                         | 544/1467 [04:39<06:56,  2.22it/s]/home/dIOGOLOC/programs/anaconda3/lib/python3.10/site-packages/glidertools/load/seaglider.py:227: GliderToolsWarning: dives was not found in the files\n",
      "  warnings.warn(msg, GliderToolsWarning)\n"
     ]
    },
    {
     "name": "stdout",
     "output_type": "stream",
     "text": [
      "\n",
      "DIMENSION: sg_data_point\n",
      "{latitude, longitude, time, depth}\n"
     ]
    },
    {
     "name": "stderr",
     "output_type": "stream",
     "text": [
      " 37%|██████████████▊                         | 545/1467 [04:39<07:21,  2.09it/s]/home/dIOGOLOC/programs/anaconda3/lib/python3.10/site-packages/glidertools/load/seaglider.py:227: GliderToolsWarning: dives was not found in the files\n",
      "  warnings.warn(msg, GliderToolsWarning)\n"
     ]
    },
    {
     "name": "stdout",
     "output_type": "stream",
     "text": [
      "\n",
      "DIMENSION: sg_data_point\n",
      "{latitude, longitude, time, depth}\n"
     ]
    },
    {
     "name": "stderr",
     "output_type": "stream",
     "text": [
      " 37%|██████████████▉                         | 546/1467 [04:40<07:19,  2.09it/s]/home/dIOGOLOC/programs/anaconda3/lib/python3.10/site-packages/glidertools/load/seaglider.py:227: GliderToolsWarning: dives was not found in the files\n",
      "  warnings.warn(msg, GliderToolsWarning)\n"
     ]
    },
    {
     "name": "stdout",
     "output_type": "stream",
     "text": [
      "\n",
      "DIMENSION: sg_data_point\n",
      "{latitude, longitude, time, depth}\n"
     ]
    },
    {
     "name": "stderr",
     "output_type": "stream",
     "text": [
      " 37%|██████████████▉                         | 547/1467 [04:40<07:07,  2.15it/s]/home/dIOGOLOC/programs/anaconda3/lib/python3.10/site-packages/glidertools/load/seaglider.py:227: GliderToolsWarning: dives was not found in the files\n",
      "  warnings.warn(msg, GliderToolsWarning)\n"
     ]
    },
    {
     "name": "stdout",
     "output_type": "stream",
     "text": [
      "\n",
      "DIMENSION: sg_data_point\n",
      "{latitude, longitude, time, depth}\n"
     ]
    },
    {
     "name": "stderr",
     "output_type": "stream",
     "text": [
      " 37%|██████████████▉                         | 548/1467 [04:41<07:15,  2.11it/s]/home/dIOGOLOC/programs/anaconda3/lib/python3.10/site-packages/glidertools/load/seaglider.py:227: GliderToolsWarning: dives was not found in the files\n",
      "  warnings.warn(msg, GliderToolsWarning)\n"
     ]
    },
    {
     "name": "stdout",
     "output_type": "stream",
     "text": [
      "\n",
      "DIMENSION: sg_data_point\n",
      "{latitude, longitude, time, depth}\n"
     ]
    },
    {
     "name": "stderr",
     "output_type": "stream",
     "text": [
      " 37%|██████████████▉                         | 549/1467 [04:41<07:01,  2.18it/s]/home/dIOGOLOC/programs/anaconda3/lib/python3.10/site-packages/glidertools/load/seaglider.py:227: GliderToolsWarning: dives was not found in the files\n",
      "  warnings.warn(msg, GliderToolsWarning)\n"
     ]
    },
    {
     "name": "stdout",
     "output_type": "stream",
     "text": [
      "\n",
      "DIMENSION: sg_data_point\n",
      "{latitude, longitude, time, depth}\n"
     ]
    },
    {
     "name": "stderr",
     "output_type": "stream",
     "text": [
      " 37%|██████████████▉                         | 550/1467 [04:42<06:54,  2.21it/s]/home/dIOGOLOC/programs/anaconda3/lib/python3.10/site-packages/glidertools/load/seaglider.py:227: GliderToolsWarning: dives was not found in the files\n",
      "  warnings.warn(msg, GliderToolsWarning)\n"
     ]
    },
    {
     "name": "stdout",
     "output_type": "stream",
     "text": [
      "\n",
      "DIMENSION: sg_data_point\n",
      "{latitude, longitude, time, depth}\n"
     ]
    },
    {
     "name": "stderr",
     "output_type": "stream",
     "text": [
      " 38%|███████████████                         | 551/1467 [04:42<06:49,  2.23it/s]/home/dIOGOLOC/programs/anaconda3/lib/python3.10/site-packages/glidertools/load/seaglider.py:227: GliderToolsWarning: dives was not found in the files\n",
      "  warnings.warn(msg, GliderToolsWarning)\n"
     ]
    },
    {
     "name": "stdout",
     "output_type": "stream",
     "text": [
      "\n",
      "DIMENSION: sg_data_point\n",
      "{latitude, longitude, time, depth}\n"
     ]
    },
    {
     "name": "stderr",
     "output_type": "stream",
     "text": [
      " 38%|███████████████                         | 552/1467 [04:43<06:44,  2.26it/s]/home/dIOGOLOC/programs/anaconda3/lib/python3.10/site-packages/glidertools/load/seaglider.py:227: GliderToolsWarning: dives was not found in the files\n",
      "  warnings.warn(msg, GliderToolsWarning)\n"
     ]
    },
    {
     "name": "stdout",
     "output_type": "stream",
     "text": [
      "\n",
      "DIMENSION: sg_data_point\n",
      "{latitude, longitude, time, depth}\n"
     ]
    },
    {
     "name": "stderr",
     "output_type": "stream",
     "text": [
      " 38%|███████████████                         | 553/1467 [04:43<07:11,  2.12it/s]/home/dIOGOLOC/programs/anaconda3/lib/python3.10/site-packages/glidertools/load/seaglider.py:227: GliderToolsWarning: dives was not found in the files\n",
      "  warnings.warn(msg, GliderToolsWarning)\n"
     ]
    },
    {
     "name": "stdout",
     "output_type": "stream",
     "text": [
      "\n",
      "DIMENSION: sg_data_point\n",
      "{latitude, longitude, time, depth}\n"
     ]
    },
    {
     "name": "stderr",
     "output_type": "stream",
     "text": [
      " 38%|███████████████                         | 554/1467 [04:44<06:59,  2.18it/s]/home/dIOGOLOC/programs/anaconda3/lib/python3.10/site-packages/glidertools/load/seaglider.py:227: GliderToolsWarning: dives was not found in the files\n",
      "  warnings.warn(msg, GliderToolsWarning)\n"
     ]
    },
    {
     "name": "stdout",
     "output_type": "stream",
     "text": [
      "\n",
      "DIMENSION: sg_data_point\n",
      "{latitude, longitude, time, depth}\n"
     ]
    },
    {
     "name": "stderr",
     "output_type": "stream",
     "text": [
      " 38%|███████████████▏                        | 555/1467 [04:44<06:47,  2.24it/s]/home/dIOGOLOC/programs/anaconda3/lib/python3.10/site-packages/glidertools/load/seaglider.py:227: GliderToolsWarning: dives was not found in the files\n",
      "  warnings.warn(msg, GliderToolsWarning)\n"
     ]
    },
    {
     "name": "stdout",
     "output_type": "stream",
     "text": [
      "\n",
      "DIMENSION: sg_data_point\n",
      "{latitude, longitude, time, depth}\n"
     ]
    },
    {
     "name": "stderr",
     "output_type": "stream",
     "text": [
      " 38%|███████████████▏                        | 556/1467 [04:45<07:14,  2.10it/s]/home/dIOGOLOC/programs/anaconda3/lib/python3.10/site-packages/glidertools/load/seaglider.py:227: GliderToolsWarning: dives was not found in the files\n",
      "  warnings.warn(msg, GliderToolsWarning)\n"
     ]
    },
    {
     "name": "stdout",
     "output_type": "stream",
     "text": [
      "\n",
      "DIMENSION: sg_data_point\n",
      "{latitude, longitude, time, depth}\n"
     ]
    },
    {
     "name": "stderr",
     "output_type": "stream",
     "text": [
      " 38%|███████████████▏                        | 557/1467 [04:45<07:01,  2.16it/s]/home/dIOGOLOC/programs/anaconda3/lib/python3.10/site-packages/glidertools/load/seaglider.py:227: GliderToolsWarning: dives was not found in the files\n",
      "  warnings.warn(msg, GliderToolsWarning)\n"
     ]
    },
    {
     "name": "stdout",
     "output_type": "stream",
     "text": [
      "\n",
      "DIMENSION: sg_data_point\n",
      "{latitude, longitude, time, depth}\n"
     ]
    },
    {
     "name": "stderr",
     "output_type": "stream",
     "text": [
      " 38%|███████████████▏                        | 558/1467 [04:45<07:14,  2.09it/s]/home/dIOGOLOC/programs/anaconda3/lib/python3.10/site-packages/glidertools/load/seaglider.py:227: GliderToolsWarning: dives was not found in the files\n",
      "  warnings.warn(msg, GliderToolsWarning)\n"
     ]
    },
    {
     "name": "stdout",
     "output_type": "stream",
     "text": [
      "\n",
      "DIMENSION: sg_data_point\n",
      "{latitude, longitude, time, depth}\n"
     ]
    },
    {
     "name": "stderr",
     "output_type": "stream",
     "text": [
      " 38%|███████████████▏                        | 559/1467 [04:46<07:01,  2.15it/s]/home/dIOGOLOC/programs/anaconda3/lib/python3.10/site-packages/glidertools/load/seaglider.py:227: GliderToolsWarning: dives was not found in the files\n",
      "  warnings.warn(msg, GliderToolsWarning)\n"
     ]
    },
    {
     "name": "stdout",
     "output_type": "stream",
     "text": [
      "\n",
      "DIMENSION: sg_data_point\n",
      "{latitude, longitude, time, depth}\n"
     ]
    },
    {
     "name": "stderr",
     "output_type": "stream",
     "text": [
      " 38%|███████████████▎                        | 560/1467 [04:46<06:56,  2.18it/s]/home/dIOGOLOC/programs/anaconda3/lib/python3.10/site-packages/glidertools/load/seaglider.py:227: GliderToolsWarning: dives was not found in the files\n",
      "  warnings.warn(msg, GliderToolsWarning)\n"
     ]
    },
    {
     "name": "stdout",
     "output_type": "stream",
     "text": [
      "\n",
      "DIMENSION: sg_data_point\n",
      "{latitude, longitude, time, depth}\n"
     ]
    },
    {
     "name": "stderr",
     "output_type": "stream",
     "text": [
      " 38%|███████████████▎                        | 561/1467 [04:47<07:05,  2.13it/s]/home/dIOGOLOC/programs/anaconda3/lib/python3.10/site-packages/glidertools/load/seaglider.py:227: GliderToolsWarning: dives was not found in the files\n",
      "  warnings.warn(msg, GliderToolsWarning)\n"
     ]
    },
    {
     "name": "stdout",
     "output_type": "stream",
     "text": [
      "\n",
      "DIMENSION: sg_data_point\n",
      "{latitude, longitude, time, depth}\n"
     ]
    },
    {
     "name": "stderr",
     "output_type": "stream",
     "text": [
      " 38%|███████████████▎                        | 562/1467 [04:47<06:53,  2.19it/s]/home/dIOGOLOC/programs/anaconda3/lib/python3.10/site-packages/glidertools/load/seaglider.py:227: GliderToolsWarning: dives was not found in the files\n",
      "  warnings.warn(msg, GliderToolsWarning)\n"
     ]
    },
    {
     "name": "stdout",
     "output_type": "stream",
     "text": [
      "\n",
      "DIMENSION: sg_data_point\n",
      "{latitude, longitude, time, depth}\n"
     ]
    },
    {
     "name": "stderr",
     "output_type": "stream",
     "text": [
      " 38%|███████████████▎                        | 563/1467 [04:48<07:00,  2.15it/s]/home/dIOGOLOC/programs/anaconda3/lib/python3.10/site-packages/glidertools/load/seaglider.py:227: GliderToolsWarning: dives was not found in the files\n",
      "  warnings.warn(msg, GliderToolsWarning)\n"
     ]
    },
    {
     "name": "stdout",
     "output_type": "stream",
     "text": [
      "\n",
      "DIMENSION: sg_data_point\n",
      "{latitude, longitude, time, depth}\n"
     ]
    },
    {
     "name": "stderr",
     "output_type": "stream",
     "text": [
      " 38%|███████████████▍                        | 564/1467 [04:48<06:47,  2.22it/s]/home/dIOGOLOC/programs/anaconda3/lib/python3.10/site-packages/glidertools/load/seaglider.py:227: GliderToolsWarning: dives was not found in the files\n",
      "  warnings.warn(msg, GliderToolsWarning)\n"
     ]
    },
    {
     "name": "stdout",
     "output_type": "stream",
     "text": [
      "\n",
      "DIMENSION: sg_data_point\n",
      "{latitude, longitude, time, depth}\n"
     ]
    },
    {
     "name": "stderr",
     "output_type": "stream",
     "text": [
      " 39%|███████████████▍                        | 565/1467 [04:49<06:40,  2.25it/s]/home/dIOGOLOC/programs/anaconda3/lib/python3.10/site-packages/glidertools/load/seaglider.py:227: GliderToolsWarning: dives was not found in the files\n",
      "  warnings.warn(msg, GliderToolsWarning)\n"
     ]
    },
    {
     "name": "stdout",
     "output_type": "stream",
     "text": [
      "\n",
      "DIMENSION: sg_data_point\n",
      "{latitude, longitude, time, depth}\n"
     ]
    },
    {
     "name": "stderr",
     "output_type": "stream",
     "text": [
      " 39%|███████████████▍                        | 566/1467 [04:49<07:05,  2.12it/s]/home/dIOGOLOC/programs/anaconda3/lib/python3.10/site-packages/glidertools/load/seaglider.py:227: GliderToolsWarning: dives was not found in the files\n",
      "  warnings.warn(msg, GliderToolsWarning)\n"
     ]
    },
    {
     "name": "stdout",
     "output_type": "stream",
     "text": [
      "\n",
      "DIMENSION: sg_data_point\n",
      "{latitude, longitude, time, depth}\n"
     ]
    },
    {
     "name": "stderr",
     "output_type": "stream",
     "text": [
      " 39%|███████████████▍                        | 567/1467 [04:50<07:18,  2.05it/s]/home/dIOGOLOC/programs/anaconda3/lib/python3.10/site-packages/glidertools/load/seaglider.py:227: GliderToolsWarning: dives was not found in the files\n",
      "  warnings.warn(msg, GliderToolsWarning)\n"
     ]
    },
    {
     "name": "stdout",
     "output_type": "stream",
     "text": [
      "\n",
      "DIMENSION: sg_data_point\n",
      "{latitude, longitude, time, depth}\n"
     ]
    },
    {
     "name": "stderr",
     "output_type": "stream",
     "text": [
      " 39%|███████████████▍                        | 568/1467 [04:50<07:16,  2.06it/s]/home/dIOGOLOC/programs/anaconda3/lib/python3.10/site-packages/glidertools/load/seaglider.py:227: GliderToolsWarning: dives was not found in the files\n",
      "  warnings.warn(msg, GliderToolsWarning)\n"
     ]
    },
    {
     "name": "stdout",
     "output_type": "stream",
     "text": [
      "\n",
      "DIMENSION: sg_data_point\n",
      "{latitude, longitude, time, depth}\n"
     ]
    },
    {
     "name": "stderr",
     "output_type": "stream",
     "text": [
      " 39%|███████████████▌                        | 569/1467 [04:51<07:07,  2.10it/s]/home/dIOGOLOC/programs/anaconda3/lib/python3.10/site-packages/glidertools/load/seaglider.py:227: GliderToolsWarning: dives was not found in the files\n",
      "  warnings.warn(msg, GliderToolsWarning)\n"
     ]
    },
    {
     "name": "stdout",
     "output_type": "stream",
     "text": [
      "\n",
      "DIMENSION: sg_data_point\n",
      "{latitude, longitude, time, depth}\n"
     ]
    },
    {
     "name": "stderr",
     "output_type": "stream",
     "text": [
      " 39%|███████████████▌                        | 570/1467 [04:51<07:23,  2.02it/s]/home/dIOGOLOC/programs/anaconda3/lib/python3.10/site-packages/glidertools/load/seaglider.py:227: GliderToolsWarning: dives was not found in the files\n",
      "  warnings.warn(msg, GliderToolsWarning)\n"
     ]
    },
    {
     "name": "stdout",
     "output_type": "stream",
     "text": [
      "\n",
      "DIMENSION: sg_data_point\n",
      "{latitude, longitude, time, depth}\n"
     ]
    },
    {
     "name": "stderr",
     "output_type": "stream",
     "text": [
      " 39%|███████████████▌                        | 571/1467 [04:52<07:12,  2.07it/s]/home/dIOGOLOC/programs/anaconda3/lib/python3.10/site-packages/glidertools/load/seaglider.py:227: GliderToolsWarning: dives was not found in the files\n",
      "  warnings.warn(msg, GliderToolsWarning)\n"
     ]
    },
    {
     "name": "stdout",
     "output_type": "stream",
     "text": [
      "\n",
      "DIMENSION: sg_data_point\n",
      "{latitude, longitude, time, depth}\n"
     ]
    },
    {
     "name": "stderr",
     "output_type": "stream",
     "text": [
      " 39%|███████████████▌                        | 572/1467 [04:52<07:16,  2.05it/s]/home/dIOGOLOC/programs/anaconda3/lib/python3.10/site-packages/glidertools/load/seaglider.py:227: GliderToolsWarning: dives was not found in the files\n",
      "  warnings.warn(msg, GliderToolsWarning)\n"
     ]
    },
    {
     "name": "stdout",
     "output_type": "stream",
     "text": [
      "\n",
      "DIMENSION: sg_data_point\n",
      "{latitude, longitude, time, depth}\n"
     ]
    },
    {
     "name": "stderr",
     "output_type": "stream",
     "text": [
      " 39%|███████████████▌                        | 573/1467 [04:53<07:03,  2.11it/s]/home/dIOGOLOC/programs/anaconda3/lib/python3.10/site-packages/glidertools/load/seaglider.py:227: GliderToolsWarning: dives was not found in the files\n",
      "  warnings.warn(msg, GliderToolsWarning)\n"
     ]
    },
    {
     "name": "stdout",
     "output_type": "stream",
     "text": [
      "\n",
      "DIMENSION: sg_data_point\n",
      "{latitude, longitude, time, depth}\n"
     ]
    },
    {
     "name": "stderr",
     "output_type": "stream",
     "text": [
      " 39%|███████████████▋                        | 574/1467 [04:53<07:04,  2.10it/s]/home/dIOGOLOC/programs/anaconda3/lib/python3.10/site-packages/glidertools/load/seaglider.py:227: GliderToolsWarning: dives was not found in the files\n",
      "  warnings.warn(msg, GliderToolsWarning)\n"
     ]
    },
    {
     "name": "stdout",
     "output_type": "stream",
     "text": [
      "\n",
      "DIMENSION: sg_data_point\n",
      "{latitude, longitude, time, depth}\n"
     ]
    },
    {
     "name": "stderr",
     "output_type": "stream",
     "text": [
      " 39%|███████████████▋                        | 575/1467 [04:53<06:52,  2.16it/s]/home/dIOGOLOC/programs/anaconda3/lib/python3.10/site-packages/glidertools/load/seaglider.py:227: GliderToolsWarning: dives was not found in the files\n",
      "  warnings.warn(msg, GliderToolsWarning)\n"
     ]
    },
    {
     "name": "stdout",
     "output_type": "stream",
     "text": [
      "\n",
      "DIMENSION: sg_data_point\n",
      "{latitude, longitude, time, depth}\n"
     ]
    },
    {
     "name": "stderr",
     "output_type": "stream",
     "text": [
      " 39%|███████████████▋                        | 576/1467 [04:54<07:11,  2.06it/s]/home/dIOGOLOC/programs/anaconda3/lib/python3.10/site-packages/glidertools/load/seaglider.py:227: GliderToolsWarning: dives was not found in the files\n",
      "  warnings.warn(msg, GliderToolsWarning)\n"
     ]
    },
    {
     "name": "stdout",
     "output_type": "stream",
     "text": [
      "\n",
      "DIMENSION: sg_data_point\n",
      "{latitude, longitude, time, depth}\n"
     ]
    },
    {
     "name": "stderr",
     "output_type": "stream",
     "text": [
      " 39%|███████████████▋                        | 577/1467 [04:54<07:09,  2.07it/s]/home/dIOGOLOC/programs/anaconda3/lib/python3.10/site-packages/glidertools/load/seaglider.py:227: GliderToolsWarning: dives was not found in the files\n",
      "  warnings.warn(msg, GliderToolsWarning)\n"
     ]
    },
    {
     "name": "stdout",
     "output_type": "stream",
     "text": [
      "\n",
      "DIMENSION: sg_data_point\n",
      "{latitude, longitude, time, depth}\n"
     ]
    },
    {
     "name": "stderr",
     "output_type": "stream",
     "text": [
      " 39%|███████████████▊                        | 578/1467 [04:55<07:00,  2.11it/s]/home/dIOGOLOC/programs/anaconda3/lib/python3.10/site-packages/glidertools/load/seaglider.py:227: GliderToolsWarning: dives was not found in the files\n",
      "  warnings.warn(msg, GliderToolsWarning)\n"
     ]
    },
    {
     "name": "stdout",
     "output_type": "stream",
     "text": [
      "\n",
      "DIMENSION: sg_data_point\n",
      "{latitude, longitude, time, depth}\n"
     ]
    },
    {
     "name": "stderr",
     "output_type": "stream",
     "text": [
      " 39%|███████████████▊                        | 579/1467 [04:55<07:23,  2.00it/s]/home/dIOGOLOC/programs/anaconda3/lib/python3.10/site-packages/glidertools/load/seaglider.py:227: GliderToolsWarning: dives was not found in the files\n",
      "  warnings.warn(msg, GliderToolsWarning)\n"
     ]
    },
    {
     "name": "stdout",
     "output_type": "stream",
     "text": [
      "\n",
      "DIMENSION: sg_data_point\n",
      "{latitude, longitude, time, depth}\n"
     ]
    },
    {
     "name": "stderr",
     "output_type": "stream",
     "text": [
      " 40%|███████████████▊                        | 580/1467 [04:56<07:05,  2.09it/s]/home/dIOGOLOC/programs/anaconda3/lib/python3.10/site-packages/glidertools/load/seaglider.py:227: GliderToolsWarning: dives was not found in the files\n",
      "  warnings.warn(msg, GliderToolsWarning)\n"
     ]
    },
    {
     "name": "stdout",
     "output_type": "stream",
     "text": [
      "\n",
      "DIMENSION: sg_data_point\n",
      "{latitude, longitude, time, depth}\n"
     ]
    },
    {
     "name": "stderr",
     "output_type": "stream",
     "text": [
      " 40%|███████████████▊                        | 581/1467 [04:56<07:15,  2.03it/s]/home/dIOGOLOC/programs/anaconda3/lib/python3.10/site-packages/glidertools/load/seaglider.py:227: GliderToolsWarning: dives was not found in the files\n",
      "  warnings.warn(msg, GliderToolsWarning)\n"
     ]
    },
    {
     "name": "stdout",
     "output_type": "stream",
     "text": [
      "\n",
      "DIMENSION: sg_data_point\n",
      "{latitude, longitude, time, depth}\n"
     ]
    },
    {
     "name": "stderr",
     "output_type": "stream",
     "text": [
      " 40%|███████████████▊                        | 582/1467 [04:57<07:04,  2.08it/s]/home/dIOGOLOC/programs/anaconda3/lib/python3.10/site-packages/glidertools/load/seaglider.py:227: GliderToolsWarning: dives was not found in the files\n",
      "  warnings.warn(msg, GliderToolsWarning)\n"
     ]
    },
    {
     "name": "stdout",
     "output_type": "stream",
     "text": [
      "\n",
      "DIMENSION: sg_data_point\n",
      "{latitude, longitude, time, depth}\n"
     ]
    },
    {
     "name": "stderr",
     "output_type": "stream",
     "text": [
      " 40%|███████████████▉                        | 583/1467 [04:57<07:06,  2.07it/s]/home/dIOGOLOC/programs/anaconda3/lib/python3.10/site-packages/glidertools/load/seaglider.py:227: GliderToolsWarning: dives was not found in the files\n",
      "  warnings.warn(msg, GliderToolsWarning)\n"
     ]
    },
    {
     "name": "stdout",
     "output_type": "stream",
     "text": [
      "\n",
      "DIMENSION: sg_data_point\n",
      "{latitude, longitude, time, depth}\n"
     ]
    },
    {
     "name": "stderr",
     "output_type": "stream",
     "text": [
      " 40%|███████████████▉                        | 584/1467 [04:58<07:02,  2.09it/s]/home/dIOGOLOC/programs/anaconda3/lib/python3.10/site-packages/glidertools/load/seaglider.py:227: GliderToolsWarning: dives was not found in the files\n",
      "  warnings.warn(msg, GliderToolsWarning)\n"
     ]
    },
    {
     "name": "stdout",
     "output_type": "stream",
     "text": [
      "\n",
      "DIMENSION: sg_data_point\n",
      "{latitude, longitude, time, depth}\n"
     ]
    },
    {
     "name": "stderr",
     "output_type": "stream",
     "text": [
      " 40%|███████████████▉                        | 585/1467 [04:58<06:59,  2.10it/s]/home/dIOGOLOC/programs/anaconda3/lib/python3.10/site-packages/glidertools/load/seaglider.py:227: GliderToolsWarning: dives was not found in the files\n",
      "  warnings.warn(msg, GliderToolsWarning)\n"
     ]
    },
    {
     "name": "stdout",
     "output_type": "stream",
     "text": [
      "\n",
      "DIMENSION: sg_data_point\n",
      "{latitude, longitude, time, depth}\n"
     ]
    },
    {
     "name": "stderr",
     "output_type": "stream",
     "text": [
      " 40%|███████████████▉                        | 586/1467 [04:59<06:58,  2.11it/s]/home/dIOGOLOC/programs/anaconda3/lib/python3.10/site-packages/glidertools/load/seaglider.py:227: GliderToolsWarning: dives was not found in the files\n",
      "  warnings.warn(msg, GliderToolsWarning)\n"
     ]
    },
    {
     "name": "stdout",
     "output_type": "stream",
     "text": [
      "\n",
      "DIMENSION: sg_data_point\n",
      "{latitude, longitude, time, depth}\n"
     ]
    },
    {
     "name": "stderr",
     "output_type": "stream",
     "text": [
      " 40%|████████████████                        | 587/1467 [04:59<07:28,  1.96it/s]/home/dIOGOLOC/programs/anaconda3/lib/python3.10/site-packages/glidertools/load/seaglider.py:227: GliderToolsWarning: dives was not found in the files\n",
      "  warnings.warn(msg, GliderToolsWarning)\n"
     ]
    },
    {
     "name": "stdout",
     "output_type": "stream",
     "text": [
      "\n",
      "DIMENSION: sg_data_point\n",
      "{latitude, longitude, time, depth}\n"
     ]
    },
    {
     "name": "stderr",
     "output_type": "stream",
     "text": [
      " 40%|████████████████                        | 588/1467 [05:00<07:10,  2.04it/s]/home/dIOGOLOC/programs/anaconda3/lib/python3.10/site-packages/glidertools/load/seaglider.py:227: GliderToolsWarning: dives was not found in the files\n",
      "  warnings.warn(msg, GliderToolsWarning)\n"
     ]
    },
    {
     "name": "stdout",
     "output_type": "stream",
     "text": [
      "\n",
      "DIMENSION: sg_data_point\n",
      "{latitude, longitude, time, depth}\n"
     ]
    },
    {
     "name": "stderr",
     "output_type": "stream",
     "text": [
      " 40%|████████████████                        | 589/1467 [05:00<07:06,  2.06it/s]/home/dIOGOLOC/programs/anaconda3/lib/python3.10/site-packages/glidertools/load/seaglider.py:227: GliderToolsWarning: dives was not found in the files\n",
      "  warnings.warn(msg, GliderToolsWarning)\n"
     ]
    },
    {
     "name": "stdout",
     "output_type": "stream",
     "text": [
      "\n",
      "DIMENSION: sg_data_point\n",
      "{latitude, longitude, time, depth}\n"
     ]
    },
    {
     "name": "stderr",
     "output_type": "stream",
     "text": [
      " 40%|████████████████                        | 590/1467 [05:01<07:14,  2.02it/s]/home/dIOGOLOC/programs/anaconda3/lib/python3.10/site-packages/glidertools/load/seaglider.py:227: GliderToolsWarning: dives was not found in the files\n",
      "  warnings.warn(msg, GliderToolsWarning)\n"
     ]
    },
    {
     "name": "stdout",
     "output_type": "stream",
     "text": [
      "\n",
      "DIMENSION: sg_data_point\n",
      "{latitude, longitude, time, depth}\n"
     ]
    },
    {
     "name": "stderr",
     "output_type": "stream",
     "text": [
      " 40%|████████████████                        | 591/1467 [05:01<07:04,  2.06it/s]/home/dIOGOLOC/programs/anaconda3/lib/python3.10/site-packages/glidertools/load/seaglider.py:227: GliderToolsWarning: dives was not found in the files\n",
      "  warnings.warn(msg, GliderToolsWarning)\n"
     ]
    },
    {
     "name": "stdout",
     "output_type": "stream",
     "text": [
      "\n",
      "DIMENSION: sg_data_point\n",
      "{latitude, longitude, time, depth}\n"
     ]
    },
    {
     "name": "stderr",
     "output_type": "stream",
     "text": [
      " 40%|████████████████▏                       | 592/1467 [05:02<06:59,  2.09it/s]/home/dIOGOLOC/programs/anaconda3/lib/python3.10/site-packages/glidertools/load/seaglider.py:227: GliderToolsWarning: dives was not found in the files\n",
      "  warnings.warn(msg, GliderToolsWarning)\n"
     ]
    },
    {
     "name": "stdout",
     "output_type": "stream",
     "text": [
      "\n",
      "DIMENSION: sg_data_point\n",
      "{latitude, longitude, time, depth}\n"
     ]
    },
    {
     "name": "stderr",
     "output_type": "stream",
     "text": [
      " 40%|████████████████▏                       | 593/1467 [05:02<07:05,  2.05it/s]/home/dIOGOLOC/programs/anaconda3/lib/python3.10/site-packages/glidertools/load/seaglider.py:227: GliderToolsWarning: dives was not found in the files\n",
      "  warnings.warn(msg, GliderToolsWarning)\n"
     ]
    },
    {
     "name": "stdout",
     "output_type": "stream",
     "text": [
      "\n",
      "DIMENSION: sg_data_point\n",
      "{latitude, longitude, time, depth}\n"
     ]
    },
    {
     "name": "stderr",
     "output_type": "stream",
     "text": [
      " 40%|████████████████▏                       | 594/1467 [05:03<07:07,  2.04it/s]/home/dIOGOLOC/programs/anaconda3/lib/python3.10/site-packages/glidertools/load/seaglider.py:227: GliderToolsWarning: dives was not found in the files\n",
      "  warnings.warn(msg, GliderToolsWarning)\n"
     ]
    },
    {
     "name": "stdout",
     "output_type": "stream",
     "text": [
      "\n",
      "DIMENSION: sg_data_point\n",
      "{latitude, longitude, time, depth}\n"
     ]
    },
    {
     "name": "stderr",
     "output_type": "stream",
     "text": [
      " 41%|████████████████▏                       | 595/1467 [05:03<07:12,  2.01it/s]/home/dIOGOLOC/programs/anaconda3/lib/python3.10/site-packages/glidertools/load/seaglider.py:227: GliderToolsWarning: dives was not found in the files\n",
      "  warnings.warn(msg, GliderToolsWarning)\n"
     ]
    },
    {
     "name": "stdout",
     "output_type": "stream",
     "text": [
      "\n",
      "DIMENSION: sg_data_point\n",
      "{latitude, longitude, time, depth}\n"
     ]
    },
    {
     "name": "stderr",
     "output_type": "stream",
     "text": [
      " 41%|████████████████▎                       | 596/1467 [05:04<07:04,  2.05it/s]/home/dIOGOLOC/programs/anaconda3/lib/python3.10/site-packages/glidertools/load/seaglider.py:227: GliderToolsWarning: dives was not found in the files\n",
      "  warnings.warn(msg, GliderToolsWarning)\n"
     ]
    },
    {
     "name": "stdout",
     "output_type": "stream",
     "text": [
      "\n",
      "DIMENSION: sg_data_point\n",
      "{latitude, longitude, time, depth}\n"
     ]
    },
    {
     "name": "stderr",
     "output_type": "stream",
     "text": [
      " 41%|████████████████▎                       | 597/1467 [05:04<07:07,  2.03it/s]/home/dIOGOLOC/programs/anaconda3/lib/python3.10/site-packages/glidertools/load/seaglider.py:227: GliderToolsWarning: dives was not found in the files\n",
      "  warnings.warn(msg, GliderToolsWarning)\n"
     ]
    },
    {
     "name": "stdout",
     "output_type": "stream",
     "text": [
      "\n",
      "DIMENSION: sg_data_point\n",
      "{latitude, longitude, time, depth}\n"
     ]
    },
    {
     "name": "stderr",
     "output_type": "stream",
     "text": [
      " 41%|████████████████▎                       | 598/1467 [05:05<07:43,  1.87it/s]/home/dIOGOLOC/programs/anaconda3/lib/python3.10/site-packages/glidertools/load/seaglider.py:227: GliderToolsWarning: dives was not found in the files\n",
      "  warnings.warn(msg, GliderToolsWarning)\n"
     ]
    },
    {
     "name": "stdout",
     "output_type": "stream",
     "text": [
      "\n",
      "DIMENSION: sg_data_point\n",
      "{latitude, longitude, time, depth}\n"
     ]
    },
    {
     "name": "stderr",
     "output_type": "stream",
     "text": [
      " 41%|████████████████▎                       | 599/1467 [05:05<07:21,  1.97it/s]/home/dIOGOLOC/programs/anaconda3/lib/python3.10/site-packages/glidertools/load/seaglider.py:227: GliderToolsWarning: dives was not found in the files\n",
      "  warnings.warn(msg, GliderToolsWarning)\n"
     ]
    },
    {
     "name": "stdout",
     "output_type": "stream",
     "text": [
      "\n",
      "DIMENSION: sg_data_point\n",
      "{latitude, longitude, time, depth}\n"
     ]
    },
    {
     "name": "stderr",
     "output_type": "stream",
     "text": [
      " 41%|████████████████▎                       | 600/1467 [05:06<07:03,  2.05it/s]/home/dIOGOLOC/programs/anaconda3/lib/python3.10/site-packages/glidertools/load/seaglider.py:227: GliderToolsWarning: dives was not found in the files\n",
      "  warnings.warn(msg, GliderToolsWarning)\n"
     ]
    },
    {
     "name": "stdout",
     "output_type": "stream",
     "text": [
      "\n",
      "DIMENSION: sg_data_point\n",
      "{latitude, longitude, time, depth}\n"
     ]
    },
    {
     "name": "stderr",
     "output_type": "stream",
     "text": [
      " 41%|████████████████▍                       | 601/1467 [05:06<07:11,  2.01it/s]/home/dIOGOLOC/programs/anaconda3/lib/python3.10/site-packages/glidertools/load/seaglider.py:227: GliderToolsWarning: dives was not found in the files\n",
      "  warnings.warn(msg, GliderToolsWarning)\n"
     ]
    },
    {
     "name": "stdout",
     "output_type": "stream",
     "text": [
      "\n",
      "DIMENSION: sg_data_point\n",
      "{latitude, longitude, time, depth}\n"
     ]
    },
    {
     "name": "stderr",
     "output_type": "stream",
     "text": [
      " 41%|████████████████▍                       | 602/1467 [05:07<06:59,  2.06it/s]/home/dIOGOLOC/programs/anaconda3/lib/python3.10/site-packages/glidertools/load/seaglider.py:227: GliderToolsWarning: dives was not found in the files\n",
      "  warnings.warn(msg, GliderToolsWarning)\n"
     ]
    },
    {
     "name": "stdout",
     "output_type": "stream",
     "text": [
      "\n",
      "DIMENSION: sg_data_point\n",
      "{latitude, longitude, time, depth}\n"
     ]
    },
    {
     "name": "stderr",
     "output_type": "stream",
     "text": [
      " 41%|████████████████▍                       | 603/1467 [05:07<06:52,  2.09it/s]/home/dIOGOLOC/programs/anaconda3/lib/python3.10/site-packages/glidertools/load/seaglider.py:227: GliderToolsWarning: dives was not found in the files\n",
      "  warnings.warn(msg, GliderToolsWarning)\n"
     ]
    },
    {
     "name": "stdout",
     "output_type": "stream",
     "text": [
      "\n",
      "DIMENSION: sg_data_point\n",
      "{latitude, longitude, time, depth}\n"
     ]
    },
    {
     "name": "stderr",
     "output_type": "stream",
     "text": [
      " 41%|████████████████▍                       | 604/1467 [05:08<06:46,  2.12it/s]/home/dIOGOLOC/programs/anaconda3/lib/python3.10/site-packages/glidertools/load/seaglider.py:227: GliderToolsWarning: dives was not found in the files\n",
      "  warnings.warn(msg, GliderToolsWarning)\n"
     ]
    },
    {
     "name": "stdout",
     "output_type": "stream",
     "text": [
      "\n",
      "DIMENSION: sg_data_point\n",
      "{latitude, longitude, time, depth}\n"
     ]
    },
    {
     "name": "stderr",
     "output_type": "stream",
     "text": [
      " 41%|████████████████▍                       | 605/1467 [05:08<06:48,  2.11it/s]/home/dIOGOLOC/programs/anaconda3/lib/python3.10/site-packages/glidertools/load/seaglider.py:227: GliderToolsWarning: dives was not found in the files\n",
      "  warnings.warn(msg, GliderToolsWarning)\n"
     ]
    },
    {
     "name": "stdout",
     "output_type": "stream",
     "text": [
      "\n",
      "DIMENSION: sg_data_point\n",
      "{latitude, longitude, time, depth}\n"
     ]
    },
    {
     "name": "stderr",
     "output_type": "stream",
     "text": [
      " 41%|████████████████▌                       | 606/1467 [05:09<06:58,  2.06it/s]/home/dIOGOLOC/programs/anaconda3/lib/python3.10/site-packages/glidertools/load/seaglider.py:227: GliderToolsWarning: dives was not found in the files\n",
      "  warnings.warn(msg, GliderToolsWarning)\n"
     ]
    },
    {
     "name": "stdout",
     "output_type": "stream",
     "text": [
      "\n",
      "DIMENSION: sg_data_point\n",
      "{latitude, longitude, time, depth}\n"
     ]
    },
    {
     "name": "stderr",
     "output_type": "stream",
     "text": [
      " 41%|████████████████▌                       | 607/1467 [05:09<07:18,  1.96it/s]/home/dIOGOLOC/programs/anaconda3/lib/python3.10/site-packages/glidertools/load/seaglider.py:227: GliderToolsWarning: dives was not found in the files\n",
      "  warnings.warn(msg, GliderToolsWarning)\n"
     ]
    },
    {
     "name": "stdout",
     "output_type": "stream",
     "text": [
      "\n",
      "DIMENSION: sg_data_point\n",
      "{latitude, longitude, time, depth}\n"
     ]
    },
    {
     "name": "stderr",
     "output_type": "stream",
     "text": [
      " 41%|████████████████▌                       | 608/1467 [05:10<06:56,  2.06it/s]/home/dIOGOLOC/programs/anaconda3/lib/python3.10/site-packages/glidertools/load/seaglider.py:227: GliderToolsWarning: dives was not found in the files\n",
      "  warnings.warn(msg, GliderToolsWarning)\n"
     ]
    },
    {
     "name": "stdout",
     "output_type": "stream",
     "text": [
      "\n",
      "DIMENSION: sg_data_point\n",
      "{latitude, longitude, time, depth}\n"
     ]
    },
    {
     "name": "stderr",
     "output_type": "stream",
     "text": [
      " 42%|████████████████▌                       | 609/1467 [05:10<06:56,  2.06it/s]/home/dIOGOLOC/programs/anaconda3/lib/python3.10/site-packages/glidertools/load/seaglider.py:227: GliderToolsWarning: dives was not found in the files\n",
      "  warnings.warn(msg, GliderToolsWarning)\n"
     ]
    },
    {
     "name": "stdout",
     "output_type": "stream",
     "text": [
      "\n",
      "DIMENSION: sg_data_point\n",
      "{latitude, longitude, time, depth}\n"
     ]
    },
    {
     "name": "stderr",
     "output_type": "stream",
     "text": [
      " 42%|████████████████▋                       | 610/1467 [05:11<06:41,  2.13it/s]/home/dIOGOLOC/programs/anaconda3/lib/python3.10/site-packages/glidertools/load/seaglider.py:227: GliderToolsWarning: dives was not found in the files\n",
      "  warnings.warn(msg, GliderToolsWarning)\n"
     ]
    },
    {
     "name": "stdout",
     "output_type": "stream",
     "text": [
      "\n",
      "DIMENSION: sg_data_point\n",
      "{latitude, longitude, time, depth}\n"
     ]
    },
    {
     "name": "stderr",
     "output_type": "stream",
     "text": [
      " 42%|████████████████▋                       | 611/1467 [05:11<06:39,  2.15it/s]/home/dIOGOLOC/programs/anaconda3/lib/python3.10/site-packages/glidertools/load/seaglider.py:227: GliderToolsWarning: dives was not found in the files\n",
      "  warnings.warn(msg, GliderToolsWarning)\n"
     ]
    },
    {
     "name": "stdout",
     "output_type": "stream",
     "text": [
      "\n",
      "DIMENSION: sg_data_point\n",
      "{latitude, longitude, time, depth}\n"
     ]
    },
    {
     "name": "stderr",
     "output_type": "stream",
     "text": [
      " 42%|████████████████▋                       | 612/1467 [05:11<06:35,  2.16it/s]/home/dIOGOLOC/programs/anaconda3/lib/python3.10/site-packages/glidertools/load/seaglider.py:227: GliderToolsWarning: dives was not found in the files\n",
      "  warnings.warn(msg, GliderToolsWarning)\n"
     ]
    },
    {
     "name": "stdout",
     "output_type": "stream",
     "text": [
      "\n",
      "DIMENSION: sg_data_point\n",
      "{latitude, longitude, time, depth}\n"
     ]
    },
    {
     "name": "stderr",
     "output_type": "stream",
     "text": [
      " 42%|████████████████▋                       | 613/1467 [05:12<06:34,  2.17it/s]/home/dIOGOLOC/programs/anaconda3/lib/python3.10/site-packages/glidertools/load/seaglider.py:227: GliderToolsWarning: dives was not found in the files\n",
      "  warnings.warn(msg, GliderToolsWarning)\n"
     ]
    },
    {
     "name": "stdout",
     "output_type": "stream",
     "text": [
      "\n",
      "DIMENSION: sg_data_point\n",
      "{latitude, longitude, time, depth}\n"
     ]
    },
    {
     "name": "stderr",
     "output_type": "stream",
     "text": [
      " 42%|████████████████▋                       | 614/1467 [05:12<06:33,  2.17it/s]/home/dIOGOLOC/programs/anaconda3/lib/python3.10/site-packages/glidertools/load/seaglider.py:227: GliderToolsWarning: dives was not found in the files\n",
      "  warnings.warn(msg, GliderToolsWarning)\n"
     ]
    },
    {
     "name": "stdout",
     "output_type": "stream",
     "text": [
      "\n",
      "DIMENSION: sg_data_point\n",
      "{latitude, longitude, time, depth}\n"
     ]
    },
    {
     "name": "stderr",
     "output_type": "stream",
     "text": [
      " 42%|████████████████▊                       | 615/1467 [05:13<07:35,  1.87it/s]/home/dIOGOLOC/programs/anaconda3/lib/python3.10/site-packages/glidertools/load/seaglider.py:227: GliderToolsWarning: dives was not found in the files\n",
      "  warnings.warn(msg, GliderToolsWarning)\n"
     ]
    },
    {
     "name": "stdout",
     "output_type": "stream",
     "text": [
      "\n",
      "DIMENSION: sg_data_point\n",
      "{latitude, longitude, time, depth}\n"
     ]
    },
    {
     "name": "stderr",
     "output_type": "stream",
     "text": [
      " 42%|████████████████▊                       | 616/1467 [05:14<08:29,  1.67it/s]/home/dIOGOLOC/programs/anaconda3/lib/python3.10/site-packages/glidertools/load/seaglider.py:227: GliderToolsWarning: dives was not found in the files\n",
      "  warnings.warn(msg, GliderToolsWarning)\n"
     ]
    },
    {
     "name": "stdout",
     "output_type": "stream",
     "text": [
      "\n",
      "DIMENSION: sg_data_point\n",
      "{latitude, longitude, time, depth}\n"
     ]
    },
    {
     "name": "stderr",
     "output_type": "stream",
     "text": [
      " 42%|████████████████▊                       | 617/1467 [05:14<08:27,  1.67it/s]/home/dIOGOLOC/programs/anaconda3/lib/python3.10/site-packages/glidertools/load/seaglider.py:227: GliderToolsWarning: dives was not found in the files\n",
      "  warnings.warn(msg, GliderToolsWarning)\n"
     ]
    },
    {
     "name": "stdout",
     "output_type": "stream",
     "text": [
      "\n",
      "DIMENSION: sg_data_point\n",
      "{latitude, longitude, time, depth}\n"
     ]
    },
    {
     "name": "stderr",
     "output_type": "stream",
     "text": [
      " 42%|████████████████▊                       | 618/1467 [05:15<08:15,  1.71it/s]/home/dIOGOLOC/programs/anaconda3/lib/python3.10/site-packages/glidertools/load/seaglider.py:227: GliderToolsWarning: dives was not found in the files\n",
      "  warnings.warn(msg, GliderToolsWarning)\n"
     ]
    },
    {
     "name": "stdout",
     "output_type": "stream",
     "text": [
      "\n",
      "DIMENSION: sg_data_point\n",
      "{latitude, longitude, time, depth}\n"
     ]
    },
    {
     "name": "stderr",
     "output_type": "stream",
     "text": [
      " 42%|████████████████▉                       | 619/1467 [05:15<07:52,  1.80it/s]/home/dIOGOLOC/programs/anaconda3/lib/python3.10/site-packages/glidertools/load/seaglider.py:227: GliderToolsWarning: dives was not found in the files\n",
      "  warnings.warn(msg, GliderToolsWarning)\n"
     ]
    },
    {
     "name": "stdout",
     "output_type": "stream",
     "text": [
      "\n",
      "DIMENSION: sg_data_point\n",
      "{latitude, longitude, time, depth}\n"
     ]
    },
    {
     "name": "stderr",
     "output_type": "stream",
     "text": [
      " 42%|████████████████▉                       | 620/1467 [05:16<07:34,  1.87it/s]/home/dIOGOLOC/programs/anaconda3/lib/python3.10/site-packages/glidertools/load/seaglider.py:227: GliderToolsWarning: dives was not found in the files\n",
      "  warnings.warn(msg, GliderToolsWarning)\n"
     ]
    },
    {
     "name": "stdout",
     "output_type": "stream",
     "text": [
      "\n",
      "DIMENSION: sg_data_point\n",
      "{latitude, longitude, time, depth}\n"
     ]
    },
    {
     "name": "stderr",
     "output_type": "stream",
     "text": [
      " 42%|████████████████▉                       | 621/1467 [05:16<07:19,  1.93it/s]/home/dIOGOLOC/programs/anaconda3/lib/python3.10/site-packages/glidertools/load/seaglider.py:227: GliderToolsWarning: dives was not found in the files\n",
      "  warnings.warn(msg, GliderToolsWarning)\n"
     ]
    },
    {
     "name": "stdout",
     "output_type": "stream",
     "text": [
      "\n",
      "DIMENSION: sg_data_point\n",
      "{latitude, longitude, time, depth}\n"
     ]
    },
    {
     "name": "stderr",
     "output_type": "stream",
     "text": [
      " 42%|████████████████▉                       | 622/1467 [05:17<07:04,  1.99it/s]/home/dIOGOLOC/programs/anaconda3/lib/python3.10/site-packages/glidertools/load/seaglider.py:227: GliderToolsWarning: dives was not found in the files\n",
      "  warnings.warn(msg, GliderToolsWarning)\n"
     ]
    },
    {
     "name": "stdout",
     "output_type": "stream",
     "text": [
      "\n",
      "DIMENSION: sg_data_point\n",
      "{latitude, longitude, time, depth}\n"
     ]
    },
    {
     "name": "stderr",
     "output_type": "stream",
     "text": [
      " 42%|████████████████▉                       | 623/1467 [05:17<07:07,  1.98it/s]/home/dIOGOLOC/programs/anaconda3/lib/python3.10/site-packages/glidertools/load/seaglider.py:227: GliderToolsWarning: dives was not found in the files\n",
      "  warnings.warn(msg, GliderToolsWarning)\n"
     ]
    },
    {
     "name": "stdout",
     "output_type": "stream",
     "text": [
      "\n",
      "DIMENSION: sg_data_point\n",
      "{latitude, longitude, time, depth}\n"
     ]
    },
    {
     "name": "stderr",
     "output_type": "stream",
     "text": [
      " 43%|█████████████████                       | 624/1467 [05:18<06:52,  2.05it/s]/home/dIOGOLOC/programs/anaconda3/lib/python3.10/site-packages/glidertools/load/seaglider.py:227: GliderToolsWarning: dives was not found in the files\n",
      "  warnings.warn(msg, GliderToolsWarning)\n"
     ]
    },
    {
     "name": "stdout",
     "output_type": "stream",
     "text": [
      "\n",
      "DIMENSION: sg_data_point\n",
      "{latitude, longitude, time, depth}\n"
     ]
    },
    {
     "name": "stderr",
     "output_type": "stream",
     "text": [
      " 43%|█████████████████                       | 625/1467 [05:18<06:43,  2.09it/s]/home/dIOGOLOC/programs/anaconda3/lib/python3.10/site-packages/glidertools/load/seaglider.py:227: GliderToolsWarning: dives was not found in the files\n",
      "  warnings.warn(msg, GliderToolsWarning)\n"
     ]
    },
    {
     "name": "stdout",
     "output_type": "stream",
     "text": [
      "\n",
      "DIMENSION: sg_data_point\n",
      "{latitude, longitude, time, depth}\n"
     ]
    },
    {
     "name": "stderr",
     "output_type": "stream",
     "text": [
      " 43%|█████████████████                       | 626/1467 [05:19<06:36,  2.12it/s]/home/dIOGOLOC/programs/anaconda3/lib/python3.10/site-packages/glidertools/load/seaglider.py:227: GliderToolsWarning: dives was not found in the files\n",
      "  warnings.warn(msg, GliderToolsWarning)\n"
     ]
    },
    {
     "name": "stdout",
     "output_type": "stream",
     "text": [
      "\n",
      "DIMENSION: sg_data_point\n",
      "{latitude, longitude, time, depth}\n"
     ]
    },
    {
     "name": "stderr",
     "output_type": "stream",
     "text": [
      " 43%|█████████████████                       | 627/1467 [05:19<06:41,  2.09it/s]/home/dIOGOLOC/programs/anaconda3/lib/python3.10/site-packages/glidertools/load/seaglider.py:227: GliderToolsWarning: dives was not found in the files\n",
      "  warnings.warn(msg, GliderToolsWarning)\n"
     ]
    },
    {
     "name": "stdout",
     "output_type": "stream",
     "text": [
      "\n",
      "DIMENSION: sg_data_point\n",
      "{latitude, longitude, time, depth}\n"
     ]
    },
    {
     "name": "stderr",
     "output_type": "stream",
     "text": [
      " 43%|█████████████████                       | 628/1467 [05:20<06:42,  2.09it/s]/home/dIOGOLOC/programs/anaconda3/lib/python3.10/site-packages/glidertools/load/seaglider.py:227: GliderToolsWarning: dives was not found in the files\n",
      "  warnings.warn(msg, GliderToolsWarning)\n"
     ]
    },
    {
     "name": "stdout",
     "output_type": "stream",
     "text": [
      "\n",
      "DIMENSION: sg_data_point\n",
      "{latitude, longitude, time, depth}\n"
     ]
    },
    {
     "name": "stderr",
     "output_type": "stream",
     "text": [
      " 43%|█████████████████▏                      | 629/1467 [05:20<07:12,  1.94it/s]/home/dIOGOLOC/programs/anaconda3/lib/python3.10/site-packages/glidertools/load/seaglider.py:227: GliderToolsWarning: dives was not found in the files\n",
      "  warnings.warn(msg, GliderToolsWarning)\n"
     ]
    },
    {
     "name": "stdout",
     "output_type": "stream",
     "text": [
      "\n",
      "DIMENSION: sg_data_point\n",
      "{latitude, longitude, time, depth}\n"
     ]
    },
    {
     "name": "stderr",
     "output_type": "stream",
     "text": [
      " 43%|█████████████████▏                      | 630/1467 [05:21<07:11,  1.94it/s]/home/dIOGOLOC/programs/anaconda3/lib/python3.10/site-packages/glidertools/load/seaglider.py:227: GliderToolsWarning: dives was not found in the files\n",
      "  warnings.warn(msg, GliderToolsWarning)\n"
     ]
    },
    {
     "name": "stdout",
     "output_type": "stream",
     "text": [
      "\n",
      "DIMENSION: sg_data_point\n",
      "{latitude, longitude, time, depth}\n"
     ]
    },
    {
     "name": "stderr",
     "output_type": "stream",
     "text": [
      " 43%|█████████████████▏                      | 631/1467 [05:21<07:24,  1.88it/s]/home/dIOGOLOC/programs/anaconda3/lib/python3.10/site-packages/glidertools/load/seaglider.py:227: GliderToolsWarning: dives was not found in the files\n",
      "  warnings.warn(msg, GliderToolsWarning)\n"
     ]
    },
    {
     "name": "stdout",
     "output_type": "stream",
     "text": [
      "\n",
      "DIMENSION: sg_data_point\n",
      "{latitude, longitude, time, depth}\n"
     ]
    },
    {
     "name": "stderr",
     "output_type": "stream",
     "text": [
      " 43%|█████████████████▏                      | 632/1467 [05:22<07:18,  1.91it/s]/home/dIOGOLOC/programs/anaconda3/lib/python3.10/site-packages/glidertools/load/seaglider.py:227: GliderToolsWarning: dives was not found in the files\n",
      "  warnings.warn(msg, GliderToolsWarning)\n"
     ]
    },
    {
     "name": "stdout",
     "output_type": "stream",
     "text": [
      "\n",
      "DIMENSION: sg_data_point\n",
      "{latitude, longitude, time, depth}\n"
     ]
    },
    {
     "name": "stderr",
     "output_type": "stream",
     "text": [
      " 43%|█████████████████▎                      | 633/1467 [05:23<07:38,  1.82it/s]/home/dIOGOLOC/programs/anaconda3/lib/python3.10/site-packages/glidertools/load/seaglider.py:227: GliderToolsWarning: dives was not found in the files\n",
      "  warnings.warn(msg, GliderToolsWarning)\n"
     ]
    },
    {
     "name": "stdout",
     "output_type": "stream",
     "text": [
      "\n",
      "DIMENSION: sg_data_point\n",
      "{latitude, longitude, time, depth}\n"
     ]
    },
    {
     "name": "stderr",
     "output_type": "stream",
     "text": [
      " 43%|█████████████████▎                      | 634/1467 [05:23<08:04,  1.72it/s]/home/dIOGOLOC/programs/anaconda3/lib/python3.10/site-packages/glidertools/load/seaglider.py:227: GliderToolsWarning: dives was not found in the files\n",
      "  warnings.warn(msg, GliderToolsWarning)\n"
     ]
    },
    {
     "name": "stdout",
     "output_type": "stream",
     "text": [
      "\n",
      "DIMENSION: sg_data_point\n",
      "{latitude, longitude, time, depth}\n"
     ]
    },
    {
     "name": "stderr",
     "output_type": "stream",
     "text": [
      " 43%|█████████████████▎                      | 635/1467 [05:24<07:49,  1.77it/s]/home/dIOGOLOC/programs/anaconda3/lib/python3.10/site-packages/glidertools/load/seaglider.py:227: GliderToolsWarning: dives was not found in the files\n",
      "  warnings.warn(msg, GliderToolsWarning)\n"
     ]
    },
    {
     "name": "stdout",
     "output_type": "stream",
     "text": [
      "\n",
      "DIMENSION: sg_data_point\n",
      "{latitude, longitude, time, depth}\n"
     ]
    },
    {
     "name": "stderr",
     "output_type": "stream",
     "text": [
      " 43%|█████████████████▎                      | 636/1467 [05:24<07:39,  1.81it/s]/home/dIOGOLOC/programs/anaconda3/lib/python3.10/site-packages/glidertools/load/seaglider.py:227: GliderToolsWarning: dives was not found in the files\n",
      "  warnings.warn(msg, GliderToolsWarning)\n"
     ]
    },
    {
     "name": "stdout",
     "output_type": "stream",
     "text": [
      "\n",
      "DIMENSION: sg_data_point\n",
      "{latitude, longitude, time, depth}\n"
     ]
    },
    {
     "name": "stderr",
     "output_type": "stream",
     "text": [
      " 43%|█████████████████▎                      | 637/1467 [05:25<07:45,  1.78it/s]/home/dIOGOLOC/programs/anaconda3/lib/python3.10/site-packages/glidertools/load/seaglider.py:227: GliderToolsWarning: dives was not found in the files\n",
      "  warnings.warn(msg, GliderToolsWarning)\n"
     ]
    },
    {
     "name": "stdout",
     "output_type": "stream",
     "text": [
      "\n",
      "DIMENSION: sg_data_point\n",
      "{latitude, longitude, time, depth}\n"
     ]
    },
    {
     "name": "stderr",
     "output_type": "stream",
     "text": [
      " 43%|█████████████████▍                      | 638/1467 [05:25<07:23,  1.87it/s]/home/dIOGOLOC/programs/anaconda3/lib/python3.10/site-packages/glidertools/load/seaglider.py:227: GliderToolsWarning: dives was not found in the files\n",
      "  warnings.warn(msg, GliderToolsWarning)\n"
     ]
    },
    {
     "name": "stdout",
     "output_type": "stream",
     "text": [
      "\n",
      "DIMENSION: sg_data_point\n",
      "{latitude, longitude, time, depth}\n"
     ]
    },
    {
     "name": "stderr",
     "output_type": "stream",
     "text": [
      " 44%|█████████████████▍                      | 639/1467 [05:26<08:07,  1.70it/s]/home/dIOGOLOC/programs/anaconda3/lib/python3.10/site-packages/glidertools/load/seaglider.py:227: GliderToolsWarning: dives was not found in the files\n",
      "  warnings.warn(msg, GliderToolsWarning)\n"
     ]
    },
    {
     "name": "stdout",
     "output_type": "stream",
     "text": [
      "\n",
      "DIMENSION: sg_data_point\n",
      "{latitude, longitude, time, depth}\n"
     ]
    },
    {
     "name": "stderr",
     "output_type": "stream",
     "text": [
      " 44%|█████████████████▍                      | 640/1467 [05:27<08:08,  1.69it/s]/home/dIOGOLOC/programs/anaconda3/lib/python3.10/site-packages/glidertools/load/seaglider.py:227: GliderToolsWarning: dives was not found in the files\n",
      "  warnings.warn(msg, GliderToolsWarning)\n"
     ]
    },
    {
     "name": "stdout",
     "output_type": "stream",
     "text": [
      "\n",
      "DIMENSION: sg_data_point\n",
      "{latitude, longitude, time, depth}\n"
     ]
    },
    {
     "name": "stderr",
     "output_type": "stream",
     "text": [
      " 44%|█████████████████▍                      | 641/1467 [05:27<08:07,  1.69it/s]/home/dIOGOLOC/programs/anaconda3/lib/python3.10/site-packages/glidertools/load/seaglider.py:227: GliderToolsWarning: dives was not found in the files\n",
      "  warnings.warn(msg, GliderToolsWarning)\n"
     ]
    },
    {
     "name": "stdout",
     "output_type": "stream",
     "text": [
      "\n",
      "DIMENSION: sg_data_point\n",
      "{latitude, longitude, time, depth}\n"
     ]
    },
    {
     "name": "stderr",
     "output_type": "stream",
     "text": [
      " 44%|█████████████████▌                      | 642/1467 [05:28<08:05,  1.70it/s]/home/dIOGOLOC/programs/anaconda3/lib/python3.10/site-packages/glidertools/load/seaglider.py:227: GliderToolsWarning: dives was not found in the files\n",
      "  warnings.warn(msg, GliderToolsWarning)\n"
     ]
    },
    {
     "name": "stdout",
     "output_type": "stream",
     "text": [
      "\n",
      "DIMENSION: sg_data_point\n",
      "{latitude, longitude, time, depth}\n"
     ]
    },
    {
     "name": "stderr",
     "output_type": "stream",
     "text": [
      " 44%|█████████████████▌                      | 643/1467 [05:28<07:56,  1.73it/s]/home/dIOGOLOC/programs/anaconda3/lib/python3.10/site-packages/glidertools/load/seaglider.py:227: GliderToolsWarning: dives was not found in the files\n",
      "  warnings.warn(msg, GliderToolsWarning)\n"
     ]
    },
    {
     "name": "stdout",
     "output_type": "stream",
     "text": [
      "\n",
      "DIMENSION: sg_data_point\n",
      "{latitude, longitude, time, depth}\n"
     ]
    },
    {
     "name": "stderr",
     "output_type": "stream",
     "text": [
      " 44%|█████████████████▌                      | 644/1467 [05:29<07:15,  1.89it/s]/home/dIOGOLOC/programs/anaconda3/lib/python3.10/site-packages/glidertools/load/seaglider.py:227: GliderToolsWarning: dives was not found in the files\n",
      "  warnings.warn(msg, GliderToolsWarning)\n"
     ]
    },
    {
     "name": "stdout",
     "output_type": "stream",
     "text": [
      "\n",
      "DIMENSION: sg_data_point\n",
      "{latitude, longitude, time, depth}\n"
     ]
    },
    {
     "name": "stderr",
     "output_type": "stream",
     "text": [
      " 44%|█████████████████▌                      | 645/1467 [05:29<06:54,  1.98it/s]/home/dIOGOLOC/programs/anaconda3/lib/python3.10/site-packages/glidertools/load/seaglider.py:227: GliderToolsWarning: dives was not found in the files\n",
      "  warnings.warn(msg, GliderToolsWarning)\n"
     ]
    },
    {
     "name": "stdout",
     "output_type": "stream",
     "text": [
      "\n",
      "DIMENSION: sg_data_point\n",
      "{latitude, longitude, time, depth}\n"
     ]
    },
    {
     "name": "stderr",
     "output_type": "stream",
     "text": [
      " 44%|█████████████████▌                      | 646/1467 [05:30<06:33,  2.08it/s]/home/dIOGOLOC/programs/anaconda3/lib/python3.10/site-packages/glidertools/load/seaglider.py:227: GliderToolsWarning: dives was not found in the files\n",
      "  warnings.warn(msg, GliderToolsWarning)\n"
     ]
    },
    {
     "name": "stdout",
     "output_type": "stream",
     "text": [
      "\n",
      "DIMENSION: sg_data_point\n",
      "{latitude, longitude, time, depth}\n"
     ]
    },
    {
     "name": "stderr",
     "output_type": "stream",
     "text": [
      " 44%|█████████████████▋                      | 647/1467 [05:30<06:19,  2.16it/s]/home/dIOGOLOC/programs/anaconda3/lib/python3.10/site-packages/glidertools/load/seaglider.py:227: GliderToolsWarning: dives was not found in the files\n",
      "  warnings.warn(msg, GliderToolsWarning)\n"
     ]
    },
    {
     "name": "stdout",
     "output_type": "stream",
     "text": [
      "\n",
      "DIMENSION: sg_data_point\n",
      "{latitude, longitude, time, depth}\n"
     ]
    },
    {
     "name": "stderr",
     "output_type": "stream",
     "text": [
      " 44%|█████████████████▋                      | 648/1467 [05:30<06:07,  2.23it/s]/home/dIOGOLOC/programs/anaconda3/lib/python3.10/site-packages/glidertools/load/seaglider.py:227: GliderToolsWarning: dives was not found in the files\n",
      "  warnings.warn(msg, GliderToolsWarning)\n"
     ]
    },
    {
     "name": "stdout",
     "output_type": "stream",
     "text": [
      "\n",
      "DIMENSION: sg_data_point\n",
      "{latitude, longitude, time, depth}\n"
     ]
    },
    {
     "name": "stderr",
     "output_type": "stream",
     "text": [
      " 44%|█████████████████▋                      | 649/1467 [05:31<06:01,  2.27it/s]/home/dIOGOLOC/programs/anaconda3/lib/python3.10/site-packages/glidertools/load/seaglider.py:227: GliderToolsWarning: dives was not found in the files\n",
      "  warnings.warn(msg, GliderToolsWarning)\n"
     ]
    },
    {
     "name": "stdout",
     "output_type": "stream",
     "text": [
      "\n",
      "DIMENSION: sg_data_point\n",
      "{latitude, longitude, time, depth}\n"
     ]
    },
    {
     "name": "stderr",
     "output_type": "stream",
     "text": [
      " 44%|█████████████████▋                      | 650/1467 [05:31<06:17,  2.16it/s]/home/dIOGOLOC/programs/anaconda3/lib/python3.10/site-packages/glidertools/load/seaglider.py:227: GliderToolsWarning: dives was not found in the files\n",
      "  warnings.warn(msg, GliderToolsWarning)\n"
     ]
    },
    {
     "name": "stdout",
     "output_type": "stream",
     "text": [
      "\n",
      "DIMENSION: sg_data_point\n",
      "{latitude, longitude, time, depth}\n"
     ]
    },
    {
     "name": "stderr",
     "output_type": "stream",
     "text": [
      " 44%|█████████████████▊                      | 651/1467 [05:32<06:12,  2.19it/s]/home/dIOGOLOC/programs/anaconda3/lib/python3.10/site-packages/glidertools/load/seaglider.py:227: GliderToolsWarning: dives was not found in the files\n",
      "  warnings.warn(msg, GliderToolsWarning)\n"
     ]
    },
    {
     "name": "stdout",
     "output_type": "stream",
     "text": [
      "\n",
      "DIMENSION: sg_data_point\n",
      "{latitude, longitude, time, depth}\n"
     ]
    },
    {
     "name": "stderr",
     "output_type": "stream",
     "text": [
      " 44%|█████████████████▊                      | 652/1467 [05:32<06:08,  2.21it/s]/home/dIOGOLOC/programs/anaconda3/lib/python3.10/site-packages/glidertools/load/seaglider.py:227: GliderToolsWarning: dives was not found in the files\n",
      "  warnings.warn(msg, GliderToolsWarning)\n"
     ]
    },
    {
     "name": "stdout",
     "output_type": "stream",
     "text": [
      "\n",
      "DIMENSION: sg_data_point\n",
      "{latitude, longitude, time, depth}\n"
     ]
    },
    {
     "name": "stderr",
     "output_type": "stream",
     "text": [
      " 45%|█████████████████▊                      | 653/1467 [05:33<06:03,  2.24it/s]/home/dIOGOLOC/programs/anaconda3/lib/python3.10/site-packages/glidertools/load/seaglider.py:227: GliderToolsWarning: dives was not found in the files\n",
      "  warnings.warn(msg, GliderToolsWarning)\n"
     ]
    },
    {
     "name": "stdout",
     "output_type": "stream",
     "text": [
      "\n",
      "DIMENSION: sg_data_point\n",
      "{latitude, longitude, time, depth}\n"
     ]
    },
    {
     "name": "stderr",
     "output_type": "stream",
     "text": [
      " 45%|█████████████████▊                      | 654/1467 [05:33<06:01,  2.25it/s]/home/dIOGOLOC/programs/anaconda3/lib/python3.10/site-packages/glidertools/load/seaglider.py:227: GliderToolsWarning: dives was not found in the files\n",
      "  warnings.warn(msg, GliderToolsWarning)\n"
     ]
    },
    {
     "name": "stdout",
     "output_type": "stream",
     "text": [
      "\n",
      "DIMENSION: sg_data_point\n",
      "{latitude, longitude, time, depth}\n"
     ]
    },
    {
     "name": "stderr",
     "output_type": "stream",
     "text": [
      " 45%|█████████████████▊                      | 655/1467 [05:34<06:01,  2.25it/s]/home/dIOGOLOC/programs/anaconda3/lib/python3.10/site-packages/glidertools/load/seaglider.py:227: GliderToolsWarning: dives was not found in the files\n",
      "  warnings.warn(msg, GliderToolsWarning)\n"
     ]
    },
    {
     "name": "stdout",
     "output_type": "stream",
     "text": [
      "\n",
      "DIMENSION: sg_data_point\n",
      "{latitude, longitude, time, depth}\n"
     ]
    },
    {
     "name": "stderr",
     "output_type": "stream",
     "text": [
      " 45%|█████████████████▉                      | 656/1467 [05:34<06:07,  2.21it/s]/home/dIOGOLOC/programs/anaconda3/lib/python3.10/site-packages/glidertools/load/seaglider.py:227: GliderToolsWarning: dives was not found in the files\n",
      "  warnings.warn(msg, GliderToolsWarning)\n"
     ]
    },
    {
     "name": "stdout",
     "output_type": "stream",
     "text": [
      "\n",
      "DIMENSION: sg_data_point\n",
      "{latitude, longitude, time, depth}\n"
     ]
    },
    {
     "name": "stderr",
     "output_type": "stream",
     "text": [
      " 45%|█████████████████▉                      | 657/1467 [05:34<05:58,  2.26it/s]/home/dIOGOLOC/programs/anaconda3/lib/python3.10/site-packages/glidertools/load/seaglider.py:227: GliderToolsWarning: dives was not found in the files\n",
      "  warnings.warn(msg, GliderToolsWarning)\n"
     ]
    },
    {
     "name": "stdout",
     "output_type": "stream",
     "text": [
      "\n",
      "DIMENSION: sg_data_point\n",
      "{latitude, longitude, time, depth}\n"
     ]
    },
    {
     "name": "stderr",
     "output_type": "stream",
     "text": [
      " 45%|█████████████████▉                      | 658/1467 [05:35<05:49,  2.31it/s]/home/dIOGOLOC/programs/anaconda3/lib/python3.10/site-packages/glidertools/load/seaglider.py:227: GliderToolsWarning: dives was not found in the files\n",
      "  warnings.warn(msg, GliderToolsWarning)\n"
     ]
    },
    {
     "name": "stdout",
     "output_type": "stream",
     "text": [
      "\n",
      "DIMENSION: sg_data_point\n",
      "{latitude, longitude, time, depth}\n"
     ]
    },
    {
     "name": "stderr",
     "output_type": "stream",
     "text": [
      " 45%|█████████████████▉                      | 659/1467 [05:35<05:45,  2.34it/s]/home/dIOGOLOC/programs/anaconda3/lib/python3.10/site-packages/glidertools/load/seaglider.py:227: GliderToolsWarning: dives was not found in the files\n",
      "  warnings.warn(msg, GliderToolsWarning)\n"
     ]
    },
    {
     "name": "stdout",
     "output_type": "stream",
     "text": [
      "\n",
      "DIMENSION: sg_data_point\n",
      "{latitude, longitude, time, depth}\n"
     ]
    },
    {
     "name": "stderr",
     "output_type": "stream",
     "text": [
      " 45%|█████████████████▉                      | 660/1467 [05:36<05:41,  2.36it/s]/home/dIOGOLOC/programs/anaconda3/lib/python3.10/site-packages/glidertools/load/seaglider.py:227: GliderToolsWarning: dives was not found in the files\n",
      "  warnings.warn(msg, GliderToolsWarning)\n"
     ]
    },
    {
     "name": "stdout",
     "output_type": "stream",
     "text": [
      "\n",
      "DIMENSION: sg_data_point\n",
      "{latitude, longitude, time, depth}\n"
     ]
    },
    {
     "name": "stderr",
     "output_type": "stream",
     "text": [
      " 45%|██████████████████                      | 661/1467 [05:36<06:01,  2.23it/s]/home/dIOGOLOC/programs/anaconda3/lib/python3.10/site-packages/glidertools/load/seaglider.py:227: GliderToolsWarning: dives was not found in the files\n",
      "  warnings.warn(msg, GliderToolsWarning)\n"
     ]
    },
    {
     "name": "stdout",
     "output_type": "stream",
     "text": [
      "\n",
      "DIMENSION: sg_data_point\n",
      "{latitude, longitude, time, depth}\n"
     ]
    },
    {
     "name": "stderr",
     "output_type": "stream",
     "text": [
      " 45%|██████████████████                      | 662/1467 [05:37<06:09,  2.18it/s]/home/dIOGOLOC/programs/anaconda3/lib/python3.10/site-packages/glidertools/load/seaglider.py:227: GliderToolsWarning: dives was not found in the files\n",
      "  warnings.warn(msg, GliderToolsWarning)\n"
     ]
    },
    {
     "name": "stdout",
     "output_type": "stream",
     "text": [
      "\n",
      "DIMENSION: sg_data_point\n",
      "{latitude, longitude, time, depth}\n"
     ]
    },
    {
     "name": "stderr",
     "output_type": "stream",
     "text": [
      " 45%|██████████████████                      | 663/1467 [05:37<05:58,  2.24it/s]/home/dIOGOLOC/programs/anaconda3/lib/python3.10/site-packages/glidertools/load/seaglider.py:227: GliderToolsWarning: dives was not found in the files\n",
      "  warnings.warn(msg, GliderToolsWarning)\n"
     ]
    },
    {
     "name": "stdout",
     "output_type": "stream",
     "text": [
      "\n",
      "DIMENSION: sg_data_point\n",
      "{latitude, longitude, time, depth}\n"
     ]
    },
    {
     "name": "stderr",
     "output_type": "stream",
     "text": [
      " 45%|██████████████████                      | 664/1467 [05:38<05:50,  2.29it/s]/home/dIOGOLOC/programs/anaconda3/lib/python3.10/site-packages/glidertools/load/seaglider.py:227: GliderToolsWarning: dives was not found in the files\n",
      "  warnings.warn(msg, GliderToolsWarning)\n"
     ]
    },
    {
     "name": "stdout",
     "output_type": "stream",
     "text": [
      "\n",
      "DIMENSION: sg_data_point\n",
      "{latitude, longitude, time, depth}\n"
     ]
    },
    {
     "name": "stderr",
     "output_type": "stream",
     "text": [
      " 45%|██████████████████▏                     | 665/1467 [05:38<05:50,  2.29it/s]/home/dIOGOLOC/programs/anaconda3/lib/python3.10/site-packages/glidertools/load/seaglider.py:227: GliderToolsWarning: dives was not found in the files\n",
      "  warnings.warn(msg, GliderToolsWarning)\n"
     ]
    },
    {
     "name": "stdout",
     "output_type": "stream",
     "text": [
      "\n",
      "DIMENSION: sg_data_point\n",
      "{latitude, longitude, time, depth}\n"
     ]
    },
    {
     "name": "stderr",
     "output_type": "stream",
     "text": [
      " 45%|██████████████████▏                     | 666/1467 [05:38<05:52,  2.27it/s]/home/dIOGOLOC/programs/anaconda3/lib/python3.10/site-packages/glidertools/load/seaglider.py:227: GliderToolsWarning: dives was not found in the files\n",
      "  warnings.warn(msg, GliderToolsWarning)\n"
     ]
    },
    {
     "name": "stdout",
     "output_type": "stream",
     "text": [
      "\n",
      "DIMENSION: sg_data_point\n",
      "{latitude, longitude, time, depth}\n"
     ]
    },
    {
     "name": "stderr",
     "output_type": "stream",
     "text": [
      " 45%|██████████████████▏                     | 667/1467 [05:39<05:52,  2.27it/s]/home/dIOGOLOC/programs/anaconda3/lib/python3.10/site-packages/glidertools/load/seaglider.py:227: GliderToolsWarning: dives was not found in the files\n",
      "  warnings.warn(msg, GliderToolsWarning)\n"
     ]
    },
    {
     "name": "stdout",
     "output_type": "stream",
     "text": [
      "\n",
      "DIMENSION: sg_data_point\n",
      "{latitude, longitude, time, depth}\n"
     ]
    },
    {
     "name": "stderr",
     "output_type": "stream",
     "text": [
      " 46%|██████████████████▏                     | 668/1467 [05:39<06:05,  2.19it/s]/home/dIOGOLOC/programs/anaconda3/lib/python3.10/site-packages/glidertools/load/seaglider.py:227: GliderToolsWarning: dives was not found in the files\n",
      "  warnings.warn(msg, GliderToolsWarning)\n"
     ]
    },
    {
     "name": "stdout",
     "output_type": "stream",
     "text": [
      "\n",
      "DIMENSION: sg_data_point\n",
      "{latitude, longitude, time, depth}\n"
     ]
    },
    {
     "name": "stderr",
     "output_type": "stream",
     "text": [
      " 46%|██████████████████▏                     | 669/1467 [05:40<06:08,  2.16it/s]/home/dIOGOLOC/programs/anaconda3/lib/python3.10/site-packages/glidertools/load/seaglider.py:227: GliderToolsWarning: dives was not found in the files\n",
      "  warnings.warn(msg, GliderToolsWarning)\n"
     ]
    },
    {
     "name": "stdout",
     "output_type": "stream",
     "text": [
      "\n",
      "DIMENSION: sg_data_point\n",
      "{latitude, longitude, time, depth}\n"
     ]
    },
    {
     "name": "stderr",
     "output_type": "stream",
     "text": [
      " 46%|██████████████████▎                     | 670/1467 [05:40<06:19,  2.10it/s]/home/dIOGOLOC/programs/anaconda3/lib/python3.10/site-packages/glidertools/load/seaglider.py:227: GliderToolsWarning: dives was not found in the files\n",
      "  warnings.warn(msg, GliderToolsWarning)\n"
     ]
    },
    {
     "name": "stdout",
     "output_type": "stream",
     "text": [
      "\n",
      "DIMENSION: sg_data_point\n",
      "{latitude, longitude, time, depth}\n"
     ]
    },
    {
     "name": "stderr",
     "output_type": "stream",
     "text": [
      " 46%|██████████████████▎                     | 671/1467 [05:41<06:04,  2.18it/s]/home/dIOGOLOC/programs/anaconda3/lib/python3.10/site-packages/glidertools/load/seaglider.py:227: GliderToolsWarning: dives was not found in the files\n",
      "  warnings.warn(msg, GliderToolsWarning)\n"
     ]
    },
    {
     "name": "stdout",
     "output_type": "stream",
     "text": [
      "\n",
      "DIMENSION: sg_data_point\n",
      "{latitude, longitude, time, depth}\n"
     ]
    },
    {
     "name": "stderr",
     "output_type": "stream",
     "text": [
      " 46%|██████████████████▎                     | 672/1467 [05:41<06:16,  2.11it/s]/home/dIOGOLOC/programs/anaconda3/lib/python3.10/site-packages/glidertools/load/seaglider.py:227: GliderToolsWarning: dives was not found in the files\n",
      "  warnings.warn(msg, GliderToolsWarning)\n"
     ]
    },
    {
     "name": "stdout",
     "output_type": "stream",
     "text": [
      "\n",
      "DIMENSION: sg_data_point\n",
      "{latitude, longitude, time, depth}\n"
     ]
    },
    {
     "name": "stderr",
     "output_type": "stream",
     "text": [
      " 46%|██████████████████▎                     | 673/1467 [05:42<06:02,  2.19it/s]/home/dIOGOLOC/programs/anaconda3/lib/python3.10/site-packages/glidertools/load/seaglider.py:227: GliderToolsWarning: dives was not found in the files\n",
      "  warnings.warn(msg, GliderToolsWarning)\n"
     ]
    },
    {
     "name": "stdout",
     "output_type": "stream",
     "text": [
      "\n",
      "DIMENSION: sg_data_point\n",
      "{latitude, longitude, time, depth}\n"
     ]
    },
    {
     "name": "stderr",
     "output_type": "stream",
     "text": [
      " 46%|██████████████████▍                     | 674/1467 [05:42<05:50,  2.26it/s]/home/dIOGOLOC/programs/anaconda3/lib/python3.10/site-packages/glidertools/load/seaglider.py:227: GliderToolsWarning: dives was not found in the files\n",
      "  warnings.warn(msg, GliderToolsWarning)\n"
     ]
    },
    {
     "name": "stdout",
     "output_type": "stream",
     "text": [
      "\n",
      "DIMENSION: sg_data_point\n",
      "{latitude, longitude, time, depth}\n"
     ]
    },
    {
     "name": "stderr",
     "output_type": "stream",
     "text": [
      " 46%|██████████████████▍                     | 675/1467 [05:43<05:42,  2.31it/s]/home/dIOGOLOC/programs/anaconda3/lib/python3.10/site-packages/glidertools/load/seaglider.py:227: GliderToolsWarning: dives was not found in the files\n",
      "  warnings.warn(msg, GliderToolsWarning)\n"
     ]
    },
    {
     "name": "stdout",
     "output_type": "stream",
     "text": [
      "\n",
      "DIMENSION: sg_data_point\n",
      "{latitude, longitude, time, depth}\n"
     ]
    },
    {
     "name": "stderr",
     "output_type": "stream",
     "text": [
      " 46%|██████████████████▍                     | 676/1467 [05:43<05:37,  2.34it/s]/home/dIOGOLOC/programs/anaconda3/lib/python3.10/site-packages/glidertools/load/seaglider.py:227: GliderToolsWarning: dives was not found in the files\n",
      "  warnings.warn(msg, GliderToolsWarning)\n"
     ]
    },
    {
     "name": "stdout",
     "output_type": "stream",
     "text": [
      "\n",
      "DIMENSION: sg_data_point\n",
      "{latitude, longitude, time, depth}\n"
     ]
    },
    {
     "name": "stderr",
     "output_type": "stream",
     "text": [
      " 46%|██████████████████▍                     | 677/1467 [05:43<05:34,  2.36it/s]/home/dIOGOLOC/programs/anaconda3/lib/python3.10/site-packages/glidertools/load/seaglider.py:227: GliderToolsWarning: dives was not found in the files\n",
      "  warnings.warn(msg, GliderToolsWarning)\n"
     ]
    },
    {
     "name": "stdout",
     "output_type": "stream",
     "text": [
      "\n",
      "DIMENSION: sg_data_point\n",
      "{latitude, longitude, time, depth}\n"
     ]
    },
    {
     "name": "stderr",
     "output_type": "stream",
     "text": [
      " 46%|██████████████████▍                     | 678/1467 [05:44<05:36,  2.34it/s]/home/dIOGOLOC/programs/anaconda3/lib/python3.10/site-packages/glidertools/load/seaglider.py:227: GliderToolsWarning: dives was not found in the files\n",
      "  warnings.warn(msg, GliderToolsWarning)\n"
     ]
    },
    {
     "name": "stdout",
     "output_type": "stream",
     "text": [
      "\n",
      "DIMENSION: sg_data_point\n",
      "{latitude, longitude, time, depth}\n"
     ]
    },
    {
     "name": "stderr",
     "output_type": "stream",
     "text": [
      " 46%|██████████████████▌                     | 679/1467 [05:44<05:39,  2.32it/s]/home/dIOGOLOC/programs/anaconda3/lib/python3.10/site-packages/glidertools/load/seaglider.py:227: GliderToolsWarning: dives was not found in the files\n",
      "  warnings.warn(msg, GliderToolsWarning)\n"
     ]
    },
    {
     "name": "stdout",
     "output_type": "stream",
     "text": [
      "\n",
      "DIMENSION: sg_data_point\n",
      "{latitude, longitude, time, depth}\n"
     ]
    },
    {
     "name": "stderr",
     "output_type": "stream",
     "text": [
      " 46%|██████████████████▌                     | 680/1467 [05:45<05:38,  2.32it/s]/home/dIOGOLOC/programs/anaconda3/lib/python3.10/site-packages/glidertools/load/seaglider.py:227: GliderToolsWarning: dives was not found in the files\n",
      "  warnings.warn(msg, GliderToolsWarning)\n"
     ]
    },
    {
     "name": "stdout",
     "output_type": "stream",
     "text": [
      "\n",
      "DIMENSION: sg_data_point\n",
      "{latitude, longitude, time, depth}\n"
     ]
    },
    {
     "name": "stderr",
     "output_type": "stream",
     "text": [
      " 46%|██████████████████▌                     | 681/1467 [05:45<05:33,  2.36it/s]/home/dIOGOLOC/programs/anaconda3/lib/python3.10/site-packages/glidertools/load/seaglider.py:227: GliderToolsWarning: dives was not found in the files\n",
      "  warnings.warn(msg, GliderToolsWarning)\n"
     ]
    },
    {
     "name": "stdout",
     "output_type": "stream",
     "text": [
      "\n",
      "DIMENSION: sg_data_point\n",
      "{latitude, longitude, time, depth}\n"
     ]
    },
    {
     "name": "stderr",
     "output_type": "stream",
     "text": [
      " 46%|██████████████████▌                     | 682/1467 [05:45<05:30,  2.38it/s]/home/dIOGOLOC/programs/anaconda3/lib/python3.10/site-packages/glidertools/load/seaglider.py:227: GliderToolsWarning: dives was not found in the files\n",
      "  warnings.warn(msg, GliderToolsWarning)\n"
     ]
    },
    {
     "name": "stdout",
     "output_type": "stream",
     "text": [
      "\n",
      "DIMENSION: sg_data_point\n",
      "{latitude, longitude, time, depth}\n"
     ]
    },
    {
     "name": "stderr",
     "output_type": "stream",
     "text": [
      " 47%|██████████████████▌                     | 683/1467 [05:46<05:50,  2.24it/s]/home/dIOGOLOC/programs/anaconda3/lib/python3.10/site-packages/glidertools/load/seaglider.py:227: GliderToolsWarning: dives was not found in the files\n",
      "  warnings.warn(msg, GliderToolsWarning)\n"
     ]
    },
    {
     "name": "stdout",
     "output_type": "stream",
     "text": [
      "\n",
      "DIMENSION: sg_data_point\n",
      "{latitude, longitude, time, depth}\n"
     ]
    },
    {
     "name": "stderr",
     "output_type": "stream",
     "text": [
      " 47%|██████████████████▋                     | 684/1467 [05:46<05:43,  2.28it/s]/home/dIOGOLOC/programs/anaconda3/lib/python3.10/site-packages/glidertools/load/seaglider.py:227: GliderToolsWarning: dives was not found in the files\n",
      "  warnings.warn(msg, GliderToolsWarning)\n"
     ]
    },
    {
     "name": "stdout",
     "output_type": "stream",
     "text": [
      "\n",
      "DIMENSION: sg_data_point\n",
      "{latitude, longitude, time, depth}\n"
     ]
    },
    {
     "name": "stderr",
     "output_type": "stream",
     "text": [
      " 47%|██████████████████▋                     | 685/1467 [05:47<05:35,  2.33it/s]/home/dIOGOLOC/programs/anaconda3/lib/python3.10/site-packages/glidertools/load/seaglider.py:227: GliderToolsWarning: dives was not found in the files\n",
      "  warnings.warn(msg, GliderToolsWarning)\n"
     ]
    },
    {
     "name": "stdout",
     "output_type": "stream",
     "text": [
      "\n",
      "DIMENSION: sg_data_point\n",
      "{latitude, longitude, time, depth}\n"
     ]
    },
    {
     "name": "stderr",
     "output_type": "stream",
     "text": [
      " 47%|██████████████████▋                     | 686/1467 [05:47<05:33,  2.34it/s]/home/dIOGOLOC/programs/anaconda3/lib/python3.10/site-packages/glidertools/load/seaglider.py:227: GliderToolsWarning: dives was not found in the files\n",
      "  warnings.warn(msg, GliderToolsWarning)\n"
     ]
    },
    {
     "name": "stdout",
     "output_type": "stream",
     "text": [
      "\n",
      "DIMENSION: sg_data_point\n",
      "{latitude, longitude, time, depth}\n"
     ]
    },
    {
     "name": "stderr",
     "output_type": "stream",
     "text": [
      " 47%|██████████████████▋                     | 687/1467 [05:48<05:31,  2.35it/s]/home/dIOGOLOC/programs/anaconda3/lib/python3.10/site-packages/glidertools/load/seaglider.py:227: GliderToolsWarning: dives was not found in the files\n",
      "  warnings.warn(msg, GliderToolsWarning)\n"
     ]
    },
    {
     "name": "stdout",
     "output_type": "stream",
     "text": [
      "\n",
      "DIMENSION: sg_data_point\n",
      "{latitude, longitude, time, depth}\n"
     ]
    },
    {
     "name": "stderr",
     "output_type": "stream",
     "text": [
      " 47%|██████████████████▊                     | 688/1467 [05:48<05:30,  2.36it/s]/home/dIOGOLOC/programs/anaconda3/lib/python3.10/site-packages/glidertools/load/seaglider.py:227: GliderToolsWarning: dives was not found in the files\n",
      "  warnings.warn(msg, GliderToolsWarning)\n"
     ]
    },
    {
     "name": "stdout",
     "output_type": "stream",
     "text": [
      "\n",
      "DIMENSION: sg_data_point\n",
      "{latitude, longitude, time, depth}\n"
     ]
    },
    {
     "name": "stderr",
     "output_type": "stream",
     "text": [
      " 47%|██████████████████▊                     | 689/1467 [05:48<05:29,  2.36it/s]/home/dIOGOLOC/programs/anaconda3/lib/python3.10/site-packages/glidertools/load/seaglider.py:227: GliderToolsWarning: dives was not found in the files\n",
      "  warnings.warn(msg, GliderToolsWarning)\n"
     ]
    },
    {
     "name": "stdout",
     "output_type": "stream",
     "text": [
      "\n",
      "DIMENSION: sg_data_point\n",
      "{latitude, longitude, time, depth}\n"
     ]
    },
    {
     "name": "stderr",
     "output_type": "stream",
     "text": [
      " 47%|██████████████████▊                     | 690/1467 [05:49<05:27,  2.38it/s]/home/dIOGOLOC/programs/anaconda3/lib/python3.10/site-packages/glidertools/load/seaglider.py:227: GliderToolsWarning: dives was not found in the files\n",
      "  warnings.warn(msg, GliderToolsWarning)\n"
     ]
    },
    {
     "name": "stdout",
     "output_type": "stream",
     "text": [
      "\n",
      "DIMENSION: sg_data_point\n",
      "{latitude, longitude, time, depth}\n"
     ]
    },
    {
     "name": "stderr",
     "output_type": "stream",
     "text": [
      " 47%|██████████████████▊                     | 691/1467 [05:49<05:30,  2.35it/s]/home/dIOGOLOC/programs/anaconda3/lib/python3.10/site-packages/glidertools/load/seaglider.py:227: GliderToolsWarning: dives was not found in the files\n",
      "  warnings.warn(msg, GliderToolsWarning)\n"
     ]
    },
    {
     "name": "stdout",
     "output_type": "stream",
     "text": [
      "\n",
      "DIMENSION: sg_data_point\n",
      "{latitude, longitude, time, depth}\n"
     ]
    },
    {
     "name": "stderr",
     "output_type": "stream",
     "text": [
      " 47%|██████████████████▊                     | 692/1467 [05:50<05:29,  2.35it/s]/home/dIOGOLOC/programs/anaconda3/lib/python3.10/site-packages/glidertools/load/seaglider.py:227: GliderToolsWarning: dives was not found in the files\n",
      "  warnings.warn(msg, GliderToolsWarning)\n"
     ]
    },
    {
     "name": "stdout",
     "output_type": "stream",
     "text": [
      "\n",
      "DIMENSION: sg_data_point\n",
      "{latitude, longitude, time, depth}\n"
     ]
    },
    {
     "name": "stderr",
     "output_type": "stream",
     "text": [
      " 47%|██████████████████▉                     | 693/1467 [05:50<05:24,  2.38it/s]/home/dIOGOLOC/programs/anaconda3/lib/python3.10/site-packages/glidertools/load/seaglider.py:227: GliderToolsWarning: dives was not found in the files\n",
      "  warnings.warn(msg, GliderToolsWarning)\n"
     ]
    },
    {
     "name": "stdout",
     "output_type": "stream",
     "text": [
      "\n",
      "DIMENSION: sg_data_point\n",
      "{latitude, longitude, time, depth}\n"
     ]
    },
    {
     "name": "stderr",
     "output_type": "stream",
     "text": [
      " 47%|██████████████████▉                     | 694/1467 [05:51<05:57,  2.16it/s]/home/dIOGOLOC/programs/anaconda3/lib/python3.10/site-packages/glidertools/load/seaglider.py:227: GliderToolsWarning: dives was not found in the files\n",
      "  warnings.warn(msg, GliderToolsWarning)\n"
     ]
    },
    {
     "name": "stdout",
     "output_type": "stream",
     "text": [
      "\n",
      "DIMENSION: sg_data_point\n",
      "{latitude, longitude, time, depth}\n"
     ]
    },
    {
     "name": "stderr",
     "output_type": "stream",
     "text": [
      " 47%|██████████████████▉                     | 695/1467 [05:51<05:47,  2.22it/s]/home/dIOGOLOC/programs/anaconda3/lib/python3.10/site-packages/glidertools/load/seaglider.py:227: GliderToolsWarning: dives was not found in the files\n",
      "  warnings.warn(msg, GliderToolsWarning)\n"
     ]
    },
    {
     "name": "stdout",
     "output_type": "stream",
     "text": [
      "\n",
      "DIMENSION: sg_data_point\n",
      "{latitude, longitude, time, depth}\n"
     ]
    },
    {
     "name": "stderr",
     "output_type": "stream",
     "text": [
      " 47%|██████████████████▉                     | 696/1467 [05:52<05:39,  2.27it/s]/home/dIOGOLOC/programs/anaconda3/lib/python3.10/site-packages/glidertools/load/seaglider.py:227: GliderToolsWarning: dives was not found in the files\n",
      "  warnings.warn(msg, GliderToolsWarning)\n"
     ]
    },
    {
     "name": "stdout",
     "output_type": "stream",
     "text": [
      "\n",
      "DIMENSION: sg_data_point\n",
      "{latitude, longitude, time, depth}\n"
     ]
    },
    {
     "name": "stderr",
     "output_type": "stream",
     "text": [
      " 48%|███████████████████                     | 697/1467 [05:52<05:31,  2.32it/s]/home/dIOGOLOC/programs/anaconda3/lib/python3.10/site-packages/glidertools/load/seaglider.py:227: GliderToolsWarning: dives was not found in the files\n",
      "  warnings.warn(msg, GliderToolsWarning)\n"
     ]
    },
    {
     "name": "stdout",
     "output_type": "stream",
     "text": [
      "\n",
      "DIMENSION: sg_data_point\n",
      "{latitude, longitude, time, depth}\n"
     ]
    },
    {
     "name": "stderr",
     "output_type": "stream",
     "text": [
      " 48%|███████████████████                     | 698/1467 [05:52<05:28,  2.34it/s]/home/dIOGOLOC/programs/anaconda3/lib/python3.10/site-packages/glidertools/load/seaglider.py:227: GliderToolsWarning: dives was not found in the files\n",
      "  warnings.warn(msg, GliderToolsWarning)\n"
     ]
    },
    {
     "name": "stdout",
     "output_type": "stream",
     "text": [
      "\n",
      "DIMENSION: sg_data_point\n",
      "{latitude, longitude, time, depth}\n"
     ]
    },
    {
     "name": "stderr",
     "output_type": "stream",
     "text": [
      " 48%|███████████████████                     | 699/1467 [05:53<05:25,  2.36it/s]/home/dIOGOLOC/programs/anaconda3/lib/python3.10/site-packages/glidertools/load/seaglider.py:227: GliderToolsWarning: dives was not found in the files\n",
      "  warnings.warn(msg, GliderToolsWarning)\n"
     ]
    },
    {
     "name": "stdout",
     "output_type": "stream",
     "text": [
      "\n",
      "DIMENSION: sg_data_point\n",
      "{latitude, longitude, time, depth}\n"
     ]
    },
    {
     "name": "stderr",
     "output_type": "stream",
     "text": [
      " 48%|███████████████████                     | 700/1467 [05:53<05:30,  2.32it/s]/home/dIOGOLOC/programs/anaconda3/lib/python3.10/site-packages/glidertools/load/seaglider.py:227: GliderToolsWarning: dives was not found in the files\n",
      "  warnings.warn(msg, GliderToolsWarning)\n"
     ]
    },
    {
     "name": "stdout",
     "output_type": "stream",
     "text": [
      "\n",
      "DIMENSION: sg_data_point\n",
      "{latitude, longitude, time, depth}\n"
     ]
    },
    {
     "name": "stderr",
     "output_type": "stream",
     "text": [
      " 48%|███████████████████                     | 701/1467 [05:54<05:34,  2.29it/s]/home/dIOGOLOC/programs/anaconda3/lib/python3.10/site-packages/glidertools/load/seaglider.py:227: GliderToolsWarning: dives was not found in the files\n",
      "  warnings.warn(msg, GliderToolsWarning)\n"
     ]
    },
    {
     "name": "stdout",
     "output_type": "stream",
     "text": [
      "\n",
      "DIMENSION: sg_data_point\n",
      "{latitude, longitude, time, depth}\n"
     ]
    },
    {
     "name": "stderr",
     "output_type": "stream",
     "text": [
      " 48%|███████████████████▏                    | 702/1467 [05:54<05:42,  2.23it/s]/home/dIOGOLOC/programs/anaconda3/lib/python3.10/site-packages/glidertools/load/seaglider.py:227: GliderToolsWarning: dives was not found in the files\n",
      "  warnings.warn(msg, GliderToolsWarning)\n"
     ]
    },
    {
     "name": "stdout",
     "output_type": "stream",
     "text": [
      "\n",
      "DIMENSION: sg_data_point\n",
      "{latitude, longitude, time, depth}\n"
     ]
    },
    {
     "name": "stderr",
     "output_type": "stream",
     "text": [
      " 48%|███████████████████▏                    | 703/1467 [05:55<06:20,  2.01it/s]/home/dIOGOLOC/programs/anaconda3/lib/python3.10/site-packages/glidertools/load/seaglider.py:227: GliderToolsWarning: dives was not found in the files\n",
      "  warnings.warn(msg, GliderToolsWarning)\n"
     ]
    },
    {
     "name": "stdout",
     "output_type": "stream",
     "text": [
      "\n",
      "DIMENSION: sg_data_point\n",
      "{latitude, longitude, time, depth}\n"
     ]
    },
    {
     "name": "stderr",
     "output_type": "stream",
     "text": [
      " 48%|███████████████████▏                    | 704/1467 [05:55<06:34,  1.94it/s]/home/dIOGOLOC/programs/anaconda3/lib/python3.10/site-packages/glidertools/load/seaglider.py:227: GliderToolsWarning: dives was not found in the files\n",
      "  warnings.warn(msg, GliderToolsWarning)\n"
     ]
    },
    {
     "name": "stdout",
     "output_type": "stream",
     "text": [
      "\n",
      "DIMENSION: sg_data_point\n",
      "{latitude, longitude, time, depth}\n"
     ]
    },
    {
     "name": "stderr",
     "output_type": "stream",
     "text": [
      " 48%|███████████████████▏                    | 705/1467 [05:56<06:43,  1.89it/s]/home/dIOGOLOC/programs/anaconda3/lib/python3.10/site-packages/glidertools/load/seaglider.py:227: GliderToolsWarning: dives was not found in the files\n",
      "  warnings.warn(msg, GliderToolsWarning)\n"
     ]
    },
    {
     "name": "stdout",
     "output_type": "stream",
     "text": [
      "\n",
      "DIMENSION: sg_data_point\n",
      "{latitude, longitude, time, depth}\n"
     ]
    },
    {
     "name": "stderr",
     "output_type": "stream",
     "text": [
      " 48%|███████████████████▎                    | 706/1467 [05:56<06:18,  2.01it/s]/home/dIOGOLOC/programs/anaconda3/lib/python3.10/site-packages/glidertools/load/seaglider.py:227: GliderToolsWarning: dives was not found in the files\n",
      "  warnings.warn(msg, GliderToolsWarning)\n"
     ]
    },
    {
     "name": "stdout",
     "output_type": "stream",
     "text": [
      "\n",
      "DIMENSION: sg_data_point\n",
      "{latitude, longitude, time, depth}\n"
     ]
    },
    {
     "name": "stderr",
     "output_type": "stream",
     "text": [
      " 48%|███████████████████▎                    | 707/1467 [05:57<05:58,  2.12it/s]/home/dIOGOLOC/programs/anaconda3/lib/python3.10/site-packages/glidertools/load/seaglider.py:227: GliderToolsWarning: dives was not found in the files\n",
      "  warnings.warn(msg, GliderToolsWarning)\n"
     ]
    },
    {
     "name": "stdout",
     "output_type": "stream",
     "text": [
      "\n",
      "DIMENSION: sg_data_point\n",
      "{latitude, longitude, time, depth}\n"
     ]
    },
    {
     "name": "stderr",
     "output_type": "stream",
     "text": [
      " 48%|███████████████████▎                    | 708/1467 [05:57<05:47,  2.19it/s]/home/dIOGOLOC/programs/anaconda3/lib/python3.10/site-packages/glidertools/load/seaglider.py:227: GliderToolsWarning: dives was not found in the files\n",
      "  warnings.warn(msg, GliderToolsWarning)\n"
     ]
    },
    {
     "name": "stdout",
     "output_type": "stream",
     "text": [
      "\n",
      "DIMENSION: sg_data_point\n",
      "{latitude, longitude, time, depth}\n"
     ]
    },
    {
     "name": "stderr",
     "output_type": "stream",
     "text": [
      " 48%|███████████████████▎                    | 709/1467 [05:58<05:48,  2.17it/s]/home/dIOGOLOC/programs/anaconda3/lib/python3.10/site-packages/glidertools/load/seaglider.py:227: GliderToolsWarning: dives was not found in the files\n",
      "  warnings.warn(msg, GliderToolsWarning)\n"
     ]
    },
    {
     "name": "stdout",
     "output_type": "stream",
     "text": [
      "\n",
      "DIMENSION: sg_data_point\n",
      "{latitude, longitude, time, depth}\n"
     ]
    },
    {
     "name": "stderr",
     "output_type": "stream",
     "text": [
      " 48%|███████████████████▎                    | 710/1467 [05:58<05:40,  2.22it/s]/home/dIOGOLOC/programs/anaconda3/lib/python3.10/site-packages/glidertools/load/seaglider.py:227: GliderToolsWarning: dives was not found in the files\n",
      "  warnings.warn(msg, GliderToolsWarning)\n"
     ]
    },
    {
     "name": "stdout",
     "output_type": "stream",
     "text": [
      "\n",
      "DIMENSION: sg_data_point\n",
      "{latitude, longitude, time, depth}\n"
     ]
    },
    {
     "name": "stderr",
     "output_type": "stream",
     "text": [
      " 48%|███████████████████▍                    | 711/1467 [05:58<05:31,  2.28it/s]/home/dIOGOLOC/programs/anaconda3/lib/python3.10/site-packages/glidertools/load/seaglider.py:227: GliderToolsWarning: dives was not found in the files\n",
      "  warnings.warn(msg, GliderToolsWarning)\n"
     ]
    },
    {
     "name": "stdout",
     "output_type": "stream",
     "text": [
      "\n",
      "DIMENSION: sg_data_point\n",
      "{latitude, longitude, time, depth}\n"
     ]
    },
    {
     "name": "stderr",
     "output_type": "stream",
     "text": [
      " 49%|███████████████████▍                    | 712/1467 [05:59<05:27,  2.31it/s]/home/dIOGOLOC/programs/anaconda3/lib/python3.10/site-packages/glidertools/load/seaglider.py:227: GliderToolsWarning: dives was not found in the files\n",
      "  warnings.warn(msg, GliderToolsWarning)\n"
     ]
    },
    {
     "name": "stdout",
     "output_type": "stream",
     "text": [
      "\n",
      "DIMENSION: sg_data_point\n",
      "{latitude, longitude, time, depth}\n"
     ]
    },
    {
     "name": "stderr",
     "output_type": "stream",
     "text": [
      " 49%|███████████████████▍                    | 713/1467 [05:59<05:24,  2.32it/s]/home/dIOGOLOC/programs/anaconda3/lib/python3.10/site-packages/glidertools/load/seaglider.py:227: GliderToolsWarning: dives was not found in the files\n",
      "  warnings.warn(msg, GliderToolsWarning)\n"
     ]
    },
    {
     "name": "stdout",
     "output_type": "stream",
     "text": [
      "\n",
      "DIMENSION: sg_data_point\n",
      "{latitude, longitude, time, depth}\n"
     ]
    },
    {
     "name": "stderr",
     "output_type": "stream",
     "text": [
      " 49%|███████████████████▍                    | 714/1467 [06:00<05:19,  2.36it/s]/home/dIOGOLOC/programs/anaconda3/lib/python3.10/site-packages/glidertools/load/seaglider.py:227: GliderToolsWarning: dives was not found in the files\n",
      "  warnings.warn(msg, GliderToolsWarning)\n"
     ]
    },
    {
     "name": "stdout",
     "output_type": "stream",
     "text": [
      "\n",
      "DIMENSION: sg_data_point\n",
      "{latitude, longitude, time, depth}\n"
     ]
    },
    {
     "name": "stderr",
     "output_type": "stream",
     "text": [
      " 49%|███████████████████▍                    | 715/1467 [06:00<05:18,  2.36it/s]/home/dIOGOLOC/programs/anaconda3/lib/python3.10/site-packages/glidertools/load/seaglider.py:227: GliderToolsWarning: dives was not found in the files\n",
      "  warnings.warn(msg, GliderToolsWarning)\n"
     ]
    },
    {
     "name": "stdout",
     "output_type": "stream",
     "text": [
      "\n",
      "DIMENSION: sg_data_point\n",
      "{latitude, longitude, time, depth}\n"
     ]
    },
    {
     "name": "stderr",
     "output_type": "stream",
     "text": [
      " 49%|███████████████████▌                    | 716/1467 [06:01<05:18,  2.35it/s]/home/dIOGOLOC/programs/anaconda3/lib/python3.10/site-packages/glidertools/load/seaglider.py:227: GliderToolsWarning: dives was not found in the files\n",
      "  warnings.warn(msg, GliderToolsWarning)\n"
     ]
    },
    {
     "name": "stdout",
     "output_type": "stream",
     "text": [
      "\n",
      "DIMENSION: sg_data_point\n",
      "{latitude, longitude, time, depth}\n"
     ]
    },
    {
     "name": "stderr",
     "output_type": "stream",
     "text": [
      " 49%|███████████████████▌                    | 717/1467 [06:01<05:39,  2.21it/s]/home/dIOGOLOC/programs/anaconda3/lib/python3.10/site-packages/glidertools/load/seaglider.py:227: GliderToolsWarning: dives was not found in the files\n",
      "  warnings.warn(msg, GliderToolsWarning)\n"
     ]
    },
    {
     "name": "stdout",
     "output_type": "stream",
     "text": [
      "\n",
      "DIMENSION: sg_data_point\n",
      "{latitude, longitude, time, depth}\n"
     ]
    },
    {
     "name": "stderr",
     "output_type": "stream",
     "text": [
      " 49%|███████████████████▌                    | 718/1467 [06:02<05:32,  2.25it/s]/home/dIOGOLOC/programs/anaconda3/lib/python3.10/site-packages/glidertools/load/seaglider.py:227: GliderToolsWarning: dives was not found in the files\n",
      "  warnings.warn(msg, GliderToolsWarning)\n"
     ]
    },
    {
     "name": "stdout",
     "output_type": "stream",
     "text": [
      "\n",
      "DIMENSION: sg_data_point\n",
      "{latitude, longitude, time, depth}\n"
     ]
    },
    {
     "name": "stderr",
     "output_type": "stream",
     "text": [
      " 49%|███████████████████▌                    | 719/1467 [06:02<05:25,  2.30it/s]/home/dIOGOLOC/programs/anaconda3/lib/python3.10/site-packages/glidertools/load/seaglider.py:227: GliderToolsWarning: dives was not found in the files\n",
      "  warnings.warn(msg, GliderToolsWarning)\n"
     ]
    },
    {
     "name": "stdout",
     "output_type": "stream",
     "text": [
      "\n",
      "DIMENSION: sg_data_point\n",
      "{latitude, longitude, time, depth}\n"
     ]
    },
    {
     "name": "stderr",
     "output_type": "stream",
     "text": [
      " 49%|███████████████████▋                    | 720/1467 [06:02<05:26,  2.29it/s]/home/dIOGOLOC/programs/anaconda3/lib/python3.10/site-packages/glidertools/load/seaglider.py:227: GliderToolsWarning: dives was not found in the files\n",
      "  warnings.warn(msg, GliderToolsWarning)\n"
     ]
    },
    {
     "name": "stdout",
     "output_type": "stream",
     "text": [
      "\n",
      "DIMENSION: sg_data_point\n",
      "{latitude, longitude, time, depth}\n"
     ]
    },
    {
     "name": "stderr",
     "output_type": "stream",
     "text": [
      " 49%|███████████████████▋                    | 721/1467 [06:03<05:26,  2.28it/s]/home/dIOGOLOC/programs/anaconda3/lib/python3.10/site-packages/glidertools/load/seaglider.py:227: GliderToolsWarning: dives was not found in the files\n",
      "  warnings.warn(msg, GliderToolsWarning)\n"
     ]
    },
    {
     "name": "stdout",
     "output_type": "stream",
     "text": [
      "\n",
      "DIMENSION: sg_data_point\n",
      "{latitude, longitude, time, depth}\n"
     ]
    },
    {
     "name": "stderr",
     "output_type": "stream",
     "text": [
      " 49%|███████████████████▋                    | 722/1467 [06:03<05:21,  2.32it/s]/home/dIOGOLOC/programs/anaconda3/lib/python3.10/site-packages/glidertools/load/seaglider.py:227: GliderToolsWarning: dives was not found in the files\n",
      "  warnings.warn(msg, GliderToolsWarning)\n"
     ]
    },
    {
     "name": "stdout",
     "output_type": "stream",
     "text": [
      "\n",
      "DIMENSION: sg_data_point\n",
      "{latitude, longitude, time, depth}\n"
     ]
    },
    {
     "name": "stderr",
     "output_type": "stream",
     "text": [
      " 49%|███████████████████▋                    | 723/1467 [06:04<05:21,  2.31it/s]/home/dIOGOLOC/programs/anaconda3/lib/python3.10/site-packages/glidertools/load/seaglider.py:227: GliderToolsWarning: dives was not found in the files\n",
      "  warnings.warn(msg, GliderToolsWarning)\n"
     ]
    },
    {
     "name": "stdout",
     "output_type": "stream",
     "text": [
      "\n",
      "DIMENSION: sg_data_point\n",
      "{latitude, longitude, time, depth}\n"
     ]
    },
    {
     "name": "stderr",
     "output_type": "stream",
     "text": [
      " 49%|███████████████████▋                    | 724/1467 [06:04<05:23,  2.30it/s]/home/dIOGOLOC/programs/anaconda3/lib/python3.10/site-packages/glidertools/load/seaglider.py:227: GliderToolsWarning: dives was not found in the files\n",
      "  warnings.warn(msg, GliderToolsWarning)\n"
     ]
    },
    {
     "name": "stdout",
     "output_type": "stream",
     "text": [
      "\n",
      "DIMENSION: sg_data_point\n",
      "{latitude, longitude, time, depth}\n"
     ]
    },
    {
     "name": "stderr",
     "output_type": "stream",
     "text": [
      " 49%|███████████████████▊                    | 725/1467 [06:05<05:18,  2.33it/s]/home/dIOGOLOC/programs/anaconda3/lib/python3.10/site-packages/glidertools/load/seaglider.py:227: GliderToolsWarning: dives was not found in the files\n",
      "  warnings.warn(msg, GliderToolsWarning)\n"
     ]
    },
    {
     "name": "stdout",
     "output_type": "stream",
     "text": [
      "\n",
      "DIMENSION: sg_data_point\n",
      "{latitude, longitude, time, depth}\n"
     ]
    },
    {
     "name": "stderr",
     "output_type": "stream",
     "text": [
      " 49%|███████████████████▊                    | 726/1467 [06:05<05:15,  2.35it/s]/home/dIOGOLOC/programs/anaconda3/lib/python3.10/site-packages/glidertools/load/seaglider.py:227: GliderToolsWarning: dives was not found in the files\n",
      "  warnings.warn(msg, GliderToolsWarning)\n"
     ]
    },
    {
     "name": "stdout",
     "output_type": "stream",
     "text": [
      "\n",
      "DIMENSION: sg_data_point\n",
      "{latitude, longitude, time, depth}\n"
     ]
    },
    {
     "name": "stderr",
     "output_type": "stream",
     "text": [
      " 50%|███████████████████▊                    | 727/1467 [06:05<05:14,  2.35it/s]/home/dIOGOLOC/programs/anaconda3/lib/python3.10/site-packages/glidertools/load/seaglider.py:227: GliderToolsWarning: dives was not found in the files\n",
      "  warnings.warn(msg, GliderToolsWarning)\n"
     ]
    },
    {
     "name": "stdout",
     "output_type": "stream",
     "text": [
      "\n",
      "DIMENSION: sg_data_point\n",
      "{latitude, longitude, time, depth}\n"
     ]
    },
    {
     "name": "stderr",
     "output_type": "stream",
     "text": [
      " 50%|███████████████████▊                    | 728/1467 [06:06<05:47,  2.12it/s]/home/dIOGOLOC/programs/anaconda3/lib/python3.10/site-packages/glidertools/load/seaglider.py:227: GliderToolsWarning: dives was not found in the files\n",
      "  warnings.warn(msg, GliderToolsWarning)\n"
     ]
    },
    {
     "name": "stdout",
     "output_type": "stream",
     "text": [
      "\n",
      "DIMENSION: sg_data_point\n",
      "{latitude, longitude, time, depth}\n"
     ]
    },
    {
     "name": "stderr",
     "output_type": "stream",
     "text": [
      " 50%|███████████████████▉                    | 729/1467 [06:06<05:39,  2.18it/s]/home/dIOGOLOC/programs/anaconda3/lib/python3.10/site-packages/glidertools/load/seaglider.py:227: GliderToolsWarning: dives was not found in the files\n",
      "  warnings.warn(msg, GliderToolsWarning)\n"
     ]
    },
    {
     "name": "stdout",
     "output_type": "stream",
     "text": [
      "\n",
      "DIMENSION: sg_data_point\n",
      "{latitude, longitude, time, depth}\n"
     ]
    },
    {
     "name": "stderr",
     "output_type": "stream",
     "text": [
      " 50%|███████████████████▉                    | 730/1467 [06:07<05:35,  2.20it/s]/home/dIOGOLOC/programs/anaconda3/lib/python3.10/site-packages/glidertools/load/seaglider.py:227: GliderToolsWarning: dives was not found in the files\n",
      "  warnings.warn(msg, GliderToolsWarning)\n"
     ]
    },
    {
     "name": "stdout",
     "output_type": "stream",
     "text": [
      "\n",
      "DIMENSION: sg_data_point\n",
      "{latitude, longitude, time, depth}\n"
     ]
    },
    {
     "name": "stderr",
     "output_type": "stream",
     "text": [
      " 50%|███████████████████▉                    | 731/1467 [06:07<05:32,  2.22it/s]/home/dIOGOLOC/programs/anaconda3/lib/python3.10/site-packages/glidertools/load/seaglider.py:227: GliderToolsWarning: dives was not found in the files\n",
      "  warnings.warn(msg, GliderToolsWarning)\n"
     ]
    },
    {
     "name": "stdout",
     "output_type": "stream",
     "text": [
      "\n",
      "DIMENSION: sg_data_point\n",
      "{latitude, longitude, time, depth}\n"
     ]
    },
    {
     "name": "stderr",
     "output_type": "stream",
     "text": [
      " 50%|███████████████████▉                    | 732/1467 [06:08<05:26,  2.25it/s]/home/dIOGOLOC/programs/anaconda3/lib/python3.10/site-packages/glidertools/load/seaglider.py:227: GliderToolsWarning: dives was not found in the files\n",
      "  warnings.warn(msg, GliderToolsWarning)\n"
     ]
    },
    {
     "name": "stdout",
     "output_type": "stream",
     "text": [
      "\n",
      "DIMENSION: sg_data_point\n",
      "{latitude, longitude, time, depth}\n"
     ]
    },
    {
     "name": "stderr",
     "output_type": "stream",
     "text": [
      " 50%|███████████████████▉                    | 733/1467 [06:08<05:21,  2.28it/s]/home/dIOGOLOC/programs/anaconda3/lib/python3.10/site-packages/glidertools/load/seaglider.py:227: GliderToolsWarning: dives was not found in the files\n",
      "  warnings.warn(msg, GliderToolsWarning)\n"
     ]
    },
    {
     "name": "stdout",
     "output_type": "stream",
     "text": [
      "\n",
      "DIMENSION: sg_data_point\n",
      "{latitude, longitude, time, depth}\n"
     ]
    },
    {
     "name": "stderr",
     "output_type": "stream",
     "text": [
      " 50%|████████████████████                    | 734/1467 [06:09<05:26,  2.24it/s]/home/dIOGOLOC/programs/anaconda3/lib/python3.10/site-packages/glidertools/load/seaglider.py:227: GliderToolsWarning: dives was not found in the files\n",
      "  warnings.warn(msg, GliderToolsWarning)\n"
     ]
    },
    {
     "name": "stdout",
     "output_type": "stream",
     "text": [
      "\n",
      "DIMENSION: sg_data_point\n",
      "{latitude, longitude, time, depth}\n"
     ]
    },
    {
     "name": "stderr",
     "output_type": "stream",
     "text": [
      " 50%|████████████████████                    | 735/1467 [06:09<05:23,  2.26it/s]/home/dIOGOLOC/programs/anaconda3/lib/python3.10/site-packages/glidertools/load/seaglider.py:227: GliderToolsWarning: dives was not found in the files\n",
      "  warnings.warn(msg, GliderToolsWarning)\n"
     ]
    },
    {
     "name": "stdout",
     "output_type": "stream",
     "text": [
      "\n",
      "DIMENSION: sg_data_point\n",
      "{latitude, longitude, time, depth}\n"
     ]
    },
    {
     "name": "stderr",
     "output_type": "stream",
     "text": [
      " 50%|████████████████████                    | 736/1467 [06:09<05:24,  2.25it/s]/home/dIOGOLOC/programs/anaconda3/lib/python3.10/site-packages/glidertools/load/seaglider.py:227: GliderToolsWarning: dives was not found in the files\n",
      "  warnings.warn(msg, GliderToolsWarning)\n"
     ]
    },
    {
     "name": "stdout",
     "output_type": "stream",
     "text": [
      "\n",
      "DIMENSION: sg_data_point\n",
      "{latitude, longitude, time, depth}\n"
     ]
    },
    {
     "name": "stderr",
     "output_type": "stream",
     "text": [
      " 50%|████████████████████                    | 737/1467 [06:10<05:17,  2.30it/s]/home/dIOGOLOC/programs/anaconda3/lib/python3.10/site-packages/glidertools/load/seaglider.py:227: GliderToolsWarning: dives was not found in the files\n",
      "  warnings.warn(msg, GliderToolsWarning)\n"
     ]
    },
    {
     "name": "stdout",
     "output_type": "stream",
     "text": [
      "\n",
      "DIMENSION: sg_data_point\n",
      "{latitude, longitude, time, depth}\n"
     ]
    },
    {
     "name": "stderr",
     "output_type": "stream",
     "text": [
      " 50%|████████████████████                    | 738/1467 [06:10<05:39,  2.15it/s]/home/dIOGOLOC/programs/anaconda3/lib/python3.10/site-packages/glidertools/load/seaglider.py:227: GliderToolsWarning: dives was not found in the files\n",
      "  warnings.warn(msg, GliderToolsWarning)\n"
     ]
    },
    {
     "name": "stdout",
     "output_type": "stream",
     "text": [
      "\n",
      "DIMENSION: sg_data_point\n",
      "{latitude, longitude, time, depth}\n"
     ]
    },
    {
     "name": "stderr",
     "output_type": "stream",
     "text": [
      " 50%|████████████████████▏                   | 739/1467 [06:11<05:33,  2.18it/s]/home/dIOGOLOC/programs/anaconda3/lib/python3.10/site-packages/glidertools/load/seaglider.py:227: GliderToolsWarning: dives was not found in the files\n",
      "  warnings.warn(msg, GliderToolsWarning)\n"
     ]
    },
    {
     "name": "stdout",
     "output_type": "stream",
     "text": [
      "\n",
      "DIMENSION: sg_data_point\n",
      "{latitude, longitude, time, depth}\n"
     ]
    },
    {
     "name": "stderr",
     "output_type": "stream",
     "text": [
      " 50%|████████████████████▏                   | 740/1467 [06:11<05:25,  2.23it/s]/home/dIOGOLOC/programs/anaconda3/lib/python3.10/site-packages/glidertools/load/seaglider.py:227: GliderToolsWarning: dives was not found in the files\n",
      "  warnings.warn(msg, GliderToolsWarning)\n"
     ]
    },
    {
     "name": "stdout",
     "output_type": "stream",
     "text": [
      "\n",
      "DIMENSION: sg_data_point\n",
      "{latitude, longitude, time, depth}\n"
     ]
    },
    {
     "name": "stderr",
     "output_type": "stream",
     "text": [
      " 51%|████████████████████▏                   | 741/1467 [06:12<05:18,  2.28it/s]/home/dIOGOLOC/programs/anaconda3/lib/python3.10/site-packages/glidertools/load/seaglider.py:227: GliderToolsWarning: dives was not found in the files\n",
      "  warnings.warn(msg, GliderToolsWarning)\n"
     ]
    },
    {
     "name": "stdout",
     "output_type": "stream",
     "text": [
      "\n",
      "DIMENSION: sg_data_point\n",
      "{latitude, longitude, time, depth}\n"
     ]
    },
    {
     "name": "stderr",
     "output_type": "stream",
     "text": [
      " 51%|████████████████████▏                   | 742/1467 [06:12<05:11,  2.32it/s]/home/dIOGOLOC/programs/anaconda3/lib/python3.10/site-packages/glidertools/load/seaglider.py:227: GliderToolsWarning: dives was not found in the files\n",
      "  warnings.warn(msg, GliderToolsWarning)\n"
     ]
    },
    {
     "name": "stdout",
     "output_type": "stream",
     "text": [
      "\n",
      "DIMENSION: sg_data_point\n",
      "{latitude, longitude, time, depth}\n"
     ]
    },
    {
     "name": "stderr",
     "output_type": "stream",
     "text": [
      " 51%|████████████████████▎                   | 743/1467 [06:13<05:10,  2.33it/s]/home/dIOGOLOC/programs/anaconda3/lib/python3.10/site-packages/glidertools/load/seaglider.py:227: GliderToolsWarning: dives was not found in the files\n",
      "  warnings.warn(msg, GliderToolsWarning)\n"
     ]
    },
    {
     "name": "stdout",
     "output_type": "stream",
     "text": [
      "\n",
      "DIMENSION: sg_data_point\n",
      "{latitude, longitude, time, depth}\n"
     ]
    },
    {
     "name": "stderr",
     "output_type": "stream",
     "text": [
      " 51%|████████████████████▎                   | 744/1467 [06:13<05:07,  2.35it/s]/home/dIOGOLOC/programs/anaconda3/lib/python3.10/site-packages/glidertools/load/seaglider.py:227: GliderToolsWarning: dives was not found in the files\n",
      "  warnings.warn(msg, GliderToolsWarning)\n"
     ]
    },
    {
     "name": "stdout",
     "output_type": "stream",
     "text": [
      "\n",
      "DIMENSION: sg_data_point\n",
      "{latitude, longitude, time, depth}\n"
     ]
    },
    {
     "name": "stderr",
     "output_type": "stream",
     "text": [
      " 51%|████████████████████▎                   | 745/1467 [06:13<05:04,  2.37it/s]/home/dIOGOLOC/programs/anaconda3/lib/python3.10/site-packages/glidertools/load/seaglider.py:227: GliderToolsWarning: dives was not found in the files\n",
      "  warnings.warn(msg, GliderToolsWarning)\n"
     ]
    },
    {
     "name": "stdout",
     "output_type": "stream",
     "text": [
      "\n",
      "DIMENSION: sg_data_point\n",
      "{latitude, longitude, time, depth}\n"
     ]
    },
    {
     "name": "stderr",
     "output_type": "stream",
     "text": [
      " 51%|████████████████████▎                   | 746/1467 [06:14<05:01,  2.39it/s]/home/dIOGOLOC/programs/anaconda3/lib/python3.10/site-packages/glidertools/load/seaglider.py:227: GliderToolsWarning: dives was not found in the files\n",
      "  warnings.warn(msg, GliderToolsWarning)\n"
     ]
    },
    {
     "name": "stdout",
     "output_type": "stream",
     "text": [
      "\n",
      "DIMENSION: sg_data_point\n",
      "{latitude, longitude, time, depth}\n"
     ]
    },
    {
     "name": "stderr",
     "output_type": "stream",
     "text": [
      " 51%|████████████████████▎                   | 747/1467 [06:14<05:03,  2.38it/s]/home/dIOGOLOC/programs/anaconda3/lib/python3.10/site-packages/glidertools/load/seaglider.py:227: GliderToolsWarning: dives was not found in the files\n",
      "  warnings.warn(msg, GliderToolsWarning)\n"
     ]
    },
    {
     "name": "stdout",
     "output_type": "stream",
     "text": [
      "\n",
      "DIMENSION: sg_data_point\n",
      "{latitude, longitude, time, depth}\n"
     ]
    },
    {
     "name": "stderr",
     "output_type": "stream",
     "text": [
      " 51%|████████████████████▍                   | 748/1467 [06:15<05:01,  2.39it/s]/home/dIOGOLOC/programs/anaconda3/lib/python3.10/site-packages/glidertools/load/seaglider.py:227: GliderToolsWarning: dives was not found in the files\n",
      "  warnings.warn(msg, GliderToolsWarning)\n"
     ]
    },
    {
     "name": "stdout",
     "output_type": "stream",
     "text": [
      "\n",
      "DIMENSION: sg_data_point\n",
      "{latitude, longitude, time, depth}\n"
     ]
    },
    {
     "name": "stderr",
     "output_type": "stream",
     "text": [
      " 51%|████████████████████▍                   | 749/1467 [06:15<04:59,  2.40it/s]/home/dIOGOLOC/programs/anaconda3/lib/python3.10/site-packages/glidertools/load/seaglider.py:227: GliderToolsWarning: dives was not found in the files\n",
      "  warnings.warn(msg, GliderToolsWarning)\n"
     ]
    },
    {
     "name": "stdout",
     "output_type": "stream",
     "text": [
      "\n",
      "DIMENSION: sg_data_point\n",
      "{latitude, longitude, time, depth}\n"
     ]
    },
    {
     "name": "stderr",
     "output_type": "stream",
     "text": [
      " 51%|████████████████████▍                   | 750/1467 [06:16<05:24,  2.21it/s]/home/dIOGOLOC/programs/anaconda3/lib/python3.10/site-packages/glidertools/load/seaglider.py:227: GliderToolsWarning: dives was not found in the files\n",
      "  warnings.warn(msg, GliderToolsWarning)\n"
     ]
    },
    {
     "name": "stdout",
     "output_type": "stream",
     "text": [
      "\n",
      "DIMENSION: sg_data_point\n",
      "{latitude, longitude, time, depth}\n"
     ]
    },
    {
     "name": "stderr",
     "output_type": "stream",
     "text": [
      " 51%|████████████████████▍                   | 751/1467 [06:16<05:21,  2.23it/s]/home/dIOGOLOC/programs/anaconda3/lib/python3.10/site-packages/glidertools/load/seaglider.py:227: GliderToolsWarning: dives was not found in the files\n",
      "  warnings.warn(msg, GliderToolsWarning)\n"
     ]
    },
    {
     "name": "stdout",
     "output_type": "stream",
     "text": [
      "\n",
      "DIMENSION: sg_data_point\n",
      "{latitude, longitude, time, depth}\n"
     ]
    },
    {
     "name": "stderr",
     "output_type": "stream",
     "text": [
      " 51%|████████████████████▌                   | 752/1467 [06:16<05:17,  2.25it/s]/home/dIOGOLOC/programs/anaconda3/lib/python3.10/site-packages/glidertools/load/seaglider.py:227: GliderToolsWarning: dives was not found in the files\n",
      "  warnings.warn(msg, GliderToolsWarning)\n"
     ]
    },
    {
     "name": "stdout",
     "output_type": "stream",
     "text": [
      "\n",
      "DIMENSION: sg_data_point\n",
      "{latitude, longitude, time, depth}\n"
     ]
    },
    {
     "name": "stderr",
     "output_type": "stream",
     "text": [
      " 51%|████████████████████▌                   | 753/1467 [06:17<05:12,  2.29it/s]/home/dIOGOLOC/programs/anaconda3/lib/python3.10/site-packages/glidertools/load/seaglider.py:227: GliderToolsWarning: dives was not found in the files\n",
      "  warnings.warn(msg, GliderToolsWarning)\n"
     ]
    },
    {
     "name": "stdout",
     "output_type": "stream",
     "text": [
      "\n",
      "DIMENSION: sg_data_point\n",
      "{latitude, longitude, time, depth}\n"
     ]
    },
    {
     "name": "stderr",
     "output_type": "stream",
     "text": [
      " 51%|████████████████████▌                   | 754/1467 [06:17<05:08,  2.31it/s]/home/dIOGOLOC/programs/anaconda3/lib/python3.10/site-packages/glidertools/load/seaglider.py:227: GliderToolsWarning: dives was not found in the files\n",
      "  warnings.warn(msg, GliderToolsWarning)\n"
     ]
    },
    {
     "name": "stdout",
     "output_type": "stream",
     "text": [
      "\n",
      "DIMENSION: sg_data_point\n",
      "{latitude, longitude, time, depth}\n"
     ]
    },
    {
     "name": "stderr",
     "output_type": "stream",
     "text": [
      " 51%|████████████████████▌                   | 755/1467 [06:18<05:04,  2.34it/s]/home/dIOGOLOC/programs/anaconda3/lib/python3.10/site-packages/glidertools/load/seaglider.py:227: GliderToolsWarning: dives was not found in the files\n",
      "  warnings.warn(msg, GliderToolsWarning)\n"
     ]
    },
    {
     "name": "stdout",
     "output_type": "stream",
     "text": [
      "\n",
      "DIMENSION: sg_data_point\n",
      "{latitude, longitude, time, depth}\n"
     ]
    },
    {
     "name": "stderr",
     "output_type": "stream",
     "text": [
      " 52%|████████████████████▌                   | 756/1467 [06:18<05:01,  2.36it/s]/home/dIOGOLOC/programs/anaconda3/lib/python3.10/site-packages/glidertools/load/seaglider.py:227: GliderToolsWarning: dives was not found in the files\n",
      "  warnings.warn(msg, GliderToolsWarning)\n"
     ]
    },
    {
     "name": "stdout",
     "output_type": "stream",
     "text": [
      "\n",
      "DIMENSION: sg_data_point\n",
      "{latitude, longitude, time, depth}\n"
     ]
    },
    {
     "name": "stderr",
     "output_type": "stream",
     "text": [
      " 52%|████████████████████▋                   | 757/1467 [06:19<05:00,  2.36it/s]/home/dIOGOLOC/programs/anaconda3/lib/python3.10/site-packages/glidertools/load/seaglider.py:227: GliderToolsWarning: dives was not found in the files\n",
      "  warnings.warn(msg, GliderToolsWarning)\n"
     ]
    },
    {
     "name": "stdout",
     "output_type": "stream",
     "text": [
      "\n",
      "DIMENSION: sg_data_point\n",
      "{latitude, longitude, time, depth}\n"
     ]
    },
    {
     "name": "stderr",
     "output_type": "stream",
     "text": [
      " 52%|████████████████████▋                   | 758/1467 [06:19<04:58,  2.38it/s]/home/dIOGOLOC/programs/anaconda3/lib/python3.10/site-packages/glidertools/load/seaglider.py:227: GliderToolsWarning: dives was not found in the files\n",
      "  warnings.warn(msg, GliderToolsWarning)\n"
     ]
    },
    {
     "name": "stdout",
     "output_type": "stream",
     "text": [
      "\n",
      "DIMENSION: sg_data_point\n",
      "{latitude, longitude, time, depth}\n"
     ]
    },
    {
     "name": "stderr",
     "output_type": "stream",
     "text": [
      " 52%|████████████████████▋                   | 759/1467 [06:19<04:58,  2.37it/s]/home/dIOGOLOC/programs/anaconda3/lib/python3.10/site-packages/glidertools/load/seaglider.py:227: GliderToolsWarning: dives was not found in the files\n",
      "  warnings.warn(msg, GliderToolsWarning)\n"
     ]
    },
    {
     "name": "stdout",
     "output_type": "stream",
     "text": [
      "\n",
      "DIMENSION: sg_data_point\n",
      "{latitude, longitude, time, depth}\n"
     ]
    },
    {
     "name": "stderr",
     "output_type": "stream",
     "text": [
      " 52%|████████████████████▋                   | 760/1467 [06:20<04:57,  2.38it/s]/home/dIOGOLOC/programs/anaconda3/lib/python3.10/site-packages/glidertools/load/seaglider.py:227: GliderToolsWarning: dives was not found in the files\n",
      "  warnings.warn(msg, GliderToolsWarning)\n"
     ]
    },
    {
     "name": "stdout",
     "output_type": "stream",
     "text": [
      "\n",
      "DIMENSION: sg_data_point\n",
      "{latitude, longitude, time, depth}\n"
     ]
    },
    {
     "name": "stderr",
     "output_type": "stream",
     "text": [
      " 52%|████████████████████▋                   | 761/1467 [06:20<05:16,  2.23it/s]/home/dIOGOLOC/programs/anaconda3/lib/python3.10/site-packages/glidertools/load/seaglider.py:227: GliderToolsWarning: dives was not found in the files\n",
      "  warnings.warn(msg, GliderToolsWarning)\n"
     ]
    },
    {
     "name": "stdout",
     "output_type": "stream",
     "text": [
      "\n",
      "DIMENSION: sg_data_point\n",
      "{latitude, longitude, time, depth}\n"
     ]
    },
    {
     "name": "stderr",
     "output_type": "stream",
     "text": [
      " 52%|████████████████████▊                   | 762/1467 [06:21<05:15,  2.23it/s]/home/dIOGOLOC/programs/anaconda3/lib/python3.10/site-packages/glidertools/load/seaglider.py:227: GliderToolsWarning: dives was not found in the files\n",
      "  warnings.warn(msg, GliderToolsWarning)\n"
     ]
    },
    {
     "name": "stdout",
     "output_type": "stream",
     "text": [
      "\n",
      "DIMENSION: sg_data_point\n",
      "{latitude, longitude, time, depth}\n"
     ]
    },
    {
     "name": "stderr",
     "output_type": "stream",
     "text": [
      " 52%|████████████████████▊                   | 763/1467 [06:21<05:11,  2.26it/s]/home/dIOGOLOC/programs/anaconda3/lib/python3.10/site-packages/glidertools/load/seaglider.py:227: GliderToolsWarning: dives was not found in the files\n",
      "  warnings.warn(msg, GliderToolsWarning)\n"
     ]
    },
    {
     "name": "stdout",
     "output_type": "stream",
     "text": [
      "\n",
      "DIMENSION: sg_data_point\n",
      "{latitude, longitude, time, depth}\n"
     ]
    },
    {
     "name": "stderr",
     "output_type": "stream",
     "text": [
      " 52%|████████████████████▊                   | 764/1467 [06:22<05:04,  2.31it/s]/home/dIOGOLOC/programs/anaconda3/lib/python3.10/site-packages/glidertools/load/seaglider.py:227: GliderToolsWarning: dives was not found in the files\n",
      "  warnings.warn(msg, GliderToolsWarning)\n"
     ]
    },
    {
     "name": "stdout",
     "output_type": "stream",
     "text": [
      "\n",
      "DIMENSION: sg_data_point\n",
      "{latitude, longitude, time, depth}\n"
     ]
    },
    {
     "name": "stderr",
     "output_type": "stream",
     "text": [
      " 52%|████████████████████▊                   | 765/1467 [06:22<05:01,  2.33it/s]/home/dIOGOLOC/programs/anaconda3/lib/python3.10/site-packages/glidertools/load/seaglider.py:227: GliderToolsWarning: dives was not found in the files\n",
      "  warnings.warn(msg, GliderToolsWarning)\n"
     ]
    },
    {
     "name": "stdout",
     "output_type": "stream",
     "text": [
      "\n",
      "DIMENSION: sg_data_point\n",
      "{latitude, longitude, time, depth}\n"
     ]
    },
    {
     "name": "stderr",
     "output_type": "stream",
     "text": [
      " 52%|████████████████████▉                   | 766/1467 [06:22<05:02,  2.32it/s]/home/dIOGOLOC/programs/anaconda3/lib/python3.10/site-packages/glidertools/load/seaglider.py:227: GliderToolsWarning: dives was not found in the files\n",
      "  warnings.warn(msg, GliderToolsWarning)\n"
     ]
    },
    {
     "name": "stdout",
     "output_type": "stream",
     "text": [
      "\n",
      "DIMENSION: sg_data_point\n",
      "{latitude, longitude, time, depth}\n"
     ]
    },
    {
     "name": "stderr",
     "output_type": "stream",
     "text": [
      " 52%|████████████████████▉                   | 767/1467 [06:23<04:59,  2.34it/s]/home/dIOGOLOC/programs/anaconda3/lib/python3.10/site-packages/glidertools/load/seaglider.py:227: GliderToolsWarning: dives was not found in the files\n",
      "  warnings.warn(msg, GliderToolsWarning)\n"
     ]
    },
    {
     "name": "stdout",
     "output_type": "stream",
     "text": [
      "\n",
      "DIMENSION: sg_data_point\n",
      "{latitude, longitude, time, depth}\n"
     ]
    },
    {
     "name": "stderr",
     "output_type": "stream",
     "text": [
      " 52%|████████████████████▉                   | 768/1467 [06:23<04:57,  2.35it/s]/home/dIOGOLOC/programs/anaconda3/lib/python3.10/site-packages/glidertools/load/seaglider.py:227: GliderToolsWarning: dives was not found in the files\n",
      "  warnings.warn(msg, GliderToolsWarning)\n"
     ]
    },
    {
     "name": "stdout",
     "output_type": "stream",
     "text": [
      "\n",
      "DIMENSION: sg_data_point\n",
      "{latitude, longitude, time, depth}\n"
     ]
    },
    {
     "name": "stderr",
     "output_type": "stream",
     "text": [
      " 52%|████████████████████▉                   | 769/1467 [06:24<04:54,  2.37it/s]/home/dIOGOLOC/programs/anaconda3/lib/python3.10/site-packages/glidertools/load/seaglider.py:227: GliderToolsWarning: dives was not found in the files\n",
      "  warnings.warn(msg, GliderToolsWarning)\n"
     ]
    },
    {
     "name": "stdout",
     "output_type": "stream",
     "text": [
      "\n",
      "DIMENSION: sg_data_point\n",
      "{latitude, longitude, time, depth}\n"
     ]
    },
    {
     "name": "stderr",
     "output_type": "stream",
     "text": [
      " 52%|████████████████████▉                   | 770/1467 [06:24<05:00,  2.32it/s]/home/dIOGOLOC/programs/anaconda3/lib/python3.10/site-packages/glidertools/load/seaglider.py:227: GliderToolsWarning: dives was not found in the files\n",
      "  warnings.warn(msg, GliderToolsWarning)\n"
     ]
    },
    {
     "name": "stdout",
     "output_type": "stream",
     "text": [
      "\n",
      "DIMENSION: sg_data_point\n",
      "{latitude, longitude, time, depth}\n"
     ]
    },
    {
     "name": "stderr",
     "output_type": "stream",
     "text": [
      " 53%|█████████████████████                   | 771/1467 [06:25<05:01,  2.31it/s]/home/dIOGOLOC/programs/anaconda3/lib/python3.10/site-packages/glidertools/load/seaglider.py:227: GliderToolsWarning: dives was not found in the files\n",
      "  warnings.warn(msg, GliderToolsWarning)\n"
     ]
    },
    {
     "name": "stdout",
     "output_type": "stream",
     "text": [
      "\n",
      "DIMENSION: sg_data_point\n",
      "{latitude, longitude, time, depth}\n"
     ]
    },
    {
     "name": "stderr",
     "output_type": "stream",
     "text": [
      " 53%|█████████████████████                   | 772/1467 [06:25<05:19,  2.18it/s]/home/dIOGOLOC/programs/anaconda3/lib/python3.10/site-packages/glidertools/load/seaglider.py:227: GliderToolsWarning: dives was not found in the files\n",
      "  warnings.warn(msg, GliderToolsWarning)\n"
     ]
    },
    {
     "name": "stdout",
     "output_type": "stream",
     "text": [
      "\n",
      "DIMENSION: sg_data_point\n",
      "{latitude, longitude, time, depth}\n"
     ]
    },
    {
     "name": "stderr",
     "output_type": "stream",
     "text": [
      " 53%|█████████████████████                   | 773/1467 [06:26<05:08,  2.25it/s]/home/dIOGOLOC/programs/anaconda3/lib/python3.10/site-packages/glidertools/load/seaglider.py:227: GliderToolsWarning: dives was not found in the files\n",
      "  warnings.warn(msg, GliderToolsWarning)\n"
     ]
    },
    {
     "name": "stdout",
     "output_type": "stream",
     "text": [
      "\n",
      "DIMENSION: sg_data_point\n",
      "{latitude, longitude, time, depth}\n"
     ]
    },
    {
     "name": "stderr",
     "output_type": "stream",
     "text": [
      " 53%|█████████████████████                   | 774/1467 [06:26<05:02,  2.29it/s]/home/dIOGOLOC/programs/anaconda3/lib/python3.10/site-packages/glidertools/load/seaglider.py:227: GliderToolsWarning: dives was not found in the files\n",
      "  warnings.warn(msg, GliderToolsWarning)\n"
     ]
    },
    {
     "name": "stdout",
     "output_type": "stream",
     "text": [
      "\n",
      "DIMENSION: sg_data_point\n",
      "{latitude, longitude, time, depth}\n"
     ]
    },
    {
     "name": "stderr",
     "output_type": "stream",
     "text": [
      " 53%|█████████████████████▏                  | 775/1467 [06:26<04:59,  2.31it/s]/home/dIOGOLOC/programs/anaconda3/lib/python3.10/site-packages/glidertools/load/seaglider.py:227: GliderToolsWarning: dives was not found in the files\n",
      "  warnings.warn(msg, GliderToolsWarning)\n"
     ]
    },
    {
     "name": "stdout",
     "output_type": "stream",
     "text": [
      "\n",
      "DIMENSION: sg_data_point\n",
      "{latitude, longitude, time, depth}\n"
     ]
    },
    {
     "name": "stderr",
     "output_type": "stream",
     "text": [
      " 53%|█████████████████████▏                  | 776/1467 [06:27<04:55,  2.34it/s]/home/dIOGOLOC/programs/anaconda3/lib/python3.10/site-packages/glidertools/load/seaglider.py:227: GliderToolsWarning: dives was not found in the files\n",
      "  warnings.warn(msg, GliderToolsWarning)\n"
     ]
    },
    {
     "name": "stdout",
     "output_type": "stream",
     "text": [
      "\n",
      "DIMENSION: sg_data_point\n",
      "{latitude, longitude, time, depth}\n"
     ]
    },
    {
     "name": "stderr",
     "output_type": "stream",
     "text": [
      " 53%|█████████████████████▏                  | 777/1467 [06:27<04:55,  2.33it/s]/home/dIOGOLOC/programs/anaconda3/lib/python3.10/site-packages/glidertools/load/seaglider.py:227: GliderToolsWarning: dives was not found in the files\n",
      "  warnings.warn(msg, GliderToolsWarning)\n"
     ]
    },
    {
     "name": "stdout",
     "output_type": "stream",
     "text": [
      "\n",
      "DIMENSION: sg_data_point\n",
      "{latitude, longitude, time, depth}\n"
     ]
    },
    {
     "name": "stderr",
     "output_type": "stream",
     "text": [
      " 53%|█████████████████████▏                  | 778/1467 [06:28<04:54,  2.34it/s]/home/dIOGOLOC/programs/anaconda3/lib/python3.10/site-packages/glidertools/load/seaglider.py:227: GliderToolsWarning: dives was not found in the files\n",
      "  warnings.warn(msg, GliderToolsWarning)\n"
     ]
    },
    {
     "name": "stdout",
     "output_type": "stream",
     "text": [
      "\n",
      "DIMENSION: sg_data_point\n",
      "{latitude, longitude, time, depth}\n"
     ]
    },
    {
     "name": "stderr",
     "output_type": "stream",
     "text": [
      " 53%|█████████████████████▏                  | 779/1467 [06:28<04:57,  2.31it/s]/home/dIOGOLOC/programs/anaconda3/lib/python3.10/site-packages/glidertools/load/seaglider.py:227: GliderToolsWarning: dives was not found in the files\n",
      "  warnings.warn(msg, GliderToolsWarning)\n"
     ]
    },
    {
     "name": "stdout",
     "output_type": "stream",
     "text": [
      "\n",
      "DIMENSION: sg_data_point\n",
      "{latitude, longitude, time, depth}\n"
     ]
    },
    {
     "name": "stderr",
     "output_type": "stream",
     "text": [
      " 53%|█████████████████████▎                  | 780/1467 [06:29<05:01,  2.28it/s]/home/dIOGOLOC/programs/anaconda3/lib/python3.10/site-packages/glidertools/load/seaglider.py:227: GliderToolsWarning: dives was not found in the files\n",
      "  warnings.warn(msg, GliderToolsWarning)\n"
     ]
    },
    {
     "name": "stdout",
     "output_type": "stream",
     "text": [
      "\n",
      "DIMENSION: sg_data_point\n",
      "{latitude, longitude, time, depth}\n"
     ]
    },
    {
     "name": "stderr",
     "output_type": "stream",
     "text": [
      " 53%|█████████████████████▎                  | 781/1467 [06:29<05:02,  2.27it/s]/home/dIOGOLOC/programs/anaconda3/lib/python3.10/site-packages/glidertools/load/seaglider.py:227: GliderToolsWarning: dives was not found in the files\n",
      "  warnings.warn(msg, GliderToolsWarning)\n"
     ]
    },
    {
     "name": "stdout",
     "output_type": "stream",
     "text": [
      "\n",
      "DIMENSION: sg_data_point\n",
      "{latitude, longitude, time, depth}\n"
     ]
    },
    {
     "name": "stderr",
     "output_type": "stream",
     "text": [
      " 53%|█████████████████████▎                  | 782/1467 [06:29<04:56,  2.31it/s]/home/dIOGOLOC/programs/anaconda3/lib/python3.10/site-packages/glidertools/load/seaglider.py:227: GliderToolsWarning: dives was not found in the files\n",
      "  warnings.warn(msg, GliderToolsWarning)\n"
     ]
    },
    {
     "name": "stdout",
     "output_type": "stream",
     "text": [
      "\n",
      "DIMENSION: sg_data_point\n",
      "{latitude, longitude, time, depth}\n"
     ]
    },
    {
     "name": "stderr",
     "output_type": "stream",
     "text": [
      " 53%|█████████████████████▎                  | 783/1467 [06:30<05:13,  2.18it/s]/home/dIOGOLOC/programs/anaconda3/lib/python3.10/site-packages/glidertools/load/seaglider.py:227: GliderToolsWarning: dives was not found in the files\n",
      "  warnings.warn(msg, GliderToolsWarning)\n"
     ]
    },
    {
     "name": "stdout",
     "output_type": "stream",
     "text": [
      "\n",
      "DIMENSION: sg_data_point\n",
      "{latitude, longitude, time, depth}\n"
     ]
    },
    {
     "name": "stderr",
     "output_type": "stream",
     "text": [
      " 53%|█████████████████████▍                  | 784/1467 [06:30<05:06,  2.23it/s]/home/dIOGOLOC/programs/anaconda3/lib/python3.10/site-packages/glidertools/load/seaglider.py:227: GliderToolsWarning: dives was not found in the files\n",
      "  warnings.warn(msg, GliderToolsWarning)\n"
     ]
    },
    {
     "name": "stdout",
     "output_type": "stream",
     "text": [
      "\n",
      "DIMENSION: sg_data_point\n",
      "{latitude, longitude, time, depth}\n"
     ]
    },
    {
     "name": "stderr",
     "output_type": "stream",
     "text": [
      " 54%|█████████████████████▍                  | 785/1467 [06:31<05:02,  2.26it/s]/home/dIOGOLOC/programs/anaconda3/lib/python3.10/site-packages/glidertools/load/seaglider.py:227: GliderToolsWarning: dives was not found in the files\n",
      "  warnings.warn(msg, GliderToolsWarning)\n"
     ]
    },
    {
     "name": "stdout",
     "output_type": "stream",
     "text": [
      "\n",
      "DIMENSION: sg_data_point\n",
      "{latitude, longitude, time, depth}\n"
     ]
    },
    {
     "name": "stderr",
     "output_type": "stream",
     "text": [
      " 54%|█████████████████████▍                  | 786/1467 [06:31<04:56,  2.30it/s]/home/dIOGOLOC/programs/anaconda3/lib/python3.10/site-packages/glidertools/load/seaglider.py:227: GliderToolsWarning: dives was not found in the files\n",
      "  warnings.warn(msg, GliderToolsWarning)\n"
     ]
    },
    {
     "name": "stdout",
     "output_type": "stream",
     "text": [
      "\n",
      "DIMENSION: sg_data_point\n",
      "{latitude, longitude, time, depth}\n"
     ]
    },
    {
     "name": "stderr",
     "output_type": "stream",
     "text": [
      " 54%|█████████████████████▍                  | 787/1467 [06:32<04:54,  2.31it/s]/home/dIOGOLOC/programs/anaconda3/lib/python3.10/site-packages/glidertools/load/seaglider.py:227: GliderToolsWarning: dives was not found in the files\n",
      "  warnings.warn(msg, GliderToolsWarning)\n"
     ]
    },
    {
     "name": "stdout",
     "output_type": "stream",
     "text": [
      "\n",
      "DIMENSION: sg_data_point\n",
      "{latitude, longitude, time, depth}\n"
     ]
    },
    {
     "name": "stderr",
     "output_type": "stream",
     "text": [
      " 54%|█████████████████████▍                  | 788/1467 [06:32<04:51,  2.33it/s]/home/dIOGOLOC/programs/anaconda3/lib/python3.10/site-packages/glidertools/load/seaglider.py:227: GliderToolsWarning: dives was not found in the files\n",
      "  warnings.warn(msg, GliderToolsWarning)\n"
     ]
    },
    {
     "name": "stdout",
     "output_type": "stream",
     "text": [
      "\n",
      "DIMENSION: sg_data_point\n",
      "{latitude, longitude, time, depth}\n"
     ]
    },
    {
     "name": "stderr",
     "output_type": "stream",
     "text": [
      " 54%|█████████████████████▌                  | 789/1467 [06:32<04:49,  2.34it/s]/home/dIOGOLOC/programs/anaconda3/lib/python3.10/site-packages/glidertools/load/seaglider.py:227: GliderToolsWarning: dives was not found in the files\n",
      "  warnings.warn(msg, GliderToolsWarning)\n"
     ]
    },
    {
     "name": "stdout",
     "output_type": "stream",
     "text": [
      "\n",
      "DIMENSION: sg_data_point\n",
      "{latitude, longitude, time, depth}\n"
     ]
    },
    {
     "name": "stderr",
     "output_type": "stream",
     "text": [
      " 54%|█████████████████████▌                  | 790/1467 [06:33<04:46,  2.36it/s]/home/dIOGOLOC/programs/anaconda3/lib/python3.10/site-packages/glidertools/load/seaglider.py:227: GliderToolsWarning: dives was not found in the files\n",
      "  warnings.warn(msg, GliderToolsWarning)\n"
     ]
    },
    {
     "name": "stdout",
     "output_type": "stream",
     "text": [
      "\n",
      "DIMENSION: sg_data_point\n",
      "{latitude, longitude, time, depth}\n"
     ]
    },
    {
     "name": "stderr",
     "output_type": "stream",
     "text": [
      " 54%|█████████████████████▌                  | 791/1467 [06:33<04:47,  2.35it/s]/home/dIOGOLOC/programs/anaconda3/lib/python3.10/site-packages/glidertools/load/seaglider.py:227: GliderToolsWarning: dives was not found in the files\n",
      "  warnings.warn(msg, GliderToolsWarning)\n"
     ]
    },
    {
     "name": "stdout",
     "output_type": "stream",
     "text": [
      "\n",
      "DIMENSION: sg_data_point\n",
      "{latitude, longitude, time, depth}\n"
     ]
    },
    {
     "name": "stderr",
     "output_type": "stream",
     "text": [
      " 54%|█████████████████████▌                  | 792/1467 [06:34<04:45,  2.36it/s]/home/dIOGOLOC/programs/anaconda3/lib/python3.10/site-packages/glidertools/load/seaglider.py:227: GliderToolsWarning: dives was not found in the files\n",
      "  warnings.warn(msg, GliderToolsWarning)\n"
     ]
    },
    {
     "name": "stdout",
     "output_type": "stream",
     "text": [
      "\n",
      "DIMENSION: sg_data_point\n",
      "{latitude, longitude, time, depth}\n"
     ]
    },
    {
     "name": "stderr",
     "output_type": "stream",
     "text": [
      " 54%|█████████████████████▌                  | 793/1467 [06:34<04:44,  2.37it/s]/home/dIOGOLOC/programs/anaconda3/lib/python3.10/site-packages/glidertools/load/seaglider.py:227: GliderToolsWarning: dives was not found in the files\n",
      "  warnings.warn(msg, GliderToolsWarning)\n"
     ]
    },
    {
     "name": "stdout",
     "output_type": "stream",
     "text": [
      "\n",
      "DIMENSION: sg_data_point\n",
      "{latitude, longitude, time, depth}\n"
     ]
    },
    {
     "name": "stderr",
     "output_type": "stream",
     "text": [
      " 54%|█████████████████████▋                  | 794/1467 [06:35<04:42,  2.38it/s]/home/dIOGOLOC/programs/anaconda3/lib/python3.10/site-packages/glidertools/load/seaglider.py:227: GliderToolsWarning: dives was not found in the files\n",
      "  warnings.warn(msg, GliderToolsWarning)\n"
     ]
    },
    {
     "name": "stdout",
     "output_type": "stream",
     "text": [
      "\n",
      "DIMENSION: sg_data_point\n",
      "{latitude, longitude, time, depth}\n"
     ]
    },
    {
     "name": "stderr",
     "output_type": "stream",
     "text": [
      " 54%|█████████████████████▋                  | 795/1467 [06:35<05:05,  2.20it/s]/home/dIOGOLOC/programs/anaconda3/lib/python3.10/site-packages/glidertools/load/seaglider.py:227: GliderToolsWarning: dives was not found in the files\n",
      "  warnings.warn(msg, GliderToolsWarning)\n"
     ]
    },
    {
     "name": "stdout",
     "output_type": "stream",
     "text": [
      "\n",
      "DIMENSION: sg_data_point\n",
      "{latitude, longitude, time, depth}\n"
     ]
    },
    {
     "name": "stderr",
     "output_type": "stream",
     "text": [
      " 54%|█████████████████████▋                  | 796/1467 [06:36<05:01,  2.22it/s]/home/dIOGOLOC/programs/anaconda3/lib/python3.10/site-packages/glidertools/load/seaglider.py:227: GliderToolsWarning: dives was not found in the files\n",
      "  warnings.warn(msg, GliderToolsWarning)\n"
     ]
    },
    {
     "name": "stdout",
     "output_type": "stream",
     "text": [
      "\n",
      "DIMENSION: sg_data_point\n",
      "{latitude, longitude, time, depth}\n"
     ]
    },
    {
     "name": "stderr",
     "output_type": "stream",
     "text": [
      " 54%|█████████████████████▋                  | 797/1467 [06:36<04:54,  2.27it/s]/home/dIOGOLOC/programs/anaconda3/lib/python3.10/site-packages/glidertools/load/seaglider.py:227: GliderToolsWarning: dives was not found in the files\n",
      "  warnings.warn(msg, GliderToolsWarning)\n"
     ]
    },
    {
     "name": "stdout",
     "output_type": "stream",
     "text": [
      "\n",
      "DIMENSION: sg_data_point\n",
      "{latitude, longitude, time, depth}\n"
     ]
    },
    {
     "name": "stderr",
     "output_type": "stream",
     "text": [
      " 54%|█████████████████████▊                  | 798/1467 [06:36<04:50,  2.30it/s]/home/dIOGOLOC/programs/anaconda3/lib/python3.10/site-packages/glidertools/load/seaglider.py:227: GliderToolsWarning: dives was not found in the files\n",
      "  warnings.warn(msg, GliderToolsWarning)\n"
     ]
    },
    {
     "name": "stdout",
     "output_type": "stream",
     "text": [
      "\n",
      "DIMENSION: sg_data_point\n",
      "{latitude, longitude, time, depth}\n"
     ]
    },
    {
     "name": "stderr",
     "output_type": "stream",
     "text": [
      " 54%|█████████████████████▊                  | 799/1467 [06:37<04:47,  2.32it/s]/home/dIOGOLOC/programs/anaconda3/lib/python3.10/site-packages/glidertools/load/seaglider.py:227: GliderToolsWarning: dives was not found in the files\n",
      "  warnings.warn(msg, GliderToolsWarning)\n"
     ]
    },
    {
     "name": "stdout",
     "output_type": "stream",
     "text": [
      "\n",
      "DIMENSION: sg_data_point\n",
      "{latitude, longitude, time, depth}\n"
     ]
    },
    {
     "name": "stderr",
     "output_type": "stream",
     "text": [
      " 55%|█████████████████████▊                  | 800/1467 [06:37<04:45,  2.34it/s]/home/dIOGOLOC/programs/anaconda3/lib/python3.10/site-packages/glidertools/load/seaglider.py:227: GliderToolsWarning: dives was not found in the files\n",
      "  warnings.warn(msg, GliderToolsWarning)\n"
     ]
    },
    {
     "name": "stdout",
     "output_type": "stream",
     "text": [
      "\n",
      "DIMENSION: sg_data_point\n",
      "{latitude, longitude, time, depth}\n"
     ]
    },
    {
     "name": "stderr",
     "output_type": "stream",
     "text": [
      " 55%|█████████████████████▊                  | 801/1467 [06:38<04:42,  2.36it/s]/home/dIOGOLOC/programs/anaconda3/lib/python3.10/site-packages/glidertools/load/seaglider.py:227: GliderToolsWarning: dives was not found in the files\n",
      "  warnings.warn(msg, GliderToolsWarning)\n"
     ]
    },
    {
     "name": "stdout",
     "output_type": "stream",
     "text": [
      "\n",
      "DIMENSION: sg_data_point\n",
      "{latitude, longitude, time, depth}\n"
     ]
    },
    {
     "name": "stderr",
     "output_type": "stream",
     "text": [
      " 55%|█████████████████████▊                  | 802/1467 [06:38<04:40,  2.37it/s]/home/dIOGOLOC/programs/anaconda3/lib/python3.10/site-packages/glidertools/load/seaglider.py:227: GliderToolsWarning: dives was not found in the files\n",
      "  warnings.warn(msg, GliderToolsWarning)\n"
     ]
    },
    {
     "name": "stdout",
     "output_type": "stream",
     "text": [
      "\n",
      "DIMENSION: sg_data_point\n",
      "{latitude, longitude, time, depth}\n"
     ]
    },
    {
     "name": "stderr",
     "output_type": "stream",
     "text": [
      " 55%|█████████████████████▉                  | 803/1467 [06:38<04:37,  2.39it/s]/home/dIOGOLOC/programs/anaconda3/lib/python3.10/site-packages/glidertools/load/seaglider.py:227: GliderToolsWarning: dives was not found in the files\n",
      "  warnings.warn(msg, GliderToolsWarning)\n"
     ]
    },
    {
     "name": "stdout",
     "output_type": "stream",
     "text": [
      "\n",
      "DIMENSION: sg_data_point\n",
      "{latitude, longitude, time, depth}\n"
     ]
    },
    {
     "name": "stderr",
     "output_type": "stream",
     "text": [
      " 55%|█████████████████████▉                  | 804/1467 [06:39<04:35,  2.40it/s]/home/dIOGOLOC/programs/anaconda3/lib/python3.10/site-packages/glidertools/load/seaglider.py:227: GliderToolsWarning: dives was not found in the files\n",
      "  warnings.warn(msg, GliderToolsWarning)\n"
     ]
    },
    {
     "name": "stdout",
     "output_type": "stream",
     "text": [
      "\n",
      "DIMENSION: sg_data_point\n",
      "{latitude, longitude, time, depth}\n"
     ]
    },
    {
     "name": "stderr",
     "output_type": "stream",
     "text": [
      " 55%|█████████████████████▉                  | 805/1467 [06:39<04:34,  2.41it/s]/home/dIOGOLOC/programs/anaconda3/lib/python3.10/site-packages/glidertools/load/seaglider.py:227: GliderToolsWarning: dives was not found in the files\n",
      "  warnings.warn(msg, GliderToolsWarning)\n"
     ]
    },
    {
     "name": "stdout",
     "output_type": "stream",
     "text": [
      "\n",
      "DIMENSION: sg_data_point\n",
      "{latitude, longitude, time, depth}\n"
     ]
    },
    {
     "name": "stderr",
     "output_type": "stream",
     "text": [
      " 55%|█████████████████████▉                  | 806/1467 [06:40<04:52,  2.26it/s]/home/dIOGOLOC/programs/anaconda3/lib/python3.10/site-packages/glidertools/load/seaglider.py:227: GliderToolsWarning: dives was not found in the files\n",
      "  warnings.warn(msg, GliderToolsWarning)\n"
     ]
    },
    {
     "name": "stdout",
     "output_type": "stream",
     "text": [
      "\n",
      "DIMENSION: sg_data_point\n",
      "{latitude, longitude, time, depth}\n"
     ]
    },
    {
     "name": "stderr",
     "output_type": "stream",
     "text": [
      " 55%|██████████████████████                  | 807/1467 [06:40<05:06,  2.15it/s]/home/dIOGOLOC/programs/anaconda3/lib/python3.10/site-packages/glidertools/load/seaglider.py:227: GliderToolsWarning: dives was not found in the files\n",
      "  warnings.warn(msg, GliderToolsWarning)\n"
     ]
    },
    {
     "name": "stdout",
     "output_type": "stream",
     "text": [
      "\n",
      "DIMENSION: sg_data_point\n",
      "{latitude, longitude, time, depth}\n"
     ]
    },
    {
     "name": "stderr",
     "output_type": "stream",
     "text": [
      " 55%|██████████████████████                  | 808/1467 [06:41<05:44,  1.91it/s]/home/dIOGOLOC/programs/anaconda3/lib/python3.10/site-packages/glidertools/load/seaglider.py:227: GliderToolsWarning: dives was not found in the files\n",
      "  warnings.warn(msg, GliderToolsWarning)\n"
     ]
    },
    {
     "name": "stdout",
     "output_type": "stream",
     "text": [
      "\n",
      "DIMENSION: sg_data_point\n",
      "{latitude, longitude, time, depth}\n"
     ]
    },
    {
     "name": "stderr",
     "output_type": "stream",
     "text": [
      " 55%|██████████████████████                  | 809/1467 [06:41<05:41,  1.93it/s]/home/dIOGOLOC/programs/anaconda3/lib/python3.10/site-packages/glidertools/load/seaglider.py:227: GliderToolsWarning: dives was not found in the files\n",
      "  warnings.warn(msg, GliderToolsWarning)\n"
     ]
    },
    {
     "name": "stdout",
     "output_type": "stream",
     "text": [
      "\n",
      "DIMENSION: sg_data_point\n",
      "{latitude, longitude, time, depth}\n"
     ]
    },
    {
     "name": "stderr",
     "output_type": "stream",
     "text": [
      " 55%|██████████████████████                  | 810/1467 [06:42<05:30,  1.99it/s]/home/dIOGOLOC/programs/anaconda3/lib/python3.10/site-packages/glidertools/load/seaglider.py:227: GliderToolsWarning: dives was not found in the files\n",
      "  warnings.warn(msg, GliderToolsWarning)\n"
     ]
    },
    {
     "name": "stdout",
     "output_type": "stream",
     "text": [
      "\n",
      "DIMENSION: sg_data_point\n",
      "{latitude, longitude, time, depth}\n"
     ]
    },
    {
     "name": "stderr",
     "output_type": "stream",
     "text": [
      " 55%|██████████████████████                  | 811/1467 [06:42<05:18,  2.06it/s]/home/dIOGOLOC/programs/anaconda3/lib/python3.10/site-packages/glidertools/load/seaglider.py:227: GliderToolsWarning: dives was not found in the files\n",
      "  warnings.warn(msg, GliderToolsWarning)\n"
     ]
    },
    {
     "name": "stdout",
     "output_type": "stream",
     "text": [
      "\n",
      "DIMENSION: sg_data_point\n",
      "{latitude, longitude, time, depth}\n"
     ]
    },
    {
     "name": "stderr",
     "output_type": "stream",
     "text": [
      " 55%|██████████████████████▏                 | 812/1467 [06:43<05:07,  2.13it/s]/home/dIOGOLOC/programs/anaconda3/lib/python3.10/site-packages/glidertools/load/seaglider.py:227: GliderToolsWarning: dives was not found in the files\n",
      "  warnings.warn(msg, GliderToolsWarning)\n"
     ]
    },
    {
     "name": "stdout",
     "output_type": "stream",
     "text": [
      "\n",
      "DIMENSION: sg_data_point\n",
      "{latitude, longitude, time, depth}\n"
     ]
    },
    {
     "name": "stderr",
     "output_type": "stream",
     "text": [
      " 55%|██████████████████████▏                 | 813/1467 [06:43<04:57,  2.20it/s]/home/dIOGOLOC/programs/anaconda3/lib/python3.10/site-packages/glidertools/load/seaglider.py:227: GliderToolsWarning: dives was not found in the files\n",
      "  warnings.warn(msg, GliderToolsWarning)\n"
     ]
    },
    {
     "name": "stdout",
     "output_type": "stream",
     "text": [
      "\n",
      "DIMENSION: sg_data_point\n",
      "{latitude, longitude, time, depth}\n"
     ]
    },
    {
     "name": "stderr",
     "output_type": "stream",
     "text": [
      " 55%|██████████████████████▏                 | 814/1467 [06:44<04:53,  2.23it/s]/home/dIOGOLOC/programs/anaconda3/lib/python3.10/site-packages/glidertools/load/seaglider.py:227: GliderToolsWarning: dives was not found in the files\n",
      "  warnings.warn(msg, GliderToolsWarning)\n"
     ]
    },
    {
     "name": "stdout",
     "output_type": "stream",
     "text": [
      "\n",
      "DIMENSION: sg_data_point\n",
      "{latitude, longitude, time, depth}\n"
     ]
    },
    {
     "name": "stderr",
     "output_type": "stream",
     "text": [
      " 56%|██████████████████████▏                 | 815/1467 [06:44<04:52,  2.23it/s]/home/dIOGOLOC/programs/anaconda3/lib/python3.10/site-packages/glidertools/load/seaglider.py:227: GliderToolsWarning: dives was not found in the files\n",
      "  warnings.warn(msg, GliderToolsWarning)\n"
     ]
    },
    {
     "name": "stdout",
     "output_type": "stream",
     "text": [
      "\n",
      "DIMENSION: sg_data_point\n",
      "{latitude, longitude, time, depth}\n"
     ]
    },
    {
     "name": "stderr",
     "output_type": "stream",
     "text": [
      " 56%|██████████████████████▏                 | 816/1467 [06:45<04:46,  2.27it/s]/home/dIOGOLOC/programs/anaconda3/lib/python3.10/site-packages/glidertools/load/seaglider.py:227: GliderToolsWarning: dives was not found in the files\n",
      "  warnings.warn(msg, GliderToolsWarning)\n"
     ]
    },
    {
     "name": "stdout",
     "output_type": "stream",
     "text": [
      "\n",
      "DIMENSION: sg_data_point\n",
      "{latitude, longitude, time, depth}\n"
     ]
    },
    {
     "name": "stderr",
     "output_type": "stream",
     "text": [
      " 56%|██████████████████████▎                 | 817/1467 [06:45<05:01,  2.15it/s]/home/dIOGOLOC/programs/anaconda3/lib/python3.10/site-packages/glidertools/load/seaglider.py:227: GliderToolsWarning: dives was not found in the files\n",
      "  warnings.warn(msg, GliderToolsWarning)\n"
     ]
    },
    {
     "name": "stdout",
     "output_type": "stream",
     "text": [
      "\n",
      "DIMENSION: sg_data_point\n",
      "{latitude, longitude, time, depth}\n"
     ]
    },
    {
     "name": "stderr",
     "output_type": "stream",
     "text": [
      " 56%|██████████████████████▎                 | 818/1467 [06:45<04:52,  2.22it/s]/home/dIOGOLOC/programs/anaconda3/lib/python3.10/site-packages/glidertools/load/seaglider.py:227: GliderToolsWarning: dives was not found in the files\n",
      "  warnings.warn(msg, GliderToolsWarning)\n"
     ]
    },
    {
     "name": "stdout",
     "output_type": "stream",
     "text": [
      "\n",
      "DIMENSION: sg_data_point\n",
      "{latitude, longitude, time, depth}\n"
     ]
    },
    {
     "name": "stderr",
     "output_type": "stream",
     "text": [
      " 56%|██████████████████████▎                 | 819/1467 [06:46<04:45,  2.27it/s]/home/dIOGOLOC/programs/anaconda3/lib/python3.10/site-packages/glidertools/load/seaglider.py:227: GliderToolsWarning: dives was not found in the files\n",
      "  warnings.warn(msg, GliderToolsWarning)\n"
     ]
    },
    {
     "name": "stdout",
     "output_type": "stream",
     "text": [
      "\n",
      "DIMENSION: sg_data_point\n",
      "{latitude, longitude, time, depth}\n"
     ]
    },
    {
     "name": "stderr",
     "output_type": "stream",
     "text": [
      " 56%|██████████████████████▎                 | 820/1467 [06:46<04:41,  2.30it/s]/home/dIOGOLOC/programs/anaconda3/lib/python3.10/site-packages/glidertools/load/seaglider.py:227: GliderToolsWarning: dives was not found in the files\n",
      "  warnings.warn(msg, GliderToolsWarning)\n"
     ]
    },
    {
     "name": "stdout",
     "output_type": "stream",
     "text": [
      "\n",
      "DIMENSION: sg_data_point\n",
      "{latitude, longitude, time, depth}\n"
     ]
    },
    {
     "name": "stderr",
     "output_type": "stream",
     "text": [
      " 56%|██████████████████████▍                 | 821/1467 [06:47<04:38,  2.32it/s]/home/dIOGOLOC/programs/anaconda3/lib/python3.10/site-packages/glidertools/load/seaglider.py:227: GliderToolsWarning: dives was not found in the files\n",
      "  warnings.warn(msg, GliderToolsWarning)\n"
     ]
    },
    {
     "name": "stdout",
     "output_type": "stream",
     "text": [
      "\n",
      "DIMENSION: sg_data_point\n",
      "{latitude, longitude, time, depth}\n"
     ]
    },
    {
     "name": "stderr",
     "output_type": "stream",
     "text": [
      " 56%|██████████████████████▍                 | 822/1467 [06:47<04:35,  2.34it/s]/home/dIOGOLOC/programs/anaconda3/lib/python3.10/site-packages/glidertools/load/seaglider.py:227: GliderToolsWarning: dives was not found in the files\n",
      "  warnings.warn(msg, GliderToolsWarning)\n"
     ]
    },
    {
     "name": "stdout",
     "output_type": "stream",
     "text": [
      "\n",
      "DIMENSION: sg_data_point\n",
      "{latitude, longitude, time, depth}\n"
     ]
    },
    {
     "name": "stderr",
     "output_type": "stream",
     "text": [
      " 56%|██████████████████████▍                 | 823/1467 [06:48<04:32,  2.36it/s]/home/dIOGOLOC/programs/anaconda3/lib/python3.10/site-packages/glidertools/load/seaglider.py:227: GliderToolsWarning: dives was not found in the files\n",
      "  warnings.warn(msg, GliderToolsWarning)\n"
     ]
    },
    {
     "name": "stdout",
     "output_type": "stream",
     "text": [
      "\n",
      "DIMENSION: sg_data_point\n",
      "{latitude, longitude, time, depth}\n"
     ]
    },
    {
     "name": "stderr",
     "output_type": "stream",
     "text": [
      " 56%|██████████████████████▍                 | 824/1467 [06:48<04:31,  2.37it/s]/home/dIOGOLOC/programs/anaconda3/lib/python3.10/site-packages/glidertools/load/seaglider.py:227: GliderToolsWarning: dives was not found in the files\n",
      "  warnings.warn(msg, GliderToolsWarning)\n"
     ]
    },
    {
     "name": "stdout",
     "output_type": "stream",
     "text": [
      "\n",
      "DIMENSION: sg_data_point\n",
      "{latitude, longitude, time, depth}\n"
     ]
    },
    {
     "name": "stderr",
     "output_type": "stream",
     "text": [
      " 56%|██████████████████████▍                 | 825/1467 [06:48<04:30,  2.38it/s]/home/dIOGOLOC/programs/anaconda3/lib/python3.10/site-packages/glidertools/load/seaglider.py:227: GliderToolsWarning: dives was not found in the files\n",
      "  warnings.warn(msg, GliderToolsWarning)\n"
     ]
    },
    {
     "name": "stdout",
     "output_type": "stream",
     "text": [
      "\n",
      "DIMENSION: sg_data_point\n",
      "{latitude, longitude, time, depth}\n"
     ]
    },
    {
     "name": "stderr",
     "output_type": "stream",
     "text": [
      " 56%|██████████████████████▌                 | 826/1467 [06:49<04:29,  2.38it/s]/home/dIOGOLOC/programs/anaconda3/lib/python3.10/site-packages/glidertools/load/seaglider.py:227: GliderToolsWarning: dives was not found in the files\n",
      "  warnings.warn(msg, GliderToolsWarning)\n"
     ]
    },
    {
     "name": "stdout",
     "output_type": "stream",
     "text": [
      "\n",
      "DIMENSION: sg_data_point\n",
      "{latitude, longitude, time, depth}\n"
     ]
    },
    {
     "name": "stderr",
     "output_type": "stream",
     "text": [
      " 56%|██████████████████████▌                 | 827/1467 [06:49<04:27,  2.39it/s]/home/dIOGOLOC/programs/anaconda3/lib/python3.10/site-packages/glidertools/load/seaglider.py:227: GliderToolsWarning: dives was not found in the files\n",
      "  warnings.warn(msg, GliderToolsWarning)\n"
     ]
    },
    {
     "name": "stdout",
     "output_type": "stream",
     "text": [
      "\n",
      "DIMENSION: sg_data_point\n",
      "{latitude, longitude, time, depth}\n"
     ]
    },
    {
     "name": "stderr",
     "output_type": "stream",
     "text": [
      " 56%|██████████████████████▌                 | 828/1467 [06:50<04:46,  2.23it/s]/home/dIOGOLOC/programs/anaconda3/lib/python3.10/site-packages/glidertools/load/seaglider.py:227: GliderToolsWarning: dives was not found in the files\n",
      "  warnings.warn(msg, GliderToolsWarning)\n"
     ]
    },
    {
     "name": "stdout",
     "output_type": "stream",
     "text": [
      "\n",
      "DIMENSION: sg_data_point\n",
      "{latitude, longitude, time, depth}\n"
     ]
    },
    {
     "name": "stderr",
     "output_type": "stream",
     "text": [
      " 57%|██████████████████████▌                 | 829/1467 [06:50<04:42,  2.26it/s]/home/dIOGOLOC/programs/anaconda3/lib/python3.10/site-packages/glidertools/load/seaglider.py:227: GliderToolsWarning: dives was not found in the files\n",
      "  warnings.warn(msg, GliderToolsWarning)\n"
     ]
    },
    {
     "name": "stdout",
     "output_type": "stream",
     "text": [
      "\n",
      "DIMENSION: sg_data_point\n",
      "{latitude, longitude, time, depth}\n"
     ]
    },
    {
     "name": "stderr",
     "output_type": "stream",
     "text": [
      " 57%|██████████████████████▋                 | 830/1467 [06:51<04:43,  2.25it/s]/home/dIOGOLOC/programs/anaconda3/lib/python3.10/site-packages/glidertools/load/seaglider.py:227: GliderToolsWarning: dives was not found in the files\n",
      "  warnings.warn(msg, GliderToolsWarning)\n"
     ]
    },
    {
     "name": "stdout",
     "output_type": "stream",
     "text": [
      "\n",
      "DIMENSION: sg_data_point\n",
      "{latitude, longitude, time, depth}\n"
     ]
    },
    {
     "name": "stderr",
     "output_type": "stream",
     "text": [
      " 57%|██████████████████████▋                 | 831/1467 [06:51<04:45,  2.23it/s]/home/dIOGOLOC/programs/anaconda3/lib/python3.10/site-packages/glidertools/load/seaglider.py:227: GliderToolsWarning: dives was not found in the files\n",
      "  warnings.warn(msg, GliderToolsWarning)\n"
     ]
    },
    {
     "name": "stdout",
     "output_type": "stream",
     "text": [
      "\n",
      "DIMENSION: sg_data_point\n",
      "{latitude, longitude, time, depth}\n"
     ]
    },
    {
     "name": "stderr",
     "output_type": "stream",
     "text": [
      " 57%|██████████████████████▋                 | 832/1467 [06:52<04:45,  2.22it/s]/home/dIOGOLOC/programs/anaconda3/lib/python3.10/site-packages/glidertools/load/seaglider.py:227: GliderToolsWarning: dives was not found in the files\n",
      "  warnings.warn(msg, GliderToolsWarning)\n"
     ]
    },
    {
     "name": "stdout",
     "output_type": "stream",
     "text": [
      "\n",
      "DIMENSION: sg_data_point\n",
      "{latitude, longitude, time, depth}\n"
     ]
    },
    {
     "name": "stderr",
     "output_type": "stream",
     "text": [
      " 57%|██████████████████████▋                 | 833/1467 [06:52<04:46,  2.21it/s]/home/dIOGOLOC/programs/anaconda3/lib/python3.10/site-packages/glidertools/load/seaglider.py:227: GliderToolsWarning: dives was not found in the files\n",
      "  warnings.warn(msg, GliderToolsWarning)\n"
     ]
    },
    {
     "name": "stdout",
     "output_type": "stream",
     "text": [
      "\n",
      "DIMENSION: sg_data_point\n",
      "{latitude, longitude, time, depth}\n"
     ]
    },
    {
     "name": "stderr",
     "output_type": "stream",
     "text": [
      " 57%|██████████████████████▋                 | 834/1467 [06:52<04:42,  2.24it/s]/home/dIOGOLOC/programs/anaconda3/lib/python3.10/site-packages/glidertools/load/seaglider.py:227: GliderToolsWarning: dives was not found in the files\n",
      "  warnings.warn(msg, GliderToolsWarning)\n"
     ]
    },
    {
     "name": "stdout",
     "output_type": "stream",
     "text": [
      "\n",
      "DIMENSION: sg_data_point\n",
      "{latitude, longitude, time, depth}\n"
     ]
    },
    {
     "name": "stderr",
     "output_type": "stream",
     "text": [
      " 57%|██████████████████████▊                 | 835/1467 [06:53<04:44,  2.22it/s]/home/dIOGOLOC/programs/anaconda3/lib/python3.10/site-packages/glidertools/load/seaglider.py:227: GliderToolsWarning: dives was not found in the files\n",
      "  warnings.warn(msg, GliderToolsWarning)\n"
     ]
    },
    {
     "name": "stdout",
     "output_type": "stream",
     "text": [
      "\n",
      "DIMENSION: sg_data_point\n",
      "{latitude, longitude, time, depth}\n"
     ]
    },
    {
     "name": "stderr",
     "output_type": "stream",
     "text": [
      " 57%|██████████████████████▊                 | 836/1467 [06:53<04:44,  2.22it/s]/home/dIOGOLOC/programs/anaconda3/lib/python3.10/site-packages/glidertools/load/seaglider.py:227: GliderToolsWarning: dives was not found in the files\n",
      "  warnings.warn(msg, GliderToolsWarning)\n"
     ]
    },
    {
     "name": "stdout",
     "output_type": "stream",
     "text": [
      "\n",
      "DIMENSION: sg_data_point\n",
      "{latitude, longitude, time, depth}\n"
     ]
    },
    {
     "name": "stderr",
     "output_type": "stream",
     "text": [
      " 57%|██████████████████████▊                 | 837/1467 [06:54<04:41,  2.24it/s]/home/dIOGOLOC/programs/anaconda3/lib/python3.10/site-packages/glidertools/load/seaglider.py:227: GliderToolsWarning: dives was not found in the files\n",
      "  warnings.warn(msg, GliderToolsWarning)\n"
     ]
    },
    {
     "name": "stdout",
     "output_type": "stream",
     "text": [
      "\n",
      "DIMENSION: sg_data_point\n",
      "{latitude, longitude, time, depth}\n"
     ]
    },
    {
     "name": "stderr",
     "output_type": "stream",
     "text": [
      " 57%|██████████████████████▊                 | 838/1467 [06:54<04:38,  2.26it/s]/home/dIOGOLOC/programs/anaconda3/lib/python3.10/site-packages/glidertools/load/seaglider.py:227: GliderToolsWarning: dives was not found in the files\n",
      "  warnings.warn(msg, GliderToolsWarning)\n"
     ]
    },
    {
     "name": "stdout",
     "output_type": "stream",
     "text": [
      "\n",
      "DIMENSION: sg_data_point\n",
      "{latitude, longitude, time, depth}\n"
     ]
    },
    {
     "name": "stderr",
     "output_type": "stream",
     "text": [
      " 57%|██████████████████████▉                 | 839/1467 [06:55<04:55,  2.13it/s]/home/dIOGOLOC/programs/anaconda3/lib/python3.10/site-packages/glidertools/load/seaglider.py:227: GliderToolsWarning: dives was not found in the files\n",
      "  warnings.warn(msg, GliderToolsWarning)\n"
     ]
    },
    {
     "name": "stdout",
     "output_type": "stream",
     "text": [
      "\n",
      "DIMENSION: sg_data_point\n",
      "{latitude, longitude, time, depth}\n"
     ]
    },
    {
     "name": "stderr",
     "output_type": "stream",
     "text": [
      " 57%|██████████████████████▉                 | 840/1467 [06:55<04:45,  2.19it/s]/home/dIOGOLOC/programs/anaconda3/lib/python3.10/site-packages/glidertools/load/seaglider.py:227: GliderToolsWarning: dives was not found in the files\n",
      "  warnings.warn(msg, GliderToolsWarning)\n"
     ]
    },
    {
     "name": "stdout",
     "output_type": "stream",
     "text": [
      "\n",
      "DIMENSION: sg_data_point\n",
      "{latitude, longitude, time, depth}\n"
     ]
    },
    {
     "name": "stderr",
     "output_type": "stream",
     "text": [
      " 57%|██████████████████████▉                 | 841/1467 [06:56<04:37,  2.26it/s]/home/dIOGOLOC/programs/anaconda3/lib/python3.10/site-packages/glidertools/load/seaglider.py:227: GliderToolsWarning: dives was not found in the files\n",
      "  warnings.warn(msg, GliderToolsWarning)\n"
     ]
    },
    {
     "name": "stdout",
     "output_type": "stream",
     "text": [
      "\n",
      "DIMENSION: sg_data_point\n",
      "{latitude, longitude, time, depth}\n"
     ]
    },
    {
     "name": "stderr",
     "output_type": "stream",
     "text": [
      " 57%|██████████████████████▉                 | 842/1467 [06:56<04:32,  2.30it/s]/home/dIOGOLOC/programs/anaconda3/lib/python3.10/site-packages/glidertools/load/seaglider.py:227: GliderToolsWarning: dives was not found in the files\n",
      "  warnings.warn(msg, GliderToolsWarning)\n"
     ]
    },
    {
     "name": "stdout",
     "output_type": "stream",
     "text": [
      "\n",
      "DIMENSION: sg_data_point\n",
      "{latitude, longitude, time, depth}\n"
     ]
    },
    {
     "name": "stderr",
     "output_type": "stream",
     "text": [
      " 57%|██████████████████████▉                 | 843/1467 [06:56<04:28,  2.32it/s]/home/dIOGOLOC/programs/anaconda3/lib/python3.10/site-packages/glidertools/load/seaglider.py:227: GliderToolsWarning: dives was not found in the files\n",
      "  warnings.warn(msg, GliderToolsWarning)\n"
     ]
    },
    {
     "name": "stdout",
     "output_type": "stream",
     "text": [
      "\n",
      "DIMENSION: sg_data_point\n",
      "{latitude, longitude, time, depth}\n"
     ]
    },
    {
     "name": "stderr",
     "output_type": "stream",
     "text": [
      " 58%|███████████████████████                 | 844/1467 [06:57<04:30,  2.30it/s]/home/dIOGOLOC/programs/anaconda3/lib/python3.10/site-packages/glidertools/load/seaglider.py:227: GliderToolsWarning: dives was not found in the files\n",
      "  warnings.warn(msg, GliderToolsWarning)\n"
     ]
    },
    {
     "name": "stdout",
     "output_type": "stream",
     "text": [
      "\n",
      "DIMENSION: sg_data_point\n",
      "{latitude, longitude, time, depth}\n"
     ]
    },
    {
     "name": "stderr",
     "output_type": "stream",
     "text": [
      " 58%|███████████████████████                 | 845/1467 [06:57<04:30,  2.30it/s]/home/dIOGOLOC/programs/anaconda3/lib/python3.10/site-packages/glidertools/load/seaglider.py:227: GliderToolsWarning: dives was not found in the files\n",
      "  warnings.warn(msg, GliderToolsWarning)\n"
     ]
    },
    {
     "name": "stdout",
     "output_type": "stream",
     "text": [
      "\n",
      "DIMENSION: sg_data_point\n",
      "{latitude, longitude, time, depth}\n"
     ]
    },
    {
     "name": "stderr",
     "output_type": "stream",
     "text": [
      " 58%|███████████████████████                 | 846/1467 [06:58<04:33,  2.27it/s]/home/dIOGOLOC/programs/anaconda3/lib/python3.10/site-packages/glidertools/load/seaglider.py:227: GliderToolsWarning: dives was not found in the files\n",
      "  warnings.warn(msg, GliderToolsWarning)\n"
     ]
    },
    {
     "name": "stdout",
     "output_type": "stream",
     "text": [
      "\n",
      "DIMENSION: sg_data_point\n",
      "{latitude, longitude, time, depth}\n"
     ]
    },
    {
     "name": "stderr",
     "output_type": "stream",
     "text": [
      " 58%|███████████████████████                 | 847/1467 [06:58<04:31,  2.28it/s]/home/dIOGOLOC/programs/anaconda3/lib/python3.10/site-packages/glidertools/load/seaglider.py:227: GliderToolsWarning: dives was not found in the files\n",
      "  warnings.warn(msg, GliderToolsWarning)\n"
     ]
    },
    {
     "name": "stdout",
     "output_type": "stream",
     "text": [
      "\n",
      "DIMENSION: sg_data_point\n",
      "{latitude, longitude, time, depth}\n"
     ]
    },
    {
     "name": "stderr",
     "output_type": "stream",
     "text": [
      " 58%|███████████████████████                 | 848/1467 [06:59<04:33,  2.26it/s]/home/dIOGOLOC/programs/anaconda3/lib/python3.10/site-packages/glidertools/load/seaglider.py:227: GliderToolsWarning: dives was not found in the files\n",
      "  warnings.warn(msg, GliderToolsWarning)\n"
     ]
    },
    {
     "name": "stdout",
     "output_type": "stream",
     "text": [
      "\n",
      "DIMENSION: sg_data_point\n",
      "{latitude, longitude, time, depth}\n"
     ]
    },
    {
     "name": "stderr",
     "output_type": "stream",
     "text": [
      " 58%|███████████████████████▏                | 849/1467 [06:59<04:52,  2.12it/s]/home/dIOGOLOC/programs/anaconda3/lib/python3.10/site-packages/glidertools/load/seaglider.py:227: GliderToolsWarning: dives was not found in the files\n",
      "  warnings.warn(msg, GliderToolsWarning)\n"
     ]
    },
    {
     "name": "stdout",
     "output_type": "stream",
     "text": [
      "\n",
      "DIMENSION: sg_data_point\n",
      "{latitude, longitude, time, depth}\n"
     ]
    },
    {
     "name": "stderr",
     "output_type": "stream",
     "text": [
      " 58%|███████████████████████▏                | 850/1467 [07:00<04:44,  2.17it/s]/home/dIOGOLOC/programs/anaconda3/lib/python3.10/site-packages/glidertools/load/seaglider.py:227: GliderToolsWarning: dives was not found in the files\n",
      "  warnings.warn(msg, GliderToolsWarning)\n"
     ]
    },
    {
     "name": "stdout",
     "output_type": "stream",
     "text": [
      "\n",
      "DIMENSION: sg_data_point\n",
      "{latitude, longitude, time, depth}\n"
     ]
    },
    {
     "name": "stderr",
     "output_type": "stream",
     "text": [
      " 58%|███████████████████████▏                | 851/1467 [07:00<04:41,  2.19it/s]/home/dIOGOLOC/programs/anaconda3/lib/python3.10/site-packages/glidertools/load/seaglider.py:227: GliderToolsWarning: dives was not found in the files\n",
      "  warnings.warn(msg, GliderToolsWarning)\n"
     ]
    },
    {
     "name": "stdout",
     "output_type": "stream",
     "text": [
      "\n",
      "DIMENSION: sg_data_point\n",
      "{latitude, longitude, time, depth}\n"
     ]
    },
    {
     "name": "stderr",
     "output_type": "stream",
     "text": [
      " 58%|███████████████████████▏                | 852/1467 [07:01<04:42,  2.18it/s]/home/dIOGOLOC/programs/anaconda3/lib/python3.10/site-packages/glidertools/load/seaglider.py:227: GliderToolsWarning: dives was not found in the files\n",
      "  warnings.warn(msg, GliderToolsWarning)\n"
     ]
    },
    {
     "name": "stdout",
     "output_type": "stream",
     "text": [
      "\n",
      "DIMENSION: sg_data_point\n",
      "{latitude, longitude, time, depth}\n"
     ]
    },
    {
     "name": "stderr",
     "output_type": "stream",
     "text": [
      " 58%|███████████████████████▎                | 853/1467 [07:01<04:41,  2.18it/s]/home/dIOGOLOC/programs/anaconda3/lib/python3.10/site-packages/glidertools/load/seaglider.py:227: GliderToolsWarning: dives was not found in the files\n",
      "  warnings.warn(msg, GliderToolsWarning)\n"
     ]
    },
    {
     "name": "stdout",
     "output_type": "stream",
     "text": [
      "\n",
      "DIMENSION: sg_data_point\n",
      "{latitude, longitude, time, depth}\n"
     ]
    },
    {
     "name": "stderr",
     "output_type": "stream",
     "text": [
      " 58%|███████████████████████▎                | 854/1467 [07:01<04:37,  2.21it/s]/home/dIOGOLOC/programs/anaconda3/lib/python3.10/site-packages/glidertools/load/seaglider.py:227: GliderToolsWarning: dives was not found in the files\n",
      "  warnings.warn(msg, GliderToolsWarning)\n"
     ]
    },
    {
     "name": "stdout",
     "output_type": "stream",
     "text": [
      "\n",
      "DIMENSION: sg_data_point\n",
      "{latitude, longitude, time, depth}\n"
     ]
    },
    {
     "name": "stderr",
     "output_type": "stream",
     "text": [
      " 58%|███████████████████████▎                | 855/1467 [07:02<04:34,  2.23it/s]/home/dIOGOLOC/programs/anaconda3/lib/python3.10/site-packages/glidertools/load/seaglider.py:227: GliderToolsWarning: dives was not found in the files\n",
      "  warnings.warn(msg, GliderToolsWarning)\n"
     ]
    },
    {
     "name": "stdout",
     "output_type": "stream",
     "text": [
      "\n",
      "DIMENSION: sg_data_point\n",
      "{latitude, longitude, time, depth}\n"
     ]
    },
    {
     "name": "stderr",
     "output_type": "stream",
     "text": [
      " 58%|███████████████████████▎                | 856/1467 [07:02<04:36,  2.21it/s]/home/dIOGOLOC/programs/anaconda3/lib/python3.10/site-packages/glidertools/load/seaglider.py:227: GliderToolsWarning: dives was not found in the files\n",
      "  warnings.warn(msg, GliderToolsWarning)\n"
     ]
    },
    {
     "name": "stdout",
     "output_type": "stream",
     "text": [
      "\n",
      "DIMENSION: sg_data_point\n",
      "{latitude, longitude, time, depth}\n"
     ]
    },
    {
     "name": "stderr",
     "output_type": "stream",
     "text": [
      " 58%|███████████████████████▎                | 857/1467 [07:03<04:44,  2.15it/s]/home/dIOGOLOC/programs/anaconda3/lib/python3.10/site-packages/glidertools/load/seaglider.py:227: GliderToolsWarning: dives was not found in the files\n",
      "  warnings.warn(msg, GliderToolsWarning)\n"
     ]
    },
    {
     "name": "stdout",
     "output_type": "stream",
     "text": [
      "\n",
      "DIMENSION: sg_data_point\n",
      "{latitude, longitude, time, depth}\n"
     ]
    },
    {
     "name": "stderr",
     "output_type": "stream",
     "text": [
      " 58%|███████████████████████▍                | 858/1467 [07:03<04:47,  2.12it/s]/home/dIOGOLOC/programs/anaconda3/lib/python3.10/site-packages/glidertools/load/seaglider.py:227: GliderToolsWarning: dives was not found in the files\n",
      "  warnings.warn(msg, GliderToolsWarning)\n"
     ]
    },
    {
     "name": "stdout",
     "output_type": "stream",
     "text": [
      "\n",
      "DIMENSION: sg_data_point\n",
      "{latitude, longitude, time, depth}\n"
     ]
    },
    {
     "name": "stderr",
     "output_type": "stream",
     "text": [
      " 59%|███████████████████████▍                | 859/1467 [07:04<04:43,  2.15it/s]/home/dIOGOLOC/programs/anaconda3/lib/python3.10/site-packages/glidertools/load/seaglider.py:227: GliderToolsWarning: dives was not found in the files\n",
      "  warnings.warn(msg, GliderToolsWarning)\n"
     ]
    },
    {
     "name": "stdout",
     "output_type": "stream",
     "text": [
      "\n",
      "DIMENSION: sg_data_point\n",
      "{latitude, longitude, time, depth}\n"
     ]
    },
    {
     "name": "stderr",
     "output_type": "stream",
     "text": [
      " 59%|███████████████████████▍                | 860/1467 [07:04<04:57,  2.04it/s]/home/dIOGOLOC/programs/anaconda3/lib/python3.10/site-packages/glidertools/load/seaglider.py:227: GliderToolsWarning: dives was not found in the files\n",
      "  warnings.warn(msg, GliderToolsWarning)\n"
     ]
    },
    {
     "name": "stdout",
     "output_type": "stream",
     "text": [
      "\n",
      "DIMENSION: sg_data_point\n",
      "{latitude, longitude, time, depth}\n"
     ]
    },
    {
     "name": "stderr",
     "output_type": "stream",
     "text": [
      " 59%|███████████████████████▍                | 861/1467 [07:05<04:49,  2.09it/s]/home/dIOGOLOC/programs/anaconda3/lib/python3.10/site-packages/glidertools/load/seaglider.py:227: GliderToolsWarning: dives was not found in the files\n",
      "  warnings.warn(msg, GliderToolsWarning)\n"
     ]
    },
    {
     "name": "stdout",
     "output_type": "stream",
     "text": [
      "\n",
      "DIMENSION: sg_data_point\n",
      "{latitude, longitude, time, depth}\n"
     ]
    },
    {
     "name": "stderr",
     "output_type": "stream",
     "text": [
      " 59%|███████████████████████▌                | 862/1467 [07:05<04:39,  2.16it/s]/home/dIOGOLOC/programs/anaconda3/lib/python3.10/site-packages/glidertools/load/seaglider.py:227: GliderToolsWarning: dives was not found in the files\n",
      "  warnings.warn(msg, GliderToolsWarning)\n"
     ]
    },
    {
     "name": "stdout",
     "output_type": "stream",
     "text": [
      "\n",
      "DIMENSION: sg_data_point\n",
      "{latitude, longitude, time, depth}\n"
     ]
    },
    {
     "name": "stderr",
     "output_type": "stream",
     "text": [
      " 59%|███████████████████████▌                | 863/1467 [07:06<04:37,  2.17it/s]/home/dIOGOLOC/programs/anaconda3/lib/python3.10/site-packages/glidertools/load/seaglider.py:227: GliderToolsWarning: dives was not found in the files\n",
      "  warnings.warn(msg, GliderToolsWarning)\n"
     ]
    },
    {
     "name": "stdout",
     "output_type": "stream",
     "text": [
      "\n",
      "DIMENSION: sg_data_point\n",
      "{latitude, longitude, time, depth}\n"
     ]
    },
    {
     "name": "stderr",
     "output_type": "stream",
     "text": [
      " 59%|███████████████████████▌                | 864/1467 [07:06<04:34,  2.19it/s]/home/dIOGOLOC/programs/anaconda3/lib/python3.10/site-packages/glidertools/load/seaglider.py:227: GliderToolsWarning: dives was not found in the files\n",
      "  warnings.warn(msg, GliderToolsWarning)\n"
     ]
    },
    {
     "name": "stdout",
     "output_type": "stream",
     "text": [
      "\n",
      "DIMENSION: sg_data_point\n",
      "{latitude, longitude, time, depth}\n"
     ]
    },
    {
     "name": "stderr",
     "output_type": "stream",
     "text": [
      " 59%|███████████████████████▌                | 865/1467 [07:07<04:37,  2.17it/s]/home/dIOGOLOC/programs/anaconda3/lib/python3.10/site-packages/glidertools/load/seaglider.py:227: GliderToolsWarning: dives was not found in the files\n",
      "  warnings.warn(msg, GliderToolsWarning)\n"
     ]
    },
    {
     "name": "stdout",
     "output_type": "stream",
     "text": [
      "\n",
      "DIMENSION: sg_data_point\n",
      "{latitude, longitude, time, depth}\n"
     ]
    },
    {
     "name": "stderr",
     "output_type": "stream",
     "text": [
      " 59%|███████████████████████▌                | 866/1467 [07:07<04:35,  2.18it/s]/home/dIOGOLOC/programs/anaconda3/lib/python3.10/site-packages/glidertools/load/seaglider.py:227: GliderToolsWarning: dives was not found in the files\n",
      "  warnings.warn(msg, GliderToolsWarning)\n"
     ]
    },
    {
     "name": "stdout",
     "output_type": "stream",
     "text": [
      "\n",
      "DIMENSION: sg_data_point\n",
      "{latitude, longitude, time, depth}\n"
     ]
    },
    {
     "name": "stderr",
     "output_type": "stream",
     "text": [
      " 59%|███████████████████████▋                | 867/1467 [07:07<04:31,  2.21it/s]/home/dIOGOLOC/programs/anaconda3/lib/python3.10/site-packages/glidertools/load/seaglider.py:227: GliderToolsWarning: dives was not found in the files\n",
      "  warnings.warn(msg, GliderToolsWarning)\n"
     ]
    },
    {
     "name": "stdout",
     "output_type": "stream",
     "text": [
      "\n",
      "DIMENSION: sg_data_point\n",
      "{latitude, longitude, time, depth}\n"
     ]
    },
    {
     "name": "stderr",
     "output_type": "stream",
     "text": [
      " 59%|███████████████████████▋                | 868/1467 [07:08<04:36,  2.17it/s]/home/dIOGOLOC/programs/anaconda3/lib/python3.10/site-packages/glidertools/load/seaglider.py:227: GliderToolsWarning: dives was not found in the files\n",
      "  warnings.warn(msg, GliderToolsWarning)\n"
     ]
    },
    {
     "name": "stdout",
     "output_type": "stream",
     "text": [
      "\n",
      "DIMENSION: sg_data_point\n",
      "{latitude, longitude, time, depth}\n"
     ]
    },
    {
     "name": "stderr",
     "output_type": "stream",
     "text": [
      " 59%|███████████████████████▋                | 869/1467 [07:08<04:32,  2.20it/s]/home/dIOGOLOC/programs/anaconda3/lib/python3.10/site-packages/glidertools/load/seaglider.py:227: GliderToolsWarning: dives was not found in the files\n",
      "  warnings.warn(msg, GliderToolsWarning)\n"
     ]
    },
    {
     "name": "stdout",
     "output_type": "stream",
     "text": [
      "\n",
      "DIMENSION: sg_data_point\n",
      "{latitude, longitude, time, depth}\n"
     ]
    },
    {
     "name": "stderr",
     "output_type": "stream",
     "text": [
      " 59%|███████████████████████▋                | 870/1467 [07:09<04:54,  2.03it/s]/home/dIOGOLOC/programs/anaconda3/lib/python3.10/site-packages/glidertools/load/seaglider.py:227: GliderToolsWarning: dives was not found in the files\n",
      "  warnings.warn(msg, GliderToolsWarning)\n"
     ]
    },
    {
     "name": "stdout",
     "output_type": "stream",
     "text": [
      "\n",
      "DIMENSION: sg_data_point\n",
      "{latitude, longitude, time, depth}\n"
     ]
    },
    {
     "name": "stderr",
     "output_type": "stream",
     "text": [
      " 59%|███████████████████████▋                | 871/1467 [07:10<05:08,  1.93it/s]/home/dIOGOLOC/programs/anaconda3/lib/python3.10/site-packages/glidertools/load/seaglider.py:227: GliderToolsWarning: dives was not found in the files\n",
      "  warnings.warn(msg, GliderToolsWarning)\n"
     ]
    },
    {
     "name": "stdout",
     "output_type": "stream",
     "text": [
      "\n",
      "DIMENSION: sg_data_point\n",
      "{latitude, longitude, time, depth}\n"
     ]
    },
    {
     "name": "stderr",
     "output_type": "stream",
     "text": [
      " 59%|███████████████████████▊                | 872/1467 [07:10<04:51,  2.04it/s]/home/dIOGOLOC/programs/anaconda3/lib/python3.10/site-packages/glidertools/load/seaglider.py:227: GliderToolsWarning: dives was not found in the files\n",
      "  warnings.warn(msg, GliderToolsWarning)\n"
     ]
    },
    {
     "name": "stdout",
     "output_type": "stream",
     "text": [
      "\n",
      "DIMENSION: sg_data_point\n",
      "{latitude, longitude, time, depth}\n"
     ]
    },
    {
     "name": "stderr",
     "output_type": "stream",
     "text": [
      " 60%|███████████████████████▊                | 873/1467 [07:10<04:45,  2.08it/s]/home/dIOGOLOC/programs/anaconda3/lib/python3.10/site-packages/glidertools/load/seaglider.py:227: GliderToolsWarning: dives was not found in the files\n",
      "  warnings.warn(msg, GliderToolsWarning)\n"
     ]
    },
    {
     "name": "stdout",
     "output_type": "stream",
     "text": [
      "\n",
      "DIMENSION: sg_data_point\n",
      "{latitude, longitude, time, depth}\n"
     ]
    },
    {
     "name": "stderr",
     "output_type": "stream",
     "text": [
      " 60%|███████████████████████▊                | 874/1467 [07:11<04:35,  2.15it/s]/home/dIOGOLOC/programs/anaconda3/lib/python3.10/site-packages/glidertools/load/seaglider.py:227: GliderToolsWarning: dives was not found in the files\n",
      "  warnings.warn(msg, GliderToolsWarning)\n"
     ]
    },
    {
     "name": "stdout",
     "output_type": "stream",
     "text": [
      "\n",
      "DIMENSION: sg_data_point\n",
      "{latitude, longitude, time, depth}\n"
     ]
    },
    {
     "name": "stderr",
     "output_type": "stream",
     "text": [
      " 60%|███████████████████████▊                | 875/1467 [07:11<04:25,  2.23it/s]/home/dIOGOLOC/programs/anaconda3/lib/python3.10/site-packages/glidertools/load/seaglider.py:227: GliderToolsWarning: dives was not found in the files\n",
      "  warnings.warn(msg, GliderToolsWarning)\n"
     ]
    },
    {
     "name": "stdout",
     "output_type": "stream",
     "text": [
      "\n",
      "DIMENSION: sg_data_point\n",
      "{latitude, longitude, time, depth}\n"
     ]
    },
    {
     "name": "stderr",
     "output_type": "stream",
     "text": [
      " 60%|███████████████████████▉                | 876/1467 [07:12<04:22,  2.25it/s]/home/dIOGOLOC/programs/anaconda3/lib/python3.10/site-packages/glidertools/load/seaglider.py:227: GliderToolsWarning: dives was not found in the files\n",
      "  warnings.warn(msg, GliderToolsWarning)\n"
     ]
    },
    {
     "name": "stdout",
     "output_type": "stream",
     "text": [
      "\n",
      "DIMENSION: sg_data_point\n",
      "{latitude, longitude, time, depth}\n"
     ]
    },
    {
     "name": "stderr",
     "output_type": "stream",
     "text": [
      " 60%|███████████████████████▉                | 877/1467 [07:12<04:21,  2.25it/s]/home/dIOGOLOC/programs/anaconda3/lib/python3.10/site-packages/glidertools/load/seaglider.py:227: GliderToolsWarning: dives was not found in the files\n",
      "  warnings.warn(msg, GliderToolsWarning)\n"
     ]
    },
    {
     "name": "stdout",
     "output_type": "stream",
     "text": [
      "\n",
      "DIMENSION: sg_data_point\n",
      "{latitude, longitude, time, depth}\n"
     ]
    },
    {
     "name": "stderr",
     "output_type": "stream",
     "text": [
      " 60%|███████████████████████▉                | 878/1467 [07:13<04:19,  2.27it/s]/home/dIOGOLOC/programs/anaconda3/lib/python3.10/site-packages/glidertools/load/seaglider.py:227: GliderToolsWarning: dives was not found in the files\n",
      "  warnings.warn(msg, GliderToolsWarning)\n"
     ]
    },
    {
     "name": "stdout",
     "output_type": "stream",
     "text": [
      "\n",
      "DIMENSION: sg_data_point\n",
      "{latitude, longitude, time, depth}\n"
     ]
    },
    {
     "name": "stderr",
     "output_type": "stream",
     "text": [
      " 60%|███████████████████████▉                | 879/1467 [07:13<04:16,  2.30it/s]/home/dIOGOLOC/programs/anaconda3/lib/python3.10/site-packages/glidertools/load/seaglider.py:227: GliderToolsWarning: dives was not found in the files\n",
      "  warnings.warn(msg, GliderToolsWarning)\n"
     ]
    },
    {
     "name": "stdout",
     "output_type": "stream",
     "text": [
      "\n",
      "DIMENSION: sg_data_point\n",
      "{latitude, longitude, time, depth}\n"
     ]
    },
    {
     "name": "stderr",
     "output_type": "stream",
     "text": [
      " 60%|███████████████████████▉                | 880/1467 [07:14<04:26,  2.20it/s]/home/dIOGOLOC/programs/anaconda3/lib/python3.10/site-packages/glidertools/load/seaglider.py:227: GliderToolsWarning: dives was not found in the files\n",
      "  warnings.warn(msg, GliderToolsWarning)\n"
     ]
    },
    {
     "name": "stdout",
     "output_type": "stream",
     "text": [
      "\n",
      "DIMENSION: sg_data_point\n",
      "{latitude, longitude, time, depth}\n"
     ]
    },
    {
     "name": "stderr",
     "output_type": "stream",
     "text": [
      " 60%|████████████████████████                | 881/1467 [07:14<04:19,  2.26it/s]/home/dIOGOLOC/programs/anaconda3/lib/python3.10/site-packages/glidertools/load/seaglider.py:227: GliderToolsWarning: dives was not found in the files\n",
      "  warnings.warn(msg, GliderToolsWarning)\n"
     ]
    },
    {
     "name": "stdout",
     "output_type": "stream",
     "text": [
      "\n",
      "DIMENSION: sg_data_point\n",
      "{latitude, longitude, time, depth}\n"
     ]
    },
    {
     "name": "stderr",
     "output_type": "stream",
     "text": [
      " 60%|████████████████████████                | 882/1467 [07:15<04:46,  2.04it/s]/home/dIOGOLOC/programs/anaconda3/lib/python3.10/site-packages/glidertools/load/seaglider.py:227: GliderToolsWarning: dives was not found in the files\n",
      "  warnings.warn(msg, GliderToolsWarning)\n"
     ]
    },
    {
     "name": "stdout",
     "output_type": "stream",
     "text": [
      "\n",
      "DIMENSION: sg_data_point\n",
      "{latitude, longitude, time, depth}\n"
     ]
    },
    {
     "name": "stderr",
     "output_type": "stream",
     "text": [
      " 60%|████████████████████████                | 883/1467 [07:15<04:38,  2.09it/s]/home/dIOGOLOC/programs/anaconda3/lib/python3.10/site-packages/glidertools/load/seaglider.py:227: GliderToolsWarning: dives was not found in the files\n",
      "  warnings.warn(msg, GliderToolsWarning)\n"
     ]
    },
    {
     "name": "stdout",
     "output_type": "stream",
     "text": [
      "\n",
      "DIMENSION: sg_data_point\n",
      "{latitude, longitude, time, depth}\n"
     ]
    },
    {
     "name": "stderr",
     "output_type": "stream",
     "text": [
      " 60%|████████████████████████                | 884/1467 [07:15<04:27,  2.18it/s]/home/dIOGOLOC/programs/anaconda3/lib/python3.10/site-packages/glidertools/load/seaglider.py:227: GliderToolsWarning: dives was not found in the files\n",
      "  warnings.warn(msg, GliderToolsWarning)\n"
     ]
    },
    {
     "name": "stdout",
     "output_type": "stream",
     "text": [
      "\n",
      "DIMENSION: sg_data_point\n",
      "{latitude, longitude, time, depth}\n"
     ]
    },
    {
     "name": "stderr",
     "output_type": "stream",
     "text": [
      " 60%|████████████████████████▏               | 885/1467 [07:16<04:18,  2.25it/s]/home/dIOGOLOC/programs/anaconda3/lib/python3.10/site-packages/glidertools/load/seaglider.py:227: GliderToolsWarning: dives was not found in the files\n",
      "  warnings.warn(msg, GliderToolsWarning)\n"
     ]
    },
    {
     "name": "stdout",
     "output_type": "stream",
     "text": [
      "\n",
      "DIMENSION: sg_data_point\n",
      "{latitude, longitude, time, depth}\n"
     ]
    },
    {
     "name": "stderr",
     "output_type": "stream",
     "text": [
      " 60%|████████████████████████▏               | 886/1467 [07:16<04:13,  2.29it/s]/home/dIOGOLOC/programs/anaconda3/lib/python3.10/site-packages/glidertools/load/seaglider.py:227: GliderToolsWarning: dives was not found in the files\n",
      "  warnings.warn(msg, GliderToolsWarning)\n"
     ]
    },
    {
     "name": "stdout",
     "output_type": "stream",
     "text": [
      "\n",
      "DIMENSION: sg_data_point\n",
      "{latitude, longitude, time, depth}\n"
     ]
    },
    {
     "name": "stderr",
     "output_type": "stream",
     "text": [
      " 60%|████████████████████████▏               | 887/1467 [07:17<04:08,  2.33it/s]/home/dIOGOLOC/programs/anaconda3/lib/python3.10/site-packages/glidertools/load/seaglider.py:227: GliderToolsWarning: dives was not found in the files\n",
      "  warnings.warn(msg, GliderToolsWarning)\n"
     ]
    },
    {
     "name": "stdout",
     "output_type": "stream",
     "text": [
      "\n",
      "DIMENSION: sg_data_point\n",
      "{latitude, longitude, time, depth}\n"
     ]
    },
    {
     "name": "stderr",
     "output_type": "stream",
     "text": [
      " 61%|████████████████████████▏               | 888/1467 [07:17<04:06,  2.35it/s]/home/dIOGOLOC/programs/anaconda3/lib/python3.10/site-packages/glidertools/load/seaglider.py:227: GliderToolsWarning: dives was not found in the files\n",
      "  warnings.warn(msg, GliderToolsWarning)\n"
     ]
    },
    {
     "name": "stdout",
     "output_type": "stream",
     "text": [
      "\n",
      "DIMENSION: sg_data_point\n",
      "{latitude, longitude, time, depth}\n"
     ]
    },
    {
     "name": "stderr",
     "output_type": "stream",
     "text": [
      " 61%|████████████████████████▏               | 889/1467 [07:17<04:08,  2.33it/s]/home/dIOGOLOC/programs/anaconda3/lib/python3.10/site-packages/glidertools/load/seaglider.py:227: GliderToolsWarning: dives was not found in the files\n",
      "  warnings.warn(msg, GliderToolsWarning)\n"
     ]
    },
    {
     "name": "stdout",
     "output_type": "stream",
     "text": [
      "\n",
      "DIMENSION: sg_data_point\n",
      "{latitude, longitude, time, depth}\n"
     ]
    },
    {
     "name": "stderr",
     "output_type": "stream",
     "text": [
      " 61%|████████████████████████▎               | 890/1467 [07:18<04:09,  2.31it/s]/home/dIOGOLOC/programs/anaconda3/lib/python3.10/site-packages/glidertools/load/seaglider.py:227: GliderToolsWarning: dives was not found in the files\n",
      "  warnings.warn(msg, GliderToolsWarning)\n"
     ]
    },
    {
     "name": "stdout",
     "output_type": "stream",
     "text": [
      "\n",
      "DIMENSION: sg_data_point\n",
      "{latitude, longitude, time, depth}\n"
     ]
    },
    {
     "name": "stderr",
     "output_type": "stream",
     "text": [
      " 61%|████████████████████████▎               | 891/1467 [07:18<04:09,  2.31it/s]/home/dIOGOLOC/programs/anaconda3/lib/python3.10/site-packages/glidertools/load/seaglider.py:227: GliderToolsWarning: dives was not found in the files\n",
      "  warnings.warn(msg, GliderToolsWarning)\n"
     ]
    },
    {
     "name": "stdout",
     "output_type": "stream",
     "text": [
      "\n",
      "DIMENSION: sg_data_point\n",
      "{latitude, longitude, time, depth}\n"
     ]
    },
    {
     "name": "stderr",
     "output_type": "stream",
     "text": [
      " 61%|████████████████████████▎               | 892/1467 [07:19<04:05,  2.34it/s]/home/dIOGOLOC/programs/anaconda3/lib/python3.10/site-packages/glidertools/load/seaglider.py:227: GliderToolsWarning: dives was not found in the files\n",
      "  warnings.warn(msg, GliderToolsWarning)\n"
     ]
    },
    {
     "name": "stdout",
     "output_type": "stream",
     "text": [
      "\n",
      "DIMENSION: sg_data_point\n",
      "{latitude, longitude, time, depth}\n"
     ]
    },
    {
     "name": "stderr",
     "output_type": "stream",
     "text": [
      " 61%|████████████████████████▎               | 893/1467 [07:19<04:24,  2.17it/s]/home/dIOGOLOC/programs/anaconda3/lib/python3.10/site-packages/glidertools/load/seaglider.py:227: GliderToolsWarning: dives was not found in the files\n",
      "  warnings.warn(msg, GliderToolsWarning)\n"
     ]
    },
    {
     "name": "stdout",
     "output_type": "stream",
     "text": [
      "\n",
      "DIMENSION: sg_data_point\n",
      "{latitude, longitude, time, depth}\n"
     ]
    },
    {
     "name": "stderr",
     "output_type": "stream",
     "text": [
      " 61%|████████████████████████▍               | 894/1467 [07:20<04:16,  2.23it/s]/home/dIOGOLOC/programs/anaconda3/lib/python3.10/site-packages/glidertools/load/seaglider.py:227: GliderToolsWarning: dives was not found in the files\n",
      "  warnings.warn(msg, GliderToolsWarning)\n"
     ]
    },
    {
     "name": "stdout",
     "output_type": "stream",
     "text": [
      "\n",
      "DIMENSION: sg_data_point\n",
      "{latitude, longitude, time, depth}\n"
     ]
    },
    {
     "name": "stderr",
     "output_type": "stream",
     "text": [
      " 61%|████████████████████████▍               | 895/1467 [07:20<04:11,  2.27it/s]/home/dIOGOLOC/programs/anaconda3/lib/python3.10/site-packages/glidertools/load/seaglider.py:227: GliderToolsWarning: dives was not found in the files\n",
      "  warnings.warn(msg, GliderToolsWarning)\n"
     ]
    },
    {
     "name": "stdout",
     "output_type": "stream",
     "text": [
      "\n",
      "DIMENSION: sg_data_point\n",
      "{latitude, longitude, time, depth}\n"
     ]
    },
    {
     "name": "stderr",
     "output_type": "stream",
     "text": [
      " 61%|████████████████████████▍               | 896/1467 [07:21<04:07,  2.31it/s]/home/dIOGOLOC/programs/anaconda3/lib/python3.10/site-packages/glidertools/load/seaglider.py:227: GliderToolsWarning: dives was not found in the files\n",
      "  warnings.warn(msg, GliderToolsWarning)\n"
     ]
    },
    {
     "name": "stdout",
     "output_type": "stream",
     "text": [
      "\n",
      "DIMENSION: sg_data_point\n",
      "{latitude, longitude, time, depth}\n"
     ]
    },
    {
     "name": "stderr",
     "output_type": "stream",
     "text": [
      " 61%|████████████████████████▍               | 897/1467 [07:21<04:07,  2.30it/s]/home/dIOGOLOC/programs/anaconda3/lib/python3.10/site-packages/glidertools/load/seaglider.py:227: GliderToolsWarning: dives was not found in the files\n",
      "  warnings.warn(msg, GliderToolsWarning)\n"
     ]
    },
    {
     "name": "stdout",
     "output_type": "stream",
     "text": [
      "\n",
      "DIMENSION: sg_data_point\n",
      "{latitude, longitude, time, depth}\n"
     ]
    },
    {
     "name": "stderr",
     "output_type": "stream",
     "text": [
      " 61%|████████████████████████▍               | 898/1467 [07:21<04:03,  2.33it/s]/home/dIOGOLOC/programs/anaconda3/lib/python3.10/site-packages/glidertools/load/seaglider.py:227: GliderToolsWarning: dives was not found in the files\n",
      "  warnings.warn(msg, GliderToolsWarning)\n"
     ]
    },
    {
     "name": "stdout",
     "output_type": "stream",
     "text": [
      "\n",
      "DIMENSION: sg_data_point\n",
      "{latitude, longitude, time, depth}\n"
     ]
    },
    {
     "name": "stderr",
     "output_type": "stream",
     "text": [
      " 61%|████████████████████████▌               | 899/1467 [07:22<04:02,  2.35it/s]/home/dIOGOLOC/programs/anaconda3/lib/python3.10/site-packages/glidertools/load/seaglider.py:227: GliderToolsWarning: dives was not found in the files\n",
      "  warnings.warn(msg, GliderToolsWarning)\n"
     ]
    },
    {
     "name": "stdout",
     "output_type": "stream",
     "text": [
      "\n",
      "DIMENSION: sg_data_point\n",
      "{latitude, longitude, time, depth}\n"
     ]
    },
    {
     "name": "stderr",
     "output_type": "stream",
     "text": [
      " 61%|████████████████████████▌               | 900/1467 [07:22<04:06,  2.30it/s]/home/dIOGOLOC/programs/anaconda3/lib/python3.10/site-packages/glidertools/load/seaglider.py:227: GliderToolsWarning: dives was not found in the files\n",
      "  warnings.warn(msg, GliderToolsWarning)\n"
     ]
    },
    {
     "name": "stdout",
     "output_type": "stream",
     "text": [
      "\n",
      "DIMENSION: sg_data_point\n",
      "{latitude, longitude, time, depth}\n"
     ]
    },
    {
     "name": "stderr",
     "output_type": "stream",
     "text": [
      " 61%|████████████████████████▌               | 901/1467 [07:23<04:15,  2.22it/s]/home/dIOGOLOC/programs/anaconda3/lib/python3.10/site-packages/glidertools/load/seaglider.py:227: GliderToolsWarning: dives was not found in the files\n",
      "  warnings.warn(msg, GliderToolsWarning)\n"
     ]
    },
    {
     "name": "stdout",
     "output_type": "stream",
     "text": [
      "\n",
      "DIMENSION: sg_data_point\n",
      "{latitude, longitude, time, depth}\n"
     ]
    },
    {
     "name": "stderr",
     "output_type": "stream",
     "text": [
      " 61%|████████████████████████▌               | 902/1467 [07:23<04:11,  2.25it/s]/home/dIOGOLOC/programs/anaconda3/lib/python3.10/site-packages/glidertools/load/seaglider.py:227: GliderToolsWarning: dives was not found in the files\n",
      "  warnings.warn(msg, GliderToolsWarning)\n"
     ]
    },
    {
     "name": "stdout",
     "output_type": "stream",
     "text": [
      "\n",
      "DIMENSION: sg_data_point\n",
      "{latitude, longitude, time, depth}\n"
     ]
    },
    {
     "name": "stderr",
     "output_type": "stream",
     "text": [
      " 62%|████████████████████████▌               | 903/1467 [07:24<04:26,  2.11it/s]/home/dIOGOLOC/programs/anaconda3/lib/python3.10/site-packages/glidertools/load/seaglider.py:227: GliderToolsWarning: dives was not found in the files\n",
      "  warnings.warn(msg, GliderToolsWarning)\n"
     ]
    },
    {
     "name": "stdout",
     "output_type": "stream",
     "text": [
      "\n",
      "DIMENSION: sg_data_point\n",
      "{latitude, longitude, time, depth}\n"
     ]
    },
    {
     "name": "stderr",
     "output_type": "stream",
     "text": [
      " 62%|████████████████████████▋               | 904/1467 [07:24<04:18,  2.18it/s]/home/dIOGOLOC/programs/anaconda3/lib/python3.10/site-packages/glidertools/load/seaglider.py:227: GliderToolsWarning: dives was not found in the files\n",
      "  warnings.warn(msg, GliderToolsWarning)\n"
     ]
    },
    {
     "name": "stdout",
     "output_type": "stream",
     "text": [
      "\n",
      "DIMENSION: sg_data_point\n",
      "{latitude, longitude, time, depth}\n"
     ]
    },
    {
     "name": "stderr",
     "output_type": "stream",
     "text": [
      " 62%|████████████████████████▋               | 905/1467 [07:25<04:09,  2.25it/s]/home/dIOGOLOC/programs/anaconda3/lib/python3.10/site-packages/glidertools/load/seaglider.py:227: GliderToolsWarning: dives was not found in the files\n",
      "  warnings.warn(msg, GliderToolsWarning)\n"
     ]
    },
    {
     "name": "stdout",
     "output_type": "stream",
     "text": [
      "\n",
      "DIMENSION: sg_data_point\n",
      "{latitude, longitude, time, depth}\n"
     ]
    },
    {
     "name": "stderr",
     "output_type": "stream",
     "text": [
      " 62%|████████████████████████▋               | 906/1467 [07:25<04:07,  2.26it/s]/home/dIOGOLOC/programs/anaconda3/lib/python3.10/site-packages/glidertools/load/seaglider.py:227: GliderToolsWarning: dives was not found in the files\n",
      "  warnings.warn(msg, GliderToolsWarning)\n"
     ]
    },
    {
     "name": "stdout",
     "output_type": "stream",
     "text": [
      "\n",
      "DIMENSION: sg_data_point\n",
      "{latitude, longitude, time, depth}\n"
     ]
    },
    {
     "name": "stderr",
     "output_type": "stream",
     "text": [
      " 62%|████████████████████████▋               | 907/1467 [07:25<04:01,  2.31it/s]/home/dIOGOLOC/programs/anaconda3/lib/python3.10/site-packages/glidertools/load/seaglider.py:227: GliderToolsWarning: dives was not found in the files\n",
      "  warnings.warn(msg, GliderToolsWarning)\n"
     ]
    },
    {
     "name": "stdout",
     "output_type": "stream",
     "text": [
      "\n",
      "DIMENSION: sg_data_point\n",
      "{latitude, longitude, time, depth}\n"
     ]
    },
    {
     "name": "stderr",
     "output_type": "stream",
     "text": [
      " 62%|████████████████████████▊               | 908/1467 [07:26<03:59,  2.33it/s]/home/dIOGOLOC/programs/anaconda3/lib/python3.10/site-packages/glidertools/load/seaglider.py:227: GliderToolsWarning: dives was not found in the files\n",
      "  warnings.warn(msg, GliderToolsWarning)\n"
     ]
    },
    {
     "name": "stdout",
     "output_type": "stream",
     "text": [
      "\n",
      "DIMENSION: sg_data_point\n",
      "{latitude, longitude, time, depth}\n"
     ]
    },
    {
     "name": "stderr",
     "output_type": "stream",
     "text": [
      " 62%|████████████████████████▊               | 909/1467 [07:26<03:55,  2.37it/s]/home/dIOGOLOC/programs/anaconda3/lib/python3.10/site-packages/glidertools/load/seaglider.py:227: GliderToolsWarning: dives was not found in the files\n",
      "  warnings.warn(msg, GliderToolsWarning)\n"
     ]
    },
    {
     "name": "stdout",
     "output_type": "stream",
     "text": [
      "\n",
      "DIMENSION: sg_data_point\n",
      "{latitude, longitude, time, depth}\n"
     ]
    },
    {
     "name": "stderr",
     "output_type": "stream",
     "text": [
      " 62%|████████████████████████▊               | 910/1467 [07:27<03:58,  2.33it/s]/home/dIOGOLOC/programs/anaconda3/lib/python3.10/site-packages/glidertools/load/seaglider.py:227: GliderToolsWarning: dives was not found in the files\n",
      "  warnings.warn(msg, GliderToolsWarning)\n"
     ]
    },
    {
     "name": "stdout",
     "output_type": "stream",
     "text": [
      "\n",
      "DIMENSION: sg_data_point\n",
      "{latitude, longitude, time, depth}\n"
     ]
    },
    {
     "name": "stderr",
     "output_type": "stream",
     "text": [
      " 62%|████████████████████████▊               | 911/1467 [07:27<04:00,  2.31it/s]/home/dIOGOLOC/programs/anaconda3/lib/python3.10/site-packages/glidertools/load/seaglider.py:227: GliderToolsWarning: dives was not found in the files\n",
      "  warnings.warn(msg, GliderToolsWarning)\n"
     ]
    },
    {
     "name": "stdout",
     "output_type": "stream",
     "text": [
      "\n",
      "DIMENSION: sg_data_point\n",
      "{latitude, longitude, time, depth}\n"
     ]
    },
    {
     "name": "stderr",
     "output_type": "stream",
     "text": [
      " 62%|████████████████████████▊               | 912/1467 [07:28<03:56,  2.34it/s]/home/dIOGOLOC/programs/anaconda3/lib/python3.10/site-packages/glidertools/load/seaglider.py:227: GliderToolsWarning: dives was not found in the files\n",
      "  warnings.warn(msg, GliderToolsWarning)\n"
     ]
    },
    {
     "name": "stdout",
     "output_type": "stream",
     "text": [
      "\n",
      "DIMENSION: sg_data_point\n",
      "{latitude, longitude, time, depth}\n"
     ]
    },
    {
     "name": "stderr",
     "output_type": "stream",
     "text": [
      " 62%|████████████████████████▉               | 913/1467 [07:28<03:57,  2.33it/s]/home/dIOGOLOC/programs/anaconda3/lib/python3.10/site-packages/glidertools/load/seaglider.py:227: GliderToolsWarning: dives was not found in the files\n",
      "  warnings.warn(msg, GliderToolsWarning)\n"
     ]
    },
    {
     "name": "stdout",
     "output_type": "stream",
     "text": [
      "\n",
      "DIMENSION: sg_data_point\n",
      "{latitude, longitude, time, depth}\n"
     ]
    },
    {
     "name": "stderr",
     "output_type": "stream",
     "text": [
      " 62%|████████████████████████▉               | 914/1467 [07:28<03:54,  2.35it/s]/home/dIOGOLOC/programs/anaconda3/lib/python3.10/site-packages/glidertools/load/seaglider.py:227: GliderToolsWarning: dives was not found in the files\n",
      "  warnings.warn(msg, GliderToolsWarning)\n"
     ]
    },
    {
     "name": "stdout",
     "output_type": "stream",
     "text": [
      "\n",
      "DIMENSION: sg_data_point\n",
      "{latitude, longitude, time, depth}\n"
     ]
    },
    {
     "name": "stderr",
     "output_type": "stream",
     "text": [
      " 62%|████████████████████████▉               | 915/1467 [07:29<04:09,  2.21it/s]/home/dIOGOLOC/programs/anaconda3/lib/python3.10/site-packages/glidertools/load/seaglider.py:227: GliderToolsWarning: dives was not found in the files\n",
      "  warnings.warn(msg, GliderToolsWarning)\n"
     ]
    },
    {
     "name": "stdout",
     "output_type": "stream",
     "text": [
      "\n",
      "DIMENSION: sg_data_point\n",
      "{latitude, longitude, time, depth}\n"
     ]
    },
    {
     "name": "stderr",
     "output_type": "stream",
     "text": [
      " 62%|████████████████████████▉               | 916/1467 [07:29<04:06,  2.24it/s]/home/dIOGOLOC/programs/anaconda3/lib/python3.10/site-packages/glidertools/load/seaglider.py:227: GliderToolsWarning: dives was not found in the files\n",
      "  warnings.warn(msg, GliderToolsWarning)\n"
     ]
    },
    {
     "name": "stdout",
     "output_type": "stream",
     "text": [
      "\n",
      "DIMENSION: sg_data_point\n",
      "{latitude, longitude, time, depth}\n"
     ]
    },
    {
     "name": "stderr",
     "output_type": "stream",
     "text": [
      " 63%|█████████████████████████               | 917/1467 [07:30<04:03,  2.25it/s]/home/dIOGOLOC/programs/anaconda3/lib/python3.10/site-packages/glidertools/load/seaglider.py:227: GliderToolsWarning: dives was not found in the files\n",
      "  warnings.warn(msg, GliderToolsWarning)\n"
     ]
    },
    {
     "name": "stdout",
     "output_type": "stream",
     "text": [
      "\n",
      "DIMENSION: sg_data_point\n",
      "{latitude, longitude, time, depth}\n"
     ]
    },
    {
     "name": "stderr",
     "output_type": "stream",
     "text": [
      " 63%|█████████████████████████               | 918/1467 [07:30<04:02,  2.27it/s]/home/dIOGOLOC/programs/anaconda3/lib/python3.10/site-packages/glidertools/load/seaglider.py:227: GliderToolsWarning: dives was not found in the files\n",
      "  warnings.warn(msg, GliderToolsWarning)\n"
     ]
    },
    {
     "name": "stdout",
     "output_type": "stream",
     "text": [
      "\n",
      "DIMENSION: sg_data_point\n",
      "{latitude, longitude, time, depth}\n"
     ]
    },
    {
     "name": "stderr",
     "output_type": "stream",
     "text": [
      " 63%|█████████████████████████               | 919/1467 [07:31<04:20,  2.11it/s]/home/dIOGOLOC/programs/anaconda3/lib/python3.10/site-packages/glidertools/load/seaglider.py:227: GliderToolsWarning: dives was not found in the files\n",
      "  warnings.warn(msg, GliderToolsWarning)\n"
     ]
    },
    {
     "name": "stdout",
     "output_type": "stream",
     "text": [
      "\n",
      "DIMENSION: sg_data_point\n",
      "{latitude, longitude, time, depth}\n"
     ]
    },
    {
     "name": "stderr",
     "output_type": "stream",
     "text": [
      " 63%|█████████████████████████               | 920/1467 [07:31<04:22,  2.09it/s]/home/dIOGOLOC/programs/anaconda3/lib/python3.10/site-packages/glidertools/load/seaglider.py:227: GliderToolsWarning: dives was not found in the files\n",
      "  warnings.warn(msg, GliderToolsWarning)\n"
     ]
    },
    {
     "name": "stdout",
     "output_type": "stream",
     "text": [
      "\n",
      "DIMENSION: sg_data_point\n",
      "{latitude, longitude, time, depth}\n"
     ]
    },
    {
     "name": "stderr",
     "output_type": "stream",
     "text": [
      " 63%|█████████████████████████               | 921/1467 [07:32<04:21,  2.08it/s]/home/dIOGOLOC/programs/anaconda3/lib/python3.10/site-packages/glidertools/load/seaglider.py:227: GliderToolsWarning: dives was not found in the files\n",
      "  warnings.warn(msg, GliderToolsWarning)\n"
     ]
    },
    {
     "name": "stdout",
     "output_type": "stream",
     "text": [
      "\n",
      "DIMENSION: sg_data_point\n",
      "{latitude, longitude, time, depth}\n"
     ]
    },
    {
     "name": "stderr",
     "output_type": "stream",
     "text": [
      " 63%|█████████████████████████▏              | 922/1467 [07:32<04:29,  2.02it/s]/home/dIOGOLOC/programs/anaconda3/lib/python3.10/site-packages/glidertools/load/seaglider.py:227: GliderToolsWarning: dives was not found in the files\n",
      "  warnings.warn(msg, GliderToolsWarning)\n"
     ]
    },
    {
     "name": "stdout",
     "output_type": "stream",
     "text": [
      "\n",
      "DIMENSION: sg_data_point\n",
      "{latitude, longitude, time, depth}\n"
     ]
    },
    {
     "name": "stderr",
     "output_type": "stream",
     "text": [
      " 63%|█████████████████████████▏              | 923/1467 [07:33<04:54,  1.85it/s]/home/dIOGOLOC/programs/anaconda3/lib/python3.10/site-packages/glidertools/load/seaglider.py:227: GliderToolsWarning: dives was not found in the files\n",
      "  warnings.warn(msg, GliderToolsWarning)\n"
     ]
    },
    {
     "name": "stdout",
     "output_type": "stream",
     "text": [
      "\n",
      "DIMENSION: sg_data_point\n",
      "{latitude, longitude, time, depth}\n"
     ]
    },
    {
     "name": "stderr",
     "output_type": "stream",
     "text": [
      " 63%|█████████████████████████▏              | 924/1467 [07:33<04:53,  1.85it/s]/home/dIOGOLOC/programs/anaconda3/lib/python3.10/site-packages/glidertools/load/seaglider.py:227: GliderToolsWarning: dives was not found in the files\n",
      "  warnings.warn(msg, GliderToolsWarning)\n"
     ]
    },
    {
     "name": "stdout",
     "output_type": "stream",
     "text": [
      "\n",
      "DIMENSION: sg_data_point\n",
      "{latitude, longitude, time, depth}\n"
     ]
    },
    {
     "name": "stderr",
     "output_type": "stream",
     "text": [
      " 63%|█████████████████████████▏              | 925/1467 [07:34<04:36,  1.96it/s]/home/dIOGOLOC/programs/anaconda3/lib/python3.10/site-packages/glidertools/load/seaglider.py:227: GliderToolsWarning: dives was not found in the files\n",
      "  warnings.warn(msg, GliderToolsWarning)\n"
     ]
    },
    {
     "name": "stdout",
     "output_type": "stream",
     "text": [
      "\n",
      "DIMENSION: sg_data_point\n",
      "{latitude, longitude, time, depth}\n"
     ]
    },
    {
     "name": "stderr",
     "output_type": "stream",
     "text": [
      " 63%|█████████████████████████▏              | 926/1467 [07:34<04:38,  1.94it/s]/home/dIOGOLOC/programs/anaconda3/lib/python3.10/site-packages/glidertools/load/seaglider.py:227: GliderToolsWarning: dives was not found in the files\n",
      "  warnings.warn(msg, GliderToolsWarning)\n"
     ]
    },
    {
     "name": "stdout",
     "output_type": "stream",
     "text": [
      "\n",
      "DIMENSION: sg_data_point\n",
      "{latitude, longitude, time, depth}\n"
     ]
    },
    {
     "name": "stderr",
     "output_type": "stream",
     "text": [
      " 63%|█████████████████████████▎              | 927/1467 [07:35<04:25,  2.04it/s]/home/dIOGOLOC/programs/anaconda3/lib/python3.10/site-packages/glidertools/load/seaglider.py:227: GliderToolsWarning: dives was not found in the files\n",
      "  warnings.warn(msg, GliderToolsWarning)\n"
     ]
    },
    {
     "name": "stdout",
     "output_type": "stream",
     "text": [
      "\n",
      "DIMENSION: sg_data_point\n",
      "{latitude, longitude, time, depth}\n"
     ]
    },
    {
     "name": "stderr",
     "output_type": "stream",
     "text": [
      " 63%|█████████████████████████▎              | 928/1467 [07:35<04:22,  2.05it/s]/home/dIOGOLOC/programs/anaconda3/lib/python3.10/site-packages/glidertools/load/seaglider.py:227: GliderToolsWarning: dives was not found in the files\n",
      "  warnings.warn(msg, GliderToolsWarning)\n"
     ]
    },
    {
     "name": "stdout",
     "output_type": "stream",
     "text": [
      "\n",
      "DIMENSION: sg_data_point\n",
      "{latitude, longitude, time, depth}\n"
     ]
    },
    {
     "name": "stderr",
     "output_type": "stream",
     "text": [
      " 63%|█████████████████████████▎              | 929/1467 [07:36<04:15,  2.10it/s]/home/dIOGOLOC/programs/anaconda3/lib/python3.10/site-packages/glidertools/load/seaglider.py:227: GliderToolsWarning: dives was not found in the files\n",
      "  warnings.warn(msg, GliderToolsWarning)\n"
     ]
    },
    {
     "name": "stdout",
     "output_type": "stream",
     "text": [
      "\n",
      "DIMENSION: sg_data_point\n",
      "{latitude, longitude, time, depth}\n"
     ]
    },
    {
     "name": "stderr",
     "output_type": "stream",
     "text": [
      " 63%|█████████████████████████▎              | 930/1467 [07:36<04:17,  2.08it/s]/home/dIOGOLOC/programs/anaconda3/lib/python3.10/site-packages/glidertools/load/seaglider.py:227: GliderToolsWarning: dives was not found in the files\n",
      "  warnings.warn(msg, GliderToolsWarning)\n"
     ]
    },
    {
     "name": "stdout",
     "output_type": "stream",
     "text": [
      "\n",
      "DIMENSION: sg_data_point\n",
      "{latitude, longitude, time, depth}\n"
     ]
    },
    {
     "name": "stderr",
     "output_type": "stream",
     "text": [
      " 63%|█████████████████████████▍              | 931/1467 [07:37<04:11,  2.13it/s]/home/dIOGOLOC/programs/anaconda3/lib/python3.10/site-packages/glidertools/load/seaglider.py:227: GliderToolsWarning: dives was not found in the files\n",
      "  warnings.warn(msg, GliderToolsWarning)\n"
     ]
    },
    {
     "name": "stdout",
     "output_type": "stream",
     "text": [
      "\n",
      "DIMENSION: sg_data_point\n",
      "{latitude, longitude, time, depth}\n"
     ]
    },
    {
     "name": "stderr",
     "output_type": "stream",
     "text": [
      " 64%|█████████████████████████▍              | 932/1467 [07:37<04:09,  2.15it/s]/home/dIOGOLOC/programs/anaconda3/lib/python3.10/site-packages/glidertools/load/seaglider.py:227: GliderToolsWarning: dives was not found in the files\n",
      "  warnings.warn(msg, GliderToolsWarning)\n"
     ]
    },
    {
     "name": "stdout",
     "output_type": "stream",
     "text": [
      "\n",
      "DIMENSION: sg_data_point\n",
      "{latitude, longitude, time, depth}\n"
     ]
    },
    {
     "name": "stderr",
     "output_type": "stream",
     "text": [
      " 64%|█████████████████████████▍              | 933/1467 [07:38<04:05,  2.18it/s]/home/dIOGOLOC/programs/anaconda3/lib/python3.10/site-packages/glidertools/load/seaglider.py:227: GliderToolsWarning: dives was not found in the files\n",
      "  warnings.warn(msg, GliderToolsWarning)\n"
     ]
    },
    {
     "name": "stdout",
     "output_type": "stream",
     "text": [
      "\n",
      "DIMENSION: sg_data_point\n",
      "{latitude, longitude, time, depth}\n"
     ]
    },
    {
     "name": "stderr",
     "output_type": "stream",
     "text": [
      " 64%|█████████████████████████▍              | 934/1467 [07:38<03:58,  2.23it/s]/home/dIOGOLOC/programs/anaconda3/lib/python3.10/site-packages/glidertools/load/seaglider.py:227: GliderToolsWarning: dives was not found in the files\n",
      "  warnings.warn(msg, GliderToolsWarning)\n"
     ]
    },
    {
     "name": "stdout",
     "output_type": "stream",
     "text": [
      "\n",
      "DIMENSION: sg_data_point\n",
      "{latitude, longitude, time, depth}\n"
     ]
    },
    {
     "name": "stderr",
     "output_type": "stream",
     "text": [
      " 64%|█████████████████████████▍              | 935/1467 [07:39<04:02,  2.20it/s]/home/dIOGOLOC/programs/anaconda3/lib/python3.10/site-packages/glidertools/load/seaglider.py:227: GliderToolsWarning: dives was not found in the files\n",
      "  warnings.warn(msg, GliderToolsWarning)\n"
     ]
    },
    {
     "name": "stdout",
     "output_type": "stream",
     "text": [
      "\n",
      "DIMENSION: sg_data_point\n",
      "{latitude, longitude, time, depth}\n"
     ]
    },
    {
     "name": "stderr",
     "output_type": "stream",
     "text": [
      " 64%|█████████████████████████▌              | 936/1467 [07:39<03:57,  2.24it/s]/home/dIOGOLOC/programs/anaconda3/lib/python3.10/site-packages/glidertools/load/seaglider.py:227: GliderToolsWarning: dives was not found in the files\n",
      "  warnings.warn(msg, GliderToolsWarning)\n"
     ]
    },
    {
     "name": "stdout",
     "output_type": "stream",
     "text": [
      "\n",
      "DIMENSION: sg_data_point\n",
      "{latitude, longitude, time, depth}\n"
     ]
    },
    {
     "name": "stderr",
     "output_type": "stream",
     "text": [
      " 64%|█████████████████████████▌              | 937/1467 [07:39<04:10,  2.11it/s]/home/dIOGOLOC/programs/anaconda3/lib/python3.10/site-packages/glidertools/load/seaglider.py:227: GliderToolsWarning: dives was not found in the files\n",
      "  warnings.warn(msg, GliderToolsWarning)\n"
     ]
    },
    {
     "name": "stdout",
     "output_type": "stream",
     "text": [
      "\n",
      "DIMENSION: sg_data_point\n",
      "{latitude, longitude, time, depth}\n"
     ]
    },
    {
     "name": "stderr",
     "output_type": "stream",
     "text": [
      " 64%|█████████████████████████▌              | 938/1467 [07:40<04:06,  2.15it/s]/home/dIOGOLOC/programs/anaconda3/lib/python3.10/site-packages/glidertools/load/seaglider.py:227: GliderToolsWarning: dives was not found in the files\n",
      "  warnings.warn(msg, GliderToolsWarning)\n"
     ]
    },
    {
     "name": "stdout",
     "output_type": "stream",
     "text": [
      "\n",
      "DIMENSION: sg_data_point\n",
      "{latitude, longitude, time, depth}\n"
     ]
    },
    {
     "name": "stderr",
     "output_type": "stream",
     "text": [
      " 64%|█████████████████████████▌              | 939/1467 [07:40<03:59,  2.20it/s]/home/dIOGOLOC/programs/anaconda3/lib/python3.10/site-packages/glidertools/load/seaglider.py:227: GliderToolsWarning: dives was not found in the files\n",
      "  warnings.warn(msg, GliderToolsWarning)\n"
     ]
    },
    {
     "name": "stdout",
     "output_type": "stream",
     "text": [
      "\n",
      "DIMENSION: sg_data_point\n",
      "{latitude, longitude, time, depth}\n"
     ]
    },
    {
     "name": "stderr",
     "output_type": "stream",
     "text": [
      " 64%|█████████████████████████▋              | 940/1467 [07:41<03:54,  2.24it/s]/home/dIOGOLOC/programs/anaconda3/lib/python3.10/site-packages/glidertools/load/seaglider.py:227: GliderToolsWarning: dives was not found in the files\n",
      "  warnings.warn(msg, GliderToolsWarning)\n"
     ]
    },
    {
     "name": "stdout",
     "output_type": "stream",
     "text": [
      "\n",
      "DIMENSION: sg_data_point\n",
      "{latitude, longitude, time, depth}\n"
     ]
    },
    {
     "name": "stderr",
     "output_type": "stream",
     "text": [
      " 64%|█████████████████████████▋              | 941/1467 [07:41<03:54,  2.24it/s]/home/dIOGOLOC/programs/anaconda3/lib/python3.10/site-packages/glidertools/load/seaglider.py:227: GliderToolsWarning: dives was not found in the files\n",
      "  warnings.warn(msg, GliderToolsWarning)\n"
     ]
    },
    {
     "name": "stdout",
     "output_type": "stream",
     "text": [
      "\n",
      "DIMENSION: sg_data_point\n",
      "{latitude, longitude, time, depth}\n"
     ]
    },
    {
     "name": "stderr",
     "output_type": "stream",
     "text": [
      " 64%|█████████████████████████▋              | 942/1467 [07:42<03:49,  2.28it/s]/home/dIOGOLOC/programs/anaconda3/lib/python3.10/site-packages/glidertools/load/seaglider.py:227: GliderToolsWarning: dives was not found in the files\n",
      "  warnings.warn(msg, GliderToolsWarning)\n"
     ]
    },
    {
     "name": "stdout",
     "output_type": "stream",
     "text": [
      "\n",
      "DIMENSION: sg_data_point\n",
      "{latitude, longitude, time, depth}\n"
     ]
    },
    {
     "name": "stderr",
     "output_type": "stream",
     "text": [
      " 64%|█████████████████████████▋              | 943/1467 [07:42<03:57,  2.20it/s]/home/dIOGOLOC/programs/anaconda3/lib/python3.10/site-packages/glidertools/load/seaglider.py:227: GliderToolsWarning: dives was not found in the files\n",
      "  warnings.warn(msg, GliderToolsWarning)\n"
     ]
    },
    {
     "name": "stdout",
     "output_type": "stream",
     "text": [
      "\n",
      "DIMENSION: sg_data_point\n",
      "{latitude, longitude, time, depth}\n"
     ]
    },
    {
     "name": "stderr",
     "output_type": "stream",
     "text": [
      " 64%|█████████████████████████▋              | 944/1467 [07:43<04:04,  2.14it/s]/home/dIOGOLOC/programs/anaconda3/lib/python3.10/site-packages/glidertools/load/seaglider.py:227: GliderToolsWarning: dives was not found in the files\n",
      "  warnings.warn(msg, GliderToolsWarning)\n"
     ]
    },
    {
     "name": "stdout",
     "output_type": "stream",
     "text": [
      "\n",
      "DIMENSION: sg_data_point\n",
      "{latitude, longitude, time, depth}\n"
     ]
    },
    {
     "name": "stderr",
     "output_type": "stream",
     "text": [
      " 64%|█████████████████████████▊              | 945/1467 [07:43<03:56,  2.21it/s]/home/dIOGOLOC/programs/anaconda3/lib/python3.10/site-packages/glidertools/load/seaglider.py:227: GliderToolsWarning: dives was not found in the files\n",
      "  warnings.warn(msg, GliderToolsWarning)\n"
     ]
    },
    {
     "name": "stdout",
     "output_type": "stream",
     "text": [
      "\n",
      "DIMENSION: sg_data_point\n",
      "{latitude, longitude, time, depth}\n"
     ]
    },
    {
     "name": "stderr",
     "output_type": "stream",
     "text": [
      " 64%|█████████████████████████▊              | 946/1467 [07:43<03:50,  2.26it/s]/home/dIOGOLOC/programs/anaconda3/lib/python3.10/site-packages/glidertools/load/seaglider.py:227: GliderToolsWarning: dives was not found in the files\n",
      "  warnings.warn(msg, GliderToolsWarning)\n",
      "/home/dIOGOLOC/programs/anaconda3/lib/python3.10/site-packages/glidertools/load/seaglider.py:227: GliderToolsWarning: latitude was not found in the files\n",
      "  warnings.warn(msg, GliderToolsWarning)\n",
      "/home/dIOGOLOC/programs/anaconda3/lib/python3.10/site-packages/glidertools/load/seaglider.py:227: GliderToolsWarning: longitude was not found in the files\n",
      "  warnings.warn(msg, GliderToolsWarning)\n"
     ]
    },
    {
     "name": "stdout",
     "output_type": "stream",
     "text": [
      "\n",
      "DIMENSION: sg_data_point\n",
      "{time, depth}\n"
     ]
    },
    {
     "name": "stderr",
     "output_type": "stream",
     "text": [
      " 65%|█████████████████████████▊              | 947/1467 [07:44<03:51,  2.24it/s]/home/dIOGOLOC/programs/anaconda3/lib/python3.10/site-packages/glidertools/load/seaglider.py:227: GliderToolsWarning: dives was not found in the files\n",
      "  warnings.warn(msg, GliderToolsWarning)\n",
      "/home/dIOGOLOC/programs/anaconda3/lib/python3.10/site-packages/glidertools/load/seaglider.py:227: GliderToolsWarning: latitude was not found in the files\n",
      "  warnings.warn(msg, GliderToolsWarning)\n",
      "/home/dIOGOLOC/programs/anaconda3/lib/python3.10/site-packages/glidertools/load/seaglider.py:227: GliderToolsWarning: longitude was not found in the files\n",
      "  warnings.warn(msg, GliderToolsWarning)\n"
     ]
    },
    {
     "name": "stdout",
     "output_type": "stream",
     "text": [
      "\n",
      "DIMENSION: sg_data_point\n",
      "{time, depth}\n"
     ]
    },
    {
     "name": "stderr",
     "output_type": "stream",
     "text": [
      " 65%|█████████████████████████▊              | 948/1467 [07:44<03:37,  2.39it/s]/home/dIOGOLOC/programs/anaconda3/lib/python3.10/site-packages/glidertools/load/seaglider.py:227: GliderToolsWarning: dives was not found in the files\n",
      "  warnings.warn(msg, GliderToolsWarning)\n",
      "/home/dIOGOLOC/programs/anaconda3/lib/python3.10/site-packages/glidertools/load/seaglider.py:227: GliderToolsWarning: latitude was not found in the files\n",
      "  warnings.warn(msg, GliderToolsWarning)\n",
      "/home/dIOGOLOC/programs/anaconda3/lib/python3.10/site-packages/glidertools/load/seaglider.py:227: GliderToolsWarning: longitude was not found in the files\n",
      "  warnings.warn(msg, GliderToolsWarning)\n"
     ]
    },
    {
     "name": "stdout",
     "output_type": "stream",
     "text": [
      "\n",
      "DIMENSION: sg_data_point\n",
      "{time, depth}\n"
     ]
    },
    {
     "name": "stderr",
     "output_type": "stream",
     "text": [
      " 65%|█████████████████████████▉              | 949/1467 [07:45<03:26,  2.51it/s]/home/dIOGOLOC/programs/anaconda3/lib/python3.10/site-packages/glidertools/load/seaglider.py:227: GliderToolsWarning: dives was not found in the files\n",
      "  warnings.warn(msg, GliderToolsWarning)\n",
      "/home/dIOGOLOC/programs/anaconda3/lib/python3.10/site-packages/glidertools/load/seaglider.py:227: GliderToolsWarning: latitude was not found in the files\n",
      "  warnings.warn(msg, GliderToolsWarning)\n",
      "/home/dIOGOLOC/programs/anaconda3/lib/python3.10/site-packages/glidertools/load/seaglider.py:227: GliderToolsWarning: longitude was not found in the files\n",
      "  warnings.warn(msg, GliderToolsWarning)\n"
     ]
    },
    {
     "name": "stdout",
     "output_type": "stream",
     "text": [
      "\n",
      "DIMENSION: sg_data_point\n",
      "{time, depth}\n"
     ]
    },
    {
     "name": "stderr",
     "output_type": "stream",
     "text": [
      " 65%|█████████████████████████▉              | 950/1467 [07:45<03:17,  2.62it/s]/home/dIOGOLOC/programs/anaconda3/lib/python3.10/site-packages/glidertools/load/seaglider.py:227: GliderToolsWarning: dives was not found in the files\n",
      "  warnings.warn(msg, GliderToolsWarning)\n",
      "/home/dIOGOLOC/programs/anaconda3/lib/python3.10/site-packages/glidertools/load/seaglider.py:227: GliderToolsWarning: latitude was not found in the files\n",
      "  warnings.warn(msg, GliderToolsWarning)\n",
      "/home/dIOGOLOC/programs/anaconda3/lib/python3.10/site-packages/glidertools/load/seaglider.py:227: GliderToolsWarning: longitude was not found in the files\n",
      "  warnings.warn(msg, GliderToolsWarning)\n"
     ]
    },
    {
     "name": "stdout",
     "output_type": "stream",
     "text": [
      "\n",
      "DIMENSION: sg_data_point\n",
      "{time, depth}\n"
     ]
    },
    {
     "name": "stderr",
     "output_type": "stream",
     "text": [
      " 65%|█████████████████████████▉              | 951/1467 [07:45<03:12,  2.68it/s]/home/dIOGOLOC/programs/anaconda3/lib/python3.10/site-packages/glidertools/load/seaglider.py:227: GliderToolsWarning: dives was not found in the files\n",
      "  warnings.warn(msg, GliderToolsWarning)\n",
      "/home/dIOGOLOC/programs/anaconda3/lib/python3.10/site-packages/glidertools/load/seaglider.py:227: GliderToolsWarning: latitude was not found in the files\n",
      "  warnings.warn(msg, GliderToolsWarning)\n",
      "/home/dIOGOLOC/programs/anaconda3/lib/python3.10/site-packages/glidertools/load/seaglider.py:227: GliderToolsWarning: longitude was not found in the files\n",
      "  warnings.warn(msg, GliderToolsWarning)\n"
     ]
    },
    {
     "name": "stdout",
     "output_type": "stream",
     "text": [
      "\n",
      "DIMENSION: sg_data_point\n",
      "{time, depth}\n"
     ]
    },
    {
     "name": "stderr",
     "output_type": "stream",
     "text": [
      " 65%|█████████████████████████▉              | 952/1467 [07:46<03:08,  2.74it/s]/home/dIOGOLOC/programs/anaconda3/lib/python3.10/site-packages/glidertools/load/seaglider.py:227: GliderToolsWarning: dives was not found in the files\n",
      "  warnings.warn(msg, GliderToolsWarning)\n",
      "/home/dIOGOLOC/programs/anaconda3/lib/python3.10/site-packages/glidertools/load/seaglider.py:227: GliderToolsWarning: latitude was not found in the files\n",
      "  warnings.warn(msg, GliderToolsWarning)\n",
      "/home/dIOGOLOC/programs/anaconda3/lib/python3.10/site-packages/glidertools/load/seaglider.py:227: GliderToolsWarning: longitude was not found in the files\n",
      "  warnings.warn(msg, GliderToolsWarning)\n"
     ]
    },
    {
     "name": "stdout",
     "output_type": "stream",
     "text": [
      "\n",
      "DIMENSION: sg_data_point\n",
      "{time, depth}\n"
     ]
    },
    {
     "name": "stderr",
     "output_type": "stream",
     "text": [
      " 65%|█████████████████████████▉              | 953/1467 [07:46<03:07,  2.74it/s]/home/dIOGOLOC/programs/anaconda3/lib/python3.10/site-packages/glidertools/load/seaglider.py:227: GliderToolsWarning: dives was not found in the files\n",
      "  warnings.warn(msg, GliderToolsWarning)\n",
      "/home/dIOGOLOC/programs/anaconda3/lib/python3.10/site-packages/glidertools/load/seaglider.py:227: GliderToolsWarning: latitude was not found in the files\n",
      "  warnings.warn(msg, GliderToolsWarning)\n",
      "/home/dIOGOLOC/programs/anaconda3/lib/python3.10/site-packages/glidertools/load/seaglider.py:227: GliderToolsWarning: longitude was not found in the files\n",
      "  warnings.warn(msg, GliderToolsWarning)\n"
     ]
    },
    {
     "name": "stdout",
     "output_type": "stream",
     "text": [
      "\n",
      "DIMENSION: sg_data_point\n",
      "{time, depth}\n"
     ]
    },
    {
     "name": "stderr",
     "output_type": "stream",
     "text": [
      " 65%|██████████████████████████              | 954/1467 [07:46<03:06,  2.75it/s]/home/dIOGOLOC/programs/anaconda3/lib/python3.10/site-packages/glidertools/load/seaglider.py:227: GliderToolsWarning: dives was not found in the files\n",
      "  warnings.warn(msg, GliderToolsWarning)\n",
      "/home/dIOGOLOC/programs/anaconda3/lib/python3.10/site-packages/glidertools/load/seaglider.py:227: GliderToolsWarning: latitude was not found in the files\n",
      "  warnings.warn(msg, GliderToolsWarning)\n",
      "/home/dIOGOLOC/programs/anaconda3/lib/python3.10/site-packages/glidertools/load/seaglider.py:227: GliderToolsWarning: longitude was not found in the files\n",
      "  warnings.warn(msg, GliderToolsWarning)\n"
     ]
    },
    {
     "name": "stdout",
     "output_type": "stream",
     "text": [
      "\n",
      "DIMENSION: sg_data_point\n",
      "{time, depth}\n"
     ]
    },
    {
     "name": "stderr",
     "output_type": "stream",
     "text": [
      " 65%|██████████████████████████              | 955/1467 [07:47<03:04,  2.78it/s]/home/dIOGOLOC/programs/anaconda3/lib/python3.10/site-packages/glidertools/load/seaglider.py:227: GliderToolsWarning: dives was not found in the files\n",
      "  warnings.warn(msg, GliderToolsWarning)\n"
     ]
    },
    {
     "name": "stdout",
     "output_type": "stream",
     "text": [
      "\n",
      "DIMENSION: sg_data_point\n",
      "{latitude, longitude, time, depth}\n"
     ]
    },
    {
     "name": "stderr",
     "output_type": "stream",
     "text": [
      " 65%|██████████████████████████              | 956/1467 [07:47<03:17,  2.59it/s]/home/dIOGOLOC/programs/anaconda3/lib/python3.10/site-packages/glidertools/load/seaglider.py:227: GliderToolsWarning: dives was not found in the files\n",
      "  warnings.warn(msg, GliderToolsWarning)\n"
     ]
    },
    {
     "name": "stdout",
     "output_type": "stream",
     "text": [
      "\n",
      "DIMENSION: sg_data_point\n",
      "{latitude, longitude, time, depth}\n"
     ]
    },
    {
     "name": "stderr",
     "output_type": "stream",
     "text": [
      " 65%|██████████████████████████              | 957/1467 [07:48<03:30,  2.42it/s]/home/dIOGOLOC/programs/anaconda3/lib/python3.10/site-packages/glidertools/load/seaglider.py:227: GliderToolsWarning: dives was not found in the files\n",
      "  warnings.warn(msg, GliderToolsWarning)\n"
     ]
    },
    {
     "name": "stdout",
     "output_type": "stream",
     "text": [
      "\n",
      "DIMENSION: sg_data_point\n",
      "{latitude, longitude, time, depth}\n"
     ]
    },
    {
     "name": "stderr",
     "output_type": "stream",
     "text": [
      " 65%|██████████████████████████              | 958/1467 [07:48<03:33,  2.39it/s]/home/dIOGOLOC/programs/anaconda3/lib/python3.10/site-packages/glidertools/load/seaglider.py:227: GliderToolsWarning: dives was not found in the files\n",
      "  warnings.warn(msg, GliderToolsWarning)\n"
     ]
    },
    {
     "name": "stdout",
     "output_type": "stream",
     "text": [
      "\n",
      "DIMENSION: sg_data_point\n",
      "{latitude, longitude, time, depth}\n"
     ]
    },
    {
     "name": "stderr",
     "output_type": "stream",
     "text": [
      " 65%|██████████████████████████▏             | 959/1467 [07:49<03:35,  2.35it/s]/home/dIOGOLOC/programs/anaconda3/lib/python3.10/site-packages/glidertools/load/seaglider.py:227: GliderToolsWarning: dives was not found in the files\n",
      "  warnings.warn(msg, GliderToolsWarning)\n"
     ]
    },
    {
     "name": "stdout",
     "output_type": "stream",
     "text": [
      "\n",
      "DIMENSION: sg_data_point\n",
      "{latitude, longitude, time, depth}\n"
     ]
    },
    {
     "name": "stderr",
     "output_type": "stream",
     "text": [
      " 65%|██████████████████████████▏             | 960/1467 [07:49<03:37,  2.34it/s]/home/dIOGOLOC/programs/anaconda3/lib/python3.10/site-packages/glidertools/load/seaglider.py:227: GliderToolsWarning: dives was not found in the files\n",
      "  warnings.warn(msg, GliderToolsWarning)\n"
     ]
    },
    {
     "name": "stdout",
     "output_type": "stream",
     "text": [
      "\n",
      "DIMENSION: sg_data_point\n",
      "{latitude, longitude, time, depth}\n"
     ]
    },
    {
     "name": "stderr",
     "output_type": "stream",
     "text": [
      " 66%|██████████████████████████▏             | 961/1467 [07:49<03:40,  2.30it/s]/home/dIOGOLOC/programs/anaconda3/lib/python3.10/site-packages/glidertools/load/seaglider.py:227: GliderToolsWarning: dives was not found in the files\n",
      "  warnings.warn(msg, GliderToolsWarning)\n"
     ]
    },
    {
     "name": "stdout",
     "output_type": "stream",
     "text": [
      "\n",
      "DIMENSION: sg_data_point\n",
      "{latitude, longitude, time, depth}\n"
     ]
    },
    {
     "name": "stderr",
     "output_type": "stream",
     "text": [
      " 66%|██████████████████████████▏             | 962/1467 [07:50<03:54,  2.15it/s]/home/dIOGOLOC/programs/anaconda3/lib/python3.10/site-packages/glidertools/load/seaglider.py:227: GliderToolsWarning: dives was not found in the files\n",
      "  warnings.warn(msg, GliderToolsWarning)\n"
     ]
    },
    {
     "name": "stdout",
     "output_type": "stream",
     "text": [
      "\n",
      "DIMENSION: sg_data_point\n",
      "{latitude, longitude, time, depth}\n"
     ]
    },
    {
     "name": "stderr",
     "output_type": "stream",
     "text": [
      " 66%|██████████████████████████▎             | 963/1467 [07:50<03:52,  2.17it/s]/home/dIOGOLOC/programs/anaconda3/lib/python3.10/site-packages/glidertools/load/seaglider.py:227: GliderToolsWarning: dives was not found in the files\n",
      "  warnings.warn(msg, GliderToolsWarning)\n"
     ]
    },
    {
     "name": "stdout",
     "output_type": "stream",
     "text": [
      "\n",
      "DIMENSION: sg_data_point\n",
      "{latitude, longitude, time, depth}\n"
     ]
    },
    {
     "name": "stderr",
     "output_type": "stream",
     "text": [
      " 66%|██████████████████████████▎             | 964/1467 [07:51<03:50,  2.18it/s]/home/dIOGOLOC/programs/anaconda3/lib/python3.10/site-packages/glidertools/load/seaglider.py:227: GliderToolsWarning: dives was not found in the files\n",
      "  warnings.warn(msg, GliderToolsWarning)\n"
     ]
    },
    {
     "name": "stdout",
     "output_type": "stream",
     "text": [
      "\n",
      "DIMENSION: sg_data_point\n",
      "{latitude, longitude, time, depth}\n"
     ]
    },
    {
     "name": "stderr",
     "output_type": "stream",
     "text": [
      " 66%|██████████████████████████▎             | 965/1467 [07:51<03:50,  2.18it/s]/home/dIOGOLOC/programs/anaconda3/lib/python3.10/site-packages/glidertools/load/seaglider.py:227: GliderToolsWarning: dives was not found in the files\n",
      "  warnings.warn(msg, GliderToolsWarning)\n"
     ]
    },
    {
     "name": "stdout",
     "output_type": "stream",
     "text": [
      "\n",
      "DIMENSION: sg_data_point\n",
      "{latitude, longitude, time, depth}\n"
     ]
    },
    {
     "name": "stderr",
     "output_type": "stream",
     "text": [
      " 66%|██████████████████████████▎             | 966/1467 [07:52<03:49,  2.18it/s]/home/dIOGOLOC/programs/anaconda3/lib/python3.10/site-packages/glidertools/load/seaglider.py:227: GliderToolsWarning: dives was not found in the files\n",
      "  warnings.warn(msg, GliderToolsWarning)\n"
     ]
    },
    {
     "name": "stdout",
     "output_type": "stream",
     "text": [
      "\n",
      "DIMENSION: sg_data_point\n",
      "{latitude, longitude, time, depth}\n"
     ]
    },
    {
     "name": "stderr",
     "output_type": "stream",
     "text": [
      " 66%|██████████████████████████▎             | 967/1467 [07:52<03:48,  2.19it/s]/home/dIOGOLOC/programs/anaconda3/lib/python3.10/site-packages/glidertools/load/seaglider.py:227: GliderToolsWarning: dives was not found in the files\n",
      "  warnings.warn(msg, GliderToolsWarning)\n"
     ]
    },
    {
     "name": "stdout",
     "output_type": "stream",
     "text": [
      "\n",
      "DIMENSION: sg_data_point\n",
      "{latitude, longitude, time, depth}\n"
     ]
    },
    {
     "name": "stderr",
     "output_type": "stream",
     "text": [
      " 66%|██████████████████████████▍             | 968/1467 [07:53<03:47,  2.19it/s]/home/dIOGOLOC/programs/anaconda3/lib/python3.10/site-packages/glidertools/load/seaglider.py:227: GliderToolsWarning: dives was not found in the files\n",
      "  warnings.warn(msg, GliderToolsWarning)\n"
     ]
    },
    {
     "name": "stdout",
     "output_type": "stream",
     "text": [
      "\n",
      "DIMENSION: sg_data_point\n",
      "{latitude, longitude, time, depth}\n"
     ]
    },
    {
     "name": "stderr",
     "output_type": "stream",
     "text": [
      " 66%|██████████████████████████▍             | 969/1467 [07:53<03:46,  2.20it/s]/home/dIOGOLOC/programs/anaconda3/lib/python3.10/site-packages/glidertools/load/seaglider.py:227: GliderToolsWarning: dives was not found in the files\n",
      "  warnings.warn(msg, GliderToolsWarning)\n"
     ]
    },
    {
     "name": "stdout",
     "output_type": "stream",
     "text": [
      "\n",
      "DIMENSION: sg_data_point\n",
      "{latitude, longitude, time, depth}\n"
     ]
    },
    {
     "name": "stderr",
     "output_type": "stream",
     "text": [
      " 66%|██████████████████████████▍             | 970/1467 [07:54<03:45,  2.21it/s]/home/dIOGOLOC/programs/anaconda3/lib/python3.10/site-packages/glidertools/load/seaglider.py:227: GliderToolsWarning: dives was not found in the files\n",
      "  warnings.warn(msg, GliderToolsWarning)\n"
     ]
    },
    {
     "name": "stdout",
     "output_type": "stream",
     "text": [
      "\n",
      "DIMENSION: sg_data_point\n",
      "{latitude, longitude, time, depth}\n"
     ]
    },
    {
     "name": "stderr",
     "output_type": "stream",
     "text": [
      " 66%|██████████████████████████▍             | 971/1467 [07:54<03:44,  2.21it/s]/home/dIOGOLOC/programs/anaconda3/lib/python3.10/site-packages/glidertools/load/seaglider.py:227: GliderToolsWarning: dives was not found in the files\n",
      "  warnings.warn(msg, GliderToolsWarning)\n"
     ]
    },
    {
     "name": "stdout",
     "output_type": "stream",
     "text": [
      "\n",
      "DIMENSION: sg_data_point\n",
      "{latitude, longitude, time, depth}\n"
     ]
    },
    {
     "name": "stderr",
     "output_type": "stream",
     "text": [
      " 66%|██████████████████████████▌             | 972/1467 [07:55<03:43,  2.21it/s]/home/dIOGOLOC/programs/anaconda3/lib/python3.10/site-packages/glidertools/load/seaglider.py:227: GliderToolsWarning: dives was not found in the files\n",
      "  warnings.warn(msg, GliderToolsWarning)\n"
     ]
    },
    {
     "name": "stdout",
     "output_type": "stream",
     "text": [
      "\n",
      "DIMENSION: sg_data_point\n",
      "{latitude, longitude, time, depth}\n"
     ]
    },
    {
     "name": "stderr",
     "output_type": "stream",
     "text": [
      " 66%|██████████████████████████▌             | 973/1467 [07:55<03:58,  2.07it/s]/home/dIOGOLOC/programs/anaconda3/lib/python3.10/site-packages/glidertools/load/seaglider.py:227: GliderToolsWarning: dives was not found in the files\n",
      "  warnings.warn(msg, GliderToolsWarning)\n"
     ]
    },
    {
     "name": "stdout",
     "output_type": "stream",
     "text": [
      "\n",
      "DIMENSION: sg_data_point\n",
      "{latitude, longitude, time, depth}\n"
     ]
    },
    {
     "name": "stderr",
     "output_type": "stream",
     "text": [
      " 66%|██████████████████████████▌             | 974/1467 [07:55<03:50,  2.14it/s]/home/dIOGOLOC/programs/anaconda3/lib/python3.10/site-packages/glidertools/load/seaglider.py:227: GliderToolsWarning: dives was not found in the files\n",
      "  warnings.warn(msg, GliderToolsWarning)\n"
     ]
    },
    {
     "name": "stdout",
     "output_type": "stream",
     "text": [
      "\n",
      "DIMENSION: sg_data_point\n",
      "{latitude, longitude, time, depth}\n"
     ]
    },
    {
     "name": "stderr",
     "output_type": "stream",
     "text": [
      " 66%|██████████████████████████▌             | 975/1467 [07:56<03:44,  2.19it/s]/home/dIOGOLOC/programs/anaconda3/lib/python3.10/site-packages/glidertools/load/seaglider.py:227: GliderToolsWarning: dives was not found in the files\n",
      "  warnings.warn(msg, GliderToolsWarning)\n"
     ]
    },
    {
     "name": "stdout",
     "output_type": "stream",
     "text": [
      "\n",
      "DIMENSION: sg_data_point\n",
      "{latitude, longitude, time, depth}\n"
     ]
    },
    {
     "name": "stderr",
     "output_type": "stream",
     "text": [
      " 67%|██████████████████████████▌             | 976/1467 [07:56<03:42,  2.20it/s]/home/dIOGOLOC/programs/anaconda3/lib/python3.10/site-packages/glidertools/load/seaglider.py:227: GliderToolsWarning: dives was not found in the files\n",
      "  warnings.warn(msg, GliderToolsWarning)\n"
     ]
    },
    {
     "name": "stdout",
     "output_type": "stream",
     "text": [
      "\n",
      "DIMENSION: sg_data_point\n",
      "{latitude, longitude, time, depth}\n"
     ]
    },
    {
     "name": "stderr",
     "output_type": "stream",
     "text": [
      " 67%|██████████████████████████▋             | 977/1467 [07:57<03:42,  2.20it/s]/home/dIOGOLOC/programs/anaconda3/lib/python3.10/site-packages/glidertools/load/seaglider.py:227: GliderToolsWarning: dives was not found in the files\n",
      "  warnings.warn(msg, GliderToolsWarning)\n"
     ]
    },
    {
     "name": "stdout",
     "output_type": "stream",
     "text": [
      "\n",
      "DIMENSION: sg_data_point\n",
      "{latitude, longitude, time, depth}\n"
     ]
    },
    {
     "name": "stderr",
     "output_type": "stream",
     "text": [
      " 67%|██████████████████████████▋             | 978/1467 [07:57<03:40,  2.22it/s]/home/dIOGOLOC/programs/anaconda3/lib/python3.10/site-packages/glidertools/load/seaglider.py:227: GliderToolsWarning: dives was not found in the files\n",
      "  warnings.warn(msg, GliderToolsWarning)\n"
     ]
    },
    {
     "name": "stdout",
     "output_type": "stream",
     "text": [
      "\n",
      "DIMENSION: sg_data_point\n",
      "{latitude, longitude, time, depth}\n"
     ]
    },
    {
     "name": "stderr",
     "output_type": "stream",
     "text": [
      " 67%|██████████████████████████▋             | 979/1467 [07:58<03:37,  2.25it/s]/home/dIOGOLOC/programs/anaconda3/lib/python3.10/site-packages/glidertools/load/seaglider.py:227: GliderToolsWarning: dives was not found in the files\n",
      "  warnings.warn(msg, GliderToolsWarning)\n"
     ]
    },
    {
     "name": "stdout",
     "output_type": "stream",
     "text": [
      "\n",
      "DIMENSION: sg_data_point\n",
      "{latitude, longitude, time, depth}\n"
     ]
    },
    {
     "name": "stderr",
     "output_type": "stream",
     "text": [
      " 67%|██████████████████████████▋             | 980/1467 [07:58<03:37,  2.24it/s]/home/dIOGOLOC/programs/anaconda3/lib/python3.10/site-packages/glidertools/load/seaglider.py:227: GliderToolsWarning: dives was not found in the files\n",
      "  warnings.warn(msg, GliderToolsWarning)\n"
     ]
    },
    {
     "name": "stdout",
     "output_type": "stream",
     "text": [
      "\n",
      "DIMENSION: sg_data_point\n",
      "{latitude, longitude, time, depth}\n"
     ]
    },
    {
     "name": "stderr",
     "output_type": "stream",
     "text": [
      " 67%|██████████████████████████▋             | 981/1467 [07:59<03:37,  2.23it/s]/home/dIOGOLOC/programs/anaconda3/lib/python3.10/site-packages/glidertools/load/seaglider.py:227: GliderToolsWarning: dives was not found in the files\n",
      "  warnings.warn(msg, GliderToolsWarning)\n"
     ]
    },
    {
     "name": "stdout",
     "output_type": "stream",
     "text": [
      "\n",
      "DIMENSION: sg_data_point\n",
      "{latitude, longitude, time, depth}\n"
     ]
    },
    {
     "name": "stderr",
     "output_type": "stream",
     "text": [
      " 67%|██████████████████████████▊             | 982/1467 [07:59<03:38,  2.22it/s]/home/dIOGOLOC/programs/anaconda3/lib/python3.10/site-packages/glidertools/load/seaglider.py:227: GliderToolsWarning: dives was not found in the files\n",
      "  warnings.warn(msg, GliderToolsWarning)\n"
     ]
    },
    {
     "name": "stdout",
     "output_type": "stream",
     "text": [
      "\n",
      "DIMENSION: sg_data_point\n",
      "{latitude, longitude, time, depth}\n"
     ]
    },
    {
     "name": "stderr",
     "output_type": "stream",
     "text": [
      " 67%|██████████████████████████▊             | 983/1467 [07:59<03:35,  2.25it/s]/home/dIOGOLOC/programs/anaconda3/lib/python3.10/site-packages/glidertools/load/seaglider.py:227: GliderToolsWarning: dives was not found in the files\n",
      "  warnings.warn(msg, GliderToolsWarning)\n"
     ]
    },
    {
     "name": "stdout",
     "output_type": "stream",
     "text": [
      "\n",
      "DIMENSION: sg_data_point\n",
      "{latitude, longitude, time, depth}\n"
     ]
    },
    {
     "name": "stderr",
     "output_type": "stream",
     "text": [
      " 67%|██████████████████████████▊             | 984/1467 [08:00<03:47,  2.13it/s]/home/dIOGOLOC/programs/anaconda3/lib/python3.10/site-packages/glidertools/load/seaglider.py:227: GliderToolsWarning: dives was not found in the files\n",
      "  warnings.warn(msg, GliderToolsWarning)\n"
     ]
    },
    {
     "name": "stdout",
     "output_type": "stream",
     "text": [
      "\n",
      "DIMENSION: sg_data_point\n",
      "{latitude, longitude, time, depth}\n"
     ]
    },
    {
     "name": "stderr",
     "output_type": "stream",
     "text": [
      " 67%|██████████████████████████▊             | 985/1467 [08:00<03:44,  2.15it/s]/home/dIOGOLOC/programs/anaconda3/lib/python3.10/site-packages/glidertools/load/seaglider.py:227: GliderToolsWarning: dives was not found in the files\n",
      "  warnings.warn(msg, GliderToolsWarning)\n"
     ]
    },
    {
     "name": "stdout",
     "output_type": "stream",
     "text": [
      "\n",
      "DIMENSION: sg_data_point\n",
      "{latitude, longitude, time, depth}\n"
     ]
    },
    {
     "name": "stderr",
     "output_type": "stream",
     "text": [
      " 67%|██████████████████████████▉             | 986/1467 [08:01<03:42,  2.17it/s]/home/dIOGOLOC/programs/anaconda3/lib/python3.10/site-packages/glidertools/load/seaglider.py:227: GliderToolsWarning: dives was not found in the files\n",
      "  warnings.warn(msg, GliderToolsWarning)\n"
     ]
    },
    {
     "name": "stdout",
     "output_type": "stream",
     "text": [
      "\n",
      "DIMENSION: sg_data_point\n",
      "{latitude, longitude, time, depth}\n"
     ]
    },
    {
     "name": "stderr",
     "output_type": "stream",
     "text": [
      " 67%|██████████████████████████▉             | 987/1467 [08:01<03:37,  2.20it/s]/home/dIOGOLOC/programs/anaconda3/lib/python3.10/site-packages/glidertools/load/seaglider.py:227: GliderToolsWarning: dives was not found in the files\n",
      "  warnings.warn(msg, GliderToolsWarning)\n"
     ]
    },
    {
     "name": "stdout",
     "output_type": "stream",
     "text": [
      "\n",
      "DIMENSION: sg_data_point\n",
      "{latitude, longitude, time, depth}\n"
     ]
    },
    {
     "name": "stderr",
     "output_type": "stream",
     "text": [
      " 67%|██████████████████████████▉             | 988/1467 [08:02<03:35,  2.22it/s]/home/dIOGOLOC/programs/anaconda3/lib/python3.10/site-packages/glidertools/load/seaglider.py:227: GliderToolsWarning: dives was not found in the files\n",
      "  warnings.warn(msg, GliderToolsWarning)\n"
     ]
    },
    {
     "name": "stdout",
     "output_type": "stream",
     "text": [
      "\n",
      "DIMENSION: sg_data_point\n",
      "{latitude, longitude, time, depth}\n"
     ]
    },
    {
     "name": "stderr",
     "output_type": "stream",
     "text": [
      " 67%|██████████████████████████▉             | 989/1467 [08:02<03:34,  2.23it/s]/home/dIOGOLOC/programs/anaconda3/lib/python3.10/site-packages/glidertools/load/seaglider.py:227: GliderToolsWarning: dives was not found in the files\n",
      "  warnings.warn(msg, GliderToolsWarning)\n"
     ]
    },
    {
     "name": "stdout",
     "output_type": "stream",
     "text": [
      "\n",
      "DIMENSION: sg_data_point\n",
      "{latitude, longitude, time, depth}\n"
     ]
    },
    {
     "name": "stderr",
     "output_type": "stream",
     "text": [
      " 67%|██████████████████████████▉             | 990/1467 [08:03<03:32,  2.25it/s]/home/dIOGOLOC/programs/anaconda3/lib/python3.10/site-packages/glidertools/load/seaglider.py:227: GliderToolsWarning: dives was not found in the files\n",
      "  warnings.warn(msg, GliderToolsWarning)\n"
     ]
    },
    {
     "name": "stdout",
     "output_type": "stream",
     "text": [
      "\n",
      "DIMENSION: sg_data_point\n",
      "{latitude, longitude, time, depth}\n"
     ]
    },
    {
     "name": "stderr",
     "output_type": "stream",
     "text": [
      " 68%|███████████████████████████             | 991/1467 [08:03<03:32,  2.24it/s]/home/dIOGOLOC/programs/anaconda3/lib/python3.10/site-packages/glidertools/load/seaglider.py:227: GliderToolsWarning: dives was not found in the files\n",
      "  warnings.warn(msg, GliderToolsWarning)\n"
     ]
    },
    {
     "name": "stdout",
     "output_type": "stream",
     "text": [
      "\n",
      "DIMENSION: sg_data_point\n",
      "{latitude, longitude, time, depth}\n"
     ]
    },
    {
     "name": "stderr",
     "output_type": "stream",
     "text": [
      " 68%|███████████████████████████             | 992/1467 [08:04<03:33,  2.22it/s]/home/dIOGOLOC/programs/anaconda3/lib/python3.10/site-packages/glidertools/load/seaglider.py:227: GliderToolsWarning: dives was not found in the files\n",
      "  warnings.warn(msg, GliderToolsWarning)\n"
     ]
    },
    {
     "name": "stdout",
     "output_type": "stream",
     "text": [
      "\n",
      "DIMENSION: sg_data_point\n",
      "{latitude, longitude, time, depth}\n"
     ]
    },
    {
     "name": "stderr",
     "output_type": "stream",
     "text": [
      " 68%|███████████████████████████             | 993/1467 [08:04<03:31,  2.24it/s]/home/dIOGOLOC/programs/anaconda3/lib/python3.10/site-packages/glidertools/load/seaglider.py:227: GliderToolsWarning: dives was not found in the files\n",
      "  warnings.warn(msg, GliderToolsWarning)\n"
     ]
    },
    {
     "name": "stdout",
     "output_type": "stream",
     "text": [
      "\n",
      "DIMENSION: sg_data_point\n",
      "{latitude, longitude, time, depth}\n"
     ]
    },
    {
     "name": "stderr",
     "output_type": "stream",
     "text": [
      " 68%|███████████████████████████             | 994/1467 [08:04<03:29,  2.26it/s]/home/dIOGOLOC/programs/anaconda3/lib/python3.10/site-packages/glidertools/load/seaglider.py:227: GliderToolsWarning: dives was not found in the files\n",
      "  warnings.warn(msg, GliderToolsWarning)\n"
     ]
    },
    {
     "name": "stdout",
     "output_type": "stream",
     "text": [
      "\n",
      "DIMENSION: sg_data_point\n",
      "{latitude, longitude, time, depth}\n"
     ]
    },
    {
     "name": "stderr",
     "output_type": "stream",
     "text": [
      " 68%|███████████████████████████▏            | 995/1467 [08:05<03:25,  2.30it/s]/home/dIOGOLOC/programs/anaconda3/lib/python3.10/site-packages/glidertools/load/seaglider.py:227: GliderToolsWarning: dives was not found in the files\n",
      "  warnings.warn(msg, GliderToolsWarning)\n"
     ]
    },
    {
     "name": "stdout",
     "output_type": "stream",
     "text": [
      "\n",
      "DIMENSION: sg_data_point\n",
      "{latitude, longitude, time, depth}\n"
     ]
    },
    {
     "name": "stderr",
     "output_type": "stream",
     "text": [
      " 68%|███████████████████████████▏            | 996/1467 [08:05<03:40,  2.13it/s]/home/dIOGOLOC/programs/anaconda3/lib/python3.10/site-packages/glidertools/load/seaglider.py:227: GliderToolsWarning: dives was not found in the files\n",
      "  warnings.warn(msg, GliderToolsWarning)\n"
     ]
    },
    {
     "name": "stdout",
     "output_type": "stream",
     "text": [
      "\n",
      "DIMENSION: sg_data_point\n",
      "{latitude, longitude, time, depth}\n"
     ]
    },
    {
     "name": "stderr",
     "output_type": "stream",
     "text": [
      " 68%|███████████████████████████▏            | 997/1467 [08:06<03:35,  2.18it/s]/home/dIOGOLOC/programs/anaconda3/lib/python3.10/site-packages/glidertools/load/seaglider.py:227: GliderToolsWarning: dives was not found in the files\n",
      "  warnings.warn(msg, GliderToolsWarning)\n"
     ]
    },
    {
     "name": "stdout",
     "output_type": "stream",
     "text": [
      "\n",
      "DIMENSION: sg_data_point\n",
      "{latitude, longitude, time, depth}\n"
     ]
    },
    {
     "name": "stderr",
     "output_type": "stream",
     "text": [
      " 68%|███████████████████████████▏            | 998/1467 [08:06<03:31,  2.21it/s]/home/dIOGOLOC/programs/anaconda3/lib/python3.10/site-packages/glidertools/load/seaglider.py:227: GliderToolsWarning: dives was not found in the files\n",
      "  warnings.warn(msg, GliderToolsWarning)\n"
     ]
    },
    {
     "name": "stdout",
     "output_type": "stream",
     "text": [
      "\n",
      "DIMENSION: sg_data_point\n",
      "{latitude, longitude, time, depth}\n"
     ]
    },
    {
     "name": "stderr",
     "output_type": "stream",
     "text": [
      " 68%|███████████████████████████▏            | 999/1467 [08:07<03:27,  2.26it/s]/home/dIOGOLOC/programs/anaconda3/lib/python3.10/site-packages/glidertools/load/seaglider.py:227: GliderToolsWarning: dives was not found in the files\n",
      "  warnings.warn(msg, GliderToolsWarning)\n"
     ]
    },
    {
     "name": "stdout",
     "output_type": "stream",
     "text": [
      "\n",
      "DIMENSION: sg_data_point\n",
      "{latitude, longitude, time, depth}\n"
     ]
    },
    {
     "name": "stderr",
     "output_type": "stream",
     "text": [
      " 68%|██████████████████████████▌            | 1000/1467 [08:07<03:24,  2.28it/s]/home/dIOGOLOC/programs/anaconda3/lib/python3.10/site-packages/glidertools/load/seaglider.py:227: GliderToolsWarning: dives was not found in the files\n",
      "  warnings.warn(msg, GliderToolsWarning)\n"
     ]
    },
    {
     "name": "stdout",
     "output_type": "stream",
     "text": [
      "\n",
      "DIMENSION: sg_data_point\n",
      "{latitude, longitude, time, depth}\n"
     ]
    },
    {
     "name": "stderr",
     "output_type": "stream",
     "text": [
      " 68%|██████████████████████████▌            | 1001/1467 [08:08<03:22,  2.30it/s]/home/dIOGOLOC/programs/anaconda3/lib/python3.10/site-packages/glidertools/load/seaglider.py:227: GliderToolsWarning: dives was not found in the files\n",
      "  warnings.warn(msg, GliderToolsWarning)\n"
     ]
    },
    {
     "name": "stdout",
     "output_type": "stream",
     "text": [
      "\n",
      "DIMENSION: sg_data_point\n",
      "{latitude, longitude, time, depth}\n"
     ]
    },
    {
     "name": "stderr",
     "output_type": "stream",
     "text": [
      " 68%|██████████████████████████▋            | 1002/1467 [08:08<03:21,  2.31it/s]/home/dIOGOLOC/programs/anaconda3/lib/python3.10/site-packages/glidertools/load/seaglider.py:227: GliderToolsWarning: dives was not found in the files\n",
      "  warnings.warn(msg, GliderToolsWarning)\n"
     ]
    },
    {
     "name": "stdout",
     "output_type": "stream",
     "text": [
      "\n",
      "DIMENSION: sg_data_point\n",
      "{latitude, longitude, time, depth}\n"
     ]
    },
    {
     "name": "stderr",
     "output_type": "stream",
     "text": [
      " 68%|██████████████████████████▋            | 1003/1467 [08:08<03:21,  2.30it/s]/home/dIOGOLOC/programs/anaconda3/lib/python3.10/site-packages/glidertools/load/seaglider.py:227: GliderToolsWarning: dives was not found in the files\n",
      "  warnings.warn(msg, GliderToolsWarning)\n"
     ]
    },
    {
     "name": "stdout",
     "output_type": "stream",
     "text": [
      "\n",
      "DIMENSION: sg_data_point\n",
      "{latitude, longitude, time, depth}\n"
     ]
    },
    {
     "name": "stderr",
     "output_type": "stream",
     "text": [
      " 68%|██████████████████████████▋            | 1004/1467 [08:09<03:20,  2.31it/s]/home/dIOGOLOC/programs/anaconda3/lib/python3.10/site-packages/glidertools/load/seaglider.py:227: GliderToolsWarning: dives was not found in the files\n",
      "  warnings.warn(msg, GliderToolsWarning)\n"
     ]
    },
    {
     "name": "stdout",
     "output_type": "stream",
     "text": [
      "\n",
      "DIMENSION: sg_data_point\n",
      "{latitude, longitude, time, depth}\n"
     ]
    },
    {
     "name": "stderr",
     "output_type": "stream",
     "text": [
      " 69%|██████████████████████████▋            | 1005/1467 [08:09<03:20,  2.31it/s]/home/dIOGOLOC/programs/anaconda3/lib/python3.10/site-packages/glidertools/load/seaglider.py:227: GliderToolsWarning: dives was not found in the files\n",
      "  warnings.warn(msg, GliderToolsWarning)\n"
     ]
    },
    {
     "name": "stdout",
     "output_type": "stream",
     "text": [
      "\n",
      "DIMENSION: sg_data_point\n",
      "{latitude, longitude, time, depth}\n"
     ]
    },
    {
     "name": "stderr",
     "output_type": "stream",
     "text": [
      " 69%|██████████████████████████▋            | 1006/1467 [08:10<03:33,  2.16it/s]/home/dIOGOLOC/programs/anaconda3/lib/python3.10/site-packages/glidertools/load/seaglider.py:227: GliderToolsWarning: dives was not found in the files\n",
      "  warnings.warn(msg, GliderToolsWarning)\n"
     ]
    },
    {
     "name": "stdout",
     "output_type": "stream",
     "text": [
      "\n",
      "DIMENSION: sg_data_point\n",
      "{latitude, longitude, time, depth}\n"
     ]
    },
    {
     "name": "stderr",
     "output_type": "stream",
     "text": [
      " 69%|██████████████████████████▊            | 1007/1467 [08:10<03:29,  2.19it/s]/home/dIOGOLOC/programs/anaconda3/lib/python3.10/site-packages/glidertools/load/seaglider.py:227: GliderToolsWarning: dives was not found in the files\n",
      "  warnings.warn(msg, GliderToolsWarning)\n"
     ]
    },
    {
     "name": "stdout",
     "output_type": "stream",
     "text": [
      "\n",
      "DIMENSION: sg_data_point\n",
      "{latitude, longitude, time, depth}\n"
     ]
    },
    {
     "name": "stderr",
     "output_type": "stream",
     "text": [
      " 69%|██████████████████████████▊            | 1008/1467 [08:11<03:25,  2.23it/s]/home/dIOGOLOC/programs/anaconda3/lib/python3.10/site-packages/glidertools/load/seaglider.py:227: GliderToolsWarning: dives was not found in the files\n",
      "  warnings.warn(msg, GliderToolsWarning)\n"
     ]
    },
    {
     "name": "stdout",
     "output_type": "stream",
     "text": [
      "\n",
      "DIMENSION: sg_data_point\n",
      "{latitude, longitude, time, depth}\n"
     ]
    },
    {
     "name": "stderr",
     "output_type": "stream",
     "text": [
      " 69%|██████████████████████████▊            | 1009/1467 [08:11<03:22,  2.26it/s]/home/dIOGOLOC/programs/anaconda3/lib/python3.10/site-packages/glidertools/load/seaglider.py:227: GliderToolsWarning: dives was not found in the files\n",
      "  warnings.warn(msg, GliderToolsWarning)\n"
     ]
    },
    {
     "name": "stdout",
     "output_type": "stream",
     "text": [
      "\n",
      "DIMENSION: sg_data_point\n",
      "{latitude, longitude, time, depth}\n"
     ]
    },
    {
     "name": "stderr",
     "output_type": "stream",
     "text": [
      " 69%|██████████████████████████▊            | 1010/1467 [08:12<03:18,  2.30it/s]/home/dIOGOLOC/programs/anaconda3/lib/python3.10/site-packages/glidertools/load/seaglider.py:227: GliderToolsWarning: dives was not found in the files\n",
      "  warnings.warn(msg, GliderToolsWarning)\n"
     ]
    },
    {
     "name": "stdout",
     "output_type": "stream",
     "text": [
      "\n",
      "DIMENSION: sg_data_point\n",
      "{latitude, longitude, time, depth}\n"
     ]
    },
    {
     "name": "stderr",
     "output_type": "stream",
     "text": [
      " 69%|██████████████████████████▉            | 1011/1467 [08:12<03:16,  2.32it/s]/home/dIOGOLOC/programs/anaconda3/lib/python3.10/site-packages/glidertools/load/seaglider.py:227: GliderToolsWarning: dives was not found in the files\n",
      "  warnings.warn(msg, GliderToolsWarning)\n"
     ]
    },
    {
     "name": "stdout",
     "output_type": "stream",
     "text": [
      "\n",
      "DIMENSION: sg_data_point\n",
      "{latitude, longitude, time, depth}\n"
     ]
    },
    {
     "name": "stderr",
     "output_type": "stream",
     "text": [
      " 69%|██████████████████████████▉            | 1012/1467 [08:12<03:14,  2.34it/s]/home/dIOGOLOC/programs/anaconda3/lib/python3.10/site-packages/glidertools/load/seaglider.py:227: GliderToolsWarning: dives was not found in the files\n",
      "  warnings.warn(msg, GliderToolsWarning)\n"
     ]
    },
    {
     "name": "stdout",
     "output_type": "stream",
     "text": [
      "\n",
      "DIMENSION: sg_data_point\n",
      "{latitude, longitude, time, depth}\n"
     ]
    },
    {
     "name": "stderr",
     "output_type": "stream",
     "text": [
      " 69%|██████████████████████████▉            | 1013/1467 [08:13<03:14,  2.34it/s]/home/dIOGOLOC/programs/anaconda3/lib/python3.10/site-packages/glidertools/load/seaglider.py:227: GliderToolsWarning: dives was not found in the files\n",
      "  warnings.warn(msg, GliderToolsWarning)\n"
     ]
    },
    {
     "name": "stdout",
     "output_type": "stream",
     "text": [
      "\n",
      "DIMENSION: sg_data_point\n",
      "{latitude, longitude, time, depth}\n"
     ]
    },
    {
     "name": "stderr",
     "output_type": "stream",
     "text": [
      " 69%|██████████████████████████▉            | 1014/1467 [08:13<03:12,  2.35it/s]/home/dIOGOLOC/programs/anaconda3/lib/python3.10/site-packages/glidertools/load/seaglider.py:227: GliderToolsWarning: dives was not found in the files\n",
      "  warnings.warn(msg, GliderToolsWarning)\n"
     ]
    },
    {
     "name": "stdout",
     "output_type": "stream",
     "text": [
      "\n",
      "DIMENSION: sg_data_point\n",
      "{latitude, longitude, time, depth}\n"
     ]
    },
    {
     "name": "stderr",
     "output_type": "stream",
     "text": [
      " 69%|██████████████████████████▉            | 1015/1467 [08:14<03:11,  2.36it/s]/home/dIOGOLOC/programs/anaconda3/lib/python3.10/site-packages/glidertools/load/seaglider.py:227: GliderToolsWarning: dives was not found in the files\n",
      "  warnings.warn(msg, GliderToolsWarning)\n"
     ]
    },
    {
     "name": "stdout",
     "output_type": "stream",
     "text": [
      "\n",
      "DIMENSION: sg_data_point\n",
      "{latitude, longitude, time, depth}\n"
     ]
    },
    {
     "name": "stderr",
     "output_type": "stream",
     "text": [
      " 69%|███████████████████████████            | 1016/1467 [08:14<03:12,  2.34it/s]/home/dIOGOLOC/programs/anaconda3/lib/python3.10/site-packages/glidertools/load/seaglider.py:227: GliderToolsWarning: dives was not found in the files\n",
      "  warnings.warn(msg, GliderToolsWarning)\n"
     ]
    },
    {
     "name": "stdout",
     "output_type": "stream",
     "text": [
      "\n",
      "DIMENSION: sg_data_point\n",
      "{latitude, longitude, time, depth}\n"
     ]
    },
    {
     "name": "stderr",
     "output_type": "stream",
     "text": [
      " 69%|███████████████████████████            | 1017/1467 [08:15<03:14,  2.32it/s]/home/dIOGOLOC/programs/anaconda3/lib/python3.10/site-packages/glidertools/load/seaglider.py:227: GliderToolsWarning: dives was not found in the files\n",
      "  warnings.warn(msg, GliderToolsWarning)\n"
     ]
    },
    {
     "name": "stdout",
     "output_type": "stream",
     "text": [
      "\n",
      "DIMENSION: sg_data_point\n",
      "{latitude, longitude, time, depth}\n"
     ]
    },
    {
     "name": "stderr",
     "output_type": "stream",
     "text": [
      " 69%|███████████████████████████            | 1018/1467 [08:15<03:28,  2.16it/s]/home/dIOGOLOC/programs/anaconda3/lib/python3.10/site-packages/glidertools/load/seaglider.py:227: GliderToolsWarning: dives was not found in the files\n",
      "  warnings.warn(msg, GliderToolsWarning)\n"
     ]
    },
    {
     "name": "stdout",
     "output_type": "stream",
     "text": [
      "\n",
      "DIMENSION: sg_data_point\n",
      "{latitude, longitude, time, depth}\n"
     ]
    },
    {
     "name": "stderr",
     "output_type": "stream",
     "text": [
      " 69%|███████████████████████████            | 1019/1467 [08:16<03:22,  2.21it/s]/home/dIOGOLOC/programs/anaconda3/lib/python3.10/site-packages/glidertools/load/seaglider.py:227: GliderToolsWarning: dives was not found in the files\n",
      "  warnings.warn(msg, GliderToolsWarning)\n"
     ]
    },
    {
     "name": "stdout",
     "output_type": "stream",
     "text": [
      "\n",
      "DIMENSION: sg_data_point\n",
      "{latitude, longitude, time, depth}\n"
     ]
    },
    {
     "name": "stderr",
     "output_type": "stream",
     "text": [
      " 70%|███████████████████████████            | 1020/1467 [08:16<03:18,  2.25it/s]/home/dIOGOLOC/programs/anaconda3/lib/python3.10/site-packages/glidertools/load/seaglider.py:227: GliderToolsWarning: dives was not found in the files\n",
      "  warnings.warn(msg, GliderToolsWarning)\n"
     ]
    },
    {
     "name": "stdout",
     "output_type": "stream",
     "text": [
      "\n",
      "DIMENSION: sg_data_point\n",
      "{latitude, longitude, time, depth}\n"
     ]
    },
    {
     "name": "stderr",
     "output_type": "stream",
     "text": [
      " 70%|███████████████████████████▏           | 1021/1467 [08:16<03:16,  2.27it/s]/home/dIOGOLOC/programs/anaconda3/lib/python3.10/site-packages/glidertools/load/seaglider.py:227: GliderToolsWarning: dives was not found in the files\n",
      "  warnings.warn(msg, GliderToolsWarning)\n"
     ]
    },
    {
     "name": "stdout",
     "output_type": "stream",
     "text": [
      "\n",
      "DIMENSION: sg_data_point\n",
      "{latitude, longitude, time, depth}\n"
     ]
    },
    {
     "name": "stderr",
     "output_type": "stream",
     "text": [
      " 70%|███████████████████████████▏           | 1022/1467 [08:17<03:13,  2.30it/s]/home/dIOGOLOC/programs/anaconda3/lib/python3.10/site-packages/glidertools/load/seaglider.py:227: GliderToolsWarning: dives was not found in the files\n",
      "  warnings.warn(msg, GliderToolsWarning)\n"
     ]
    },
    {
     "name": "stdout",
     "output_type": "stream",
     "text": [
      "\n",
      "DIMENSION: sg_data_point\n",
      "{latitude, longitude, time, depth}\n"
     ]
    },
    {
     "name": "stderr",
     "output_type": "stream",
     "text": [
      " 70%|███████████████████████████▏           | 1023/1467 [08:17<03:11,  2.32it/s]/home/dIOGOLOC/programs/anaconda3/lib/python3.10/site-packages/glidertools/load/seaglider.py:227: GliderToolsWarning: dives was not found in the files\n",
      "  warnings.warn(msg, GliderToolsWarning)\n"
     ]
    },
    {
     "name": "stdout",
     "output_type": "stream",
     "text": [
      "\n",
      "DIMENSION: sg_data_point\n",
      "{latitude, longitude, time, depth}\n"
     ]
    },
    {
     "name": "stderr",
     "output_type": "stream",
     "text": [
      " 70%|███████████████████████████▏           | 1024/1467 [08:18<03:33,  2.07it/s]/home/dIOGOLOC/programs/anaconda3/lib/python3.10/site-packages/glidertools/load/seaglider.py:227: GliderToolsWarning: dives was not found in the files\n",
      "  warnings.warn(msg, GliderToolsWarning)\n"
     ]
    },
    {
     "name": "stdout",
     "output_type": "stream",
     "text": [
      "\n",
      "DIMENSION: sg_data_point\n",
      "{latitude, longitude, time, depth}\n"
     ]
    },
    {
     "name": "stderr",
     "output_type": "stream",
     "text": [
      " 70%|███████████████████████████▏           | 1025/1467 [08:18<04:00,  1.84it/s]/home/dIOGOLOC/programs/anaconda3/lib/python3.10/site-packages/glidertools/load/seaglider.py:227: GliderToolsWarning: dives was not found in the files\n",
      "  warnings.warn(msg, GliderToolsWarning)\n"
     ]
    },
    {
     "name": "stdout",
     "output_type": "stream",
     "text": [
      "\n",
      "DIMENSION: sg_data_point\n",
      "{latitude, longitude, time, depth}\n"
     ]
    },
    {
     "name": "stderr",
     "output_type": "stream",
     "text": [
      " 70%|███████████████████████████▎           | 1026/1467 [08:19<04:00,  1.83it/s]/home/dIOGOLOC/programs/anaconda3/lib/python3.10/site-packages/glidertools/load/seaglider.py:227: GliderToolsWarning: dives was not found in the files\n",
      "  warnings.warn(msg, GliderToolsWarning)\n"
     ]
    },
    {
     "name": "stdout",
     "output_type": "stream",
     "text": [
      "\n",
      "DIMENSION: sg_data_point\n",
      "{latitude, longitude, time, depth}\n"
     ]
    },
    {
     "name": "stderr",
     "output_type": "stream",
     "text": [
      " 70%|███████████████████████████▎           | 1027/1467 [08:19<03:47,  1.94it/s]/home/dIOGOLOC/programs/anaconda3/lib/python3.10/site-packages/glidertools/load/seaglider.py:227: GliderToolsWarning: dives was not found in the files\n",
      "  warnings.warn(msg, GliderToolsWarning)\n"
     ]
    },
    {
     "name": "stdout",
     "output_type": "stream",
     "text": [
      "\n",
      "DIMENSION: sg_data_point\n",
      "{latitude, longitude, time, depth}\n"
     ]
    },
    {
     "name": "stderr",
     "output_type": "stream",
     "text": [
      " 70%|███████████████████████████▎           | 1028/1467 [08:20<03:34,  2.04it/s]/home/dIOGOLOC/programs/anaconda3/lib/python3.10/site-packages/glidertools/load/seaglider.py:227: GliderToolsWarning: dives was not found in the files\n",
      "  warnings.warn(msg, GliderToolsWarning)\n"
     ]
    },
    {
     "name": "stdout",
     "output_type": "stream",
     "text": [
      "\n",
      "DIMENSION: sg_data_point\n",
      "{latitude, longitude, time, depth}\n"
     ]
    },
    {
     "name": "stderr",
     "output_type": "stream",
     "text": [
      " 70%|███████████████████████████▎           | 1029/1467 [08:20<03:41,  1.97it/s]/home/dIOGOLOC/programs/anaconda3/lib/python3.10/site-packages/glidertools/load/seaglider.py:227: GliderToolsWarning: dives was not found in the files\n",
      "  warnings.warn(msg, GliderToolsWarning)\n"
     ]
    },
    {
     "name": "stdout",
     "output_type": "stream",
     "text": [
      "\n",
      "DIMENSION: sg_data_point\n",
      "{latitude, longitude, time, depth}\n"
     ]
    },
    {
     "name": "stderr",
     "output_type": "stream",
     "text": [
      " 70%|███████████████████████████▍           | 1030/1467 [08:21<03:33,  2.04it/s]/home/dIOGOLOC/programs/anaconda3/lib/python3.10/site-packages/glidertools/load/seaglider.py:227: GliderToolsWarning: dives was not found in the files\n",
      "  warnings.warn(msg, GliderToolsWarning)\n"
     ]
    },
    {
     "name": "stdout",
     "output_type": "stream",
     "text": [
      "\n",
      "DIMENSION: sg_data_point\n",
      "{latitude, longitude, time, depth}\n"
     ]
    },
    {
     "name": "stderr",
     "output_type": "stream",
     "text": [
      " 70%|███████████████████████████▍           | 1031/1467 [08:21<03:27,  2.10it/s]/home/dIOGOLOC/programs/anaconda3/lib/python3.10/site-packages/glidertools/load/seaglider.py:227: GliderToolsWarning: dives was not found in the files\n",
      "  warnings.warn(msg, GliderToolsWarning)\n"
     ]
    },
    {
     "name": "stdout",
     "output_type": "stream",
     "text": [
      "\n",
      "DIMENSION: sg_data_point\n",
      "{latitude, longitude, time, depth}\n"
     ]
    },
    {
     "name": "stderr",
     "output_type": "stream",
     "text": [
      " 70%|███████████████████████████▍           | 1032/1467 [08:22<03:20,  2.17it/s]/home/dIOGOLOC/programs/anaconda3/lib/python3.10/site-packages/glidertools/load/seaglider.py:227: GliderToolsWarning: dives was not found in the files\n",
      "  warnings.warn(msg, GliderToolsWarning)\n"
     ]
    },
    {
     "name": "stdout",
     "output_type": "stream",
     "text": [
      "\n",
      "DIMENSION: sg_data_point\n",
      "{latitude, longitude, time, depth}\n"
     ]
    },
    {
     "name": "stderr",
     "output_type": "stream",
     "text": [
      " 70%|███████████████████████████▍           | 1033/1467 [08:22<03:16,  2.21it/s]/home/dIOGOLOC/programs/anaconda3/lib/python3.10/site-packages/glidertools/load/seaglider.py:227: GliderToolsWarning: dives was not found in the files\n",
      "  warnings.warn(msg, GliderToolsWarning)\n"
     ]
    },
    {
     "name": "stdout",
     "output_type": "stream",
     "text": [
      "\n",
      "DIMENSION: sg_data_point\n",
      "{latitude, longitude, time, depth}\n"
     ]
    },
    {
     "name": "stderr",
     "output_type": "stream",
     "text": [
      " 70%|███████████████████████████▍           | 1034/1467 [08:23<03:16,  2.20it/s]/home/dIOGOLOC/programs/anaconda3/lib/python3.10/site-packages/glidertools/load/seaglider.py:227: GliderToolsWarning: dives was not found in the files\n",
      "  warnings.warn(msg, GliderToolsWarning)\n"
     ]
    },
    {
     "name": "stdout",
     "output_type": "stream",
     "text": [
      "\n",
      "DIMENSION: sg_data_point\n",
      "{latitude, longitude, time, depth}\n"
     ]
    },
    {
     "name": "stderr",
     "output_type": "stream",
     "text": [
      " 71%|███████████████████████████▌           | 1035/1467 [08:23<03:14,  2.22it/s]/home/dIOGOLOC/programs/anaconda3/lib/python3.10/site-packages/glidertools/load/seaglider.py:227: GliderToolsWarning: dives was not found in the files\n",
      "  warnings.warn(msg, GliderToolsWarning)\n"
     ]
    },
    {
     "name": "stdout",
     "output_type": "stream",
     "text": [
      "\n",
      "DIMENSION: sg_data_point\n",
      "{latitude, longitude, time, depth}\n"
     ]
    },
    {
     "name": "stderr",
     "output_type": "stream",
     "text": [
      " 71%|███████████████████████████▌           | 1036/1467 [08:24<03:14,  2.21it/s]/home/dIOGOLOC/programs/anaconda3/lib/python3.10/site-packages/glidertools/load/seaglider.py:227: GliderToolsWarning: dives was not found in the files\n",
      "  warnings.warn(msg, GliderToolsWarning)\n"
     ]
    },
    {
     "name": "stdout",
     "output_type": "stream",
     "text": [
      "\n",
      "DIMENSION: sg_data_point\n",
      "{latitude, longitude, time, depth}\n"
     ]
    },
    {
     "name": "stderr",
     "output_type": "stream",
     "text": [
      " 71%|███████████████████████████▌           | 1037/1467 [08:24<03:13,  2.22it/s]/home/dIOGOLOC/programs/anaconda3/lib/python3.10/site-packages/glidertools/load/seaglider.py:227: GliderToolsWarning: dives was not found in the files\n",
      "  warnings.warn(msg, GliderToolsWarning)\n"
     ]
    },
    {
     "name": "stdout",
     "output_type": "stream",
     "text": [
      "\n",
      "DIMENSION: sg_data_point\n",
      "{latitude, longitude, time, depth}\n"
     ]
    },
    {
     "name": "stderr",
     "output_type": "stream",
     "text": [
      " 71%|███████████████████████████▌           | 1038/1467 [08:24<03:12,  2.23it/s]/home/dIOGOLOC/programs/anaconda3/lib/python3.10/site-packages/glidertools/load/seaglider.py:227: GliderToolsWarning: dives was not found in the files\n",
      "  warnings.warn(msg, GliderToolsWarning)\n"
     ]
    },
    {
     "name": "stdout",
     "output_type": "stream",
     "text": [
      "\n",
      "DIMENSION: sg_data_point\n",
      "{latitude, longitude, time, depth}\n"
     ]
    },
    {
     "name": "stderr",
     "output_type": "stream",
     "text": [
      " 71%|███████████████████████████▌           | 1039/1467 [08:25<03:15,  2.19it/s]/home/dIOGOLOC/programs/anaconda3/lib/python3.10/site-packages/glidertools/load/seaglider.py:227: GliderToolsWarning: dives was not found in the files\n",
      "  warnings.warn(msg, GliderToolsWarning)\n"
     ]
    },
    {
     "name": "stdout",
     "output_type": "stream",
     "text": [
      "\n",
      "DIMENSION: sg_data_point\n",
      "{latitude, longitude, time, depth}\n"
     ]
    },
    {
     "name": "stderr",
     "output_type": "stream",
     "text": [
      " 71%|███████████████████████████▋           | 1040/1467 [08:26<03:27,  2.06it/s]/home/dIOGOLOC/programs/anaconda3/lib/python3.10/site-packages/glidertools/load/seaglider.py:227: GliderToolsWarning: dives was not found in the files\n",
      "  warnings.warn(msg, GliderToolsWarning)\n"
     ]
    },
    {
     "name": "stdout",
     "output_type": "stream",
     "text": [
      "\n",
      "DIMENSION: sg_data_point\n",
      "{latitude, longitude, time, depth}\n"
     ]
    },
    {
     "name": "stderr",
     "output_type": "stream",
     "text": [
      " 71%|███████████████████████████▋           | 1041/1467 [08:26<03:20,  2.13it/s]/home/dIOGOLOC/programs/anaconda3/lib/python3.10/site-packages/glidertools/load/seaglider.py:227: GliderToolsWarning: dives was not found in the files\n",
      "  warnings.warn(msg, GliderToolsWarning)\n"
     ]
    },
    {
     "name": "stdout",
     "output_type": "stream",
     "text": [
      "\n",
      "DIMENSION: sg_data_point\n",
      "{latitude, longitude, time, depth}\n"
     ]
    },
    {
     "name": "stderr",
     "output_type": "stream",
     "text": [
      " 71%|███████████████████████████▋           | 1042/1467 [08:26<03:18,  2.14it/s]/home/dIOGOLOC/programs/anaconda3/lib/python3.10/site-packages/glidertools/load/seaglider.py:227: GliderToolsWarning: dives was not found in the files\n",
      "  warnings.warn(msg, GliderToolsWarning)\n"
     ]
    },
    {
     "name": "stdout",
     "output_type": "stream",
     "text": [
      "\n",
      "DIMENSION: sg_data_point\n",
      "{latitude, longitude, time, depth}\n"
     ]
    },
    {
     "name": "stderr",
     "output_type": "stream",
     "text": [
      " 71%|███████████████████████████▋           | 1043/1467 [08:27<03:14,  2.18it/s]/home/dIOGOLOC/programs/anaconda3/lib/python3.10/site-packages/glidertools/load/seaglider.py:227: GliderToolsWarning: dives was not found in the files\n",
      "  warnings.warn(msg, GliderToolsWarning)\n"
     ]
    },
    {
     "name": "stdout",
     "output_type": "stream",
     "text": [
      "\n",
      "DIMENSION: sg_data_point\n",
      "{latitude, longitude, time, depth}\n"
     ]
    },
    {
     "name": "stderr",
     "output_type": "stream",
     "text": [
      " 71%|███████████████████████████▊           | 1044/1467 [08:27<03:15,  2.17it/s]/home/dIOGOLOC/programs/anaconda3/lib/python3.10/site-packages/glidertools/load/seaglider.py:227: GliderToolsWarning: dives was not found in the files\n",
      "  warnings.warn(msg, GliderToolsWarning)\n"
     ]
    },
    {
     "name": "stdout",
     "output_type": "stream",
     "text": [
      "\n",
      "DIMENSION: sg_data_point\n",
      "{latitude, longitude, time, depth}\n"
     ]
    },
    {
     "name": "stderr",
     "output_type": "stream",
     "text": [
      " 71%|███████████████████████████▊           | 1045/1467 [08:28<03:15,  2.16it/s]/home/dIOGOLOC/programs/anaconda3/lib/python3.10/site-packages/glidertools/load/seaglider.py:227: GliderToolsWarning: dives was not found in the files\n",
      "  warnings.warn(msg, GliderToolsWarning)\n"
     ]
    },
    {
     "name": "stdout",
     "output_type": "stream",
     "text": [
      "\n",
      "DIMENSION: sg_data_point\n",
      "{latitude, longitude, time, depth}\n"
     ]
    },
    {
     "name": "stderr",
     "output_type": "stream",
     "text": [
      " 71%|███████████████████████████▊           | 1046/1467 [08:28<03:21,  2.09it/s]/home/dIOGOLOC/programs/anaconda3/lib/python3.10/site-packages/glidertools/load/seaglider.py:227: GliderToolsWarning: dives was not found in the files\n",
      "  warnings.warn(msg, GliderToolsWarning)\n"
     ]
    },
    {
     "name": "stdout",
     "output_type": "stream",
     "text": [
      "\n",
      "DIMENSION: sg_data_point\n",
      "{latitude, longitude, time, depth}\n"
     ]
    },
    {
     "name": "stderr",
     "output_type": "stream",
     "text": [
      " 71%|███████████████████████████▊           | 1047/1467 [08:29<03:29,  2.01it/s]/home/dIOGOLOC/programs/anaconda3/lib/python3.10/site-packages/glidertools/load/seaglider.py:227: GliderToolsWarning: dives was not found in the files\n",
      "  warnings.warn(msg, GliderToolsWarning)\n"
     ]
    },
    {
     "name": "stdout",
     "output_type": "stream",
     "text": [
      "\n",
      "DIMENSION: sg_data_point\n",
      "{latitude, longitude, time, depth}\n"
     ]
    },
    {
     "name": "stderr",
     "output_type": "stream",
     "text": [
      " 71%|███████████████████████████▊           | 1048/1467 [08:29<03:30,  1.99it/s]/home/dIOGOLOC/programs/anaconda3/lib/python3.10/site-packages/glidertools/load/seaglider.py:227: GliderToolsWarning: dives was not found in the files\n",
      "  warnings.warn(msg, GliderToolsWarning)\n"
     ]
    },
    {
     "name": "stdout",
     "output_type": "stream",
     "text": [
      "\n",
      "DIMENSION: sg_data_point\n",
      "{latitude, longitude, time, depth}\n"
     ]
    },
    {
     "name": "stderr",
     "output_type": "stream",
     "text": [
      " 72%|███████████████████████████▉           | 1049/1467 [08:30<03:30,  1.99it/s]/home/dIOGOLOC/programs/anaconda3/lib/python3.10/site-packages/glidertools/load/seaglider.py:227: GliderToolsWarning: dives was not found in the files\n",
      "  warnings.warn(msg, GliderToolsWarning)\n"
     ]
    },
    {
     "name": "stdout",
     "output_type": "stream",
     "text": [
      "\n",
      "DIMENSION: sg_data_point\n",
      "{latitude, longitude, time, depth}\n"
     ]
    },
    {
     "name": "stderr",
     "output_type": "stream",
     "text": [
      " 72%|███████████████████████████▉           | 1050/1467 [08:30<03:34,  1.95it/s]/home/dIOGOLOC/programs/anaconda3/lib/python3.10/site-packages/glidertools/load/seaglider.py:227: GliderToolsWarning: dives was not found in the files\n",
      "  warnings.warn(msg, GliderToolsWarning)\n"
     ]
    },
    {
     "name": "stdout",
     "output_type": "stream",
     "text": [
      "\n",
      "DIMENSION: sg_data_point\n",
      "{latitude, longitude, time, depth}\n"
     ]
    },
    {
     "name": "stderr",
     "output_type": "stream",
     "text": [
      " 72%|███████████████████████████▉           | 1051/1467 [08:31<03:27,  2.00it/s]/home/dIOGOLOC/programs/anaconda3/lib/python3.10/site-packages/glidertools/load/seaglider.py:227: GliderToolsWarning: dives was not found in the files\n",
      "  warnings.warn(msg, GliderToolsWarning)\n"
     ]
    },
    {
     "name": "stdout",
     "output_type": "stream",
     "text": [
      "\n",
      "DIMENSION: sg_data_point\n",
      "{latitude, longitude, time, depth}\n"
     ]
    },
    {
     "name": "stderr",
     "output_type": "stream",
     "text": [
      " 72%|███████████████████████████▉           | 1052/1467 [08:31<03:39,  1.89it/s]/home/dIOGOLOC/programs/anaconda3/lib/python3.10/site-packages/glidertools/load/seaglider.py:227: GliderToolsWarning: dives was not found in the files\n",
      "  warnings.warn(msg, GliderToolsWarning)\n"
     ]
    },
    {
     "name": "stdout",
     "output_type": "stream",
     "text": [
      "\n",
      "DIMENSION: sg_data_point\n",
      "{latitude, longitude, time, depth}\n"
     ]
    },
    {
     "name": "stderr",
     "output_type": "stream",
     "text": [
      " 72%|███████████████████████████▉           | 1053/1467 [08:32<03:28,  1.98it/s]/home/dIOGOLOC/programs/anaconda3/lib/python3.10/site-packages/glidertools/load/seaglider.py:227: GliderToolsWarning: dives was not found in the files\n",
      "  warnings.warn(msg, GliderToolsWarning)\n"
     ]
    },
    {
     "name": "stdout",
     "output_type": "stream",
     "text": [
      "\n",
      "DIMENSION: sg_data_point\n",
      "{latitude, longitude, time, depth}\n"
     ]
    },
    {
     "name": "stderr",
     "output_type": "stream",
     "text": [
      " 72%|████████████████████████████           | 1054/1467 [08:32<03:26,  2.00it/s]/home/dIOGOLOC/programs/anaconda3/lib/python3.10/site-packages/glidertools/load/seaglider.py:227: GliderToolsWarning: dives was not found in the files\n",
      "  warnings.warn(msg, GliderToolsWarning)\n"
     ]
    },
    {
     "name": "stdout",
     "output_type": "stream",
     "text": [
      "\n",
      "DIMENSION: sg_data_point\n",
      "{latitude, longitude, time, depth}\n"
     ]
    },
    {
     "name": "stderr",
     "output_type": "stream",
     "text": [
      " 72%|████████████████████████████           | 1055/1467 [08:33<03:21,  2.04it/s]/home/dIOGOLOC/programs/anaconda3/lib/python3.10/site-packages/glidertools/load/seaglider.py:227: GliderToolsWarning: dives was not found in the files\n",
      "  warnings.warn(msg, GliderToolsWarning)\n"
     ]
    },
    {
     "name": "stdout",
     "output_type": "stream",
     "text": [
      "\n",
      "DIMENSION: sg_data_point\n",
      "{latitude, longitude, time, depth}\n"
     ]
    },
    {
     "name": "stderr",
     "output_type": "stream",
     "text": [
      " 72%|████████████████████████████           | 1056/1467 [08:33<03:14,  2.11it/s]/home/dIOGOLOC/programs/anaconda3/lib/python3.10/site-packages/glidertools/load/seaglider.py:227: GliderToolsWarning: dives was not found in the files\n",
      "  warnings.warn(msg, GliderToolsWarning)\n"
     ]
    },
    {
     "name": "stdout",
     "output_type": "stream",
     "text": [
      "\n",
      "DIMENSION: sg_data_point\n",
      "{latitude, longitude, time, depth}\n"
     ]
    },
    {
     "name": "stderr",
     "output_type": "stream",
     "text": [
      " 72%|████████████████████████████           | 1057/1467 [08:34<03:07,  2.19it/s]/home/dIOGOLOC/programs/anaconda3/lib/python3.10/site-packages/glidertools/load/seaglider.py:227: GliderToolsWarning: dives was not found in the files\n",
      "  warnings.warn(msg, GliderToolsWarning)\n"
     ]
    },
    {
     "name": "stdout",
     "output_type": "stream",
     "text": [
      "\n",
      "DIMENSION: sg_data_point\n",
      "{latitude, longitude, time, depth}\n"
     ]
    },
    {
     "name": "stderr",
     "output_type": "stream",
     "text": [
      " 72%|████████████████████████████▏          | 1058/1467 [08:34<03:04,  2.22it/s]/home/dIOGOLOC/programs/anaconda3/lib/python3.10/site-packages/glidertools/load/seaglider.py:227: GliderToolsWarning: dives was not found in the files\n",
      "  warnings.warn(msg, GliderToolsWarning)\n"
     ]
    },
    {
     "name": "stdout",
     "output_type": "stream",
     "text": [
      "\n",
      "DIMENSION: sg_data_point\n",
      "{latitude, longitude, time, depth}\n"
     ]
    },
    {
     "name": "stderr",
     "output_type": "stream",
     "text": [
      " 72%|████████████████████████████▏          | 1059/1467 [08:35<03:00,  2.26it/s]/home/dIOGOLOC/programs/anaconda3/lib/python3.10/site-packages/glidertools/load/seaglider.py:227: GliderToolsWarning: dives was not found in the files\n",
      "  warnings.warn(msg, GliderToolsWarning)\n"
     ]
    },
    {
     "name": "stdout",
     "output_type": "stream",
     "text": [
      "\n",
      "DIMENSION: sg_data_point\n",
      "{latitude, longitude, time, depth}\n"
     ]
    },
    {
     "name": "stderr",
     "output_type": "stream",
     "text": [
      " 72%|████████████████████████████▏          | 1060/1467 [08:35<02:58,  2.28it/s]/home/dIOGOLOC/programs/anaconda3/lib/python3.10/site-packages/glidertools/load/seaglider.py:227: GliderToolsWarning: dives was not found in the files\n",
      "  warnings.warn(msg, GliderToolsWarning)\n"
     ]
    },
    {
     "name": "stdout",
     "output_type": "stream",
     "text": [
      "\n",
      "DIMENSION: sg_data_point\n",
      "{latitude, longitude, time, depth}\n"
     ]
    },
    {
     "name": "stderr",
     "output_type": "stream",
     "text": [
      " 72%|████████████████████████████▏          | 1061/1467 [08:35<02:56,  2.30it/s]/home/dIOGOLOC/programs/anaconda3/lib/python3.10/site-packages/glidertools/load/seaglider.py:227: GliderToolsWarning: dives was not found in the files\n",
      "  warnings.warn(msg, GliderToolsWarning)\n"
     ]
    },
    {
     "name": "stdout",
     "output_type": "stream",
     "text": [
      "\n",
      "DIMENSION: sg_data_point\n",
      "{latitude, longitude, time, depth}\n"
     ]
    },
    {
     "name": "stderr",
     "output_type": "stream",
     "text": [
      " 72%|████████████████████████████▏          | 1062/1467 [08:36<02:54,  2.32it/s]/home/dIOGOLOC/programs/anaconda3/lib/python3.10/site-packages/glidertools/load/seaglider.py:227: GliderToolsWarning: dives was not found in the files\n",
      "  warnings.warn(msg, GliderToolsWarning)\n"
     ]
    },
    {
     "name": "stdout",
     "output_type": "stream",
     "text": [
      "\n",
      "DIMENSION: sg_data_point\n",
      "{latitude, longitude, time, depth}\n"
     ]
    },
    {
     "name": "stderr",
     "output_type": "stream",
     "text": [
      " 72%|████████████████████████████▎          | 1063/1467 [08:36<03:06,  2.17it/s]/home/dIOGOLOC/programs/anaconda3/lib/python3.10/site-packages/glidertools/load/seaglider.py:227: GliderToolsWarning: dives was not found in the files\n",
      "  warnings.warn(msg, GliderToolsWarning)\n"
     ]
    },
    {
     "name": "stdout",
     "output_type": "stream",
     "text": [
      "\n",
      "DIMENSION: sg_data_point\n",
      "{latitude, longitude, time, depth}\n"
     ]
    },
    {
     "name": "stderr",
     "output_type": "stream",
     "text": [
      " 73%|████████████████████████████▎          | 1064/1467 [08:37<03:01,  2.22it/s]/home/dIOGOLOC/programs/anaconda3/lib/python3.10/site-packages/glidertools/load/seaglider.py:227: GliderToolsWarning: dives was not found in the files\n",
      "  warnings.warn(msg, GliderToolsWarning)\n"
     ]
    },
    {
     "name": "stdout",
     "output_type": "stream",
     "text": [
      "\n",
      "DIMENSION: sg_data_point\n",
      "{latitude, longitude, time, depth}\n"
     ]
    },
    {
     "name": "stderr",
     "output_type": "stream",
     "text": [
      " 73%|████████████████████████████▎          | 1065/1467 [08:37<02:58,  2.26it/s]/home/dIOGOLOC/programs/anaconda3/lib/python3.10/site-packages/glidertools/load/seaglider.py:227: GliderToolsWarning: dives was not found in the files\n",
      "  warnings.warn(msg, GliderToolsWarning)\n"
     ]
    },
    {
     "name": "stdout",
     "output_type": "stream",
     "text": [
      "\n",
      "DIMENSION: sg_data_point\n",
      "{latitude, longitude, time, depth}\n"
     ]
    },
    {
     "name": "stderr",
     "output_type": "stream",
     "text": [
      " 73%|████████████████████████████▎          | 1066/1467 [08:38<02:57,  2.26it/s]/home/dIOGOLOC/programs/anaconda3/lib/python3.10/site-packages/glidertools/load/seaglider.py:227: GliderToolsWarning: dives was not found in the files\n",
      "  warnings.warn(msg, GliderToolsWarning)\n"
     ]
    },
    {
     "name": "stdout",
     "output_type": "stream",
     "text": [
      "\n",
      "DIMENSION: sg_data_point\n",
      "{latitude, longitude, time, depth}\n"
     ]
    },
    {
     "name": "stderr",
     "output_type": "stream",
     "text": [
      " 73%|████████████████████████████▎          | 1067/1467 [08:38<02:56,  2.26it/s]/home/dIOGOLOC/programs/anaconda3/lib/python3.10/site-packages/glidertools/load/seaglider.py:227: GliderToolsWarning: dives was not found in the files\n",
      "  warnings.warn(msg, GliderToolsWarning)\n"
     ]
    },
    {
     "name": "stdout",
     "output_type": "stream",
     "text": [
      "\n",
      "DIMENSION: sg_data_point\n",
      "{latitude, longitude, time, depth}\n"
     ]
    },
    {
     "name": "stderr",
     "output_type": "stream",
     "text": [
      " 73%|████████████████████████████▍          | 1068/1467 [08:39<02:56,  2.26it/s]/home/dIOGOLOC/programs/anaconda3/lib/python3.10/site-packages/glidertools/load/seaglider.py:227: GliderToolsWarning: dives was not found in the files\n",
      "  warnings.warn(msg, GliderToolsWarning)\n"
     ]
    },
    {
     "name": "stdout",
     "output_type": "stream",
     "text": [
      "\n",
      "DIMENSION: sg_data_point\n",
      "{latitude, longitude, time, depth}\n"
     ]
    },
    {
     "name": "stderr",
     "output_type": "stream",
     "text": [
      " 73%|████████████████████████████▍          | 1069/1467 [08:39<02:55,  2.27it/s]/home/dIOGOLOC/programs/anaconda3/lib/python3.10/site-packages/glidertools/load/seaglider.py:227: GliderToolsWarning: dives was not found in the files\n",
      "  warnings.warn(msg, GliderToolsWarning)\n"
     ]
    },
    {
     "name": "stdout",
     "output_type": "stream",
     "text": [
      "\n",
      "DIMENSION: sg_data_point\n",
      "{latitude, longitude, time, depth}\n"
     ]
    },
    {
     "name": "stderr",
     "output_type": "stream",
     "text": [
      " 73%|████████████████████████████▍          | 1070/1467 [08:39<02:55,  2.27it/s]/home/dIOGOLOC/programs/anaconda3/lib/python3.10/site-packages/glidertools/load/seaglider.py:227: GliderToolsWarning: dives was not found in the files\n",
      "  warnings.warn(msg, GliderToolsWarning)\n"
     ]
    },
    {
     "name": "stdout",
     "output_type": "stream",
     "text": [
      "\n",
      "DIMENSION: sg_data_point\n",
      "{latitude, longitude, time, depth}\n"
     ]
    },
    {
     "name": "stderr",
     "output_type": "stream",
     "text": [
      " 73%|████████████████████████████▍          | 1071/1467 [08:40<02:56,  2.24it/s]/home/dIOGOLOC/programs/anaconda3/lib/python3.10/site-packages/glidertools/load/seaglider.py:227: GliderToolsWarning: dives was not found in the files\n",
      "  warnings.warn(msg, GliderToolsWarning)\n"
     ]
    },
    {
     "name": "stdout",
     "output_type": "stream",
     "text": [
      "\n",
      "DIMENSION: sg_data_point\n",
      "{latitude, longitude, time, depth}\n"
     ]
    },
    {
     "name": "stderr",
     "output_type": "stream",
     "text": [
      " 73%|████████████████████████████▍          | 1072/1467 [08:40<03:01,  2.18it/s]/home/dIOGOLOC/programs/anaconda3/lib/python3.10/site-packages/glidertools/load/seaglider.py:227: GliderToolsWarning: dives was not found in the files\n",
      "  warnings.warn(msg, GliderToolsWarning)\n"
     ]
    },
    {
     "name": "stdout",
     "output_type": "stream",
     "text": [
      "\n",
      "DIMENSION: sg_data_point\n",
      "{latitude, longitude, time, depth}\n"
     ]
    },
    {
     "name": "stderr",
     "output_type": "stream",
     "text": [
      " 73%|████████████████████████████▌          | 1073/1467 [08:41<02:59,  2.20it/s]/home/dIOGOLOC/programs/anaconda3/lib/python3.10/site-packages/glidertools/load/seaglider.py:227: GliderToolsWarning: dives was not found in the files\n",
      "  warnings.warn(msg, GliderToolsWarning)\n"
     ]
    },
    {
     "name": "stdout",
     "output_type": "stream",
     "text": [
      "\n",
      "DIMENSION: sg_data_point\n",
      "{latitude, longitude, time, depth}\n"
     ]
    },
    {
     "name": "stderr",
     "output_type": "stream",
     "text": [
      " 73%|████████████████████████████▌          | 1074/1467 [08:41<03:01,  2.16it/s]/home/dIOGOLOC/programs/anaconda3/lib/python3.10/site-packages/glidertools/load/seaglider.py:227: GliderToolsWarning: dives was not found in the files\n",
      "  warnings.warn(msg, GliderToolsWarning)\n"
     ]
    },
    {
     "name": "stdout",
     "output_type": "stream",
     "text": [
      "\n",
      "DIMENSION: sg_data_point\n",
      "{latitude, longitude, time, depth}\n"
     ]
    },
    {
     "name": "stderr",
     "output_type": "stream",
     "text": [
      " 73%|████████████████████████████▌          | 1075/1467 [08:42<03:15,  2.00it/s]/home/dIOGOLOC/programs/anaconda3/lib/python3.10/site-packages/glidertools/load/seaglider.py:227: GliderToolsWarning: dives was not found in the files\n",
      "  warnings.warn(msg, GliderToolsWarning)\n"
     ]
    },
    {
     "name": "stdout",
     "output_type": "stream",
     "text": [
      "\n",
      "DIMENSION: sg_data_point\n",
      "{latitude, longitude, time, depth}\n"
     ]
    },
    {
     "name": "stderr",
     "output_type": "stream",
     "text": [
      " 73%|████████████████████████████▌          | 1076/1467 [08:42<03:09,  2.07it/s]/home/dIOGOLOC/programs/anaconda3/lib/python3.10/site-packages/glidertools/load/seaglider.py:227: GliderToolsWarning: dives was not found in the files\n",
      "  warnings.warn(msg, GliderToolsWarning)\n"
     ]
    },
    {
     "name": "stdout",
     "output_type": "stream",
     "text": [
      "\n",
      "DIMENSION: sg_data_point\n",
      "{latitude, longitude, time, depth}\n"
     ]
    },
    {
     "name": "stderr",
     "output_type": "stream",
     "text": [
      " 73%|████████████████████████████▋          | 1077/1467 [08:43<03:13,  2.02it/s]/home/dIOGOLOC/programs/anaconda3/lib/python3.10/site-packages/glidertools/load/seaglider.py:227: GliderToolsWarning: dives was not found in the files\n",
      "  warnings.warn(msg, GliderToolsWarning)\n"
     ]
    },
    {
     "name": "stdout",
     "output_type": "stream",
     "text": [
      "\n",
      "DIMENSION: sg_data_point\n",
      "{latitude, longitude, time, depth}\n"
     ]
    },
    {
     "name": "stderr",
     "output_type": "stream",
     "text": [
      " 73%|████████████████████████████▋          | 1078/1467 [08:43<03:04,  2.11it/s]/home/dIOGOLOC/programs/anaconda3/lib/python3.10/site-packages/glidertools/load/seaglider.py:227: GliderToolsWarning: dives was not found in the files\n",
      "  warnings.warn(msg, GliderToolsWarning)\n"
     ]
    },
    {
     "name": "stdout",
     "output_type": "stream",
     "text": [
      "\n",
      "DIMENSION: sg_data_point\n",
      "{latitude, longitude, time, depth}\n"
     ]
    },
    {
     "name": "stderr",
     "output_type": "stream",
     "text": [
      " 74%|████████████████████████████▋          | 1079/1467 [08:44<02:57,  2.18it/s]/home/dIOGOLOC/programs/anaconda3/lib/python3.10/site-packages/glidertools/load/seaglider.py:227: GliderToolsWarning: dives was not found in the files\n",
      "  warnings.warn(msg, GliderToolsWarning)\n"
     ]
    },
    {
     "name": "stdout",
     "output_type": "stream",
     "text": [
      "\n",
      "DIMENSION: sg_data_point\n",
      "{latitude, longitude, time, depth}\n"
     ]
    },
    {
     "name": "stderr",
     "output_type": "stream",
     "text": [
      " 74%|████████████████████████████▋          | 1080/1467 [08:44<02:54,  2.22it/s]/home/dIOGOLOC/programs/anaconda3/lib/python3.10/site-packages/glidertools/load/seaglider.py:227: GliderToolsWarning: dives was not found in the files\n",
      "  warnings.warn(msg, GliderToolsWarning)\n"
     ]
    },
    {
     "name": "stdout",
     "output_type": "stream",
     "text": [
      "\n",
      "DIMENSION: sg_data_point\n",
      "{latitude, longitude, time, depth}\n"
     ]
    },
    {
     "name": "stderr",
     "output_type": "stream",
     "text": [
      " 74%|████████████████████████████▋          | 1081/1467 [08:45<02:51,  2.25it/s]/home/dIOGOLOC/programs/anaconda3/lib/python3.10/site-packages/glidertools/load/seaglider.py:227: GliderToolsWarning: dives was not found in the files\n",
      "  warnings.warn(msg, GliderToolsWarning)\n"
     ]
    },
    {
     "name": "stdout",
     "output_type": "stream",
     "text": [
      "\n",
      "DIMENSION: sg_data_point\n",
      "{latitude, longitude, time, depth}\n"
     ]
    },
    {
     "name": "stderr",
     "output_type": "stream",
     "text": [
      " 74%|████████████████████████████▊          | 1082/1467 [08:45<02:49,  2.27it/s]/home/dIOGOLOC/programs/anaconda3/lib/python3.10/site-packages/glidertools/load/seaglider.py:227: GliderToolsWarning: dives was not found in the files\n",
      "  warnings.warn(msg, GliderToolsWarning)\n"
     ]
    },
    {
     "name": "stdout",
     "output_type": "stream",
     "text": [
      "\n",
      "DIMENSION: sg_data_point\n",
      "{latitude, longitude, time, depth}\n"
     ]
    },
    {
     "name": "stderr",
     "output_type": "stream",
     "text": [
      " 74%|████████████████████████████▊          | 1083/1467 [08:45<02:46,  2.31it/s]/home/dIOGOLOC/programs/anaconda3/lib/python3.10/site-packages/glidertools/load/seaglider.py:227: GliderToolsWarning: dives was not found in the files\n",
      "  warnings.warn(msg, GliderToolsWarning)\n"
     ]
    },
    {
     "name": "stdout",
     "output_type": "stream",
     "text": [
      "\n",
      "DIMENSION: sg_data_point\n",
      "{latitude, longitude, time, depth}\n"
     ]
    },
    {
     "name": "stderr",
     "output_type": "stream",
     "text": [
      " 74%|████████████████████████████▊          | 1084/1467 [08:46<02:44,  2.33it/s]/home/dIOGOLOC/programs/anaconda3/lib/python3.10/site-packages/glidertools/load/seaglider.py:227: GliderToolsWarning: dives was not found in the files\n",
      "  warnings.warn(msg, GliderToolsWarning)\n"
     ]
    },
    {
     "name": "stdout",
     "output_type": "stream",
     "text": [
      "\n",
      "DIMENSION: sg_data_point\n",
      "{latitude, longitude, time, depth}\n"
     ]
    },
    {
     "name": "stderr",
     "output_type": "stream",
     "text": [
      " 74%|████████████████████████████▊          | 1085/1467 [08:46<02:44,  2.33it/s]/home/dIOGOLOC/programs/anaconda3/lib/python3.10/site-packages/glidertools/load/seaglider.py:227: GliderToolsWarning: dives was not found in the files\n",
      "  warnings.warn(msg, GliderToolsWarning)\n"
     ]
    },
    {
     "name": "stdout",
     "output_type": "stream",
     "text": [
      "\n",
      "DIMENSION: sg_data_point\n",
      "{latitude, longitude, time, depth}\n"
     ]
    },
    {
     "name": "stderr",
     "output_type": "stream",
     "text": [
      " 74%|████████████████████████████▊          | 1086/1467 [08:47<02:59,  2.12it/s]/home/dIOGOLOC/programs/anaconda3/lib/python3.10/site-packages/glidertools/load/seaglider.py:227: GliderToolsWarning: dives was not found in the files\n",
      "  warnings.warn(msg, GliderToolsWarning)\n"
     ]
    },
    {
     "name": "stdout",
     "output_type": "stream",
     "text": [
      "\n",
      "DIMENSION: sg_data_point\n",
      "{latitude, longitude, time, depth}\n"
     ]
    },
    {
     "name": "stderr",
     "output_type": "stream",
     "text": [
      " 74%|████████████████████████████▉          | 1087/1467 [08:47<02:55,  2.17it/s]/home/dIOGOLOC/programs/anaconda3/lib/python3.10/site-packages/glidertools/load/seaglider.py:227: GliderToolsWarning: dives was not found in the files\n",
      "  warnings.warn(msg, GliderToolsWarning)\n"
     ]
    },
    {
     "name": "stdout",
     "output_type": "stream",
     "text": [
      "\n",
      "DIMENSION: sg_data_point\n",
      "{latitude, longitude, time, depth}\n"
     ]
    },
    {
     "name": "stderr",
     "output_type": "stream",
     "text": [
      " 74%|████████████████████████████▉          | 1088/1467 [08:48<02:51,  2.21it/s]/home/dIOGOLOC/programs/anaconda3/lib/python3.10/site-packages/glidertools/load/seaglider.py:227: GliderToolsWarning: dives was not found in the files\n",
      "  warnings.warn(msg, GliderToolsWarning)\n"
     ]
    },
    {
     "name": "stdout",
     "output_type": "stream",
     "text": [
      "\n",
      "DIMENSION: sg_data_point\n",
      "{latitude, longitude, time, depth}\n"
     ]
    },
    {
     "name": "stderr",
     "output_type": "stream",
     "text": [
      " 74%|████████████████████████████▉          | 1089/1467 [08:48<02:48,  2.24it/s]/home/dIOGOLOC/programs/anaconda3/lib/python3.10/site-packages/glidertools/load/seaglider.py:227: GliderToolsWarning: dives was not found in the files\n",
      "  warnings.warn(msg, GliderToolsWarning)\n"
     ]
    },
    {
     "name": "stdout",
     "output_type": "stream",
     "text": [
      "\n",
      "DIMENSION: sg_data_point\n",
      "{latitude, longitude, time, depth}\n"
     ]
    },
    {
     "name": "stderr",
     "output_type": "stream",
     "text": [
      " 74%|████████████████████████████▉          | 1090/1467 [08:49<02:48,  2.24it/s]/home/dIOGOLOC/programs/anaconda3/lib/python3.10/site-packages/glidertools/load/seaglider.py:227: GliderToolsWarning: dives was not found in the files\n",
      "  warnings.warn(msg, GliderToolsWarning)\n"
     ]
    },
    {
     "name": "stdout",
     "output_type": "stream",
     "text": [
      "\n",
      "DIMENSION: sg_data_point\n",
      "{latitude, longitude, time, depth}\n"
     ]
    },
    {
     "name": "stderr",
     "output_type": "stream",
     "text": [
      " 74%|█████████████████████████████          | 1091/1467 [08:49<02:45,  2.28it/s]/home/dIOGOLOC/programs/anaconda3/lib/python3.10/site-packages/glidertools/load/seaglider.py:227: GliderToolsWarning: dives was not found in the files\n",
      "  warnings.warn(msg, GliderToolsWarning)\n"
     ]
    },
    {
     "name": "stdout",
     "output_type": "stream",
     "text": [
      "\n",
      "DIMENSION: sg_data_point\n",
      "{latitude, longitude, time, depth}\n"
     ]
    },
    {
     "name": "stderr",
     "output_type": "stream",
     "text": [
      " 74%|█████████████████████████████          | 1092/1467 [08:49<02:43,  2.29it/s]/home/dIOGOLOC/programs/anaconda3/lib/python3.10/site-packages/glidertools/load/seaglider.py:227: GliderToolsWarning: dives was not found in the files\n",
      "  warnings.warn(msg, GliderToolsWarning)\n"
     ]
    },
    {
     "name": "stdout",
     "output_type": "stream",
     "text": [
      "\n",
      "DIMENSION: sg_data_point\n",
      "{latitude, longitude, time, depth}\n"
     ]
    },
    {
     "name": "stderr",
     "output_type": "stream",
     "text": [
      " 75%|█████████████████████████████          | 1093/1467 [08:50<02:43,  2.29it/s]/home/dIOGOLOC/programs/anaconda3/lib/python3.10/site-packages/glidertools/load/seaglider.py:227: GliderToolsWarning: dives was not found in the files\n",
      "  warnings.warn(msg, GliderToolsWarning)\n"
     ]
    },
    {
     "name": "stdout",
     "output_type": "stream",
     "text": [
      "\n",
      "DIMENSION: sg_data_point\n",
      "{latitude, longitude, time, depth}\n"
     ]
    },
    {
     "name": "stderr",
     "output_type": "stream",
     "text": [
      " 75%|█████████████████████████████          | 1094/1467 [08:50<02:42,  2.30it/s]/home/dIOGOLOC/programs/anaconda3/lib/python3.10/site-packages/glidertools/load/seaglider.py:227: GliderToolsWarning: dives was not found in the files\n",
      "  warnings.warn(msg, GliderToolsWarning)\n"
     ]
    },
    {
     "name": "stdout",
     "output_type": "stream",
     "text": [
      "\n",
      "DIMENSION: sg_data_point\n",
      "{latitude, longitude, time, depth}\n"
     ]
    },
    {
     "name": "stderr",
     "output_type": "stream",
     "text": [
      " 75%|█████████████████████████████          | 1095/1467 [08:51<02:41,  2.31it/s]/home/dIOGOLOC/programs/anaconda3/lib/python3.10/site-packages/glidertools/load/seaglider.py:227: GliderToolsWarning: dives was not found in the files\n",
      "  warnings.warn(msg, GliderToolsWarning)\n"
     ]
    },
    {
     "name": "stdout",
     "output_type": "stream",
     "text": [
      "\n",
      "DIMENSION: sg_data_point\n",
      "{latitude, longitude, time, depth}\n"
     ]
    },
    {
     "name": "stderr",
     "output_type": "stream",
     "text": [
      " 75%|█████████████████████████████▏         | 1096/1467 [08:51<02:40,  2.30it/s]/home/dIOGOLOC/programs/anaconda3/lib/python3.10/site-packages/glidertools/load/seaglider.py:227: GliderToolsWarning: dives was not found in the files\n",
      "  warnings.warn(msg, GliderToolsWarning)\n"
     ]
    },
    {
     "name": "stdout",
     "output_type": "stream",
     "text": [
      "\n",
      "DIMENSION: sg_data_point\n",
      "{latitude, longitude, time, depth}\n"
     ]
    },
    {
     "name": "stderr",
     "output_type": "stream",
     "text": [
      " 75%|█████████████████████████████▏         | 1097/1467 [08:52<02:39,  2.31it/s]/home/dIOGOLOC/programs/anaconda3/lib/python3.10/site-packages/glidertools/load/seaglider.py:227: GliderToolsWarning: dives was not found in the files\n",
      "  warnings.warn(msg, GliderToolsWarning)\n"
     ]
    },
    {
     "name": "stdout",
     "output_type": "stream",
     "text": [
      "\n",
      "DIMENSION: sg_data_point\n",
      "{latitude, longitude, time, depth}\n"
     ]
    },
    {
     "name": "stderr",
     "output_type": "stream",
     "text": [
      " 75%|█████████████████████████████▏         | 1098/1467 [08:52<02:51,  2.16it/s]/home/dIOGOLOC/programs/anaconda3/lib/python3.10/site-packages/glidertools/load/seaglider.py:227: GliderToolsWarning: dives was not found in the files\n",
      "  warnings.warn(msg, GliderToolsWarning)\n"
     ]
    },
    {
     "name": "stdout",
     "output_type": "stream",
     "text": [
      "\n",
      "DIMENSION: sg_data_point\n",
      "{latitude, longitude, time, depth}\n"
     ]
    },
    {
     "name": "stderr",
     "output_type": "stream",
     "text": [
      " 75%|█████████████████████████████▏         | 1099/1467 [08:53<02:49,  2.17it/s]/home/dIOGOLOC/programs/anaconda3/lib/python3.10/site-packages/glidertools/load/seaglider.py:227: GliderToolsWarning: dives was not found in the files\n",
      "  warnings.warn(msg, GliderToolsWarning)\n"
     ]
    },
    {
     "name": "stdout",
     "output_type": "stream",
     "text": [
      "\n",
      "DIMENSION: sg_data_point\n",
      "{latitude, longitude, time, depth}\n"
     ]
    },
    {
     "name": "stderr",
     "output_type": "stream",
     "text": [
      " 75%|█████████████████████████████▏         | 1100/1467 [08:53<02:46,  2.20it/s]/home/dIOGOLOC/programs/anaconda3/lib/python3.10/site-packages/glidertools/load/seaglider.py:227: GliderToolsWarning: dives was not found in the files\n",
      "  warnings.warn(msg, GliderToolsWarning)\n"
     ]
    },
    {
     "name": "stdout",
     "output_type": "stream",
     "text": [
      "\n",
      "DIMENSION: sg_data_point\n",
      "{latitude, longitude, time, depth}\n"
     ]
    },
    {
     "name": "stderr",
     "output_type": "stream",
     "text": [
      " 75%|█████████████████████████████▎         | 1101/1467 [08:53<02:44,  2.23it/s]/home/dIOGOLOC/programs/anaconda3/lib/python3.10/site-packages/glidertools/load/seaglider.py:227: GliderToolsWarning: dives was not found in the files\n",
      "  warnings.warn(msg, GliderToolsWarning)\n"
     ]
    },
    {
     "name": "stdout",
     "output_type": "stream",
     "text": [
      "\n",
      "DIMENSION: sg_data_point\n",
      "{latitude, longitude, time, depth}\n"
     ]
    },
    {
     "name": "stderr",
     "output_type": "stream",
     "text": [
      " 75%|█████████████████████████████▎         | 1102/1467 [08:54<02:42,  2.25it/s]/home/dIOGOLOC/programs/anaconda3/lib/python3.10/site-packages/glidertools/load/seaglider.py:227: GliderToolsWarning: dives was not found in the files\n",
      "  warnings.warn(msg, GliderToolsWarning)\n"
     ]
    },
    {
     "name": "stdout",
     "output_type": "stream",
     "text": [
      "\n",
      "DIMENSION: sg_data_point\n",
      "{latitude, longitude, time, depth}\n"
     ]
    },
    {
     "name": "stderr",
     "output_type": "stream",
     "text": [
      " 75%|█████████████████████████████▎         | 1103/1467 [08:54<02:40,  2.27it/s]/home/dIOGOLOC/programs/anaconda3/lib/python3.10/site-packages/glidertools/load/seaglider.py:227: GliderToolsWarning: dives was not found in the files\n",
      "  warnings.warn(msg, GliderToolsWarning)\n"
     ]
    },
    {
     "name": "stdout",
     "output_type": "stream",
     "text": [
      "\n",
      "DIMENSION: sg_data_point\n",
      "{latitude, longitude, time, depth}\n"
     ]
    },
    {
     "name": "stderr",
     "output_type": "stream",
     "text": [
      " 75%|█████████████████████████████▎         | 1104/1467 [08:55<02:37,  2.30it/s]/home/dIOGOLOC/programs/anaconda3/lib/python3.10/site-packages/glidertools/load/seaglider.py:227: GliderToolsWarning: dives was not found in the files\n",
      "  warnings.warn(msg, GliderToolsWarning)\n"
     ]
    },
    {
     "name": "stdout",
     "output_type": "stream",
     "text": [
      "\n",
      "DIMENSION: sg_data_point\n",
      "{latitude, longitude, time, depth}\n"
     ]
    },
    {
     "name": "stderr",
     "output_type": "stream",
     "text": [
      " 75%|█████████████████████████████▍         | 1105/1467 [08:55<02:36,  2.31it/s]/home/dIOGOLOC/programs/anaconda3/lib/python3.10/site-packages/glidertools/load/seaglider.py:227: GliderToolsWarning: dives was not found in the files\n",
      "  warnings.warn(msg, GliderToolsWarning)\n"
     ]
    },
    {
     "name": "stdout",
     "output_type": "stream",
     "text": [
      "\n",
      "DIMENSION: sg_data_point\n",
      "{latitude, longitude, time, depth}\n"
     ]
    },
    {
     "name": "stderr",
     "output_type": "stream",
     "text": [
      " 75%|█████████████████████████████▍         | 1106/1467 [08:56<02:36,  2.31it/s]/home/dIOGOLOC/programs/anaconda3/lib/python3.10/site-packages/glidertools/load/seaglider.py:227: GliderToolsWarning: dives was not found in the files\n",
      "  warnings.warn(msg, GliderToolsWarning)\n"
     ]
    },
    {
     "name": "stdout",
     "output_type": "stream",
     "text": [
      "\n",
      "DIMENSION: sg_data_point\n",
      "{latitude, longitude, time, depth}\n"
     ]
    },
    {
     "name": "stderr",
     "output_type": "stream",
     "text": [
      " 75%|█████████████████████████████▍         | 1107/1467 [08:56<02:35,  2.32it/s]/home/dIOGOLOC/programs/anaconda3/lib/python3.10/site-packages/glidertools/load/seaglider.py:227: GliderToolsWarning: dives was not found in the files\n",
      "  warnings.warn(msg, GliderToolsWarning)\n"
     ]
    },
    {
     "name": "stdout",
     "output_type": "stream",
     "text": [
      "\n",
      "DIMENSION: sg_data_point\n",
      "{latitude, longitude, time, depth}\n"
     ]
    },
    {
     "name": "stderr",
     "output_type": "stream",
     "text": [
      " 76%|█████████████████████████████▍         | 1108/1467 [08:56<02:35,  2.30it/s]/home/dIOGOLOC/programs/anaconda3/lib/python3.10/site-packages/glidertools/load/seaglider.py:227: GliderToolsWarning: dives was not found in the files\n",
      "  warnings.warn(msg, GliderToolsWarning)\n"
     ]
    },
    {
     "name": "stdout",
     "output_type": "stream",
     "text": [
      "\n",
      "DIMENSION: sg_data_point\n",
      "{latitude, longitude, time, depth}\n"
     ]
    },
    {
     "name": "stderr",
     "output_type": "stream",
     "text": [
      " 76%|█████████████████████████████▍         | 1109/1467 [08:57<02:45,  2.17it/s]/home/dIOGOLOC/programs/anaconda3/lib/python3.10/site-packages/glidertools/load/seaglider.py:227: GliderToolsWarning: dives was not found in the files\n",
      "  warnings.warn(msg, GliderToolsWarning)\n"
     ]
    },
    {
     "name": "stdout",
     "output_type": "stream",
     "text": [
      "\n",
      "DIMENSION: sg_data_point\n",
      "{latitude, longitude, time, depth}\n"
     ]
    },
    {
     "name": "stderr",
     "output_type": "stream",
     "text": [
      " 76%|█████████████████████████████▌         | 1110/1467 [08:57<02:45,  2.16it/s]/home/dIOGOLOC/programs/anaconda3/lib/python3.10/site-packages/glidertools/load/seaglider.py:227: GliderToolsWarning: dives was not found in the files\n",
      "  warnings.warn(msg, GliderToolsWarning)\n"
     ]
    },
    {
     "name": "stdout",
     "output_type": "stream",
     "text": [
      "\n",
      "DIMENSION: sg_data_point\n",
      "{latitude, longitude, time, depth}\n"
     ]
    },
    {
     "name": "stderr",
     "output_type": "stream",
     "text": [
      " 76%|█████████████████████████████▌         | 1111/1467 [08:58<02:41,  2.20it/s]/home/dIOGOLOC/programs/anaconda3/lib/python3.10/site-packages/glidertools/load/seaglider.py:227: GliderToolsWarning: dives was not found in the files\n",
      "  warnings.warn(msg, GliderToolsWarning)\n"
     ]
    },
    {
     "name": "stdout",
     "output_type": "stream",
     "text": [
      "\n",
      "DIMENSION: sg_data_point\n",
      "{latitude, longitude, time, depth}\n"
     ]
    },
    {
     "name": "stderr",
     "output_type": "stream",
     "text": [
      " 76%|█████████████████████████████▌         | 1112/1467 [08:58<02:41,  2.20it/s]/home/dIOGOLOC/programs/anaconda3/lib/python3.10/site-packages/glidertools/load/seaglider.py:227: GliderToolsWarning: dives was not found in the files\n",
      "  warnings.warn(msg, GliderToolsWarning)\n"
     ]
    },
    {
     "name": "stdout",
     "output_type": "stream",
     "text": [
      "\n",
      "DIMENSION: sg_data_point\n",
      "{latitude, longitude, time, depth}\n"
     ]
    },
    {
     "name": "stderr",
     "output_type": "stream",
     "text": [
      " 76%|█████████████████████████████▌         | 1113/1467 [08:59<02:37,  2.25it/s]/home/dIOGOLOC/programs/anaconda3/lib/python3.10/site-packages/glidertools/load/seaglider.py:227: GliderToolsWarning: dives was not found in the files\n",
      "  warnings.warn(msg, GliderToolsWarning)\n"
     ]
    },
    {
     "name": "stdout",
     "output_type": "stream",
     "text": [
      "\n",
      "DIMENSION: sg_data_point\n",
      "{latitude, longitude, time, depth}\n"
     ]
    },
    {
     "name": "stderr",
     "output_type": "stream",
     "text": [
      " 76%|█████████████████████████████▌         | 1114/1467 [08:59<02:35,  2.27it/s]/home/dIOGOLOC/programs/anaconda3/lib/python3.10/site-packages/glidertools/load/seaglider.py:227: GliderToolsWarning: dives was not found in the files\n",
      "  warnings.warn(msg, GliderToolsWarning)\n"
     ]
    },
    {
     "name": "stdout",
     "output_type": "stream",
     "text": [
      "\n",
      "DIMENSION: sg_data_point\n",
      "{latitude, longitude, time, depth}\n"
     ]
    },
    {
     "name": "stderr",
     "output_type": "stream",
     "text": [
      " 76%|█████████████████████████████▋         | 1115/1467 [09:00<02:34,  2.28it/s]/home/dIOGOLOC/programs/anaconda3/lib/python3.10/site-packages/glidertools/load/seaglider.py:227: GliderToolsWarning: dives was not found in the files\n",
      "  warnings.warn(msg, GliderToolsWarning)\n"
     ]
    },
    {
     "name": "stdout",
     "output_type": "stream",
     "text": [
      "\n",
      "DIMENSION: sg_data_point\n",
      "{latitude, longitude, time, depth}\n"
     ]
    },
    {
     "name": "stderr",
     "output_type": "stream",
     "text": [
      " 76%|█████████████████████████████▋         | 1116/1467 [09:00<02:32,  2.30it/s]/home/dIOGOLOC/programs/anaconda3/lib/python3.10/site-packages/glidertools/load/seaglider.py:227: GliderToolsWarning: dives was not found in the files\n",
      "  warnings.warn(msg, GliderToolsWarning)\n"
     ]
    },
    {
     "name": "stdout",
     "output_type": "stream",
     "text": [
      "\n",
      "DIMENSION: sg_data_point\n",
      "{latitude, longitude, time, depth}\n"
     ]
    },
    {
     "name": "stderr",
     "output_type": "stream",
     "text": [
      " 76%|█████████████████████████████▋         | 1117/1467 [09:00<02:32,  2.30it/s]/home/dIOGOLOC/programs/anaconda3/lib/python3.10/site-packages/glidertools/load/seaglider.py:227: GliderToolsWarning: dives was not found in the files\n",
      "  warnings.warn(msg, GliderToolsWarning)\n",
      "/home/dIOGOLOC/programs/anaconda3/lib/python3.10/site-packages/glidertools/load/seaglider.py:227: GliderToolsWarning: latitude was not found in the files\n",
      "  warnings.warn(msg, GliderToolsWarning)\n",
      "/home/dIOGOLOC/programs/anaconda3/lib/python3.10/site-packages/glidertools/load/seaglider.py:227: GliderToolsWarning: longitude was not found in the files\n",
      "  warnings.warn(msg, GliderToolsWarning)\n"
     ]
    },
    {
     "name": "stdout",
     "output_type": "stream",
     "text": [
      "\n",
      "DIMENSION: sg_data_point\n",
      "{time, depth}\n"
     ]
    },
    {
     "name": "stderr",
     "output_type": "stream",
     "text": [
      " 76%|█████████████████████████████▋         | 1118/1467 [09:01<02:23,  2.43it/s]/home/dIOGOLOC/programs/anaconda3/lib/python3.10/site-packages/glidertools/load/seaglider.py:227: GliderToolsWarning: dives was not found in the files\n",
      "  warnings.warn(msg, GliderToolsWarning)\n"
     ]
    },
    {
     "name": "stdout",
     "output_type": "stream",
     "text": [
      "\n",
      "DIMENSION: sg_data_point\n",
      "{latitude, longitude, time, depth}\n"
     ]
    },
    {
     "name": "stderr",
     "output_type": "stream",
     "text": [
      " 76%|█████████████████████████████▋         | 1119/1467 [09:01<02:23,  2.42it/s]/home/dIOGOLOC/programs/anaconda3/lib/python3.10/site-packages/glidertools/load/seaglider.py:227: GliderToolsWarning: dives was not found in the files\n",
      "  warnings.warn(msg, GliderToolsWarning)\n"
     ]
    },
    {
     "name": "stdout",
     "output_type": "stream",
     "text": [
      "\n",
      "DIMENSION: sg_data_point\n",
      "{latitude, longitude, time, depth}\n"
     ]
    },
    {
     "name": "stderr",
     "output_type": "stream",
     "text": [
      " 76%|█████████████████████████████▊         | 1120/1467 [09:02<02:24,  2.39it/s]/home/dIOGOLOC/programs/anaconda3/lib/python3.10/site-packages/glidertools/load/seaglider.py:227: GliderToolsWarning: dives was not found in the files\n",
      "  warnings.warn(msg, GliderToolsWarning)\n"
     ]
    },
    {
     "name": "stdout",
     "output_type": "stream",
     "text": [
      "\n",
      "DIMENSION: sg_data_point\n",
      "{latitude, longitude, time, depth}\n"
     ]
    },
    {
     "name": "stderr",
     "output_type": "stream",
     "text": [
      " 76%|█████████████████████████████▊         | 1121/1467 [09:02<02:24,  2.40it/s]/home/dIOGOLOC/programs/anaconda3/lib/python3.10/site-packages/glidertools/load/seaglider.py:227: GliderToolsWarning: dives was not found in the files\n",
      "  warnings.warn(msg, GliderToolsWarning)\n"
     ]
    },
    {
     "name": "stdout",
     "output_type": "stream",
     "text": [
      "\n",
      "DIMENSION: sg_data_point\n",
      "{latitude, longitude, time, depth}\n"
     ]
    },
    {
     "name": "stderr",
     "output_type": "stream",
     "text": [
      " 76%|█████████████████████████████▊         | 1122/1467 [09:03<02:38,  2.17it/s]/home/dIOGOLOC/programs/anaconda3/lib/python3.10/site-packages/glidertools/load/seaglider.py:227: GliderToolsWarning: dives was not found in the files\n",
      "  warnings.warn(msg, GliderToolsWarning)\n"
     ]
    },
    {
     "name": "stdout",
     "output_type": "stream",
     "text": [
      "\n",
      "DIMENSION: sg_data_point\n",
      "{latitude, longitude, time, depth}\n"
     ]
    },
    {
     "name": "stderr",
     "output_type": "stream",
     "text": [
      " 77%|█████████████████████████████▊         | 1123/1467 [09:03<02:35,  2.21it/s]/home/dIOGOLOC/programs/anaconda3/lib/python3.10/site-packages/glidertools/load/seaglider.py:227: GliderToolsWarning: dives was not found in the files\n",
      "  warnings.warn(msg, GliderToolsWarning)\n"
     ]
    },
    {
     "name": "stdout",
     "output_type": "stream",
     "text": [
      "\n",
      "DIMENSION: sg_data_point\n",
      "{latitude, longitude, time, depth}\n"
     ]
    },
    {
     "name": "stderr",
     "output_type": "stream",
     "text": [
      " 77%|█████████████████████████████▉         | 1124/1467 [09:04<02:33,  2.23it/s]/home/dIOGOLOC/programs/anaconda3/lib/python3.10/site-packages/glidertools/load/seaglider.py:227: GliderToolsWarning: dives was not found in the files\n",
      "  warnings.warn(msg, GliderToolsWarning)\n"
     ]
    },
    {
     "name": "stdout",
     "output_type": "stream",
     "text": [
      "\n",
      "DIMENSION: sg_data_point\n",
      "{latitude, longitude, time, depth}\n"
     ]
    },
    {
     "name": "stderr",
     "output_type": "stream",
     "text": [
      " 77%|█████████████████████████████▉         | 1125/1467 [09:04<02:33,  2.23it/s]/home/dIOGOLOC/programs/anaconda3/lib/python3.10/site-packages/glidertools/load/seaglider.py:227: GliderToolsWarning: dives was not found in the files\n",
      "  warnings.warn(msg, GliderToolsWarning)\n"
     ]
    },
    {
     "name": "stdout",
     "output_type": "stream",
     "text": [
      "\n",
      "DIMENSION: sg_data_point\n",
      "{latitude, longitude, time, depth}\n"
     ]
    },
    {
     "name": "stderr",
     "output_type": "stream",
     "text": [
      " 77%|█████████████████████████████▉         | 1126/1467 [09:04<02:32,  2.24it/s]/home/dIOGOLOC/programs/anaconda3/lib/python3.10/site-packages/glidertools/load/seaglider.py:227: GliderToolsWarning: dives was not found in the files\n",
      "  warnings.warn(msg, GliderToolsWarning)\n"
     ]
    },
    {
     "name": "stdout",
     "output_type": "stream",
     "text": [
      "\n",
      "DIMENSION: sg_data_point\n",
      "{latitude, longitude, time, depth}\n"
     ]
    },
    {
     "name": "stderr",
     "output_type": "stream",
     "text": [
      " 77%|█████████████████████████████▉         | 1127/1467 [09:05<02:31,  2.24it/s]/home/dIOGOLOC/programs/anaconda3/lib/python3.10/site-packages/glidertools/load/seaglider.py:227: GliderToolsWarning: dives was not found in the files\n",
      "  warnings.warn(msg, GliderToolsWarning)\n"
     ]
    },
    {
     "name": "stdout",
     "output_type": "stream",
     "text": [
      "\n",
      "DIMENSION: sg_data_point\n",
      "{latitude, longitude, time, depth}\n"
     ]
    },
    {
     "name": "stderr",
     "output_type": "stream",
     "text": [
      " 77%|█████████████████████████████▉         | 1128/1467 [09:05<02:29,  2.27it/s]/home/dIOGOLOC/programs/anaconda3/lib/python3.10/site-packages/glidertools/load/seaglider.py:227: GliderToolsWarning: dives was not found in the files\n",
      "  warnings.warn(msg, GliderToolsWarning)\n"
     ]
    },
    {
     "name": "stdout",
     "output_type": "stream",
     "text": [
      "\n",
      "DIMENSION: sg_data_point\n",
      "{latitude, longitude, time, depth}\n"
     ]
    },
    {
     "name": "stderr",
     "output_type": "stream",
     "text": [
      " 77%|██████████████████████████████         | 1129/1467 [09:06<02:28,  2.27it/s]/home/dIOGOLOC/programs/anaconda3/lib/python3.10/site-packages/glidertools/load/seaglider.py:227: GliderToolsWarning: dives was not found in the files\n",
      "  warnings.warn(msg, GliderToolsWarning)\n"
     ]
    },
    {
     "name": "stdout",
     "output_type": "stream",
     "text": [
      "\n",
      "DIMENSION: sg_data_point\n",
      "{latitude, longitude, time, depth}\n"
     ]
    },
    {
     "name": "stderr",
     "output_type": "stream",
     "text": [
      " 77%|██████████████████████████████         | 1130/1467 [09:06<02:26,  2.30it/s]/home/dIOGOLOC/programs/anaconda3/lib/python3.10/site-packages/glidertools/load/seaglider.py:227: GliderToolsWarning: dives was not found in the files\n",
      "  warnings.warn(msg, GliderToolsWarning)\n"
     ]
    },
    {
     "name": "stdout",
     "output_type": "stream",
     "text": [
      "\n",
      "DIMENSION: sg_data_point\n",
      "{latitude, longitude, time, depth}\n"
     ]
    },
    {
     "name": "stderr",
     "output_type": "stream",
     "text": [
      " 77%|██████████████████████████████         | 1131/1467 [09:07<02:26,  2.30it/s]/home/dIOGOLOC/programs/anaconda3/lib/python3.10/site-packages/glidertools/load/seaglider.py:227: GliderToolsWarning: dives was not found in the files\n",
      "  warnings.warn(msg, GliderToolsWarning)\n"
     ]
    },
    {
     "name": "stdout",
     "output_type": "stream",
     "text": [
      "\n",
      "DIMENSION: sg_data_point\n",
      "{latitude, longitude, time, depth}\n"
     ]
    },
    {
     "name": "stderr",
     "output_type": "stream",
     "text": [
      " 77%|██████████████████████████████         | 1132/1467 [09:07<02:24,  2.31it/s]/home/dIOGOLOC/programs/anaconda3/lib/python3.10/site-packages/glidertools/load/seaglider.py:227: GliderToolsWarning: dives was not found in the files\n",
      "  warnings.warn(msg, GliderToolsWarning)\n"
     ]
    },
    {
     "name": "stdout",
     "output_type": "stream",
     "text": [
      "\n",
      "DIMENSION: sg_data_point\n",
      "{latitude, longitude, time, depth}\n"
     ]
    },
    {
     "name": "stderr",
     "output_type": "stream",
     "text": [
      " 77%|██████████████████████████████         | 1133/1467 [09:08<03:02,  1.83it/s]/home/dIOGOLOC/programs/anaconda3/lib/python3.10/site-packages/glidertools/load/seaglider.py:227: GliderToolsWarning: dives was not found in the files\n",
      "  warnings.warn(msg, GliderToolsWarning)\n"
     ]
    },
    {
     "name": "stdout",
     "output_type": "stream",
     "text": [
      "\n",
      "DIMENSION: sg_data_point\n",
      "{latitude, longitude, time, depth}\n"
     ]
    },
    {
     "name": "stderr",
     "output_type": "stream",
     "text": [
      " 77%|██████████████████████████████▏        | 1134/1467 [09:08<03:08,  1.77it/s]/home/dIOGOLOC/programs/anaconda3/lib/python3.10/site-packages/glidertools/load/seaglider.py:227: GliderToolsWarning: dives was not found in the files\n",
      "  warnings.warn(msg, GliderToolsWarning)\n"
     ]
    },
    {
     "name": "stdout",
     "output_type": "stream",
     "text": [
      "\n",
      "DIMENSION: sg_data_point\n",
      "{latitude, longitude, time, depth}\n"
     ]
    },
    {
     "name": "stderr",
     "output_type": "stream",
     "text": [
      " 77%|██████████████████████████████▏        | 1135/1467 [09:09<03:00,  1.84it/s]/home/dIOGOLOC/programs/anaconda3/lib/python3.10/site-packages/glidertools/load/seaglider.py:227: GliderToolsWarning: dives was not found in the files\n",
      "  warnings.warn(msg, GliderToolsWarning)\n"
     ]
    },
    {
     "name": "stdout",
     "output_type": "stream",
     "text": [
      "\n",
      "DIMENSION: sg_data_point\n",
      "{latitude, longitude, time, depth}\n"
     ]
    },
    {
     "name": "stderr",
     "output_type": "stream",
     "text": [
      " 77%|██████████████████████████████▏        | 1136/1467 [09:09<02:49,  1.95it/s]/home/dIOGOLOC/programs/anaconda3/lib/python3.10/site-packages/glidertools/load/seaglider.py:227: GliderToolsWarning: dives was not found in the files\n",
      "  warnings.warn(msg, GliderToolsWarning)\n"
     ]
    },
    {
     "name": "stdout",
     "output_type": "stream",
     "text": [
      "\n",
      "DIMENSION: sg_data_point\n",
      "{latitude, longitude, time, depth}\n"
     ]
    },
    {
     "name": "stderr",
     "output_type": "stream",
     "text": [
      " 78%|██████████████████████████████▏        | 1137/1467 [09:10<02:41,  2.05it/s]/home/dIOGOLOC/programs/anaconda3/lib/python3.10/site-packages/glidertools/load/seaglider.py:227: GliderToolsWarning: dives was not found in the files\n",
      "  warnings.warn(msg, GliderToolsWarning)\n"
     ]
    },
    {
     "name": "stdout",
     "output_type": "stream",
     "text": [
      "\n",
      "DIMENSION: sg_data_point\n",
      "{latitude, longitude, time, depth}\n"
     ]
    },
    {
     "name": "stderr",
     "output_type": "stream",
     "text": [
      " 78%|██████████████████████████████▎        | 1138/1467 [09:10<02:35,  2.12it/s]/home/dIOGOLOC/programs/anaconda3/lib/python3.10/site-packages/glidertools/load/seaglider.py:227: GliderToolsWarning: dives was not found in the files\n",
      "  warnings.warn(msg, GliderToolsWarning)\n"
     ]
    },
    {
     "name": "stdout",
     "output_type": "stream",
     "text": [
      "\n",
      "DIMENSION: sg_data_point\n",
      "{latitude, longitude, time, depth}\n"
     ]
    },
    {
     "name": "stderr",
     "output_type": "stream",
     "text": [
      " 78%|██████████████████████████████▎        | 1139/1467 [09:11<02:31,  2.17it/s]/home/dIOGOLOC/programs/anaconda3/lib/python3.10/site-packages/glidertools/load/seaglider.py:227: GliderToolsWarning: dives was not found in the files\n",
      "  warnings.warn(msg, GliderToolsWarning)\n"
     ]
    },
    {
     "name": "stdout",
     "output_type": "stream",
     "text": [
      "\n",
      "DIMENSION: sg_data_point\n",
      "{latitude, longitude, time, depth}\n"
     ]
    },
    {
     "name": "stderr",
     "output_type": "stream",
     "text": [
      " 78%|██████████████████████████████▎        | 1140/1467 [09:11<02:28,  2.20it/s]/home/dIOGOLOC/programs/anaconda3/lib/python3.10/site-packages/glidertools/load/seaglider.py:227: GliderToolsWarning: dives was not found in the files\n",
      "  warnings.warn(msg, GliderToolsWarning)\n"
     ]
    },
    {
     "name": "stdout",
     "output_type": "stream",
     "text": [
      "\n",
      "DIMENSION: sg_data_point\n",
      "{latitude, longitude, time, depth}\n"
     ]
    },
    {
     "name": "stderr",
     "output_type": "stream",
     "text": [
      " 78%|██████████████████████████████▎        | 1141/1467 [09:12<02:27,  2.21it/s]/home/dIOGOLOC/programs/anaconda3/lib/python3.10/site-packages/glidertools/load/seaglider.py:227: GliderToolsWarning: dives was not found in the files\n",
      "  warnings.warn(msg, GliderToolsWarning)\n"
     ]
    },
    {
     "name": "stdout",
     "output_type": "stream",
     "text": [
      "\n",
      "DIMENSION: sg_data_point\n",
      "{latitude, longitude, time, depth}\n"
     ]
    },
    {
     "name": "stderr",
     "output_type": "stream",
     "text": [
      " 78%|██████████████████████████████▎        | 1142/1467 [09:12<02:24,  2.24it/s]/home/dIOGOLOC/programs/anaconda3/lib/python3.10/site-packages/glidertools/load/seaglider.py:227: GliderToolsWarning: dives was not found in the files\n",
      "  warnings.warn(msg, GliderToolsWarning)\n"
     ]
    },
    {
     "name": "stdout",
     "output_type": "stream",
     "text": [
      "\n",
      "DIMENSION: sg_data_point\n",
      "{latitude, longitude, time, depth}\n"
     ]
    },
    {
     "name": "stderr",
     "output_type": "stream",
     "text": [
      " 78%|██████████████████████████████▍        | 1143/1467 [09:12<02:22,  2.27it/s]/home/dIOGOLOC/programs/anaconda3/lib/python3.10/site-packages/glidertools/load/seaglider.py:227: GliderToolsWarning: dives was not found in the files\n",
      "  warnings.warn(msg, GliderToolsWarning)\n"
     ]
    },
    {
     "name": "stdout",
     "output_type": "stream",
     "text": [
      "\n",
      "DIMENSION: sg_data_point\n",
      "{latitude, longitude, time, depth}\n"
     ]
    },
    {
     "name": "stderr",
     "output_type": "stream",
     "text": [
      " 78%|██████████████████████████████▍        | 1144/1467 [09:13<02:33,  2.11it/s]/home/dIOGOLOC/programs/anaconda3/lib/python3.10/site-packages/glidertools/load/seaglider.py:227: GliderToolsWarning: dives was not found in the files\n",
      "  warnings.warn(msg, GliderToolsWarning)\n"
     ]
    },
    {
     "name": "stdout",
     "output_type": "stream",
     "text": [
      "\n",
      "DIMENSION: sg_data_point\n",
      "{latitude, longitude, time, depth}\n"
     ]
    },
    {
     "name": "stderr",
     "output_type": "stream",
     "text": [
      " 78%|██████████████████████████████▍        | 1145/1467 [09:13<02:28,  2.17it/s]/home/dIOGOLOC/programs/anaconda3/lib/python3.10/site-packages/glidertools/load/seaglider.py:227: GliderToolsWarning: dives was not found in the files\n",
      "  warnings.warn(msg, GliderToolsWarning)\n"
     ]
    },
    {
     "name": "stdout",
     "output_type": "stream",
     "text": [
      "\n",
      "DIMENSION: sg_data_point\n",
      "{latitude, longitude, time, depth}\n"
     ]
    },
    {
     "name": "stderr",
     "output_type": "stream",
     "text": [
      " 78%|██████████████████████████████▍        | 1146/1467 [09:14<02:24,  2.22it/s]/home/dIOGOLOC/programs/anaconda3/lib/python3.10/site-packages/glidertools/load/seaglider.py:227: GliderToolsWarning: dives was not found in the files\n",
      "  warnings.warn(msg, GliderToolsWarning)\n"
     ]
    },
    {
     "name": "stdout",
     "output_type": "stream",
     "text": [
      "\n",
      "DIMENSION: sg_data_point\n",
      "{latitude, longitude, time, depth}\n"
     ]
    },
    {
     "name": "stderr",
     "output_type": "stream",
     "text": [
      " 78%|██████████████████████████████▍        | 1147/1467 [09:14<02:21,  2.26it/s]/home/dIOGOLOC/programs/anaconda3/lib/python3.10/site-packages/glidertools/load/seaglider.py:227: GliderToolsWarning: dives was not found in the files\n",
      "  warnings.warn(msg, GliderToolsWarning)\n"
     ]
    },
    {
     "name": "stdout",
     "output_type": "stream",
     "text": [
      "\n",
      "DIMENSION: sg_data_point\n",
      "{latitude, longitude, time, depth}\n"
     ]
    },
    {
     "name": "stderr",
     "output_type": "stream",
     "text": [
      " 78%|██████████████████████████████▌        | 1148/1467 [09:15<02:19,  2.28it/s]/home/dIOGOLOC/programs/anaconda3/lib/python3.10/site-packages/glidertools/load/seaglider.py:227: GliderToolsWarning: dives was not found in the files\n",
      "  warnings.warn(msg, GliderToolsWarning)\n"
     ]
    },
    {
     "name": "stdout",
     "output_type": "stream",
     "text": [
      "\n",
      "DIMENSION: sg_data_point\n",
      "{latitude, longitude, time, depth}\n"
     ]
    },
    {
     "name": "stderr",
     "output_type": "stream",
     "text": [
      " 78%|██████████████████████████████▌        | 1149/1467 [09:15<02:18,  2.29it/s]/home/dIOGOLOC/programs/anaconda3/lib/python3.10/site-packages/glidertools/load/seaglider.py:227: GliderToolsWarning: dives was not found in the files\n",
      "  warnings.warn(msg, GliderToolsWarning)\n"
     ]
    },
    {
     "name": "stdout",
     "output_type": "stream",
     "text": [
      "\n",
      "DIMENSION: sg_data_point\n",
      "{latitude, longitude, time, depth}\n"
     ]
    },
    {
     "name": "stderr",
     "output_type": "stream",
     "text": [
      " 78%|██████████████████████████████▌        | 1150/1467 [09:16<02:18,  2.29it/s]/home/dIOGOLOC/programs/anaconda3/lib/python3.10/site-packages/glidertools/load/seaglider.py:227: GliderToolsWarning: dives was not found in the files\n",
      "  warnings.warn(msg, GliderToolsWarning)\n"
     ]
    },
    {
     "name": "stdout",
     "output_type": "stream",
     "text": [
      "\n",
      "DIMENSION: sg_data_point\n",
      "{latitude, longitude, time, depth}\n"
     ]
    },
    {
     "name": "stderr",
     "output_type": "stream",
     "text": [
      " 78%|██████████████████████████████▌        | 1151/1467 [09:16<02:17,  2.30it/s]/home/dIOGOLOC/programs/anaconda3/lib/python3.10/site-packages/glidertools/load/seaglider.py:227: GliderToolsWarning: dives was not found in the files\n",
      "  warnings.warn(msg, GliderToolsWarning)\n"
     ]
    },
    {
     "name": "stdout",
     "output_type": "stream",
     "text": [
      "\n",
      "DIMENSION: sg_data_point\n",
      "{latitude, longitude, time, depth}\n"
     ]
    },
    {
     "name": "stderr",
     "output_type": "stream",
     "text": [
      " 79%|██████████████████████████████▋        | 1152/1467 [09:16<02:17,  2.30it/s]/home/dIOGOLOC/programs/anaconda3/lib/python3.10/site-packages/glidertools/load/seaglider.py:227: GliderToolsWarning: dives was not found in the files\n",
      "  warnings.warn(msg, GliderToolsWarning)\n"
     ]
    },
    {
     "name": "stdout",
     "output_type": "stream",
     "text": [
      "\n",
      "DIMENSION: sg_data_point\n",
      "{latitude, longitude, time, depth}\n"
     ]
    },
    {
     "name": "stderr",
     "output_type": "stream",
     "text": [
      " 79%|██████████████████████████████▋        | 1153/1467 [09:17<02:15,  2.32it/s]/home/dIOGOLOC/programs/anaconda3/lib/python3.10/site-packages/glidertools/load/seaglider.py:227: GliderToolsWarning: dives was not found in the files\n",
      "  warnings.warn(msg, GliderToolsWarning)\n"
     ]
    },
    {
     "name": "stdout",
     "output_type": "stream",
     "text": [
      "\n",
      "DIMENSION: sg_data_point\n",
      "{latitude, longitude, time, depth}\n"
     ]
    },
    {
     "name": "stderr",
     "output_type": "stream",
     "text": [
      " 79%|██████████████████████████████▋        | 1154/1467 [09:17<02:15,  2.32it/s]/home/dIOGOLOC/programs/anaconda3/lib/python3.10/site-packages/glidertools/load/seaglider.py:227: GliderToolsWarning: dives was not found in the files\n",
      "  warnings.warn(msg, GliderToolsWarning)\n"
     ]
    },
    {
     "name": "stdout",
     "output_type": "stream",
     "text": [
      "\n",
      "DIMENSION: sg_data_point\n",
      "{latitude, longitude, time, depth}\n"
     ]
    },
    {
     "name": "stderr",
     "output_type": "stream",
     "text": [
      " 79%|██████████████████████████████▋        | 1155/1467 [09:18<02:14,  2.32it/s]/home/dIOGOLOC/programs/anaconda3/lib/python3.10/site-packages/glidertools/load/seaglider.py:227: GliderToolsWarning: dives was not found in the files\n",
      "  warnings.warn(msg, GliderToolsWarning)\n"
     ]
    },
    {
     "name": "stdout",
     "output_type": "stream",
     "text": [
      "\n",
      "DIMENSION: sg_data_point\n",
      "{latitude, longitude, time, depth}\n"
     ]
    },
    {
     "name": "stderr",
     "output_type": "stream",
     "text": [
      " 79%|██████████████████████████████▋        | 1156/1467 [09:18<02:26,  2.13it/s]/home/dIOGOLOC/programs/anaconda3/lib/python3.10/site-packages/glidertools/load/seaglider.py:227: GliderToolsWarning: dives was not found in the files\n",
      "  warnings.warn(msg, GliderToolsWarning)\n"
     ]
    },
    {
     "name": "stdout",
     "output_type": "stream",
     "text": [
      "\n",
      "DIMENSION: sg_data_point\n",
      "{latitude, longitude, time, depth}\n"
     ]
    },
    {
     "name": "stderr",
     "output_type": "stream",
     "text": [
      " 79%|██████████████████████████████▊        | 1157/1467 [09:19<02:25,  2.12it/s]/home/dIOGOLOC/programs/anaconda3/lib/python3.10/site-packages/glidertools/load/seaglider.py:227: GliderToolsWarning: dives was not found in the files\n",
      "  warnings.warn(msg, GliderToolsWarning)\n"
     ]
    },
    {
     "name": "stdout",
     "output_type": "stream",
     "text": [
      "\n",
      "DIMENSION: sg_data_point\n",
      "{latitude, longitude, time, depth}\n"
     ]
    },
    {
     "name": "stderr",
     "output_type": "stream",
     "text": [
      " 79%|██████████████████████████████▊        | 1158/1467 [09:19<02:21,  2.18it/s]/home/dIOGOLOC/programs/anaconda3/lib/python3.10/site-packages/glidertools/load/seaglider.py:227: GliderToolsWarning: dives was not found in the files\n",
      "  warnings.warn(msg, GliderToolsWarning)\n"
     ]
    },
    {
     "name": "stdout",
     "output_type": "stream",
     "text": [
      "\n",
      "DIMENSION: sg_data_point\n",
      "{latitude, longitude, time, depth}\n"
     ]
    },
    {
     "name": "stderr",
     "output_type": "stream",
     "text": [
      " 79%|██████████████████████████████▊        | 1159/1467 [09:20<02:18,  2.22it/s]/home/dIOGOLOC/programs/anaconda3/lib/python3.10/site-packages/glidertools/load/seaglider.py:227: GliderToolsWarning: dives was not found in the files\n",
      "  warnings.warn(msg, GliderToolsWarning)\n"
     ]
    },
    {
     "name": "stdout",
     "output_type": "stream",
     "text": [
      "\n",
      "DIMENSION: sg_data_point\n",
      "{latitude, longitude, time, depth}\n"
     ]
    },
    {
     "name": "stderr",
     "output_type": "stream",
     "text": [
      " 79%|██████████████████████████████▊        | 1160/1467 [09:20<02:15,  2.26it/s]/home/dIOGOLOC/programs/anaconda3/lib/python3.10/site-packages/glidertools/load/seaglider.py:227: GliderToolsWarning: dives was not found in the files\n",
      "  warnings.warn(msg, GliderToolsWarning)\n"
     ]
    },
    {
     "name": "stdout",
     "output_type": "stream",
     "text": [
      "\n",
      "DIMENSION: sg_data_point\n",
      "{latitude, longitude, time, depth}\n"
     ]
    },
    {
     "name": "stderr",
     "output_type": "stream",
     "text": [
      " 79%|██████████████████████████████▊        | 1161/1467 [09:20<02:15,  2.26it/s]/home/dIOGOLOC/programs/anaconda3/lib/python3.10/site-packages/glidertools/load/seaglider.py:227: GliderToolsWarning: dives was not found in the files\n",
      "  warnings.warn(msg, GliderToolsWarning)\n"
     ]
    },
    {
     "name": "stdout",
     "output_type": "stream",
     "text": [
      "\n",
      "DIMENSION: sg_data_point\n",
      "{latitude, longitude, time, depth}\n"
     ]
    },
    {
     "name": "stderr",
     "output_type": "stream",
     "text": [
      " 79%|██████████████████████████████▉        | 1162/1467 [09:21<02:15,  2.25it/s]/home/dIOGOLOC/programs/anaconda3/lib/python3.10/site-packages/glidertools/load/seaglider.py:227: GliderToolsWarning: dives was not found in the files\n",
      "  warnings.warn(msg, GliderToolsWarning)\n"
     ]
    },
    {
     "name": "stdout",
     "output_type": "stream",
     "text": [
      "\n",
      "DIMENSION: sg_data_point\n",
      "{latitude, longitude, time, depth}\n"
     ]
    },
    {
     "name": "stderr",
     "output_type": "stream",
     "text": [
      " 79%|██████████████████████████████▉        | 1163/1467 [09:21<02:13,  2.27it/s]/home/dIOGOLOC/programs/anaconda3/lib/python3.10/site-packages/glidertools/load/seaglider.py:227: GliderToolsWarning: dives was not found in the files\n",
      "  warnings.warn(msg, GliderToolsWarning)\n"
     ]
    },
    {
     "name": "stdout",
     "output_type": "stream",
     "text": [
      "\n",
      "DIMENSION: sg_data_point\n",
      "{latitude, longitude, time, depth}\n"
     ]
    },
    {
     "name": "stderr",
     "output_type": "stream",
     "text": [
      " 79%|██████████████████████████████▉        | 1164/1467 [09:22<02:13,  2.27it/s]/home/dIOGOLOC/programs/anaconda3/lib/python3.10/site-packages/glidertools/load/seaglider.py:227: GliderToolsWarning: dives was not found in the files\n",
      "  warnings.warn(msg, GliderToolsWarning)\n"
     ]
    },
    {
     "name": "stdout",
     "output_type": "stream",
     "text": [
      "\n",
      "DIMENSION: sg_data_point\n",
      "{latitude, longitude, time, depth}\n"
     ]
    },
    {
     "name": "stderr",
     "output_type": "stream",
     "text": [
      " 79%|██████████████████████████████▉        | 1165/1467 [09:22<02:11,  2.29it/s]/home/dIOGOLOC/programs/anaconda3/lib/python3.10/site-packages/glidertools/load/seaglider.py:227: GliderToolsWarning: dives was not found in the files\n",
      "  warnings.warn(msg, GliderToolsWarning)\n"
     ]
    },
    {
     "name": "stdout",
     "output_type": "stream",
     "text": [
      "\n",
      "DIMENSION: sg_data_point\n",
      "{latitude, longitude, time, depth}\n"
     ]
    },
    {
     "name": "stderr",
     "output_type": "stream",
     "text": [
      " 79%|██████████████████████████████▉        | 1166/1467 [09:23<02:13,  2.26it/s]/home/dIOGOLOC/programs/anaconda3/lib/python3.10/site-packages/glidertools/load/seaglider.py:227: GliderToolsWarning: dives was not found in the files\n",
      "  warnings.warn(msg, GliderToolsWarning)\n"
     ]
    },
    {
     "name": "stdout",
     "output_type": "stream",
     "text": [
      "\n",
      "DIMENSION: sg_data_point\n",
      "{latitude, longitude, time, depth}\n"
     ]
    },
    {
     "name": "stderr",
     "output_type": "stream",
     "text": [
      " 80%|███████████████████████████████        | 1167/1467 [09:23<02:13,  2.25it/s]/home/dIOGOLOC/programs/anaconda3/lib/python3.10/site-packages/glidertools/load/seaglider.py:227: GliderToolsWarning: dives was not found in the files\n",
      "  warnings.warn(msg, GliderToolsWarning)\n"
     ]
    },
    {
     "name": "stdout",
     "output_type": "stream",
     "text": [
      "\n",
      "DIMENSION: sg_data_point\n",
      "{latitude, longitude, time, depth}\n"
     ]
    },
    {
     "name": "stderr",
     "output_type": "stream",
     "text": [
      " 80%|███████████████████████████████        | 1168/1467 [09:24<02:21,  2.12it/s]/home/dIOGOLOC/programs/anaconda3/lib/python3.10/site-packages/glidertools/load/seaglider.py:227: GliderToolsWarning: dives was not found in the files\n",
      "  warnings.warn(msg, GliderToolsWarning)\n"
     ]
    },
    {
     "name": "stdout",
     "output_type": "stream",
     "text": [
      "\n",
      "DIMENSION: sg_data_point\n",
      "{latitude, longitude, time, depth}\n"
     ]
    },
    {
     "name": "stderr",
     "output_type": "stream",
     "text": [
      " 80%|███████████████████████████████        | 1169/1467 [09:24<02:17,  2.17it/s]/home/dIOGOLOC/programs/anaconda3/lib/python3.10/site-packages/glidertools/load/seaglider.py:227: GliderToolsWarning: dives was not found in the files\n",
      "  warnings.warn(msg, GliderToolsWarning)\n"
     ]
    },
    {
     "name": "stdout",
     "output_type": "stream",
     "text": [
      "\n",
      "DIMENSION: sg_data_point\n",
      "{latitude, longitude, time, depth}\n"
     ]
    },
    {
     "name": "stderr",
     "output_type": "stream",
     "text": [
      " 80%|███████████████████████████████        | 1170/1467 [09:25<02:15,  2.19it/s]/home/dIOGOLOC/programs/anaconda3/lib/python3.10/site-packages/glidertools/load/seaglider.py:227: GliderToolsWarning: dives was not found in the files\n",
      "  warnings.warn(msg, GliderToolsWarning)\n"
     ]
    },
    {
     "name": "stdout",
     "output_type": "stream",
     "text": [
      "\n",
      "DIMENSION: sg_data_point\n",
      "{latitude, longitude, time, depth}\n"
     ]
    },
    {
     "name": "stderr",
     "output_type": "stream",
     "text": [
      " 80%|███████████████████████████████▏       | 1171/1467 [09:25<02:16,  2.17it/s]/home/dIOGOLOC/programs/anaconda3/lib/python3.10/site-packages/glidertools/load/seaglider.py:227: GliderToolsWarning: dives was not found in the files\n",
      "  warnings.warn(msg, GliderToolsWarning)\n"
     ]
    },
    {
     "name": "stdout",
     "output_type": "stream",
     "text": [
      "\n",
      "DIMENSION: sg_data_point\n",
      "{latitude, longitude, time, depth}\n"
     ]
    },
    {
     "name": "stderr",
     "output_type": "stream",
     "text": [
      " 80%|███████████████████████████████▏       | 1172/1467 [09:25<02:14,  2.19it/s]/home/dIOGOLOC/programs/anaconda3/lib/python3.10/site-packages/glidertools/load/seaglider.py:227: GliderToolsWarning: dives was not found in the files\n",
      "  warnings.warn(msg, GliderToolsWarning)\n"
     ]
    },
    {
     "name": "stdout",
     "output_type": "stream",
     "text": [
      "\n",
      "DIMENSION: sg_data_point\n",
      "{latitude, longitude, time, depth}\n"
     ]
    },
    {
     "name": "stderr",
     "output_type": "stream",
     "text": [
      " 80%|███████████████████████████████▏       | 1173/1467 [09:26<02:14,  2.19it/s]/home/dIOGOLOC/programs/anaconda3/lib/python3.10/site-packages/glidertools/load/seaglider.py:227: GliderToolsWarning: dives was not found in the files\n",
      "  warnings.warn(msg, GliderToolsWarning)\n"
     ]
    },
    {
     "name": "stdout",
     "output_type": "stream",
     "text": [
      "\n",
      "DIMENSION: sg_data_point\n",
      "{latitude, longitude, time, depth}\n"
     ]
    },
    {
     "name": "stderr",
     "output_type": "stream",
     "text": [
      " 80%|███████████████████████████████▏       | 1174/1467 [09:26<02:17,  2.13it/s]/home/dIOGOLOC/programs/anaconda3/lib/python3.10/site-packages/glidertools/load/seaglider.py:227: GliderToolsWarning: dives was not found in the files\n",
      "  warnings.warn(msg, GliderToolsWarning)\n"
     ]
    },
    {
     "name": "stdout",
     "output_type": "stream",
     "text": [
      "\n",
      "DIMENSION: sg_data_point\n",
      "{latitude, longitude, time, depth}\n"
     ]
    },
    {
     "name": "stderr",
     "output_type": "stream",
     "text": [
      " 80%|███████████████████████████████▏       | 1175/1467 [09:27<02:16,  2.14it/s]/home/dIOGOLOC/programs/anaconda3/lib/python3.10/site-packages/glidertools/load/seaglider.py:227: GliderToolsWarning: dives was not found in the files\n",
      "  warnings.warn(msg, GliderToolsWarning)\n"
     ]
    },
    {
     "name": "stdout",
     "output_type": "stream",
     "text": [
      "\n",
      "DIMENSION: sg_data_point\n",
      "{latitude, longitude, time, depth}\n"
     ]
    },
    {
     "name": "stderr",
     "output_type": "stream",
     "text": [
      " 80%|███████████████████████████████▎       | 1176/1467 [09:27<02:16,  2.12it/s]/home/dIOGOLOC/programs/anaconda3/lib/python3.10/site-packages/glidertools/load/seaglider.py:227: GliderToolsWarning: dives was not found in the files\n",
      "  warnings.warn(msg, GliderToolsWarning)\n"
     ]
    },
    {
     "name": "stdout",
     "output_type": "stream",
     "text": [
      "\n",
      "DIMENSION: sg_data_point\n",
      "{latitude, longitude, time, depth}\n"
     ]
    },
    {
     "name": "stderr",
     "output_type": "stream",
     "text": [
      " 80%|███████████████████████████████▎       | 1177/1467 [09:28<02:17,  2.10it/s]/home/dIOGOLOC/programs/anaconda3/lib/python3.10/site-packages/glidertools/load/seaglider.py:227: GliderToolsWarning: dives was not found in the files\n",
      "  warnings.warn(msg, GliderToolsWarning)\n"
     ]
    },
    {
     "name": "stdout",
     "output_type": "stream",
     "text": [
      "\n",
      "DIMENSION: sg_data_point\n",
      "{latitude, longitude, time, depth}\n"
     ]
    },
    {
     "name": "stderr",
     "output_type": "stream",
     "text": [
      " 80%|███████████████████████████████▎       | 1178/1467 [09:28<02:13,  2.16it/s]/home/dIOGOLOC/programs/anaconda3/lib/python3.10/site-packages/glidertools/load/seaglider.py:227: GliderToolsWarning: dives was not found in the files\n",
      "  warnings.warn(msg, GliderToolsWarning)\n"
     ]
    },
    {
     "name": "stdout",
     "output_type": "stream",
     "text": [
      "\n",
      "DIMENSION: sg_data_point\n",
      "{latitude, longitude, time, depth}\n"
     ]
    },
    {
     "name": "stderr",
     "output_type": "stream",
     "text": [
      " 80%|███████████████████████████████▎       | 1179/1467 [09:29<02:11,  2.20it/s]/home/dIOGOLOC/programs/anaconda3/lib/python3.10/site-packages/glidertools/load/seaglider.py:227: GliderToolsWarning: dives was not found in the files\n",
      "  warnings.warn(msg, GliderToolsWarning)\n"
     ]
    },
    {
     "name": "stdout",
     "output_type": "stream",
     "text": [
      "\n",
      "DIMENSION: sg_data_point\n",
      "{latitude, longitude, time, depth}\n"
     ]
    },
    {
     "name": "stderr",
     "output_type": "stream",
     "text": [
      " 80%|███████████████████████████████▎       | 1180/1467 [09:29<02:21,  2.03it/s]/home/dIOGOLOC/programs/anaconda3/lib/python3.10/site-packages/glidertools/load/seaglider.py:227: GliderToolsWarning: dives was not found in the files\n",
      "  warnings.warn(msg, GliderToolsWarning)\n"
     ]
    },
    {
     "name": "stdout",
     "output_type": "stream",
     "text": [
      "\n",
      "DIMENSION: sg_data_point\n",
      "{latitude, longitude, time, depth}\n"
     ]
    },
    {
     "name": "stderr",
     "output_type": "stream",
     "text": [
      " 81%|███████████████████████████████▍       | 1181/1467 [09:30<02:20,  2.04it/s]/home/dIOGOLOC/programs/anaconda3/lib/python3.10/site-packages/glidertools/load/seaglider.py:227: GliderToolsWarning: dives was not found in the files\n",
      "  warnings.warn(msg, GliderToolsWarning)\n"
     ]
    },
    {
     "name": "stdout",
     "output_type": "stream",
     "text": [
      "\n",
      "DIMENSION: sg_data_point\n",
      "{latitude, longitude, time, depth}\n"
     ]
    },
    {
     "name": "stderr",
     "output_type": "stream",
     "text": [
      " 81%|███████████████████████████████▍       | 1182/1467 [09:30<02:19,  2.04it/s]/home/dIOGOLOC/programs/anaconda3/lib/python3.10/site-packages/glidertools/load/seaglider.py:227: GliderToolsWarning: dives was not found in the files\n",
      "  warnings.warn(msg, GliderToolsWarning)\n"
     ]
    },
    {
     "name": "stdout",
     "output_type": "stream",
     "text": [
      "\n",
      "DIMENSION: sg_data_point\n",
      "{latitude, longitude, time, depth}\n"
     ]
    },
    {
     "name": "stderr",
     "output_type": "stream",
     "text": [
      " 81%|███████████████████████████████▍       | 1183/1467 [09:31<02:15,  2.09it/s]/home/dIOGOLOC/programs/anaconda3/lib/python3.10/site-packages/glidertools/load/seaglider.py:227: GliderToolsWarning: dives was not found in the files\n",
      "  warnings.warn(msg, GliderToolsWarning)\n"
     ]
    },
    {
     "name": "stdout",
     "output_type": "stream",
     "text": [
      "\n",
      "DIMENSION: sg_data_point\n",
      "{latitude, longitude, time, depth}\n"
     ]
    },
    {
     "name": "stderr",
     "output_type": "stream",
     "text": [
      " 81%|███████████████████████████████▍       | 1184/1467 [09:31<02:16,  2.07it/s]/home/dIOGOLOC/programs/anaconda3/lib/python3.10/site-packages/glidertools/load/seaglider.py:227: GliderToolsWarning: dives was not found in the files\n",
      "  warnings.warn(msg, GliderToolsWarning)\n"
     ]
    },
    {
     "name": "stdout",
     "output_type": "stream",
     "text": [
      "\n",
      "DIMENSION: sg_data_point\n",
      "{latitude, longitude, time, depth}\n"
     ]
    },
    {
     "name": "stderr",
     "output_type": "stream",
     "text": [
      " 81%|███████████████████████████████▌       | 1185/1467 [09:32<02:20,  2.01it/s]/home/dIOGOLOC/programs/anaconda3/lib/python3.10/site-packages/glidertools/load/seaglider.py:227: GliderToolsWarning: dives was not found in the files\n",
      "  warnings.warn(msg, GliderToolsWarning)\n"
     ]
    },
    {
     "name": "stdout",
     "output_type": "stream",
     "text": [
      "\n",
      "DIMENSION: sg_data_point\n",
      "{latitude, longitude, time, depth}\n"
     ]
    },
    {
     "name": "stderr",
     "output_type": "stream",
     "text": [
      " 81%|███████████████████████████████▌       | 1186/1467 [09:32<02:22,  1.97it/s]/home/dIOGOLOC/programs/anaconda3/lib/python3.10/site-packages/glidertools/load/seaglider.py:227: GliderToolsWarning: dives was not found in the files\n",
      "  warnings.warn(msg, GliderToolsWarning)\n"
     ]
    },
    {
     "name": "stdout",
     "output_type": "stream",
     "text": [
      "\n",
      "DIMENSION: sg_data_point\n",
      "{latitude, longitude, time, depth}\n"
     ]
    },
    {
     "name": "stderr",
     "output_type": "stream",
     "text": [
      " 81%|███████████████████████████████▌       | 1187/1467 [09:33<02:22,  1.97it/s]/home/dIOGOLOC/programs/anaconda3/lib/python3.10/site-packages/glidertools/load/seaglider.py:227: GliderToolsWarning: dives was not found in the files\n",
      "  warnings.warn(msg, GliderToolsWarning)\n"
     ]
    },
    {
     "name": "stdout",
     "output_type": "stream",
     "text": [
      "\n",
      "DIMENSION: sg_data_point\n",
      "{latitude, longitude, time, depth}\n"
     ]
    },
    {
     "name": "stderr",
     "output_type": "stream",
     "text": [
      " 81%|███████████████████████████████▌       | 1188/1467 [09:33<02:20,  1.99it/s]/home/dIOGOLOC/programs/anaconda3/lib/python3.10/site-packages/glidertools/load/seaglider.py:227: GliderToolsWarning: dives was not found in the files\n",
      "  warnings.warn(msg, GliderToolsWarning)\n"
     ]
    },
    {
     "name": "stdout",
     "output_type": "stream",
     "text": [
      "\n",
      "DIMENSION: sg_data_point\n",
      "{latitude, longitude, time, depth}\n"
     ]
    },
    {
     "name": "stderr",
     "output_type": "stream",
     "text": [
      " 81%|███████████████████████████████▌       | 1189/1467 [09:34<02:22,  1.95it/s]/home/dIOGOLOC/programs/anaconda3/lib/python3.10/site-packages/glidertools/load/seaglider.py:227: GliderToolsWarning: dives was not found in the files\n",
      "  warnings.warn(msg, GliderToolsWarning)\n"
     ]
    },
    {
     "name": "stdout",
     "output_type": "stream",
     "text": [
      "\n",
      "DIMENSION: sg_data_point\n",
      "{latitude, longitude, time, depth}\n"
     ]
    },
    {
     "name": "stderr",
     "output_type": "stream",
     "text": [
      " 81%|███████████████████████████████▋       | 1190/1467 [09:34<02:23,  1.93it/s]/home/dIOGOLOC/programs/anaconda3/lib/python3.10/site-packages/glidertools/load/seaglider.py:227: GliderToolsWarning: dives was not found in the files\n",
      "  warnings.warn(msg, GliderToolsWarning)\n"
     ]
    },
    {
     "name": "stdout",
     "output_type": "stream",
     "text": [
      "\n",
      "DIMENSION: sg_data_point\n",
      "{latitude, longitude, time, depth}\n"
     ]
    },
    {
     "name": "stderr",
     "output_type": "stream",
     "text": [
      " 81%|███████████████████████████████▋       | 1191/1467 [09:35<02:29,  1.84it/s]/home/dIOGOLOC/programs/anaconda3/lib/python3.10/site-packages/glidertools/load/seaglider.py:227: GliderToolsWarning: dives was not found in the files\n",
      "  warnings.warn(msg, GliderToolsWarning)\n"
     ]
    },
    {
     "name": "stdout",
     "output_type": "stream",
     "text": [
      "\n",
      "DIMENSION: sg_data_point\n",
      "{latitude, longitude, time, depth}\n"
     ]
    },
    {
     "name": "stderr",
     "output_type": "stream",
     "text": [
      " 81%|███████████████████████████████▋       | 1192/1467 [09:35<02:23,  1.91it/s]/home/dIOGOLOC/programs/anaconda3/lib/python3.10/site-packages/glidertools/load/seaglider.py:227: GliderToolsWarning: dives was not found in the files\n",
      "  warnings.warn(msg, GliderToolsWarning)\n"
     ]
    },
    {
     "name": "stdout",
     "output_type": "stream",
     "text": [
      "\n",
      "DIMENSION: sg_data_point\n",
      "{latitude, longitude, time, depth}\n"
     ]
    },
    {
     "name": "stderr",
     "output_type": "stream",
     "text": [
      " 81%|███████████████████████████████▋       | 1193/1467 [09:36<02:20,  1.95it/s]/home/dIOGOLOC/programs/anaconda3/lib/python3.10/site-packages/glidertools/load/seaglider.py:227: GliderToolsWarning: dives was not found in the files\n",
      "  warnings.warn(msg, GliderToolsWarning)\n"
     ]
    },
    {
     "name": "stdout",
     "output_type": "stream",
     "text": [
      "\n",
      "DIMENSION: sg_data_point\n",
      "{latitude, longitude, time, depth}\n"
     ]
    },
    {
     "name": "stderr",
     "output_type": "stream",
     "text": [
      " 81%|███████████████████████████████▋       | 1194/1467 [09:36<02:21,  1.93it/s]/home/dIOGOLOC/programs/anaconda3/lib/python3.10/site-packages/glidertools/load/seaglider.py:227: GliderToolsWarning: dives was not found in the files\n",
      "  warnings.warn(msg, GliderToolsWarning)\n"
     ]
    },
    {
     "name": "stdout",
     "output_type": "stream",
     "text": [
      "\n",
      "DIMENSION: sg_data_point\n",
      "{latitude, longitude, time, depth}\n"
     ]
    },
    {
     "name": "stderr",
     "output_type": "stream",
     "text": [
      " 81%|███████████████████████████████▊       | 1195/1467 [09:37<02:17,  1.98it/s]/home/dIOGOLOC/programs/anaconda3/lib/python3.10/site-packages/glidertools/load/seaglider.py:227: GliderToolsWarning: dives was not found in the files\n",
      "  warnings.warn(msg, GliderToolsWarning)\n"
     ]
    },
    {
     "name": "stdout",
     "output_type": "stream",
     "text": [
      "\n",
      "DIMENSION: sg_data_point\n",
      "{latitude, longitude, time, depth}\n"
     ]
    },
    {
     "name": "stderr",
     "output_type": "stream",
     "text": [
      " 82%|███████████████████████████████▊       | 1196/1467 [09:37<02:13,  2.03it/s]/home/dIOGOLOC/programs/anaconda3/lib/python3.10/site-packages/glidertools/load/seaglider.py:227: GliderToolsWarning: dives was not found in the files\n",
      "  warnings.warn(msg, GliderToolsWarning)\n"
     ]
    },
    {
     "name": "stdout",
     "output_type": "stream",
     "text": [
      "\n",
      "DIMENSION: sg_data_point\n",
      "{latitude, longitude, time, depth}\n"
     ]
    },
    {
     "name": "stderr",
     "output_type": "stream",
     "text": [
      " 82%|███████████████████████████████▊       | 1197/1467 [09:38<02:12,  2.03it/s]/home/dIOGOLOC/programs/anaconda3/lib/python3.10/site-packages/glidertools/load/seaglider.py:227: GliderToolsWarning: dives was not found in the files\n",
      "  warnings.warn(msg, GliderToolsWarning)\n"
     ]
    },
    {
     "name": "stdout",
     "output_type": "stream",
     "text": [
      "\n",
      "DIMENSION: sg_data_point\n",
      "{latitude, longitude, time, depth}\n"
     ]
    },
    {
     "name": "stderr",
     "output_type": "stream",
     "text": [
      " 82%|███████████████████████████████▊       | 1198/1467 [09:38<02:10,  2.06it/s]/home/dIOGOLOC/programs/anaconda3/lib/python3.10/site-packages/glidertools/load/seaglider.py:227: GliderToolsWarning: dives was not found in the files\n",
      "  warnings.warn(msg, GliderToolsWarning)\n"
     ]
    },
    {
     "name": "stdout",
     "output_type": "stream",
     "text": [
      "\n",
      "DIMENSION: sg_data_point\n",
      "{latitude, longitude, time, depth}\n"
     ]
    },
    {
     "name": "stderr",
     "output_type": "stream",
     "text": [
      " 82%|███████████████████████████████▉       | 1199/1467 [09:39<02:09,  2.08it/s]/home/dIOGOLOC/programs/anaconda3/lib/python3.10/site-packages/glidertools/load/seaglider.py:227: GliderToolsWarning: dives was not found in the files\n",
      "  warnings.warn(msg, GliderToolsWarning)\n"
     ]
    },
    {
     "name": "stdout",
     "output_type": "stream",
     "text": [
      "\n",
      "DIMENSION: sg_data_point\n",
      "{latitude, longitude, time, depth}\n"
     ]
    },
    {
     "name": "stderr",
     "output_type": "stream",
     "text": [
      " 82%|███████████████████████████████▉       | 1200/1467 [09:39<02:04,  2.14it/s]/home/dIOGOLOC/programs/anaconda3/lib/python3.10/site-packages/glidertools/load/seaglider.py:227: GliderToolsWarning: dives was not found in the files\n",
      "  warnings.warn(msg, GliderToolsWarning)\n"
     ]
    },
    {
     "name": "stdout",
     "output_type": "stream",
     "text": [
      "\n",
      "DIMENSION: sg_data_point\n",
      "{latitude, longitude, time, depth}\n"
     ]
    },
    {
     "name": "stderr",
     "output_type": "stream",
     "text": [
      " 82%|███████████████████████████████▉       | 1201/1467 [09:40<02:04,  2.14it/s]/home/dIOGOLOC/programs/anaconda3/lib/python3.10/site-packages/glidertools/load/seaglider.py:227: GliderToolsWarning: dives was not found in the files\n",
      "  warnings.warn(msg, GliderToolsWarning)\n"
     ]
    },
    {
     "name": "stdout",
     "output_type": "stream",
     "text": [
      "\n",
      "DIMENSION: sg_data_point\n",
      "{latitude, longitude, time, depth}\n"
     ]
    },
    {
     "name": "stderr",
     "output_type": "stream",
     "text": [
      " 82%|███████████████████████████████▉       | 1202/1467 [09:40<02:02,  2.17it/s]/home/dIOGOLOC/programs/anaconda3/lib/python3.10/site-packages/glidertools/load/seaglider.py:227: GliderToolsWarning: dives was not found in the files\n",
      "  warnings.warn(msg, GliderToolsWarning)\n"
     ]
    },
    {
     "name": "stdout",
     "output_type": "stream",
     "text": [
      "\n",
      "DIMENSION: sg_data_point\n",
      "{latitude, longitude, time, depth}\n"
     ]
    },
    {
     "name": "stderr",
     "output_type": "stream",
     "text": [
      " 82%|███████████████████████████████▉       | 1203/1467 [09:41<02:08,  2.05it/s]/home/dIOGOLOC/programs/anaconda3/lib/python3.10/site-packages/glidertools/load/seaglider.py:227: GliderToolsWarning: dives was not found in the files\n",
      "  warnings.warn(msg, GliderToolsWarning)\n"
     ]
    },
    {
     "name": "stdout",
     "output_type": "stream",
     "text": [
      "\n",
      "DIMENSION: sg_data_point\n",
      "{latitude, longitude, time, depth}\n"
     ]
    },
    {
     "name": "stderr",
     "output_type": "stream",
     "text": [
      " 82%|████████████████████████████████       | 1204/1467 [09:41<02:04,  2.12it/s]/home/dIOGOLOC/programs/anaconda3/lib/python3.10/site-packages/glidertools/load/seaglider.py:227: GliderToolsWarning: dives was not found in the files\n",
      "  warnings.warn(msg, GliderToolsWarning)\n"
     ]
    },
    {
     "name": "stdout",
     "output_type": "stream",
     "text": [
      "\n",
      "DIMENSION: sg_data_point\n",
      "{latitude, longitude, time, depth}\n"
     ]
    },
    {
     "name": "stderr",
     "output_type": "stream",
     "text": [
      " 82%|████████████████████████████████       | 1205/1467 [09:42<02:00,  2.17it/s]/home/dIOGOLOC/programs/anaconda3/lib/python3.10/site-packages/glidertools/load/seaglider.py:227: GliderToolsWarning: dives was not found in the files\n",
      "  warnings.warn(msg, GliderToolsWarning)\n"
     ]
    },
    {
     "name": "stdout",
     "output_type": "stream",
     "text": [
      "\n",
      "DIMENSION: sg_data_point\n",
      "{latitude, longitude, time, depth}\n"
     ]
    },
    {
     "name": "stderr",
     "output_type": "stream",
     "text": [
      " 82%|████████████████████████████████       | 1206/1467 [09:42<01:59,  2.18it/s]/home/dIOGOLOC/programs/anaconda3/lib/python3.10/site-packages/glidertools/load/seaglider.py:227: GliderToolsWarning: dives was not found in the files\n",
      "  warnings.warn(msg, GliderToolsWarning)\n"
     ]
    },
    {
     "name": "stdout",
     "output_type": "stream",
     "text": [
      "\n",
      "DIMENSION: sg_data_point\n",
      "{latitude, longitude, time, depth}\n"
     ]
    },
    {
     "name": "stderr",
     "output_type": "stream",
     "text": [
      " 82%|████████████████████████████████       | 1207/1467 [09:42<01:59,  2.18it/s]/home/dIOGOLOC/programs/anaconda3/lib/python3.10/site-packages/glidertools/load/seaglider.py:227: GliderToolsWarning: dives was not found in the files\n",
      "  warnings.warn(msg, GliderToolsWarning)\n"
     ]
    },
    {
     "name": "stdout",
     "output_type": "stream",
     "text": [
      "\n",
      "DIMENSION: sg_data_point\n",
      "{latitude, longitude, time, depth}\n"
     ]
    },
    {
     "name": "stderr",
     "output_type": "stream",
     "text": [
      " 82%|████████████████████████████████       | 1208/1467 [09:43<01:57,  2.21it/s]/home/dIOGOLOC/programs/anaconda3/lib/python3.10/site-packages/glidertools/load/seaglider.py:227: GliderToolsWarning: dives was not found in the files\n",
      "  warnings.warn(msg, GliderToolsWarning)\n"
     ]
    },
    {
     "name": "stdout",
     "output_type": "stream",
     "text": [
      "\n",
      "DIMENSION: sg_data_point\n",
      "{latitude, longitude, time, depth}\n"
     ]
    },
    {
     "name": "stderr",
     "output_type": "stream",
     "text": [
      " 82%|████████████████████████████████▏      | 1209/1467 [09:43<01:57,  2.20it/s]/home/dIOGOLOC/programs/anaconda3/lib/python3.10/site-packages/glidertools/load/seaglider.py:227: GliderToolsWarning: dives was not found in the files\n",
      "  warnings.warn(msg, GliderToolsWarning)\n"
     ]
    },
    {
     "name": "stdout",
     "output_type": "stream",
     "text": [
      "\n",
      "DIMENSION: sg_data_point\n",
      "{latitude, longitude, time, depth}\n"
     ]
    },
    {
     "name": "stderr",
     "output_type": "stream",
     "text": [
      " 82%|████████████████████████████████▏      | 1210/1467 [09:44<01:55,  2.22it/s]/home/dIOGOLOC/programs/anaconda3/lib/python3.10/site-packages/glidertools/load/seaglider.py:227: GliderToolsWarning: dives was not found in the files\n",
      "  warnings.warn(msg, GliderToolsWarning)\n"
     ]
    },
    {
     "name": "stdout",
     "output_type": "stream",
     "text": [
      "\n",
      "DIMENSION: sg_data_point\n",
      "{latitude, longitude, time, depth}\n"
     ]
    },
    {
     "name": "stderr",
     "output_type": "stream",
     "text": [
      " 83%|████████████████████████████████▏      | 1211/1467 [09:44<01:54,  2.24it/s]/home/dIOGOLOC/programs/anaconda3/lib/python3.10/site-packages/glidertools/load/seaglider.py:227: GliderToolsWarning: dives was not found in the files\n",
      "  warnings.warn(msg, GliderToolsWarning)\n"
     ]
    },
    {
     "name": "stdout",
     "output_type": "stream",
     "text": [
      "\n",
      "DIMENSION: sg_data_point\n",
      "{latitude, longitude, time, depth}\n"
     ]
    },
    {
     "name": "stderr",
     "output_type": "stream",
     "text": [
      " 83%|████████████████████████████████▏      | 1212/1467 [09:45<01:52,  2.26it/s]/home/dIOGOLOC/programs/anaconda3/lib/python3.10/site-packages/glidertools/load/seaglider.py:227: GliderToolsWarning: dives was not found in the files\n",
      "  warnings.warn(msg, GliderToolsWarning)\n"
     ]
    },
    {
     "name": "stdout",
     "output_type": "stream",
     "text": [
      "\n",
      "DIMENSION: sg_data_point\n",
      "{latitude, longitude, time, depth}\n"
     ]
    },
    {
     "name": "stderr",
     "output_type": "stream",
     "text": [
      " 83%|████████████████████████████████▏      | 1213/1467 [09:45<01:50,  2.29it/s]/home/dIOGOLOC/programs/anaconda3/lib/python3.10/site-packages/glidertools/load/seaglider.py:227: GliderToolsWarning: dives was not found in the files\n",
      "  warnings.warn(msg, GliderToolsWarning)\n"
     ]
    },
    {
     "name": "stdout",
     "output_type": "stream",
     "text": [
      "\n",
      "DIMENSION: sg_data_point\n",
      "{latitude, longitude, time, depth}\n"
     ]
    },
    {
     "name": "stderr",
     "output_type": "stream",
     "text": [
      " 83%|████████████████████████████████▎      | 1214/1467 [09:46<01:57,  2.15it/s]/home/dIOGOLOC/programs/anaconda3/lib/python3.10/site-packages/glidertools/load/seaglider.py:227: GliderToolsWarning: dives was not found in the files\n",
      "  warnings.warn(msg, GliderToolsWarning)\n"
     ]
    },
    {
     "name": "stdout",
     "output_type": "stream",
     "text": [
      "\n",
      "DIMENSION: sg_data_point\n",
      "{latitude, longitude, time, depth}\n"
     ]
    },
    {
     "name": "stderr",
     "output_type": "stream",
     "text": [
      " 83%|████████████████████████████████▎      | 1215/1467 [09:46<01:54,  2.21it/s]/home/dIOGOLOC/programs/anaconda3/lib/python3.10/site-packages/glidertools/load/seaglider.py:227: GliderToolsWarning: dives was not found in the files\n",
      "  warnings.warn(msg, GliderToolsWarning)\n"
     ]
    },
    {
     "name": "stdout",
     "output_type": "stream",
     "text": [
      "\n",
      "DIMENSION: sg_data_point\n",
      "{latitude, longitude, time, depth}\n"
     ]
    },
    {
     "name": "stderr",
     "output_type": "stream",
     "text": [
      " 83%|████████████████████████████████▎      | 1216/1467 [09:47<01:53,  2.21it/s]/home/dIOGOLOC/programs/anaconda3/lib/python3.10/site-packages/glidertools/load/seaglider.py:227: GliderToolsWarning: dives was not found in the files\n",
      "  warnings.warn(msg, GliderToolsWarning)\n"
     ]
    },
    {
     "name": "stdout",
     "output_type": "stream",
     "text": [
      "\n",
      "DIMENSION: sg_data_point\n",
      "{latitude, longitude, time, depth}\n"
     ]
    },
    {
     "name": "stderr",
     "output_type": "stream",
     "text": [
      " 83%|████████████████████████████████▎      | 1217/1467 [09:47<01:54,  2.19it/s]/home/dIOGOLOC/programs/anaconda3/lib/python3.10/site-packages/glidertools/load/seaglider.py:227: GliderToolsWarning: dives was not found in the files\n",
      "  warnings.warn(msg, GliderToolsWarning)\n"
     ]
    },
    {
     "name": "stdout",
     "output_type": "stream",
     "text": [
      "\n",
      "DIMENSION: sg_data_point\n",
      "{latitude, longitude, time, depth}\n"
     ]
    },
    {
     "name": "stderr",
     "output_type": "stream",
     "text": [
      " 83%|████████████████████████████████▍      | 1218/1467 [09:47<01:51,  2.24it/s]/home/dIOGOLOC/programs/anaconda3/lib/python3.10/site-packages/glidertools/load/seaglider.py:227: GliderToolsWarning: dives was not found in the files\n",
      "  warnings.warn(msg, GliderToolsWarning)\n"
     ]
    },
    {
     "name": "stdout",
     "output_type": "stream",
     "text": [
      "\n",
      "DIMENSION: sg_data_point\n",
      "{latitude, longitude, time, depth}\n"
     ]
    },
    {
     "name": "stderr",
     "output_type": "stream",
     "text": [
      " 83%|████████████████████████████████▍      | 1219/1467 [09:48<01:49,  2.27it/s]/home/dIOGOLOC/programs/anaconda3/lib/python3.10/site-packages/glidertools/load/seaglider.py:227: GliderToolsWarning: dives was not found in the files\n",
      "  warnings.warn(msg, GliderToolsWarning)\n"
     ]
    },
    {
     "name": "stdout",
     "output_type": "stream",
     "text": [
      "\n",
      "DIMENSION: sg_data_point\n",
      "{latitude, longitude, time, depth}\n"
     ]
    },
    {
     "name": "stderr",
     "output_type": "stream",
     "text": [
      " 83%|████████████████████████████████▍      | 1220/1467 [09:48<01:47,  2.29it/s]/home/dIOGOLOC/programs/anaconda3/lib/python3.10/site-packages/glidertools/load/seaglider.py:227: GliderToolsWarning: dives was not found in the files\n",
      "  warnings.warn(msg, GliderToolsWarning)\n"
     ]
    },
    {
     "name": "stdout",
     "output_type": "stream",
     "text": [
      "\n",
      "DIMENSION: sg_data_point\n",
      "{latitude, longitude, time, depth}\n"
     ]
    },
    {
     "name": "stderr",
     "output_type": "stream",
     "text": [
      " 83%|████████████████████████████████▍      | 1221/1467 [09:49<01:47,  2.29it/s]/home/dIOGOLOC/programs/anaconda3/lib/python3.10/site-packages/glidertools/load/seaglider.py:227: GliderToolsWarning: dives was not found in the files\n",
      "  warnings.warn(msg, GliderToolsWarning)\n"
     ]
    },
    {
     "name": "stdout",
     "output_type": "stream",
     "text": [
      "\n",
      "DIMENSION: sg_data_point\n",
      "{latitude, longitude, time, depth}\n"
     ]
    },
    {
     "name": "stderr",
     "output_type": "stream",
     "text": [
      " 83%|████████████████████████████████▍      | 1222/1467 [09:49<01:46,  2.31it/s]/home/dIOGOLOC/programs/anaconda3/lib/python3.10/site-packages/glidertools/load/seaglider.py:227: GliderToolsWarning: dives was not found in the files\n",
      "  warnings.warn(msg, GliderToolsWarning)\n"
     ]
    },
    {
     "name": "stdout",
     "output_type": "stream",
     "text": [
      "\n",
      "DIMENSION: sg_data_point\n",
      "{latitude, longitude, time, depth}\n"
     ]
    },
    {
     "name": "stderr",
     "output_type": "stream",
     "text": [
      " 83%|████████████████████████████████▌      | 1223/1467 [09:50<01:45,  2.31it/s]/home/dIOGOLOC/programs/anaconda3/lib/python3.10/site-packages/glidertools/load/seaglider.py:227: GliderToolsWarning: dives was not found in the files\n",
      "  warnings.warn(msg, GliderToolsWarning)\n"
     ]
    },
    {
     "name": "stdout",
     "output_type": "stream",
     "text": [
      "\n",
      "DIMENSION: sg_data_point\n",
      "{latitude, longitude, time, depth}\n"
     ]
    },
    {
     "name": "stderr",
     "output_type": "stream",
     "text": [
      " 83%|████████████████████████████████▌      | 1224/1467 [09:50<01:48,  2.24it/s]/home/dIOGOLOC/programs/anaconda3/lib/python3.10/site-packages/glidertools/load/seaglider.py:227: GliderToolsWarning: dives was not found in the files\n",
      "  warnings.warn(msg, GliderToolsWarning)\n"
     ]
    },
    {
     "name": "stdout",
     "output_type": "stream",
     "text": [
      "\n",
      "DIMENSION: sg_data_point\n",
      "{latitude, longitude, time, depth}\n"
     ]
    },
    {
     "name": "stderr",
     "output_type": "stream",
     "text": [
      " 84%|████████████████████████████████▌      | 1225/1467 [09:51<01:54,  2.11it/s]/home/dIOGOLOC/programs/anaconda3/lib/python3.10/site-packages/glidertools/load/seaglider.py:227: GliderToolsWarning: dives was not found in the files\n",
      "  warnings.warn(msg, GliderToolsWarning)\n"
     ]
    },
    {
     "name": "stdout",
     "output_type": "stream",
     "text": [
      "\n",
      "DIMENSION: sg_data_point\n",
      "{latitude, longitude, time, depth}\n"
     ]
    },
    {
     "name": "stderr",
     "output_type": "stream",
     "text": [
      " 84%|████████████████████████████████▌      | 1226/1467 [09:51<01:55,  2.08it/s]/home/dIOGOLOC/programs/anaconda3/lib/python3.10/site-packages/glidertools/load/seaglider.py:227: GliderToolsWarning: dives was not found in the files\n",
      "  warnings.warn(msg, GliderToolsWarning)\n"
     ]
    },
    {
     "name": "stdout",
     "output_type": "stream",
     "text": [
      "\n",
      "DIMENSION: sg_data_point\n",
      "{latitude, longitude, time, depth}\n"
     ]
    },
    {
     "name": "stderr",
     "output_type": "stream",
     "text": [
      " 84%|████████████████████████████████▌      | 1227/1467 [09:52<01:55,  2.07it/s]/home/dIOGOLOC/programs/anaconda3/lib/python3.10/site-packages/glidertools/load/seaglider.py:227: GliderToolsWarning: dives was not found in the files\n",
      "  warnings.warn(msg, GliderToolsWarning)\n"
     ]
    },
    {
     "name": "stdout",
     "output_type": "stream",
     "text": [
      "\n",
      "DIMENSION: sg_data_point\n",
      "{latitude, longitude, time, depth}\n"
     ]
    },
    {
     "name": "stderr",
     "output_type": "stream",
     "text": [
      " 84%|████████████████████████████████▋      | 1228/1467 [09:52<01:51,  2.14it/s]/home/dIOGOLOC/programs/anaconda3/lib/python3.10/site-packages/glidertools/load/seaglider.py:227: GliderToolsWarning: dives was not found in the files\n",
      "  warnings.warn(msg, GliderToolsWarning)\n"
     ]
    },
    {
     "name": "stdout",
     "output_type": "stream",
     "text": [
      "\n",
      "DIMENSION: sg_data_point\n",
      "{latitude, longitude, time, depth}\n"
     ]
    },
    {
     "name": "stderr",
     "output_type": "stream",
     "text": [
      " 84%|████████████████████████████████▋      | 1229/1467 [09:52<01:49,  2.18it/s]/home/dIOGOLOC/programs/anaconda3/lib/python3.10/site-packages/glidertools/load/seaglider.py:227: GliderToolsWarning: dives was not found in the files\n",
      "  warnings.warn(msg, GliderToolsWarning)\n"
     ]
    },
    {
     "name": "stdout",
     "output_type": "stream",
     "text": [
      "\n",
      "DIMENSION: sg_data_point\n",
      "{latitude, longitude, time, depth}\n"
     ]
    },
    {
     "name": "stderr",
     "output_type": "stream",
     "text": [
      " 84%|████████████████████████████████▋      | 1230/1467 [09:53<01:46,  2.22it/s]/home/dIOGOLOC/programs/anaconda3/lib/python3.10/site-packages/glidertools/load/seaglider.py:227: GliderToolsWarning: dives was not found in the files\n",
      "  warnings.warn(msg, GliderToolsWarning)\n"
     ]
    },
    {
     "name": "stdout",
     "output_type": "stream",
     "text": [
      "\n",
      "DIMENSION: sg_data_point\n",
      "{latitude, longitude, time, depth}\n"
     ]
    },
    {
     "name": "stderr",
     "output_type": "stream",
     "text": [
      " 84%|████████████████████████████████▋      | 1231/1467 [09:53<01:44,  2.25it/s]/home/dIOGOLOC/programs/anaconda3/lib/python3.10/site-packages/glidertools/load/seaglider.py:227: GliderToolsWarning: dives was not found in the files\n",
      "  warnings.warn(msg, GliderToolsWarning)\n"
     ]
    },
    {
     "name": "stdout",
     "output_type": "stream",
     "text": [
      "\n",
      "DIMENSION: sg_data_point\n",
      "{latitude, longitude, time, depth}\n"
     ]
    },
    {
     "name": "stderr",
     "output_type": "stream",
     "text": [
      " 84%|████████████████████████████████▊      | 1232/1467 [09:54<01:43,  2.26it/s]/home/dIOGOLOC/programs/anaconda3/lib/python3.10/site-packages/glidertools/load/seaglider.py:227: GliderToolsWarning: dives was not found in the files\n",
      "  warnings.warn(msg, GliderToolsWarning)\n"
     ]
    },
    {
     "name": "stdout",
     "output_type": "stream",
     "text": [
      "\n",
      "DIMENSION: sg_data_point\n",
      "{latitude, longitude, time, depth}\n"
     ]
    },
    {
     "name": "stderr",
     "output_type": "stream",
     "text": [
      " 84%|████████████████████████████████▊      | 1233/1467 [09:54<01:42,  2.29it/s]/home/dIOGOLOC/programs/anaconda3/lib/python3.10/site-packages/glidertools/load/seaglider.py:227: GliderToolsWarning: dives was not found in the files\n",
      "  warnings.warn(msg, GliderToolsWarning)\n"
     ]
    },
    {
     "name": "stdout",
     "output_type": "stream",
     "text": [
      "\n",
      "DIMENSION: sg_data_point\n",
      "{latitude, longitude, time, depth}\n"
     ]
    },
    {
     "name": "stderr",
     "output_type": "stream",
     "text": [
      " 84%|████████████████████████████████▊      | 1234/1467 [09:55<01:40,  2.31it/s]/home/dIOGOLOC/programs/anaconda3/lib/python3.10/site-packages/glidertools/load/seaglider.py:227: GliderToolsWarning: dives was not found in the files\n",
      "  warnings.warn(msg, GliderToolsWarning)\n"
     ]
    },
    {
     "name": "stdout",
     "output_type": "stream",
     "text": [
      "\n",
      "DIMENSION: sg_data_point\n",
      "{latitude, longitude, time, depth}\n"
     ]
    },
    {
     "name": "stderr",
     "output_type": "stream",
     "text": [
      " 84%|████████████████████████████████▊      | 1235/1467 [09:55<01:48,  2.13it/s]/home/dIOGOLOC/programs/anaconda3/lib/python3.10/site-packages/glidertools/load/seaglider.py:227: GliderToolsWarning: dives was not found in the files\n",
      "  warnings.warn(msg, GliderToolsWarning)\n"
     ]
    },
    {
     "name": "stdout",
     "output_type": "stream",
     "text": [
      "\n",
      "DIMENSION: sg_data_point\n",
      "{latitude, longitude, time, depth}\n"
     ]
    },
    {
     "name": "stderr",
     "output_type": "stream",
     "text": [
      " 84%|████████████████████████████████▊      | 1236/1467 [09:56<02:12,  1.74it/s]/home/dIOGOLOC/programs/anaconda3/lib/python3.10/site-packages/glidertools/load/seaglider.py:227: GliderToolsWarning: dives was not found in the files\n",
      "  warnings.warn(msg, GliderToolsWarning)\n"
     ]
    },
    {
     "name": "stdout",
     "output_type": "stream",
     "text": [
      "\n",
      "DIMENSION: sg_data_point\n",
      "{latitude, longitude, time, depth}\n"
     ]
    },
    {
     "name": "stderr",
     "output_type": "stream",
     "text": [
      " 84%|████████████████████████████████▉      | 1237/1467 [09:56<02:07,  1.80it/s]/home/dIOGOLOC/programs/anaconda3/lib/python3.10/site-packages/glidertools/load/seaglider.py:227: GliderToolsWarning: dives was not found in the files\n",
      "  warnings.warn(msg, GliderToolsWarning)\n"
     ]
    },
    {
     "name": "stdout",
     "output_type": "stream",
     "text": [
      "\n",
      "DIMENSION: sg_data_point\n",
      "{latitude, longitude, time, depth}\n"
     ]
    },
    {
     "name": "stderr",
     "output_type": "stream",
     "text": [
      " 84%|████████████████████████████████▉      | 1238/1467 [09:57<02:01,  1.89it/s]/home/dIOGOLOC/programs/anaconda3/lib/python3.10/site-packages/glidertools/load/seaglider.py:227: GliderToolsWarning: dives was not found in the files\n",
      "  warnings.warn(msg, GliderToolsWarning)\n"
     ]
    },
    {
     "name": "stdout",
     "output_type": "stream",
     "text": [
      "\n",
      "DIMENSION: sg_data_point\n",
      "{latitude, longitude, time, depth}\n"
     ]
    },
    {
     "name": "stderr",
     "output_type": "stream",
     "text": [
      " 84%|████████████████████████████████▉      | 1239/1467 [09:57<02:02,  1.87it/s]/home/dIOGOLOC/programs/anaconda3/lib/python3.10/site-packages/glidertools/load/seaglider.py:227: GliderToolsWarning: dives was not found in the files\n",
      "  warnings.warn(msg, GliderToolsWarning)\n"
     ]
    },
    {
     "name": "stdout",
     "output_type": "stream",
     "text": [
      "\n",
      "DIMENSION: sg_data_point\n",
      "{latitude, longitude, time, depth}\n"
     ]
    },
    {
     "name": "stderr",
     "output_type": "stream",
     "text": [
      " 85%|████████████████████████████████▉      | 1240/1467 [09:58<01:58,  1.92it/s]/home/dIOGOLOC/programs/anaconda3/lib/python3.10/site-packages/glidertools/load/seaglider.py:227: GliderToolsWarning: dives was not found in the files\n",
      "  warnings.warn(msg, GliderToolsWarning)\n"
     ]
    },
    {
     "name": "stdout",
     "output_type": "stream",
     "text": [
      "\n",
      "DIMENSION: sg_data_point\n",
      "{latitude, longitude, time, depth}\n"
     ]
    },
    {
     "name": "stderr",
     "output_type": "stream",
     "text": [
      " 85%|████████████████████████████████▉      | 1241/1467 [09:58<01:55,  1.96it/s]/home/dIOGOLOC/programs/anaconda3/lib/python3.10/site-packages/glidertools/load/seaglider.py:227: GliderToolsWarning: dives was not found in the files\n",
      "  warnings.warn(msg, GliderToolsWarning)\n"
     ]
    },
    {
     "name": "stdout",
     "output_type": "stream",
     "text": [
      "\n",
      "DIMENSION: sg_data_point\n",
      "{latitude, longitude, time, depth}\n"
     ]
    },
    {
     "name": "stderr",
     "output_type": "stream",
     "text": [
      " 85%|█████████████████████████████████      | 1242/1467 [09:59<01:51,  2.02it/s]/home/dIOGOLOC/programs/anaconda3/lib/python3.10/site-packages/glidertools/load/seaglider.py:227: GliderToolsWarning: dives was not found in the files\n",
      "  warnings.warn(msg, GliderToolsWarning)\n"
     ]
    },
    {
     "name": "stdout",
     "output_type": "stream",
     "text": [
      "\n",
      "DIMENSION: sg_data_point\n",
      "{latitude, longitude, time, depth}\n"
     ]
    },
    {
     "name": "stderr",
     "output_type": "stream",
     "text": [
      " 85%|█████████████████████████████████      | 1243/1467 [09:59<01:47,  2.09it/s]/home/dIOGOLOC/programs/anaconda3/lib/python3.10/site-packages/glidertools/load/seaglider.py:227: GliderToolsWarning: dives was not found in the files\n",
      "  warnings.warn(msg, GliderToolsWarning)\n"
     ]
    },
    {
     "name": "stdout",
     "output_type": "stream",
     "text": [
      "\n",
      "DIMENSION: sg_data_point\n",
      "{latitude, longitude, time, depth}\n"
     ]
    },
    {
     "name": "stderr",
     "output_type": "stream",
     "text": [
      " 85%|█████████████████████████████████      | 1244/1467 [10:00<01:43,  2.16it/s]/home/dIOGOLOC/programs/anaconda3/lib/python3.10/site-packages/glidertools/load/seaglider.py:227: GliderToolsWarning: dives was not found in the files\n",
      "  warnings.warn(msg, GliderToolsWarning)\n"
     ]
    },
    {
     "name": "stdout",
     "output_type": "stream",
     "text": [
      "\n",
      "DIMENSION: sg_data_point\n",
      "{latitude, longitude, time, depth}\n"
     ]
    },
    {
     "name": "stderr",
     "output_type": "stream",
     "text": [
      " 85%|█████████████████████████████████      | 1245/1467 [10:00<01:41,  2.19it/s]/home/dIOGOLOC/programs/anaconda3/lib/python3.10/site-packages/glidertools/load/seaglider.py:227: GliderToolsWarning: dives was not found in the files\n",
      "  warnings.warn(msg, GliderToolsWarning)\n"
     ]
    },
    {
     "name": "stdout",
     "output_type": "stream",
     "text": [
      "\n",
      "DIMENSION: sg_data_point\n",
      "{latitude, longitude, time, depth}\n"
     ]
    },
    {
     "name": "stderr",
     "output_type": "stream",
     "text": [
      " 85%|█████████████████████████████████      | 1246/1467 [10:01<01:40,  2.20it/s]/home/dIOGOLOC/programs/anaconda3/lib/python3.10/site-packages/glidertools/load/seaglider.py:227: GliderToolsWarning: dives was not found in the files\n",
      "  warnings.warn(msg, GliderToolsWarning)\n"
     ]
    },
    {
     "name": "stdout",
     "output_type": "stream",
     "text": [
      "\n",
      "DIMENSION: sg_data_point\n",
      "{latitude, longitude, time, depth}\n"
     ]
    },
    {
     "name": "stderr",
     "output_type": "stream",
     "text": [
      " 85%|█████████████████████████████████▏     | 1247/1467 [10:01<01:38,  2.24it/s]/home/dIOGOLOC/programs/anaconda3/lib/python3.10/site-packages/glidertools/load/seaglider.py:227: GliderToolsWarning: dives was not found in the files\n",
      "  warnings.warn(msg, GliderToolsWarning)\n"
     ]
    },
    {
     "name": "stdout",
     "output_type": "stream",
     "text": [
      "\n",
      "DIMENSION: sg_data_point\n",
      "{latitude, longitude, time, depth}\n"
     ]
    },
    {
     "name": "stderr",
     "output_type": "stream",
     "text": [
      " 85%|█████████████████████████████████▏     | 1248/1467 [10:02<01:45,  2.07it/s]/home/dIOGOLOC/programs/anaconda3/lib/python3.10/site-packages/glidertools/load/seaglider.py:227: GliderToolsWarning: dives was not found in the files\n",
      "  warnings.warn(msg, GliderToolsWarning)\n"
     ]
    },
    {
     "name": "stdout",
     "output_type": "stream",
     "text": [
      "\n",
      "DIMENSION: sg_data_point\n",
      "{latitude, longitude, time, depth}\n"
     ]
    },
    {
     "name": "stderr",
     "output_type": "stream",
     "text": [
      " 85%|█████████████████████████████████▏     | 1249/1467 [10:02<01:45,  2.07it/s]/home/dIOGOLOC/programs/anaconda3/lib/python3.10/site-packages/glidertools/load/seaglider.py:227: GliderToolsWarning: dives was not found in the files\n",
      "  warnings.warn(msg, GliderToolsWarning)\n"
     ]
    },
    {
     "name": "stdout",
     "output_type": "stream",
     "text": [
      "\n",
      "DIMENSION: sg_data_point\n",
      "{latitude, longitude, time, depth}\n"
     ]
    },
    {
     "name": "stderr",
     "output_type": "stream",
     "text": [
      " 85%|█████████████████████████████████▏     | 1250/1467 [10:03<01:44,  2.09it/s]/home/dIOGOLOC/programs/anaconda3/lib/python3.10/site-packages/glidertools/load/seaglider.py:227: GliderToolsWarning: dives was not found in the files\n",
      "  warnings.warn(msg, GliderToolsWarning)\n"
     ]
    },
    {
     "name": "stdout",
     "output_type": "stream",
     "text": [
      "\n",
      "DIMENSION: sg_data_point\n",
      "{latitude, longitude, time, depth}\n"
     ]
    },
    {
     "name": "stderr",
     "output_type": "stream",
     "text": [
      " 85%|█████████████████████████████████▎     | 1251/1467 [10:03<01:42,  2.11it/s]/home/dIOGOLOC/programs/anaconda3/lib/python3.10/site-packages/glidertools/load/seaglider.py:227: GliderToolsWarning: dives was not found in the files\n",
      "  warnings.warn(msg, GliderToolsWarning)\n"
     ]
    },
    {
     "name": "stdout",
     "output_type": "stream",
     "text": [
      "\n",
      "DIMENSION: sg_data_point\n",
      "{latitude, longitude, time, depth}\n"
     ]
    },
    {
     "name": "stderr",
     "output_type": "stream",
     "text": [
      " 85%|█████████████████████████████████▎     | 1252/1467 [10:04<01:40,  2.15it/s]/home/dIOGOLOC/programs/anaconda3/lib/python3.10/site-packages/glidertools/load/seaglider.py:227: GliderToolsWarning: dives was not found in the files\n",
      "  warnings.warn(msg, GliderToolsWarning)\n"
     ]
    },
    {
     "name": "stdout",
     "output_type": "stream",
     "text": [
      "\n",
      "DIMENSION: sg_data_point\n",
      "{latitude, longitude, time, depth}\n"
     ]
    },
    {
     "name": "stderr",
     "output_type": "stream",
     "text": [
      " 85%|█████████████████████████████████▎     | 1253/1467 [10:04<01:37,  2.20it/s]/home/dIOGOLOC/programs/anaconda3/lib/python3.10/site-packages/glidertools/load/seaglider.py:227: GliderToolsWarning: dives was not found in the files\n",
      "  warnings.warn(msg, GliderToolsWarning)\n"
     ]
    },
    {
     "name": "stdout",
     "output_type": "stream",
     "text": [
      "\n",
      "DIMENSION: sg_data_point\n",
      "{latitude, longitude, time, depth}\n"
     ]
    },
    {
     "name": "stderr",
     "output_type": "stream",
     "text": [
      " 85%|█████████████████████████████████▎     | 1254/1467 [10:04<01:35,  2.22it/s]/home/dIOGOLOC/programs/anaconda3/lib/python3.10/site-packages/glidertools/load/seaglider.py:227: GliderToolsWarning: dives was not found in the files\n",
      "  warnings.warn(msg, GliderToolsWarning)\n"
     ]
    },
    {
     "name": "stdout",
     "output_type": "stream",
     "text": [
      "\n",
      "DIMENSION: sg_data_point\n",
      "{latitude, longitude, time, depth}\n"
     ]
    },
    {
     "name": "stderr",
     "output_type": "stream",
     "text": [
      " 86%|█████████████████████████████████▎     | 1255/1467 [10:05<01:33,  2.26it/s]/home/dIOGOLOC/programs/anaconda3/lib/python3.10/site-packages/glidertools/load/seaglider.py:227: GliderToolsWarning: dives was not found in the files\n",
      "  warnings.warn(msg, GliderToolsWarning)\n"
     ]
    },
    {
     "name": "stdout",
     "output_type": "stream",
     "text": [
      "\n",
      "DIMENSION: sg_data_point\n",
      "{latitude, longitude, time, depth}\n"
     ]
    },
    {
     "name": "stderr",
     "output_type": "stream",
     "text": [
      " 86%|█████████████████████████████████▍     | 1256/1467 [10:05<01:32,  2.27it/s]/home/dIOGOLOC/programs/anaconda3/lib/python3.10/site-packages/glidertools/load/seaglider.py:227: GliderToolsWarning: dives was not found in the files\n",
      "  warnings.warn(msg, GliderToolsWarning)\n"
     ]
    },
    {
     "name": "stdout",
     "output_type": "stream",
     "text": [
      "\n",
      "DIMENSION: sg_data_point\n",
      "{latitude, longitude, time, depth}\n"
     ]
    },
    {
     "name": "stderr",
     "output_type": "stream",
     "text": [
      " 86%|█████████████████████████████████▍     | 1257/1467 [10:06<01:33,  2.26it/s]/home/dIOGOLOC/programs/anaconda3/lib/python3.10/site-packages/glidertools/load/seaglider.py:227: GliderToolsWarning: dives was not found in the files\n",
      "  warnings.warn(msg, GliderToolsWarning)\n"
     ]
    },
    {
     "name": "stdout",
     "output_type": "stream",
     "text": [
      "\n",
      "DIMENSION: sg_data_point\n",
      "{latitude, longitude, time, depth}\n"
     ]
    },
    {
     "name": "stderr",
     "output_type": "stream",
     "text": [
      " 86%|█████████████████████████████████▍     | 1258/1467 [10:06<01:31,  2.29it/s]/home/dIOGOLOC/programs/anaconda3/lib/python3.10/site-packages/glidertools/load/seaglider.py:227: GliderToolsWarning: dives was not found in the files\n",
      "  warnings.warn(msg, GliderToolsWarning)\n"
     ]
    },
    {
     "name": "stdout",
     "output_type": "stream",
     "text": [
      "\n",
      "DIMENSION: sg_data_point\n",
      "{latitude, longitude, time, depth}\n"
     ]
    },
    {
     "name": "stderr",
     "output_type": "stream",
     "text": [
      " 86%|█████████████████████████████████▍     | 1259/1467 [10:07<01:30,  2.29it/s]/home/dIOGOLOC/programs/anaconda3/lib/python3.10/site-packages/glidertools/load/seaglider.py:227: GliderToolsWarning: dives was not found in the files\n",
      "  warnings.warn(msg, GliderToolsWarning)\n"
     ]
    },
    {
     "name": "stdout",
     "output_type": "stream",
     "text": [
      "\n",
      "DIMENSION: sg_data_point\n",
      "{latitude, longitude, time, depth}\n"
     ]
    },
    {
     "name": "stderr",
     "output_type": "stream",
     "text": [
      " 86%|█████████████████████████████████▍     | 1260/1467 [10:07<01:36,  2.14it/s]/home/dIOGOLOC/programs/anaconda3/lib/python3.10/site-packages/glidertools/load/seaglider.py:227: GliderToolsWarning: dives was not found in the files\n",
      "  warnings.warn(msg, GliderToolsWarning)\n"
     ]
    },
    {
     "name": "stdout",
     "output_type": "stream",
     "text": [
      "\n",
      "DIMENSION: sg_data_point\n",
      "{latitude, longitude, time, depth}\n"
     ]
    },
    {
     "name": "stderr",
     "output_type": "stream",
     "text": [
      " 86%|█████████████████████████████████▌     | 1261/1467 [10:08<01:33,  2.19it/s]/home/dIOGOLOC/programs/anaconda3/lib/python3.10/site-packages/glidertools/load/seaglider.py:227: GliderToolsWarning: dives was not found in the files\n",
      "  warnings.warn(msg, GliderToolsWarning)\n"
     ]
    },
    {
     "name": "stdout",
     "output_type": "stream",
     "text": [
      "\n",
      "DIMENSION: sg_data_point\n",
      "{latitude, longitude, time, depth}\n"
     ]
    },
    {
     "name": "stderr",
     "output_type": "stream",
     "text": [
      " 86%|█████████████████████████████████▌     | 1262/1467 [10:08<01:32,  2.21it/s]/home/dIOGOLOC/programs/anaconda3/lib/python3.10/site-packages/glidertools/load/seaglider.py:227: GliderToolsWarning: dives was not found in the files\n",
      "  warnings.warn(msg, GliderToolsWarning)\n"
     ]
    },
    {
     "name": "stdout",
     "output_type": "stream",
     "text": [
      "\n",
      "DIMENSION: sg_data_point\n",
      "{latitude, longitude, time, depth}\n"
     ]
    },
    {
     "name": "stderr",
     "output_type": "stream",
     "text": [
      " 86%|█████████████████████████████████▌     | 1263/1467 [10:08<01:31,  2.24it/s]/home/dIOGOLOC/programs/anaconda3/lib/python3.10/site-packages/glidertools/load/seaglider.py:227: GliderToolsWarning: dives was not found in the files\n",
      "  warnings.warn(msg, GliderToolsWarning)\n"
     ]
    },
    {
     "name": "stdout",
     "output_type": "stream",
     "text": [
      "\n",
      "DIMENSION: sg_data_point\n",
      "{latitude, longitude, time, depth}\n"
     ]
    },
    {
     "name": "stderr",
     "output_type": "stream",
     "text": [
      " 86%|█████████████████████████████████▌     | 1264/1467 [10:09<01:30,  2.24it/s]/home/dIOGOLOC/programs/anaconda3/lib/python3.10/site-packages/glidertools/load/seaglider.py:227: GliderToolsWarning: dives was not found in the files\n",
      "  warnings.warn(msg, GliderToolsWarning)\n"
     ]
    },
    {
     "name": "stdout",
     "output_type": "stream",
     "text": [
      "\n",
      "DIMENSION: sg_data_point\n",
      "{latitude, longitude, time, depth}\n"
     ]
    },
    {
     "name": "stderr",
     "output_type": "stream",
     "text": [
      " 86%|█████████████████████████████████▋     | 1265/1467 [10:09<01:29,  2.25it/s]/home/dIOGOLOC/programs/anaconda3/lib/python3.10/site-packages/glidertools/load/seaglider.py:227: GliderToolsWarning: dives was not found in the files\n",
      "  warnings.warn(msg, GliderToolsWarning)\n"
     ]
    },
    {
     "name": "stdout",
     "output_type": "stream",
     "text": [
      "\n",
      "DIMENSION: sg_data_point\n",
      "{latitude, longitude, time, depth}\n"
     ]
    },
    {
     "name": "stderr",
     "output_type": "stream",
     "text": [
      " 86%|█████████████████████████████████▋     | 1266/1467 [10:10<01:29,  2.24it/s]/home/dIOGOLOC/programs/anaconda3/lib/python3.10/site-packages/glidertools/load/seaglider.py:227: GliderToolsWarning: dives was not found in the files\n",
      "  warnings.warn(msg, GliderToolsWarning)\n"
     ]
    },
    {
     "name": "stdout",
     "output_type": "stream",
     "text": [
      "\n",
      "DIMENSION: sg_data_point\n",
      "{latitude, longitude, time, depth}\n"
     ]
    },
    {
     "name": "stderr",
     "output_type": "stream",
     "text": [
      " 86%|█████████████████████████████████▋     | 1267/1467 [10:10<01:31,  2.19it/s]/home/dIOGOLOC/programs/anaconda3/lib/python3.10/site-packages/glidertools/load/seaglider.py:227: GliderToolsWarning: dives was not found in the files\n",
      "  warnings.warn(msg, GliderToolsWarning)\n"
     ]
    },
    {
     "name": "stdout",
     "output_type": "stream",
     "text": [
      "\n",
      "DIMENSION: sg_data_point\n",
      "{latitude, longitude, time, depth}\n"
     ]
    },
    {
     "name": "stderr",
     "output_type": "stream",
     "text": [
      " 86%|█████████████████████████████████▋     | 1268/1467 [10:11<01:29,  2.22it/s]/home/dIOGOLOC/programs/anaconda3/lib/python3.10/site-packages/glidertools/load/seaglider.py:227: GliderToolsWarning: dives was not found in the files\n",
      "  warnings.warn(msg, GliderToolsWarning)\n"
     ]
    },
    {
     "name": "stdout",
     "output_type": "stream",
     "text": [
      "\n",
      "DIMENSION: sg_data_point\n",
      "{latitude, longitude, time, depth}\n"
     ]
    },
    {
     "name": "stderr",
     "output_type": "stream",
     "text": [
      " 87%|█████████████████████████████████▋     | 1269/1467 [10:11<01:28,  2.24it/s]/home/dIOGOLOC/programs/anaconda3/lib/python3.10/site-packages/glidertools/load/seaglider.py:227: GliderToolsWarning: dives was not found in the files\n",
      "  warnings.warn(msg, GliderToolsWarning)\n"
     ]
    },
    {
     "name": "stdout",
     "output_type": "stream",
     "text": [
      "\n",
      "DIMENSION: sg_data_point\n",
      "{latitude, longitude, time, depth}\n"
     ]
    },
    {
     "name": "stderr",
     "output_type": "stream",
     "text": [
      " 87%|█████████████████████████████████▊     | 1270/1467 [10:12<01:26,  2.27it/s]/home/dIOGOLOC/programs/anaconda3/lib/python3.10/site-packages/glidertools/load/seaglider.py:227: GliderToolsWarning: dives was not found in the files\n",
      "  warnings.warn(msg, GliderToolsWarning)\n"
     ]
    },
    {
     "name": "stdout",
     "output_type": "stream",
     "text": [
      "\n",
      "DIMENSION: sg_data_point\n",
      "{latitude, longitude, time, depth}\n"
     ]
    },
    {
     "name": "stderr",
     "output_type": "stream",
     "text": [
      " 87%|█████████████████████████████████▊     | 1271/1467 [10:12<01:26,  2.27it/s]/home/dIOGOLOC/programs/anaconda3/lib/python3.10/site-packages/glidertools/load/seaglider.py:227: GliderToolsWarning: dives was not found in the files\n",
      "  warnings.warn(msg, GliderToolsWarning)\n"
     ]
    },
    {
     "name": "stdout",
     "output_type": "stream",
     "text": [
      "\n",
      "DIMENSION: sg_data_point\n",
      "{latitude, longitude, time, depth}\n"
     ]
    },
    {
     "name": "stderr",
     "output_type": "stream",
     "text": [
      " 87%|█████████████████████████████████▊     | 1272/1467 [10:13<01:32,  2.12it/s]/home/dIOGOLOC/programs/anaconda3/lib/python3.10/site-packages/glidertools/load/seaglider.py:227: GliderToolsWarning: dives was not found in the files\n",
      "  warnings.warn(msg, GliderToolsWarning)\n"
     ]
    },
    {
     "name": "stdout",
     "output_type": "stream",
     "text": [
      "\n",
      "DIMENSION: sg_data_point\n",
      "{latitude, longitude, time, depth}\n"
     ]
    },
    {
     "name": "stderr",
     "output_type": "stream",
     "text": [
      " 87%|█████████████████████████████████▊     | 1273/1467 [10:13<01:29,  2.17it/s]/home/dIOGOLOC/programs/anaconda3/lib/python3.10/site-packages/glidertools/load/seaglider.py:227: GliderToolsWarning: dives was not found in the files\n",
      "  warnings.warn(msg, GliderToolsWarning)\n"
     ]
    },
    {
     "name": "stdout",
     "output_type": "stream",
     "text": [
      "\n",
      "DIMENSION: sg_data_point\n",
      "{latitude, longitude, time, depth}\n"
     ]
    },
    {
     "name": "stderr",
     "output_type": "stream",
     "text": [
      " 87%|█████████████████████████████████▊     | 1274/1467 [10:13<01:27,  2.20it/s]/home/dIOGOLOC/programs/anaconda3/lib/python3.10/site-packages/glidertools/load/seaglider.py:227: GliderToolsWarning: dives was not found in the files\n",
      "  warnings.warn(msg, GliderToolsWarning)\n"
     ]
    },
    {
     "name": "stdout",
     "output_type": "stream",
     "text": [
      "\n",
      "DIMENSION: sg_data_point\n",
      "{latitude, longitude, time, depth}\n"
     ]
    },
    {
     "name": "stderr",
     "output_type": "stream",
     "text": [
      " 87%|█████████████████████████████████▉     | 1275/1467 [10:14<01:26,  2.21it/s]/home/dIOGOLOC/programs/anaconda3/lib/python3.10/site-packages/glidertools/load/seaglider.py:227: GliderToolsWarning: dives was not found in the files\n",
      "  warnings.warn(msg, GliderToolsWarning)\n"
     ]
    },
    {
     "name": "stdout",
     "output_type": "stream",
     "text": [
      "\n",
      "DIMENSION: sg_data_point\n",
      "{latitude, longitude, time, depth}\n"
     ]
    },
    {
     "name": "stderr",
     "output_type": "stream",
     "text": [
      " 87%|█████████████████████████████████▉     | 1276/1467 [10:14<01:24,  2.25it/s]/home/dIOGOLOC/programs/anaconda3/lib/python3.10/site-packages/glidertools/load/seaglider.py:227: GliderToolsWarning: dives was not found in the files\n",
      "  warnings.warn(msg, GliderToolsWarning)\n"
     ]
    },
    {
     "name": "stdout",
     "output_type": "stream",
     "text": [
      "\n",
      "DIMENSION: sg_data_point\n",
      "{latitude, longitude, time, depth}\n"
     ]
    },
    {
     "name": "stderr",
     "output_type": "stream",
     "text": [
      " 87%|█████████████████████████████████▉     | 1277/1467 [10:15<01:23,  2.28it/s]/home/dIOGOLOC/programs/anaconda3/lib/python3.10/site-packages/glidertools/load/seaglider.py:227: GliderToolsWarning: dives was not found in the files\n",
      "  warnings.warn(msg, GliderToolsWarning)\n"
     ]
    },
    {
     "name": "stdout",
     "output_type": "stream",
     "text": [
      "\n",
      "DIMENSION: sg_data_point\n",
      "{latitude, longitude, time, depth}\n"
     ]
    },
    {
     "name": "stderr",
     "output_type": "stream",
     "text": [
      " 87%|█████████████████████████████████▉     | 1278/1467 [10:15<01:22,  2.29it/s]/home/dIOGOLOC/programs/anaconda3/lib/python3.10/site-packages/glidertools/load/seaglider.py:227: GliderToolsWarning: dives was not found in the files\n",
      "  warnings.warn(msg, GliderToolsWarning)\n"
     ]
    },
    {
     "name": "stdout",
     "output_type": "stream",
     "text": [
      "\n",
      "DIMENSION: sg_data_point\n",
      "{latitude, longitude, time, depth}\n"
     ]
    },
    {
     "name": "stderr",
     "output_type": "stream",
     "text": [
      " 87%|██████████████████████████████████     | 1279/1467 [10:16<01:22,  2.29it/s]/home/dIOGOLOC/programs/anaconda3/lib/python3.10/site-packages/glidertools/load/seaglider.py:227: GliderToolsWarning: dives was not found in the files\n",
      "  warnings.warn(msg, GliderToolsWarning)\n"
     ]
    },
    {
     "name": "stdout",
     "output_type": "stream",
     "text": [
      "\n",
      "DIMENSION: sg_data_point\n",
      "{latitude, longitude, time, depth}\n"
     ]
    },
    {
     "name": "stderr",
     "output_type": "stream",
     "text": [
      " 87%|██████████████████████████████████     | 1280/1467 [10:16<01:21,  2.30it/s]/home/dIOGOLOC/programs/anaconda3/lib/python3.10/site-packages/glidertools/load/seaglider.py:227: GliderToolsWarning: dives was not found in the files\n",
      "  warnings.warn(msg, GliderToolsWarning)\n"
     ]
    },
    {
     "name": "stdout",
     "output_type": "stream",
     "text": [
      "\n",
      "DIMENSION: sg_data_point\n",
      "{latitude, longitude, time, depth}\n"
     ]
    },
    {
     "name": "stderr",
     "output_type": "stream",
     "text": [
      " 87%|██████████████████████████████████     | 1281/1467 [10:17<01:28,  2.11it/s]/home/dIOGOLOC/programs/anaconda3/lib/python3.10/site-packages/glidertools/load/seaglider.py:227: GliderToolsWarning: dives was not found in the files\n",
      "  warnings.warn(msg, GliderToolsWarning)\n"
     ]
    },
    {
     "name": "stdout",
     "output_type": "stream",
     "text": [
      "\n",
      "DIMENSION: sg_data_point\n",
      "{latitude, longitude, time, depth}\n"
     ]
    },
    {
     "name": "stderr",
     "output_type": "stream",
     "text": [
      " 87%|██████████████████████████████████     | 1282/1467 [10:17<01:31,  2.03it/s]/home/dIOGOLOC/programs/anaconda3/lib/python3.10/site-packages/glidertools/load/seaglider.py:227: GliderToolsWarning: dives was not found in the files\n",
      "  warnings.warn(msg, GliderToolsWarning)\n"
     ]
    },
    {
     "name": "stdout",
     "output_type": "stream",
     "text": [
      "\n",
      "DIMENSION: sg_data_point\n",
      "{latitude, longitude, time, depth}\n"
     ]
    },
    {
     "name": "stderr",
     "output_type": "stream",
     "text": [
      " 87%|██████████████████████████████████     | 1283/1467 [10:18<01:30,  2.04it/s]/home/dIOGOLOC/programs/anaconda3/lib/python3.10/site-packages/glidertools/load/seaglider.py:227: GliderToolsWarning: dives was not found in the files\n",
      "  warnings.warn(msg, GliderToolsWarning)\n"
     ]
    },
    {
     "name": "stdout",
     "output_type": "stream",
     "text": [
      "\n",
      "DIMENSION: sg_data_point\n",
      "{latitude, longitude, time, depth}\n"
     ]
    },
    {
     "name": "stderr",
     "output_type": "stream",
     "text": [
      " 88%|██████████████████████████████████▏    | 1284/1467 [10:18<01:33,  1.95it/s]/home/dIOGOLOC/programs/anaconda3/lib/python3.10/site-packages/glidertools/load/seaglider.py:227: GliderToolsWarning: dives was not found in the files\n",
      "  warnings.warn(msg, GliderToolsWarning)\n"
     ]
    },
    {
     "name": "stdout",
     "output_type": "stream",
     "text": [
      "\n",
      "DIMENSION: sg_data_point\n",
      "{latitude, longitude, time, depth}\n"
     ]
    },
    {
     "name": "stderr",
     "output_type": "stream",
     "text": [
      " 88%|██████████████████████████████████▏    | 1285/1467 [10:19<01:30,  2.02it/s]/home/dIOGOLOC/programs/anaconda3/lib/python3.10/site-packages/glidertools/load/seaglider.py:227: GliderToolsWarning: dives was not found in the files\n",
      "  warnings.warn(msg, GliderToolsWarning)\n"
     ]
    },
    {
     "name": "stdout",
     "output_type": "stream",
     "text": [
      "\n",
      "DIMENSION: sg_data_point\n",
      "{latitude, longitude, time, depth}\n"
     ]
    },
    {
     "name": "stderr",
     "output_type": "stream",
     "text": [
      " 88%|██████████████████████████████████▏    | 1286/1467 [10:19<01:27,  2.07it/s]/home/dIOGOLOC/programs/anaconda3/lib/python3.10/site-packages/glidertools/load/seaglider.py:227: GliderToolsWarning: dives was not found in the files\n",
      "  warnings.warn(msg, GliderToolsWarning)\n"
     ]
    },
    {
     "name": "stdout",
     "output_type": "stream",
     "text": [
      "\n",
      "DIMENSION: sg_data_point\n",
      "{latitude, longitude, time, depth}\n"
     ]
    },
    {
     "name": "stderr",
     "output_type": "stream",
     "text": [
      " 88%|██████████████████████████████████▏    | 1287/1467 [10:19<01:24,  2.13it/s]/home/dIOGOLOC/programs/anaconda3/lib/python3.10/site-packages/glidertools/load/seaglider.py:227: GliderToolsWarning: dives was not found in the files\n",
      "  warnings.warn(msg, GliderToolsWarning)\n"
     ]
    },
    {
     "name": "stdout",
     "output_type": "stream",
     "text": [
      "\n",
      "DIMENSION: sg_data_point\n",
      "{latitude, longitude, time, depth}\n"
     ]
    },
    {
     "name": "stderr",
     "output_type": "stream",
     "text": [
      " 88%|██████████████████████████████████▏    | 1288/1467 [10:20<01:22,  2.18it/s]/home/dIOGOLOC/programs/anaconda3/lib/python3.10/site-packages/glidertools/load/seaglider.py:227: GliderToolsWarning: dives was not found in the files\n",
      "  warnings.warn(msg, GliderToolsWarning)\n"
     ]
    },
    {
     "name": "stdout",
     "output_type": "stream",
     "text": [
      "\n",
      "DIMENSION: sg_data_point\n",
      "{latitude, longitude, time, depth}\n"
     ]
    },
    {
     "name": "stderr",
     "output_type": "stream",
     "text": [
      " 88%|██████████████████████████████████▎    | 1289/1467 [10:20<01:20,  2.21it/s]/home/dIOGOLOC/programs/anaconda3/lib/python3.10/site-packages/glidertools/load/seaglider.py:227: GliderToolsWarning: dives was not found in the files\n",
      "  warnings.warn(msg, GliderToolsWarning)\n"
     ]
    },
    {
     "name": "stdout",
     "output_type": "stream",
     "text": [
      "\n",
      "DIMENSION: sg_data_point\n",
      "{latitude, longitude, time, depth}\n"
     ]
    },
    {
     "name": "stderr",
     "output_type": "stream",
     "text": [
      " 88%|██████████████████████████████████▎    | 1290/1467 [10:21<01:21,  2.17it/s]/home/dIOGOLOC/programs/anaconda3/lib/python3.10/site-packages/glidertools/load/seaglider.py:227: GliderToolsWarning: dives was not found in the files\n",
      "  warnings.warn(msg, GliderToolsWarning)\n"
     ]
    },
    {
     "name": "stdout",
     "output_type": "stream",
     "text": [
      "\n",
      "DIMENSION: sg_data_point\n",
      "{latitude, longitude, time, depth}\n"
     ]
    },
    {
     "name": "stderr",
     "output_type": "stream",
     "text": [
      " 88%|██████████████████████████████████▎    | 1291/1467 [10:21<01:20,  2.19it/s]/home/dIOGOLOC/programs/anaconda3/lib/python3.10/site-packages/glidertools/load/seaglider.py:227: GliderToolsWarning: dives was not found in the files\n",
      "  warnings.warn(msg, GliderToolsWarning)\n"
     ]
    },
    {
     "name": "stdout",
     "output_type": "stream",
     "text": [
      "\n",
      "DIMENSION: sg_data_point\n",
      "{latitude, longitude, time, depth}\n"
     ]
    },
    {
     "name": "stderr",
     "output_type": "stream",
     "text": [
      " 88%|██████████████████████████████████▎    | 1292/1467 [10:22<01:18,  2.22it/s]/home/dIOGOLOC/programs/anaconda3/lib/python3.10/site-packages/glidertools/load/seaglider.py:227: GliderToolsWarning: dives was not found in the files\n",
      "  warnings.warn(msg, GliderToolsWarning)\n"
     ]
    },
    {
     "name": "stdout",
     "output_type": "stream",
     "text": [
      "\n",
      "DIMENSION: sg_data_point\n",
      "{latitude, longitude, time, depth}\n"
     ]
    },
    {
     "name": "stderr",
     "output_type": "stream",
     "text": [
      " 88%|██████████████████████████████████▎    | 1293/1467 [10:22<01:17,  2.25it/s]/home/dIOGOLOC/programs/anaconda3/lib/python3.10/site-packages/glidertools/load/seaglider.py:227: GliderToolsWarning: dives was not found in the files\n",
      "  warnings.warn(msg, GliderToolsWarning)\n"
     ]
    },
    {
     "name": "stdout",
     "output_type": "stream",
     "text": [
      "\n",
      "DIMENSION: sg_data_point\n",
      "{latitude, longitude, time, depth}\n"
     ]
    },
    {
     "name": "stderr",
     "output_type": "stream",
     "text": [
      " 88%|██████████████████████████████████▍    | 1294/1467 [10:23<01:16,  2.27it/s]/home/dIOGOLOC/programs/anaconda3/lib/python3.10/site-packages/glidertools/load/seaglider.py:227: GliderToolsWarning: dives was not found in the files\n",
      "  warnings.warn(msg, GliderToolsWarning)\n"
     ]
    },
    {
     "name": "stdout",
     "output_type": "stream",
     "text": [
      "\n",
      "DIMENSION: sg_data_point\n",
      "{latitude, longitude, time, depth}\n"
     ]
    },
    {
     "name": "stderr",
     "output_type": "stream",
     "text": [
      " 88%|██████████████████████████████████▍    | 1295/1467 [10:23<01:14,  2.31it/s]/home/dIOGOLOC/programs/anaconda3/lib/python3.10/site-packages/glidertools/load/seaglider.py:227: GliderToolsWarning: dives was not found in the files\n",
      "  warnings.warn(msg, GliderToolsWarning)\n"
     ]
    },
    {
     "name": "stdout",
     "output_type": "stream",
     "text": [
      "\n",
      "DIMENSION: sg_data_point\n",
      "{latitude, longitude, time, depth}\n"
     ]
    },
    {
     "name": "stderr",
     "output_type": "stream",
     "text": [
      " 88%|██████████████████████████████████▍    | 1296/1467 [10:24<01:19,  2.14it/s]/home/dIOGOLOC/programs/anaconda3/lib/python3.10/site-packages/glidertools/load/seaglider.py:227: GliderToolsWarning: dives was not found in the files\n",
      "  warnings.warn(msg, GliderToolsWarning)\n"
     ]
    },
    {
     "name": "stdout",
     "output_type": "stream",
     "text": [
      "\n",
      "DIMENSION: sg_data_point\n",
      "{latitude, longitude, time, depth}\n"
     ]
    },
    {
     "name": "stderr",
     "output_type": "stream",
     "text": [
      " 88%|██████████████████████████████████▍    | 1297/1467 [10:24<01:17,  2.20it/s]/home/dIOGOLOC/programs/anaconda3/lib/python3.10/site-packages/glidertools/load/seaglider.py:227: GliderToolsWarning: dives was not found in the files\n",
      "  warnings.warn(msg, GliderToolsWarning)\n"
     ]
    },
    {
     "name": "stdout",
     "output_type": "stream",
     "text": [
      "\n",
      "DIMENSION: sg_data_point\n",
      "{latitude, longitude, time, depth}\n"
     ]
    },
    {
     "name": "stderr",
     "output_type": "stream",
     "text": [
      " 88%|██████████████████████████████████▌    | 1298/1467 [10:24<01:16,  2.20it/s]/home/dIOGOLOC/programs/anaconda3/lib/python3.10/site-packages/glidertools/load/seaglider.py:227: GliderToolsWarning: dives was not found in the files\n",
      "  warnings.warn(msg, GliderToolsWarning)\n"
     ]
    },
    {
     "name": "stdout",
     "output_type": "stream",
     "text": [
      "\n",
      "DIMENSION: sg_data_point\n",
      "{latitude, longitude, time, depth}\n"
     ]
    },
    {
     "name": "stderr",
     "output_type": "stream",
     "text": [
      " 89%|██████████████████████████████████▌    | 1299/1467 [10:25<01:16,  2.20it/s]/home/dIOGOLOC/programs/anaconda3/lib/python3.10/site-packages/glidertools/load/seaglider.py:227: GliderToolsWarning: dives was not found in the files\n",
      "  warnings.warn(msg, GliderToolsWarning)\n"
     ]
    },
    {
     "name": "stdout",
     "output_type": "stream",
     "text": [
      "\n",
      "DIMENSION: sg_data_point\n",
      "{latitude, longitude, time, depth}\n"
     ]
    },
    {
     "name": "stderr",
     "output_type": "stream",
     "text": [
      " 89%|██████████████████████████████████▌    | 1300/1467 [10:25<01:15,  2.20it/s]/home/dIOGOLOC/programs/anaconda3/lib/python3.10/site-packages/glidertools/load/seaglider.py:227: GliderToolsWarning: dives was not found in the files\n",
      "  warnings.warn(msg, GliderToolsWarning)\n"
     ]
    },
    {
     "name": "stdout",
     "output_type": "stream",
     "text": [
      "\n",
      "DIMENSION: sg_data_point\n",
      "{latitude, longitude, time, depth}\n"
     ]
    },
    {
     "name": "stderr",
     "output_type": "stream",
     "text": [
      " 89%|██████████████████████████████████▌    | 1301/1467 [10:26<01:16,  2.16it/s]/home/dIOGOLOC/programs/anaconda3/lib/python3.10/site-packages/glidertools/load/seaglider.py:227: GliderToolsWarning: dives was not found in the files\n",
      "  warnings.warn(msg, GliderToolsWarning)\n"
     ]
    },
    {
     "name": "stdout",
     "output_type": "stream",
     "text": [
      "\n",
      "DIMENSION: sg_data_point\n",
      "{latitude, longitude, time, depth}\n"
     ]
    },
    {
     "name": "stderr",
     "output_type": "stream",
     "text": [
      " 89%|██████████████████████████████████▌    | 1302/1467 [10:26<01:16,  2.17it/s]/home/dIOGOLOC/programs/anaconda3/lib/python3.10/site-packages/glidertools/load/seaglider.py:227: GliderToolsWarning: dives was not found in the files\n",
      "  warnings.warn(msg, GliderToolsWarning)\n"
     ]
    },
    {
     "name": "stdout",
     "output_type": "stream",
     "text": [
      "\n",
      "DIMENSION: sg_data_point\n",
      "{latitude, longitude, time, depth}\n"
     ]
    },
    {
     "name": "stderr",
     "output_type": "stream",
     "text": [
      " 89%|██████████████████████████████████▋    | 1303/1467 [10:27<01:15,  2.18it/s]/home/dIOGOLOC/programs/anaconda3/lib/python3.10/site-packages/glidertools/load/seaglider.py:227: GliderToolsWarning: dives was not found in the files\n",
      "  warnings.warn(msg, GliderToolsWarning)\n"
     ]
    },
    {
     "name": "stdout",
     "output_type": "stream",
     "text": [
      "\n",
      "DIMENSION: sg_data_point\n",
      "{latitude, longitude, time, depth}\n"
     ]
    },
    {
     "name": "stderr",
     "output_type": "stream",
     "text": [
      " 89%|██████████████████████████████████▋    | 1304/1467 [10:27<01:14,  2.19it/s]/home/dIOGOLOC/programs/anaconda3/lib/python3.10/site-packages/glidertools/load/seaglider.py:227: GliderToolsWarning: dives was not found in the files\n",
      "  warnings.warn(msg, GliderToolsWarning)\n"
     ]
    },
    {
     "name": "stdout",
     "output_type": "stream",
     "text": [
      "\n",
      "DIMENSION: sg_data_point\n",
      "{latitude, longitude, time, depth}\n"
     ]
    },
    {
     "name": "stderr",
     "output_type": "stream",
     "text": [
      " 89%|██████████████████████████████████▋    | 1305/1467 [10:28<01:13,  2.20it/s]/home/dIOGOLOC/programs/anaconda3/lib/python3.10/site-packages/glidertools/load/seaglider.py:227: GliderToolsWarning: dives was not found in the files\n",
      "  warnings.warn(msg, GliderToolsWarning)\n"
     ]
    },
    {
     "name": "stdout",
     "output_type": "stream",
     "text": [
      "\n",
      "DIMENSION: sg_data_point\n",
      "{latitude, longitude, time, depth}\n"
     ]
    },
    {
     "name": "stderr",
     "output_type": "stream",
     "text": [
      " 89%|██████████████████████████████████▋    | 1306/1467 [10:28<01:13,  2.20it/s]/home/dIOGOLOC/programs/anaconda3/lib/python3.10/site-packages/glidertools/load/seaglider.py:227: GliderToolsWarning: dives was not found in the files\n",
      "  warnings.warn(msg, GliderToolsWarning)\n"
     ]
    },
    {
     "name": "stdout",
     "output_type": "stream",
     "text": [
      "\n",
      "DIMENSION: sg_data_point\n",
      "{latitude, longitude, time, depth}\n"
     ]
    },
    {
     "name": "stderr",
     "output_type": "stream",
     "text": [
      " 89%|██████████████████████████████████▋    | 1307/1467 [10:29<01:18,  2.04it/s]/home/dIOGOLOC/programs/anaconda3/lib/python3.10/site-packages/glidertools/load/seaglider.py:227: GliderToolsWarning: dives was not found in the files\n",
      "  warnings.warn(msg, GliderToolsWarning)\n"
     ]
    },
    {
     "name": "stdout",
     "output_type": "stream",
     "text": [
      "\n",
      "DIMENSION: sg_data_point\n",
      "{latitude, longitude, time, depth}\n"
     ]
    },
    {
     "name": "stderr",
     "output_type": "stream",
     "text": [
      " 89%|██████████████████████████████████▊    | 1308/1467 [10:29<01:15,  2.11it/s]/home/dIOGOLOC/programs/anaconda3/lib/python3.10/site-packages/glidertools/load/seaglider.py:227: GliderToolsWarning: dives was not found in the files\n",
      "  warnings.warn(msg, GliderToolsWarning)\n"
     ]
    },
    {
     "name": "stdout",
     "output_type": "stream",
     "text": [
      "\n",
      "DIMENSION: sg_data_point\n",
      "{latitude, longitude, time, depth}\n"
     ]
    },
    {
     "name": "stderr",
     "output_type": "stream",
     "text": [
      " 89%|██████████████████████████████████▊    | 1309/1467 [10:30<01:12,  2.17it/s]/home/dIOGOLOC/programs/anaconda3/lib/python3.10/site-packages/glidertools/load/seaglider.py:227: GliderToolsWarning: dives was not found in the files\n",
      "  warnings.warn(msg, GliderToolsWarning)\n"
     ]
    },
    {
     "name": "stdout",
     "output_type": "stream",
     "text": [
      "\n",
      "DIMENSION: sg_data_point\n",
      "{latitude, longitude, time, depth}\n"
     ]
    },
    {
     "name": "stderr",
     "output_type": "stream",
     "text": [
      " 89%|██████████████████████████████████▊    | 1310/1467 [10:30<01:10,  2.21it/s]/home/dIOGOLOC/programs/anaconda3/lib/python3.10/site-packages/glidertools/load/seaglider.py:227: GliderToolsWarning: dives was not found in the files\n",
      "  warnings.warn(msg, GliderToolsWarning)\n"
     ]
    },
    {
     "name": "stdout",
     "output_type": "stream",
     "text": [
      "\n",
      "DIMENSION: sg_data_point\n",
      "{latitude, longitude, time, depth}\n"
     ]
    },
    {
     "name": "stderr",
     "output_type": "stream",
     "text": [
      " 89%|██████████████████████████████████▊    | 1311/1467 [10:30<01:09,  2.24it/s]/home/dIOGOLOC/programs/anaconda3/lib/python3.10/site-packages/glidertools/load/seaglider.py:227: GliderToolsWarning: dives was not found in the files\n",
      "  warnings.warn(msg, GliderToolsWarning)\n"
     ]
    },
    {
     "name": "stdout",
     "output_type": "stream",
     "text": [
      "\n",
      "DIMENSION: sg_data_point\n",
      "{latitude, longitude, time, depth}\n"
     ]
    },
    {
     "name": "stderr",
     "output_type": "stream",
     "text": [
      " 89%|██████████████████████████████████▉    | 1312/1467 [10:31<01:08,  2.26it/s]/home/dIOGOLOC/programs/anaconda3/lib/python3.10/site-packages/glidertools/load/seaglider.py:227: GliderToolsWarning: dives was not found in the files\n",
      "  warnings.warn(msg, GliderToolsWarning)\n"
     ]
    },
    {
     "name": "stdout",
     "output_type": "stream",
     "text": [
      "\n",
      "DIMENSION: sg_data_point\n",
      "{latitude, longitude, time, depth}\n"
     ]
    },
    {
     "name": "stderr",
     "output_type": "stream",
     "text": [
      " 90%|██████████████████████████████████▉    | 1313/1467 [10:31<01:07,  2.29it/s]/home/dIOGOLOC/programs/anaconda3/lib/python3.10/site-packages/glidertools/load/seaglider.py:227: GliderToolsWarning: dives was not found in the files\n",
      "  warnings.warn(msg, GliderToolsWarning)\n"
     ]
    },
    {
     "name": "stdout",
     "output_type": "stream",
     "text": [
      "\n",
      "DIMENSION: sg_data_point\n",
      "{latitude, longitude, time, depth}\n"
     ]
    },
    {
     "name": "stderr",
     "output_type": "stream",
     "text": [
      " 90%|██████████████████████████████████▉    | 1314/1467 [10:32<01:06,  2.30it/s]/home/dIOGOLOC/programs/anaconda3/lib/python3.10/site-packages/glidertools/load/seaglider.py:227: GliderToolsWarning: dives was not found in the files\n",
      "  warnings.warn(msg, GliderToolsWarning)\n"
     ]
    },
    {
     "name": "stdout",
     "output_type": "stream",
     "text": [
      "\n",
      "DIMENSION: sg_data_point\n",
      "{latitude, longitude, time, depth}\n"
     ]
    },
    {
     "name": "stderr",
     "output_type": "stream",
     "text": [
      " 90%|██████████████████████████████████▉    | 1315/1467 [10:32<01:05,  2.33it/s]/home/dIOGOLOC/programs/anaconda3/lib/python3.10/site-packages/glidertools/load/seaglider.py:227: GliderToolsWarning: dives was not found in the files\n",
      "  warnings.warn(msg, GliderToolsWarning)\n"
     ]
    },
    {
     "name": "stdout",
     "output_type": "stream",
     "text": [
      "\n",
      "DIMENSION: sg_data_point\n",
      "{latitude, longitude, time, depth}\n"
     ]
    },
    {
     "name": "stderr",
     "output_type": "stream",
     "text": [
      " 90%|██████████████████████████████████▉    | 1316/1467 [10:33<01:05,  2.29it/s]/home/dIOGOLOC/programs/anaconda3/lib/python3.10/site-packages/glidertools/load/seaglider.py:227: GliderToolsWarning: dives was not found in the files\n",
      "  warnings.warn(msg, GliderToolsWarning)\n"
     ]
    },
    {
     "name": "stdout",
     "output_type": "stream",
     "text": [
      "\n",
      "DIMENSION: sg_data_point\n",
      "{latitude, longitude, time, depth}\n"
     ]
    },
    {
     "name": "stderr",
     "output_type": "stream",
     "text": [
      " 90%|███████████████████████████████████    | 1317/1467 [10:33<01:05,  2.27it/s]/home/dIOGOLOC/programs/anaconda3/lib/python3.10/site-packages/glidertools/load/seaglider.py:227: GliderToolsWarning: dives was not found in the files\n",
      "  warnings.warn(msg, GliderToolsWarning)\n"
     ]
    },
    {
     "name": "stdout",
     "output_type": "stream",
     "text": [
      "\n",
      "DIMENSION: sg_data_point\n",
      "{latitude, longitude, time, depth}\n"
     ]
    },
    {
     "name": "stderr",
     "output_type": "stream",
     "text": [
      " 90%|███████████████████████████████████    | 1318/1467 [10:33<01:04,  2.30it/s]/home/dIOGOLOC/programs/anaconda3/lib/python3.10/site-packages/glidertools/load/seaglider.py:227: GliderToolsWarning: dives was not found in the files\n",
      "  warnings.warn(msg, GliderToolsWarning)\n"
     ]
    },
    {
     "name": "stdout",
     "output_type": "stream",
     "text": [
      "\n",
      "DIMENSION: sg_data_point\n",
      "{latitude, longitude, time, depth}\n"
     ]
    },
    {
     "name": "stderr",
     "output_type": "stream",
     "text": [
      " 90%|███████████████████████████████████    | 1319/1467 [10:34<01:09,  2.14it/s]/home/dIOGOLOC/programs/anaconda3/lib/python3.10/site-packages/glidertools/load/seaglider.py:227: GliderToolsWarning: dives was not found in the files\n",
      "  warnings.warn(msg, GliderToolsWarning)\n"
     ]
    },
    {
     "name": "stdout",
     "output_type": "stream",
     "text": [
      "\n",
      "DIMENSION: sg_data_point\n",
      "{latitude, longitude, time, depth}\n"
     ]
    },
    {
     "name": "stderr",
     "output_type": "stream",
     "text": [
      " 90%|███████████████████████████████████    | 1320/1467 [10:34<01:07,  2.18it/s]/home/dIOGOLOC/programs/anaconda3/lib/python3.10/site-packages/glidertools/load/seaglider.py:227: GliderToolsWarning: dives was not found in the files\n",
      "  warnings.warn(msg, GliderToolsWarning)\n"
     ]
    },
    {
     "name": "stdout",
     "output_type": "stream",
     "text": [
      "\n",
      "DIMENSION: sg_data_point\n",
      "{latitude, longitude, time, depth}\n"
     ]
    },
    {
     "name": "stderr",
     "output_type": "stream",
     "text": [
      " 90%|███████████████████████████████████    | 1321/1467 [10:35<01:06,  2.21it/s]/home/dIOGOLOC/programs/anaconda3/lib/python3.10/site-packages/glidertools/load/seaglider.py:227: GliderToolsWarning: dives was not found in the files\n",
      "  warnings.warn(msg, GliderToolsWarning)\n"
     ]
    },
    {
     "name": "stdout",
     "output_type": "stream",
     "text": [
      "\n",
      "DIMENSION: sg_data_point\n",
      "{latitude, longitude, time, depth}\n"
     ]
    },
    {
     "name": "stderr",
     "output_type": "stream",
     "text": [
      " 90%|███████████████████████████████████▏   | 1322/1467 [10:35<01:04,  2.24it/s]/home/dIOGOLOC/programs/anaconda3/lib/python3.10/site-packages/glidertools/load/seaglider.py:227: GliderToolsWarning: dives was not found in the files\n",
      "  warnings.warn(msg, GliderToolsWarning)\n"
     ]
    },
    {
     "name": "stdout",
     "output_type": "stream",
     "text": [
      "\n",
      "DIMENSION: sg_data_point\n",
      "{latitude, longitude, time, depth}\n"
     ]
    },
    {
     "name": "stderr",
     "output_type": "stream",
     "text": [
      " 90%|███████████████████████████████████▏   | 1323/1467 [10:36<01:03,  2.27it/s]/home/dIOGOLOC/programs/anaconda3/lib/python3.10/site-packages/glidertools/load/seaglider.py:227: GliderToolsWarning: dives was not found in the files\n",
      "  warnings.warn(msg, GliderToolsWarning)\n"
     ]
    },
    {
     "name": "stdout",
     "output_type": "stream",
     "text": [
      "\n",
      "DIMENSION: sg_data_point\n",
      "{latitude, longitude, time, depth}\n"
     ]
    },
    {
     "name": "stderr",
     "output_type": "stream",
     "text": [
      " 90%|███████████████████████████████████▏   | 1324/1467 [10:36<01:02,  2.28it/s]/home/dIOGOLOC/programs/anaconda3/lib/python3.10/site-packages/glidertools/load/seaglider.py:227: GliderToolsWarning: dives was not found in the files\n",
      "  warnings.warn(msg, GliderToolsWarning)\n"
     ]
    },
    {
     "name": "stdout",
     "output_type": "stream",
     "text": [
      "\n",
      "DIMENSION: sg_data_point\n",
      "{latitude, longitude, time, depth}\n"
     ]
    },
    {
     "name": "stderr",
     "output_type": "stream",
     "text": [
      " 90%|███████████████████████████████████▏   | 1325/1467 [10:37<01:01,  2.29it/s]/home/dIOGOLOC/programs/anaconda3/lib/python3.10/site-packages/glidertools/load/seaglider.py:227: GliderToolsWarning: dives was not found in the files\n",
      "  warnings.warn(msg, GliderToolsWarning)\n"
     ]
    },
    {
     "name": "stdout",
     "output_type": "stream",
     "text": [
      "\n",
      "DIMENSION: sg_data_point\n",
      "{latitude, longitude, time, depth}\n"
     ]
    },
    {
     "name": "stderr",
     "output_type": "stream",
     "text": [
      " 90%|███████████████████████████████████▎   | 1326/1467 [10:37<01:01,  2.30it/s]/home/dIOGOLOC/programs/anaconda3/lib/python3.10/site-packages/glidertools/load/seaglider.py:227: GliderToolsWarning: dives was not found in the files\n",
      "  warnings.warn(msg, GliderToolsWarning)\n"
     ]
    },
    {
     "name": "stdout",
     "output_type": "stream",
     "text": [
      "\n",
      "DIMENSION: sg_data_point\n",
      "{latitude, longitude, time, depth}\n"
     ]
    },
    {
     "name": "stderr",
     "output_type": "stream",
     "text": [
      " 90%|███████████████████████████████████▎   | 1327/1467 [10:37<01:00,  2.30it/s]/home/dIOGOLOC/programs/anaconda3/lib/python3.10/site-packages/glidertools/load/seaglider.py:227: GliderToolsWarning: dives was not found in the files\n",
      "  warnings.warn(msg, GliderToolsWarning)\n"
     ]
    },
    {
     "name": "stdout",
     "output_type": "stream",
     "text": [
      "\n",
      "DIMENSION: sg_data_point\n",
      "{latitude, longitude, time, depth}\n"
     ]
    },
    {
     "name": "stderr",
     "output_type": "stream",
     "text": [
      " 91%|███████████████████████████████████▎   | 1328/1467 [10:38<01:01,  2.26it/s]/home/dIOGOLOC/programs/anaconda3/lib/python3.10/site-packages/glidertools/load/seaglider.py:227: GliderToolsWarning: dives was not found in the files\n",
      "  warnings.warn(msg, GliderToolsWarning)\n"
     ]
    },
    {
     "name": "stdout",
     "output_type": "stream",
     "text": [
      "\n",
      "DIMENSION: sg_data_point\n",
      "{latitude, longitude, time, depth}\n"
     ]
    },
    {
     "name": "stderr",
     "output_type": "stream",
     "text": [
      " 91%|███████████████████████████████████▎   | 1329/1467 [10:39<01:11,  1.92it/s]/home/dIOGOLOC/programs/anaconda3/lib/python3.10/site-packages/glidertools/load/seaglider.py:227: GliderToolsWarning: dives was not found in the files\n",
      "  warnings.warn(msg, GliderToolsWarning)\n"
     ]
    },
    {
     "name": "stdout",
     "output_type": "stream",
     "text": [
      "\n",
      "DIMENSION: sg_data_point\n",
      "{latitude, longitude, time, depth}\n"
     ]
    },
    {
     "name": "stderr",
     "output_type": "stream",
     "text": [
      " 91%|███████████████████████████████████▎   | 1330/1467 [10:39<01:13,  1.88it/s]/home/dIOGOLOC/programs/anaconda3/lib/python3.10/site-packages/glidertools/load/seaglider.py:227: GliderToolsWarning: dives was not found in the files\n",
      "  warnings.warn(msg, GliderToolsWarning)\n"
     ]
    },
    {
     "name": "stdout",
     "output_type": "stream",
     "text": [
      "\n",
      "DIMENSION: sg_data_point\n",
      "{latitude, longitude, time, depth}\n"
     ]
    },
    {
     "name": "stderr",
     "output_type": "stream",
     "text": [
      " 91%|███████████████████████████████████▍   | 1331/1467 [10:40<01:15,  1.81it/s]/home/dIOGOLOC/programs/anaconda3/lib/python3.10/site-packages/glidertools/load/seaglider.py:227: GliderToolsWarning: dives was not found in the files\n",
      "  warnings.warn(msg, GliderToolsWarning)\n"
     ]
    },
    {
     "name": "stdout",
     "output_type": "stream",
     "text": [
      "\n",
      "DIMENSION: sg_data_point\n",
      "{latitude, longitude, time, depth}\n"
     ]
    },
    {
     "name": "stderr",
     "output_type": "stream",
     "text": [
      " 91%|███████████████████████████████████▍   | 1332/1467 [10:40<01:09,  1.94it/s]/home/dIOGOLOC/programs/anaconda3/lib/python3.10/site-packages/glidertools/load/seaglider.py:227: GliderToolsWarning: dives was not found in the files\n",
      "  warnings.warn(msg, GliderToolsWarning)\n"
     ]
    },
    {
     "name": "stdout",
     "output_type": "stream",
     "text": [
      "\n",
      "DIMENSION: sg_data_point\n",
      "{latitude, longitude, time, depth}\n"
     ]
    },
    {
     "name": "stderr",
     "output_type": "stream",
     "text": [
      " 91%|███████████████████████████████████▍   | 1333/1467 [10:41<01:05,  2.03it/s]/home/dIOGOLOC/programs/anaconda3/lib/python3.10/site-packages/glidertools/load/seaglider.py:227: GliderToolsWarning: dives was not found in the files\n",
      "  warnings.warn(msg, GliderToolsWarning)\n"
     ]
    },
    {
     "name": "stdout",
     "output_type": "stream",
     "text": [
      "\n",
      "DIMENSION: sg_data_point\n",
      "{latitude, longitude, time, depth}\n"
     ]
    },
    {
     "name": "stderr",
     "output_type": "stream",
     "text": [
      " 91%|███████████████████████████████████▍   | 1334/1467 [10:41<01:03,  2.10it/s]/home/dIOGOLOC/programs/anaconda3/lib/python3.10/site-packages/glidertools/load/seaglider.py:227: GliderToolsWarning: dives was not found in the files\n",
      "  warnings.warn(msg, GliderToolsWarning)\n"
     ]
    },
    {
     "name": "stdout",
     "output_type": "stream",
     "text": [
      "\n",
      "DIMENSION: sg_data_point\n",
      "{latitude, longitude, time, depth}\n"
     ]
    },
    {
     "name": "stderr",
     "output_type": "stream",
     "text": [
      " 91%|███████████████████████████████████▍   | 1335/1467 [10:41<01:01,  2.15it/s]/home/dIOGOLOC/programs/anaconda3/lib/python3.10/site-packages/glidertools/load/seaglider.py:227: GliderToolsWarning: dives was not found in the files\n",
      "  warnings.warn(msg, GliderToolsWarning)\n"
     ]
    },
    {
     "name": "stdout",
     "output_type": "stream",
     "text": [
      "\n",
      "DIMENSION: sg_data_point\n",
      "{latitude, longitude, time, depth}\n"
     ]
    },
    {
     "name": "stderr",
     "output_type": "stream",
     "text": [
      " 91%|███████████████████████████████████▌   | 1336/1467 [10:42<01:00,  2.17it/s]/home/dIOGOLOC/programs/anaconda3/lib/python3.10/site-packages/glidertools/load/seaglider.py:227: GliderToolsWarning: dives was not found in the files\n",
      "  warnings.warn(msg, GliderToolsWarning)\n"
     ]
    },
    {
     "name": "stdout",
     "output_type": "stream",
     "text": [
      "\n",
      "DIMENSION: sg_data_point\n",
      "{latitude, longitude, time, depth}\n"
     ]
    },
    {
     "name": "stderr",
     "output_type": "stream",
     "text": [
      " 91%|███████████████████████████████████▌   | 1337/1467 [10:42<00:59,  2.18it/s]/home/dIOGOLOC/programs/anaconda3/lib/python3.10/site-packages/glidertools/load/seaglider.py:227: GliderToolsWarning: dives was not found in the files\n",
      "  warnings.warn(msg, GliderToolsWarning)\n"
     ]
    },
    {
     "name": "stdout",
     "output_type": "stream",
     "text": [
      "\n",
      "DIMENSION: sg_data_point\n",
      "{latitude, longitude, time, depth}\n"
     ]
    },
    {
     "name": "stderr",
     "output_type": "stream",
     "text": [
      " 91%|███████████████████████████████████▌   | 1338/1467 [10:43<00:58,  2.22it/s]/home/dIOGOLOC/programs/anaconda3/lib/python3.10/site-packages/glidertools/load/seaglider.py:227: GliderToolsWarning: dives was not found in the files\n",
      "  warnings.warn(msg, GliderToolsWarning)\n"
     ]
    },
    {
     "name": "stdout",
     "output_type": "stream",
     "text": [
      "\n",
      "DIMENSION: sg_data_point\n",
      "{latitude, longitude, time, depth}\n"
     ]
    },
    {
     "name": "stderr",
     "output_type": "stream",
     "text": [
      " 91%|███████████████████████████████████▌   | 1339/1467 [10:43<00:56,  2.26it/s]/home/dIOGOLOC/programs/anaconda3/lib/python3.10/site-packages/glidertools/load/seaglider.py:227: GliderToolsWarning: dives was not found in the files\n",
      "  warnings.warn(msg, GliderToolsWarning)\n"
     ]
    },
    {
     "name": "stdout",
     "output_type": "stream",
     "text": [
      "\n",
      "DIMENSION: sg_data_point\n",
      "{latitude, longitude, time, depth}\n"
     ]
    },
    {
     "name": "stderr",
     "output_type": "stream",
     "text": [
      " 91%|███████████████████████████████████▌   | 1340/1467 [10:44<00:55,  2.28it/s]/home/dIOGOLOC/programs/anaconda3/lib/python3.10/site-packages/glidertools/load/seaglider.py:227: GliderToolsWarning: dives was not found in the files\n",
      "  warnings.warn(msg, GliderToolsWarning)\n"
     ]
    },
    {
     "name": "stdout",
     "output_type": "stream",
     "text": [
      "\n",
      "DIMENSION: sg_data_point\n",
      "{latitude, longitude, time, depth}\n"
     ]
    },
    {
     "name": "stderr",
     "output_type": "stream",
     "text": [
      " 91%|███████████████████████████████████▋   | 1341/1467 [10:44<00:54,  2.31it/s]/home/dIOGOLOC/programs/anaconda3/lib/python3.10/site-packages/glidertools/load/seaglider.py:227: GliderToolsWarning: dives was not found in the files\n",
      "  warnings.warn(msg, GliderToolsWarning)\n"
     ]
    },
    {
     "name": "stdout",
     "output_type": "stream",
     "text": [
      "\n",
      "DIMENSION: sg_data_point\n",
      "{latitude, longitude, time, depth}\n"
     ]
    },
    {
     "name": "stderr",
     "output_type": "stream",
     "text": [
      " 91%|███████████████████████████████████▋   | 1342/1467 [10:45<00:54,  2.31it/s]/home/dIOGOLOC/programs/anaconda3/lib/python3.10/site-packages/glidertools/load/seaglider.py:227: GliderToolsWarning: dives was not found in the files\n",
      "  warnings.warn(msg, GliderToolsWarning)\n"
     ]
    },
    {
     "name": "stdout",
     "output_type": "stream",
     "text": [
      "\n",
      "DIMENSION: sg_data_point\n",
      "{latitude, longitude, time, depth}\n"
     ]
    },
    {
     "name": "stderr",
     "output_type": "stream",
     "text": [
      " 92%|███████████████████████████████████▋   | 1343/1467 [10:45<00:57,  2.15it/s]/home/dIOGOLOC/programs/anaconda3/lib/python3.10/site-packages/glidertools/load/seaglider.py:227: GliderToolsWarning: dives was not found in the files\n",
      "  warnings.warn(msg, GliderToolsWarning)\n"
     ]
    },
    {
     "name": "stdout",
     "output_type": "stream",
     "text": [
      "\n",
      "DIMENSION: sg_data_point\n",
      "{latitude, longitude, time, depth}\n"
     ]
    },
    {
     "name": "stderr",
     "output_type": "stream",
     "text": [
      " 92%|███████████████████████████████████▋   | 1344/1467 [10:46<00:56,  2.19it/s]/home/dIOGOLOC/programs/anaconda3/lib/python3.10/site-packages/glidertools/load/seaglider.py:227: GliderToolsWarning: dives was not found in the files\n",
      "  warnings.warn(msg, GliderToolsWarning)\n"
     ]
    },
    {
     "name": "stdout",
     "output_type": "stream",
     "text": [
      "\n",
      "DIMENSION: sg_data_point\n",
      "{latitude, longitude, time, depth}\n"
     ]
    },
    {
     "name": "stderr",
     "output_type": "stream",
     "text": [
      " 92%|███████████████████████████████████▊   | 1345/1467 [10:46<00:54,  2.23it/s]/home/dIOGOLOC/programs/anaconda3/lib/python3.10/site-packages/glidertools/load/seaglider.py:227: GliderToolsWarning: dives was not found in the files\n",
      "  warnings.warn(msg, GliderToolsWarning)\n"
     ]
    },
    {
     "name": "stdout",
     "output_type": "stream",
     "text": [
      "\n",
      "DIMENSION: sg_data_point\n",
      "{latitude, longitude, time, depth}\n"
     ]
    },
    {
     "name": "stderr",
     "output_type": "stream",
     "text": [
      " 92%|███████████████████████████████████▊   | 1346/1467 [10:46<00:53,  2.25it/s]/home/dIOGOLOC/programs/anaconda3/lib/python3.10/site-packages/glidertools/load/seaglider.py:227: GliderToolsWarning: dives was not found in the files\n",
      "  warnings.warn(msg, GliderToolsWarning)\n"
     ]
    },
    {
     "name": "stdout",
     "output_type": "stream",
     "text": [
      "\n",
      "DIMENSION: sg_data_point\n",
      "{latitude, longitude, time, depth}\n"
     ]
    },
    {
     "name": "stderr",
     "output_type": "stream",
     "text": [
      " 92%|███████████████████████████████████▊   | 1347/1467 [10:47<00:53,  2.26it/s]/home/dIOGOLOC/programs/anaconda3/lib/python3.10/site-packages/glidertools/load/seaglider.py:227: GliderToolsWarning: dives was not found in the files\n",
      "  warnings.warn(msg, GliderToolsWarning)\n"
     ]
    },
    {
     "name": "stdout",
     "output_type": "stream",
     "text": [
      "\n",
      "DIMENSION: sg_data_point\n",
      "{latitude, longitude, time, depth}\n"
     ]
    },
    {
     "name": "stderr",
     "output_type": "stream",
     "text": [
      " 92%|███████████████████████████████████▊   | 1348/1467 [10:47<00:52,  2.28it/s]/home/dIOGOLOC/programs/anaconda3/lib/python3.10/site-packages/glidertools/load/seaglider.py:227: GliderToolsWarning: dives was not found in the files\n",
      "  warnings.warn(msg, GliderToolsWarning)\n"
     ]
    },
    {
     "name": "stdout",
     "output_type": "stream",
     "text": [
      "\n",
      "DIMENSION: sg_data_point\n",
      "{latitude, longitude, time, depth}\n"
     ]
    },
    {
     "name": "stderr",
     "output_type": "stream",
     "text": [
      " 92%|███████████████████████████████████▊   | 1349/1467 [10:48<00:51,  2.28it/s]/home/dIOGOLOC/programs/anaconda3/lib/python3.10/site-packages/glidertools/load/seaglider.py:227: GliderToolsWarning: dives was not found in the files\n",
      "  warnings.warn(msg, GliderToolsWarning)\n"
     ]
    },
    {
     "name": "stdout",
     "output_type": "stream",
     "text": [
      "\n",
      "DIMENSION: sg_data_point\n",
      "{latitude, longitude, time, depth}\n"
     ]
    },
    {
     "name": "stderr",
     "output_type": "stream",
     "text": [
      " 92%|███████████████████████████████████▉   | 1350/1467 [10:48<00:51,  2.26it/s]/home/dIOGOLOC/programs/anaconda3/lib/python3.10/site-packages/glidertools/load/seaglider.py:227: GliderToolsWarning: dives was not found in the files\n",
      "  warnings.warn(msg, GliderToolsWarning)\n"
     ]
    },
    {
     "name": "stdout",
     "output_type": "stream",
     "text": [
      "\n",
      "DIMENSION: sg_data_point\n",
      "{latitude, longitude, time, depth}\n"
     ]
    },
    {
     "name": "stderr",
     "output_type": "stream",
     "text": [
      " 92%|███████████████████████████████████▉   | 1351/1467 [10:49<00:51,  2.27it/s]/home/dIOGOLOC/programs/anaconda3/lib/python3.10/site-packages/glidertools/load/seaglider.py:227: GliderToolsWarning: dives was not found in the files\n",
      "  warnings.warn(msg, GliderToolsWarning)\n"
     ]
    },
    {
     "name": "stdout",
     "output_type": "stream",
     "text": [
      "\n",
      "DIMENSION: sg_data_point\n",
      "{latitude, longitude, time, depth}\n"
     ]
    },
    {
     "name": "stderr",
     "output_type": "stream",
     "text": [
      " 92%|███████████████████████████████████▉   | 1352/1467 [10:49<00:50,  2.29it/s]/home/dIOGOLOC/programs/anaconda3/lib/python3.10/site-packages/glidertools/load/seaglider.py:227: GliderToolsWarning: dives was not found in the files\n",
      "  warnings.warn(msg, GliderToolsWarning)\n"
     ]
    },
    {
     "name": "stdout",
     "output_type": "stream",
     "text": [
      "\n",
      "DIMENSION: sg_data_point\n",
      "{latitude, longitude, time, depth}\n"
     ]
    },
    {
     "name": "stderr",
     "output_type": "stream",
     "text": [
      " 92%|███████████████████████████████████▉   | 1353/1467 [10:49<00:49,  2.28it/s]/home/dIOGOLOC/programs/anaconda3/lib/python3.10/site-packages/glidertools/load/seaglider.py:227: GliderToolsWarning: dives was not found in the files\n",
      "  warnings.warn(msg, GliderToolsWarning)\n"
     ]
    },
    {
     "name": "stdout",
     "output_type": "stream",
     "text": [
      "\n",
      "DIMENSION: sg_data_point\n",
      "{latitude, longitude, time, depth}\n"
     ]
    },
    {
     "name": "stderr",
     "output_type": "stream",
     "text": [
      " 92%|███████████████████████████████████▉   | 1354/1467 [10:50<00:53,  2.11it/s]/home/dIOGOLOC/programs/anaconda3/lib/python3.10/site-packages/glidertools/load/seaglider.py:227: GliderToolsWarning: dives was not found in the files\n",
      "  warnings.warn(msg, GliderToolsWarning)\n"
     ]
    },
    {
     "name": "stdout",
     "output_type": "stream",
     "text": [
      "\n",
      "DIMENSION: sg_data_point\n",
      "{latitude, longitude, time, depth}\n"
     ]
    },
    {
     "name": "stderr",
     "output_type": "stream",
     "text": [
      " 92%|████████████████████████████████████   | 1355/1467 [10:50<00:52,  2.14it/s]/home/dIOGOLOC/programs/anaconda3/lib/python3.10/site-packages/glidertools/load/seaglider.py:227: GliderToolsWarning: dives was not found in the files\n",
      "  warnings.warn(msg, GliderToolsWarning)\n"
     ]
    },
    {
     "name": "stdout",
     "output_type": "stream",
     "text": [
      "\n",
      "DIMENSION: sg_data_point\n",
      "{latitude, longitude, time, depth}\n"
     ]
    },
    {
     "name": "stderr",
     "output_type": "stream",
     "text": [
      " 92%|████████████████████████████████████   | 1356/1467 [10:51<00:52,  2.12it/s]/home/dIOGOLOC/programs/anaconda3/lib/python3.10/site-packages/glidertools/load/seaglider.py:227: GliderToolsWarning: dives was not found in the files\n",
      "  warnings.warn(msg, GliderToolsWarning)\n"
     ]
    },
    {
     "name": "stdout",
     "output_type": "stream",
     "text": [
      "\n",
      "DIMENSION: sg_data_point\n",
      "{latitude, longitude, time, depth}\n"
     ]
    },
    {
     "name": "stderr",
     "output_type": "stream",
     "text": [
      " 93%|████████████████████████████████████   | 1357/1467 [10:51<00:52,  2.09it/s]/home/dIOGOLOC/programs/anaconda3/lib/python3.10/site-packages/glidertools/load/seaglider.py:227: GliderToolsWarning: dives was not found in the files\n",
      "  warnings.warn(msg, GliderToolsWarning)\n"
     ]
    },
    {
     "name": "stdout",
     "output_type": "stream",
     "text": [
      "\n",
      "DIMENSION: sg_data_point\n",
      "{latitude, longitude, time, depth}\n"
     ]
    },
    {
     "name": "stderr",
     "output_type": "stream",
     "text": [
      " 93%|████████████████████████████████████   | 1358/1467 [10:52<00:51,  2.12it/s]/home/dIOGOLOC/programs/anaconda3/lib/python3.10/site-packages/glidertools/load/seaglider.py:227: GliderToolsWarning: dives was not found in the files\n",
      "  warnings.warn(msg, GliderToolsWarning)\n"
     ]
    },
    {
     "name": "stdout",
     "output_type": "stream",
     "text": [
      "\n",
      "DIMENSION: sg_data_point\n",
      "{latitude, longitude, time, depth}\n"
     ]
    },
    {
     "name": "stderr",
     "output_type": "stream",
     "text": [
      " 93%|████████████████████████████████████▏  | 1359/1467 [10:52<00:49,  2.16it/s]/home/dIOGOLOC/programs/anaconda3/lib/python3.10/site-packages/glidertools/load/seaglider.py:227: GliderToolsWarning: dives was not found in the files\n",
      "  warnings.warn(msg, GliderToolsWarning)\n"
     ]
    },
    {
     "name": "stdout",
     "output_type": "stream",
     "text": [
      "\n",
      "DIMENSION: sg_data_point\n",
      "{latitude, longitude, time, depth}\n"
     ]
    },
    {
     "name": "stderr",
     "output_type": "stream",
     "text": [
      " 93%|████████████████████████████████████▏  | 1360/1467 [10:53<00:48,  2.20it/s]/home/dIOGOLOC/programs/anaconda3/lib/python3.10/site-packages/glidertools/load/seaglider.py:227: GliderToolsWarning: dives was not found in the files\n",
      "  warnings.warn(msg, GliderToolsWarning)\n"
     ]
    },
    {
     "name": "stdout",
     "output_type": "stream",
     "text": [
      "\n",
      "DIMENSION: sg_data_point\n",
      "{latitude, longitude, time, depth}\n"
     ]
    },
    {
     "name": "stderr",
     "output_type": "stream",
     "text": [
      " 93%|████████████████████████████████████▏  | 1361/1467 [10:53<00:47,  2.24it/s]/home/dIOGOLOC/programs/anaconda3/lib/python3.10/site-packages/glidertools/load/seaglider.py:227: GliderToolsWarning: dives was not found in the files\n",
      "  warnings.warn(msg, GliderToolsWarning)\n"
     ]
    },
    {
     "name": "stdout",
     "output_type": "stream",
     "text": [
      "\n",
      "DIMENSION: sg_data_point\n",
      "{latitude, longitude, time, depth}\n"
     ]
    },
    {
     "name": "stderr",
     "output_type": "stream",
     "text": [
      " 93%|████████████████████████████████████▏  | 1362/1467 [10:54<00:46,  2.27it/s]/home/dIOGOLOC/programs/anaconda3/lib/python3.10/site-packages/glidertools/load/seaglider.py:227: GliderToolsWarning: dives was not found in the files\n",
      "  warnings.warn(msg, GliderToolsWarning)\n"
     ]
    },
    {
     "name": "stdout",
     "output_type": "stream",
     "text": [
      "\n",
      "DIMENSION: sg_data_point\n",
      "{latitude, longitude, time, depth}\n"
     ]
    },
    {
     "name": "stderr",
     "output_type": "stream",
     "text": [
      " 93%|████████████████████████████████████▏  | 1363/1467 [10:54<00:45,  2.28it/s]/home/dIOGOLOC/programs/anaconda3/lib/python3.10/site-packages/glidertools/load/seaglider.py:227: GliderToolsWarning: dives was not found in the files\n",
      "  warnings.warn(msg, GliderToolsWarning)\n"
     ]
    },
    {
     "name": "stdout",
     "output_type": "stream",
     "text": [
      "\n",
      "DIMENSION: sg_data_point\n",
      "{latitude, longitude, time, depth}\n"
     ]
    },
    {
     "name": "stderr",
     "output_type": "stream",
     "text": [
      " 93%|████████████████████████████████████▎  | 1364/1467 [10:54<00:44,  2.29it/s]/home/dIOGOLOC/programs/anaconda3/lib/python3.10/site-packages/glidertools/load/seaglider.py:227: GliderToolsWarning: dives was not found in the files\n",
      "  warnings.warn(msg, GliderToolsWarning)\n"
     ]
    },
    {
     "name": "stdout",
     "output_type": "stream",
     "text": [
      "\n",
      "DIMENSION: sg_data_point\n",
      "{latitude, longitude, time, depth}\n"
     ]
    },
    {
     "name": "stderr",
     "output_type": "stream",
     "text": [
      " 93%|████████████████████████████████████▎  | 1365/1467 [10:55<00:44,  2.30it/s]/home/dIOGOLOC/programs/anaconda3/lib/python3.10/site-packages/glidertools/load/seaglider.py:227: GliderToolsWarning: dives was not found in the files\n",
      "  warnings.warn(msg, GliderToolsWarning)\n"
     ]
    },
    {
     "name": "stdout",
     "output_type": "stream",
     "text": [
      "\n",
      "DIMENSION: sg_data_point\n",
      "{latitude, longitude, time, depth}\n"
     ]
    },
    {
     "name": "stderr",
     "output_type": "stream",
     "text": [
      " 93%|████████████████████████████████████▎  | 1366/1467 [10:55<00:48,  2.09it/s]/home/dIOGOLOC/programs/anaconda3/lib/python3.10/site-packages/glidertools/load/seaglider.py:227: GliderToolsWarning: dives was not found in the files\n",
      "  warnings.warn(msg, GliderToolsWarning)\n"
     ]
    },
    {
     "name": "stdout",
     "output_type": "stream",
     "text": [
      "\n",
      "DIMENSION: sg_data_point\n",
      "{latitude, longitude, time, depth}\n"
     ]
    },
    {
     "name": "stderr",
     "output_type": "stream",
     "text": [
      " 93%|████████████████████████████████████▎  | 1367/1467 [10:56<00:47,  2.12it/s]/home/dIOGOLOC/programs/anaconda3/lib/python3.10/site-packages/glidertools/load/seaglider.py:227: GliderToolsWarning: dives was not found in the files\n",
      "  warnings.warn(msg, GliderToolsWarning)\n"
     ]
    },
    {
     "name": "stdout",
     "output_type": "stream",
     "text": [
      "\n",
      "DIMENSION: sg_data_point\n",
      "{latitude, longitude, time, depth}\n"
     ]
    },
    {
     "name": "stderr",
     "output_type": "stream",
     "text": [
      " 93%|████████████████████████████████████▎  | 1368/1467 [10:56<00:46,  2.13it/s]/home/dIOGOLOC/programs/anaconda3/lib/python3.10/site-packages/glidertools/load/seaglider.py:227: GliderToolsWarning: dives was not found in the files\n",
      "  warnings.warn(msg, GliderToolsWarning)\n"
     ]
    },
    {
     "name": "stdout",
     "output_type": "stream",
     "text": [
      "\n",
      "DIMENSION: sg_data_point\n",
      "{latitude, longitude, time, depth}\n"
     ]
    },
    {
     "name": "stderr",
     "output_type": "stream",
     "text": [
      " 93%|████████████████████████████████████▍  | 1369/1467 [10:57<00:45,  2.14it/s]/home/dIOGOLOC/programs/anaconda3/lib/python3.10/site-packages/glidertools/load/seaglider.py:227: GliderToolsWarning: dives was not found in the files\n",
      "  warnings.warn(msg, GliderToolsWarning)\n"
     ]
    },
    {
     "name": "stdout",
     "output_type": "stream",
     "text": [
      "\n",
      "DIMENSION: sg_data_point\n",
      "{latitude, longitude, time, depth}\n"
     ]
    },
    {
     "name": "stderr",
     "output_type": "stream",
     "text": [
      " 93%|████████████████████████████████████▍  | 1370/1467 [10:57<00:45,  2.15it/s]/home/dIOGOLOC/programs/anaconda3/lib/python3.10/site-packages/glidertools/load/seaglider.py:227: GliderToolsWarning: dives was not found in the files\n",
      "  warnings.warn(msg, GliderToolsWarning)\n"
     ]
    },
    {
     "name": "stdout",
     "output_type": "stream",
     "text": [
      "\n",
      "DIMENSION: sg_data_point\n",
      "{latitude, longitude, time, depth}\n"
     ]
    },
    {
     "name": "stderr",
     "output_type": "stream",
     "text": [
      " 93%|████████████████████████████████████▍  | 1371/1467 [10:58<00:43,  2.19it/s]/home/dIOGOLOC/programs/anaconda3/lib/python3.10/site-packages/glidertools/load/seaglider.py:227: GliderToolsWarning: dives was not found in the files\n",
      "  warnings.warn(msg, GliderToolsWarning)\n"
     ]
    },
    {
     "name": "stdout",
     "output_type": "stream",
     "text": [
      "\n",
      "DIMENSION: sg_data_point\n",
      "{latitude, longitude, time, depth}\n"
     ]
    },
    {
     "name": "stderr",
     "output_type": "stream",
     "text": [
      " 94%|████████████████████████████████████▍  | 1372/1467 [10:58<00:42,  2.24it/s]/home/dIOGOLOC/programs/anaconda3/lib/python3.10/site-packages/glidertools/load/seaglider.py:227: GliderToolsWarning: dives was not found in the files\n",
      "  warnings.warn(msg, GliderToolsWarning)\n"
     ]
    },
    {
     "name": "stdout",
     "output_type": "stream",
     "text": [
      "\n",
      "DIMENSION: sg_data_point\n",
      "{latitude, longitude, time, depth}\n"
     ]
    },
    {
     "name": "stderr",
     "output_type": "stream",
     "text": [
      " 94%|████████████████████████████████████▌  | 1373/1467 [10:59<00:41,  2.27it/s]/home/dIOGOLOC/programs/anaconda3/lib/python3.10/site-packages/glidertools/load/seaglider.py:227: GliderToolsWarning: dives was not found in the files\n",
      "  warnings.warn(msg, GliderToolsWarning)\n"
     ]
    },
    {
     "name": "stdout",
     "output_type": "stream",
     "text": [
      "\n",
      "DIMENSION: sg_data_point\n",
      "{latitude, longitude, time, depth}\n"
     ]
    },
    {
     "name": "stderr",
     "output_type": "stream",
     "text": [
      " 94%|████████████████████████████████████▌  | 1374/1467 [10:59<00:40,  2.29it/s]/home/dIOGOLOC/programs/anaconda3/lib/python3.10/site-packages/glidertools/load/seaglider.py:227: GliderToolsWarning: dives was not found in the files\n",
      "  warnings.warn(msg, GliderToolsWarning)\n"
     ]
    },
    {
     "name": "stdout",
     "output_type": "stream",
     "text": [
      "\n",
      "DIMENSION: sg_data_point\n",
      "{latitude, longitude, time, depth}\n"
     ]
    },
    {
     "name": "stderr",
     "output_type": "stream",
     "text": [
      " 94%|████████████████████████████████████▌  | 1375/1467 [10:59<00:40,  2.30it/s]/home/dIOGOLOC/programs/anaconda3/lib/python3.10/site-packages/glidertools/load/seaglider.py:227: GliderToolsWarning: dives was not found in the files\n",
      "  warnings.warn(msg, GliderToolsWarning)\n"
     ]
    },
    {
     "name": "stdout",
     "output_type": "stream",
     "text": [
      "\n",
      "DIMENSION: sg_data_point\n",
      "{latitude, longitude, time, depth}\n"
     ]
    },
    {
     "name": "stderr",
     "output_type": "stream",
     "text": [
      " 94%|████████████████████████████████████▌  | 1376/1467 [11:00<00:39,  2.29it/s]/home/dIOGOLOC/programs/anaconda3/lib/python3.10/site-packages/glidertools/load/seaglider.py:227: GliderToolsWarning: dives was not found in the files\n",
      "  warnings.warn(msg, GliderToolsWarning)\n"
     ]
    },
    {
     "name": "stdout",
     "output_type": "stream",
     "text": [
      "\n",
      "DIMENSION: sg_data_point\n",
      "{latitude, longitude, time, depth}\n"
     ]
    },
    {
     "name": "stderr",
     "output_type": "stream",
     "text": [
      " 94%|████████████████████████████████████▌  | 1377/1467 [11:00<00:42,  2.12it/s]/home/dIOGOLOC/programs/anaconda3/lib/python3.10/site-packages/glidertools/load/seaglider.py:227: GliderToolsWarning: dives was not found in the files\n",
      "  warnings.warn(msg, GliderToolsWarning)\n"
     ]
    },
    {
     "name": "stdout",
     "output_type": "stream",
     "text": [
      "\n",
      "DIMENSION: sg_data_point\n",
      "{latitude, longitude, time, depth}\n"
     ]
    },
    {
     "name": "stderr",
     "output_type": "stream",
     "text": [
      " 94%|████████████████████████████████████▋  | 1378/1467 [11:01<00:41,  2.17it/s]/home/dIOGOLOC/programs/anaconda3/lib/python3.10/site-packages/glidertools/load/seaglider.py:227: GliderToolsWarning: dives was not found in the files\n",
      "  warnings.warn(msg, GliderToolsWarning)\n"
     ]
    },
    {
     "name": "stdout",
     "output_type": "stream",
     "text": [
      "\n",
      "DIMENSION: sg_data_point\n",
      "{latitude, longitude, time, depth}\n"
     ]
    },
    {
     "name": "stderr",
     "output_type": "stream",
     "text": [
      " 94%|████████████████████████████████████▋  | 1379/1467 [11:01<00:40,  2.17it/s]/home/dIOGOLOC/programs/anaconda3/lib/python3.10/site-packages/glidertools/load/seaglider.py:227: GliderToolsWarning: dives was not found in the files\n",
      "  warnings.warn(msg, GliderToolsWarning)\n"
     ]
    },
    {
     "name": "stdout",
     "output_type": "stream",
     "text": [
      "\n",
      "DIMENSION: sg_data_point\n",
      "{latitude, longitude, time, depth}\n"
     ]
    },
    {
     "name": "stderr",
     "output_type": "stream",
     "text": [
      " 94%|████████████████████████████████████▋  | 1380/1467 [11:02<00:40,  2.17it/s]/home/dIOGOLOC/programs/anaconda3/lib/python3.10/site-packages/glidertools/load/seaglider.py:227: GliderToolsWarning: dives was not found in the files\n",
      "  warnings.warn(msg, GliderToolsWarning)\n"
     ]
    },
    {
     "name": "stdout",
     "output_type": "stream",
     "text": [
      "\n",
      "DIMENSION: sg_data_point\n",
      "{latitude, longitude, time, depth}\n"
     ]
    },
    {
     "name": "stderr",
     "output_type": "stream",
     "text": [
      " 94%|████████████████████████████████████▋  | 1381/1467 [11:02<00:39,  2.20it/s]/home/dIOGOLOC/programs/anaconda3/lib/python3.10/site-packages/glidertools/load/seaglider.py:227: GliderToolsWarning: dives was not found in the files\n",
      "  warnings.warn(msg, GliderToolsWarning)\n"
     ]
    },
    {
     "name": "stdout",
     "output_type": "stream",
     "text": [
      "\n",
      "DIMENSION: sg_data_point\n",
      "{latitude, longitude, time, depth}\n"
     ]
    },
    {
     "name": "stderr",
     "output_type": "stream",
     "text": [
      " 94%|████████████████████████████████████▋  | 1382/1467 [11:03<00:38,  2.23it/s]/home/dIOGOLOC/programs/anaconda3/lib/python3.10/site-packages/glidertools/load/seaglider.py:227: GliderToolsWarning: dives was not found in the files\n",
      "  warnings.warn(msg, GliderToolsWarning)\n"
     ]
    },
    {
     "name": "stdout",
     "output_type": "stream",
     "text": [
      "\n",
      "DIMENSION: sg_data_point\n",
      "{latitude, longitude, time, depth}\n"
     ]
    },
    {
     "name": "stderr",
     "output_type": "stream",
     "text": [
      " 94%|████████████████████████████████████▊  | 1383/1467 [11:03<00:37,  2.26it/s]/home/dIOGOLOC/programs/anaconda3/lib/python3.10/site-packages/glidertools/load/seaglider.py:227: GliderToolsWarning: dives was not found in the files\n",
      "  warnings.warn(msg, GliderToolsWarning)\n"
     ]
    },
    {
     "name": "stdout",
     "output_type": "stream",
     "text": [
      "\n",
      "DIMENSION: sg_data_point\n",
      "{latitude, longitude, time, depth}\n"
     ]
    },
    {
     "name": "stderr",
     "output_type": "stream",
     "text": [
      " 94%|████████████████████████████████████▊  | 1384/1467 [11:04<00:36,  2.28it/s]/home/dIOGOLOC/programs/anaconda3/lib/python3.10/site-packages/glidertools/load/seaglider.py:227: GliderToolsWarning: dives was not found in the files\n",
      "  warnings.warn(msg, GliderToolsWarning)\n"
     ]
    },
    {
     "name": "stdout",
     "output_type": "stream",
     "text": [
      "\n",
      "DIMENSION: sg_data_point\n",
      "{latitude, longitude, time, depth}\n"
     ]
    },
    {
     "name": "stderr",
     "output_type": "stream",
     "text": [
      " 94%|████████████████████████████████████▊  | 1385/1467 [11:04<00:36,  2.26it/s]/home/dIOGOLOC/programs/anaconda3/lib/python3.10/site-packages/glidertools/load/seaglider.py:227: GliderToolsWarning: dives was not found in the files\n",
      "  warnings.warn(msg, GliderToolsWarning)\n"
     ]
    },
    {
     "name": "stdout",
     "output_type": "stream",
     "text": [
      "\n",
      "DIMENSION: sg_data_point\n",
      "{latitude, longitude, time, depth}\n"
     ]
    },
    {
     "name": "stderr",
     "output_type": "stream",
     "text": [
      " 94%|████████████████████████████████████▊  | 1386/1467 [11:04<00:35,  2.27it/s]/home/dIOGOLOC/programs/anaconda3/lib/python3.10/site-packages/glidertools/load/seaglider.py:227: GliderToolsWarning: dives was not found in the files\n",
      "  warnings.warn(msg, GliderToolsWarning)\n"
     ]
    },
    {
     "name": "stdout",
     "output_type": "stream",
     "text": [
      "\n",
      "DIMENSION: sg_data_point\n",
      "{latitude, longitude, time, depth}\n"
     ]
    },
    {
     "name": "stderr",
     "output_type": "stream",
     "text": [
      " 95%|████████████████████████████████████▊  | 1387/1467 [11:05<00:35,  2.25it/s]/home/dIOGOLOC/programs/anaconda3/lib/python3.10/site-packages/glidertools/load/seaglider.py:227: GliderToolsWarning: dives was not found in the files\n",
      "  warnings.warn(msg, GliderToolsWarning)\n"
     ]
    },
    {
     "name": "stdout",
     "output_type": "stream",
     "text": [
      "\n",
      "DIMENSION: sg_data_point\n",
      "{latitude, longitude, time, depth}\n"
     ]
    },
    {
     "name": "stderr",
     "output_type": "stream",
     "text": [
      " 95%|████████████████████████████████████▉  | 1388/1467 [11:05<00:35,  2.20it/s]/home/dIOGOLOC/programs/anaconda3/lib/python3.10/site-packages/glidertools/load/seaglider.py:227: GliderToolsWarning: dives was not found in the files\n",
      "  warnings.warn(msg, GliderToolsWarning)\n"
     ]
    },
    {
     "name": "stdout",
     "output_type": "stream",
     "text": [
      "\n",
      "DIMENSION: sg_data_point\n",
      "{latitude, longitude, time, depth}\n"
     ]
    },
    {
     "name": "stderr",
     "output_type": "stream",
     "text": [
      " 95%|████████████████████████████████████▉  | 1389/1467 [11:06<00:38,  2.03it/s]/home/dIOGOLOC/programs/anaconda3/lib/python3.10/site-packages/glidertools/load/seaglider.py:227: GliderToolsWarning: dives was not found in the files\n",
      "  warnings.warn(msg, GliderToolsWarning)\n"
     ]
    },
    {
     "name": "stdout",
     "output_type": "stream",
     "text": [
      "\n",
      "DIMENSION: sg_data_point\n",
      "{latitude, longitude, time, depth}\n"
     ]
    },
    {
     "name": "stderr",
     "output_type": "stream",
     "text": [
      " 95%|████████████████████████████████████▉  | 1390/1467 [11:06<00:37,  2.08it/s]/home/dIOGOLOC/programs/anaconda3/lib/python3.10/site-packages/glidertools/load/seaglider.py:227: GliderToolsWarning: dives was not found in the files\n",
      "  warnings.warn(msg, GliderToolsWarning)\n"
     ]
    },
    {
     "name": "stdout",
     "output_type": "stream",
     "text": [
      "\n",
      "DIMENSION: sg_data_point\n",
      "{latitude, longitude, time, depth}\n"
     ]
    },
    {
     "name": "stderr",
     "output_type": "stream",
     "text": [
      " 95%|████████████████████████████████████▉  | 1391/1467 [11:07<00:35,  2.12it/s]/home/dIOGOLOC/programs/anaconda3/lib/python3.10/site-packages/glidertools/load/seaglider.py:227: GliderToolsWarning: dives was not found in the files\n",
      "  warnings.warn(msg, GliderToolsWarning)\n"
     ]
    },
    {
     "name": "stdout",
     "output_type": "stream",
     "text": [
      "\n",
      "DIMENSION: sg_data_point\n",
      "{latitude, longitude, time, depth}\n"
     ]
    },
    {
     "name": "stderr",
     "output_type": "stream",
     "text": [
      " 95%|█████████████████████████████████████  | 1392/1467 [11:07<00:34,  2.16it/s]/home/dIOGOLOC/programs/anaconda3/lib/python3.10/site-packages/glidertools/load/seaglider.py:227: GliderToolsWarning: dives was not found in the files\n",
      "  warnings.warn(msg, GliderToolsWarning)\n"
     ]
    },
    {
     "name": "stdout",
     "output_type": "stream",
     "text": [
      "\n",
      "DIMENSION: sg_data_point\n",
      "{latitude, longitude, time, depth}\n"
     ]
    },
    {
     "name": "stderr",
     "output_type": "stream",
     "text": [
      " 95%|█████████████████████████████████████  | 1393/1467 [11:08<00:34,  2.17it/s]/home/dIOGOLOC/programs/anaconda3/lib/python3.10/site-packages/glidertools/load/seaglider.py:227: GliderToolsWarning: dives was not found in the files\n",
      "  warnings.warn(msg, GliderToolsWarning)\n"
     ]
    },
    {
     "name": "stdout",
     "output_type": "stream",
     "text": [
      "\n",
      "DIMENSION: sg_data_point\n",
      "{latitude, longitude, time, depth}\n"
     ]
    },
    {
     "name": "stderr",
     "output_type": "stream",
     "text": [
      " 95%|█████████████████████████████████████  | 1394/1467 [11:08<00:33,  2.16it/s]/home/dIOGOLOC/programs/anaconda3/lib/python3.10/site-packages/glidertools/load/seaglider.py:227: GliderToolsWarning: dives was not found in the files\n",
      "  warnings.warn(msg, GliderToolsWarning)\n"
     ]
    },
    {
     "name": "stdout",
     "output_type": "stream",
     "text": [
      "\n",
      "DIMENSION: sg_data_point\n",
      "{latitude, longitude, time, depth}\n"
     ]
    },
    {
     "name": "stderr",
     "output_type": "stream",
     "text": [
      " 95%|█████████████████████████████████████  | 1395/1467 [11:09<00:34,  2.10it/s]/home/dIOGOLOC/programs/anaconda3/lib/python3.10/site-packages/glidertools/load/seaglider.py:227: GliderToolsWarning: dives was not found in the files\n",
      "  warnings.warn(msg, GliderToolsWarning)\n"
     ]
    },
    {
     "name": "stdout",
     "output_type": "stream",
     "text": [
      "\n",
      "DIMENSION: sg_data_point\n",
      "{latitude, longitude, time, depth}\n"
     ]
    },
    {
     "name": "stderr",
     "output_type": "stream",
     "text": [
      " 95%|█████████████████████████████████████  | 1396/1467 [11:09<00:33,  2.11it/s]/home/dIOGOLOC/programs/anaconda3/lib/python3.10/site-packages/glidertools/load/seaglider.py:227: GliderToolsWarning: dives was not found in the files\n",
      "  warnings.warn(msg, GliderToolsWarning)\n"
     ]
    },
    {
     "name": "stdout",
     "output_type": "stream",
     "text": [
      "\n",
      "DIMENSION: sg_data_point\n",
      "{latitude, longitude, time, depth}\n"
     ]
    },
    {
     "name": "stderr",
     "output_type": "stream",
     "text": [
      " 95%|█████████████████████████████████████▏ | 1397/1467 [11:10<00:33,  2.08it/s]/home/dIOGOLOC/programs/anaconda3/lib/python3.10/site-packages/glidertools/load/seaglider.py:227: GliderToolsWarning: dives was not found in the files\n",
      "  warnings.warn(msg, GliderToolsWarning)\n"
     ]
    },
    {
     "name": "stdout",
     "output_type": "stream",
     "text": [
      "\n",
      "DIMENSION: sg_data_point\n",
      "{latitude, longitude, time, depth}\n"
     ]
    },
    {
     "name": "stderr",
     "output_type": "stream",
     "text": [
      " 95%|█████████████████████████████████████▏ | 1398/1467 [11:10<00:33,  2.06it/s]/home/dIOGOLOC/programs/anaconda3/lib/python3.10/site-packages/glidertools/load/seaglider.py:227: GliderToolsWarning: dives was not found in the files\n",
      "  warnings.warn(msg, GliderToolsWarning)\n"
     ]
    },
    {
     "name": "stdout",
     "output_type": "stream",
     "text": [
      "\n",
      "DIMENSION: sg_data_point\n",
      "{latitude, longitude, time, depth}\n"
     ]
    },
    {
     "name": "stderr",
     "output_type": "stream",
     "text": [
      " 95%|█████████████████████████████████████▏ | 1399/1467 [11:11<00:32,  2.09it/s]/home/dIOGOLOC/programs/anaconda3/lib/python3.10/site-packages/glidertools/load/seaglider.py:227: GliderToolsWarning: dives was not found in the files\n",
      "  warnings.warn(msg, GliderToolsWarning)\n"
     ]
    },
    {
     "name": "stdout",
     "output_type": "stream",
     "text": [
      "\n",
      "DIMENSION: sg_data_point\n",
      "{latitude, longitude, time, depth}\n"
     ]
    },
    {
     "name": "stderr",
     "output_type": "stream",
     "text": [
      " 95%|█████████████████████████████████████▏ | 1400/1467 [11:11<00:33,  2.00it/s]/home/dIOGOLOC/programs/anaconda3/lib/python3.10/site-packages/glidertools/load/seaglider.py:227: GliderToolsWarning: dives was not found in the files\n",
      "  warnings.warn(msg, GliderToolsWarning)\n"
     ]
    },
    {
     "name": "stdout",
     "output_type": "stream",
     "text": [
      "\n",
      "DIMENSION: sg_data_point\n",
      "{latitude, longitude, time, depth}\n"
     ]
    },
    {
     "name": "stderr",
     "output_type": "stream",
     "text": [
      " 96%|█████████████████████████████████████▏ | 1401/1467 [11:12<00:31,  2.08it/s]/home/dIOGOLOC/programs/anaconda3/lib/python3.10/site-packages/glidertools/load/seaglider.py:227: GliderToolsWarning: dives was not found in the files\n",
      "  warnings.warn(msg, GliderToolsWarning)\n"
     ]
    },
    {
     "name": "stdout",
     "output_type": "stream",
     "text": [
      "\n",
      "DIMENSION: sg_data_point\n",
      "{latitude, longitude, time, depth}\n"
     ]
    },
    {
     "name": "stderr",
     "output_type": "stream",
     "text": [
      " 96%|█████████████████████████████████████▎ | 1402/1467 [11:12<00:30,  2.11it/s]/home/dIOGOLOC/programs/anaconda3/lib/python3.10/site-packages/glidertools/load/seaglider.py:227: GliderToolsWarning: dives was not found in the files\n",
      "  warnings.warn(msg, GliderToolsWarning)\n"
     ]
    },
    {
     "name": "stdout",
     "output_type": "stream",
     "text": [
      "\n",
      "DIMENSION: sg_data_point\n",
      "{latitude, longitude, time, depth}\n"
     ]
    },
    {
     "name": "stderr",
     "output_type": "stream",
     "text": [
      " 96%|█████████████████████████████████████▎ | 1403/1467 [11:13<00:31,  2.05it/s]/home/dIOGOLOC/programs/anaconda3/lib/python3.10/site-packages/glidertools/load/seaglider.py:227: GliderToolsWarning: dives was not found in the files\n",
      "  warnings.warn(msg, GliderToolsWarning)\n"
     ]
    },
    {
     "name": "stdout",
     "output_type": "stream",
     "text": [
      "\n",
      "DIMENSION: sg_data_point\n",
      "{latitude, longitude, time, depth}\n"
     ]
    },
    {
     "name": "stderr",
     "output_type": "stream",
     "text": [
      " 96%|█████████████████████████████████████▎ | 1404/1467 [11:13<00:31,  2.00it/s]/home/dIOGOLOC/programs/anaconda3/lib/python3.10/site-packages/glidertools/load/seaglider.py:227: GliderToolsWarning: dives was not found in the files\n",
      "  warnings.warn(msg, GliderToolsWarning)\n"
     ]
    },
    {
     "name": "stdout",
     "output_type": "stream",
     "text": [
      "\n",
      "DIMENSION: sg_data_point\n",
      "{latitude, longitude, time, depth}\n"
     ]
    },
    {
     "name": "stderr",
     "output_type": "stream",
     "text": [
      " 96%|█████████████████████████████████████▎ | 1405/1467 [11:14<00:29,  2.07it/s]/home/dIOGOLOC/programs/anaconda3/lib/python3.10/site-packages/glidertools/load/seaglider.py:227: GliderToolsWarning: dives was not found in the files\n",
      "  warnings.warn(msg, GliderToolsWarning)\n"
     ]
    },
    {
     "name": "stdout",
     "output_type": "stream",
     "text": [
      "\n",
      "DIMENSION: sg_data_point\n",
      "{latitude, longitude, time, depth}\n"
     ]
    },
    {
     "name": "stderr",
     "output_type": "stream",
     "text": [
      " 96%|█████████████████████████████████████▍ | 1406/1467 [11:14<00:28,  2.11it/s]/home/dIOGOLOC/programs/anaconda3/lib/python3.10/site-packages/glidertools/load/seaglider.py:227: GliderToolsWarning: dives was not found in the files\n",
      "  warnings.warn(msg, GliderToolsWarning)\n"
     ]
    },
    {
     "name": "stdout",
     "output_type": "stream",
     "text": [
      "\n",
      "DIMENSION: sg_data_point\n",
      "{latitude, longitude, time, depth}\n"
     ]
    },
    {
     "name": "stderr",
     "output_type": "stream",
     "text": [
      " 96%|█████████████████████████████████████▍ | 1407/1467 [11:14<00:27,  2.17it/s]/home/dIOGOLOC/programs/anaconda3/lib/python3.10/site-packages/glidertools/load/seaglider.py:227: GliderToolsWarning: dives was not found in the files\n",
      "  warnings.warn(msg, GliderToolsWarning)\n"
     ]
    },
    {
     "name": "stdout",
     "output_type": "stream",
     "text": [
      "\n",
      "DIMENSION: sg_data_point\n",
      "{latitude, longitude, time, depth}\n"
     ]
    },
    {
     "name": "stderr",
     "output_type": "stream",
     "text": [
      " 96%|█████████████████████████████████████▍ | 1408/1467 [11:15<00:26,  2.21it/s]/home/dIOGOLOC/programs/anaconda3/lib/python3.10/site-packages/glidertools/load/seaglider.py:227: GliderToolsWarning: dives was not found in the files\n",
      "  warnings.warn(msg, GliderToolsWarning)\n"
     ]
    },
    {
     "name": "stdout",
     "output_type": "stream",
     "text": [
      "\n",
      "DIMENSION: sg_data_point\n",
      "{latitude, longitude, time, depth}\n"
     ]
    },
    {
     "name": "stderr",
     "output_type": "stream",
     "text": [
      " 96%|█████████████████████████████████████▍ | 1409/1467 [11:15<00:26,  2.21it/s]/home/dIOGOLOC/programs/anaconda3/lib/python3.10/site-packages/glidertools/load/seaglider.py:227: GliderToolsWarning: dives was not found in the files\n",
      "  warnings.warn(msg, GliderToolsWarning)\n"
     ]
    },
    {
     "name": "stdout",
     "output_type": "stream",
     "text": [
      "\n",
      "DIMENSION: sg_data_point\n",
      "{latitude, longitude, time, depth}\n"
     ]
    },
    {
     "name": "stderr",
     "output_type": "stream",
     "text": [
      " 96%|█████████████████████████████████████▍ | 1410/1467 [11:16<00:25,  2.25it/s]/home/dIOGOLOC/programs/anaconda3/lib/python3.10/site-packages/glidertools/load/seaglider.py:227: GliderToolsWarning: dives was not found in the files\n",
      "  warnings.warn(msg, GliderToolsWarning)\n"
     ]
    },
    {
     "name": "stdout",
     "output_type": "stream",
     "text": [
      "\n",
      "DIMENSION: sg_data_point\n",
      "{latitude, longitude, time, depth}\n"
     ]
    },
    {
     "name": "stderr",
     "output_type": "stream",
     "text": [
      " 96%|█████████████████████████████████████▌ | 1411/1467 [11:16<00:24,  2.28it/s]/home/dIOGOLOC/programs/anaconda3/lib/python3.10/site-packages/glidertools/load/seaglider.py:227: GliderToolsWarning: dives was not found in the files\n",
      "  warnings.warn(msg, GliderToolsWarning)\n"
     ]
    },
    {
     "name": "stdout",
     "output_type": "stream",
     "text": [
      "\n",
      "DIMENSION: sg_data_point\n",
      "{latitude, longitude, time, depth}\n"
     ]
    },
    {
     "name": "stderr",
     "output_type": "stream",
     "text": [
      " 96%|█████████████████████████████████████▌ | 1412/1467 [11:17<00:25,  2.14it/s]/home/dIOGOLOC/programs/anaconda3/lib/python3.10/site-packages/glidertools/load/seaglider.py:227: GliderToolsWarning: dives was not found in the files\n",
      "  warnings.warn(msg, GliderToolsWarning)\n"
     ]
    },
    {
     "name": "stdout",
     "output_type": "stream",
     "text": [
      "\n",
      "DIMENSION: sg_data_point\n",
      "{latitude, longitude, time, depth}\n"
     ]
    },
    {
     "name": "stderr",
     "output_type": "stream",
     "text": [
      " 96%|█████████████████████████████████████▌ | 1413/1467 [11:17<00:24,  2.18it/s]/home/dIOGOLOC/programs/anaconda3/lib/python3.10/site-packages/glidertools/load/seaglider.py:227: GliderToolsWarning: dives was not found in the files\n",
      "  warnings.warn(msg, GliderToolsWarning)\n"
     ]
    },
    {
     "name": "stdout",
     "output_type": "stream",
     "text": [
      "\n",
      "DIMENSION: sg_data_point\n",
      "{latitude, longitude, time, depth}\n"
     ]
    },
    {
     "name": "stderr",
     "output_type": "stream",
     "text": [
      " 96%|█████████████████████████████████████▌ | 1414/1467 [11:18<00:24,  2.19it/s]/home/dIOGOLOC/programs/anaconda3/lib/python3.10/site-packages/glidertools/load/seaglider.py:227: GliderToolsWarning: dives was not found in the files\n",
      "  warnings.warn(msg, GliderToolsWarning)\n"
     ]
    },
    {
     "name": "stdout",
     "output_type": "stream",
     "text": [
      "\n",
      "DIMENSION: sg_data_point\n",
      "{latitude, longitude, time, depth}\n"
     ]
    },
    {
     "name": "stderr",
     "output_type": "stream",
     "text": [
      " 96%|█████████████████████████████████████▌ | 1415/1467 [11:18<00:23,  2.20it/s]/home/dIOGOLOC/programs/anaconda3/lib/python3.10/site-packages/glidertools/load/seaglider.py:227: GliderToolsWarning: dives was not found in the files\n",
      "  warnings.warn(msg, GliderToolsWarning)\n"
     ]
    },
    {
     "name": "stdout",
     "output_type": "stream",
     "text": [
      "\n",
      "DIMENSION: sg_data_point\n",
      "{latitude, longitude, time, depth}\n"
     ]
    },
    {
     "name": "stderr",
     "output_type": "stream",
     "text": [
      " 97%|█████████████████████████████████████▋ | 1416/1467 [11:19<00:22,  2.22it/s]/home/dIOGOLOC/programs/anaconda3/lib/python3.10/site-packages/glidertools/load/seaglider.py:227: GliderToolsWarning: dives was not found in the files\n",
      "  warnings.warn(msg, GliderToolsWarning)\n"
     ]
    },
    {
     "name": "stdout",
     "output_type": "stream",
     "text": [
      "\n",
      "DIMENSION: sg_data_point\n",
      "{latitude, longitude, time, depth}\n"
     ]
    },
    {
     "name": "stderr",
     "output_type": "stream",
     "text": [
      " 97%|█████████████████████████████████████▋ | 1417/1467 [11:19<00:22,  2.25it/s]/home/dIOGOLOC/programs/anaconda3/lib/python3.10/site-packages/glidertools/load/seaglider.py:227: GliderToolsWarning: dives was not found in the files\n",
      "  warnings.warn(msg, GliderToolsWarning)\n"
     ]
    },
    {
     "name": "stdout",
     "output_type": "stream",
     "text": [
      "\n",
      "DIMENSION: sg_data_point\n",
      "{latitude, longitude, time, depth}\n"
     ]
    },
    {
     "name": "stderr",
     "output_type": "stream",
     "text": [
      " 97%|█████████████████████████████████████▋ | 1418/1467 [11:19<00:21,  2.27it/s]/home/dIOGOLOC/programs/anaconda3/lib/python3.10/site-packages/glidertools/load/seaglider.py:227: GliderToolsWarning: dives was not found in the files\n",
      "  warnings.warn(msg, GliderToolsWarning)\n"
     ]
    },
    {
     "name": "stdout",
     "output_type": "stream",
     "text": [
      "\n",
      "DIMENSION: sg_data_point\n",
      "{latitude, longitude, time, depth}\n"
     ]
    },
    {
     "name": "stderr",
     "output_type": "stream",
     "text": [
      " 97%|█████████████████████████████████████▋ | 1419/1467 [11:20<00:20,  2.30it/s]/home/dIOGOLOC/programs/anaconda3/lib/python3.10/site-packages/glidertools/load/seaglider.py:227: GliderToolsWarning: dives was not found in the files\n",
      "  warnings.warn(msg, GliderToolsWarning)\n"
     ]
    },
    {
     "name": "stdout",
     "output_type": "stream",
     "text": [
      "\n",
      "DIMENSION: sg_data_point\n",
      "{latitude, longitude, time, depth}\n"
     ]
    },
    {
     "name": "stderr",
     "output_type": "stream",
     "text": [
      " 97%|█████████████████████████████████████▊ | 1420/1467 [11:20<00:20,  2.29it/s]/home/dIOGOLOC/programs/anaconda3/lib/python3.10/site-packages/glidertools/load/seaglider.py:227: GliderToolsWarning: dives was not found in the files\n",
      "  warnings.warn(msg, GliderToolsWarning)\n"
     ]
    },
    {
     "name": "stdout",
     "output_type": "stream",
     "text": [
      "\n",
      "DIMENSION: sg_data_point\n",
      "{latitude, longitude, time, depth}\n"
     ]
    },
    {
     "name": "stderr",
     "output_type": "stream",
     "text": [
      " 97%|█████████████████████████████████████▊ | 1421/1467 [11:21<00:20,  2.27it/s]/home/dIOGOLOC/programs/anaconda3/lib/python3.10/site-packages/glidertools/load/seaglider.py:227: GliderToolsWarning: dives was not found in the files\n",
      "  warnings.warn(msg, GliderToolsWarning)\n"
     ]
    },
    {
     "name": "stdout",
     "output_type": "stream",
     "text": [
      "\n",
      "DIMENSION: sg_data_point\n",
      "{latitude, longitude, time, depth}\n"
     ]
    },
    {
     "name": "stderr",
     "output_type": "stream",
     "text": [
      " 97%|█████████████████████████████████████▊ | 1422/1467 [11:21<00:19,  2.25it/s]/home/dIOGOLOC/programs/anaconda3/lib/python3.10/site-packages/glidertools/load/seaglider.py:227: GliderToolsWarning: dives was not found in the files\n",
      "  warnings.warn(msg, GliderToolsWarning)\n"
     ]
    },
    {
     "name": "stdout",
     "output_type": "stream",
     "text": [
      "\n",
      "DIMENSION: sg_data_point\n",
      "{latitude, longitude, time, depth}\n"
     ]
    },
    {
     "name": "stderr",
     "output_type": "stream",
     "text": [
      " 97%|█████████████████████████████████████▊ | 1423/1467 [11:22<00:19,  2.25it/s]/home/dIOGOLOC/programs/anaconda3/lib/python3.10/site-packages/glidertools/load/seaglider.py:227: GliderToolsWarning: dives was not found in the files\n",
      "  warnings.warn(msg, GliderToolsWarning)\n"
     ]
    },
    {
     "name": "stdout",
     "output_type": "stream",
     "text": [
      "\n",
      "DIMENSION: sg_data_point\n",
      "{latitude, longitude, time, depth}\n"
     ]
    },
    {
     "name": "stderr",
     "output_type": "stream",
     "text": [
      " 97%|█████████████████████████████████████▊ | 1424/1467 [11:22<00:20,  2.10it/s]/home/dIOGOLOC/programs/anaconda3/lib/python3.10/site-packages/glidertools/load/seaglider.py:227: GliderToolsWarning: dives was not found in the files\n",
      "  warnings.warn(msg, GliderToolsWarning)\n"
     ]
    },
    {
     "name": "stdout",
     "output_type": "stream",
     "text": [
      "\n",
      "DIMENSION: sg_data_point\n",
      "{latitude, longitude, time, depth}\n"
     ]
    },
    {
     "name": "stderr",
     "output_type": "stream",
     "text": [
      " 97%|█████████████████████████████████████▉ | 1425/1467 [11:23<00:19,  2.16it/s]/home/dIOGOLOC/programs/anaconda3/lib/python3.10/site-packages/glidertools/load/seaglider.py:227: GliderToolsWarning: dives was not found in the files\n",
      "  warnings.warn(msg, GliderToolsWarning)\n"
     ]
    },
    {
     "name": "stdout",
     "output_type": "stream",
     "text": [
      "\n",
      "DIMENSION: sg_data_point\n",
      "{latitude, longitude, time, depth}\n"
     ]
    },
    {
     "name": "stderr",
     "output_type": "stream",
     "text": [
      " 97%|█████████████████████████████████████▉ | 1426/1467 [11:23<00:18,  2.21it/s]/home/dIOGOLOC/programs/anaconda3/lib/python3.10/site-packages/glidertools/load/seaglider.py:227: GliderToolsWarning: dives was not found in the files\n",
      "  warnings.warn(msg, GliderToolsWarning)\n"
     ]
    },
    {
     "name": "stdout",
     "output_type": "stream",
     "text": [
      "\n",
      "DIMENSION: sg_data_point\n",
      "{latitude, longitude, time, depth}\n"
     ]
    },
    {
     "name": "stderr",
     "output_type": "stream",
     "text": [
      " 97%|█████████████████████████████████████▉ | 1427/1467 [11:23<00:17,  2.25it/s]/home/dIOGOLOC/programs/anaconda3/lib/python3.10/site-packages/glidertools/load/seaglider.py:227: GliderToolsWarning: dives was not found in the files\n",
      "  warnings.warn(msg, GliderToolsWarning)\n"
     ]
    },
    {
     "name": "stdout",
     "output_type": "stream",
     "text": [
      "\n",
      "DIMENSION: sg_data_point\n",
      "{latitude, longitude, time, depth}\n"
     ]
    },
    {
     "name": "stderr",
     "output_type": "stream",
     "text": [
      " 97%|█████████████████████████████████████▉ | 1428/1467 [11:24<00:17,  2.26it/s]/home/dIOGOLOC/programs/anaconda3/lib/python3.10/site-packages/glidertools/load/seaglider.py:227: GliderToolsWarning: dives was not found in the files\n",
      "  warnings.warn(msg, GliderToolsWarning)\n"
     ]
    },
    {
     "name": "stdout",
     "output_type": "stream",
     "text": [
      "\n",
      "DIMENSION: sg_data_point\n",
      "{latitude, longitude, time, depth}\n"
     ]
    },
    {
     "name": "stderr",
     "output_type": "stream",
     "text": [
      " 97%|█████████████████████████████████████▉ | 1429/1467 [11:24<00:16,  2.27it/s]/home/dIOGOLOC/programs/anaconda3/lib/python3.10/site-packages/glidertools/load/seaglider.py:227: GliderToolsWarning: dives was not found in the files\n",
      "  warnings.warn(msg, GliderToolsWarning)\n"
     ]
    },
    {
     "name": "stdout",
     "output_type": "stream",
     "text": [
      "\n",
      "DIMENSION: sg_data_point\n",
      "{latitude, longitude, time, depth}\n"
     ]
    },
    {
     "name": "stderr",
     "output_type": "stream",
     "text": [
      " 97%|██████████████████████████████████████ | 1430/1467 [11:25<00:16,  2.28it/s]/home/dIOGOLOC/programs/anaconda3/lib/python3.10/site-packages/glidertools/load/seaglider.py:227: GliderToolsWarning: dives was not found in the files\n",
      "  warnings.warn(msg, GliderToolsWarning)\n"
     ]
    },
    {
     "name": "stdout",
     "output_type": "stream",
     "text": [
      "\n",
      "DIMENSION: sg_data_point\n",
      "{latitude, longitude, time, depth}\n"
     ]
    },
    {
     "name": "stderr",
     "output_type": "stream",
     "text": [
      " 98%|██████████████████████████████████████ | 1431/1467 [11:25<00:15,  2.29it/s]/home/dIOGOLOC/programs/anaconda3/lib/python3.10/site-packages/glidertools/load/seaglider.py:227: GliderToolsWarning: dives was not found in the files\n",
      "  warnings.warn(msg, GliderToolsWarning)\n"
     ]
    },
    {
     "name": "stdout",
     "output_type": "stream",
     "text": [
      "\n",
      "DIMENSION: sg_data_point\n",
      "{latitude, longitude, time, depth}\n"
     ]
    },
    {
     "name": "stderr",
     "output_type": "stream",
     "text": [
      " 98%|██████████████████████████████████████ | 1432/1467 [11:26<00:15,  2.26it/s]/home/dIOGOLOC/programs/anaconda3/lib/python3.10/site-packages/glidertools/load/seaglider.py:227: GliderToolsWarning: dives was not found in the files\n",
      "  warnings.warn(msg, GliderToolsWarning)\n"
     ]
    },
    {
     "name": "stdout",
     "output_type": "stream",
     "text": [
      "\n",
      "DIMENSION: sg_data_point\n",
      "{latitude, longitude, time, depth}\n"
     ]
    },
    {
     "name": "stderr",
     "output_type": "stream",
     "text": [
      " 98%|██████████████████████████████████████ | 1433/1467 [11:26<00:15,  2.23it/s]/home/dIOGOLOC/programs/anaconda3/lib/python3.10/site-packages/glidertools/load/seaglider.py:227: GliderToolsWarning: dives was not found in the files\n",
      "  warnings.warn(msg, GliderToolsWarning)\n"
     ]
    },
    {
     "name": "stdout",
     "output_type": "stream",
     "text": [
      "\n",
      "DIMENSION: sg_data_point\n",
      "{latitude, longitude, time, depth}\n"
     ]
    },
    {
     "name": "stderr",
     "output_type": "stream",
     "text": [
      " 98%|██████████████████████████████████████ | 1434/1467 [11:27<00:14,  2.27it/s]/home/dIOGOLOC/programs/anaconda3/lib/python3.10/site-packages/glidertools/load/seaglider.py:227: GliderToolsWarning: dives was not found in the files\n",
      "  warnings.warn(msg, GliderToolsWarning)\n"
     ]
    },
    {
     "name": "stdout",
     "output_type": "stream",
     "text": [
      "\n",
      "DIMENSION: sg_data_point\n",
      "{latitude, longitude, time, depth}\n"
     ]
    },
    {
     "name": "stderr",
     "output_type": "stream",
     "text": [
      " 98%|██████████████████████████████████████▏| 1435/1467 [11:27<00:14,  2.28it/s]/home/dIOGOLOC/programs/anaconda3/lib/python3.10/site-packages/glidertools/load/seaglider.py:227: GliderToolsWarning: dives was not found in the files\n",
      "  warnings.warn(msg, GliderToolsWarning)\n"
     ]
    },
    {
     "name": "stdout",
     "output_type": "stream",
     "text": [
      "\n",
      "DIMENSION: sg_data_point\n",
      "{latitude, longitude, time, depth}\n"
     ]
    },
    {
     "name": "stderr",
     "output_type": "stream",
     "text": [
      " 98%|██████████████████████████████████████▏| 1436/1467 [11:27<00:14,  2.13it/s]/home/dIOGOLOC/programs/anaconda3/lib/python3.10/site-packages/glidertools/load/seaglider.py:227: GliderToolsWarning: dives was not found in the files\n",
      "  warnings.warn(msg, GliderToolsWarning)\n"
     ]
    },
    {
     "name": "stdout",
     "output_type": "stream",
     "text": [
      "\n",
      "DIMENSION: sg_data_point\n",
      "{latitude, longitude, time, depth}\n"
     ]
    },
    {
     "name": "stderr",
     "output_type": "stream",
     "text": [
      " 98%|██████████████████████████████████████▏| 1437/1467 [11:28<00:14,  2.13it/s]/home/dIOGOLOC/programs/anaconda3/lib/python3.10/site-packages/glidertools/load/seaglider.py:227: GliderToolsWarning: dives was not found in the files\n",
      "  warnings.warn(msg, GliderToolsWarning)\n"
     ]
    },
    {
     "name": "stdout",
     "output_type": "stream",
     "text": [
      "\n",
      "DIMENSION: sg_data_point\n",
      "{latitude, longitude, time, depth}\n"
     ]
    },
    {
     "name": "stderr",
     "output_type": "stream",
     "text": [
      " 98%|██████████████████████████████████████▏| 1438/1467 [11:28<00:13,  2.15it/s]/home/dIOGOLOC/programs/anaconda3/lib/python3.10/site-packages/glidertools/load/seaglider.py:227: GliderToolsWarning: dives was not found in the files\n",
      "  warnings.warn(msg, GliderToolsWarning)\n"
     ]
    },
    {
     "name": "stdout",
     "output_type": "stream",
     "text": [
      "\n",
      "DIMENSION: sg_data_point\n",
      "{latitude, longitude, time, depth}\n"
     ]
    },
    {
     "name": "stderr",
     "output_type": "stream",
     "text": [
      " 98%|██████████████████████████████████████▎| 1439/1467 [11:29<00:12,  2.18it/s]/home/dIOGOLOC/programs/anaconda3/lib/python3.10/site-packages/glidertools/load/seaglider.py:227: GliderToolsWarning: dives was not found in the files\n",
      "  warnings.warn(msg, GliderToolsWarning)\n"
     ]
    },
    {
     "name": "stdout",
     "output_type": "stream",
     "text": [
      "\n",
      "DIMENSION: sg_data_point\n",
      "{latitude, longitude, time, depth}\n"
     ]
    },
    {
     "name": "stderr",
     "output_type": "stream",
     "text": [
      " 98%|██████████████████████████████████████▎| 1440/1467 [11:29<00:12,  2.19it/s]/home/dIOGOLOC/programs/anaconda3/lib/python3.10/site-packages/glidertools/load/seaglider.py:227: GliderToolsWarning: dives was not found in the files\n",
      "  warnings.warn(msg, GliderToolsWarning)\n"
     ]
    },
    {
     "name": "stdout",
     "output_type": "stream",
     "text": [
      "\n",
      "DIMENSION: sg_data_point\n",
      "{latitude, longitude, time, depth}\n"
     ]
    },
    {
     "name": "stderr",
     "output_type": "stream",
     "text": [
      " 98%|██████████████████████████████████████▎| 1441/1467 [11:30<00:13,  1.99it/s]/home/dIOGOLOC/programs/anaconda3/lib/python3.10/site-packages/glidertools/load/seaglider.py:227: GliderToolsWarning: dives was not found in the files\n",
      "  warnings.warn(msg, GliderToolsWarning)\n"
     ]
    },
    {
     "name": "stdout",
     "output_type": "stream",
     "text": [
      "\n",
      "DIMENSION: sg_data_point\n",
      "{latitude, longitude, time, depth}\n"
     ]
    },
    {
     "name": "stderr",
     "output_type": "stream",
     "text": [
      " 98%|██████████████████████████████████████▎| 1442/1467 [11:31<00:13,  1.79it/s]/home/dIOGOLOC/programs/anaconda3/lib/python3.10/site-packages/glidertools/load/seaglider.py:227: GliderToolsWarning: dives was not found in the files\n",
      "  warnings.warn(msg, GliderToolsWarning)\n"
     ]
    },
    {
     "name": "stdout",
     "output_type": "stream",
     "text": [
      "\n",
      "DIMENSION: sg_data_point\n",
      "{latitude, longitude, time, depth}\n"
     ]
    },
    {
     "name": "stderr",
     "output_type": "stream",
     "text": [
      " 98%|██████████████████████████████████████▎| 1443/1467 [11:31<00:13,  1.75it/s]/home/dIOGOLOC/programs/anaconda3/lib/python3.10/site-packages/glidertools/load/seaglider.py:227: GliderToolsWarning: dives was not found in the files\n",
      "  warnings.warn(msg, GliderToolsWarning)\n"
     ]
    },
    {
     "name": "stdout",
     "output_type": "stream",
     "text": [
      "\n",
      "DIMENSION: sg_data_point\n",
      "{latitude, longitude, time, depth}\n"
     ]
    },
    {
     "name": "stderr",
     "output_type": "stream",
     "text": [
      " 98%|██████████████████████████████████████▍| 1444/1467 [11:32<00:12,  1.88it/s]/home/dIOGOLOC/programs/anaconda3/lib/python3.10/site-packages/glidertools/load/seaglider.py:227: GliderToolsWarning: dives was not found in the files\n",
      "  warnings.warn(msg, GliderToolsWarning)\n"
     ]
    },
    {
     "name": "stdout",
     "output_type": "stream",
     "text": [
      "\n",
      "DIMENSION: sg_data_point\n",
      "{latitude, longitude, time, depth}\n"
     ]
    },
    {
     "name": "stderr",
     "output_type": "stream",
     "text": [
      " 99%|██████████████████████████████████████▍| 1445/1467 [11:32<00:11,  1.93it/s]/home/dIOGOLOC/programs/anaconda3/lib/python3.10/site-packages/glidertools/load/seaglider.py:227: GliderToolsWarning: dives was not found in the files\n",
      "  warnings.warn(msg, GliderToolsWarning)\n"
     ]
    },
    {
     "name": "stdout",
     "output_type": "stream",
     "text": [
      "\n",
      "DIMENSION: sg_data_point\n",
      "{latitude, longitude, time, depth}\n"
     ]
    },
    {
     "name": "stderr",
     "output_type": "stream",
     "text": [
      " 99%|██████████████████████████████████████▍| 1446/1467 [11:33<00:10,  1.97it/s]/home/dIOGOLOC/programs/anaconda3/lib/python3.10/site-packages/glidertools/load/seaglider.py:227: GliderToolsWarning: dives was not found in the files\n",
      "  warnings.warn(msg, GliderToolsWarning)\n"
     ]
    },
    {
     "name": "stdout",
     "output_type": "stream",
     "text": [
      "\n",
      "DIMENSION: sg_data_point\n",
      "{latitude, longitude, time, depth}\n"
     ]
    },
    {
     "name": "stderr",
     "output_type": "stream",
     "text": [
      " 99%|██████████████████████████████████████▍| 1447/1467 [11:33<00:10,  1.83it/s]/home/dIOGOLOC/programs/anaconda3/lib/python3.10/site-packages/glidertools/load/seaglider.py:227: GliderToolsWarning: dives was not found in the files\n",
      "  warnings.warn(msg, GliderToolsWarning)\n"
     ]
    },
    {
     "name": "stdout",
     "output_type": "stream",
     "text": [
      "\n",
      "DIMENSION: sg_data_point\n",
      "{latitude, longitude, time, depth}\n"
     ]
    },
    {
     "name": "stderr",
     "output_type": "stream",
     "text": [
      " 99%|██████████████████████████████████████▍| 1448/1467 [11:34<00:10,  1.86it/s]/home/dIOGOLOC/programs/anaconda3/lib/python3.10/site-packages/glidertools/load/seaglider.py:227: GliderToolsWarning: dives was not found in the files\n",
      "  warnings.warn(msg, GliderToolsWarning)\n"
     ]
    },
    {
     "name": "stdout",
     "output_type": "stream",
     "text": [
      "\n",
      "DIMENSION: sg_data_point\n",
      "{latitude, longitude, time, depth}\n"
     ]
    },
    {
     "name": "stderr",
     "output_type": "stream",
     "text": [
      " 99%|██████████████████████████████████████▌| 1449/1467 [11:34<00:09,  1.85it/s]/home/dIOGOLOC/programs/anaconda3/lib/python3.10/site-packages/glidertools/load/seaglider.py:227: GliderToolsWarning: dives was not found in the files\n",
      "  warnings.warn(msg, GliderToolsWarning)\n"
     ]
    },
    {
     "name": "stdout",
     "output_type": "stream",
     "text": [
      "\n",
      "DIMENSION: sg_data_point\n",
      "{latitude, longitude, time, depth}\n"
     ]
    },
    {
     "name": "stderr",
     "output_type": "stream",
     "text": [
      " 99%|██████████████████████████████████████▌| 1450/1467 [11:35<00:08,  1.91it/s]/home/dIOGOLOC/programs/anaconda3/lib/python3.10/site-packages/glidertools/load/seaglider.py:227: GliderToolsWarning: dives was not found in the files\n",
      "  warnings.warn(msg, GliderToolsWarning)\n"
     ]
    },
    {
     "name": "stdout",
     "output_type": "stream",
     "text": [
      "\n",
      "DIMENSION: sg_data_point\n",
      "{latitude, longitude, time, depth}\n"
     ]
    },
    {
     "name": "stderr",
     "output_type": "stream",
     "text": [
      " 99%|██████████████████████████████████████▌| 1451/1467 [11:35<00:08,  1.96it/s]/home/dIOGOLOC/programs/anaconda3/lib/python3.10/site-packages/glidertools/load/seaglider.py:227: GliderToolsWarning: dives was not found in the files\n",
      "  warnings.warn(msg, GliderToolsWarning)\n"
     ]
    },
    {
     "name": "stdout",
     "output_type": "stream",
     "text": [
      "\n",
      "DIMENSION: sg_data_point\n",
      "{latitude, longitude, time, depth}\n"
     ]
    },
    {
     "name": "stderr",
     "output_type": "stream",
     "text": [
      " 99%|██████████████████████████████████████▌| 1452/1467 [11:36<00:07,  2.02it/s]/home/dIOGOLOC/programs/anaconda3/lib/python3.10/site-packages/glidertools/load/seaglider.py:227: GliderToolsWarning: dives was not found in the files\n",
      "  warnings.warn(msg, GliderToolsWarning)\n"
     ]
    },
    {
     "name": "stdout",
     "output_type": "stream",
     "text": [
      "\n",
      "DIMENSION: sg_data_point\n",
      "{latitude, longitude, time, depth}\n"
     ]
    },
    {
     "name": "stderr",
     "output_type": "stream",
     "text": [
      " 99%|██████████████████████████████████████▋| 1453/1467 [11:36<00:06,  2.07it/s]/home/dIOGOLOC/programs/anaconda3/lib/python3.10/site-packages/glidertools/load/seaglider.py:227: GliderToolsWarning: dives was not found in the files\n",
      "  warnings.warn(msg, GliderToolsWarning)\n"
     ]
    },
    {
     "name": "stdout",
     "output_type": "stream",
     "text": [
      "\n",
      "DIMENSION: sg_data_point\n",
      "{latitude, longitude, time, depth}\n"
     ]
    },
    {
     "name": "stderr",
     "output_type": "stream",
     "text": [
      " 99%|██████████████████████████████████████▋| 1454/1467 [11:37<00:06,  2.08it/s]/home/dIOGOLOC/programs/anaconda3/lib/python3.10/site-packages/glidertools/load/seaglider.py:227: GliderToolsWarning: dives was not found in the files\n",
      "  warnings.warn(msg, GliderToolsWarning)\n"
     ]
    },
    {
     "name": "stdout",
     "output_type": "stream",
     "text": [
      "\n",
      "DIMENSION: sg_data_point\n",
      "{latitude, longitude, time, depth}\n"
     ]
    },
    {
     "name": "stderr",
     "output_type": "stream",
     "text": [
      " 99%|██████████████████████████████████████▋| 1455/1467 [11:37<00:05,  2.11it/s]/home/dIOGOLOC/programs/anaconda3/lib/python3.10/site-packages/glidertools/load/seaglider.py:227: GliderToolsWarning: dives was not found in the files\n",
      "  warnings.warn(msg, GliderToolsWarning)\n"
     ]
    },
    {
     "name": "stdout",
     "output_type": "stream",
     "text": [
      "\n",
      "DIMENSION: sg_data_point\n",
      "{latitude, longitude, time, depth}\n"
     ]
    },
    {
     "name": "stderr",
     "output_type": "stream",
     "text": [
      " 99%|██████████████████████████████████████▋| 1456/1467 [11:38<00:05,  2.08it/s]/home/dIOGOLOC/programs/anaconda3/lib/python3.10/site-packages/glidertools/load/seaglider.py:227: GliderToolsWarning: dives was not found in the files\n",
      "  warnings.warn(msg, GliderToolsWarning)\n"
     ]
    },
    {
     "name": "stdout",
     "output_type": "stream",
     "text": [
      "\n",
      "DIMENSION: sg_data_point\n",
      "{latitude, longitude, time, depth}\n"
     ]
    },
    {
     "name": "stderr",
     "output_type": "stream",
     "text": [
      " 99%|██████████████████████████████████████▋| 1457/1467 [11:38<00:04,  2.08it/s]/home/dIOGOLOC/programs/anaconda3/lib/python3.10/site-packages/glidertools/load/seaglider.py:227: GliderToolsWarning: dives was not found in the files\n",
      "  warnings.warn(msg, GliderToolsWarning)\n"
     ]
    },
    {
     "name": "stdout",
     "output_type": "stream",
     "text": [
      "\n",
      "DIMENSION: sg_data_point\n",
      "{latitude, longitude, time, depth}\n"
     ]
    },
    {
     "name": "stderr",
     "output_type": "stream",
     "text": [
      " 99%|██████████████████████████████████████▊| 1458/1467 [11:39<00:04,  1.93it/s]/home/dIOGOLOC/programs/anaconda3/lib/python3.10/site-packages/glidertools/load/seaglider.py:227: GliderToolsWarning: dives was not found in the files\n",
      "  warnings.warn(msg, GliderToolsWarning)\n"
     ]
    },
    {
     "name": "stdout",
     "output_type": "stream",
     "text": [
      "\n",
      "DIMENSION: sg_data_point\n",
      "{latitude, longitude, time, depth}\n"
     ]
    },
    {
     "name": "stderr",
     "output_type": "stream",
     "text": [
      " 99%|██████████████████████████████████████▊| 1459/1467 [11:39<00:04,  1.93it/s]/home/dIOGOLOC/programs/anaconda3/lib/python3.10/site-packages/glidertools/load/seaglider.py:227: GliderToolsWarning: dives was not found in the files\n",
      "  warnings.warn(msg, GliderToolsWarning)\n"
     ]
    },
    {
     "name": "stdout",
     "output_type": "stream",
     "text": [
      "\n",
      "DIMENSION: sg_data_point\n",
      "{latitude, longitude, time, depth}\n"
     ]
    },
    {
     "name": "stderr",
     "output_type": "stream",
     "text": [
      "100%|██████████████████████████████████████▊| 1460/1467 [11:40<00:03,  1.98it/s]/home/dIOGOLOC/programs/anaconda3/lib/python3.10/site-packages/glidertools/load/seaglider.py:227: GliderToolsWarning: dives was not found in the files\n",
      "  warnings.warn(msg, GliderToolsWarning)\n"
     ]
    },
    {
     "name": "stdout",
     "output_type": "stream",
     "text": [
      "\n",
      "DIMENSION: sg_data_point\n",
      "{latitude, longitude, time, depth}\n"
     ]
    },
    {
     "name": "stderr",
     "output_type": "stream",
     "text": [
      "100%|██████████████████████████████████████▊| 1461/1467 [11:40<00:03,  1.96it/s]/home/dIOGOLOC/programs/anaconda3/lib/python3.10/site-packages/glidertools/load/seaglider.py:227: GliderToolsWarning: dives was not found in the files\n",
      "  warnings.warn(msg, GliderToolsWarning)\n"
     ]
    },
    {
     "name": "stdout",
     "output_type": "stream",
     "text": [
      "\n",
      "DIMENSION: sg_data_point\n",
      "{latitude, longitude, time, depth}\n"
     ]
    },
    {
     "name": "stderr",
     "output_type": "stream",
     "text": [
      "100%|██████████████████████████████████████▊| 1462/1467 [11:41<00:02,  1.92it/s]/home/dIOGOLOC/programs/anaconda3/lib/python3.10/site-packages/glidertools/load/seaglider.py:227: GliderToolsWarning: dives was not found in the files\n",
      "  warnings.warn(msg, GliderToolsWarning)\n"
     ]
    },
    {
     "name": "stdout",
     "output_type": "stream",
     "text": [
      "\n",
      "DIMENSION: sg_data_point\n",
      "{latitude, longitude, time, depth}\n"
     ]
    },
    {
     "name": "stderr",
     "output_type": "stream",
     "text": [
      "100%|██████████████████████████████████████▉| 1463/1467 [11:41<00:02,  1.88it/s]/home/dIOGOLOC/programs/anaconda3/lib/python3.10/site-packages/glidertools/load/seaglider.py:227: GliderToolsWarning: dives was not found in the files\n",
      "  warnings.warn(msg, GliderToolsWarning)\n"
     ]
    },
    {
     "name": "stdout",
     "output_type": "stream",
     "text": [
      "\n",
      "DIMENSION: sg_data_point\n",
      "{latitude, longitude, time, depth}\n"
     ]
    },
    {
     "name": "stderr",
     "output_type": "stream",
     "text": [
      "100%|██████████████████████████████████████▉| 1464/1467 [11:42<00:01,  1.81it/s]/home/dIOGOLOC/programs/anaconda3/lib/python3.10/site-packages/glidertools/load/seaglider.py:227: GliderToolsWarning: dives was not found in the files\n",
      "  warnings.warn(msg, GliderToolsWarning)\n"
     ]
    },
    {
     "name": "stdout",
     "output_type": "stream",
     "text": [
      "\n",
      "DIMENSION: sg_data_point\n",
      "{latitude, longitude, time, depth}\n"
     ]
    },
    {
     "name": "stderr",
     "output_type": "stream",
     "text": [
      "100%|██████████████████████████████████████▉| 1465/1467 [11:42<00:01,  1.89it/s]/home/dIOGOLOC/programs/anaconda3/lib/python3.10/site-packages/glidertools/load/seaglider.py:227: GliderToolsWarning: dives was not found in the files\n",
      "  warnings.warn(msg, GliderToolsWarning)\n"
     ]
    },
    {
     "name": "stdout",
     "output_type": "stream",
     "text": [
      "\n",
      "DIMENSION: sg_data_point\n",
      "{latitude, longitude, time, depth}\n"
     ]
    },
    {
     "name": "stderr",
     "output_type": "stream",
     "text": [
      "100%|██████████████████████████████████████▉| 1466/1467 [11:43<00:00,  1.86it/s]/home/dIOGOLOC/programs/anaconda3/lib/python3.10/site-packages/glidertools/load/seaglider.py:227: GliderToolsWarning: dives was not found in the files\n",
      "  warnings.warn(msg, GliderToolsWarning)\n"
     ]
    },
    {
     "name": "stdout",
     "output_type": "stream",
     "text": [
      "\n",
      "DIMENSION: sg_data_point\n",
      "{latitude, longitude, time, depth}\n"
     ]
    },
    {
     "name": "stderr",
     "output_type": "stream",
     "text": [
      "100%|███████████████████████████████████████| 1467/1467 [11:44<00:00,  2.08it/s]\n"
     ]
    }
   ],
   "source": [
    "names = [\n",
    "    'time',\n",
    "    'dives',\n",
    "    'latitude',\n",
    "    'longitude',\n",
    "    'depth'\n",
    "]\n",
    "\n",
    "pandas_lst = []\n",
    "for file in tqdm(filenames):\n",
    "    glider_dic = {'file_location':[],'dive':[],\"lat\":[],'lon':[],\"geospatial_vertical_max\":[],\"time_coverage_start\":[],\"time_coverage_end\":[],\"timelapse\":[]}\n",
    "\n",
    "    dic_ds = gt.load.seaglider_basestation_netCDFs(file, names,verbose=False)\n",
    "    glider_dic['file_location'].append(file)\n",
    "    glider_dic['dive'].append(dic_ds['sg_data_point'].attrs['number_of_dives'])\n",
    "    glider_dic['lat'].append(dic_ds['sg_data_point'].attrs['geospatial_lat_min'])\n",
    "    glider_dic['lon'].append(dic_ds['sg_data_point'].attrs['geospatial_lon_min'])\n",
    "    glider_dic['geospatial_vertical_max'].append(dic_ds['sg_data_point'].attrs['geospatial_vertical_max']*-1)\n",
    "    glider_dic['time_coverage_start'].append(mdates.date2num(obspy.UTCDateTime(dic_ds['sg_data_point'].attrs['time_coverage_start'])))\n",
    "    glider_dic['time_coverage_end'].append(mdates.date2num(obspy.UTCDateTime(dic_ds['sg_data_point'].attrs['time_coverage_end'])))\n",
    "    glider_dic['timelapse'].append(obspy.UTCDateTime(dic_ds['sg_data_point'].attrs['time_coverage_end'])-obspy.UTCDateTime(dic_ds['sg_data_point'].attrs['time_coverage_start']))\n",
    "    \n",
    " \n",
    "    if dic_ds['sg_data_point'].attrs['geospatial_lat_min'] != []:\n",
    "    df = pd.DataFrame.from_dict(glider_dic)\n",
    "    pandas_lst.append(df)  "
   ]
  },
  {
   "cell_type": "code",
   "execution_count": 11,
   "id": "d222fd79",
   "metadata": {},
   "outputs": [],
   "source": [
    "df_glider_log = pd.concat(pandas_lst)"
   ]
  },
  {
   "cell_type": "code",
   "execution_count": 13,
   "id": "dd370517",
   "metadata": {},
   "outputs": [],
   "source": [
    "df_glider_log = df_glider_log.sort_values(by=['time_coverage_start'])"
   ]
  },
  {
   "cell_type": "code",
   "execution_count": 15,
   "id": "0c0d3f68",
   "metadata": {},
   "outputs": [],
   "source": [
    "df_glider_log_final = df_glider_log.dropna()"
   ]
  },
  {
   "cell_type": "code",
   "execution_count": 19,
   "id": "4e3b101d",
   "metadata": {},
   "outputs": [
    {
     "name": "stderr",
     "output_type": "stream",
     "text": [
      "/tmp/ipykernel_21008/4235903597.py:1: SettingWithCopyWarning: \n",
      "A value is trying to be set on a copy of a slice from a DataFrame.\n",
      "Try using .loc[row_indexer,col_indexer] = value instead\n",
      "\n",
      "See the caveats in the documentation: https://pandas.pydata.org/pandas-docs/stable/user_guide/indexing.html#returning-a-view-versus-a-copy\n",
      "  df_glider_log_final['time_start'] = mdates.num2date(df_glider_log_final['time_coverage_start'])\n",
      "/tmp/ipykernel_21008/4235903597.py:2: SettingWithCopyWarning: \n",
      "A value is trying to be set on a copy of a slice from a DataFrame.\n",
      "Try using .loc[row_indexer,col_indexer] = value instead\n",
      "\n",
      "See the caveats in the documentation: https://pandas.pydata.org/pandas-docs/stable/user_guide/indexing.html#returning-a-view-versus-a-copy\n",
      "  df_glider_log_final['time_end'] = mdates.num2date(df_glider_log_final['time_coverage_end'])\n"
     ]
    }
   ],
   "source": [
    "df_glider_log_final['time_start'] = mdates.num2date(df_glider_log_final['time_coverage_start'])\n",
    "df_glider_log_final['time_end'] = mdates.num2date(df_glider_log_final['time_coverage_end'])"
   ]
  },
  {
   "cell_type": "code",
   "execution_count": 21,
   "id": "eee68a10",
   "metadata": {},
   "outputs": [
    {
     "data": {
      "text/html": [
       "<div>\n",
       "<style scoped>\n",
       "    .dataframe tbody tr th:only-of-type {\n",
       "        vertical-align: middle;\n",
       "    }\n",
       "\n",
       "    .dataframe tbody tr th {\n",
       "        vertical-align: top;\n",
       "    }\n",
       "\n",
       "    .dataframe thead th {\n",
       "        text-align: right;\n",
       "    }\n",
       "</style>\n",
       "<table border=\"1\" class=\"dataframe\">\n",
       "  <thead>\n",
       "    <tr style=\"text-align: right;\">\n",
       "      <th></th>\n",
       "      <th>file_location</th>\n",
       "      <th>dive</th>\n",
       "      <th>lat</th>\n",
       "      <th>lon</th>\n",
       "      <th>geospatial_vertical_max</th>\n",
       "      <th>time_coverage_start</th>\n",
       "      <th>time_coverage_end</th>\n",
       "      <th>timelapse</th>\n",
       "      <th>time_start</th>\n",
       "      <th>time_end</th>\n",
       "    </tr>\n",
       "  </thead>\n",
       "  <tbody>\n",
       "    <tr>\n",
       "      <th>0</th>\n",
       "      <td>campanha_04/p6570724.nc</td>\n",
       "      <td>724.0</td>\n",
       "      <td>-22.865365</td>\n",
       "      <td>-43.217147</td>\n",
       "      <td>-948.480578</td>\n",
       "      <td>17845.078345</td>\n",
       "      <td>17845.298275</td>\n",
       "      <td>19002.0</td>\n",
       "      <td>2018-11-10 01:52:49+00:00</td>\n",
       "      <td>2018-11-10 07:09:31+00:00</td>\n",
       "    </tr>\n",
       "    <tr>\n",
       "      <th>0</th>\n",
       "      <td>campanha_04/p6570725.nc</td>\n",
       "      <td>725.0</td>\n",
       "      <td>-22.865365</td>\n",
       "      <td>-43.217147</td>\n",
       "      <td>-949.197425</td>\n",
       "      <td>17845.323958</td>\n",
       "      <td>17845.543947</td>\n",
       "      <td>19007.0</td>\n",
       "      <td>2018-11-10 07:46:30+00:00</td>\n",
       "      <td>2018-11-10 13:03:17+00:00</td>\n",
       "    </tr>\n",
       "    <tr>\n",
       "      <th>0</th>\n",
       "      <td>campanha_04/p6570726.nc</td>\n",
       "      <td>726.0</td>\n",
       "      <td>-22.865520</td>\n",
       "      <td>-43.217107</td>\n",
       "      <td>-948.520394</td>\n",
       "      <td>17845.564236</td>\n",
       "      <td>17845.784051</td>\n",
       "      <td>18992.0</td>\n",
       "      <td>2018-11-10 13:32:30+00:00</td>\n",
       "      <td>2018-11-10 18:49:02+00:00</td>\n",
       "    </tr>\n",
       "    <tr>\n",
       "      <th>0</th>\n",
       "      <td>campanha_04/p6570727.nc</td>\n",
       "      <td>727.0</td>\n",
       "      <td>-22.865382</td>\n",
       "      <td>-43.217122</td>\n",
       "      <td>-949.735057</td>\n",
       "      <td>17845.801458</td>\n",
       "      <td>17846.021493</td>\n",
       "      <td>19011.0</td>\n",
       "      <td>2018-11-10 19:14:06+00:00</td>\n",
       "      <td>2018-11-11 00:30:57+00:00</td>\n",
       "    </tr>\n",
       "    <tr>\n",
       "      <th>0</th>\n",
       "      <td>campanha_04/p6570728.nc</td>\n",
       "      <td>728.0</td>\n",
       "      <td>-22.865382</td>\n",
       "      <td>-43.217122</td>\n",
       "      <td>-949.725091</td>\n",
       "      <td>17846.047106</td>\n",
       "      <td>17846.266806</td>\n",
       "      <td>18982.0</td>\n",
       "      <td>2018-11-11 01:07:50+00:00</td>\n",
       "      <td>2018-11-11 06:24:12+00:00</td>\n",
       "    </tr>\n",
       "    <tr>\n",
       "      <th>...</th>\n",
       "      <td>...</td>\n",
       "      <td>...</td>\n",
       "      <td>...</td>\n",
       "      <td>...</td>\n",
       "      <td>...</td>\n",
       "      <td>...</td>\n",
       "      <td>...</td>\n",
       "      <td>...</td>\n",
       "      <td>...</td>\n",
       "      <td>...</td>\n",
       "    </tr>\n",
       "    <tr>\n",
       "      <th>0</th>\n",
       "      <td>campanha_08/p6570122.nc</td>\n",
       "      <td>122.0</td>\n",
       "      <td>-26.024040</td>\n",
       "      <td>-45.003110</td>\n",
       "      <td>-956.465747</td>\n",
       "      <td>18024.679549</td>\n",
       "      <td>18024.918125</td>\n",
       "      <td>20613.0</td>\n",
       "      <td>2019-05-08 16:18:33+00:00</td>\n",
       "      <td>2019-05-08 22:02:06+00:00</td>\n",
       "    </tr>\n",
       "    <tr>\n",
       "      <th>0</th>\n",
       "      <td>campanha_08/p6570125.nc</td>\n",
       "      <td>125.0</td>\n",
       "      <td>-25.997843</td>\n",
       "      <td>-45.007407</td>\n",
       "      <td>-958.129632</td>\n",
       "      <td>18025.011551</td>\n",
       "      <td>18025.061759</td>\n",
       "      <td>4338.0</td>\n",
       "      <td>2019-05-09 00:16:38+00:00</td>\n",
       "      <td>2019-05-09 01:28:56+00:00</td>\n",
       "    </tr>\n",
       "    <tr>\n",
       "      <th>0</th>\n",
       "      <td>campanha_08/p6570130.nc</td>\n",
       "      <td>130.0</td>\n",
       "      <td>-25.974467</td>\n",
       "      <td>-45.024427</td>\n",
       "      <td>-955.872138</td>\n",
       "      <td>18025.212593</td>\n",
       "      <td>18025.264606</td>\n",
       "      <td>4494.0</td>\n",
       "      <td>2019-05-09 05:06:08+00:00</td>\n",
       "      <td>2019-05-09 06:21:02+00:00</td>\n",
       "    </tr>\n",
       "    <tr>\n",
       "      <th>0</th>\n",
       "      <td>campanha_08/p6570131.nc</td>\n",
       "      <td>131.0</td>\n",
       "      <td>-25.941250</td>\n",
       "      <td>-45.072044</td>\n",
       "      <td>-954.310767</td>\n",
       "      <td>18025.272407</td>\n",
       "      <td>18025.583044</td>\n",
       "      <td>26839.0</td>\n",
       "      <td>2019-05-09 06:32:16+00:00</td>\n",
       "      <td>2019-05-09 13:59:35+00:00</td>\n",
       "    </tr>\n",
       "    <tr>\n",
       "      <th>0</th>\n",
       "      <td>campanha_08/p6570132.nc</td>\n",
       "      <td>132.0</td>\n",
       "      <td>-25.936385</td>\n",
       "      <td>-45.091619</td>\n",
       "      <td>-952.578898</td>\n",
       "      <td>18025.597847</td>\n",
       "      <td>18025.903461</td>\n",
       "      <td>26405.0</td>\n",
       "      <td>2019-05-09 14:20:54+00:00</td>\n",
       "      <td>2019-05-09 21:40:59+00:00</td>\n",
       "    </tr>\n",
       "  </tbody>\n",
       "</table>\n",
       "<p>1445 rows × 10 columns</p>\n",
       "</div>"
      ],
      "text/plain": [
       "              file_location   dive        lat        lon  \\\n",
       "0   campanha_04/p6570724.nc  724.0 -22.865365 -43.217147   \n",
       "0   campanha_04/p6570725.nc  725.0 -22.865365 -43.217147   \n",
       "0   campanha_04/p6570726.nc  726.0 -22.865520 -43.217107   \n",
       "0   campanha_04/p6570727.nc  727.0 -22.865382 -43.217122   \n",
       "0   campanha_04/p6570728.nc  728.0 -22.865382 -43.217122   \n",
       "..                      ...    ...        ...        ...   \n",
       "0   campanha_08/p6570122.nc  122.0 -26.024040 -45.003110   \n",
       "0   campanha_08/p6570125.nc  125.0 -25.997843 -45.007407   \n",
       "0   campanha_08/p6570130.nc  130.0 -25.974467 -45.024427   \n",
       "0   campanha_08/p6570131.nc  131.0 -25.941250 -45.072044   \n",
       "0   campanha_08/p6570132.nc  132.0 -25.936385 -45.091619   \n",
       "\n",
       "    geospatial_vertical_max  time_coverage_start  time_coverage_end  \\\n",
       "0               -948.480578         17845.078345       17845.298275   \n",
       "0               -949.197425         17845.323958       17845.543947   \n",
       "0               -948.520394         17845.564236       17845.784051   \n",
       "0               -949.735057         17845.801458       17846.021493   \n",
       "0               -949.725091         17846.047106       17846.266806   \n",
       "..                      ...                  ...                ...   \n",
       "0               -956.465747         18024.679549       18024.918125   \n",
       "0               -958.129632         18025.011551       18025.061759   \n",
       "0               -955.872138         18025.212593       18025.264606   \n",
       "0               -954.310767         18025.272407       18025.583044   \n",
       "0               -952.578898         18025.597847       18025.903461   \n",
       "\n",
       "    timelapse                time_start                  time_end  \n",
       "0     19002.0 2018-11-10 01:52:49+00:00 2018-11-10 07:09:31+00:00  \n",
       "0     19007.0 2018-11-10 07:46:30+00:00 2018-11-10 13:03:17+00:00  \n",
       "0     18992.0 2018-11-10 13:32:30+00:00 2018-11-10 18:49:02+00:00  \n",
       "0     19011.0 2018-11-10 19:14:06+00:00 2018-11-11 00:30:57+00:00  \n",
       "0     18982.0 2018-11-11 01:07:50+00:00 2018-11-11 06:24:12+00:00  \n",
       "..        ...                       ...                       ...  \n",
       "0     20613.0 2019-05-08 16:18:33+00:00 2019-05-08 22:02:06+00:00  \n",
       "0      4338.0 2019-05-09 00:16:38+00:00 2019-05-09 01:28:56+00:00  \n",
       "0      4494.0 2019-05-09 05:06:08+00:00 2019-05-09 06:21:02+00:00  \n",
       "0     26839.0 2019-05-09 06:32:16+00:00 2019-05-09 13:59:35+00:00  \n",
       "0     26405.0 2019-05-09 14:20:54+00:00 2019-05-09 21:40:59+00:00  \n",
       "\n",
       "[1445 rows x 10 columns]"
      ]
     },
     "execution_count": 21,
     "metadata": {},
     "output_type": "execute_result"
    }
   ],
   "source": [
    "df_glider_log_final"
   ]
  },
  {
   "cell_type": "code",
   "execution_count": null,
   "id": "50f3eedf",
   "metadata": {},
   "outputs": [],
   "source": [
    "df_glider_log_final[]"
   ]
  }
 ],
 "metadata": {
  "kernelspec": {
   "display_name": "Python 3 (ipykernel)",
   "language": "python",
   "name": "python3"
  },
  "language_info": {
   "codemirror_mode": {
    "name": "ipython",
    "version": 3
   },
   "file_extension": ".py",
   "mimetype": "text/x-python",
   "name": "python",
   "nbconvert_exporter": "python",
   "pygments_lexer": "ipython3",
   "version": "3.10.11"
  }
 },
 "nbformat": 4,
 "nbformat_minor": 5
}
