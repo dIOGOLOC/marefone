{
 "cells": [
  {
   "cell_type": "markdown",
   "id": "aca3ef03",
   "metadata": {},
   "source": [
    "# Importando Módulos"
   ]
  },
  {
   "cell_type": "code",
   "execution_count": 1,
   "id": "19afe97f",
   "metadata": {},
   "outputs": [],
   "source": [
    "import obspy\n",
    "from obspy import Trace\n",
    "from obspy.signal.util import next_pow_2\n",
    "import glidertools as gt\n",
    "import os\n",
    "import glob\n",
    "import numpy as np\n",
    "from collections import defaultdict\n",
    "import pandas as pd\n",
    "from scipy.io import wavfile\n",
    "\n",
    "#para plotar as figuras\n",
    "import matplotlib.pyplot as plt\n",
    "from matplotlib.transforms import offset_copy\n",
    "import matplotlib.ticker as ticker\n",
    "from mpl_toolkits.axes_grid1 import make_axes_locatable\n",
    "from matplotlib.colors import ListedColormap\n",
    "import matplotlib.dates as mdates\n",
    "from mpl_toolkits.axes_grid1.inset_locator import InsetPosition,inset_axes\n",
    "import matplotlib.colors as colors\n",
    "import matplotlib.cm as cm\n",
    "from matplotlib.dates import YearLocator, MonthLocator, DayLocator, HourLocator, MinuteLocator, SecondLocator, DateFormatter\n",
    "from matplotlib.ticker import MultipleLocator, FormatStrFormatter\n",
    "import matplotlib.gridspec as gridspec\n",
    "\n",
    "from datetime import datetime,timedelta,date\n",
    "from tqdm import tqdm\n",
    "\n",
    "from shapely.geometry.polygon import LinearRing\n",
    "\n",
    "import cartopy.io.shapereader as shpreader\n",
    "import cartopy.crs as ccrs\n",
    "import cartopy.feature as cfeature\n",
    "import obspy\n",
    "import glidertools as gt\n",
    "import os\n",
    "import glob\n",
    "import numpy as np\n",
    "from collections import defaultdict\n",
    "import pandas as pd\n",
    "\n",
    "#para plotar as figuras\n",
    "import matplotlib.mlab as mlab\n",
    "import matplotlib.pyplot as plt\n",
    "from matplotlib.transforms import offset_copy\n",
    "import matplotlib.ticker as ticker\n",
    "from mpl_toolkits.axes_grid1 import make_axes_locatable\n",
    "from matplotlib.colors import ListedColormap\n",
    "import matplotlib.dates as mdates\n",
    "from mpl_toolkits.axes_grid1.inset_locator import InsetPosition,inset_axes\n",
    "import matplotlib.colors as colors\n",
    "import matplotlib.cm as cm\n",
    "from matplotlib.dates import YearLocator, MonthLocator, DayLocator, HourLocator, MinuteLocator, SecondLocator, DateFormatter\n",
    "from matplotlib.ticker import MultipleLocator, FormatStrFormatter\n",
    "\n",
    "from datetime import datetime,timedelta,date\n",
    "from tqdm import tqdm\n",
    "\n",
    "from shapely.geometry.polygon import LinearRing\n",
    "\n",
    "import cartopy.io.shapereader as shpreader\n",
    "import cartopy.crs as ccrs\n",
    "import cartopy.feature as cfeature\n"
   ]
  },
  {
   "cell_type": "markdown",
   "id": "ee8328f5",
   "metadata": {},
   "source": [
    "# Inputs e outputs "
   ]
  },
  {
   "cell_type": "code",
   "execution_count": 2,
   "id": "f384b0a7",
   "metadata": {},
   "outputs": [],
   "source": [
    "FOLDER_OUTPUT = '/home/diogoloc/dados_posdoc/gliders_project/OUTPUT/'"
   ]
  },
  {
   "cell_type": "code",
   "execution_count": 3,
   "id": "7a497dfa",
   "metadata": {},
   "outputs": [],
   "source": [
    "FOLDER_INPUT = '/home/diogoloc/dados_posdoc/gliders_project/gliders_data/conversion_test/'"
   ]
  },
  {
   "cell_type": "markdown",
   "id": "453b929b",
   "metadata": {},
   "source": [
    "# Extraindo informações dos dados brutos e reamostrados"
   ]
  },
  {
   "cell_type": "code",
   "execution_count": 4,
   "id": "d865d5b3",
   "metadata": {},
   "outputs": [],
   "source": [
    "# r=root, d=directories, f = files\n",
    "file_names = []\n",
    "for r, d, f in os.walk(FOLDER_INPUT):\n",
    "    for file in f:\n",
    "        if file.endswith(\".wav\") or file.endswith(\".mseed\"):\n",
    "            file_names.append(os.path.join(r, file))"
   ]
  },
  {
   "cell_type": "code",
   "execution_count": 5,
   "id": "4a655476",
   "metadata": {},
   "outputs": [],
   "source": [
    "file_names_mseed = sorted([i.split('/')[-1].split('.mseed')[0] for i in file_names if '.mseed' in i])\n",
    "file_names_mseed = file_names_mseed"
   ]
  },
  {
   "cell_type": "code",
   "execution_count": 6,
   "id": "d10870e8",
   "metadata": {},
   "outputs": [
    {
     "data": {
      "text/plain": [
       "['pa0008au_001_190904_023421',\n",
       " 'pa0008au_002_190904_024421',\n",
       " 'pa0008au_003_190904_025421',\n",
       " 'pa0008au_004_190904_030421',\n",
       " 'pa0008au_005_190904_031421',\n",
       " 'pa0008au_006_190904_032421',\n",
       " 'pa0008au_007_190904_033421',\n",
       " 'pa0008au_008_190904_034421',\n",
       " 'pa0008au_009_190904_035421',\n",
       " 'pa0008au_010_190904_040421',\n",
       " 'pa0009au_001_190904_091457',\n",
       " 'pa0009au_002_190904_092457',\n",
       " 'pa0009au_003_190904_093457',\n",
       " 'pa0009au_004_190904_094457',\n",
       " 'pa0009au_005_190904_095457',\n",
       " 'pa0009au_006_190904_100457',\n",
       " 'pa0009au_007_190904_101457',\n",
       " 'pa0009au_008_190904_102457',\n",
       " 'pa0009au_009_190904_103457',\n",
       " 'pa0009au_010_190904_104457']"
      ]
     },
     "execution_count": 6,
     "metadata": {},
     "output_type": "execute_result"
    }
   ],
   "source": [
    "file_names_mseed"
   ]
  },
  {
   "cell_type": "code",
   "execution_count": 7,
   "id": "bb34bb1f",
   "metadata": {},
   "outputs": [
    {
     "name": "stdout",
     "output_type": "stream",
     "text": [
      "filename: pa0008au_001_190904_023421\n"
     ]
    },
    {
     "name": "stderr",
     "output_type": "stream",
     "text": [
      "/tmp/ipykernel_24293/1712189171.py:46: WavFileWarning: Chunk (non-data) not understood, skipping it.\n",
      "  sampleratetr, datatr = wavfile.read(file_raw)\n",
      "/tmp/ipykernel_24293/1712189171.py:55: WavFileWarning: Chunk (non-data) not understood, skipping it.\n",
      "  sampleratetr_100Hz, datatr_100Hz = wavfile.read(file_100_hz_wav)\n"
     ]
    },
    {
     "name": "stdout",
     "output_type": "stream",
     "text": [
      "filename: pa0008au_002_190904_024421\n",
      "filename: pa0008au_003_190904_025421\n",
      "filename: pa0008au_004_190904_030421\n",
      "filename: pa0008au_005_190904_031421\n",
      "filename: pa0008au_006_190904_032421\n",
      "filename: pa0008au_007_190904_033421\n",
      "filename: pa0008au_008_190904_034421\n",
      "filename: pa0008au_009_190904_035421\n",
      "filename: pa0008au_010_190904_040421\n",
      "filename: pa0009au_001_190904_091457\n",
      "filename: pa0009au_002_190904_092457\n",
      "filename: pa0009au_003_190904_093457\n",
      "filename: pa0009au_004_190904_094457\n",
      "filename: pa0009au_005_190904_095457\n",
      "filename: pa0009au_006_190904_100457\n",
      "filename: pa0009au_007_190904_101457\n",
      "filename: pa0009au_008_190904_102457\n",
      "filename: pa0009au_009_190904_103457\n",
      "filename: pa0009au_010_190904_104457\n"
     ]
    },
    {
     "data": {
      "text/plain": [
       "<Figure size 1600x900 with 0 Axes>"
      ]
     },
     "metadata": {},
     "output_type": "display_data"
    },
    {
     "data": {
      "text/plain": [
       "<Figure size 1600x900 with 0 Axes>"
      ]
     },
     "metadata": {},
     "output_type": "display_data"
    },
    {
     "data": {
      "text/plain": [
       "<Figure size 1600x900 with 0 Axes>"
      ]
     },
     "metadata": {},
     "output_type": "display_data"
    },
    {
     "data": {
      "text/plain": [
       "<Figure size 1600x900 with 0 Axes>"
      ]
     },
     "metadata": {},
     "output_type": "display_data"
    },
    {
     "data": {
      "text/plain": [
       "<Figure size 1600x900 with 0 Axes>"
      ]
     },
     "metadata": {},
     "output_type": "display_data"
    },
    {
     "data": {
      "text/plain": [
       "<Figure size 1600x900 with 0 Axes>"
      ]
     },
     "metadata": {},
     "output_type": "display_data"
    },
    {
     "data": {
      "text/plain": [
       "<Figure size 1600x900 with 0 Axes>"
      ]
     },
     "metadata": {},
     "output_type": "display_data"
    },
    {
     "data": {
      "text/plain": [
       "<Figure size 1600x900 with 0 Axes>"
      ]
     },
     "metadata": {},
     "output_type": "display_data"
    },
    {
     "data": {
      "text/plain": [
       "<Figure size 1600x900 with 0 Axes>"
      ]
     },
     "metadata": {},
     "output_type": "display_data"
    },
    {
     "data": {
      "text/plain": [
       "<Figure size 1600x900 with 0 Axes>"
      ]
     },
     "metadata": {},
     "output_type": "display_data"
    },
    {
     "data": {
      "text/plain": [
       "<Figure size 1600x900 with 0 Axes>"
      ]
     },
     "metadata": {},
     "output_type": "display_data"
    },
    {
     "data": {
      "text/plain": [
       "<Figure size 1600x900 with 0 Axes>"
      ]
     },
     "metadata": {},
     "output_type": "display_data"
    },
    {
     "data": {
      "text/plain": [
       "<Figure size 1600x900 with 0 Axes>"
      ]
     },
     "metadata": {},
     "output_type": "display_data"
    },
    {
     "data": {
      "text/plain": [
       "<Figure size 1600x900 with 0 Axes>"
      ]
     },
     "metadata": {},
     "output_type": "display_data"
    },
    {
     "data": {
      "text/plain": [
       "<Figure size 1600x900 with 0 Axes>"
      ]
     },
     "metadata": {},
     "output_type": "display_data"
    },
    {
     "data": {
      "text/plain": [
       "<Figure size 1600x900 with 0 Axes>"
      ]
     },
     "metadata": {},
     "output_type": "display_data"
    },
    {
     "data": {
      "text/plain": [
       "<Figure size 1600x900 with 0 Axes>"
      ]
     },
     "metadata": {},
     "output_type": "display_data"
    },
    {
     "data": {
      "text/plain": [
       "<Figure size 1600x900 with 0 Axes>"
      ]
     },
     "metadata": {},
     "output_type": "display_data"
    },
    {
     "data": {
      "text/plain": [
       "<Figure size 1600x900 with 0 Axes>"
      ]
     },
     "metadata": {},
     "output_type": "display_data"
    },
    {
     "data": {
      "text/plain": [
       "<Figure size 1600x900 with 0 Axes>"
      ]
     },
     "metadata": {},
     "output_type": "display_data"
    },
    {
     "data": {
      "text/plain": [
       "<Figure size 1600x900 with 0 Axes>"
      ]
     },
     "metadata": {},
     "output_type": "display_data"
    },
    {
     "data": {
      "text/plain": [
       "<Figure size 1600x900 with 0 Axes>"
      ]
     },
     "metadata": {},
     "output_type": "display_data"
    },
    {
     "data": {
      "text/plain": [
       "<Figure size 1600x900 with 0 Axes>"
      ]
     },
     "metadata": {},
     "output_type": "display_data"
    },
    {
     "data": {
      "text/plain": [
       "<Figure size 1600x900 with 0 Axes>"
      ]
     },
     "metadata": {},
     "output_type": "display_data"
    },
    {
     "data": {
      "text/plain": [
       "<Figure size 1600x900 with 0 Axes>"
      ]
     },
     "metadata": {},
     "output_type": "display_data"
    },
    {
     "data": {
      "text/plain": [
       "<Figure size 1600x900 with 0 Axes>"
      ]
     },
     "metadata": {},
     "output_type": "display_data"
    },
    {
     "data": {
      "text/plain": [
       "<Figure size 1600x900 with 0 Axes>"
      ]
     },
     "metadata": {},
     "output_type": "display_data"
    },
    {
     "data": {
      "text/plain": [
       "<Figure size 1600x900 with 0 Axes>"
      ]
     },
     "metadata": {},
     "output_type": "display_data"
    },
    {
     "data": {
      "text/plain": [
       "<Figure size 1600x900 with 0 Axes>"
      ]
     },
     "metadata": {},
     "output_type": "display_data"
    },
    {
     "data": {
      "text/plain": [
       "<Figure size 1600x900 with 0 Axes>"
      ]
     },
     "metadata": {},
     "output_type": "display_data"
    },
    {
     "data": {
      "text/plain": [
       "<Figure size 1600x900 with 0 Axes>"
      ]
     },
     "metadata": {},
     "output_type": "display_data"
    },
    {
     "data": {
      "text/plain": [
       "<Figure size 1600x900 with 0 Axes>"
      ]
     },
     "metadata": {},
     "output_type": "display_data"
    },
    {
     "data": {
      "text/plain": [
       "<Figure size 1600x900 with 0 Axes>"
      ]
     },
     "metadata": {},
     "output_type": "display_data"
    },
    {
     "data": {
      "text/plain": [
       "<Figure size 1600x900 with 0 Axes>"
      ]
     },
     "metadata": {},
     "output_type": "display_data"
    },
    {
     "data": {
      "text/plain": [
       "<Figure size 1600x900 with 0 Axes>"
      ]
     },
     "metadata": {},
     "output_type": "display_data"
    },
    {
     "data": {
      "text/plain": [
       "<Figure size 1600x900 with 0 Axes>"
      ]
     },
     "metadata": {},
     "output_type": "display_data"
    },
    {
     "data": {
      "text/plain": [
       "<Figure size 1600x900 with 0 Axes>"
      ]
     },
     "metadata": {},
     "output_type": "display_data"
    },
    {
     "data": {
      "text/plain": [
       "<Figure size 1600x900 with 0 Axes>"
      ]
     },
     "metadata": {},
     "output_type": "display_data"
    },
    {
     "data": {
      "text/plain": [
       "<Figure size 1600x900 with 0 Axes>"
      ]
     },
     "metadata": {},
     "output_type": "display_data"
    },
    {
     "data": {
      "text/plain": [
       "<Figure size 1600x900 with 0 Axes>"
      ]
     },
     "metadata": {},
     "output_type": "display_data"
    },
    {
     "data": {
      "text/plain": [
       "<Figure size 1600x900 with 0 Axes>"
      ]
     },
     "metadata": {},
     "output_type": "display_data"
    },
    {
     "data": {
      "text/plain": [
       "<Figure size 1600x900 with 0 Axes>"
      ]
     },
     "metadata": {},
     "output_type": "display_data"
    },
    {
     "data": {
      "text/plain": [
       "<Figure size 1600x900 with 0 Axes>"
      ]
     },
     "metadata": {},
     "output_type": "display_data"
    },
    {
     "data": {
      "text/plain": [
       "<Figure size 1600x900 with 0 Axes>"
      ]
     },
     "metadata": {},
     "output_type": "display_data"
    },
    {
     "data": {
      "text/plain": [
       "<Figure size 1600x900 with 0 Axes>"
      ]
     },
     "metadata": {},
     "output_type": "display_data"
    },
    {
     "data": {
      "text/plain": [
       "<Figure size 1600x900 with 0 Axes>"
      ]
     },
     "metadata": {},
     "output_type": "display_data"
    },
    {
     "data": {
      "text/plain": [
       "<Figure size 1600x900 with 0 Axes>"
      ]
     },
     "metadata": {},
     "output_type": "display_data"
    },
    {
     "data": {
      "text/plain": [
       "<Figure size 1600x900 with 0 Axes>"
      ]
     },
     "metadata": {},
     "output_type": "display_data"
    },
    {
     "data": {
      "text/plain": [
       "<Figure size 1600x900 with 0 Axes>"
      ]
     },
     "metadata": {},
     "output_type": "display_data"
    },
    {
     "data": {
      "text/plain": [
       "<Figure size 1600x900 with 0 Axes>"
      ]
     },
     "metadata": {},
     "output_type": "display_data"
    },
    {
     "data": {
      "text/plain": [
       "<Figure size 1600x900 with 0 Axes>"
      ]
     },
     "metadata": {},
     "output_type": "display_data"
    },
    {
     "data": {
      "text/plain": [
       "<Figure size 1600x900 with 0 Axes>"
      ]
     },
     "metadata": {},
     "output_type": "display_data"
    },
    {
     "data": {
      "text/plain": [
       "<Figure size 1600x900 with 0 Axes>"
      ]
     },
     "metadata": {},
     "output_type": "display_data"
    },
    {
     "data": {
      "text/plain": [
       "<Figure size 1600x900 with 0 Axes>"
      ]
     },
     "metadata": {},
     "output_type": "display_data"
    },
    {
     "data": {
      "text/plain": [
       "<Figure size 1600x900 with 0 Axes>"
      ]
     },
     "metadata": {},
     "output_type": "display_data"
    },
    {
     "data": {
      "text/plain": [
       "<Figure size 1600x900 with 0 Axes>"
      ]
     },
     "metadata": {},
     "output_type": "display_data"
    },
    {
     "data": {
      "text/plain": [
       "<Figure size 1600x900 with 0 Axes>"
      ]
     },
     "metadata": {},
     "output_type": "display_data"
    },
    {
     "data": {
      "text/plain": [
       "<Figure size 1600x900 with 0 Axes>"
      ]
     },
     "metadata": {},
     "output_type": "display_data"
    },
    {
     "data": {
      "text/plain": [
       "<Figure size 1600x900 with 0 Axes>"
      ]
     },
     "metadata": {},
     "output_type": "display_data"
    },
    {
     "data": {
      "text/plain": [
       "<Figure size 1600x900 with 0 Axes>"
      ]
     },
     "metadata": {},
     "output_type": "display_data"
    }
   ],
   "source": [
    "for filename in file_names_mseed:\n",
    "    print('filename:',filename)\n",
    "    # Retrieving header informations\n",
    "    if 'pa' in filename.split('_')[0]:\n",
    "        mergulho = filename.split('_')[0].split('a')[1]\n",
    "        stream_number = filename.split('_')[1]\n",
    "\n",
    "        year_month_day = filename.split('_')[2]\n",
    "        hour_minute_second = filename.split('_')[3].split('.')[0]\n",
    "\n",
    "        year = int('20'+year_month_day[:2])\n",
    "        month = int(year_month_day[2:4])\n",
    "        day = int(year_month_day[4:])\n",
    "\n",
    "        hour = int(hour_minute_second[:2])\n",
    "        minute = int(hour_minute_second[2:4])\n",
    "        second = int(hour_minute_second[4:])\n",
    "\n",
    "        d = obspy.UTCDateTime(datetime(year,month,day,hour,minute,second).isoformat())\n",
    "\n",
    "    if 'pa' in filename.split('_')[2]:\n",
    "\n",
    "        mergulho = filename.split('_')[2].split('a')[1]\n",
    "        stream_number = filename.split('_')[3]\n",
    "\n",
    "        year_month_day = filename.split('_')[0]\n",
    "        hour_minute_second = filename.split('_')[1].split('.')[0]\n",
    "\n",
    "        year = int('20'+year_month_day[:2])\n",
    "        month = int(year_month_day[2:4])\n",
    "        day = int(year_month_day[4:])\n",
    "\n",
    "        hour = int(hour_minute_second[:2])\n",
    "        minute = int(hour_minute_second[2:4])\n",
    "        second = int(hour_minute_second[4:])\n",
    "\n",
    "        d = obspy.UTCDateTime(datetime(year,month,day,hour,minute,second).isoformat())\n",
    "    \n",
    "    # --------------------------------------------------------------------------\n",
    "    files_f = [k for k in file_names if filename in k]\n",
    "    file_raw = [w for w in files_f if 'wav_raw' in w][0]\n",
    "    file_100_hz_wav = [w for w in files_f if 'Resample_100hz' in w][0]\n",
    "    file_100_hz_mseed = [w for w in files_f if 'mseed' in w][0]\n",
    "   \n",
    "    #wav raw\n",
    "    sampleratetr, datatr = wavfile.read(file_raw)\n",
    "    tr = Trace(data=datatr)\n",
    "    tr.stats.sampling_rate = sampleratetr\n",
    "    tr.stats.starttime = d \n",
    "    tr.detrend('linear')\n",
    "    tr.detrend('demean')\n",
    "    tr.taper(type='cosine', max_percentage=0.05)\n",
    "\n",
    "    #wav 100 Hz\n",
    "    sampleratetr_100Hz, datatr_100Hz = wavfile.read(file_100_hz_wav)\n",
    "    tr_100Hz = Trace(data=datatr_100Hz)\n",
    "    tr_100Hz.stats.sampling_rate = sampleratetr_100Hz\n",
    "    tr_100Hz.stats.starttime = d \n",
    "    tr_100Hz.detrend('linear')\n",
    "    tr_100Hz.detrend('demean')\n",
    "    tr_100Hz.taper(type='cosine', max_percentage=0.05)\n",
    "    \n",
    "    #mseed 100 Hz\n",
    "    tr_100_hz_mseed = obspy.read(file_100_hz_mseed)[0]\n",
    "    tr_100_hz_mseed.detrend('linear')\n",
    "    tr_100_hz_mseed.detrend('demean')\n",
    "    tr_100_hz_mseed.taper(type='cosine', max_percentage=0.05)\n",
    "    \n",
    "\n",
    "    dat = [tr,tr_100Hz,tr_100_hz_mseed]\n",
    "    \n",
    "    files_f_label = ['Dados brutos (.wav)','Reamostrados via REAPER','Reamostrados via OBSPY']\n",
    "    files_save_label = ['_RAW','_REAPER','_OBSPY']\n",
    "    \n",
    "    for i in range(3):\n",
    "        fig = plt.figure(figsize=(16,9))\n",
    "\n",
    "\n",
    "        gs0 = gridspec.GridSpec(2, 3, figure=fig)\n",
    "\n",
    "        ax1 = fig.add_subplot(gs0[0, 0:2])\n",
    "        ax2 = fig.add_subplot(gs0[1, 0:2],sharex=ax1)\n",
    "        ax3 = fig.add_subplot(gs0[0, 2])\n",
    "        ax4 = fig.add_subplot(gs0[1, 2],sharey=ax2)\n",
    "\n",
    "        winlen = int(4 * dat[i].stats.sampling_rate)\n",
    "        ax1.plot(dat[i].times('matplotlib'),dat[i].data,'-k')\n",
    "        ax1.set_ylabel('Amplitude [counts]')\n",
    "        # -----------------------------------------------------------------------------------------\n",
    "\n",
    "        powerSpectrum, frequenciesFound, time, imageAxis = ax2.specgram(dat[i].data, Fs=dat[i].stats.sampling_rate,xextent=(dat[i].times('matplotlib')[0],dat[i].times('matplotlib')[-1]))\n",
    "        ax2.set_ylabel('Frequência [Hz]', fontsize=12,va='bottom')\n",
    "\n",
    "        locator = mdates.AutoDateLocator(minticks=9, maxticks=14)\n",
    "        formatter = mdates.ConciseDateFormatter(locator)\n",
    "        ax2.xaxis.set_major_locator(locator)\n",
    "        ax2.xaxis.set_major_formatter(formatter)\n",
    "        mins2 = MinuteLocator(interval=1)\n",
    "        mins1 = SecondLocator(interval=10)\n",
    "        ax2.xaxis.set_major_locator(mins2)\n",
    "        ax2.xaxis.set_minor_locator(mins1)\n",
    "\n",
    "        # -----------------------------------------------------------------------------------------\n",
    "        ax3.text(0,0.7,files_f_label[i],fontsize=20)\n",
    "        ax3.text(0,0.5,'Duração: '+str(round(abs((dat[i].stats.starttime - dat[i].stats.endtime)/60),2))+' min',fontsize=20)\n",
    "        ax3.text(0,0.3,'Taxa de amostragem: '+str(dat[i].stats.sampling_rate)+' Hz',fontsize=20)\n",
    "        ax3.text(0,0.1,'Número de amostras:'+str(dat[i].stats.npts),fontsize=20)\n",
    "        ax3.axis('off')\n",
    "\n",
    "        # -----------------------------------------------------------------------------------------\n",
    "\n",
    "        t = np.array([obspy.UTCDateTime(k + dat[i].stats.starttime.timestamp) for k in time])\n",
    "        median = np.percentile(powerSpectrum, axis=1, q=50)\n",
    "        perc_95 = np.percentile(powerSpectrum, axis=1, q=95)\n",
    "        perc_01 = np.percentile(powerSpectrum, axis=1, q=1)\n",
    "\n",
    "        ax4.plot(10 * np.log10(median),frequenciesFound,color='k',lw=0.3,label='Med.')\n",
    "        ax4.plot(10 * np.log10(perc_95),frequenciesFound,color='r',lw=0.3,label='95%')\n",
    "        ax4.plot(10 * np.log10(perc_01),frequenciesFound,color='darkgrey',lw=0.3,label='1%')\n",
    "\n",
    "        ax4.set_xlabel('PSD [dB][counts]')\n",
    "        ax4.yaxis.set_label_position(\"right\")\n",
    "        ax4.yaxis.set_ticks_position(\"right\")\n",
    "        ax4.yaxis.set_major_locator(MultipleLocator(10))\n",
    "        ax4.yaxis.set_minor_locator(MultipleLocator(5))\n",
    "        ax4.xaxis.set_major_locator(MultipleLocator(20))\n",
    "        ax4.xaxis.set_minor_locator(MultipleLocator(10))\n",
    "        ax4.legend(loc='lower left')\n",
    "\n",
    "        if i == 0:\n",
    "            ax4.yaxis.set_major_locator(MultipleLocator(10000))\n",
    "            ax4.yaxis.set_minor_locator(MultipleLocator(5000))\n",
    "    \n",
    "        output_fig = FOLDER_OUTPUT+'Figuras/'\n",
    "        os.makedirs(output_fig,exist_ok='True')\n",
    "        fig.savefig(output_fig+filename+files_save_label[i]+'_reamostragem.png', dpi='figure')\n",
    "        plt.clf()"
   ]
  },
  {
   "cell_type": "code",
   "execution_count": null,
   "id": "ebc5cc11",
   "metadata": {},
   "outputs": [],
   "source": []
  }
 ],
 "metadata": {
  "kernelspec": {
   "display_name": "Python 3 (ipykernel)",
   "language": "python",
   "name": "python3"
  },
  "language_info": {
   "codemirror_mode": {
    "name": "ipython",
    "version": 3
   },
   "file_extension": ".py",
   "mimetype": "text/x-python",
   "name": "python",
   "nbconvert_exporter": "python",
   "pygments_lexer": "ipython3",
   "version": "3.9.15"
  }
 },
 "nbformat": 4,
 "nbformat_minor": 5
}
